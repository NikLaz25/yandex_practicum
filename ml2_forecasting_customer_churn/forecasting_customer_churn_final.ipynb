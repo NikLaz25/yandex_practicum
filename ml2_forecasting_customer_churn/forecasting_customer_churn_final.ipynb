{
 "cells": [
  {
   "cell_type": "markdown",
   "metadata": {
    "toc": true
   },
   "source": [
    "<h1>Содержание<span class=\"tocSkip\"></span></h1>\n",
    "<div class=\"toc\"><ul class=\"toc-item\"><li><span><a href=\"#Подготовка-данных\" data-toc-modified-id=\"Подготовка-данных-1\"><span class=\"toc-item-num\">1&nbsp;&nbsp;</span>Подготовка данных</a></span><ul class=\"toc-item\"><li><span><a href=\"#Загрузим-необходимые-бибилиотеки\" data-toc-modified-id=\"Загрузим-необходимые-бибилиотеки-1.1\"><span class=\"toc-item-num\">1.1&nbsp;&nbsp;</span>Загрузим необходимые бибилиотеки</a></span></li><li><span><a href=\"#Загрузим-данные\" data-toc-modified-id=\"Загрузим-данные-1.2\"><span class=\"toc-item-num\">1.2&nbsp;&nbsp;</span>Загрузим данные</a></span></li><li><span><a href=\"#Наименования-полей\" data-toc-modified-id=\"Наименования-полей-1.3\"><span class=\"toc-item-num\">1.3&nbsp;&nbsp;</span>Наименования полей</a></span></li><li><span><a href=\"#Выбросы\" data-toc-modified-id=\"Выбросы-1.4\"><span class=\"toc-item-num\">1.4&nbsp;&nbsp;</span>Выбросы</a></span></li><li><span><a href=\"#Обработка-пропусков\" data-toc-modified-id=\"Обработка-пропусков-1.5\"><span class=\"toc-item-num\">1.5&nbsp;&nbsp;</span>Обработка пропусков</a></span></li><li><span><a href=\"#Дубликаты\" data-toc-modified-id=\"Дубликаты-1.6\"><span class=\"toc-item-num\">1.6&nbsp;&nbsp;</span>Дубликаты</a></span></li></ul></li><li><span><a href=\"#Проведение-исследования-задачи\" data-toc-modified-id=\"Проведение-исследования-задачи-2\"><span class=\"toc-item-num\">2&nbsp;&nbsp;</span>Проведение исследования задачи</a></span><ul class=\"toc-item\"><li><span><a href=\"#Преобразование-полей-(прямое-программирование)\" data-toc-modified-id=\"Преобразование-полей-(прямое-программирование)-2.1\"><span class=\"toc-item-num\">2.1&nbsp;&nbsp;</span>Преобразование полей (прямое программирование)</a></span></li><li><span><a href=\"#Разбивка-features-target\" data-toc-modified-id=\"Разбивка-features-target-2.2\"><span class=\"toc-item-num\">2.2&nbsp;&nbsp;</span>Разбивка features target</a></span></li><li><span><a href=\"#Разбивка-train_test_split\" data-toc-modified-id=\"Разбивка-train_test_split-2.3\"><span class=\"toc-item-num\">2.3&nbsp;&nbsp;</span>Разбивка train_test_split</a></span></li></ul></li><li><span><a href=\"#Борьба-с-дисбалансом\" data-toc-modified-id=\"Борьба-с-дисбалансом-3\"><span class=\"toc-item-num\">3&nbsp;&nbsp;</span>Борьба с дисбалансом</a></span><ul class=\"toc-item\"><li><span><a href=\"#Масштабируем-численные-признаки-для-работы-с-линейными-моделями\" data-toc-modified-id=\"Масштабируем-численные-признаки-для-работы-с-линейными-моделями-3.1\"><span class=\"toc-item-num\">3.1&nbsp;&nbsp;</span>Масштабируем численные признаки для работы с линейными моделями</a></span></li><li><span><a href=\"#Модель-логистической-регрессии-без-учёта-дисбаланса\" data-toc-modified-id=\"Модель-логистической-регрессии-без-учёта-дисбаланса-3.2\"><span class=\"toc-item-num\">3.2&nbsp;&nbsp;</span>Модель логистической регрессии без учёта дисбаланса</a></span></li><li><span><a href=\"#Модель-дерева-решений-без-учёта-дисбаланса\" data-toc-modified-id=\"Модель-дерева-решений-без-учёта-дисбаланса-3.3\"><span class=\"toc-item-num\">3.3&nbsp;&nbsp;</span>Модель дерева решений без учёта дисбаланса</a></span></li><li><span><a href=\"#Модель-логистической-регрессии-c-учётом-дисбаланса\" data-toc-modified-id=\"Модель-логистической-регрессии-c-учётом-дисбаланса-3.4\"><span class=\"toc-item-num\">3.4&nbsp;&nbsp;</span>Модель логистической регрессии c учётом дисбаланса</a></span><ul class=\"toc-item\"><li><span><a href=\"#Для-учёта-дисбаланса-применим-upsampling\" data-toc-modified-id=\"Для-учёта-дисбаланса-применим-upsampling-3.4.1\"><span class=\"toc-item-num\">3.4.1&nbsp;&nbsp;</span>Для учёта дисбаланса применим upsampling</a></span></li><li><span><a href=\"#Для-учёта-дисбаланса-применим-балансировку-весов-классов\" data-toc-modified-id=\"Для-учёта-дисбаланса-применим-балансировку-весов-классов-3.4.2\"><span class=\"toc-item-num\">3.4.2&nbsp;&nbsp;</span>Для учёта дисбаланса применим балансировку весов классов</a></span></li></ul></li><li><span><a href=\"#Выбор-модели\" data-toc-modified-id=\"Выбор-модели-3.5\"><span class=\"toc-item-num\">3.5&nbsp;&nbsp;</span>Выбор модели</a></span></li><li><span><a href=\"#Подбор-оптимальных-гиперпараметров-для-модели-случайного-леса\" data-toc-modified-id=\"Подбор-оптимальных-гиперпараметров-для-модели-случайного-леса-3.6\"><span class=\"toc-item-num\">3.6&nbsp;&nbsp;</span>Подбор оптимальных гиперпараметров для модели случайного леса</a></span></li></ul></li><li><span><a href=\"#Тестирование-модели\" data-toc-modified-id=\"Тестирование-модели-4\"><span class=\"toc-item-num\">4&nbsp;&nbsp;</span>Тестирование модели</a></span></li><li><span><a href=\"#Общий-вывод\" data-toc-modified-id=\"Общий-вывод-5\"><span class=\"toc-item-num\">5&nbsp;&nbsp;</span>Общий вывод</a></span></li></ul></div>"
   ]
  },
  {
   "cell_type": "markdown",
   "metadata": {},
   "source": [
    "# Прогнозирование оттока клиентов"
   ]
  },
  {
   "cell_type": "markdown",
   "metadata": {},
   "source": [
    "# Описание проекта\n",
    "\n",
    "Из «Бета-Банка» стали уходить клиенты. Каждый месяц. Немного, но заметно. Банковские маркетологи посчитали: сохранять текущих клиентов дешевле, чем привлекать новых.\n",
    "\n",
    "Цель проекта:\n",
    "\n",
    "Необходимо спрогнозировать, уйдёт клиент из банка в ближайшее время или нет. Предоставлены исторические данные о поведении клиентов и расторжении договоров с банком. \n",
    "\n",
    "Построим модель с предельно большим значением *F1*-меры (целевой уровень метрики не ниже 0.59). Проверьте *F1*-меру на тестовой выборке самостоятельно.\n",
    "\n",
    "Дополнительно измерим *AUC-ROC*, сравним её значение с *F1*-мерой.\n",
    "\n",
    "План работы:\n",
    "\n",
    "1. Подготовка данных\n",
    "2. Проведение исследования задачи\n",
    "3. Борьба с дисбалансом\n",
    "4. Тестирование модели\n",
    "5. Заолнение чек-листа готовности модели\n",
    "\n",
    "Источник данных: [https://www.kaggle.com/barelydedicated/bank-customer-churn-modeling](https://www.kaggle.com/barelydedicated/bank-customer-churn-modeling)"
   ]
  },
  {
   "cell_type": "markdown",
   "metadata": {},
   "source": [
    "# Описание данных\n",
    "\n",
    "Признаки\n",
    "\n",
    "\t• RowNumber — индекс строки в данных\n",
    "\t• CustomerId — уникальный идентификатор клиента\n",
    "\t• Surname — фамилия\n",
    "\t• CreditScore — кредитный рейтинг\n",
    "\t• Geography — страна проживания\n",
    "\t• Gender — пол\n",
    "\t• Age — возраст\n",
    "\t• Tenure — сколько лет человек является клиентом банка\n",
    "\t• Balance — баланс на счёте\n",
    "\t• NumOfProducts — количество продуктов банка, используемых клиентом\n",
    "\t• HasCrCard — наличие кредитной карты\n",
    "\t• IsActiveMember — активность клиента\n",
    "\t• EstimatedSalary — предполагаемая зарплата\n",
    "\n",
    "Целевой признак\n",
    "\n",
    "\t• Exited — факт ухода клиента\n"
   ]
  },
  {
   "cell_type": "markdown",
   "metadata": {},
   "source": [
    "## Подготовка данных"
   ]
  },
  {
   "cell_type": "markdown",
   "metadata": {},
   "source": [
    "### Загрузим необходимые бибилиотеки"
   ]
  },
  {
   "cell_type": "code",
   "execution_count": 1,
   "metadata": {},
   "outputs": [],
   "source": [
    "# Загрузим необходимые бибилиотеки\n",
    "import pandas as pd\n",
    "from sklearn.model_selection import train_test_split\n",
    "from sklearn.linear_model import LinearRegression\n",
    "from sklearn.tree import DecisionTreeRegressor\n",
    "from sklearn.ensemble import RandomForestRegressor\n",
    "from sklearn.linear_model import LogisticRegression\n",
    "from sklearn.ensemble import RandomForestClassifier"
   ]
  },
  {
   "cell_type": "code",
   "execution_count": 2,
   "metadata": {},
   "outputs": [],
   "source": [
    "from sklearn.tree import DecisionTreeClassifier\n",
    "from sklearn.neighbors import KNeighborsClassifier\n",
    "from sklearn.svm import SVC\n",
    "from sklearn.naive_bayes import BernoulliNB\n"
   ]
  },
  {
   "cell_type": "code",
   "execution_count": 3,
   "metadata": {},
   "outputs": [],
   "source": [
    "from matplotlib import pyplot as plt\n",
    "from sklearn.model_selection import cross_val_score\n",
    "from sklearn.metrics import f1_score\n",
    "from sklearn.utils import shuffle\n",
    "from sklearn.metrics import accuracy_score\n",
    "from sklearn.metrics import roc_curve\n",
    "from sklearn.metrics import roc_auc_score\n",
    "from sklearn.preprocessing import StandardScaler"
   ]
  },
  {
   "cell_type": "markdown",
   "metadata": {},
   "source": [
    "### Загрузим данные"
   ]
  },
  {
   "cell_type": "code",
   "execution_count": 4,
   "metadata": {},
   "outputs": [],
   "source": [
    "# загрузим данные\n",
    "data = pd.read_csv('/datasets/Churn.csv')"
   ]
  },
  {
   "cell_type": "code",
   "execution_count": 5,
   "metadata": {},
   "outputs": [
    {
     "data": {
      "text/plain": [
       "(10000, 14)"
      ]
     },
     "execution_count": 5,
     "metadata": {},
     "output_type": "execute_result"
    }
   ],
   "source": [
    "# посмотрим на размер датасета\n",
    "data.shape"
   ]
  },
  {
   "cell_type": "code",
   "execution_count": 6,
   "metadata": {},
   "outputs": [
    {
     "name": "stdout",
     "output_type": "stream",
     "text": [
      "<class 'pandas.core.frame.DataFrame'>\n",
      "RangeIndex: 10000 entries, 0 to 9999\n",
      "Data columns (total 14 columns):\n",
      " #   Column           Non-Null Count  Dtype  \n",
      "---  ------           --------------  -----  \n",
      " 0   RowNumber        10000 non-null  int64  \n",
      " 1   CustomerId       10000 non-null  int64  \n",
      " 2   Surname          10000 non-null  object \n",
      " 3   CreditScore      10000 non-null  int64  \n",
      " 4   Geography        10000 non-null  object \n",
      " 5   Gender           10000 non-null  object \n",
      " 6   Age              10000 non-null  int64  \n",
      " 7   Tenure           9091 non-null   float64\n",
      " 8   Balance          10000 non-null  float64\n",
      " 9   NumOfProducts    10000 non-null  int64  \n",
      " 10  HasCrCard        10000 non-null  int64  \n",
      " 11  IsActiveMember   10000 non-null  int64  \n",
      " 12  EstimatedSalary  10000 non-null  float64\n",
      " 13  Exited           10000 non-null  int64  \n",
      "dtypes: float64(3), int64(8), object(3)\n",
      "memory usage: 1.1+ MB\n"
     ]
    }
   ],
   "source": [
    "# посмотрим информацию по каждому полю\n",
    "data.info()"
   ]
  },
  {
   "cell_type": "markdown",
   "metadata": {},
   "source": [
    "### Наименования полей"
   ]
  },
  {
   "cell_type": "code",
   "execution_count": 7,
   "metadata": {},
   "outputs": [
    {
     "data": {
      "text/plain": [
       "Index(['RowNumber', 'CustomerId', 'Surname', 'CreditScore', 'Geography',\n",
       "       'Gender', 'Age', 'Tenure', 'Balance', 'NumOfProducts', 'HasCrCard',\n",
       "       'IsActiveMember', 'EstimatedSalary', 'Exited'],\n",
       "      dtype='object')"
      ]
     },
     "execution_count": 7,
     "metadata": {},
     "output_type": "execute_result"
    }
   ],
   "source": [
    "#  Посмотрим названия полей\n",
    "data.columns"
   ]
  },
  {
   "cell_type": "code",
   "execution_count": 8,
   "metadata": {},
   "outputs": [],
   "source": [
    "# Приведем в порядок названия полей\n",
    "data = data.rename(columns={'RowNumber':'Row_Number', 'CustomerId':'Customer_Id', 'CreditScore':'Credit_Score',\n",
    "       'NumOfProducts':'Num_Of_Products', 'HasCrCard':'Has_Cr_Card',\n",
    "       'IsActiveMember':'Is_Active_Member', 'EstimatedSalary':'Estimated_Salary'})"
   ]
  },
  {
   "cell_type": "code",
   "execution_count": 9,
   "metadata": {},
   "outputs": [],
   "source": [
    "# Переведем названия в нижний регистр\n",
    "data.columns = data.columns.str.lower()"
   ]
  },
  {
   "cell_type": "code",
   "execution_count": 10,
   "metadata": {},
   "outputs": [
    {
     "data": {
      "text/plain": [
       "Index(['row_number', 'customer_id', 'surname', 'credit_score', 'geography',\n",
       "       'gender', 'age', 'tenure', 'balance', 'num_of_products', 'has_cr_card',\n",
       "       'is_active_member', 'estimated_salary', 'exited'],\n",
       "      dtype='object')"
      ]
     },
     "execution_count": 10,
     "metadata": {},
     "output_type": "execute_result"
    }
   ],
   "source": [
    "# проверим скорректированные названия\n",
    "data.columns"
   ]
  },
  {
   "cell_type": "markdown",
   "metadata": {},
   "source": [
    "### Выбросы"
   ]
  },
  {
   "cell_type": "code",
   "execution_count": 11,
   "metadata": {},
   "outputs": [
    {
     "data": {
      "image/png": "[encoded data removed]",
      "text/plain": [
       "<Figure size 1872x1872 with 12 Axes>"
      ]
     },
     "metadata": {
      "needs_background": "light"
     },
     "output_type": "display_data"
    }
   ],
   "source": [
    "# посмотрим распределения по всем полям\n",
    "data.hist(figsize=(26,26), bins=30)\n",
    "plt.show()"
   ]
  },
  {
   "cell_type": "markdown",
   "metadata": {},
   "source": [
    "Исходя из логики рассмотренных данных все выбросы выглядят естественно. "
   ]
  },
  {
   "cell_type": "markdown",
   "metadata": {},
   "source": [
    "### Обработка пропусков"
   ]
  },
  {
   "cell_type": "code",
   "execution_count": 12,
   "metadata": {},
   "outputs": [
    {
     "data": {
      "text/plain": [
       "row_number            0\n",
       "customer_id           0\n",
       "surname               0\n",
       "credit_score          0\n",
       "geography             0\n",
       "gender                0\n",
       "age                   0\n",
       "tenure              909\n",
       "balance               0\n",
       "num_of_products       0\n",
       "has_cr_card           0\n",
       "is_active_member      0\n",
       "estimated_salary      0\n",
       "exited                0\n",
       "dtype: int64"
      ]
     },
     "execution_count": 12,
     "metadata": {},
     "output_type": "execute_result"
    }
   ],
   "source": [
    "# посмотрим пропуски\n",
    "data.isna().sum()"
   ]
  },
  {
   "cell_type": "code",
   "execution_count": 13,
   "metadata": {},
   "outputs": [
    {
     "data": {
      "text/plain": [
       "(5.0, 4.997690023099769)"
      ]
     },
     "execution_count": 13,
     "metadata": {},
     "output_type": "execute_result"
    }
   ],
   "source": [
    "# посмотрим медиану и среднее\n",
    "data['tenure'].median(), data['tenure'].mean()"
   ]
  },
  {
   "cell_type": "code",
   "execution_count": 14,
   "metadata": {},
   "outputs": [],
   "source": [
    "# заменим пропуски на медианное значение\n",
    "# data['tenure'] = data['tenure'].fillna(data['tenure'].median())"
   ]
  },
  {
   "cell_type": "code",
   "execution_count": 15,
   "metadata": {},
   "outputs": [],
   "source": [
    "# заменим пропуски на \"0\", считая, что это новые клиенты\n",
    "data['tenure'] = data['tenure'].fillna(0)\n"
   ]
  },
  {
   "cell_type": "code",
   "execution_count": 16,
   "metadata": {},
   "outputs": [
    {
     "data": {
      "text/plain": [
       "0"
      ]
     },
     "execution_count": 16,
     "metadata": {},
     "output_type": "execute_result"
    }
   ],
   "source": [
    "# проверим\n",
    "data['tenure'].isna().sum()"
   ]
  },
  {
   "cell_type": "markdown",
   "metadata": {},
   "source": [
    "### Дубликаты"
   ]
  },
  {
   "cell_type": "code",
   "execution_count": 17,
   "metadata": {},
   "outputs": [
    {
     "data": {
      "text/plain": [
       "0"
      ]
     },
     "execution_count": 17,
     "metadata": {},
     "output_type": "execute_result"
    }
   ],
   "source": [
    "data.duplicated().sum()"
   ]
  },
  {
   "cell_type": "code",
   "execution_count": 18,
   "metadata": {},
   "outputs": [
    {
     "data": {
      "text/plain": [
       "0"
      ]
     },
     "execution_count": 18,
     "metadata": {},
     "output_type": "execute_result"
    }
   ],
   "source": [
    "data['customer_id'].duplicated().sum()"
   ]
  },
  {
   "cell_type": "markdown",
   "metadata": {},
   "source": [
    "Проверка не выявила дубликатов в данных. customer_id уникальны, как и должно быть"
   ]
  },
  {
   "cell_type": "markdown",
   "metadata": {},
   "source": [
    "## Проведение исследования задачи"
   ]
  },
  {
   "cell_type": "markdown",
   "metadata": {},
   "source": [
    "### Преобразование полей (прямое программирование)"
   ]
  },
  {
   "cell_type": "markdown",
   "metadata": {},
   "source": [
    "В рамках данного пункта посмотрим поля. Уберем лишние. Для некоторых полей проведем кодировку."
   ]
  },
  {
   "cell_type": "code",
   "execution_count": 19,
   "metadata": {},
   "outputs": [
    {
     "data": {
      "text/html": [
       "<div>\n",
       "<style scoped>\n",
       "    .dataframe tbody tr th:only-of-type {\n",
       "        vertical-align: middle;\n",
       "    }\n",
       "\n",
       "    .dataframe tbody tr th {\n",
       "        vertical-align: top;\n",
       "    }\n",
       "\n",
       "    .dataframe thead th {\n",
       "        text-align: right;\n",
       "    }\n",
       "</style>\n",
       "<table border=\"1\" class=\"dataframe\">\n",
       "  <thead>\n",
       "    <tr style=\"text-align: right;\">\n",
       "      <th></th>\n",
       "      <th>row_number</th>\n",
       "      <th>customer_id</th>\n",
       "      <th>surname</th>\n",
       "      <th>credit_score</th>\n",
       "      <th>geography</th>\n",
       "      <th>gender</th>\n",
       "      <th>age</th>\n",
       "      <th>tenure</th>\n",
       "      <th>balance</th>\n",
       "      <th>num_of_products</th>\n",
       "      <th>has_cr_card</th>\n",
       "      <th>is_active_member</th>\n",
       "      <th>estimated_salary</th>\n",
       "      <th>exited</th>\n",
       "    </tr>\n",
       "  </thead>\n",
       "  <tbody>\n",
       "    <tr>\n",
       "      <th>0</th>\n",
       "      <td>1</td>\n",
       "      <td>15634602</td>\n",
       "      <td>Hargrave</td>\n",
       "      <td>619</td>\n",
       "      <td>France</td>\n",
       "      <td>Female</td>\n",
       "      <td>42</td>\n",
       "      <td>2.0</td>\n",
       "      <td>0.00</td>\n",
       "      <td>1</td>\n",
       "      <td>1</td>\n",
       "      <td>1</td>\n",
       "      <td>101348.88</td>\n",
       "      <td>1</td>\n",
       "    </tr>\n",
       "    <tr>\n",
       "      <th>1</th>\n",
       "      <td>2</td>\n",
       "      <td>15647311</td>\n",
       "      <td>Hill</td>\n",
       "      <td>608</td>\n",
       "      <td>Spain</td>\n",
       "      <td>Female</td>\n",
       "      <td>41</td>\n",
       "      <td>1.0</td>\n",
       "      <td>83807.86</td>\n",
       "      <td>1</td>\n",
       "      <td>0</td>\n",
       "      <td>1</td>\n",
       "      <td>112542.58</td>\n",
       "      <td>0</td>\n",
       "    </tr>\n",
       "    <tr>\n",
       "      <th>2</th>\n",
       "      <td>3</td>\n",
       "      <td>15619304</td>\n",
       "      <td>Onio</td>\n",
       "      <td>502</td>\n",
       "      <td>France</td>\n",
       "      <td>Female</td>\n",
       "      <td>42</td>\n",
       "      <td>8.0</td>\n",
       "      <td>159660.80</td>\n",
       "      <td>3</td>\n",
       "      <td>1</td>\n",
       "      <td>0</td>\n",
       "      <td>113931.57</td>\n",
       "      <td>1</td>\n",
       "    </tr>\n",
       "    <tr>\n",
       "      <th>3</th>\n",
       "      <td>4</td>\n",
       "      <td>15701354</td>\n",
       "      <td>Boni</td>\n",
       "      <td>699</td>\n",
       "      <td>France</td>\n",
       "      <td>Female</td>\n",
       "      <td>39</td>\n",
       "      <td>1.0</td>\n",
       "      <td>0.00</td>\n",
       "      <td>2</td>\n",
       "      <td>0</td>\n",
       "      <td>0</td>\n",
       "      <td>93826.63</td>\n",
       "      <td>0</td>\n",
       "    </tr>\n",
       "    <tr>\n",
       "      <th>4</th>\n",
       "      <td>5</td>\n",
       "      <td>15737888</td>\n",
       "      <td>Mitchell</td>\n",
       "      <td>850</td>\n",
       "      <td>Spain</td>\n",
       "      <td>Female</td>\n",
       "      <td>43</td>\n",
       "      <td>2.0</td>\n",
       "      <td>125510.82</td>\n",
       "      <td>1</td>\n",
       "      <td>1</td>\n",
       "      <td>1</td>\n",
       "      <td>79084.10</td>\n",
       "      <td>0</td>\n",
       "    </tr>\n",
       "  </tbody>\n",
       "</table>\n",
       "</div>"
      ],
      "text/plain": [
       "   row_number  customer_id   surname  credit_score geography  gender  age  \\\n",
       "0           1     15634602  Hargrave           619    France  Female   42   \n",
       "1           2     15647311      Hill           608     Spain  Female   41   \n",
       "2           3     15619304      Onio           502    France  Female   42   \n",
       "3           4     15701354      Boni           699    France  Female   39   \n",
       "4           5     15737888  Mitchell           850     Spain  Female   43   \n",
       "\n",
       "   tenure    balance  num_of_products  has_cr_card  is_active_member  \\\n",
       "0     2.0       0.00                1            1                 1   \n",
       "1     1.0   83807.86                1            0                 1   \n",
       "2     8.0  159660.80                3            1                 0   \n",
       "3     1.0       0.00                2            0                 0   \n",
       "4     2.0  125510.82                1            1                 1   \n",
       "\n",
       "   estimated_salary  exited  \n",
       "0         101348.88       1  \n",
       "1         112542.58       0  \n",
       "2         113931.57       1  \n",
       "3          93826.63       0  \n",
       "4          79084.10       0  "
      ]
     },
     "execution_count": 19,
     "metadata": {},
     "output_type": "execute_result"
    }
   ],
   "source": [
    "data.head()"
   ]
  },
  {
   "cell_type": "code",
   "execution_count": 20,
   "metadata": {},
   "outputs": [],
   "source": [
    "# поле surname явно лишнее. Удалим его.\n",
    "data.drop(columns='surname', inplace=True)"
   ]
  },
  {
   "cell_type": "code",
   "execution_count": 21,
   "metadata": {},
   "outputs": [],
   "source": [
    "# поле surname явно лишнее. Удалим поле row_number и customer_id\n",
    "data.drop(columns='row_number', inplace=True)\n",
    "data.drop(columns='customer_id', inplace=True)"
   ]
  },
  {
   "cell_type": "code",
   "execution_count": 22,
   "metadata": {},
   "outputs": [
    {
     "data": {
      "text/plain": [
       "array(['France', 'Spain', 'Germany'], dtype=object)"
      ]
     },
     "execution_count": 22,
     "metadata": {},
     "output_type": "execute_result"
    }
   ],
   "source": [
    "# посмотрим уникальные значения поля\n",
    "data['geography'].unique()"
   ]
  },
  {
   "cell_type": "code",
   "execution_count": 23,
   "metadata": {},
   "outputs": [
    {
     "data": {
      "text/plain": [
       "array(['Female', 'Male'], dtype=object)"
      ]
     },
     "execution_count": 23,
     "metadata": {},
     "output_type": "execute_result"
    }
   ],
   "source": [
    "# посмотрим уникальные значения поля\n",
    "data['gender'].unique()"
   ]
  },
  {
   "cell_type": "code",
   "execution_count": 26,
   "metadata": {},
   "outputs": [
    {
     "data": {
      "text/html": [
       "<div>\n",
       "<style scoped>\n",
       "    .dataframe tbody tr th:only-of-type {\n",
       "        vertical-align: middle;\n",
       "    }\n",
       "\n",
       "    .dataframe tbody tr th {\n",
       "        vertical-align: top;\n",
       "    }\n",
       "\n",
       "    .dataframe thead th {\n",
       "        text-align: right;\n",
       "    }\n",
       "</style>\n",
       "<table border=\"1\" class=\"dataframe\">\n",
       "  <thead>\n",
       "    <tr style=\"text-align: right;\">\n",
       "      <th></th>\n",
       "      <th>credit_score</th>\n",
       "      <th>age</th>\n",
       "      <th>tenure</th>\n",
       "      <th>balance</th>\n",
       "      <th>num_of_products</th>\n",
       "      <th>has_cr_card</th>\n",
       "      <th>is_active_member</th>\n",
       "      <th>estimated_salary</th>\n",
       "      <th>exited</th>\n",
       "      <th>geography_Germany</th>\n",
       "      <th>geography_Spain</th>\n",
       "      <th>gender_Male</th>\n",
       "    </tr>\n",
       "  </thead>\n",
       "  <tbody>\n",
       "    <tr>\n",
       "      <th>0</th>\n",
       "      <td>619</td>\n",
       "      <td>42</td>\n",
       "      <td>2.0</td>\n",
       "      <td>0.00</td>\n",
       "      <td>1</td>\n",
       "      <td>1</td>\n",
       "      <td>1</td>\n",
       "      <td>101348.88</td>\n",
       "      <td>1</td>\n",
       "      <td>0</td>\n",
       "      <td>0</td>\n",
       "      <td>0</td>\n",
       "    </tr>\n",
       "    <tr>\n",
       "      <th>1</th>\n",
       "      <td>608</td>\n",
       "      <td>41</td>\n",
       "      <td>1.0</td>\n",
       "      <td>83807.86</td>\n",
       "      <td>1</td>\n",
       "      <td>0</td>\n",
       "      <td>1</td>\n",
       "      <td>112542.58</td>\n",
       "      <td>0</td>\n",
       "      <td>0</td>\n",
       "      <td>1</td>\n",
       "      <td>0</td>\n",
       "    </tr>\n",
       "    <tr>\n",
       "      <th>2</th>\n",
       "      <td>502</td>\n",
       "      <td>42</td>\n",
       "      <td>8.0</td>\n",
       "      <td>159660.80</td>\n",
       "      <td>3</td>\n",
       "      <td>1</td>\n",
       "      <td>0</td>\n",
       "      <td>113931.57</td>\n",
       "      <td>1</td>\n",
       "      <td>0</td>\n",
       "      <td>0</td>\n",
       "      <td>0</td>\n",
       "    </tr>\n",
       "    <tr>\n",
       "      <th>3</th>\n",
       "      <td>699</td>\n",
       "      <td>39</td>\n",
       "      <td>1.0</td>\n",
       "      <td>0.00</td>\n",
       "      <td>2</td>\n",
       "      <td>0</td>\n",
       "      <td>0</td>\n",
       "      <td>93826.63</td>\n",
       "      <td>0</td>\n",
       "      <td>0</td>\n",
       "      <td>0</td>\n",
       "      <td>0</td>\n",
       "    </tr>\n",
       "    <tr>\n",
       "      <th>4</th>\n",
       "      <td>850</td>\n",
       "      <td>43</td>\n",
       "      <td>2.0</td>\n",
       "      <td>125510.82</td>\n",
       "      <td>1</td>\n",
       "      <td>1</td>\n",
       "      <td>1</td>\n",
       "      <td>79084.10</td>\n",
       "      <td>0</td>\n",
       "      <td>0</td>\n",
       "      <td>1</td>\n",
       "      <td>0</td>\n",
       "    </tr>\n",
       "  </tbody>\n",
       "</table>\n",
       "</div>"
      ],
      "text/plain": [
       "   credit_score  age  tenure    balance  num_of_products  has_cr_card  \\\n",
       "0           619   42     2.0       0.00                1            1   \n",
       "1           608   41     1.0   83807.86                1            0   \n",
       "2           502   42     8.0  159660.80                3            1   \n",
       "3           699   39     1.0       0.00                2            0   \n",
       "4           850   43     2.0  125510.82                1            1   \n",
       "\n",
       "   is_active_member  estimated_salary  exited  geography_Germany  \\\n",
       "0                 1         101348.88       1                  0   \n",
       "1                 1         112542.58       0                  0   \n",
       "2                 0         113931.57       1                  0   \n",
       "3                 0          93826.63       0                  0   \n",
       "4                 1          79084.10       0                  0   \n",
       "\n",
       "   geography_Spain  gender_Male  \n",
       "0                0            0  \n",
       "1                1            0  \n",
       "2                0            0  \n",
       "3                0            0  \n",
       "4                1            0  "
      ]
     },
     "execution_count": 26,
     "metadata": {},
     "output_type": "execute_result"
    }
   ],
   "source": [
    "# для дальнейшего применения логистической регрессии или случайного леса проведем прямое кодирование полей для всего датасета\n",
    "data_dummies = pd.get_dummies(data,drop_first=True)\n",
    "data_dummies.head()"
   ]
  },
  {
   "cell_type": "code",
   "execution_count": 27,
   "metadata": {},
   "outputs": [
    {
     "data": {
      "text/plain": [
       "Index(['credit_score', 'age', 'tenure', 'balance', 'num_of_products',\n",
       "       'has_cr_card', 'is_active_member', 'estimated_salary', 'exited',\n",
       "       'geography_Germany', 'geography_Spain', 'gender_Male'],\n",
       "      dtype='object')"
      ]
     },
     "execution_count": 27,
     "metadata": {},
     "output_type": "execute_result"
    }
   ],
   "source": [
    "data_dummies.columns"
   ]
  },
  {
   "cell_type": "code",
   "execution_count": 28,
   "metadata": {},
   "outputs": [],
   "source": [
    "data_dummies = data_dummies.rename(\n",
    "    columns={'geography_Germany':'geography_germany', 'geography_Spain':'geography_spain', 'gender_Male':'gender_male'})"
   ]
  },
  {
   "cell_type": "code",
   "execution_count": 29,
   "metadata": {},
   "outputs": [
    {
     "data": {
      "text/html": [
       "<div>\n",
       "<style scoped>\n",
       "    .dataframe tbody tr th:only-of-type {\n",
       "        vertical-align: middle;\n",
       "    }\n",
       "\n",
       "    .dataframe tbody tr th {\n",
       "        vertical-align: top;\n",
       "    }\n",
       "\n",
       "    .dataframe thead th {\n",
       "        text-align: right;\n",
       "    }\n",
       "</style>\n",
       "<table border=\"1\" class=\"dataframe\">\n",
       "  <thead>\n",
       "    <tr style=\"text-align: right;\">\n",
       "      <th></th>\n",
       "      <th>credit_score</th>\n",
       "      <th>age</th>\n",
       "      <th>tenure</th>\n",
       "      <th>balance</th>\n",
       "      <th>num_of_products</th>\n",
       "      <th>has_cr_card</th>\n",
       "      <th>is_active_member</th>\n",
       "      <th>estimated_salary</th>\n",
       "      <th>exited</th>\n",
       "      <th>geography_germany</th>\n",
       "      <th>geography_spain</th>\n",
       "      <th>gender_male</th>\n",
       "    </tr>\n",
       "  </thead>\n",
       "  <tbody>\n",
       "    <tr>\n",
       "      <th>0</th>\n",
       "      <td>619</td>\n",
       "      <td>42</td>\n",
       "      <td>2.0</td>\n",
       "      <td>0.00</td>\n",
       "      <td>1</td>\n",
       "      <td>1</td>\n",
       "      <td>1</td>\n",
       "      <td>101348.88</td>\n",
       "      <td>1</td>\n",
       "      <td>0</td>\n",
       "      <td>0</td>\n",
       "      <td>0</td>\n",
       "    </tr>\n",
       "    <tr>\n",
       "      <th>1</th>\n",
       "      <td>608</td>\n",
       "      <td>41</td>\n",
       "      <td>1.0</td>\n",
       "      <td>83807.86</td>\n",
       "      <td>1</td>\n",
       "      <td>0</td>\n",
       "      <td>1</td>\n",
       "      <td>112542.58</td>\n",
       "      <td>0</td>\n",
       "      <td>0</td>\n",
       "      <td>1</td>\n",
       "      <td>0</td>\n",
       "    </tr>\n",
       "    <tr>\n",
       "      <th>2</th>\n",
       "      <td>502</td>\n",
       "      <td>42</td>\n",
       "      <td>8.0</td>\n",
       "      <td>159660.80</td>\n",
       "      <td>3</td>\n",
       "      <td>1</td>\n",
       "      <td>0</td>\n",
       "      <td>113931.57</td>\n",
       "      <td>1</td>\n",
       "      <td>0</td>\n",
       "      <td>0</td>\n",
       "      <td>0</td>\n",
       "    </tr>\n",
       "    <tr>\n",
       "      <th>3</th>\n",
       "      <td>699</td>\n",
       "      <td>39</td>\n",
       "      <td>1.0</td>\n",
       "      <td>0.00</td>\n",
       "      <td>2</td>\n",
       "      <td>0</td>\n",
       "      <td>0</td>\n",
       "      <td>93826.63</td>\n",
       "      <td>0</td>\n",
       "      <td>0</td>\n",
       "      <td>0</td>\n",
       "      <td>0</td>\n",
       "    </tr>\n",
       "    <tr>\n",
       "      <th>4</th>\n",
       "      <td>850</td>\n",
       "      <td>43</td>\n",
       "      <td>2.0</td>\n",
       "      <td>125510.82</td>\n",
       "      <td>1</td>\n",
       "      <td>1</td>\n",
       "      <td>1</td>\n",
       "      <td>79084.10</td>\n",
       "      <td>0</td>\n",
       "      <td>0</td>\n",
       "      <td>1</td>\n",
       "      <td>0</td>\n",
       "    </tr>\n",
       "  </tbody>\n",
       "</table>\n",
       "</div>"
      ],
      "text/plain": [
       "   credit_score  age  tenure    balance  num_of_products  has_cr_card  \\\n",
       "0           619   42     2.0       0.00                1            1   \n",
       "1           608   41     1.0   83807.86                1            0   \n",
       "2           502   42     8.0  159660.80                3            1   \n",
       "3           699   39     1.0       0.00                2            0   \n",
       "4           850   43     2.0  125510.82                1            1   \n",
       "\n",
       "   is_active_member  estimated_salary  exited  geography_germany  \\\n",
       "0                 1         101348.88       1                  0   \n",
       "1                 1         112542.58       0                  0   \n",
       "2                 0         113931.57       1                  0   \n",
       "3                 0          93826.63       0                  0   \n",
       "4                 1          79084.10       0                  0   \n",
       "\n",
       "   geography_spain  gender_male  \n",
       "0                0            0  \n",
       "1                1            0  \n",
       "2                0            0  \n",
       "3                0            0  \n",
       "4                1            0  "
      ]
     },
     "execution_count": 29,
     "metadata": {},
     "output_type": "execute_result"
    }
   ],
   "source": [
    "data_dummies.head()"
   ]
  },
  {
   "cell_type": "code",
   "execution_count": 36,
   "metadata": {},
   "outputs": [
    {
     "data": {
      "text/html": [
       "<div>\n",
       "<style scoped>\n",
       "    .dataframe tbody tr th:only-of-type {\n",
       "        vertical-align: middle;\n",
       "    }\n",
       "\n",
       "    .dataframe tbody tr th {\n",
       "        vertical-align: top;\n",
       "    }\n",
       "\n",
       "    .dataframe thead th {\n",
       "        text-align: right;\n",
       "    }\n",
       "</style>\n",
       "<table border=\"1\" class=\"dataframe\">\n",
       "  <thead>\n",
       "    <tr style=\"text-align: right;\">\n",
       "      <th></th>\n",
       "      <th>credit_score</th>\n",
       "      <th>geography</th>\n",
       "      <th>gender</th>\n",
       "      <th>age</th>\n",
       "      <th>tenure</th>\n",
       "      <th>balance</th>\n",
       "      <th>num_of_products</th>\n",
       "      <th>has_cr_card</th>\n",
       "      <th>is_active_member</th>\n",
       "      <th>estimated_salary</th>\n",
       "      <th>exited</th>\n",
       "    </tr>\n",
       "  </thead>\n",
       "  <tbody>\n",
       "    <tr>\n",
       "      <th>0</th>\n",
       "      <td>619</td>\n",
       "      <td>France</td>\n",
       "      <td>Female</td>\n",
       "      <td>42</td>\n",
       "      <td>2.0</td>\n",
       "      <td>0.00</td>\n",
       "      <td>1</td>\n",
       "      <td>1</td>\n",
       "      <td>1</td>\n",
       "      <td>101348.88</td>\n",
       "      <td>1</td>\n",
       "    </tr>\n",
       "    <tr>\n",
       "      <th>1</th>\n",
       "      <td>608</td>\n",
       "      <td>Spain</td>\n",
       "      <td>Female</td>\n",
       "      <td>41</td>\n",
       "      <td>1.0</td>\n",
       "      <td>83807.86</td>\n",
       "      <td>1</td>\n",
       "      <td>0</td>\n",
       "      <td>1</td>\n",
       "      <td>112542.58</td>\n",
       "      <td>0</td>\n",
       "    </tr>\n",
       "    <tr>\n",
       "      <th>2</th>\n",
       "      <td>502</td>\n",
       "      <td>France</td>\n",
       "      <td>Female</td>\n",
       "      <td>42</td>\n",
       "      <td>8.0</td>\n",
       "      <td>159660.80</td>\n",
       "      <td>3</td>\n",
       "      <td>1</td>\n",
       "      <td>0</td>\n",
       "      <td>113931.57</td>\n",
       "      <td>1</td>\n",
       "    </tr>\n",
       "    <tr>\n",
       "      <th>3</th>\n",
       "      <td>699</td>\n",
       "      <td>France</td>\n",
       "      <td>Female</td>\n",
       "      <td>39</td>\n",
       "      <td>1.0</td>\n",
       "      <td>0.00</td>\n",
       "      <td>2</td>\n",
       "      <td>0</td>\n",
       "      <td>0</td>\n",
       "      <td>93826.63</td>\n",
       "      <td>0</td>\n",
       "    </tr>\n",
       "    <tr>\n",
       "      <th>4</th>\n",
       "      <td>850</td>\n",
       "      <td>Spain</td>\n",
       "      <td>Female</td>\n",
       "      <td>43</td>\n",
       "      <td>2.0</td>\n",
       "      <td>125510.82</td>\n",
       "      <td>1</td>\n",
       "      <td>1</td>\n",
       "      <td>1</td>\n",
       "      <td>79084.10</td>\n",
       "      <td>0</td>\n",
       "    </tr>\n",
       "  </tbody>\n",
       "</table>\n",
       "</div>"
      ],
      "text/plain": [
       "   credit_score geography  gender  age  tenure    balance  num_of_products  \\\n",
       "0           619    France  Female   42     2.0       0.00                1   \n",
       "1           608     Spain  Female   41     1.0   83807.86                1   \n",
       "2           502    France  Female   42     8.0  159660.80                3   \n",
       "3           699    France  Female   39     1.0       0.00                2   \n",
       "4           850     Spain  Female   43     2.0  125510.82                1   \n",
       "\n",
       "   has_cr_card  is_active_member  estimated_salary  exited  \n",
       "0            1                 1         101348.88       1  \n",
       "1            0                 1         112542.58       0  \n",
       "2            1                 0         113931.57       1  \n",
       "3            0                 0          93826.63       0  \n",
       "4            1                 1          79084.10       0  "
      ]
     },
     "execution_count": 36,
     "metadata": {},
     "output_type": "execute_result"
    }
   ],
   "source": [
    "data.head()"
   ]
  },
  {
   "cell_type": "markdown",
   "metadata": {},
   "source": [
    "### Разбивка features target"
   ]
  },
  {
   "cell_type": "code",
   "execution_count": 37,
   "metadata": {},
   "outputs": [],
   "source": [
    "# зададим целевой признак\n",
    "target = data_dummies['exited']"
   ]
  },
  {
   "cell_type": "code",
   "execution_count": 38,
   "metadata": {},
   "outputs": [],
   "source": [
    "# подготовим данные\n",
    "features = data_dummies.drop(['exited'], axis=1)"
   ]
  },
  {
   "cell_type": "markdown",
   "metadata": {},
   "source": [
    "### Разбивка train_test_split"
   ]
  },
  {
   "cell_type": "code",
   "execution_count": 39,
   "metadata": {},
   "outputs": [],
   "source": [
    "features_train, features_valid, target_train,target_valid = \\\n",
    "    train_test_split(features, target, test_size=0.4, random_state=12345)"
   ]
  },
  {
   "cell_type": "code",
   "execution_count": 40,
   "metadata": {},
   "outputs": [],
   "source": [
    "features_valid, features_test, target_valid, target_test = \\\n",
    "    train_test_split(features_valid, target_valid, test_size=0.5, random_state=12345)"
   ]
  },
  {
   "cell_type": "code",
   "execution_count": 41,
   "metadata": {},
   "outputs": [
    {
     "data": {
      "text/plain": [
       "((6000, 11), (2000, 11), (2000, 11))"
      ]
     },
     "execution_count": 41,
     "metadata": {},
     "output_type": "execute_result"
    }
   ],
   "source": [
    "# проверим разбивку на train, valid, test в соотношении 3:1:1\n",
    "features_train.shape, features_valid.shape, features_test.shape"
   ]
  },
  {
   "cell_type": "markdown",
   "metadata": {},
   "source": [
    "## Борьба с дисбалансом"
   ]
  },
  {
   "cell_type": "code",
   "execution_count": 42,
   "metadata": {},
   "outputs": [
    {
     "data": {
      "text/plain": [
       "0    0.7963\n",
       "1    0.2037\n",
       "Name: exited, dtype: float64"
      ]
     },
     "execution_count": 42,
     "metadata": {},
     "output_type": "execute_result"
    }
   ],
   "source": [
    "# посмотрим соотношение данных в target\n",
    "target.value_counts(normalize=True)"
   ]
  },
  {
   "cell_type": "code",
   "execution_count": 43,
   "metadata": {},
   "outputs": [
    {
     "data": {
      "image/png": "[encoded data removed]",
      "text/plain": [
       "<Figure size 432x288 with 1 Axes>"
      ]
     },
     "metadata": {
      "needs_background": "light"
     },
     "output_type": "display_data"
    }
   ],
   "source": [
    "target.plot(kind='hist', )\n",
    "plt.title('соотношение данных в target')\n",
    "plt.ylabel('True Positive Rate')\n",
    "\n",
    "plt.show()"
   ]
  },
  {
   "cell_type": "markdown",
   "metadata": {},
   "source": [
    "### Масштабируем численные признаки для работы с линейными моделями"
   ]
  },
  {
   "cell_type": "code",
   "execution_count": 44,
   "metadata": {},
   "outputs": [
    {
     "data": {
      "text/html": [
       "<div>\n",
       "<style scoped>\n",
       "    .dataframe tbody tr th:only-of-type {\n",
       "        vertical-align: middle;\n",
       "    }\n",
       "\n",
       "    .dataframe tbody tr th {\n",
       "        vertical-align: top;\n",
       "    }\n",
       "\n",
       "    .dataframe thead th {\n",
       "        text-align: right;\n",
       "    }\n",
       "</style>\n",
       "<table border=\"1\" class=\"dataframe\">\n",
       "  <thead>\n",
       "    <tr style=\"text-align: right;\">\n",
       "      <th></th>\n",
       "      <th>credit_score</th>\n",
       "      <th>age</th>\n",
       "      <th>tenure</th>\n",
       "      <th>balance</th>\n",
       "      <th>num_of_products</th>\n",
       "      <th>has_cr_card</th>\n",
       "      <th>is_active_member</th>\n",
       "      <th>estimated_salary</th>\n",
       "      <th>geography_germany</th>\n",
       "      <th>geography_spain</th>\n",
       "      <th>gender_male</th>\n",
       "    </tr>\n",
       "  </thead>\n",
       "  <tbody>\n",
       "    <tr>\n",
       "      <th>7479</th>\n",
       "      <td>567</td>\n",
       "      <td>35</td>\n",
       "      <td>8.0</td>\n",
       "      <td>153137.74</td>\n",
       "      <td>1</td>\n",
       "      <td>1</td>\n",
       "      <td>0</td>\n",
       "      <td>88659.07</td>\n",
       "      <td>0</td>\n",
       "      <td>1</td>\n",
       "      <td>1</td>\n",
       "    </tr>\n",
       "    <tr>\n",
       "      <th>3411</th>\n",
       "      <td>711</td>\n",
       "      <td>37</td>\n",
       "      <td>8.0</td>\n",
       "      <td>113899.92</td>\n",
       "      <td>1</td>\n",
       "      <td>0</td>\n",
       "      <td>0</td>\n",
       "      <td>80215.20</td>\n",
       "      <td>0</td>\n",
       "      <td>0</td>\n",
       "      <td>0</td>\n",
       "    </tr>\n",
       "    <tr>\n",
       "      <th>6027</th>\n",
       "      <td>850</td>\n",
       "      <td>44</td>\n",
       "      <td>3.0</td>\n",
       "      <td>140393.65</td>\n",
       "      <td>2</td>\n",
       "      <td>0</td>\n",
       "      <td>1</td>\n",
       "      <td>186285.52</td>\n",
       "      <td>1</td>\n",
       "      <td>0</td>\n",
       "      <td>1</td>\n",
       "    </tr>\n",
       "    <tr>\n",
       "      <th>1247</th>\n",
       "      <td>512</td>\n",
       "      <td>24</td>\n",
       "      <td>6.0</td>\n",
       "      <td>0.00</td>\n",
       "      <td>2</td>\n",
       "      <td>1</td>\n",
       "      <td>0</td>\n",
       "      <td>37654.31</td>\n",
       "      <td>0</td>\n",
       "      <td>0</td>\n",
       "      <td>1</td>\n",
       "    </tr>\n",
       "    <tr>\n",
       "      <th>3716</th>\n",
       "      <td>665</td>\n",
       "      <td>27</td>\n",
       "      <td>2.0</td>\n",
       "      <td>147435.96</td>\n",
       "      <td>1</td>\n",
       "      <td>0</td>\n",
       "      <td>0</td>\n",
       "      <td>187508.06</td>\n",
       "      <td>1</td>\n",
       "      <td>0</td>\n",
       "      <td>0</td>\n",
       "    </tr>\n",
       "  </tbody>\n",
       "</table>\n",
       "</div>"
      ],
      "text/plain": [
       "      credit_score  age  tenure    balance  num_of_products  has_cr_card  \\\n",
       "7479           567   35     8.0  153137.74                1            1   \n",
       "3411           711   37     8.0  113899.92                1            0   \n",
       "6027           850   44     3.0  140393.65                2            0   \n",
       "1247           512   24     6.0       0.00                2            1   \n",
       "3716           665   27     2.0  147435.96                1            0   \n",
       "\n",
       "      is_active_member  estimated_salary  geography_germany  geography_spain  \\\n",
       "7479                 0          88659.07                  0                1   \n",
       "3411                 0          80215.20                  0                0   \n",
       "6027                 1         186285.52                  1                0   \n",
       "1247                 0          37654.31                  0                0   \n",
       "3716                 0         187508.06                  1                0   \n",
       "\n",
       "      gender_male  \n",
       "7479            1  \n",
       "3411            0  \n",
       "6027            1  \n",
       "1247            1  \n",
       "3716            0  "
      ]
     },
     "execution_count": 44,
     "metadata": {},
     "output_type": "execute_result"
    }
   ],
   "source": [
    "features_train.head()"
   ]
  },
  {
   "cell_type": "code",
   "execution_count": 45,
   "metadata": {},
   "outputs": [
    {
     "data": {
      "text/plain": [
       "Index(['credit_score', 'age', 'tenure', 'balance', 'num_of_products',\n",
       "       'has_cr_card', 'is_active_member', 'estimated_salary',\n",
       "       'geography_germany', 'geography_spain', 'gender_male'],\n",
       "      dtype='object')"
      ]
     },
     "execution_count": 45,
     "metadata": {},
     "output_type": "execute_result"
    }
   ],
   "source": [
    "features_train.columns"
   ]
  },
  {
   "cell_type": "code",
   "execution_count": 46,
   "metadata": {},
   "outputs": [],
   "source": [
    "numeric = ['credit_score', 'age', 'tenure', 'balance', 'estimated_salary']"
   ]
  },
  {
   "cell_type": "code",
   "execution_count": 47,
   "metadata": {},
   "outputs": [],
   "source": [
    "scaler = StandardScaler()"
   ]
  },
  {
   "cell_type": "code",
   "execution_count": 48,
   "metadata": {},
   "outputs": [
    {
     "data": {
      "text/plain": [
       "StandardScaler()"
      ]
     },
     "execution_count": 48,
     "metadata": {},
     "output_type": "execute_result"
    }
   ],
   "source": [
    "scaler.fit(features_train[numeric])"
   ]
  },
  {
   "cell_type": "code",
   "execution_count": 49,
   "metadata": {},
   "outputs": [],
   "source": [
    "#  продублируем выборки для дальнейшего масштабирования\n",
    "features_train_scaler = features_train\n",
    "features_valid_scaler = features_valid\n",
    "features_test_scaler = features_test"
   ]
  },
  {
   "cell_type": "code",
   "execution_count": 50,
   "metadata": {},
   "outputs": [
    {
     "name": "stderr",
     "output_type": "stream",
     "text": [
      "/tmp/ipykernel_96/1949802727.py:2: SettingWithCopyWarning: \n",
      "A value is trying to be set on a copy of a slice from a DataFrame.\n",
      "Try using .loc[row_indexer,col_indexer] = value instead\n",
      "\n",
      "See the caveats in the documentation: https://pandas.pydata.org/pandas-docs/stable/user_guide/indexing.html#returning-a-view-versus-a-copy\n",
      "  features_train_scaler[numeric] = scaler.transform(features_train_scaler[numeric])\n",
      "/opt/conda/lib/python3.9/site-packages/pandas/core/indexing.py:1738: SettingWithCopyWarning: \n",
      "A value is trying to be set on a copy of a slice from a DataFrame.\n",
      "Try using .loc[row_indexer,col_indexer] = value instead\n",
      "\n",
      "See the caveats in the documentation: https://pandas.pydata.org/pandas-docs/stable/user_guide/indexing.html#returning-a-view-versus-a-copy\n",
      "  self._setitem_single_column(loc, value[:, i].tolist(), pi)\n"
     ]
    }
   ],
   "source": [
    "# Преобразуем выборки\n",
    "features_train_scaler[numeric] = scaler.transform(features_train_scaler[numeric])\n",
    "features_valid_scaler[numeric] = scaler.transform(features_valid_scaler[numeric])\n",
    "features_test_scaler[numeric] = scaler.transform(features_test_scaler[numeric])"
   ]
  },
  {
   "cell_type": "code",
   "execution_count": 51,
   "metadata": {},
   "outputs": [
    {
     "data": {
      "text/html": [
       "<div>\n",
       "<style scoped>\n",
       "    .dataframe tbody tr th:only-of-type {\n",
       "        vertical-align: middle;\n",
       "    }\n",
       "\n",
       "    .dataframe tbody tr th {\n",
       "        vertical-align: top;\n",
       "    }\n",
       "\n",
       "    .dataframe thead th {\n",
       "        text-align: right;\n",
       "    }\n",
       "</style>\n",
       "<table border=\"1\" class=\"dataframe\">\n",
       "  <thead>\n",
       "    <tr style=\"text-align: right;\">\n",
       "      <th></th>\n",
       "      <th>credit_score</th>\n",
       "      <th>age</th>\n",
       "      <th>tenure</th>\n",
       "      <th>balance</th>\n",
       "      <th>num_of_products</th>\n",
       "      <th>has_cr_card</th>\n",
       "      <th>is_active_member</th>\n",
       "      <th>estimated_salary</th>\n",
       "      <th>geography_germany</th>\n",
       "      <th>geography_spain</th>\n",
       "      <th>gender_male</th>\n",
       "    </tr>\n",
       "  </thead>\n",
       "  <tbody>\n",
       "    <tr>\n",
       "      <th>7479</th>\n",
       "      <td>-0.886751</td>\n",
       "      <td>-0.373192</td>\n",
       "      <td>1.104696</td>\n",
       "      <td>1.232271</td>\n",
       "      <td>1</td>\n",
       "      <td>1</td>\n",
       "      <td>0</td>\n",
       "      <td>-0.187705</td>\n",
       "      <td>0</td>\n",
       "      <td>1</td>\n",
       "      <td>1</td>\n",
       "    </tr>\n",
       "    <tr>\n",
       "      <th>3411</th>\n",
       "      <td>0.608663</td>\n",
       "      <td>-0.183385</td>\n",
       "      <td>1.104696</td>\n",
       "      <td>0.600563</td>\n",
       "      <td>1</td>\n",
       "      <td>0</td>\n",
       "      <td>0</td>\n",
       "      <td>-0.333945</td>\n",
       "      <td>0</td>\n",
       "      <td>0</td>\n",
       "      <td>0</td>\n",
       "    </tr>\n",
       "    <tr>\n",
       "      <th>6027</th>\n",
       "      <td>2.052152</td>\n",
       "      <td>0.480939</td>\n",
       "      <td>-0.503694</td>\n",
       "      <td>1.027098</td>\n",
       "      <td>2</td>\n",
       "      <td>0</td>\n",
       "      <td>1</td>\n",
       "      <td>1.503095</td>\n",
       "      <td>1</td>\n",
       "      <td>0</td>\n",
       "      <td>1</td>\n",
       "    </tr>\n",
       "    <tr>\n",
       "      <th>1247</th>\n",
       "      <td>-1.457915</td>\n",
       "      <td>-1.417129</td>\n",
       "      <td>0.461340</td>\n",
       "      <td>-1.233163</td>\n",
       "      <td>2</td>\n",
       "      <td>1</td>\n",
       "      <td>0</td>\n",
       "      <td>-1.071061</td>\n",
       "      <td>0</td>\n",
       "      <td>0</td>\n",
       "      <td>1</td>\n",
       "    </tr>\n",
       "    <tr>\n",
       "      <th>3716</th>\n",
       "      <td>0.130961</td>\n",
       "      <td>-1.132419</td>\n",
       "      <td>-0.825373</td>\n",
       "      <td>1.140475</td>\n",
       "      <td>1</td>\n",
       "      <td>0</td>\n",
       "      <td>0</td>\n",
       "      <td>1.524268</td>\n",
       "      <td>1</td>\n",
       "      <td>0</td>\n",
       "      <td>0</td>\n",
       "    </tr>\n",
       "  </tbody>\n",
       "</table>\n",
       "</div>"
      ],
      "text/plain": [
       "      credit_score       age    tenure   balance  num_of_products  \\\n",
       "7479     -0.886751 -0.373192  1.104696  1.232271                1   \n",
       "3411      0.608663 -0.183385  1.104696  0.600563                1   \n",
       "6027      2.052152  0.480939 -0.503694  1.027098                2   \n",
       "1247     -1.457915 -1.417129  0.461340 -1.233163                2   \n",
       "3716      0.130961 -1.132419 -0.825373  1.140475                1   \n",
       "\n",
       "      has_cr_card  is_active_member  estimated_salary  geography_germany  \\\n",
       "7479            1                 0         -0.187705                  0   \n",
       "3411            0                 0         -0.333945                  0   \n",
       "6027            0                 1          1.503095                  1   \n",
       "1247            1                 0         -1.071061                  0   \n",
       "3716            0                 0          1.524268                  1   \n",
       "\n",
       "      geography_spain  gender_male  \n",
       "7479                1            1  \n",
       "3411                0            0  \n",
       "6027                0            1  \n",
       "1247                0            1  \n",
       "3716                0            0  "
      ]
     },
     "execution_count": 51,
     "metadata": {},
     "output_type": "execute_result"
    }
   ],
   "source": [
    "features_train_scaler.head()"
   ]
  },
  {
   "cell_type": "markdown",
   "metadata": {},
   "source": [
    "### Модель логистической регрессии без учёта дисбаланса"
   ]
  },
  {
   "cell_type": "code",
   "execution_count": 52,
   "metadata": {},
   "outputs": [],
   "source": [
    "# инициируем модель логистической регрессии\n",
    "model_lr = LogisticRegression(random_state=12345)"
   ]
  },
  {
   "cell_type": "code",
   "execution_count": 53,
   "metadata": {},
   "outputs": [
    {
     "data": {
      "text/plain": [
       "LogisticRegression(random_state=12345)"
      ]
     },
     "execution_count": 53,
     "metadata": {},
     "output_type": "execute_result"
    }
   ],
   "source": [
    "# обучим модель\n",
    "model_lr.fit(features_train_scaler, target_train)"
   ]
  },
  {
   "cell_type": "code",
   "execution_count": 54,
   "metadata": {},
   "outputs": [
    {
     "name": "stdout",
     "output_type": "stream",
     "text": [
      "0.8185\n",
      "0.8025\n"
     ]
    }
   ],
   "source": [
    "# \n",
    "print(model_lr.score(features_train_scaler, target_train))\n",
    "print(model_lr.score(features_valid_scaler, target_valid))"
   ]
  },
  {
   "cell_type": "code",
   "execution_count": 55,
   "metadata": {},
   "outputs": [],
   "source": [
    "# спрогнозируем целевой параметр\n",
    "predicted_valid = model_lr.predict(features_valid_scaler)"
   ]
  },
  {
   "cell_type": "code",
   "execution_count": 56,
   "metadata": {},
   "outputs": [
    {
     "data": {
      "text/plain": [
       "0.33389544688026984"
      ]
     },
     "execution_count": 56,
     "metadata": {},
     "output_type": "execute_result"
    }
   ],
   "source": [
    "# получим критерий f1\n",
    "f1_score(predicted_valid, target_valid)"
   ]
  },
  {
   "cell_type": "markdown",
   "metadata": {},
   "source": [
    "### Модель дерева решений без учёта дисбаланса"
   ]
  },
  {
   "cell_type": "code",
   "execution_count": 57,
   "metadata": {},
   "outputs": [],
   "source": [
    "# инициируем модель\n",
    "model_dt = DecisionTreeClassifier(random_state=12345)"
   ]
  },
  {
   "cell_type": "code",
   "execution_count": 58,
   "metadata": {},
   "outputs": [
    {
     "data": {
      "text/plain": [
       "DecisionTreeClassifier(random_state=12345)"
      ]
     },
     "execution_count": 58,
     "metadata": {},
     "output_type": "execute_result"
    }
   ],
   "source": [
    "# обучим модель\n",
    "model_dt.fit(features_train_scaler, target_train)"
   ]
  },
  {
   "cell_type": "code",
   "execution_count": 59,
   "metadata": {},
   "outputs": [],
   "source": [
    "# спрогнозируем целевой параметр\n",
    "predicted_valid_dt = model_dt.predict(features_valid_scaler)"
   ]
  },
  {
   "cell_type": "code",
   "execution_count": 60,
   "metadata": {},
   "outputs": [
    {
     "data": {
      "text/plain": [
       "0.47990255785627284"
      ]
     },
     "execution_count": 60,
     "metadata": {},
     "output_type": "execute_result"
    }
   ],
   "source": [
    "# получим критерий f1\n",
    "f1_score(predicted_valid_dt, target_valid)"
   ]
  },
  {
   "cell_type": "markdown",
   "metadata": {},
   "source": [
    "### Модель логистической регрессии c учётом дисбаланса"
   ]
  },
  {
   "cell_type": "markdown",
   "metadata": {},
   "source": [
    "#### Для учёта дисбаланса применим upsampling"
   ]
  },
  {
   "cell_type": "code",
   "execution_count": 61,
   "metadata": {},
   "outputs": [],
   "source": [
    "# метод upsampling\n",
    "def upsample(features, target, repeat):\n",
    "    features_zeros = features[target == 0]\n",
    "    features_ones = features[target == 1]\n",
    "    target_zeros = target[target == 0]\n",
    "    target_ones = target[target == 1]\n",
    "    \n",
    "    features_upsampled = pd.concat([features_zeros] + [features_ones] * repeat)\n",
    "    target_upsampled = pd.concat([target_zeros] + [target_ones] * repeat)\n",
    "  \n",
    "    return features_upsampled, target_upsampled"
   ]
  },
  {
   "cell_type": "code",
   "execution_count": 62,
   "metadata": {},
   "outputs": [],
   "source": [
    "# применим метод upsample\n",
    "features_upsampled, target_upsampled = upsample(features_train_scaler, target_train, 4)"
   ]
  },
  {
   "cell_type": "code",
   "execution_count": 63,
   "metadata": {},
   "outputs": [],
   "source": [
    "# перемешаем строки\n",
    "features_upsampled, target_upsampled = shuffle(features_upsampled, target_upsampled, random_state=12345)"
   ]
  },
  {
   "cell_type": "code",
   "execution_count": 64,
   "metadata": {},
   "outputs": [],
   "source": [
    "# инициируем модель логистической регрессии\n",
    "model_lr_up = LogisticRegression(random_state=12345)"
   ]
  },
  {
   "cell_type": "code",
   "execution_count": 65,
   "metadata": {},
   "outputs": [
    {
     "data": {
      "text/plain": [
       "LogisticRegression(random_state=12345)"
      ]
     },
     "execution_count": 65,
     "metadata": {},
     "output_type": "execute_result"
    }
   ],
   "source": [
    "# обучим модель\n",
    "model_lr_up.fit(features_upsampled, target_upsampled)"
   ]
  },
  {
   "cell_type": "code",
   "execution_count": 66,
   "metadata": {},
   "outputs": [],
   "source": [
    "# спрогнозируем целевой параметр\n",
    "predicted_valid_up = model_lr_up.predict(features_valid_scaler)"
   ]
  },
  {
   "cell_type": "code",
   "execution_count": 67,
   "metadata": {},
   "outputs": [
    {
     "data": {
      "text/plain": [
       "0.4888888888888888"
      ]
     },
     "execution_count": 67,
     "metadata": {},
     "output_type": "execute_result"
    }
   ],
   "source": [
    "# получим критерий f1\n",
    "f1_score(predicted_valid_up, target_valid)"
   ]
  },
  {
   "cell_type": "markdown",
   "metadata": {},
   "source": [
    "Вывод: применение техники upsampling позволило поднять показатель f1 в 4.5 раза. Поэтому для дальнейшего прогноза будем использовать данные features_upsampled, target_upsampled полученные с помощью техники upsampling."
   ]
  },
  {
   "cell_type": "markdown",
   "metadata": {},
   "source": [
    "#### Для учёта дисбаланса применим балансировку весов классов"
   ]
  },
  {
   "cell_type": "code",
   "execution_count": 68,
   "metadata": {},
   "outputs": [],
   "source": [
    "# инициируем модель логистической регрессии\n",
    "model_lr_balanced = LogisticRegression(random_state=12345, solver='liblinear', class_weight='balanced')"
   ]
  },
  {
   "cell_type": "code",
   "execution_count": 69,
   "metadata": {},
   "outputs": [
    {
     "data": {
      "text/plain": [
       "LogisticRegression(class_weight='balanced', random_state=12345,\n",
       "                   solver='liblinear')"
      ]
     },
     "execution_count": 69,
     "metadata": {},
     "output_type": "execute_result"
    }
   ],
   "source": [
    "# обучим модель\n",
    "model_lr_balanced.fit(features_train_scaler, target_train)"
   ]
  },
  {
   "cell_type": "code",
   "execution_count": 70,
   "metadata": {},
   "outputs": [],
   "source": [
    "# спрогнозируем целевой параметр\n",
    "predicted_valid_balanced = model_lr_balanced.predict(features_valid_scaler)"
   ]
  },
  {
   "cell_type": "code",
   "execution_count": 71,
   "metadata": {},
   "outputs": [
    {
     "data": {
      "text/plain": [
       "0.4888888888888888"
      ]
     },
     "execution_count": 71,
     "metadata": {},
     "output_type": "execute_result"
    }
   ],
   "source": [
    "# получим критерий f1\n",
    "f1_score(predicted_valid_balanced, target_valid)"
   ]
  },
  {
   "cell_type": "markdown",
   "metadata": {},
   "source": [
    "Вывод: балансировка весов классов дала аналогичный показатель f1 как и метод upsampling"
   ]
  },
  {
   "cell_type": "markdown",
   "metadata": {},
   "source": [
    "### Выбор модели"
   ]
  },
  {
   "cell_type": "markdown",
   "metadata": {},
   "source": [
    "Дерево решений"
   ]
  },
  {
   "cell_type": "code",
   "execution_count": 72,
   "metadata": {},
   "outputs": [],
   "source": [
    "# инициируем модель\n",
    "model_dt = DecisionTreeClassifier(random_state=12345)"
   ]
  },
  {
   "cell_type": "code",
   "execution_count": 73,
   "metadata": {},
   "outputs": [
    {
     "data": {
      "text/plain": [
       "DecisionTreeClassifier(random_state=12345)"
      ]
     },
     "execution_count": 73,
     "metadata": {},
     "output_type": "execute_result"
    }
   ],
   "source": [
    "# обучим модель\n",
    "model_dt.fit(features_upsampled, target_upsampled)"
   ]
  },
  {
   "cell_type": "code",
   "execution_count": 74,
   "metadata": {},
   "outputs": [],
   "source": [
    "# спрогнозируем целевой параметр\n",
    "# predicted_valid_dt = model_dt.predict(features_valid)"
   ]
  },
  {
   "cell_type": "code",
   "execution_count": 75,
   "metadata": {},
   "outputs": [],
   "source": [
    "# спрогнозируем целевой параметр\n",
    "predicted_valid_dt = model_dt.predict(features_valid_scaler)"
   ]
  },
  {
   "cell_type": "code",
   "execution_count": 76,
   "metadata": {},
   "outputs": [
    {
     "data": {
      "text/plain": [
       "0.4575645756457565"
      ]
     },
     "execution_count": 76,
     "metadata": {},
     "output_type": "execute_result"
    }
   ],
   "source": [
    "# получим критерий f1\n",
    "f1_score(predicted_valid_dt, target_valid)"
   ]
  },
  {
   "cell_type": "markdown",
   "metadata": {},
   "source": [
    "Случайный лес"
   ]
  },
  {
   "cell_type": "code",
   "execution_count": 77,
   "metadata": {},
   "outputs": [],
   "source": [
    "# инициируем модель\n",
    "model_rf = RandomForestClassifier(random_state=12345)"
   ]
  },
  {
   "cell_type": "code",
   "execution_count": 78,
   "metadata": {},
   "outputs": [
    {
     "data": {
      "text/plain": [
       "RandomForestClassifier(random_state=12345)"
      ]
     },
     "execution_count": 78,
     "metadata": {},
     "output_type": "execute_result"
    }
   ],
   "source": [
    "# обучим модель\n",
    "model_rf.fit(features_upsampled, target_upsampled)"
   ]
  },
  {
   "cell_type": "code",
   "execution_count": 79,
   "metadata": {},
   "outputs": [],
   "source": [
    "# спрогнозируем целевой параметр\n",
    "predicted_valid_rf = model_rf.predict(features_valid_scaler)"
   ]
  },
  {
   "cell_type": "code",
   "execution_count": 80,
   "metadata": {},
   "outputs": [
    {
     "data": {
      "text/plain": [
       "0.5992010652463382"
      ]
     },
     "execution_count": 80,
     "metadata": {},
     "output_type": "execute_result"
    }
   ],
   "source": [
    "# получим критерий f1\n",
    "f1_score(predicted_valid_rf, target_valid)"
   ]
  },
  {
   "cell_type": "markdown",
   "metadata": {},
   "source": [
    "Вывод: При сравнении базовых моделей, без дополнительных гиперпараметров, наилучший результат по F1 показала модель случайного леса. Далее будем использовать её для подбора оптимальных гиперпараметров"
   ]
  },
  {
   "cell_type": "markdown",
   "metadata": {},
   "source": [
    "### Подбор оптимальных гиперпараметров для модели случайного леса"
   ]
  },
  {
   "cell_type": "markdown",
   "metadata": {},
   "source": [
    "Путём перечисления найдем оптимальное количество деревьев и глубину. В начале в крупную клетку с шагом 5-10"
   ]
  },
  {
   "cell_type": "code",
   "execution_count": 81,
   "metadata": {},
   "outputs": [
    {
     "name": "stdout",
     "output_type": "stream",
     "text": [
      "CPU times: user 18.8 s, sys: 66.6 ms, total: 18.8 s\n",
      "Wall time: 18.9 s\n"
     ]
    }
   ],
   "source": [
    "%%time\n",
    "df_result = pd.DataFrame(columns=['depth', 'n_est', 'f1'])\n",
    "# циклом просчитаем показатель f1 для разных значений гиперпараметров \n",
    "for n_est in range(10, 101, 10):\n",
    "    for depth in range(1, 25, 5):\n",
    "        model = RandomForestClassifier(n_estimators=n_est, max_depth=depth, random_state=12345)\n",
    "        model.fit(features_upsampled, target_upsampled)\n",
    "        predicted_valid = model.predict(features_valid_scaler)\n",
    "        f1 = f1_score(predicted_valid, target_valid)\n",
    "        new_row = pd.Series(data={'depth': depth, 'n_est': n_est, 'f1': f1})\n",
    "        # результаты запишем в df_result\n",
    "        df_result = df_result.append(new_row,ignore_index=True)"
   ]
  },
  {
   "cell_type": "code",
   "execution_count": 82,
   "metadata": {},
   "outputs": [
    {
     "data": {
      "text/html": [
       "<div>\n",
       "<style scoped>\n",
       "    .dataframe tbody tr th:only-of-type {\n",
       "        vertical-align: middle;\n",
       "    }\n",
       "\n",
       "    .dataframe tbody tr th {\n",
       "        vertical-align: top;\n",
       "    }\n",
       "\n",
       "    .dataframe thead th {\n",
       "        text-align: right;\n",
       "    }\n",
       "</style>\n",
       "<table border=\"1\" class=\"dataframe\">\n",
       "  <thead>\n",
       "    <tr style=\"text-align: right;\">\n",
       "      <th></th>\n",
       "      <th>depth</th>\n",
       "      <th>n_est</th>\n",
       "      <th>f1</th>\n",
       "    </tr>\n",
       "  </thead>\n",
       "  <tbody>\n",
       "    <tr>\n",
       "      <th>0</th>\n",
       "      <td>1.0</td>\n",
       "      <td>10.0</td>\n",
       "      <td>0.515917</td>\n",
       "    </tr>\n",
       "    <tr>\n",
       "      <th>1</th>\n",
       "      <td>6.0</td>\n",
       "      <td>10.0</td>\n",
       "      <td>0.588350</td>\n",
       "    </tr>\n",
       "    <tr>\n",
       "      <th>2</th>\n",
       "      <td>11.0</td>\n",
       "      <td>10.0</td>\n",
       "      <td>0.600917</td>\n",
       "    </tr>\n",
       "    <tr>\n",
       "      <th>3</th>\n",
       "      <td>16.0</td>\n",
       "      <td>10.0</td>\n",
       "      <td>0.581395</td>\n",
       "    </tr>\n",
       "    <tr>\n",
       "      <th>4</th>\n",
       "      <td>21.0</td>\n",
       "      <td>10.0</td>\n",
       "      <td>0.602410</td>\n",
       "    </tr>\n",
       "  </tbody>\n",
       "</table>\n",
       "</div>"
      ],
      "text/plain": [
       "   depth  n_est        f1\n",
       "0    1.0   10.0  0.515917\n",
       "1    6.0   10.0  0.588350\n",
       "2   11.0   10.0  0.600917\n",
       "3   16.0   10.0  0.581395\n",
       "4   21.0   10.0  0.602410"
      ]
     },
     "execution_count": 82,
     "metadata": {},
     "output_type": "execute_result"
    }
   ],
   "source": [
    "df_result.head()"
   ]
  },
  {
   "cell_type": "code",
   "execution_count": 83,
   "metadata": {},
   "outputs": [
    {
     "data": {
      "image/png": "[encoded data removed]",
      "text/plain": [
       "<Figure size 864x360 with 1 Axes>"
      ]
     },
     "metadata": {
      "needs_background": "light"
     },
     "output_type": "display_data"
    }
   ],
   "source": [
    "# Построим Графики гиперпараметров модели случайного леса\n",
    "fig, ax = plt.subplots()\n",
    "for i in df_result['n_est'].unique():\n",
    "    df_result[df_result['n_est'] == i].plot(x = 'depth', y = 'f1', ax=ax, style='o-', \\\n",
    "                                             grid=True, figsize=(12, 5), legend=True, label='n_est = %s'%i)\n",
    "plt.title('Графики гиперпараметров модели случайного леса')\n",
    "plt.ylabel('F1')\n",
    "plt.show()"
   ]
  },
  {
   "cell_type": "code",
   "execution_count": 84,
   "metadata": {},
   "outputs": [
    {
     "name": "stdout",
     "output_type": "stream",
     "text": [
      "Наилучший показатель f1 0.6185567010309279\n"
     ]
    }
   ],
   "source": [
    "print('Наилучший показатель f1', float(df_result[(df_result['n_est'] == 100) & (df_result['depth'] == 11)]['f1']))"
   ]
  },
  {
   "cell_type": "markdown",
   "metadata": {},
   "source": [
    "Вывод: Наилучший показаталь модель случайного леса f1 = 0.6185 при гиперпараметрах Глубина = 11 Количество деревьев = 100"
   ]
  },
  {
   "cell_type": "markdown",
   "metadata": {},
   "source": [
    "## Тестирование модели"
   ]
  },
  {
   "cell_type": "code",
   "execution_count": 85,
   "metadata": {},
   "outputs": [
    {
     "name": "stdout",
     "output_type": "stream",
     "text": [
      "f1 модели с наилучшими гиперпараметрами 0.5990990990990991\n"
     ]
    }
   ],
   "source": [
    "# Повторим расчёт модели с наилучшими гиперпараметрами на тестовой выборке\n",
    "model = RandomForestClassifier(n_estimators=100, max_depth=11, random_state=12345)\n",
    "model.fit(features_upsampled, target_upsampled)\n",
    "predicted_test = model.predict(features_test_scaler)\n",
    "f1 = f1_score(predicted_test, target_test)\n",
    "print('f1 модели с наилучшими гиперпараметрами', f1)"
   ]
  },
  {
   "cell_type": "markdown",
   "metadata": {},
   "source": [
    "Проведем проверку модели на адекватность, путём сравнения со случайной моделью."
   ]
  },
  {
   "cell_type": "code",
   "execution_count": 86,
   "metadata": {},
   "outputs": [],
   "source": [
    "# Создадим объект target_pred_constant где все ответы = 0\n",
    "target_pred_constant = pd.Series(list(0 for z in range(len(target_test))))"
   ]
  },
  {
   "cell_type": "code",
   "execution_count": 87,
   "metadata": {},
   "outputs": [
    {
     "name": "stdout",
     "output_type": "stream",
     "text": [
      "Для правильных ответов accuracy в полученной модели 0.822\n",
      "Для правильных ответов accuracy в случайной модели 0.7885\n"
     ]
    }
   ],
   "source": [
    "print('Для правильных ответов accuracy в полученной модели', accuracy_score(target_test, predicted_test))\n",
    "print('Для правильных ответов accuracy в случайной модели', accuracy_score(target_test, target_pred_constant))"
   ]
  },
  {
   "cell_type": "markdown",
   "metadata": {},
   "source": [
    "Вывод: Проверка на адекватность показала, что доля пралильных ответов accuracy в полученной модели выше чем аналогичный показатель случайной модели. Делаем вывод, что полученная нами модель является полезной."
   ]
  },
  {
   "cell_type": "code",
   "execution_count": 88,
   "metadata": {},
   "outputs": [],
   "source": [
    "# Рассчитаем вероятность для построения ROC - кривой\n",
    "probabilities_test = model.predict_proba(features_test_scaler)\n",
    "probabilities_one_test = probabilities_test[:, 1]"
   ]
  },
  {
   "cell_type": "code",
   "execution_count": 89,
   "metadata": {},
   "outputs": [
    {
     "data": {
      "text/plain": [
       "array([0.16187492, 0.45036039, 0.12841383, ..., 0.10008329, 0.19282481,\n",
       "       0.28059189])"
      ]
     },
     "execution_count": 89,
     "metadata": {},
     "output_type": "execute_result"
    }
   ],
   "source": [
    "probabilities_one_test"
   ]
  },
  {
   "cell_type": "code",
   "execution_count": 90,
   "metadata": {},
   "outputs": [
    {
     "data": {
      "image/png": "[encoded data removed]",
      "text/plain": [
       "<Figure size 432x432 with 1 Axes>"
      ]
     },
     "metadata": {
      "needs_background": "light"
     },
     "output_type": "display_data"
    }
   ],
   "source": [
    "# Построим ROC - кривую\n",
    "fpr, tpr, thresholds = roc_curve(target_test, probabilities_one_test)\n",
    "plt.figure(figsize=(6,6))\n",
    "\n",
    "plt.plot(fpr, tpr,  color='red')\n",
    "# ROC-кривая случайной модели (выглядит как прямая)\n",
    "plt.plot([0, 1], [0, 1], linestyle='--')\n",
    "plt.title('ROC - кривая')\n",
    "plt.xlabel('fpr False Positive Rate')\n",
    "plt.ylabel('tpr True Positive Rate')\n",
    "plt.show()"
   ]
  },
  {
   "cell_type": "code",
   "execution_count": 91,
   "metadata": {},
   "outputs": [
    {
     "name": "stdout",
     "output_type": "stream",
     "text": [
      "auc_roc 0.8557080130900607\n"
     ]
    }
   ],
   "source": [
    "# Дополнительно измерим AUC-ROC\n",
    "auc_roc = roc_auc_score(target_test, probabilities_one_test)\n",
    "print('auc_roc', auc_roc)"
   ]
  },
  {
   "cell_type": "markdown",
   "metadata": {},
   "source": [
    "## Общий вывод"
   ]
  },
  {
   "cell_type": "markdown",
   "metadata": {},
   "source": [
    "# Проведено прогнозирование оттока клиентов банка на основе исторических данных поведения клиентов.\n",
    "Построена модель с предельно большим значением F1-меры\n",
    "\n",
    "В рамках подготовки данных скорректированы наименования полей, проанализированы выбросы и дубликаты, проработаны проработаны пропуски.\n",
    "\n",
    "Категориальные признаки переведены в дамми переменные.\n",
    "\n",
    "Для борьбы с дисбалансом использована техника upsampling, что позволило поднять показатель f1 в 4.5 раза. Поэтому для дальнейшего прогноза были использованы данные features_upsampled, target_upsampled полученные с помощью техники upsampling.\n",
    "\n",
    "Проведен выбор лучшей модели для дальнейшего прогнозирования. Проанализированы модели LogisticRegression, DecisionTreeClassifier, RandomForestClassifier\n",
    "\n",
    "При сравнении базовых моделей, без дополнительных гиперпараметров, наилучший результат по F1 показала модель случайного леса. Далее будем использовать её для подбора оптимальных гиперпараметров.\n",
    "Наилучший показаталь модель случайного леса на тестовой модели **f1 = 0.599** при гиперпараметрах Глубина = 11 Количество деревьев = 100\n",
    "\n",
    "Проведена проверка модели на адекватность, путём сравнения со случайной моделью.\n",
    "\n",
    "Доля правильных ответов accuracy в полученной модели 0.822\n",
    "Доля правильных ответов accuracy в случайной модели 0.7885\n",
    "\n",
    "Проверка на адекватность показала, что доля правильных ответов accuracy в полученной модели выше чем аналогичный показатель случайной модели. Делаем вывод, что полученная нами модель является полезной.\n",
    "\n",
    "Дополнительно построена ROC - кривая, и измерена AUC-ROC = 0.8557"
   ]
  }
 ],
 "metadata": {
  "ExecuteTimeLog": [
   {
    "duration": 1113,
    "start_time": "2022-09-21T12:20:38.641Z"
   },
   {
    "duration": 7,
    "start_time": "2022-09-21T12:20:42.240Z"
   },
   {
    "duration": 385,
    "start_time": "2022-09-21T12:20:45.651Z"
   },
   {
    "duration": 137,
    "start_time": "2022-09-21T12:20:49.889Z"
   },
   {
    "duration": 77,
    "start_time": "2022-09-21T12:24:41.647Z"
   },
   {
    "duration": 5,
    "start_time": "2022-09-21T12:25:00.059Z"
   },
   {
    "duration": 3,
    "start_time": "2022-09-21T12:25:03.161Z"
   },
   {
    "duration": 10,
    "start_time": "2022-09-21T12:25:15.085Z"
   },
   {
    "duration": 4,
    "start_time": "2022-09-21T12:34:07.803Z"
   },
   {
    "duration": 4,
    "start_time": "2022-09-21T12:34:11.980Z"
   },
   {
    "duration": 4,
    "start_time": "2022-09-21T12:34:29.971Z"
   },
   {
    "duration": 11,
    "start_time": "2022-09-21T13:08:28.892Z"
   },
   {
    "duration": 20,
    "start_time": "2022-09-21T13:14:12.336Z"
   },
   {
    "duration": 10,
    "start_time": "2022-09-21T13:19:18.656Z"
   },
   {
    "duration": 4,
    "start_time": "2022-09-21T13:19:23.036Z"
   },
   {
    "duration": 4,
    "start_time": "2022-09-21T13:21:05.703Z"
   },
   {
    "duration": 11,
    "start_time": "2022-09-21T13:21:12.685Z"
   },
   {
    "duration": 2,
    "start_time": "2022-09-21T13:21:25.110Z"
   },
   {
    "duration": 2,
    "start_time": "2022-09-21T13:21:28.514Z"
   },
   {
    "duration": 3,
    "start_time": "2022-09-21T13:21:36.183Z"
   },
   {
    "duration": 2,
    "start_time": "2022-09-21T13:21:46.017Z"
   },
   {
    "duration": 3,
    "start_time": "2022-09-21T13:32:29.794Z"
   },
   {
    "duration": 5,
    "start_time": "2022-09-21T13:32:42.374Z"
   },
   {
    "duration": 63,
    "start_time": "2022-09-21T13:49:45.854Z"
   },
   {
    "duration": 135,
    "start_time": "2022-09-21T13:50:41.240Z"
   },
   {
    "duration": 6,
    "start_time": "2022-09-21T13:51:12.773Z"
   },
   {
    "duration": 150,
    "start_time": "2022-09-21T13:52:44.013Z"
   },
   {
    "duration": 131,
    "start_time": "2022-09-21T13:53:34.150Z"
   },
   {
    "duration": 130,
    "start_time": "2022-09-21T13:53:53.535Z"
   },
   {
    "duration": 193,
    "start_time": "2022-09-21T13:54:12.249Z"
   },
   {
    "duration": 153,
    "start_time": "2022-09-21T13:55:46.665Z"
   },
   {
    "duration": 139,
    "start_time": "2022-09-21T13:56:05.342Z"
   },
   {
    "duration": 145,
    "start_time": "2022-09-21T13:56:55.465Z"
   },
   {
    "duration": 137,
    "start_time": "2022-09-21T13:58:36.013Z"
   },
   {
    "duration": 138,
    "start_time": "2022-09-21T13:59:00.789Z"
   },
   {
    "duration": 6,
    "start_time": "2022-09-21T14:07:03.609Z"
   },
   {
    "duration": 6,
    "start_time": "2022-09-21T14:10:04.475Z"
   },
   {
    "duration": 10,
    "start_time": "2022-09-21T14:10:45.344Z"
   },
   {
    "duration": 5,
    "start_time": "2022-09-21T14:10:55.803Z"
   },
   {
    "duration": 1246,
    "start_time": "2022-09-21T19:54:10.877Z"
   },
   {
    "duration": 5,
    "start_time": "2022-09-21T19:54:12.125Z"
   },
   {
    "duration": 453,
    "start_time": "2022-09-21T19:54:12.131Z"
   },
   {
    "duration": 196,
    "start_time": "2022-09-21T19:54:12.586Z"
   },
   {
    "duration": 6,
    "start_time": "2022-09-21T19:54:12.783Z"
   },
   {
    "duration": 27,
    "start_time": "2022-09-21T19:54:12.791Z"
   },
   {
    "duration": 14,
    "start_time": "2022-09-21T19:54:12.828Z"
   },
   {
    "duration": 6,
    "start_time": "2022-09-21T19:54:12.843Z"
   },
   {
    "duration": 10,
    "start_time": "2022-09-21T19:54:12.851Z"
   },
   {
    "duration": 6,
    "start_time": "2022-09-21T19:54:12.864Z"
   },
   {
    "duration": 2089,
    "start_time": "2022-09-21T19:54:12.871Z"
   },
   {
    "duration": 8,
    "start_time": "2022-09-21T19:54:14.962Z"
   },
   {
    "duration": 6,
    "start_time": "2022-09-21T19:54:14.972Z"
   },
   {
    "duration": 3,
    "start_time": "2022-09-21T19:54:14.979Z"
   },
   {
    "duration": 8,
    "start_time": "2022-09-21T19:54:14.983Z"
   },
   {
    "duration": 25,
    "start_time": "2022-09-21T19:54:14.995Z"
   },
   {
    "duration": 28,
    "start_time": "2022-09-21T19:54:15.022Z"
   },
   {
    "duration": 5,
    "start_time": "2022-09-21T19:54:15.052Z"
   },
   {
    "duration": 21,
    "start_time": "2022-09-21T19:54:15.058Z"
   },
   {
    "duration": 4,
    "start_time": "2022-09-21T19:54:15.081Z"
   },
   {
    "duration": 18,
    "start_time": "2022-09-21T19:54:15.086Z"
   },
   {
    "duration": 39,
    "start_time": "2022-09-21T19:54:15.105Z"
   },
   {
    "duration": 5,
    "start_time": "2022-09-21T19:54:15.146Z"
   },
   {
    "duration": 4,
    "start_time": "2022-09-21T19:54:15.153Z"
   },
   {
    "duration": 12,
    "start_time": "2022-09-21T19:54:15.159Z"
   },
   {
    "duration": 27,
    "start_time": "2022-09-21T19:54:15.173Z"
   },
   {
    "duration": 21,
    "start_time": "2022-09-21T19:54:15.202Z"
   },
   {
    "duration": 9,
    "start_time": "2022-09-21T19:54:15.227Z"
   },
   {
    "duration": 15,
    "start_time": "2022-09-21T19:54:15.237Z"
   },
   {
    "duration": 7,
    "start_time": "2022-09-21T19:54:15.253Z"
   },
   {
    "duration": 7,
    "start_time": "2022-09-21T19:54:15.262Z"
   },
   {
    "duration": 15,
    "start_time": "2022-09-21T19:54:15.270Z"
   },
   {
    "duration": 20,
    "start_time": "2022-09-21T19:54:15.287Z"
   },
   {
    "duration": 20,
    "start_time": "2022-09-21T19:54:15.310Z"
   },
   {
    "duration": 8,
    "start_time": "2022-09-21T19:54:15.332Z"
   },
   {
    "duration": 18,
    "start_time": "2022-09-21T19:54:15.341Z"
   },
   {
    "duration": 8,
    "start_time": "2022-09-21T19:54:15.360Z"
   },
   {
    "duration": 27,
    "start_time": "2022-09-21T19:54:15.369Z"
   },
   {
    "duration": 25,
    "start_time": "2022-09-21T19:54:15.398Z"
   },
   {
    "duration": 8,
    "start_time": "2022-09-21T19:54:15.424Z"
   },
   {
    "duration": 5,
    "start_time": "2022-09-21T19:54:15.434Z"
   },
   {
    "duration": 11,
    "start_time": "2022-09-21T19:54:15.441Z"
   },
   {
    "duration": 163,
    "start_time": "2022-09-21T19:54:15.454Z"
   },
   {
    "duration": 5,
    "start_time": "2022-09-21T19:54:15.619Z"
   },
   {
    "duration": 1874,
    "start_time": "2022-09-21T19:54:15.625Z"
   },
   {
    "duration": 110,
    "start_time": "2022-09-21T19:54:17.500Z"
   },
   {
    "duration": 103,
    "start_time": "2022-09-21T19:54:17.611Z"
   },
   {
    "duration": 127,
    "start_time": "2022-09-21T19:54:17.716Z"
   },
   {
    "duration": 5,
    "start_time": "2022-09-21T19:54:17.845Z"
   },
   {
    "duration": 14,
    "start_time": "2022-09-21T19:54:17.852Z"
   },
   {
    "duration": 24,
    "start_time": "2022-09-21T19:54:17.899Z"
   },
   {
    "duration": 4,
    "start_time": "2022-09-21T19:54:17.925Z"
   },
   {
    "duration": 1465,
    "start_time": "2022-09-21T19:54:17.931Z"
   },
   {
    "duration": 17,
    "start_time": "2022-09-21T19:54:19.398Z"
   },
   {
    "duration": 200,
    "start_time": "2022-09-21T19:54:19.422Z"
   },
   {
    "duration": 3,
    "start_time": "2022-09-21T19:54:19.624Z"
   },
   {
    "duration": 38,
    "start_time": "2022-09-21T19:54:19.628Z"
   },
   {
    "duration": 5,
    "start_time": "2022-09-21T19:54:19.668Z"
   },
   {
    "duration": 11,
    "start_time": "2022-09-21T19:54:19.674Z"
   },
   {
    "duration": 3,
    "start_time": "2022-09-21T19:54:19.686Z"
   },
   {
    "duration": 930,
    "start_time": "2022-09-21T19:54:19.690Z"
   },
   {
    "duration": 50,
    "start_time": "2022-09-21T19:54:20.622Z"
   },
   {
    "duration": 6,
    "start_time": "2022-09-21T19:54:20.673Z"
   },
   {
    "duration": 21668,
    "start_time": "2022-09-21T19:54:20.680Z"
   },
   {
    "duration": 8,
    "start_time": "2022-09-21T19:54:42.350Z"
   },
   {
    "duration": 410,
    "start_time": "2022-09-21T19:54:42.360Z"
   },
   {
    "duration": 5,
    "start_time": "2022-09-21T19:54:42.772Z"
   },
   {
    "duration": 841,
    "start_time": "2022-09-21T19:54:42.779Z"
   },
   {
    "duration": 4,
    "start_time": "2022-09-21T19:54:43.624Z"
   },
   {
    "duration": 9,
    "start_time": "2022-09-21T19:54:43.630Z"
   },
   {
    "duration": 46,
    "start_time": "2022-09-21T19:54:43.641Z"
   },
   {
    "duration": 8,
    "start_time": "2022-09-21T19:54:43.698Z"
   },
   {
    "duration": 162,
    "start_time": "2022-09-21T19:54:43.708Z"
   },
   {
    "duration": 6,
    "start_time": "2022-09-21T19:54:43.872Z"
   },
   {
    "duration": 12,
    "start_time": "2022-09-21T20:15:54.164Z"
   },
   {
    "duration": 8,
    "start_time": "2022-09-21T20:16:10.691Z"
   },
   {
    "duration": 3,
    "start_time": "2022-09-21T20:18:51.859Z"
   },
   {
    "duration": 126,
    "start_time": "2022-09-21T20:18:58.989Z"
   },
   {
    "duration": 3,
    "start_time": "2022-09-21T20:19:15.486Z"
   },
   {
    "duration": 3,
    "start_time": "2022-09-21T20:19:34.454Z"
   },
   {
    "duration": 11,
    "start_time": "2022-09-21T20:28:10.035Z"
   },
   {
    "duration": 8,
    "start_time": "2022-09-21T20:28:29.738Z"
   },
   {
    "duration": 10,
    "start_time": "2022-09-21T20:28:36.613Z"
   },
   {
    "duration": 3,
    "start_time": "2022-09-21T20:29:12.480Z"
   },
   {
    "duration": 24,
    "start_time": "2022-09-21T20:29:15.734Z"
   },
   {
    "duration": 23,
    "start_time": "2022-09-21T20:30:22.885Z"
   },
   {
    "duration": 361,
    "start_time": "2022-09-21T20:31:34.448Z"
   },
   {
    "duration": 6,
    "start_time": "2022-09-21T20:32:43.086Z"
   },
   {
    "duration": 5,
    "start_time": "2022-09-21T20:33:05.490Z"
   },
   {
    "duration": 11,
    "start_time": "2022-09-21T20:35:14.905Z"
   },
   {
    "duration": 8,
    "start_time": "2022-09-21T20:41:14.769Z"
   },
   {
    "duration": 5,
    "start_time": "2022-09-21T20:41:23.615Z"
   },
   {
    "duration": 3,
    "start_time": "2022-09-21T20:41:48.094Z"
   },
   {
    "duration": 42,
    "start_time": "2022-09-21T20:41:51.362Z"
   },
   {
    "duration": 5,
    "start_time": "2022-09-21T20:42:10.438Z"
   },
   {
    "duration": 9,
    "start_time": "2022-09-21T20:42:31.104Z"
   },
   {
    "duration": 12,
    "start_time": "2022-09-21T20:58:18.249Z"
   },
   {
    "duration": 11,
    "start_time": "2022-09-21T20:58:38.388Z"
   },
   {
    "duration": 3,
    "start_time": "2022-09-21T20:58:44.952Z"
   },
   {
    "duration": 11,
    "start_time": "2022-09-21T21:00:01.641Z"
   },
   {
    "duration": 5,
    "start_time": "2022-09-21T21:00:42.948Z"
   },
   {
    "duration": 5,
    "start_time": "2022-09-21T21:01:04.655Z"
   },
   {
    "duration": 3,
    "start_time": "2022-09-21T21:01:58.632Z"
   },
   {
    "duration": 15,
    "start_time": "2022-09-21T21:05:19.057Z"
   },
   {
    "duration": 37,
    "start_time": "2022-09-21T21:05:34.611Z"
   },
   {
    "duration": 5,
    "start_time": "2022-09-21T21:07:47.781Z"
   },
   {
    "duration": 9,
    "start_time": "2022-09-21T21:08:13.222Z"
   },
   {
    "duration": 3,
    "start_time": "2022-09-21T21:18:25.436Z"
   },
   {
    "duration": 8,
    "start_time": "2022-09-21T21:19:20.314Z"
   },
   {
    "duration": 3,
    "start_time": "2022-09-21T21:36:17.856Z"
   },
   {
    "duration": 19,
    "start_time": "2022-09-21T21:41:11.068Z"
   },
   {
    "duration": 5,
    "start_time": "2022-09-21T21:42:04.568Z"
   },
   {
    "duration": 7,
    "start_time": "2022-09-21T21:42:50.915Z"
   },
   {
    "duration": 2,
    "start_time": "2022-09-21T21:51:22.917Z"
   },
   {
    "duration": 39,
    "start_time": "2022-09-21T21:51:26.796Z"
   },
   {
    "duration": 7,
    "start_time": "2022-09-21T21:51:36.591Z"
   },
   {
    "duration": 6,
    "start_time": "2022-09-21T21:51:40.568Z"
   },
   {
    "duration": 3,
    "start_time": "2022-09-21T21:51:48.868Z"
   },
   {
    "duration": 911,
    "start_time": "2022-09-21T21:51:51.942Z"
   },
   {
    "duration": 4,
    "start_time": "2022-09-21T21:53:07.400Z"
   },
   {
    "duration": 7,
    "start_time": "2022-09-21T21:53:12.335Z"
   },
   {
    "duration": 53,
    "start_time": "2022-09-21T21:53:44.842Z"
   },
   {
    "duration": 6,
    "start_time": "2022-09-21T21:53:51.401Z"
   },
   {
    "duration": 19271,
    "start_time": "2022-09-21T21:54:31.237Z"
   },
   {
    "duration": 9,
    "start_time": "2022-09-21T21:54:58.267Z"
   },
   {
    "duration": 427,
    "start_time": "2022-09-21T21:55:15.355Z"
   },
   {
    "duration": 5,
    "start_time": "2022-09-21T21:55:55.542Z"
   },
   {
    "duration": 5,
    "start_time": "2022-09-21T21:56:24.485Z"
   },
   {
    "duration": 815,
    "start_time": "2022-09-21T22:00:02.092Z"
   },
   {
    "duration": 3,
    "start_time": "2022-09-21T22:01:09.116Z"
   },
   {
    "duration": 6,
    "start_time": "2022-09-21T22:02:25.021Z"
   },
   {
    "duration": 51,
    "start_time": "2022-09-21T22:04:09.088Z"
   },
   {
    "duration": 4,
    "start_time": "2022-09-21T22:04:14.282Z"
   },
   {
    "duration": 132,
    "start_time": "2022-09-21T22:04:46.738Z"
   },
   {
    "duration": 6,
    "start_time": "2022-09-21T22:05:09.114Z"
   },
   {
    "duration": 1131,
    "start_time": "2022-09-21T22:09:12.602Z"
   },
   {
    "duration": 5,
    "start_time": "2022-09-21T22:09:13.735Z"
   },
   {
    "duration": 276,
    "start_time": "2022-09-21T22:09:13.741Z"
   },
   {
    "duration": 41,
    "start_time": "2022-09-21T22:09:14.020Z"
   },
   {
    "duration": 5,
    "start_time": "2022-09-21T22:09:14.063Z"
   },
   {
    "duration": 19,
    "start_time": "2022-09-21T22:09:14.069Z"
   },
   {
    "duration": 4,
    "start_time": "2022-09-21T22:09:14.090Z"
   },
   {
    "duration": 8,
    "start_time": "2022-09-21T22:09:14.096Z"
   },
   {
    "duration": 8,
    "start_time": "2022-09-21T22:09:14.105Z"
   },
   {
    "duration": 6,
    "start_time": "2022-09-21T22:09:14.116Z"
   },
   {
    "duration": 1936,
    "start_time": "2022-09-21T22:09:14.124Z"
   },
   {
    "duration": 10,
    "start_time": "2022-09-21T22:09:16.062Z"
   },
   {
    "duration": 7,
    "start_time": "2022-09-21T22:09:16.073Z"
   },
   {
    "duration": 14,
    "start_time": "2022-09-21T22:09:16.081Z"
   },
   {
    "duration": 5,
    "start_time": "2022-09-21T22:09:16.097Z"
   },
   {
    "duration": 8,
    "start_time": "2022-09-21T22:09:16.104Z"
   },
   {
    "duration": 14,
    "start_time": "2022-09-21T22:09:16.113Z"
   },
   {
    "duration": 4,
    "start_time": "2022-09-21T22:09:16.129Z"
   },
   {
    "duration": 16,
    "start_time": "2022-09-21T22:09:16.135Z"
   },
   {
    "duration": 5,
    "start_time": "2022-09-21T22:09:16.153Z"
   },
   {
    "duration": 6,
    "start_time": "2022-09-21T22:09:16.195Z"
   },
   {
    "duration": 8,
    "start_time": "2022-09-21T22:09:16.202Z"
   },
   {
    "duration": 6,
    "start_time": "2022-09-21T22:09:16.212Z"
   },
   {
    "duration": 4,
    "start_time": "2022-09-21T22:09:16.219Z"
   },
   {
    "duration": 6,
    "start_time": "2022-09-21T22:09:16.224Z"
   },
   {
    "duration": 22,
    "start_time": "2022-09-21T22:09:16.231Z"
   },
   {
    "duration": 4,
    "start_time": "2022-09-21T22:09:16.255Z"
   },
   {
    "duration": 5,
    "start_time": "2022-09-21T22:09:16.294Z"
   },
   {
    "duration": 15,
    "start_time": "2022-09-21T22:09:16.300Z"
   },
   {
    "duration": 4,
    "start_time": "2022-09-21T22:09:16.316Z"
   },
   {
    "duration": 7,
    "start_time": "2022-09-21T22:09:16.321Z"
   },
   {
    "duration": 8,
    "start_time": "2022-09-21T22:09:16.329Z"
   },
   {
    "duration": 5,
    "start_time": "2022-09-21T22:09:16.338Z"
   },
   {
    "duration": 4,
    "start_time": "2022-09-21T22:09:16.344Z"
   },
   {
    "duration": 5,
    "start_time": "2022-09-21T22:09:16.350Z"
   },
   {
    "duration": 15,
    "start_time": "2022-09-21T22:09:16.356Z"
   },
   {
    "duration": 29,
    "start_time": "2022-09-21T22:09:16.372Z"
   },
   {
    "duration": 8,
    "start_time": "2022-09-21T22:09:16.402Z"
   },
   {
    "duration": 6,
    "start_time": "2022-09-21T22:09:16.411Z"
   },
   {
    "duration": 9,
    "start_time": "2022-09-21T22:09:16.418Z"
   },
   {
    "duration": 7,
    "start_time": "2022-09-21T22:09:16.429Z"
   },
   {
    "duration": 9,
    "start_time": "2022-09-21T22:09:16.437Z"
   },
   {
    "duration": 194,
    "start_time": "2022-09-21T22:09:16.448Z"
   },
   {
    "duration": 12,
    "start_time": "2022-09-21T22:09:16.644Z"
   },
   {
    "duration": 6,
    "start_time": "2022-09-21T22:09:16.657Z"
   },
   {
    "duration": 5,
    "start_time": "2022-09-21T22:09:16.664Z"
   },
   {
    "duration": 5,
    "start_time": "2022-09-21T22:09:16.670Z"
   },
   {
    "duration": 12,
    "start_time": "2022-09-21T22:09:16.696Z"
   },
   {
    "duration": 3,
    "start_time": "2022-09-21T22:09:16.709Z"
   },
   {
    "duration": 24,
    "start_time": "2022-09-21T22:09:16.713Z"
   },
   {
    "duration": 12,
    "start_time": "2022-09-21T22:09:16.738Z"
   },
   {
    "duration": 5,
    "start_time": "2022-09-21T22:09:16.751Z"
   },
   {
    "duration": 147,
    "start_time": "2022-09-21T22:09:16.757Z"
   },
   {
    "duration": 100,
    "start_time": "2022-09-21T22:09:16.995Z"
   },
   {
    "duration": 103,
    "start_time": "2022-09-21T22:09:17.098Z"
   },
   {
    "duration": 98,
    "start_time": "2022-09-21T22:09:17.204Z"
   },
   {
    "duration": 92,
    "start_time": "2022-09-21T22:09:17.304Z"
   },
   {
    "duration": 55,
    "start_time": "2022-09-21T22:09:17.397Z"
   },
   {
    "duration": 19,
    "start_time": "2022-09-21T22:09:17.454Z"
   },
   {
    "duration": 30,
    "start_time": "2022-09-21T22:09:17.475Z"
   },
   {
    "duration": 43,
    "start_time": "2022-09-21T22:09:17.506Z"
   },
   {
    "duration": 38,
    "start_time": "2022-09-21T22:09:17.550Z"
   },
   {
    "duration": 41,
    "start_time": "2022-09-21T22:09:17.589Z"
   },
   {
    "duration": 28,
    "start_time": "2022-09-21T22:09:17.632Z"
   },
   {
    "duration": 234,
    "start_time": "2022-09-21T22:09:17.662Z"
   },
   {
    "duration": 112,
    "start_time": "2022-09-21T22:09:17.899Z"
   },
   {
    "duration": 201,
    "start_time": "2022-09-21T22:09:18.013Z"
   },
   {
    "duration": 25,
    "start_time": "2022-09-21T22:09:18.216Z"
   },
   {
    "duration": 54,
    "start_time": "2022-09-21T22:09:18.243Z"
   },
   {
    "duration": 11,
    "start_time": "2022-09-21T22:09:18.299Z"
   },
   {
    "duration": 184,
    "start_time": "2022-09-21T22:09:18.311Z"
   },
   {
    "duration": 2,
    "start_time": "2022-09-21T22:09:18.498Z"
   },
   {
    "duration": 43,
    "start_time": "2022-09-21T22:09:18.502Z"
   },
   {
    "duration": 3,
    "start_time": "2022-09-21T22:09:18.546Z"
   },
   {
    "duration": 10,
    "start_time": "2022-09-21T22:09:18.550Z"
   },
   {
    "duration": 29,
    "start_time": "2022-09-21T22:09:18.561Z"
   },
   {
    "duration": 40,
    "start_time": "2022-09-21T22:09:18.592Z"
   },
   {
    "duration": 972,
    "start_time": "2022-09-21T22:09:18.633Z"
   },
   {
    "duration": 57,
    "start_time": "2022-09-21T22:09:19.607Z"
   },
   {
    "duration": 6,
    "start_time": "2022-09-21T22:09:19.666Z"
   },
   {
    "duration": 18907,
    "start_time": "2022-09-21T22:09:19.673Z"
   },
   {
    "duration": 13,
    "start_time": "2022-09-21T22:09:38.585Z"
   },
   {
    "duration": 378,
    "start_time": "2022-09-21T22:09:38.600Z"
   },
   {
    "duration": 15,
    "start_time": "2022-09-21T22:09:38.980Z"
   },
   {
    "duration": 818,
    "start_time": "2022-09-21T22:09:38.997Z"
   },
   {
    "duration": 4,
    "start_time": "2022-09-21T22:09:39.817Z"
   },
   {
    "duration": 12,
    "start_time": "2022-09-21T22:09:39.823Z"
   },
   {
    "duration": 61,
    "start_time": "2022-09-21T22:09:39.837Z"
   },
   {
    "duration": 5,
    "start_time": "2022-09-21T22:09:39.899Z"
   },
   {
    "duration": 145,
    "start_time": "2022-09-21T22:09:39.906Z"
   },
   {
    "duration": 7,
    "start_time": "2022-09-21T22:09:40.054Z"
   }
  ],
  "kernelspec": {
   "display_name": "Python 3",
   "language": "python",
   "name": "python3"
  },
  "language_info": {
   "codemirror_mode": {
    "name": "ipython",
    "version": 3
   },
   "file_extension": ".py",
   "mimetype": "text/x-python",
   "name": "python",
   "nbconvert_exporter": "python",
   "pygments_lexer": "ipython3",
   "version": "3.8.5"
  },
  "toc": {
   "base_numbering": 1,
   "nav_menu": {},
   "number_sections": true,
   "sideBar": true,
   "skip_h1_title": true,
   "title_cell": "Содержание",
   "title_sidebar": "Contents",
   "toc_cell": true,
   "toc_position": {
    "height": "calc(100% - 180px)",
    "left": "10px",
    "top": "150px",
    "width": "165px"
   },
   "toc_section_display": true,
   "toc_window_display": true
  }
 },
 "nbformat": 4,
 "nbformat_minor": 2
}
