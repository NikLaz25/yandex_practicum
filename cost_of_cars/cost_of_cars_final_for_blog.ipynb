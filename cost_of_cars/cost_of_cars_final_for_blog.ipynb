{
 "cells": [
  {
   "cell_type": "markdown",
   "metadata": {
    "toc": true
   },
   "source": [
    "<h1>Table of Contents<span class=\"tocSkip\"></span></h1>\n",
    "<div class=\"toc\"><ul class=\"toc-item\"><li><span><a href=\"#Подготовка-данных\" data-toc-modified-id=\"Подготовка-данных-1\"><span class=\"toc-item-num\">1&nbsp;&nbsp;</span>Подготовка данных</a></span><ul class=\"toc-item\"><li><span><a href=\"#Дубликаты-в-данных\" data-toc-modified-id=\"Дубликаты-в-данных-1.1\"><span class=\"toc-item-num\">1.1&nbsp;&nbsp;</span>Дубликаты в данных</a></span></li><li><span><a href=\"#Пропуски-в-данных\" data-toc-modified-id=\"Пропуски-в-данных-1.2\"><span class=\"toc-item-num\">1.2&nbsp;&nbsp;</span>Пропуски в данных</a></span></li><li><span><a href=\"#Выбросы-в-данных\" data-toc-modified-id=\"Выбросы-в-данных-1.3\"><span class=\"toc-item-num\">1.3&nbsp;&nbsp;</span>Выбросы в данных</a></span></li><li><span><a href=\"#Преобразование-данных\" data-toc-modified-id=\"Преобразование-данных-1.4\"><span class=\"toc-item-num\">1.4&nbsp;&nbsp;</span>Преобразование данных</a></span></li><li><span><a href=\"#Разбивка-данных-на-тренировочные,-валидационные-и-тестовые\" data-toc-modified-id=\"Разбивка-данных-на-тренировочные,-валидационные-и-тестовые-1.5\"><span class=\"toc-item-num\">1.5&nbsp;&nbsp;</span>Разбивка данных на тренировочные, валидационные и тестовые</a></span></li><li><span><a href=\"#Кодирование-данных\" data-toc-modified-id=\"Кодирование-данных-1.6\"><span class=\"toc-item-num\">1.6&nbsp;&nbsp;</span>Кодирование данных</a></span></li><li><span><a href=\"#Масштабирование-признаков---стандартизация-данных\" data-toc-modified-id=\"Масштабирование-признаков---стандартизация-данных-1.7\"><span class=\"toc-item-num\">1.7&nbsp;&nbsp;</span>Масштабирование признаков - стандартизация данных</a></span></li><li><span><a href=\"#Определение-значимости-признаков---матрица-корреляций\" data-toc-modified-id=\"Определение-значимости-признаков---матрица-корреляций-1.8\"><span class=\"toc-item-num\">1.8&nbsp;&nbsp;</span>Определение значимости признаков - матрица корреляций</a></span></li><li><span><a href=\"#Вывод\" data-toc-modified-id=\"Вывод-1.9\"><span class=\"toc-item-num\">1.9&nbsp;&nbsp;</span>Вывод</a></span></li></ul></li><li><span><a href=\"#Обучение-моделей\" data-toc-modified-id=\"Обучение-моделей-2\"><span class=\"toc-item-num\">2&nbsp;&nbsp;</span>Обучение моделей</a></span><ul class=\"toc-item\"><li><span><a href=\"#Модель-CatBoost\" data-toc-modified-id=\"Модель-CatBoost-2.1\"><span class=\"toc-item-num\">2.1&nbsp;&nbsp;</span>Модель CatBoost</a></span></li><li><span><a href=\"#Модель-случайного-леса\" data-toc-modified-id=\"Модель-случайного-леса-2.2\"><span class=\"toc-item-num\">2.2&nbsp;&nbsp;</span>Модель случайного леса</a></span></li><li><span><a href=\"#Модель-LightGBM\" data-toc-modified-id=\"Модель-LightGBM-2.3\"><span class=\"toc-item-num\">2.3&nbsp;&nbsp;</span>Модель LightGBM</a></span></li></ul></li><li><span><a href=\"#Анализ-моделей\" data-toc-modified-id=\"Анализ-моделей-3\"><span class=\"toc-item-num\">3&nbsp;&nbsp;</span>Анализ моделей</a></span></li><li><span><a href=\"#Выводы\" data-toc-modified-id=\"Выводы-4\"><span class=\"toc-item-num\">4&nbsp;&nbsp;</span>Выводы</a></span><ul class=\"toc-item\"><li><span><a href=\"#Выводы-по-подготовке-данных\" data-toc-modified-id=\"Выводы-по-подготовке-данных-4.1\"><span class=\"toc-item-num\">4.1&nbsp;&nbsp;</span>Выводы по подготовке данных</a></span></li></ul></li><li><span><a href=\"#Чек-лист-проверки\" data-toc-modified-id=\"Чек-лист-проверки-5\"><span class=\"toc-item-num\">5&nbsp;&nbsp;</span>Чек-лист проверки</a></span></li></ul></div>"
   ]
  },
  {
   "cell_type": "markdown",
   "metadata": {},
   "source": [
    "# Определение стоимости автомобилей"
   ]
  },
  {
   "cell_type": "markdown",
   "metadata": {},
   "source": [
    "Сервис по продаже автомобилей с пробегом разрабатывает приложение для привлечения новых клиентов. В нём можно быстро узнать рыночную стоимость своего автомобиля. В нашем распоряжении исторические данные: технические характеристики, комплектации и цены автомобилей. Нам нужно построить модель для определения стоимости. \n",
    "\n",
    "Заказчику важны:\n",
    "\n",
    "- качество предсказания;\n",
    "- скорость предсказания;\n",
    "- время обучения."
   ]
  },
  {
   "cell_type": "markdown",
   "metadata": {},
   "source": [
    "Описание данных\n",
    "Данные находятся в файле /autos.csv.\n",
    "\n",
    "Признаки:\n",
    "\n",
    "• Brand — марка автомобиля\n",
    "• Model — модель автомобиля\n",
    "• RegistrationYear — год регистрации автомобиля\n",
    "• RegistrationMonth — месяц регистрации автомобиля\n",
    "• Kilometer — пробег (км)\n",
    "• Power — мощность (л. с.)\n",
    "\n",
    "• VehicleType — тип автомобильного кузова\n",
    "• Gearbox — тип коробки передач\n",
    "• FuelType — тип топлива\n",
    "• Repaired — была машина в ремонте или нет\n",
    "\n",
    "• NumberOfPictures — количество фотографий автомобиля\n",
    "• LastSeen — дата последней активности пользователя\n",
    "\n",
    "• DateCreated — дата создания анкеты\n",
    "• PostalCode — почтовый индекс владельца анкеты (пользователя)\n",
    "• DateCrawled — дата скачивания анкеты из базы\n",
    "Целевой признак Price — цена (евро)"
   ]
  },
  {
   "cell_type": "markdown",
   "metadata": {},
   "source": [
    "## Подготовка данных"
   ]
  },
  {
   "cell_type": "code",
   "execution_count": 1,
   "metadata": {},
   "outputs": [],
   "source": [
    "# загрузим необходимые библиотеки\n",
    "import pandas as pd\n",
    "import os"
   ]
  },
  {
   "cell_type": "code",
   "execution_count": 2,
   "metadata": {},
   "outputs": [],
   "source": [
    "from matplotlib import pyplot as plt\n",
    "import seaborn as sns\n",
    "import numpy as np\n",
    "from sklearn.model_selection import train_test_split"
   ]
  },
  {
   "cell_type": "code",
   "execution_count": 3,
   "metadata": {},
   "outputs": [],
   "source": [
    "from sklearn.model_selection import cross_val_score\n",
    "from sklearn.model_selection import GridSearchCV"
   ]
  },
  {
   "cell_type": "code",
   "execution_count": 4,
   "metadata": {},
   "outputs": [],
   "source": [
    "from sklearn.metrics import r2_score\n",
    "from sklearn.metrics import mean_squared_error"
   ]
  },
  {
   "cell_type": "code",
   "execution_count": 7,
   "metadata": {},
   "outputs": [],
   "source": [
    "# Ядро барахлит, поэтому заккомитил \n",
    "# pip install pandas_profiling"
   ]
  },
  {
   "cell_type": "code",
   "execution_count": 8,
   "metadata": {},
   "outputs": [],
   "source": [
    "# Ядро барахлит, поэтому заккомитил То работает, то неработает. К сожалению не могу больше тярять время.\n",
    "# загрузим дополнительные библиотеки для EDA\n",
    "# import sweetviz as sv\n",
    "# import pandas_profiling"
   ]
  },
  {
   "cell_type": "code",
   "execution_count": 9,
   "metadata": {},
   "outputs": [],
   "source": [
    "# скачаем файл\n",
    "path_1 = 'autos.csv'\n",
    "path_2 = '/datasets/autos.csv'\n",
    "\n",
    "if os.path.exists(path_1):\n",
    "    data = pd.read_csv(path_1)\n",
    "elif os.path.exists(path_2):\n",
    "    data = pd.read_csv(path_2)\n",
    "else:\n",
    "    print('Something is wrong')"
   ]
  },
  {
   "cell_type": "code",
   "execution_count": 123,
   "metadata": {},
   "outputs": [
    {
     "data": {
      "text/plain": [
       "(354369, 16)"
      ]
     },
     "execution_count": 123,
     "metadata": {},
     "output_type": "execute_result"
    }
   ],
   "source": [
    "# смотрим размер файла\n",
    "data.shape"
   ]
  },
  {
   "cell_type": "code",
   "execution_count": 10,
   "metadata": {},
   "outputs": [],
   "source": [
    "# возьмем последовательность полей в более удобном виде\n",
    "data = data[['Brand', 'Model', 'RegistrationYear', 'RegistrationMonth', 'Kilometer', 'Power', \n",
    " 'VehicleType', 'Gearbox', 'FuelType', 'Repaired', \n",
    " 'NumberOfPictures', 'LastSeen',\n",
    " 'DateCreated', 'PostalCode', 'DateCrawled', 'Price']]\n"
   ]
  },
  {
   "cell_type": "code",
   "execution_count": 125,
   "metadata": {},
   "outputs": [
    {
     "name": "stdout",
     "output_type": "stream",
     "text": [
      "<class 'pandas.core.frame.DataFrame'>\n",
      "RangeIndex: 354369 entries, 0 to 354368\n",
      "Data columns (total 16 columns):\n",
      " #   Column             Non-Null Count   Dtype \n",
      "---  ------             --------------   ----- \n",
      " 0   Brand              354369 non-null  object\n",
      " 1   Model              334664 non-null  object\n",
      " 2   RegistrationYear   354369 non-null  int64 \n",
      " 3   RegistrationMonth  354369 non-null  int64 \n",
      " 4   Kilometer          354369 non-null  int64 \n",
      " 5   Power              354369 non-null  int64 \n",
      " 6   VehicleType        316879 non-null  object\n",
      " 7   Gearbox            334536 non-null  object\n",
      " 8   FuelType           321474 non-null  object\n",
      " 9   Repaired           283215 non-null  object\n",
      " 10  NumberOfPictures   354369 non-null  int64 \n",
      " 11  LastSeen           354369 non-null  object\n",
      " 12  DateCreated        354369 non-null  object\n",
      " 13  PostalCode         354369 non-null  int64 \n",
      " 14  DateCrawled        354369 non-null  object\n",
      " 15  Price              354369 non-null  int64 \n",
      "dtypes: int64(7), object(9)\n",
      "memory usage: 43.3+ MB\n"
     ]
    }
   ],
   "source": [
    "# информация о файле \n",
    "data.info()"
   ]
  },
  {
   "cell_type": "code",
   "execution_count": 126,
   "metadata": {},
   "outputs": [
    {
     "data": {
      "text/html": [
       "<div>\n",
       "<style scoped>\n",
       "    .dataframe tbody tr th:only-of-type {\n",
       "        vertical-align: middle;\n",
       "    }\n",
       "\n",
       "    .dataframe tbody tr th {\n",
       "        vertical-align: top;\n",
       "    }\n",
       "\n",
       "    .dataframe thead th {\n",
       "        text-align: right;\n",
       "    }\n",
       "</style>\n",
       "<table border=\"1\" class=\"dataframe\">\n",
       "  <thead>\n",
       "    <tr style=\"text-align: right;\">\n",
       "      <th></th>\n",
       "      <th>RegistrationYear</th>\n",
       "      <th>RegistrationMonth</th>\n",
       "      <th>Kilometer</th>\n",
       "      <th>Power</th>\n",
       "      <th>NumberOfPictures</th>\n",
       "      <th>PostalCode</th>\n",
       "      <th>Price</th>\n",
       "    </tr>\n",
       "  </thead>\n",
       "  <tbody>\n",
       "    <tr>\n",
       "      <th>count</th>\n",
       "      <td>354369.000000</td>\n",
       "      <td>354369.000000</td>\n",
       "      <td>354369.000000</td>\n",
       "      <td>354369.000000</td>\n",
       "      <td>354369.0</td>\n",
       "      <td>354369.000000</td>\n",
       "      <td>354369.000000</td>\n",
       "    </tr>\n",
       "    <tr>\n",
       "      <th>mean</th>\n",
       "      <td>2004.234448</td>\n",
       "      <td>5.714645</td>\n",
       "      <td>128211.172535</td>\n",
       "      <td>110.094337</td>\n",
       "      <td>0.0</td>\n",
       "      <td>50508.689087</td>\n",
       "      <td>4416.656776</td>\n",
       "    </tr>\n",
       "    <tr>\n",
       "      <th>std</th>\n",
       "      <td>90.227958</td>\n",
       "      <td>3.726421</td>\n",
       "      <td>37905.341530</td>\n",
       "      <td>189.850405</td>\n",
       "      <td>0.0</td>\n",
       "      <td>25783.096248</td>\n",
       "      <td>4514.158514</td>\n",
       "    </tr>\n",
       "    <tr>\n",
       "      <th>min</th>\n",
       "      <td>1000.000000</td>\n",
       "      <td>0.000000</td>\n",
       "      <td>5000.000000</td>\n",
       "      <td>0.000000</td>\n",
       "      <td>0.0</td>\n",
       "      <td>1067.000000</td>\n",
       "      <td>0.000000</td>\n",
       "    </tr>\n",
       "    <tr>\n",
       "      <th>25%</th>\n",
       "      <td>1999.000000</td>\n",
       "      <td>3.000000</td>\n",
       "      <td>125000.000000</td>\n",
       "      <td>69.000000</td>\n",
       "      <td>0.0</td>\n",
       "      <td>30165.000000</td>\n",
       "      <td>1050.000000</td>\n",
       "    </tr>\n",
       "    <tr>\n",
       "      <th>50%</th>\n",
       "      <td>2003.000000</td>\n",
       "      <td>6.000000</td>\n",
       "      <td>150000.000000</td>\n",
       "      <td>105.000000</td>\n",
       "      <td>0.0</td>\n",
       "      <td>49413.000000</td>\n",
       "      <td>2700.000000</td>\n",
       "    </tr>\n",
       "    <tr>\n",
       "      <th>75%</th>\n",
       "      <td>2008.000000</td>\n",
       "      <td>9.000000</td>\n",
       "      <td>150000.000000</td>\n",
       "      <td>143.000000</td>\n",
       "      <td>0.0</td>\n",
       "      <td>71083.000000</td>\n",
       "      <td>6400.000000</td>\n",
       "    </tr>\n",
       "    <tr>\n",
       "      <th>max</th>\n",
       "      <td>9999.000000</td>\n",
       "      <td>12.000000</td>\n",
       "      <td>150000.000000</td>\n",
       "      <td>20000.000000</td>\n",
       "      <td>0.0</td>\n",
       "      <td>99998.000000</td>\n",
       "      <td>20000.000000</td>\n",
       "    </tr>\n",
       "  </tbody>\n",
       "</table>\n",
       "</div>"
      ],
      "text/plain": [
       "       RegistrationYear  RegistrationMonth      Kilometer          Power  \\\n",
       "count     354369.000000      354369.000000  354369.000000  354369.000000   \n",
       "mean        2004.234448           5.714645  128211.172535     110.094337   \n",
       "std           90.227958           3.726421   37905.341530     189.850405   \n",
       "min         1000.000000           0.000000    5000.000000       0.000000   \n",
       "25%         1999.000000           3.000000  125000.000000      69.000000   \n",
       "50%         2003.000000           6.000000  150000.000000     105.000000   \n",
       "75%         2008.000000           9.000000  150000.000000     143.000000   \n",
       "max         9999.000000          12.000000  150000.000000   20000.000000   \n",
       "\n",
       "       NumberOfPictures     PostalCode          Price  \n",
       "count          354369.0  354369.000000  354369.000000  \n",
       "mean                0.0   50508.689087    4416.656776  \n",
       "std                 0.0   25783.096248    4514.158514  \n",
       "min                 0.0    1067.000000       0.000000  \n",
       "25%                 0.0   30165.000000    1050.000000  \n",
       "50%                 0.0   49413.000000    2700.000000  \n",
       "75%                 0.0   71083.000000    6400.000000  \n",
       "max                 0.0   99998.000000   20000.000000  "
      ]
     },
     "execution_count": 126,
     "metadata": {},
     "output_type": "execute_result"
    }
   ],
   "source": [
    "# описание стандартных метрик критериев\n",
    "data.describe()"
   ]
  },
  {
   "cell_type": "markdown",
   "metadata": {},
   "source": [
    "В загруженных данных бросаются в глаза неадекватные минимальные и максимальные значения года регистрации, а также мощности автомобиля. Количество фото не заполнено. Средняя стоимость авто составляет 4416, медианное значение 2700."
   ]
  },
  {
   "cell_type": "code",
   "execution_count": 127,
   "metadata": {},
   "outputs": [],
   "source": [
    "# Ядро барахлит, поэтому заккомитил То работает, то неработает. К сожалению не могу больше тярять время.\n",
    "# В любом случае во время обучения не злоупотреблять, чтобы руки не забыл как делать EDA анализ)\n",
    "# разведочный анализ данных с помощью pandas_profiling\n",
    "# pandas_profiling.ProfileReport(data)"
   ]
  },
  {
   "cell_type": "markdown",
   "metadata": {},
   "source": [
    "### Дубликаты в данных"
   ]
  },
  {
   "cell_type": "code",
   "execution_count": 128,
   "metadata": {},
   "outputs": [
    {
     "name": "stdout",
     "output_type": "stream",
     "text": [
      "Количество дубликатов 4\n"
     ]
    }
   ],
   "source": [
    "print('Количество дубликатов', data[data.duplicated()]['Brand'].count())"
   ]
  },
  {
   "cell_type": "code",
   "execution_count": 11,
   "metadata": {},
   "outputs": [],
   "source": [
    "# удалим дубликаты\n",
    "data = data.drop_duplicates()"
   ]
  },
  {
   "cell_type": "markdown",
   "metadata": {},
   "source": [
    "Дубликаты в данных удалены"
   ]
  },
  {
   "cell_type": "markdown",
   "metadata": {},
   "source": [
    "### Пропуски в данных"
   ]
  },
  {
   "cell_type": "code",
   "execution_count": 130,
   "metadata": {},
   "outputs": [
    {
     "data": {
      "text/plain": [
       "Brand                    0\n",
       "Model                19705\n",
       "RegistrationYear         0\n",
       "RegistrationMonth        0\n",
       "Kilometer                0\n",
       "Power                    0\n",
       "VehicleType          37490\n",
       "Gearbox              19833\n",
       "FuelType             32895\n",
       "Repaired             71154\n",
       "NumberOfPictures         0\n",
       "LastSeen                 0\n",
       "DateCreated              0\n",
       "PostalCode               0\n",
       "DateCrawled              0\n",
       "Price                    0\n",
       "dtype: int64"
      ]
     },
     "execution_count": 130,
     "metadata": {},
     "output_type": "execute_result"
    }
   ],
   "source": [
    "# смотрим пропуски\n",
    "data.isna().sum()"
   ]
  },
  {
   "cell_type": "markdown",
   "metadata": {},
   "source": [
    "Обработаем пропуски для поля Model"
   ]
  },
  {
   "cell_type": "code",
   "execution_count": 12,
   "metadata": {},
   "outputs": [],
   "source": [
    "# Заполним пустуе ячейки \n",
    "data['Model'] = data['Model'].fillna('unknow')"
   ]
  },
  {
   "cell_type": "markdown",
   "metadata": {},
   "source": [
    "Обработаем пропуски для поля VehicleType"
   ]
  },
  {
   "cell_type": "code",
   "execution_count": 13,
   "metadata": {},
   "outputs": [
    {
     "data": {
      "text/plain": [
       "array([nan, 'coupe', 'suv', 'small', 'sedan', 'convertible', 'bus',\n",
       "       'wagon', 'other'], dtype=object)"
      ]
     },
     "execution_count": 13,
     "metadata": {},
     "output_type": "execute_result"
    }
   ],
   "source": [
    "# смотрим уникальные значения\n",
    "data['VehicleType'].unique()"
   ]
  },
  {
   "cell_type": "markdown",
   "metadata": {},
   "source": [
    "Из таблицы ниже видно, что у каждой модели может быть несколько типов кузова. Поэтому заполнить пропуски в типах кузова по бренду и модели не представляется возможным."
   ]
  },
  {
   "cell_type": "code",
   "execution_count": 133,
   "metadata": {},
   "outputs": [
    {
     "data": {
      "text/html": [
       "<div>\n",
       "<style scoped>\n",
       "    .dataframe tbody tr th:only-of-type {\n",
       "        vertical-align: middle;\n",
       "    }\n",
       "\n",
       "    .dataframe tbody tr th {\n",
       "        vertical-align: top;\n",
       "    }\n",
       "\n",
       "    .dataframe thead tr th {\n",
       "        text-align: left;\n",
       "    }\n",
       "\n",
       "    .dataframe thead tr:last-of-type th {\n",
       "        text-align: right;\n",
       "    }\n",
       "</style>\n",
       "<table border=\"1\" class=\"dataframe\">\n",
       "  <thead>\n",
       "    <tr>\n",
       "      <th></th>\n",
       "      <th></th>\n",
       "      <th></th>\n",
       "      <th colspan=\"4\" halign=\"left\">Price</th>\n",
       "    </tr>\n",
       "    <tr>\n",
       "      <th></th>\n",
       "      <th></th>\n",
       "      <th></th>\n",
       "      <th>count</th>\n",
       "      <th>min</th>\n",
       "      <th>mean</th>\n",
       "      <th>max</th>\n",
       "    </tr>\n",
       "    <tr>\n",
       "      <th>Brand</th>\n",
       "      <th>Model</th>\n",
       "      <th>VehicleType</th>\n",
       "      <th></th>\n",
       "      <th></th>\n",
       "      <th></th>\n",
       "      <th></th>\n",
       "    </tr>\n",
       "  </thead>\n",
       "  <tbody>\n",
       "    <tr>\n",
       "      <th rowspan=\"5\" valign=\"top\">alfa_romeo</th>\n",
       "      <th rowspan=\"4\" valign=\"top\">145</th>\n",
       "      <th>coupe</th>\n",
       "      <td>2</td>\n",
       "      <td>450</td>\n",
       "      <td>600.000000</td>\n",
       "      <td>750</td>\n",
       "    </tr>\n",
       "    <tr>\n",
       "      <th>other</th>\n",
       "      <td>1</td>\n",
       "      <td>500</td>\n",
       "      <td>500.000000</td>\n",
       "      <td>500</td>\n",
       "    </tr>\n",
       "    <tr>\n",
       "      <th>sedan</th>\n",
       "      <td>13</td>\n",
       "      <td>0</td>\n",
       "      <td>1440.692308</td>\n",
       "      <td>5000</td>\n",
       "    </tr>\n",
       "    <tr>\n",
       "      <th>small</th>\n",
       "      <td>19</td>\n",
       "      <td>150</td>\n",
       "      <td>798.473684</td>\n",
       "      <td>2200</td>\n",
       "    </tr>\n",
       "    <tr>\n",
       "      <th>147</th>\n",
       "      <th>coupe</th>\n",
       "      <td>27</td>\n",
       "      <td>0</td>\n",
       "      <td>2161.037037</td>\n",
       "      <td>6750</td>\n",
       "    </tr>\n",
       "    <tr>\n",
       "      <th>...</th>\n",
       "      <th>...</th>\n",
       "      <th>...</th>\n",
       "      <td>...</td>\n",
       "      <td>...</td>\n",
       "      <td>...</td>\n",
       "      <td>...</td>\n",
       "    </tr>\n",
       "    <tr>\n",
       "      <th rowspan=\"5\" valign=\"top\">volvo</th>\n",
       "      <th rowspan=\"2\" valign=\"top\">v70</th>\n",
       "      <th>coupe</th>\n",
       "      <td>1</td>\n",
       "      <td>500</td>\n",
       "      <td>500.000000</td>\n",
       "      <td>500</td>\n",
       "    </tr>\n",
       "    <tr>\n",
       "      <th>wagon</th>\n",
       "      <td>608</td>\n",
       "      <td>0</td>\n",
       "      <td>3996.909539</td>\n",
       "      <td>19999</td>\n",
       "    </tr>\n",
       "    <tr>\n",
       "      <th rowspan=\"3\" valign=\"top\">xc_reihe</th>\n",
       "      <th>sedan</th>\n",
       "      <td>3</td>\n",
       "      <td>6500</td>\n",
       "      <td>6500.000000</td>\n",
       "      <td>6500</td>\n",
       "    </tr>\n",
       "    <tr>\n",
       "      <th>suv</th>\n",
       "      <td>216</td>\n",
       "      <td>414</td>\n",
       "      <td>12025.712963</td>\n",
       "      <td>19999</td>\n",
       "    </tr>\n",
       "    <tr>\n",
       "      <th>wagon</th>\n",
       "      <td>41</td>\n",
       "      <td>850</td>\n",
       "      <td>10166.463415</td>\n",
       "      <td>20000</td>\n",
       "    </tr>\n",
       "  </tbody>\n",
       "</table>\n",
       "<p>1665 rows × 4 columns</p>\n",
       "</div>"
      ],
      "text/plain": [
       "                                Price                           \n",
       "                                count   min          mean    max\n",
       "Brand      Model    VehicleType                                 \n",
       "alfa_romeo 145      coupe           2   450    600.000000    750\n",
       "                    other           1   500    500.000000    500\n",
       "                    sedan          13     0   1440.692308   5000\n",
       "                    small          19   150    798.473684   2200\n",
       "           147      coupe          27     0   2161.037037   6750\n",
       "...                               ...   ...           ...    ...\n",
       "volvo      v70      coupe           1   500    500.000000    500\n",
       "                    wagon         608     0   3996.909539  19999\n",
       "           xc_reihe sedan           3  6500   6500.000000   6500\n",
       "                    suv           216   414  12025.712963  19999\n",
       "                    wagon          41   850  10166.463415  20000\n",
       "\n",
       "[1665 rows x 4 columns]"
      ]
     },
     "execution_count": 133,
     "metadata": {},
     "output_type": "execute_result"
    }
   ],
   "source": [
    "# Посмотрим как соотносится тип кузова с брендом и моделью\n",
    "data[['Brand', 'Model', 'VehicleType', 'Price']].\\\n",
    "groupby(['Brand', 'Model', 'VehicleType'])\\\n",
    ".agg({'Price': ['count', 'min', 'mean', 'max']})"
   ]
  },
  {
   "cell_type": "code",
   "execution_count": 14,
   "metadata": {},
   "outputs": [],
   "source": [
    "# Заполним пустуе ячейки в поле VehicleType\n",
    "data['VehicleType'] = data['VehicleType'].fillna('unknow')"
   ]
  },
  {
   "cell_type": "markdown",
   "metadata": {},
   "source": [
    "Обработаем пропуски для поля Gearbox. Логика следующая - смотрим моедли только с одним типом коробки передач. Принимаем допущение, что исходные данные у нас достаточно полные, и если у модели один тип коробки передач, то и у пропущенных значений Gearbox, аналогиная каробка. Оставшиеся значения заполним unknow."
   ]
  },
  {
   "cell_type": "code",
   "execution_count": 15,
   "metadata": {},
   "outputs": [
    {
     "data": {
      "text/plain": [
       "array(['manual', 'auto', nan], dtype=object)"
      ]
     },
     "execution_count": 15,
     "metadata": {},
     "output_type": "execute_result"
    }
   ],
   "source": [
    "# смотрим уникальные значения для поля\n",
    "data['Gearbox'].unique()"
   ]
  },
  {
   "cell_type": "code",
   "execution_count": 16,
   "metadata": {},
   "outputs": [
    {
     "data": {
      "text/html": [
       "<div>\n",
       "<style scoped>\n",
       "    .dataframe tbody tr th:only-of-type {\n",
       "        vertical-align: middle;\n",
       "    }\n",
       "\n",
       "    .dataframe tbody tr th {\n",
       "        vertical-align: top;\n",
       "    }\n",
       "\n",
       "    .dataframe thead tr th {\n",
       "        text-align: left;\n",
       "    }\n",
       "</style>\n",
       "<table border=\"1\" class=\"dataframe\">\n",
       "  <thead>\n",
       "    <tr>\n",
       "      <th></th>\n",
       "      <th>Brand</th>\n",
       "      <th>Model</th>\n",
       "      <th>Gearbox</th>\n",
       "      <th>Price</th>\n",
       "    </tr>\n",
       "    <tr>\n",
       "      <th></th>\n",
       "      <th></th>\n",
       "      <th></th>\n",
       "      <th></th>\n",
       "      <th>count</th>\n",
       "    </tr>\n",
       "  </thead>\n",
       "  <tbody>\n",
       "    <tr>\n",
       "      <th>0</th>\n",
       "      <td>alfa_romeo</td>\n",
       "      <td>145</td>\n",
       "      <td>manual</td>\n",
       "      <td>40</td>\n",
       "    </tr>\n",
       "    <tr>\n",
       "      <th>1</th>\n",
       "      <td>alfa_romeo</td>\n",
       "      <td>147</td>\n",
       "      <td>auto</td>\n",
       "      <td>29</td>\n",
       "    </tr>\n",
       "  </tbody>\n",
       "</table>\n",
       "</div>"
      ],
      "text/plain": [
       "        Brand Model Gearbox Price\n",
       "                            count\n",
       "0  alfa_romeo   145  manual    40\n",
       "1  alfa_romeo   147    auto    29"
      ]
     },
     "execution_count": 16,
     "metadata": {},
     "output_type": "execute_result"
    }
   ],
   "source": [
    "# подготовим вспомогательную таблицу\n",
    "gearbox_df = data[['Brand', 'Model', 'Gearbox', 'Price']].\\\n",
    "groupby(['Brand', 'Model', 'Gearbox']).\\\n",
    "agg({'Price' : ['count']}).reset_index()\n",
    "gearbox_df.head(2)"
   ]
  },
  {
   "cell_type": "code",
   "execution_count": 17,
   "metadata": {},
   "outputs": [
    {
     "name": "stderr",
     "output_type": "stream",
     "text": [
      "/tmp/ipykernel_78/2802522539.py:2: UserWarning: Boolean Series key will be reindexed to match DataFrame index.\n",
      "  models_one_gearbox = gearbox_df.groupby(['Brand', 'Model', 'Gearbox']).agg({'Gearbox':['count']})\\\n"
     ]
    },
    {
     "data": {
      "text/html": [
       "<div>\n",
       "<style scoped>\n",
       "    .dataframe tbody tr th:only-of-type {\n",
       "        vertical-align: middle;\n",
       "    }\n",
       "\n",
       "    .dataframe tbody tr th {\n",
       "        vertical-align: top;\n",
       "    }\n",
       "\n",
       "    .dataframe thead tr th {\n",
       "        text-align: left;\n",
       "    }\n",
       "\n",
       "    .dataframe thead tr:last-of-type th {\n",
       "        text-align: right;\n",
       "    }\n",
       "</style>\n",
       "<table border=\"1\" class=\"dataframe\">\n",
       "  <thead>\n",
       "    <tr>\n",
       "      <th></th>\n",
       "      <th></th>\n",
       "      <th></th>\n",
       "      <th>Gearbox</th>\n",
       "    </tr>\n",
       "    <tr>\n",
       "      <th></th>\n",
       "      <th></th>\n",
       "      <th></th>\n",
       "      <th>count</th>\n",
       "    </tr>\n",
       "    <tr>\n",
       "      <th>Brand</th>\n",
       "      <th>Model</th>\n",
       "      <th>Gearbox</th>\n",
       "      <th></th>\n",
       "    </tr>\n",
       "  </thead>\n",
       "  <tbody>\n",
       "    <tr>\n",
       "      <th>alfa_romeo</th>\n",
       "      <th>145</th>\n",
       "      <th>manual</th>\n",
       "      <td>1</td>\n",
       "    </tr>\n",
       "    <tr>\n",
       "      <th>chevrolet</th>\n",
       "      <th>spark</th>\n",
       "      <th>manual</th>\n",
       "      <td>1</td>\n",
       "    </tr>\n",
       "    <tr>\n",
       "      <th rowspan=\"5\" valign=\"top\">dacia</th>\n",
       "      <th>duster</th>\n",
       "      <th>manual</th>\n",
       "      <td>1</td>\n",
       "    </tr>\n",
       "    <tr>\n",
       "      <th>lodgy</th>\n",
       "      <th>manual</th>\n",
       "      <td>1</td>\n",
       "    </tr>\n",
       "    <tr>\n",
       "      <th>logan</th>\n",
       "      <th>manual</th>\n",
       "      <td>1</td>\n",
       "    </tr>\n",
       "    <tr>\n",
       "      <th>other</th>\n",
       "      <th>manual</th>\n",
       "      <td>1</td>\n",
       "    </tr>\n",
       "    <tr>\n",
       "      <th>unknow</th>\n",
       "      <th>manual</th>\n",
       "      <td>1</td>\n",
       "    </tr>\n",
       "    <tr>\n",
       "      <th>daewoo</th>\n",
       "      <th>matiz</th>\n",
       "      <th>manual</th>\n",
       "      <td>1</td>\n",
       "    </tr>\n",
       "    <tr>\n",
       "      <th rowspan=\"4\" valign=\"top\">lada</th>\n",
       "      <th>kalina</th>\n",
       "      <th>manual</th>\n",
       "      <td>1</td>\n",
       "    </tr>\n",
       "    <tr>\n",
       "      <th>niva</th>\n",
       "      <th>manual</th>\n",
       "      <td>1</td>\n",
       "    </tr>\n",
       "    <tr>\n",
       "      <th>samara</th>\n",
       "      <th>manual</th>\n",
       "      <td>1</td>\n",
       "    </tr>\n",
       "    <tr>\n",
       "      <th>unknow</th>\n",
       "      <th>manual</th>\n",
       "      <td>1</td>\n",
       "    </tr>\n",
       "    <tr>\n",
       "      <th>lancia</th>\n",
       "      <th>elefantino</th>\n",
       "      <th>manual</th>\n",
       "      <td>1</td>\n",
       "    </tr>\n",
       "    <tr>\n",
       "      <th rowspan=\"4\" valign=\"top\">land_rover</th>\n",
       "      <th>range_rover_evoque</th>\n",
       "      <th>auto</th>\n",
       "      <td>1</td>\n",
       "    </tr>\n",
       "    <tr>\n",
       "      <th>serie_1</th>\n",
       "      <th>manual</th>\n",
       "      <td>1</td>\n",
       "    </tr>\n",
       "    <tr>\n",
       "      <th>serie_2</th>\n",
       "      <th>manual</th>\n",
       "      <td>1</td>\n",
       "    </tr>\n",
       "    <tr>\n",
       "      <th>serie_3</th>\n",
       "      <th>manual</th>\n",
       "      <td>1</td>\n",
       "    </tr>\n",
       "    <tr>\n",
       "      <th>mercedes_benz</th>\n",
       "      <th>gl</th>\n",
       "      <th>auto</th>\n",
       "      <td>1</td>\n",
       "    </tr>\n",
       "    <tr>\n",
       "      <th>mini</th>\n",
       "      <th>other</th>\n",
       "      <th>manual</th>\n",
       "      <td>1</td>\n",
       "    </tr>\n",
       "    <tr>\n",
       "      <th rowspan=\"2\" valign=\"top\">rover</th>\n",
       "      <th>defender</th>\n",
       "      <th>manual</th>\n",
       "      <td>1</td>\n",
       "    </tr>\n",
       "    <tr>\n",
       "      <th>discovery</th>\n",
       "      <th>manual</th>\n",
       "      <td>1</td>\n",
       "    </tr>\n",
       "    <tr>\n",
       "      <th>seat</th>\n",
       "      <th>other</th>\n",
       "      <th>manual</th>\n",
       "      <td>1</td>\n",
       "    </tr>\n",
       "    <tr>\n",
       "      <th rowspan=\"2\" valign=\"top\">trabant</th>\n",
       "      <th>other</th>\n",
       "      <th>manual</th>\n",
       "      <td>1</td>\n",
       "    </tr>\n",
       "    <tr>\n",
       "      <th>unknow</th>\n",
       "      <th>manual</th>\n",
       "      <td>1</td>\n",
       "    </tr>\n",
       "    <tr>\n",
       "      <th>volkswagen</th>\n",
       "      <th>fox</th>\n",
       "      <th>manual</th>\n",
       "      <td>1</td>\n",
       "    </tr>\n",
       "  </tbody>\n",
       "</table>\n",
       "</div>"
      ],
      "text/plain": [
       "                                         Gearbox\n",
       "                                           count\n",
       "Brand         Model              Gearbox        \n",
       "alfa_romeo    145                manual        1\n",
       "chevrolet     spark              manual        1\n",
       "dacia         duster             manual        1\n",
       "              lodgy              manual        1\n",
       "              logan              manual        1\n",
       "              other              manual        1\n",
       "              unknow             manual        1\n",
       "daewoo        matiz              manual        1\n",
       "lada          kalina             manual        1\n",
       "              niva               manual        1\n",
       "              samara             manual        1\n",
       "              unknow             manual        1\n",
       "lancia        elefantino         manual        1\n",
       "land_rover    range_rover_evoque auto          1\n",
       "              serie_1            manual        1\n",
       "              serie_2            manual        1\n",
       "              serie_3            manual        1\n",
       "mercedes_benz gl                 auto          1\n",
       "mini          other              manual        1\n",
       "rover         defender           manual        1\n",
       "              discovery          manual        1\n",
       "seat          other              manual        1\n",
       "trabant       other              manual        1\n",
       "              unknow             manual        1\n",
       "volkswagen    fox                manual        1"
      ]
     },
     "execution_count": 17,
     "metadata": {},
     "output_type": "execute_result"
    }
   ],
   "source": [
    "# подготовим вторую вспомогательную таблицу, с моделями где используется только один тип коробки передач\n",
    "models_one_gearbox = gearbox_df.groupby(['Brand', 'Model', 'Gearbox']).agg({'Gearbox':['count']})\\\n",
    "[gearbox_df.groupby(['Brand', 'Model']).agg({'Gearbox':['count']})['Gearbox']['count'] == 1]\n",
    "\n",
    "models_one_gearbox"
   ]
  },
  {
   "cell_type": "code",
   "execution_count": 18,
   "metadata": {},
   "outputs": [],
   "source": [
    "# Заполним в цикле пропуски для найденных моделей \n",
    "for model in models_one_gearbox.index:\n",
    "    data.loc[(data['Model'] == model[1])&(data['Gearbox'].isna()), 'Gearbox'] = model[2]"
   ]
  },
  {
   "cell_type": "markdown",
   "metadata": {},
   "source": [
    "Удалось осознанно заполнить 5636 пропусков поля Gearbox. По аналогичным значениям модели."
   ]
  },
  {
   "cell_type": "code",
   "execution_count": 19,
   "metadata": {},
   "outputs": [],
   "source": [
    "# Остальные значения заполняем unknow\n",
    "data['Gearbox'] = data['Gearbox'].fillna('unknow')"
   ]
  },
  {
   "cell_type": "markdown",
   "metadata": {},
   "source": [
    "Обработаем пропуски для поля FuelType"
   ]
  },
  {
   "cell_type": "code",
   "execution_count": 140,
   "metadata": {},
   "outputs": [
    {
     "data": {
      "text/plain": [
       "array(['petrol', 'gasoline', nan, 'lpg', 'other', 'hybrid', 'cng',\n",
       "       'electric'], dtype=object)"
      ]
     },
     "execution_count": 140,
     "metadata": {},
     "output_type": "execute_result"
    }
   ],
   "source": [
    "# смотрим уникальные значения поля\n",
    "data['FuelType'].unique()"
   ]
  },
  {
   "cell_type": "markdown",
   "metadata": {},
   "source": [
    "Считаю нужным посмотреть связь с моделями авто, т.к. могут быть некоторые модели только электрические, например, или может быть только дизельные"
   ]
  },
  {
   "cell_type": "code",
   "execution_count": 20,
   "metadata": {},
   "outputs": [
    {
     "data": {
      "text/html": [
       "<div>\n",
       "<style scoped>\n",
       "    .dataframe tbody tr th:only-of-type {\n",
       "        vertical-align: middle;\n",
       "    }\n",
       "\n",
       "    .dataframe tbody tr th {\n",
       "        vertical-align: top;\n",
       "    }\n",
       "\n",
       "    .dataframe thead th {\n",
       "        text-align: right;\n",
       "    }\n",
       "</style>\n",
       "<table border=\"1\" class=\"dataframe\">\n",
       "  <thead>\n",
       "    <tr style=\"text-align: right;\">\n",
       "      <th></th>\n",
       "      <th>Brand</th>\n",
       "      <th>Model</th>\n",
       "      <th>FuelType</th>\n",
       "      <th>Price</th>\n",
       "    </tr>\n",
       "  </thead>\n",
       "  <tbody>\n",
       "    <tr>\n",
       "      <th>0</th>\n",
       "      <td>alfa_romeo</td>\n",
       "      <td>145</td>\n",
       "      <td>gasoline</td>\n",
       "      <td>1</td>\n",
       "    </tr>\n",
       "    <tr>\n",
       "      <th>1</th>\n",
       "      <td>alfa_romeo</td>\n",
       "      <td>145</td>\n",
       "      <td>petrol</td>\n",
       "      <td>43</td>\n",
       "    </tr>\n",
       "    <tr>\n",
       "      <th>2</th>\n",
       "      <td>alfa_romeo</td>\n",
       "      <td>147</td>\n",
       "      <td>gasoline</td>\n",
       "      <td>133</td>\n",
       "    </tr>\n",
       "    <tr>\n",
       "      <th>3</th>\n",
       "      <td>alfa_romeo</td>\n",
       "      <td>147</td>\n",
       "      <td>lpg</td>\n",
       "      <td>18</td>\n",
       "    </tr>\n",
       "    <tr>\n",
       "      <th>4</th>\n",
       "      <td>alfa_romeo</td>\n",
       "      <td>147</td>\n",
       "      <td>petrol</td>\n",
       "      <td>390</td>\n",
       "    </tr>\n",
       "  </tbody>\n",
       "</table>\n",
       "</div>"
      ],
      "text/plain": [
       "        Brand Model  FuelType  Price\n",
       "0  alfa_romeo   145  gasoline      1\n",
       "1  alfa_romeo   145    petrol     43\n",
       "2  alfa_romeo   147  gasoline    133\n",
       "3  alfa_romeo   147       lpg     18\n",
       "4  alfa_romeo   147    petrol    390"
      ]
     },
     "execution_count": 20,
     "metadata": {},
     "output_type": "execute_result"
    }
   ],
   "source": [
    "# подготовим вспомогательную таблицу\n",
    "fuel_type_models = data[['Brand', 'Model', 'FuelType', 'Price']].\\\n",
    "groupby(['Brand', 'Model', 'FuelType']).count().reset_index()\n",
    "fuel_type_models.head()"
   ]
  },
  {
   "cell_type": "code",
   "execution_count": 21,
   "metadata": {},
   "outputs": [
    {
     "name": "stderr",
     "output_type": "stream",
     "text": [
      "/tmp/ipykernel_78/3274217518.py:2: UserWarning: Boolean Series key will be reindexed to match DataFrame index.\n",
      "  fuel_type_models = fuel_type_models.groupby(['Brand', 'Model', 'FuelType']).agg({'FuelType':['count']})\\\n"
     ]
    },
    {
     "data": {
      "text/html": [
       "<div>\n",
       "<style scoped>\n",
       "    .dataframe tbody tr th:only-of-type {\n",
       "        vertical-align: middle;\n",
       "    }\n",
       "\n",
       "    .dataframe tbody tr th {\n",
       "        vertical-align: top;\n",
       "    }\n",
       "\n",
       "    .dataframe thead tr th {\n",
       "        text-align: left;\n",
       "    }\n",
       "</style>\n",
       "<table border=\"1\" class=\"dataframe\">\n",
       "  <thead>\n",
       "    <tr>\n",
       "      <th></th>\n",
       "      <th>Brand</th>\n",
       "      <th>Model</th>\n",
       "      <th colspan=\"2\" halign=\"left\">FuelType</th>\n",
       "    </tr>\n",
       "    <tr>\n",
       "      <th></th>\n",
       "      <th></th>\n",
       "      <th></th>\n",
       "      <th></th>\n",
       "      <th>count</th>\n",
       "    </tr>\n",
       "  </thead>\n",
       "  <tbody>\n",
       "    <tr>\n",
       "      <th>0</th>\n",
       "      <td>audi</td>\n",
       "      <td>200</td>\n",
       "      <td>petrol</td>\n",
       "      <td>1</td>\n",
       "    </tr>\n",
       "    <tr>\n",
       "      <th>1</th>\n",
       "      <td>audi</td>\n",
       "      <td>90</td>\n",
       "      <td>petrol</td>\n",
       "      <td>1</td>\n",
       "    </tr>\n",
       "    <tr>\n",
       "      <th>2</th>\n",
       "      <td>daihatsu</td>\n",
       "      <td>charade</td>\n",
       "      <td>petrol</td>\n",
       "      <td>1</td>\n",
       "    </tr>\n",
       "    <tr>\n",
       "      <th>3</th>\n",
       "      <td>daihatsu</td>\n",
       "      <td>materia</td>\n",
       "      <td>petrol</td>\n",
       "      <td>1</td>\n",
       "    </tr>\n",
       "    <tr>\n",
       "      <th>4</th>\n",
       "      <td>daihatsu</td>\n",
       "      <td>move</td>\n",
       "      <td>petrol</td>\n",
       "      <td>1</td>\n",
       "    </tr>\n",
       "    <tr>\n",
       "      <th>5</th>\n",
       "      <td>jaguar</td>\n",
       "      <td>unknow</td>\n",
       "      <td>petrol</td>\n",
       "      <td>1</td>\n",
       "    </tr>\n",
       "    <tr>\n",
       "      <th>6</th>\n",
       "      <td>lancia</td>\n",
       "      <td>elefantino</td>\n",
       "      <td>petrol</td>\n",
       "      <td>1</td>\n",
       "    </tr>\n",
       "    <tr>\n",
       "      <th>7</th>\n",
       "      <td>lancia</td>\n",
       "      <td>unknow</td>\n",
       "      <td>petrol</td>\n",
       "      <td>1</td>\n",
       "    </tr>\n",
       "    <tr>\n",
       "      <th>8</th>\n",
       "      <td>land_rover</td>\n",
       "      <td>range_rover_evoque</td>\n",
       "      <td>gasoline</td>\n",
       "      <td>1</td>\n",
       "    </tr>\n",
       "    <tr>\n",
       "      <th>9</th>\n",
       "      <td>opel</td>\n",
       "      <td>kadett</td>\n",
       "      <td>petrol</td>\n",
       "      <td>1</td>\n",
       "    </tr>\n",
       "    <tr>\n",
       "      <th>10</th>\n",
       "      <td>porsche</td>\n",
       "      <td>911</td>\n",
       "      <td>petrol</td>\n",
       "      <td>1</td>\n",
       "    </tr>\n",
       "    <tr>\n",
       "      <th>11</th>\n",
       "      <td>porsche</td>\n",
       "      <td>boxster</td>\n",
       "      <td>petrol</td>\n",
       "      <td>1</td>\n",
       "    </tr>\n",
       "    <tr>\n",
       "      <th>12</th>\n",
       "      <td>renault</td>\n",
       "      <td>r19</td>\n",
       "      <td>petrol</td>\n",
       "      <td>1</td>\n",
       "    </tr>\n",
       "    <tr>\n",
       "      <th>13</th>\n",
       "      <td>rover</td>\n",
       "      <td>defender</td>\n",
       "      <td>petrol</td>\n",
       "      <td>1</td>\n",
       "    </tr>\n",
       "    <tr>\n",
       "      <th>14</th>\n",
       "      <td>volkswagen</td>\n",
       "      <td>amarok</td>\n",
       "      <td>gasoline</td>\n",
       "      <td>1</td>\n",
       "    </tr>\n",
       "  </tbody>\n",
       "</table>\n",
       "</div>"
      ],
      "text/plain": [
       "         Brand               Model  FuelType      \n",
       "                                             count\n",
       "0         audi                 200    petrol     1\n",
       "1         audi                  90    petrol     1\n",
       "2     daihatsu             charade    petrol     1\n",
       "3     daihatsu             materia    petrol     1\n",
       "4     daihatsu                move    petrol     1\n",
       "5       jaguar              unknow    petrol     1\n",
       "6       lancia          elefantino    petrol     1\n",
       "7       lancia              unknow    petrol     1\n",
       "8   land_rover  range_rover_evoque  gasoline     1\n",
       "9         opel              kadett    petrol     1\n",
       "10     porsche                 911    petrol     1\n",
       "11     porsche             boxster    petrol     1\n",
       "12     renault                 r19    petrol     1\n",
       "13       rover            defender    petrol     1\n",
       "14  volkswagen              amarok  gasoline     1"
      ]
     },
     "execution_count": 21,
     "metadata": {},
     "output_type": "execute_result"
    }
   ],
   "source": [
    "# переформатируем таблицу с моделями где используется только один тип топлива\n",
    "fuel_type_models = fuel_type_models.groupby(['Brand', 'Model', 'FuelType']).agg({'FuelType':['count']})\\\n",
    "[fuel_type_models.groupby(['Brand', 'Model']).agg({'FuelType':['count']})['FuelType']['count'] == 1].reset_index()\n",
    "fuel_type_models"
   ]
  },
  {
   "cell_type": "code",
   "execution_count": 22,
   "metadata": {},
   "outputs": [],
   "source": [
    "# Заполним в цикле пропуски для найденных моделей \n",
    "for model in fuel_type_models.values:\n",
    "    data.loc[(data['Model'] == model[1]) & (data['FuelType'].isna()), 'FuelType'] = model[2]"
   ]
  },
  {
   "cell_type": "markdown",
   "metadata": {},
   "source": [
    "Таким образом удалось заполнить 7 328 пустых ячеек поля FuelType. Остальные ячейки заполняем unknow"
   ]
  },
  {
   "cell_type": "code",
   "execution_count": 23,
   "metadata": {},
   "outputs": [],
   "source": [
    "# Оставшиеся пустые ячейки поля FuelType ячейки заполняем unknow\n",
    "data['FuelType'] = data['FuelType'].fillna('unknow')"
   ]
  },
  {
   "cell_type": "markdown",
   "metadata": {},
   "source": [
    "Обработаем пропуски для поля Repaired — была машина в ремонте или нет"
   ]
  },
  {
   "cell_type": "code",
   "execution_count": 145,
   "metadata": {},
   "outputs": [
    {
     "data": {
      "text/plain": [
       "array([nan, 'yes', 'no'], dtype=object)"
      ]
     },
     "execution_count": 145,
     "metadata": {},
     "output_type": "execute_result"
    }
   ],
   "source": [
    "data['Repaired'].unique()"
   ]
  },
  {
   "cell_type": "markdown",
   "metadata": {},
   "source": [
    "Можно предположить, что машина не была в ремонте при отсутствие данных об этом"
   ]
  },
  {
   "cell_type": "code",
   "execution_count": 24,
   "metadata": {},
   "outputs": [],
   "source": [
    "data['Repaired'] = data['Repaired'].fillna('no')"
   ]
  },
  {
   "cell_type": "code",
   "execution_count": 25,
   "metadata": {
    "scrolled": true
   },
   "outputs": [
    {
     "data": {
      "text/plain": [
       "Brand                0\n",
       "Model                0\n",
       "RegistrationYear     0\n",
       "RegistrationMonth    0\n",
       "Kilometer            0\n",
       "Power                0\n",
       "VehicleType          0\n",
       "Gearbox              0\n",
       "FuelType             0\n",
       "Repaired             0\n",
       "NumberOfPictures     0\n",
       "LastSeen             0\n",
       "DateCreated          0\n",
       "PostalCode           0\n",
       "DateCrawled          0\n",
       "Price                0\n",
       "dtype: int64"
      ]
     },
     "execution_count": 25,
     "metadata": {},
     "output_type": "execute_result"
    }
   ],
   "source": [
    "# проверяем результат обработки пропусков\n",
    "data.isna().sum()"
   ]
  },
  {
   "cell_type": "markdown",
   "metadata": {},
   "source": [
    "Пропуски во всех полях заполнены"
   ]
  },
  {
   "cell_type": "markdown",
   "metadata": {},
   "source": [
    "### Выбросы в данных"
   ]
  },
  {
   "cell_type": "markdown",
   "metadata": {},
   "source": [
    "Выбросы в поле RegistrationYear"
   ]
  },
  {
   "cell_type": "code",
   "execution_count": 148,
   "metadata": {},
   "outputs": [
    {
     "data": {
      "text/html": [
       "<div>\n",
       "<style scoped>\n",
       "    .dataframe tbody tr th:only-of-type {\n",
       "        vertical-align: middle;\n",
       "    }\n",
       "\n",
       "    .dataframe tbody tr th {\n",
       "        vertical-align: top;\n",
       "    }\n",
       "\n",
       "    .dataframe thead th {\n",
       "        text-align: right;\n",
       "    }\n",
       "</style>\n",
       "<table border=\"1\" class=\"dataframe\">\n",
       "  <thead>\n",
       "    <tr style=\"text-align: right;\">\n",
       "      <th></th>\n",
       "      <th>RegistrationYear</th>\n",
       "    </tr>\n",
       "  </thead>\n",
       "  <tbody>\n",
       "    <tr>\n",
       "      <th>count</th>\n",
       "      <td>354365.000000</td>\n",
       "    </tr>\n",
       "    <tr>\n",
       "      <th>mean</th>\n",
       "      <td>2004.234481</td>\n",
       "    </tr>\n",
       "    <tr>\n",
       "      <th>std</th>\n",
       "      <td>90.228466</td>\n",
       "    </tr>\n",
       "    <tr>\n",
       "      <th>min</th>\n",
       "      <td>1000.000000</td>\n",
       "    </tr>\n",
       "    <tr>\n",
       "      <th>25%</th>\n",
       "      <td>1999.000000</td>\n",
       "    </tr>\n",
       "    <tr>\n",
       "      <th>50%</th>\n",
       "      <td>2003.000000</td>\n",
       "    </tr>\n",
       "    <tr>\n",
       "      <th>75%</th>\n",
       "      <td>2008.000000</td>\n",
       "    </tr>\n",
       "    <tr>\n",
       "      <th>max</th>\n",
       "      <td>9999.000000</td>\n",
       "    </tr>\n",
       "  </tbody>\n",
       "</table>\n",
       "</div>"
      ],
      "text/plain": [
       "       RegistrationYear\n",
       "count     354365.000000\n",
       "mean        2004.234481\n",
       "std           90.228466\n",
       "min         1000.000000\n",
       "25%         1999.000000\n",
       "50%         2003.000000\n",
       "75%         2008.000000\n",
       "max         9999.000000"
      ]
     },
     "execution_count": 148,
     "metadata": {},
     "output_type": "execute_result"
    }
   ],
   "source": [
    "data[['RegistrationYear']].describe()"
   ]
  },
  {
   "cell_type": "code",
   "execution_count": 149,
   "metadata": {},
   "outputs": [
    {
     "data": {
      "image/png": "[encoded data removed]",
      "text/plain": [
       "<Figure size 432x288 with 1 Axes>"
      ]
     },
     "metadata": {},
     "output_type": "display_data"
    }
   ],
   "source": [
    "# визуализируем данные \n",
    "plt.title('Данные')\n",
    "data[['RegistrationYear']].boxplot()\n",
    "plt.ylim(1980,2022)\n",
    "plt.ylabel('Значения')\n",
    "plt.xlabel('Показатель')\n",
    "plt.show()"
   ]
  },
  {
   "cell_type": "code",
   "execution_count": 150,
   "metadata": {},
   "outputs": [
    {
     "name": "stdout",
     "output_type": "stream",
     "text": [
      "Количество строк с выбросами в поле год регистрации 351. Удалим эти строки, т.к. год выпуска имеет значимую важность при влиянии на цену автомобиля конкретной марки\n"
     ]
    }
   ],
   "source": [
    "z = (data[(data['RegistrationYear']<1950)|(data['RegistrationYear']>2022)]).shape[0]\n",
    "print(f'Количество строк с выбросами в поле год регистрации {z}. Удалим эти строки, т.к. год выпуска имеет значимую важность при влиянии на цену автомобиля конкретной марки')"
   ]
  },
  {
   "cell_type": "code",
   "execution_count": 26,
   "metadata": {},
   "outputs": [],
   "source": [
    "# удалим строки с выбросами в поле RegistrationYear\n",
    "data = data[(data['RegistrationYear']>1950)&(data['RegistrationYear']<2022)]"
   ]
  },
  {
   "cell_type": "markdown",
   "metadata": {},
   "source": [
    "Выбросы в поле RegistrationMonth"
   ]
  },
  {
   "cell_type": "code",
   "execution_count": 152,
   "metadata": {},
   "outputs": [
    {
     "data": {
      "text/plain": [
       "[0, 1, 2, 3, 4, 5, 6, 7, 8, 9, 10, 11, 12]"
      ]
     },
     "execution_count": 152,
     "metadata": {},
     "output_type": "execute_result"
    }
   ],
   "source": [
    "sorted(data['RegistrationMonth'].unique())"
   ]
  },
  {
   "cell_type": "markdown",
   "metadata": {},
   "source": [
    "В поле RegistrationMonth нет выбросов"
   ]
  },
  {
   "cell_type": "code",
   "execution_count": 27,
   "metadata": {},
   "outputs": [],
   "source": [
    "def data_boxplot(data, size, title_name, y_lim=None, x_label='Признак', y_label='Значение'):\n",
    "\n",
    "    \"\"\"Метод ящик с усами\"\"\"\n",
    "    if y_lim is None:\n",
    "        plt.figure(figsize=size)\n",
    "        data.boxplot()\n",
    "        plt.title(title_name)\n",
    "\n",
    "    else:\n",
    "        plt.figure(figsize=size)\n",
    "        data.boxplot()\n",
    "        plt.title(title_name)\n",
    "        plt.ylim(y_lim)\n",
    "    plt.xlabel(x_label)\n",
    "    plt.ylabel(y_label)\n",
    "    plt.show"
   ]
  },
  {
   "cell_type": "code",
   "execution_count": 28,
   "metadata": {},
   "outputs": [],
   "source": [
    "def data_hist(data, size, title_name, bins=20, x_label='Значения', y_label='Количество'):\n",
    "\n",
    "    \"\"\"Метод Гисторамма\"\"\"\n",
    "    plt.figure(figsize=size)\n",
    "    plt.hist(data, bins=bins)\n",
    "    plt.title(title_name)\n",
    "    plt.xlabel(x_label)\n",
    "    plt.ylabel(y_label)\n",
    "    plt.xlim()\n",
    "    plt.show"
   ]
  },
  {
   "cell_type": "markdown",
   "metadata": {},
   "source": [
    "Выбросы в поле Kilometer"
   ]
  },
  {
   "cell_type": "code",
   "execution_count": 155,
   "metadata": {},
   "outputs": [
    {
     "data": {
      "image/png": "[encoded data removed]",
      "text/plain": [
       "<Figure size 360x360 with 1 Axes>"
      ]
     },
     "metadata": {},
     "output_type": "display_data"
    }
   ],
   "source": [
    "# Ящик с усами для пробега - выбросов не обнаружено, только редкие значения, но они допустимы\n",
    "size = (5,5)\n",
    "title_name = 'Ящик с усами для пробега'\n",
    "\n",
    "data_boxplot(\n",
    "    data[['Kilometer']],\n",
    "    size, title_name\n",
    "    )"
   ]
  },
  {
   "cell_type": "code",
   "execution_count": 156,
   "metadata": {},
   "outputs": [
    {
     "data": {
      "image/png": "[encoded data removed]",
      "text/plain": [
       "<Figure size 360x360 with 1 Axes>"
      ]
     },
     "metadata": {},
     "output_type": "display_data"
    }
   ],
   "source": [
    "# Ящик с усами для мощности \n",
    "size = (5,5)\n",
    "title_name = 'Ящик с усами для мощности'\n",
    "ylimit = (0, 500)\n",
    "\n",
    "data_boxplot(\n",
    "    data[['Power']],\n",
    "    size, title_name, ylimit\n",
    "    )"
   ]
  },
  {
   "cell_type": "code",
   "execution_count": 157,
   "metadata": {},
   "outputs": [
    {
     "data": {
      "text/html": [
       "<div>\n",
       "<style scoped>\n",
       "    .dataframe tbody tr th:only-of-type {\n",
       "        vertical-align: middle;\n",
       "    }\n",
       "\n",
       "    .dataframe tbody tr th {\n",
       "        vertical-align: top;\n",
       "    }\n",
       "\n",
       "    .dataframe thead th {\n",
       "        text-align: right;\n",
       "    }\n",
       "</style>\n",
       "<table border=\"1\" class=\"dataframe\">\n",
       "  <thead>\n",
       "    <tr style=\"text-align: right;\">\n",
       "      <th></th>\n",
       "      <th>Power</th>\n",
       "    </tr>\n",
       "  </thead>\n",
       "  <tbody>\n",
       "    <tr>\n",
       "      <th>count</th>\n",
       "      <td>353996.000000</td>\n",
       "    </tr>\n",
       "    <tr>\n",
       "      <th>mean</th>\n",
       "      <td>110.122499</td>\n",
       "    </tr>\n",
       "    <tr>\n",
       "      <th>std</th>\n",
       "      <td>189.562444</td>\n",
       "    </tr>\n",
       "    <tr>\n",
       "      <th>min</th>\n",
       "      <td>0.000000</td>\n",
       "    </tr>\n",
       "    <tr>\n",
       "      <th>25%</th>\n",
       "      <td>69.000000</td>\n",
       "    </tr>\n",
       "    <tr>\n",
       "      <th>50%</th>\n",
       "      <td>105.000000</td>\n",
       "    </tr>\n",
       "    <tr>\n",
       "      <th>75%</th>\n",
       "      <td>143.000000</td>\n",
       "    </tr>\n",
       "    <tr>\n",
       "      <th>max</th>\n",
       "      <td>20000.000000</td>\n",
       "    </tr>\n",
       "  </tbody>\n",
       "</table>\n",
       "</div>"
      ],
      "text/plain": [
       "               Power\n",
       "count  353996.000000\n",
       "mean      110.122499\n",
       "std       189.562444\n",
       "min         0.000000\n",
       "25%        69.000000\n",
       "50%       105.000000\n",
       "75%       143.000000\n",
       "max     20000.000000"
      ]
     },
     "execution_count": 157,
     "metadata": {},
     "output_type": "execute_result"
    }
   ],
   "source": [
    "# смотрим описание данных Power\n",
    "data[['Power']].describe()"
   ]
  },
  {
   "cell_type": "code",
   "execution_count": 158,
   "metadata": {},
   "outputs": [
    {
     "data": {
      "image/png": "[encoded data removed]",
      "text/plain": [
       "<Figure size 1080x360 with 1 Axes>"
      ]
     },
     "metadata": {},
     "output_type": "display_data"
    }
   ],
   "source": [
    "# Посмотрим на распределение значений \n",
    "size = (15, 5)\n",
    "title_name = 'Распределение по мощности'\n",
    "bins = 50\n",
    "\n",
    "data_hist(\n",
    "    data['Power'][(data['Power'] < 250)],\n",
    "    size,\n",
    "    title_name,\n",
    "    bins\n",
    "    )"
   ]
  },
  {
   "cell_type": "code",
   "execution_count": 159,
   "metadata": {},
   "outputs": [
    {
     "data": {
      "image/png": "[encoded data removed]",
      "text/plain": [
       "<Figure size 1080x360 with 1 Axes>"
      ]
     },
     "metadata": {},
     "output_type": "display_data"
    }
   ],
   "source": [
    "# Посмотрим на распределение значений \n",
    "size = (15, 5)\n",
    "title_name = 'Распределение по мощности'\n",
    "bins = 50\n",
    "\n",
    "data_hist(\n",
    "    data['Power'][(data['Power'] > 25) & (data['Power'] < 250)],\n",
    "    size,\n",
    "    title_name,\n",
    "    bins\n",
    "    )"
   ]
  },
  {
   "cell_type": "code",
   "execution_count": 160,
   "metadata": {},
   "outputs": [
    {
     "data": {
      "text/plain": [
       "47895"
      ]
     },
     "execution_count": 160,
     "metadata": {},
     "output_type": "execute_result"
    }
   ],
   "source": [
    "# посмотрим количество выбросов Power\n",
    "len(data[['Power']][(data['Power'] < 25) | (data['Power'] > 250)])"
   ]
  },
  {
   "cell_type": "code",
   "execution_count": 29,
   "metadata": {},
   "outputs": [],
   "source": [
    "# удалим выбросы Power\n",
    "data = data[(data['Power'] > 25) & (data['Power'] < 250)]\n"
   ]
  },
  {
   "cell_type": "code",
   "execution_count": 162,
   "metadata": {},
   "outputs": [
    {
     "data": {
      "text/plain": [
       "array([0])"
      ]
     },
     "execution_count": 162,
     "metadata": {},
     "output_type": "execute_result"
    }
   ],
   "source": [
    "# посмотрим уникальные значения количества фотографий\n",
    "data['NumberOfPictures'].unique()"
   ]
  },
  {
   "cell_type": "markdown",
   "metadata": {},
   "source": [
    "Странно, но количество фото у всех авто = 0. Абсолютно бесполезное поле. Удалим его"
   ]
  },
  {
   "cell_type": "code",
   "execution_count": 30,
   "metadata": {},
   "outputs": [],
   "source": [
    "data = data.drop('NumberOfPictures', axis=1)"
   ]
  },
  {
   "cell_type": "code",
   "execution_count": 164,
   "metadata": {
    "scrolled": true
   },
   "outputs": [
    {
     "data": {
      "text/plain": [
       "['2015-03-20 00:00:00',\n",
       " '2015-08-07 00:00:00',\n",
       " '2015-08-10 00:00:00',\n",
       " '2015-09-04 00:00:00',\n",
       " '2015-09-09 00:00:00',\n",
       " '2015-11-02 00:00:00',\n",
       " '2015-11-08 00:00:00',\n",
       " '2015-11-10 00:00:00',\n",
       " '2015-11-12 00:00:00',\n",
       " '2015-11-17 00:00:00',\n",
       " '2015-11-23 00:00:00',\n",
       " '2015-11-24 00:00:00',\n",
       " '2015-12-05 00:00:00',\n",
       " '2015-12-06 00:00:00',\n",
       " '2015-12-17 00:00:00',\n",
       " '2015-12-30 00:00:00',\n",
       " '2016-01-02 00:00:00',\n",
       " '2016-01-06 00:00:00',\n",
       " '2016-01-07 00:00:00',\n",
       " '2016-01-08 00:00:00',\n",
       " '2016-01-10 00:00:00',\n",
       " '2016-01-13 00:00:00',\n",
       " '2016-01-15 00:00:00',\n",
       " '2016-01-16 00:00:00',\n",
       " '2016-01-17 00:00:00',\n",
       " '2016-01-18 00:00:00',\n",
       " '2016-01-19 00:00:00',\n",
       " '2016-01-20 00:00:00',\n",
       " '2016-01-22 00:00:00',\n",
       " '2016-01-23 00:00:00',\n",
       " '2016-01-24 00:00:00',\n",
       " '2016-01-25 00:00:00',\n",
       " '2016-01-26 00:00:00',\n",
       " '2016-01-27 00:00:00',\n",
       " '2016-01-28 00:00:00',\n",
       " '2016-01-29 00:00:00',\n",
       " '2016-01-30 00:00:00',\n",
       " '2016-01-31 00:00:00',\n",
       " '2016-02-01 00:00:00',\n",
       " '2016-02-02 00:00:00',\n",
       " '2016-02-03 00:00:00',\n",
       " '2016-02-04 00:00:00',\n",
       " '2016-02-05 00:00:00',\n",
       " '2016-02-06 00:00:00',\n",
       " '2016-02-07 00:00:00',\n",
       " '2016-02-08 00:00:00',\n",
       " '2016-02-09 00:00:00',\n",
       " '2016-02-10 00:00:00',\n",
       " '2016-02-11 00:00:00',\n",
       " '2016-02-12 00:00:00',\n",
       " '2016-02-13 00:00:00',\n",
       " '2016-02-14 00:00:00',\n",
       " '2016-02-15 00:00:00',\n",
       " '2016-02-16 00:00:00',\n",
       " '2016-02-17 00:00:00',\n",
       " '2016-02-18 00:00:00',\n",
       " '2016-02-19 00:00:00',\n",
       " '2016-02-20 00:00:00',\n",
       " '2016-02-21 00:00:00',\n",
       " '2016-02-22 00:00:00',\n",
       " '2016-02-23 00:00:00',\n",
       " '2016-02-24 00:00:00',\n",
       " '2016-02-25 00:00:00',\n",
       " '2016-02-26 00:00:00',\n",
       " '2016-02-27 00:00:00',\n",
       " '2016-02-28 00:00:00',\n",
       " '2016-02-29 00:00:00',\n",
       " '2016-03-01 00:00:00',\n",
       " '2016-03-02 00:00:00',\n",
       " '2016-03-03 00:00:00',\n",
       " '2016-03-04 00:00:00',\n",
       " '2016-03-05 00:00:00',\n",
       " '2016-03-06 00:00:00',\n",
       " '2016-03-07 00:00:00',\n",
       " '2016-03-08 00:00:00',\n",
       " '2016-03-09 00:00:00',\n",
       " '2016-03-10 00:00:00',\n",
       " '2016-03-11 00:00:00',\n",
       " '2016-03-12 00:00:00',\n",
       " '2016-03-13 00:00:00',\n",
       " '2016-03-14 00:00:00',\n",
       " '2016-03-15 00:00:00',\n",
       " '2016-03-16 00:00:00',\n",
       " '2016-03-17 00:00:00',\n",
       " '2016-03-18 00:00:00',\n",
       " '2016-03-19 00:00:00',\n",
       " '2016-03-20 00:00:00',\n",
       " '2016-03-21 00:00:00',\n",
       " '2016-03-22 00:00:00',\n",
       " '2016-03-23 00:00:00',\n",
       " '2016-03-24 00:00:00',\n",
       " '2016-03-25 00:00:00',\n",
       " '2016-03-26 00:00:00',\n",
       " '2016-03-27 00:00:00',\n",
       " '2016-03-28 00:00:00',\n",
       " '2016-03-29 00:00:00',\n",
       " '2016-03-30 00:00:00',\n",
       " '2016-03-31 00:00:00',\n",
       " '2016-04-01 00:00:00',\n",
       " '2016-04-02 00:00:00',\n",
       " '2016-04-03 00:00:00',\n",
       " '2016-04-04 00:00:00',\n",
       " '2016-04-05 00:00:00',\n",
       " '2016-04-06 00:00:00',\n",
       " '2016-04-07 00:00:00']"
      ]
     },
     "execution_count": 164,
     "metadata": {},
     "output_type": "execute_result"
    }
   ],
   "source": [
    "# посмотрим значения в поле DateCreated\n",
    "sorted(data['DateCreated'].unique())"
   ]
  },
  {
   "cell_type": "markdown",
   "metadata": {},
   "source": [
    "Неадекватных значений в поле DateCreated не обнаружено"
   ]
  },
  {
   "cell_type": "markdown",
   "metadata": {},
   "source": [
    "Поля LastSeen, PostalCode, DateCrawled не имеют отношения к стоимости. Удалим их."
   ]
  },
  {
   "cell_type": "code",
   "execution_count": 31,
   "metadata": {},
   "outputs": [],
   "source": [
    "data = data.drop(['LastSeen', 'PostalCode', 'DateCrawled'], axis=1)"
   ]
  },
  {
   "cell_type": "markdown",
   "metadata": {},
   "source": [
    "Выбросы в данных обработаны"
   ]
  },
  {
   "cell_type": "markdown",
   "metadata": {},
   "source": [
    "### Преобразование данных"
   ]
  },
  {
   "cell_type": "code",
   "execution_count": 40,
   "metadata": {},
   "outputs": [
    {
     "name": "stdout",
     "output_type": "stream",
     "text": [
      "<class 'pandas.core.frame.DataFrame'>\n",
      "Int64Index: 305306 entries, 1 to 354368\n",
      "Data columns (total 12 columns):\n",
      " #   Column             Non-Null Count   Dtype \n",
      "---  ------             --------------   ----- \n",
      " 0   Brand              305306 non-null  object\n",
      " 1   Model              305306 non-null  object\n",
      " 2   RegistrationYear   305306 non-null  int64 \n",
      " 3   RegistrationMonth  305306 non-null  int64 \n",
      " 4   Kilometer          305306 non-null  int64 \n",
      " 5   Power              305306 non-null  int64 \n",
      " 6   VehicleType        305306 non-null  object\n",
      " 7   Gearbox            305306 non-null  object\n",
      " 8   FuelType           305306 non-null  object\n",
      " 9   Repaired           305306 non-null  object\n",
      " 10  DateCreated        305306 non-null  object\n",
      " 11  Price              305306 non-null  int64 \n",
      "dtypes: int64(5), object(7)\n",
      "memory usage: 30.3+ MB\n"
     ]
    }
   ],
   "source": [
    "data.info()"
   ]
  },
  {
   "cell_type": "code",
   "execution_count": 167,
   "metadata": {},
   "outputs": [],
   "source": [
    "# преобразуем DateCreated в нужный тип\n",
    "# data['DateCreated'] = data['DateCreated'].astype('datetime64')"
   ]
  },
  {
   "cell_type": "code",
   "execution_count": 168,
   "metadata": {},
   "outputs": [],
   "source": [
    "# оставим только месяц, дни и часы нам особо не нужны\n",
    "# data['DateCreated'] = data['DateCreated'].dt.to_period('m')"
   ]
  },
  {
   "cell_type": "markdown",
   "metadata": {},
   "source": [
    "\n",
    "2) У нас разный возраст машин. Есть гипотеза, что для разных возрастов - своё ценообразование. Поэтому, можно попробовать ввести фактор \"тип возраста\" (ретро, супер-ретро, старая, новая... надо подумать..).."
   ]
  },
  {
   "cell_type": "code",
   "execution_count": 169,
   "metadata": {},
   "outputs": [
    {
     "data": {
      "text/plain": [
       "[1951,\n",
       " 1952,\n",
       " 1953,\n",
       " 1954,\n",
       " 1955,\n",
       " 1956,\n",
       " 1957,\n",
       " 1958,\n",
       " 1959,\n",
       " 1960,\n",
       " 1961,\n",
       " 1962,\n",
       " 1963,\n",
       " 1964,\n",
       " 1965,\n",
       " 1966,\n",
       " 1967,\n",
       " 1968,\n",
       " 1969,\n",
       " 1970,\n",
       " 1971,\n",
       " 1972,\n",
       " 1973,\n",
       " 1974,\n",
       " 1975,\n",
       " 1976,\n",
       " 1977,\n",
       " 1978,\n",
       " 1979,\n",
       " 1980,\n",
       " 1981,\n",
       " 1982,\n",
       " 1983,\n",
       " 1984,\n",
       " 1985,\n",
       " 1986,\n",
       " 1987,\n",
       " 1988,\n",
       " 1989,\n",
       " 1990,\n",
       " 1991,\n",
       " 1992,\n",
       " 1993,\n",
       " 1994,\n",
       " 1995,\n",
       " 1996,\n",
       " 1997,\n",
       " 1998,\n",
       " 1999,\n",
       " 2000,\n",
       " 2001,\n",
       " 2002,\n",
       " 2003,\n",
       " 2004,\n",
       " 2005,\n",
       " 2006,\n",
       " 2007,\n",
       " 2008,\n",
       " 2009,\n",
       " 2010,\n",
       " 2011,\n",
       " 2012,\n",
       " 2013,\n",
       " 2014,\n",
       " 2015,\n",
       " 2016,\n",
       " 2017,\n",
       " 2018,\n",
       " 2019]"
      ]
     },
     "execution_count": 169,
     "metadata": {},
     "output_type": "execute_result"
    }
   ],
   "source": [
    "sorted(data['RegistrationYear'].unique())"
   ]
  },
  {
   "cell_type": "code",
   "execution_count": 41,
   "metadata": {},
   "outputs": [],
   "source": [
    "def type_of_age(data):\n",
    "    data.loc[data['RegistrationYear'] <= 1970, 'type_of_age'] = 'super_retro'\n",
    "    data.loc[(data['RegistrationYear'] > 1970) & (data['RegistrationYear'] <= 1990), 'type_of_age'] = 'retro'\n",
    "    data.loc[(data['RegistrationYear'] > 1990) & (data['RegistrationYear'] <= 2010), 'type_of_age'] = 'old'\n",
    "    data.loc[(data['RegistrationYear'] > 2010) & (data['RegistrationYear'] <= 2016), 'type_of_age'] = 'normal'\n",
    "    data.loc[(data['RegistrationYear'] > 2016), 'type_of_age'] = 'new'\n",
    "    return"
   ]
  },
  {
   "cell_type": "code",
   "execution_count": 42,
   "metadata": {},
   "outputs": [],
   "source": [
    "# создадим новое поле\n",
    "data['type_of_age'] = 0"
   ]
  },
  {
   "cell_type": "code",
   "execution_count": 43,
   "metadata": {},
   "outputs": [],
   "source": [
    "# присвоим котегории по возрасту автомомбиля\n",
    "type_of_age(data)"
   ]
  },
  {
   "cell_type": "code",
   "execution_count": 44,
   "metadata": {},
   "outputs": [
    {
     "data": {
      "text/plain": [
       "['new', 'normal', 'old', 'retro', 'super_retro']"
      ]
     },
     "execution_count": 44,
     "metadata": {},
     "output_type": "execute_result"
    }
   ],
   "source": [
    "# посмотрим что получилось\n",
    "sorted(data['type_of_age'].unique())"
   ]
  },
  {
   "cell_type": "markdown",
   "metadata": {},
   "source": [
    "### Разбивка данных на тренировочные, валидационные и тестовые"
   ]
  },
  {
   "cell_type": "code",
   "execution_count": 32,
   "metadata": {},
   "outputs": [],
   "source": [
    "def t_t_s(df):\n",
    "    # Зададим целевой признак\n",
    "    target = df['Price']\n",
    "    # подготовим данные \n",
    "    features = df.drop('Price', axis = 1)\n",
    "    # разобъём данные по соотношению 6:4\n",
    "    features_train, features_valid, target_train, target_valid = \\\n",
    "        train_test_split(features, target, test_size=0.4, random_state=12345)\n",
    "    # разобъем вторую часть данных ещё пополам\n",
    "    features_valid, features_test, target_valid, target_test = \\\n",
    "        train_test_split(features_valid, target_valid, test_size=0.5, random_state=12345)\n",
    "    return features_train, features_valid, features_test, target_train, target_valid, target_test"
   ]
  },
  {
   "cell_type": "code",
   "execution_count": 45,
   "metadata": {},
   "outputs": [],
   "source": [
    "data_features_train, data_features_valid, data_features_test, data_target_train, data_target_valid, data_target_test = \\\n",
    "    t_t_s(data)"
   ]
  },
  {
   "cell_type": "markdown",
   "metadata": {},
   "source": [
    "### Кодирование данных"
   ]
  },
  {
   "cell_type": "markdown",
   "metadata": {},
   "source": [
    "Для преобразования данных выберем методику Порядкового кодирования Original Encoding, т.к. планируем дальнейщую работу с моделями основанную на деревьях - дерево решений, случайный лес, градиентный бустинг. Если бы мы работали с линейными моделями можно было бы применить прямое кодирование One Hot Encoding. Но это былобы не удобно, т.к. после преобразования получили бы несколько десятков полей."
   ]
  },
  {
   "cell_type": "code",
   "execution_count": 63,
   "metadata": {},
   "outputs": [],
   "source": [
    "# Загрузим нужную библиотеку\n",
    "from sklearn.preprocessing import OrdinalEncoder"
   ]
  },
  {
   "cell_type": "code",
   "execution_count": 64,
   "metadata": {},
   "outputs": [],
   "source": [
    "# создаем нужный объект этой структуры данных. Добавил гиперпараметры для модели кодирования\n",
    "encoder = OrdinalEncoder(handle_unknown='use_encoded_value', unknown_value=-1)"
   ]
  },
  {
   "cell_type": "code",
   "execution_count": 65,
   "metadata": {},
   "outputs": [
    {
     "data": {
      "text/plain": [
       "OrdinalEncoder(handle_unknown='use_encoded_value', unknown_value=-1)"
      ]
     },
     "execution_count": 65,
     "metadata": {},
     "output_type": "execute_result"
    }
   ],
   "source": [
    "# обучение Encoder правильно обучать на тренировочной выборке.\n",
    "encoder.fit(data_features_train)"
   ]
  },
  {
   "cell_type": "code",
   "execution_count": 66,
   "metadata": {},
   "outputs": [],
   "source": [
    "# преобразуем данные функцией transform()\n",
    "encod_features_train = encoder.transform(data_features_train)"
   ]
  },
  {
   "cell_type": "code",
   "execution_count": 67,
   "metadata": {},
   "outputs": [],
   "source": [
    "# преобразуем данные функцией transform()\n",
    "encod_features_valid = encoder.transform(data_features_valid)"
   ]
  },
  {
   "cell_type": "code",
   "execution_count": 68,
   "metadata": {},
   "outputs": [],
   "source": [
    "# преобразуем данные функцией transform()\n",
    "encod_features_test = encoder.transform(data_features_test)"
   ]
  },
  {
   "cell_type": "code",
   "execution_count": 69,
   "metadata": {},
   "outputs": [],
   "source": [
    "# реализуем обновленный датафрейм. Тип данных int\n",
    "encod_features_train = pd.DataFrame(encod_features_train, columns = data_features_train.columns, dtype=int)"
   ]
  },
  {
   "cell_type": "code",
   "execution_count": 70,
   "metadata": {},
   "outputs": [],
   "source": [
    "# реализуем обновленный датафрейм. Тип данных int\n",
    "encod_features_valid = pd.DataFrame(encod_features_valid, columns = data_features_train.columns, dtype=int)"
   ]
  },
  {
   "cell_type": "code",
   "execution_count": 71,
   "metadata": {},
   "outputs": [],
   "source": [
    "# реализуем обновленный датафрейм. Тип данных int\n",
    "encod_features_test = pd.DataFrame(encod_features_test, columns = data_features_train.columns, dtype=int)"
   ]
  },
  {
   "cell_type": "code",
   "execution_count": 72,
   "metadata": {},
   "outputs": [
    {
     "data": {
      "text/html": [
       "<div>\n",
       "<style scoped>\n",
       "    .dataframe tbody tr th:only-of-type {\n",
       "        vertical-align: middle;\n",
       "    }\n",
       "\n",
       "    .dataframe tbody tr th {\n",
       "        vertical-align: top;\n",
       "    }\n",
       "\n",
       "    .dataframe thead th {\n",
       "        text-align: right;\n",
       "    }\n",
       "</style>\n",
       "<table border=\"1\" class=\"dataframe\">\n",
       "  <thead>\n",
       "    <tr style=\"text-align: right;\">\n",
       "      <th></th>\n",
       "      <th>Brand</th>\n",
       "      <th>Model</th>\n",
       "      <th>RegistrationYear</th>\n",
       "      <th>RegistrationMonth</th>\n",
       "      <th>Kilometer</th>\n",
       "      <th>Power</th>\n",
       "      <th>VehicleType</th>\n",
       "      <th>Gearbox</th>\n",
       "      <th>FuelType</th>\n",
       "      <th>Repaired</th>\n",
       "      <th>DateCreated</th>\n",
       "      <th>type_of_age</th>\n",
       "    </tr>\n",
       "  </thead>\n",
       "  <tbody>\n",
       "    <tr>\n",
       "      <th>0</th>\n",
       "      <td>2</td>\n",
       "      <td>11</td>\n",
       "      <td>54</td>\n",
       "      <td>0</td>\n",
       "      <td>12</td>\n",
       "      <td>124</td>\n",
       "      <td>7</td>\n",
       "      <td>0</td>\n",
       "      <td>2</td>\n",
       "      <td>0</td>\n",
       "      <td>89</td>\n",
       "      <td>2</td>\n",
       "    </tr>\n",
       "    <tr>\n",
       "      <th>1</th>\n",
       "      <td>25</td>\n",
       "      <td>8</td>\n",
       "      <td>51</td>\n",
       "      <td>9</td>\n",
       "      <td>12</td>\n",
       "      <td>34</td>\n",
       "      <td>5</td>\n",
       "      <td>1</td>\n",
       "      <td>6</td>\n",
       "      <td>0</td>\n",
       "      <td>84</td>\n",
       "      <td>2</td>\n",
       "    </tr>\n",
       "    <tr>\n",
       "      <th>2</th>\n",
       "      <td>19</td>\n",
       "      <td>17</td>\n",
       "      <td>50</td>\n",
       "      <td>5</td>\n",
       "      <td>12</td>\n",
       "      <td>89</td>\n",
       "      <td>4</td>\n",
       "      <td>1</td>\n",
       "      <td>6</td>\n",
       "      <td>0</td>\n",
       "      <td>90</td>\n",
       "      <td>2</td>\n",
       "    </tr>\n",
       "  </tbody>\n",
       "</table>\n",
       "</div>"
      ],
      "text/plain": [
       "   Brand  Model  RegistrationYear  RegistrationMonth  Kilometer  Power  \\\n",
       "0      2     11                54                  0         12    124   \n",
       "1     25      8                51                  9         12     34   \n",
       "2     19     17                50                  5         12     89   \n",
       "\n",
       "   VehicleType  Gearbox  FuelType  Repaired  DateCreated  type_of_age  \n",
       "0            7        0         2         0           89            2  \n",
       "1            5        1         6         0           84            2  \n",
       "2            4        1         6         0           90            2  "
      ]
     },
     "execution_count": 72,
     "metadata": {},
     "output_type": "execute_result"
    }
   ],
   "source": [
    "# посмотрим что получилось\n",
    "encod_features_train.head(3)"
   ]
  },
  {
   "cell_type": "code",
   "execution_count": 73,
   "metadata": {},
   "outputs": [
    {
     "data": {
      "text/html": [
       "<div>\n",
       "<style scoped>\n",
       "    .dataframe tbody tr th:only-of-type {\n",
       "        vertical-align: middle;\n",
       "    }\n",
       "\n",
       "    .dataframe tbody tr th {\n",
       "        vertical-align: top;\n",
       "    }\n",
       "\n",
       "    .dataframe thead th {\n",
       "        text-align: right;\n",
       "    }\n",
       "</style>\n",
       "<table border=\"1\" class=\"dataframe\">\n",
       "  <thead>\n",
       "    <tr style=\"text-align: right;\">\n",
       "      <th></th>\n",
       "      <th>Brand</th>\n",
       "      <th>Model</th>\n",
       "      <th>RegistrationYear</th>\n",
       "      <th>RegistrationMonth</th>\n",
       "      <th>Kilometer</th>\n",
       "      <th>Power</th>\n",
       "      <th>VehicleType</th>\n",
       "      <th>Gearbox</th>\n",
       "      <th>FuelType</th>\n",
       "      <th>Repaired</th>\n",
       "      <th>DateCreated</th>\n",
       "      <th>type_of_age</th>\n",
       "    </tr>\n",
       "  </thead>\n",
       "  <tbody>\n",
       "    <tr>\n",
       "      <th>0</th>\n",
       "      <td>25</td>\n",
       "      <td>8</td>\n",
       "      <td>61</td>\n",
       "      <td>7</td>\n",
       "      <td>5</td>\n",
       "      <td>47</td>\n",
       "      <td>5</td>\n",
       "      <td>1</td>\n",
       "      <td>6</td>\n",
       "      <td>1</td>\n",
       "      <td>89</td>\n",
       "      <td>1</td>\n",
       "    </tr>\n",
       "    <tr>\n",
       "      <th>1</th>\n",
       "      <td>21</td>\n",
       "      <td>165</td>\n",
       "      <td>58</td>\n",
       "      <td>6</td>\n",
       "      <td>5</td>\n",
       "      <td>49</td>\n",
       "      <td>5</td>\n",
       "      <td>1</td>\n",
       "      <td>6</td>\n",
       "      <td>0</td>\n",
       "      <td>80</td>\n",
       "      <td>2</td>\n",
       "    </tr>\n",
       "  </tbody>\n",
       "</table>\n",
       "</div>"
      ],
      "text/plain": [
       "   Brand  Model  RegistrationYear  RegistrationMonth  Kilometer  Power  \\\n",
       "0     25      8                61                  7          5     47   \n",
       "1     21    165                58                  6          5     49   \n",
       "\n",
       "   VehicleType  Gearbox  FuelType  Repaired  DateCreated  type_of_age  \n",
       "0            5        1         6         1           89            1  \n",
       "1            5        1         6         0           80            2  "
      ]
     },
     "execution_count": 73,
     "metadata": {},
     "output_type": "execute_result"
    }
   ],
   "source": [
    "# посмотрим что получилось\n",
    "encod_features_test.head(2)"
   ]
  },
  {
   "cell_type": "markdown",
   "metadata": {},
   "source": [
    "### Масштабирование признаков - стандартизация данных"
   ]
  },
  {
   "cell_type": "code",
   "execution_count": 74,
   "metadata": {},
   "outputs": [],
   "source": [
    "# Загрузим библиотеку\n",
    "from sklearn.preprocessing import StandardScaler"
   ]
  },
  {
   "cell_type": "code",
   "execution_count": 75,
   "metadata": {},
   "outputs": [
    {
     "data": {
      "text/plain": [
       "StandardScaler()"
      ]
     },
     "execution_count": 75,
     "metadata": {},
     "output_type": "execute_result"
    }
   ],
   "source": [
    "# создадим объект\n",
    "scaler = StandardScaler()\n",
    "# обучение\n",
    "scaler.fit(encod_features_train)"
   ]
  },
  {
   "cell_type": "code",
   "execution_count": 117,
   "metadata": {},
   "outputs": [],
   "source": [
    "# стандартизируем данные\n",
    "scale_features_train = scaler.transform(encod_features_train)"
   ]
  },
  {
   "cell_type": "code",
   "execution_count": 118,
   "metadata": {},
   "outputs": [],
   "source": [
    "# реализуем обновленный датафрейм. Тип данных int\n",
    "scale_features_train = pd.DataFrame(scale_features_train, columns = encod_features_train.columns)"
   ]
  },
  {
   "cell_type": "code",
   "execution_count": 121,
   "metadata": {},
   "outputs": [
    {
     "data": {
      "text/html": [
       "<div>\n",
       "<style scoped>\n",
       "    .dataframe tbody tr th:only-of-type {\n",
       "        vertical-align: middle;\n",
       "    }\n",
       "\n",
       "    .dataframe tbody tr th {\n",
       "        vertical-align: top;\n",
       "    }\n",
       "\n",
       "    .dataframe thead th {\n",
       "        text-align: right;\n",
       "    }\n",
       "</style>\n",
       "<table border=\"1\" class=\"dataframe\">\n",
       "  <thead>\n",
       "    <tr style=\"text-align: right;\">\n",
       "      <th></th>\n",
       "      <th>Brand</th>\n",
       "      <th>Model</th>\n",
       "      <th>RegistrationYear</th>\n",
       "      <th>RegistrationMonth</th>\n",
       "      <th>Kilometer</th>\n",
       "      <th>Power</th>\n",
       "      <th>VehicleType</th>\n",
       "      <th>Gearbox</th>\n",
       "      <th>FuelType</th>\n",
       "      <th>Repaired</th>\n",
       "      <th>DateCreated</th>\n",
       "      <th>type_of_age</th>\n",
       "    </tr>\n",
       "  </thead>\n",
       "  <tbody>\n",
       "    <tr>\n",
       "      <th>0</th>\n",
       "      <td>-1.420809</td>\n",
       "      <td>-1.403288</td>\n",
       "      <td>0.248716</td>\n",
       "      <td>-1.639771</td>\n",
       "      <td>0.507738</td>\n",
       "      <td>0.764114</td>\n",
       "      <td>0.966667</td>\n",
       "      <td>-2.018861</td>\n",
       "      <td>-1.511551</td>\n",
       "      <td>-0.332136</td>\n",
       "      <td>0.99048</td>\n",
       "      <td>0.274161</td>\n",
       "    </tr>\n",
       "    <tr>\n",
       "      <th>1</th>\n",
       "      <td>0.302329</td>\n",
       "      <td>-1.444549</td>\n",
       "      <td>-0.186362</td>\n",
       "      <td>0.851014</td>\n",
       "      <td>0.507738</td>\n",
       "      <td>-1.234114</td>\n",
       "      <td>0.136437</td>\n",
       "      <td>0.399993</td>\n",
       "      <td>0.617258</td>\n",
       "      <td>-0.332136</td>\n",
       "      <td>0.44996</td>\n",
       "      <td>0.274161</td>\n",
       "    </tr>\n",
       "  </tbody>\n",
       "</table>\n",
       "</div>"
      ],
      "text/plain": [
       "      Brand     Model  RegistrationYear  RegistrationMonth  Kilometer  \\\n",
       "0 -1.420809 -1.403288          0.248716          -1.639771   0.507738   \n",
       "1  0.302329 -1.444549         -0.186362           0.851014   0.507738   \n",
       "\n",
       "      Power  VehicleType   Gearbox  FuelType  Repaired  DateCreated  \\\n",
       "0  0.764114     0.966667 -2.018861 -1.511551 -0.332136      0.99048   \n",
       "1 -1.234114     0.136437  0.399993  0.617258 -0.332136      0.44996   \n",
       "\n",
       "   type_of_age  \n",
       "0     0.274161  \n",
       "1     0.274161  "
      ]
     },
     "execution_count": 121,
     "metadata": {},
     "output_type": "execute_result"
    }
   ],
   "source": [
    "scale_features_train.head(2)"
   ]
  },
  {
   "cell_type": "code",
   "execution_count": 79,
   "metadata": {},
   "outputs": [],
   "source": [
    "# стандартизируем данные\n",
    "scale_features_valid = scaler.transform(encod_features_valid)"
   ]
  },
  {
   "cell_type": "code",
   "execution_count": 80,
   "metadata": {},
   "outputs": [],
   "source": [
    "# реализуем обновленный датафрейм. Тип данных int\n",
    "scale_features_valid = pd.DataFrame(scale_features_valid, columns = encod_features_valid.columns)"
   ]
  },
  {
   "cell_type": "code",
   "execution_count": 81,
   "metadata": {},
   "outputs": [],
   "source": [
    "# стандартизируем данные\n",
    "scale_features_test = scaler.transform(encod_features_test)"
   ]
  },
  {
   "cell_type": "code",
   "execution_count": 82,
   "metadata": {},
   "outputs": [],
   "source": [
    "# реализуем обновленный датафрейм. Тип данных int\n",
    "scale_features_test = pd.DataFrame(scale_features_test, columns = encod_features_test.columns)"
   ]
  },
  {
   "cell_type": "code",
   "execution_count": 83,
   "metadata": {},
   "outputs": [
    {
     "data": {
      "text/html": [
       "<div>\n",
       "<style scoped>\n",
       "    .dataframe tbody tr th:only-of-type {\n",
       "        vertical-align: middle;\n",
       "    }\n",
       "\n",
       "    .dataframe tbody tr th {\n",
       "        vertical-align: top;\n",
       "    }\n",
       "\n",
       "    .dataframe thead th {\n",
       "        text-align: right;\n",
       "    }\n",
       "</style>\n",
       "<table border=\"1\" class=\"dataframe\">\n",
       "  <thead>\n",
       "    <tr style=\"text-align: right;\">\n",
       "      <th></th>\n",
       "      <th>Brand</th>\n",
       "      <th>Model</th>\n",
       "      <th>RegistrationYear</th>\n",
       "      <th>RegistrationMonth</th>\n",
       "      <th>Kilometer</th>\n",
       "      <th>Power</th>\n",
       "      <th>VehicleType</th>\n",
       "      <th>Gearbox</th>\n",
       "      <th>FuelType</th>\n",
       "      <th>Repaired</th>\n",
       "      <th>DateCreated</th>\n",
       "      <th>type_of_age</th>\n",
       "    </tr>\n",
       "  </thead>\n",
       "  <tbody>\n",
       "    <tr>\n",
       "      <th>0</th>\n",
       "      <td>0.302329</td>\n",
       "      <td>-1.444549</td>\n",
       "      <td>1.263898</td>\n",
       "      <td>0.297506</td>\n",
       "      <td>-2.195598</td>\n",
       "      <td>-0.945481</td>\n",
       "      <td>0.136437</td>\n",
       "      <td>0.399993</td>\n",
       "      <td>0.617258</td>\n",
       "      <td>3.010814</td>\n",
       "      <td>0.990480</td>\n",
       "      <td>-1.709786</td>\n",
       "    </tr>\n",
       "    <tr>\n",
       "      <th>1</th>\n",
       "      <td>0.002653</td>\n",
       "      <td>0.714754</td>\n",
       "      <td>0.828820</td>\n",
       "      <td>0.020752</td>\n",
       "      <td>-2.195598</td>\n",
       "      <td>-0.901076</td>\n",
       "      <td>0.136437</td>\n",
       "      <td>0.399993</td>\n",
       "      <td>0.617258</td>\n",
       "      <td>-0.332136</td>\n",
       "      <td>0.017544</td>\n",
       "      <td>0.274161</td>\n",
       "    </tr>\n",
       "  </tbody>\n",
       "</table>\n",
       "</div>"
      ],
      "text/plain": [
       "      Brand     Model  RegistrationYear  RegistrationMonth  Kilometer  \\\n",
       "0  0.302329 -1.444549          1.263898           0.297506  -2.195598   \n",
       "1  0.002653  0.714754          0.828820           0.020752  -2.195598   \n",
       "\n",
       "      Power  VehicleType   Gearbox  FuelType  Repaired  DateCreated  \\\n",
       "0 -0.945481     0.136437  0.399993  0.617258  3.010814     0.990480   \n",
       "1 -0.901076     0.136437  0.399993  0.617258 -0.332136     0.017544   \n",
       "\n",
       "   type_of_age  \n",
       "0    -1.709786  \n",
       "1     0.274161  "
      ]
     },
     "execution_count": 83,
     "metadata": {},
     "output_type": "execute_result"
    }
   ],
   "source": [
    "scale_features_test.head(2)"
   ]
  },
  {
   "cell_type": "markdown",
   "metadata": {},
   "source": [
    "### Определение значимости признаков - матрица корреляций"
   ]
  },
  {
   "cell_type": "code",
   "execution_count": 84,
   "metadata": {},
   "outputs": [],
   "source": [
    "def matrix_corr(data):\n",
    "    \n",
    "    '''Метод матрицы корреляций'''\n",
    "    plt.figure(figsize=(15,10))\n",
    "    sns.set(font_scale=1.4)\n",
    "    corr_matrix = data.corr()\n",
    "    corr_matrix = round(corr_matrix, 2)\n",
    "    corr_matrix[np.abs(corr_matrix) < 0.3] = 0\n",
    "    \n",
    "    sns.heatmap(corr_matrix, annot=True, linewidths=.5, cmap='coolwarm')\n",
    "    \n",
    "    plt.title('Correlation matrix')\n",
    "    plt.show()"
   ]
  },
  {
   "cell_type": "code",
   "execution_count": 95,
   "metadata": {},
   "outputs": [],
   "source": [
    "# создаем нужный объект этой структуры данных\n",
    "encoder_for_corr = OrdinalEncoder(handle_unknown='use_encoded_value', unknown_value=-1)"
   ]
  },
  {
   "cell_type": "code",
   "execution_count": 96,
   "metadata": {},
   "outputs": [
    {
     "data": {
      "text/plain": [
       "OrdinalEncoder(handle_unknown='use_encoded_value', unknown_value=-1)"
      ]
     },
     "execution_count": 96,
     "metadata": {},
     "output_type": "execute_result"
    }
   ],
   "source": [
    "# обучение\n",
    "encoder_for_corr.fit(data)"
   ]
  },
  {
   "cell_type": "code",
   "execution_count": 97,
   "metadata": {},
   "outputs": [],
   "source": [
    "# преобразуем данные функцией transform()\n",
    "data_for_corr = encoder_for_corr.transform(data)"
   ]
  },
  {
   "cell_type": "code",
   "execution_count": 101,
   "metadata": {},
   "outputs": [],
   "source": [
    "# реализуем обновленный датафрейм. Тип данных int\n",
    "data_for_corr = pd.DataFrame(data_for_corr, columns = data.columns, dtype=int)"
   ]
  },
  {
   "cell_type": "code",
   "execution_count": 120,
   "metadata": {},
   "outputs": [],
   "source": [
    "# подготовим датасет для оценки корреляции\n",
    "data_for_corr = scale_features_train.copy()\n",
    "data_for_corr['Price'] = data_target_train"
   ]
  },
  {
   "cell_type": "code",
   "execution_count": 103,
   "metadata": {},
   "outputs": [
    {
     "data": {
      "image/png": "[encoded data removed]",
      "text/plain": [
       "<Figure size 1080x720 with 2 Axes>"
      ]
     },
     "metadata": {},
     "output_type": "display_data"
    }
   ],
   "source": [
    "# построим матрицу корреляций\n",
    "matrix_corr(data_for_corr)"
   ]
  },
  {
   "cell_type": "code",
   "execution_count": 106,
   "metadata": {},
   "outputs": [],
   "source": [
    "# установим модуль phik\n",
    "# pip install phik"
   ]
  },
  {
   "cell_type": "code",
   "execution_count": 107,
   "metadata": {},
   "outputs": [],
   "source": [
    "# Загрузим нужную библиотеку\n",
    "# import phik"
   ]
  },
  {
   "cell_type": "markdown",
   "metadata": {},
   "source": []
  },
  {
   "cell_type": "code",
   "execution_count": 109,
   "metadata": {},
   "outputs": [],
   "source": [
    "# from phik import resources, report"
   ]
  },
  {
   "cell_type": "code",
   "execution_count": 110,
   "metadata": {},
   "outputs": [],
   "source": [
    "# получим матрицу корреляции phi_k между всеми переменными\n",
    "# data.phik_matrix()"
   ]
  },
  {
   "cell_type": "code",
   "execution_count": null,
   "metadata": {},
   "outputs": [],
   "source": [
    "# получим матрицу значимости (выраженную в виде одностороннего Z)\n",
    "# проверим гипотезы о зависимости каждой пары переменных\n",
    "# data.significance_matrix()"
   ]
  },
  {
   "cell_type": "code",
   "execution_count": null,
   "metadata": {},
   "outputs": [],
   "source": [
    "# покажем нормализованные остатки каждой пары переменных\n",
    "# data.outlier_significance_matrices()"
   ]
  },
  {
   "cell_type": "markdown",
   "metadata": {},
   "source": [
    "### Вывод"
   ]
  },
  {
   "cell_type": "markdown",
   "metadata": {},
   "source": [
    "В загруженных данных бросаются в глаза неадекватные минимальные и максимальные значения года регистрации, а также мощности автомобиля. Количество фото не заполнено. Средняя стоимость авто составляет 4416, медианное значение 2700.\n",
    "\n",
    "В пяти полях датафрейма обнаружены пропуски. В поле Model и VehicleType пустые ячейки заполнены значением unknow.  \n",
    "\n",
    "Для поля Gearbox логика заполнения другая - смотрим модели только с одним типом коробки передач. Принимаем допущение, что исходные данные у нас достаточно полные, и если у модели один тип коробки передач, то и у пропущенных значений Gearbox, аналогиная каробка. Удалось осознанно заполнить 5636 пропусков поля Gearbox. По аналогичным значениям модели. Оставшиеся пропуски заполнили unknow.\n",
    "\n",
    "Для поля FuelType изучена связь с моделями авто, т.к. некоторые модели могли  быть  только с одним типом топлива. Таким образом удалось заполнить 7 328 пустых ячеек поля FuelType. Остальные ячейки заполняем unknow.\n",
    "\n",
    "Для поля Repaired  предположили, что машина не была в ремонте при отсутствие данных об этом. \n",
    "\n",
    "Количество строк с выбросами в поле год регистрации - 351. Нереальные значения менее 1950 года и более 2022 года. Эти строки удалены, т.к. год выпуска имеет значимую важность при влиянии на цену автомобиля конкретной марки. \n",
    "\n",
    "В поле RegistrationMonth выбросов не обнаружено.\n",
    "\n",
    "Построен график - ящик с усами для пробега - выбросов не обнаружено, только редкие значения, но они допустимы.\n",
    "\n",
    "Построен график - ящик с усами для мощности, а также диаграмма распределения значений. Обнаружено 47895 выбросов со значениями мощности менее 25 и более 250. Данные строки удалены.\n",
    "\n",
    "Бесполезнче поля NumberOfPictures, LastSeen, PostalCode, DateCrawled не имеют отношения к стоимости. Они удалены.\n",
    "\n",
    "Неадекватных значений в поле DateCreated не обнаружено.\n",
    "\n",
    "Для преобразования данных выберем методику Порядкового кодирования Original Encoding, т.к. планируем дальнейщую работу с моделями основанную на деревьях - дерево решений, случайный лес, градиентный бустинг. Если бы мы работали с линейными моделями можно было бы применить прямое кодирование One Hot Encoding. Но это былобы не удобно, т.к. после преобразования получили бы несколько десятков полей.\n",
    "\n",
    "Проведена стандартизация данных.\n",
    "\n",
    "Построена матрица корреляций для определения значимости признаков.\n",
    "\n",
    "Далее выделен целевой признак, данные разбиты на обучающие, валидационные и тестовые выборки."
   ]
  },
  {
   "cell_type": "markdown",
   "metadata": {},
   "source": [
    "## Обучение моделей"
   ]
  },
  {
   "cell_type": "markdown",
   "metadata": {},
   "source": [
    "### Модель CatBoost"
   ]
  },
  {
   "cell_type": "markdown",
   "metadata": {},
   "source": [
    "В данном блоке был опробован внутренний метод кодировки данных. Т.е. модель CatBoost работает с категориальными признаками, и не требуем их перевода в дамми-переменные. В принципе, это очень удобно!"
   ]
  },
  {
   "cell_type": "code",
   "execution_count": 47,
   "metadata": {},
   "outputs": [],
   "source": [
    "# список категориальных и числовых полей\n",
    "category_columns = ['Brand', 'Model', 'RegistrationYear', 'RegistrationMonth', \n",
    "        'VehicleType', 'Gearbox', 'FuelType', 'Repaired', 'DateCreated', 'type_of_age']\n",
    "\n",
    "numerical_columns = ['Power', 'Kilometer']"
   ]
  },
  {
   "cell_type": "code",
   "execution_count": 36,
   "metadata": {},
   "outputs": [],
   "source": [
    "# импортируем бибилиотеку\n",
    "from catboost import CatBoostRegressor"
   ]
  },
  {
   "cell_type": "code",
   "execution_count": 48,
   "metadata": {},
   "outputs": [],
   "source": [
    "# инициируем модель\n",
    "catboost_model = CatBoostRegressor(\n",
    "            loss_function='RMSE',\n",
    "            n_estimators=125,\n",
    "            verbose=25,\n",
    "            cat_features=category_columns  \n",
    ")"
   ]
  },
  {
   "cell_type": "code",
   "execution_count": 49,
   "metadata": {},
   "outputs": [
    {
     "data": {
      "text/html": [
       "<div>\n",
       "<style scoped>\n",
       "    .dataframe tbody tr th:only-of-type {\n",
       "        vertical-align: middle;\n",
       "    }\n",
       "\n",
       "    .dataframe tbody tr th {\n",
       "        vertical-align: top;\n",
       "    }\n",
       "\n",
       "    .dataframe thead th {\n",
       "        text-align: right;\n",
       "    }\n",
       "</style>\n",
       "<table border=\"1\" class=\"dataframe\">\n",
       "  <thead>\n",
       "    <tr style=\"text-align: right;\">\n",
       "      <th></th>\n",
       "      <th>Brand</th>\n",
       "      <th>Model</th>\n",
       "      <th>RegistrationYear</th>\n",
       "      <th>RegistrationMonth</th>\n",
       "      <th>Kilometer</th>\n",
       "      <th>Power</th>\n",
       "      <th>VehicleType</th>\n",
       "      <th>Gearbox</th>\n",
       "      <th>FuelType</th>\n",
       "      <th>Repaired</th>\n",
       "      <th>DateCreated</th>\n",
       "      <th>type_of_age</th>\n",
       "    </tr>\n",
       "  </thead>\n",
       "  <tbody>\n",
       "    <tr>\n",
       "      <th>216143</th>\n",
       "      <td>bmw</td>\n",
       "      <td>3er</td>\n",
       "      <td>2005</td>\n",
       "      <td>0</td>\n",
       "      <td>150000</td>\n",
       "      <td>150</td>\n",
       "      <td>unknow</td>\n",
       "      <td>auto</td>\n",
       "      <td>gasoline</td>\n",
       "      <td>no</td>\n",
       "      <td>2016-03-30 00:00:00</td>\n",
       "      <td>old</td>\n",
       "    </tr>\n",
       "    <tr>\n",
       "      <th>179563</th>\n",
       "      <td>peugeot</td>\n",
       "      <td>2_reihe</td>\n",
       "      <td>2002</td>\n",
       "      <td>9</td>\n",
       "      <td>150000</td>\n",
       "      <td>60</td>\n",
       "      <td>small</td>\n",
       "      <td>manual</td>\n",
       "      <td>petrol</td>\n",
       "      <td>no</td>\n",
       "      <td>2016-03-25 00:00:00</td>\n",
       "      <td>old</td>\n",
       "    </tr>\n",
       "  </tbody>\n",
       "</table>\n",
       "</div>"
      ],
      "text/plain": [
       "          Brand    Model  RegistrationYear  RegistrationMonth  Kilometer  \\\n",
       "216143      bmw      3er              2005                  0     150000   \n",
       "179563  peugeot  2_reihe              2002                  9     150000   \n",
       "\n",
       "        Power VehicleType Gearbox  FuelType Repaired          DateCreated  \\\n",
       "216143    150      unknow    auto  gasoline       no  2016-03-30 00:00:00   \n",
       "179563     60       small  manual    petrol       no  2016-03-25 00:00:00   \n",
       "\n",
       "       type_of_age  \n",
       "216143         old  \n",
       "179563         old  "
      ]
     },
     "execution_count": 49,
     "metadata": {},
     "output_type": "execute_result"
    }
   ],
   "source": [
    "data_features_train.head(2)"
   ]
  },
  {
   "cell_type": "code",
   "execution_count": 50,
   "metadata": {},
   "outputs": [
    {
     "data": {
      "application/vnd.jupyter.widget-view+json": {
       "model_id": "fe504d21dc3b42f9ba8768c05e48df68",
       "version_major": 2,
       "version_minor": 0
      },
      "text/plain": [
       "MetricVisualizer(layout=Layout(align_self='stretch', height='500px'))"
      ]
     },
     "metadata": {},
     "output_type": "display_data"
    },
    {
     "name": "stdout",
     "output_type": "stream",
     "text": [
      "Learning rate set to 0.5\n",
      "0:\tlearn: 3123.0457682\ttotal: 124ms\tremaining: 15.3s\n",
      "25:\tlearn: 1799.0803848\ttotal: 2.14s\tremaining: 8.16s\n",
      "50:\tlearn: 1724.1841179\ttotal: 4.1s\tremaining: 5.95s\n",
      "75:\tlearn: 1690.4699939\ttotal: 6.08s\tremaining: 3.92s\n",
      "100:\tlearn: 1666.7096056\ttotal: 8.02s\tremaining: 1.91s\n",
      "124:\tlearn: 1648.4839885\ttotal: 9.95s\tremaining: 0us\n"
     ]
    },
    {
     "data": {
      "text/plain": [
       "<catboost.core.CatBoostRegressor at 0x7faf4448d670>"
      ]
     },
     "execution_count": 50,
     "metadata": {},
     "output_type": "execute_result"
    }
   ],
   "source": [
    "# обучение модели\n",
    "catboost_model.fit(data_features_train, data_target_train, plot=True)"
   ]
  },
  {
   "cell_type": "code",
   "execution_count": 51,
   "metadata": {},
   "outputs": [
    {
     "name": "stdout",
     "output_type": "stream",
     "text": [
      "Learning rate set to 0.48822\n",
      "0:\tlearn: 3143.3806332\ttotal: 100ms\tremaining: 12.4s\n",
      "25:\tlearn: 1796.3967225\ttotal: 1.79s\tremaining: 6.83s\n",
      "50:\tlearn: 1724.5124819\ttotal: 3.41s\tremaining: 4.95s\n",
      "75:\tlearn: 1692.9430936\ttotal: 5.03s\tremaining: 3.25s\n",
      "100:\tlearn: 1667.6146428\ttotal: 6.64s\tremaining: 1.58s\n",
      "124:\tlearn: 1648.6642554\ttotal: 8.13s\tremaining: 0us\n",
      "Learning rate set to 0.48822\n",
      "0:\tlearn: 3140.1390684\ttotal: 97.2ms\tremaining: 12s\n",
      "25:\tlearn: 1802.0067234\ttotal: 1.74s\tremaining: 6.62s\n",
      "50:\tlearn: 1738.3807379\ttotal: 3.31s\tremaining: 4.81s\n",
      "75:\tlearn: 1692.5168007\ttotal: 4.85s\tremaining: 3.13s\n",
      "100:\tlearn: 1667.6990872\ttotal: 6.42s\tremaining: 1.53s\n",
      "124:\tlearn: 1645.0703591\ttotal: 7.93s\tremaining: 0us\n",
      "Learning rate set to 0.48822\n",
      "0:\tlearn: 3135.4744018\ttotal: 90.2ms\tremaining: 11.2s\n",
      "25:\tlearn: 1808.0054422\ttotal: 1.69s\tremaining: 6.44s\n",
      "50:\tlearn: 1730.7262053\ttotal: 3.3s\tremaining: 4.79s\n",
      "75:\tlearn: 1697.5413107\ttotal: 4.87s\tremaining: 3.14s\n",
      "100:\tlearn: 1668.6630107\ttotal: 6.48s\tremaining: 1.54s\n",
      "124:\tlearn: 1650.0631179\ttotal: 8s\tremaining: 0us\n",
      "Learning rate set to 0.488221\n",
      "0:\tlearn: 3146.2162839\ttotal: 91.4ms\tremaining: 11.3s\n",
      "25:\tlearn: 1784.6947896\ttotal: 1.75s\tremaining: 6.68s\n",
      "50:\tlearn: 1714.8789661\ttotal: 3.4s\tremaining: 4.94s\n",
      "75:\tlearn: 1684.7399784\ttotal: 4.97s\tremaining: 3.21s\n",
      "100:\tlearn: 1653.8395631\ttotal: 6.52s\tremaining: 1.55s\n",
      "124:\tlearn: 1634.8132409\ttotal: 8.06s\tremaining: 0us\n",
      "Learning rate set to 0.488221\n",
      "0:\tlearn: 3180.3929942\ttotal: 76.6ms\tremaining: 9.5s\n",
      "25:\tlearn: 1796.2711027\ttotal: 1.66s\tremaining: 6.33s\n",
      "50:\tlearn: 1734.2683086\ttotal: 3.22s\tremaining: 4.68s\n",
      "75:\tlearn: 1696.4029281\ttotal: 4.81s\tremaining: 3.1s\n",
      "100:\tlearn: 1668.6811753\ttotal: 6.36s\tremaining: 1.51s\n",
      "124:\tlearn: 1653.1850467\ttotal: 7.83s\tremaining: 0us\n"
     ]
    }
   ],
   "source": [
    "# оценка модели через кросс-валидацию\n",
    "cv_score = cross_val_score(catboost_model, \n",
    "                data_features_train, \n",
    "                data_target_train,\n",
    "                scoring = 'neg_mean_squared_error',\n",
    "                cv=5)"
   ]
  },
  {
   "cell_type": "code",
   "execution_count": 52,
   "metadata": {},
   "outputs": [
    {
     "name": "stdout",
     "output_type": "stream",
     "text": [
      "RMSE модели через кросс-валидацию 1706.985\n"
     ]
    }
   ],
   "source": [
    "# оценка модели через кросс-валидацию\n",
    "final_cv_score = round(np.mean(-cv_score)**0.5, 3)\n",
    "print('RMSE модели через кросс-валидацию', final_cv_score)"
   ]
  },
  {
   "cell_type": "code",
   "execution_count": 53,
   "metadata": {},
   "outputs": [],
   "source": [
    "# поиск лучших гиперпараметров через GridSearchCV\n",
    "parameters =[{\n",
    "    \"n_estimators\": [100, 250, 500],\n",
    "    'depth': [4, 10]\n",
    "}]\n",
    "\n",
    "model_GSCV = GridSearchCV(\n",
    "        estimator = CatBoostRegressor(\n",
    "            loss_function='RMSE',\n",
    "            verbose=250,\n",
    "            cat_features=category_columns),   \n",
    "            param_grid = parameters,\n",
    ")"
   ]
  },
  {
   "cell_type": "code",
   "execution_count": 54,
   "metadata": {
    "scrolled": true
   },
   "outputs": [
    {
     "name": "stdout",
     "output_type": "stream",
     "text": [
      "Learning rate set to 0.5\n",
      "0:\tlearn: 3238.4526776\ttotal: 105ms\tremaining: 10.4s\n",
      "99:\tlearn: 1761.9212695\ttotal: 4.84s\tremaining: 0us\n",
      "Learning rate set to 0.5\n",
      "0:\tlearn: 3236.0034554\ttotal: 72.9ms\tremaining: 7.21s\n",
      "99:\tlearn: 1758.0022217\ttotal: 4.85s\tremaining: 0us\n",
      "Learning rate set to 0.5\n",
      "0:\tlearn: 3231.7475769\ttotal: 71ms\tremaining: 7.03s\n",
      "99:\tlearn: 1755.7676161\ttotal: 4.63s\tremaining: 0us\n",
      "Learning rate set to 0.5\n",
      "0:\tlearn: 3228.4575625\ttotal: 64.9ms\tremaining: 6.43s\n",
      "99:\tlearn: 1751.0299317\ttotal: 4.61s\tremaining: 0us\n",
      "Learning rate set to 0.5\n",
      "0:\tlearn: 3279.0850602\ttotal: 62.7ms\tremaining: 6.21s\n",
      "99:\tlearn: 1758.7142802\ttotal: 4.69s\tremaining: 0us\n",
      "Learning rate set to 0.277893\n",
      "0:\tlearn: 3717.4819919\ttotal: 139ms\tremaining: 34.5s\n",
      "249:\tlearn: 1705.8659511\ttotal: 29.1s\tremaining: 0us\n",
      "Learning rate set to 0.277893\n",
      "0:\tlearn: 3718.5223782\ttotal: 155ms\tremaining: 38.6s\n",
      "249:\tlearn: 1700.9854108\ttotal: 30.3s\tremaining: 0us\n",
      "Learning rate set to 0.277893\n",
      "0:\tlearn: 3718.7984373\ttotal: 154ms\tremaining: 38.3s\n",
      "249:\tlearn: 1702.2150248\ttotal: 30.1s\tremaining: 0us\n",
      "Learning rate set to 0.277894\n",
      "0:\tlearn: 3689.7655342\ttotal: 147ms\tremaining: 36.5s\n",
      "249:\tlearn: 1695.6617864\ttotal: 30.6s\tremaining: 0us\n",
      "Learning rate set to 0.277894\n",
      "0:\tlearn: 3697.7080340\ttotal: 156ms\tremaining: 38.8s\n",
      "249:\tlearn: 1702.3089982\ttotal: 29.4s\tremaining: 0us\n",
      "Learning rate set to 0.158176\n",
      "0:\tlearn: 4015.8796811\ttotal: 146ms\tremaining: 1m 13s\n",
      "250:\tlearn: 1738.2976753\ttotal: 29.5s\tremaining: 29.3s\n",
      "499:\tlearn: 1696.3516580\ttotal: 57.8s\tremaining: 0us\n",
      "Learning rate set to 0.158176\n",
      "0:\tlearn: 4017.9349833\ttotal: 141ms\tremaining: 1m 10s\n",
      "250:\tlearn: 1738.6431391\ttotal: 28.9s\tremaining: 28.6s\n",
      "499:\tlearn: 1692.3443381\ttotal: 59s\tremaining: 0us\n",
      "Learning rate set to 0.158176\n",
      "0:\tlearn: 4016.0874661\ttotal: 163ms\tremaining: 1m 21s\n",
      "250:\tlearn: 1735.4874191\ttotal: 29.9s\tremaining: 29.6s\n",
      "499:\tlearn: 1688.7498129\ttotal: 59.9s\tremaining: 0us\n",
      "Learning rate set to 0.158176\n",
      "0:\tlearn: 3998.6225873\ttotal: 151ms\tremaining: 1m 15s\n",
      "250:\tlearn: 1728.2943957\ttotal: 28.5s\tremaining: 28.2s\n",
      "499:\tlearn: 1682.5058353\ttotal: 57.9s\tremaining: 0us\n",
      "Learning rate set to 0.158176\n",
      "0:\tlearn: 4008.1827601\ttotal: 150ms\tremaining: 1m 14s\n",
      "250:\tlearn: 1744.1954795\ttotal: 29.7s\tremaining: 29.5s\n",
      "499:\tlearn: 1688.0489140\ttotal: 59.9s\tremaining: 0us\n",
      "Learning rate set to 0.5\n",
      "0:\tlearn: 2988.5190113\ttotal: 133ms\tremaining: 13.1s\n",
      "99:\tlearn: 1419.3358834\ttotal: 10.8s\tremaining: 0us\n",
      "Learning rate set to 0.5\n",
      "0:\tlearn: 2987.9450049\ttotal: 143ms\tremaining: 14.1s\n",
      "99:\tlearn: 1428.9944403\ttotal: 10.7s\tremaining: 0us\n",
      "Learning rate set to 0.5\n",
      "0:\tlearn: 2982.0589677\ttotal: 128ms\tremaining: 12.7s\n",
      "99:\tlearn: 1437.7833093\ttotal: 10.7s\tremaining: 0us\n",
      "Learning rate set to 0.5\n",
      "0:\tlearn: 2982.5224206\ttotal: 126ms\tremaining: 12.5s\n",
      "99:\tlearn: 1413.4847480\ttotal: 10.6s\tremaining: 0us\n",
      "Learning rate set to 0.5\n",
      "0:\tlearn: 2990.9216298\ttotal: 126ms\tremaining: 12.5s\n",
      "99:\tlearn: 1421.6061582\ttotal: 10.7s\tremaining: 0us\n",
      "Learning rate set to 0.277893\n",
      "0:\tlearn: 3568.8533449\ttotal: 435ms\tremaining: 1m 48s\n",
      "249:\tlearn: 1323.8820235\ttotal: 2m 10s\tremaining: 0us\n",
      "Learning rate set to 0.277893\n",
      "0:\tlearn: 3570.2335887\ttotal: 435ms\tremaining: 1m 48s\n",
      "249:\tlearn: 1320.1761842\ttotal: 2m 10s\tremaining: 0us\n",
      "Learning rate set to 0.277893\n",
      "0:\tlearn: 3570.2558354\ttotal: 461ms\tremaining: 1m 54s\n",
      "249:\tlearn: 1325.6029479\ttotal: 2m 14s\tremaining: 0us\n",
      "Learning rate set to 0.277894\n",
      "0:\tlearn: 3555.9204391\ttotal: 538ms\tremaining: 2m 13s\n",
      "249:\tlearn: 1319.7175513\ttotal: 2m 14s\tremaining: 0us\n",
      "Learning rate set to 0.277894\n",
      "0:\tlearn: 3552.2027007\ttotal: 490ms\tremaining: 2m 2s\n",
      "249:\tlearn: 1330.3642671\ttotal: 2m 13s\tremaining: 0us\n",
      "Learning rate set to 0.158176\n",
      "0:\tlearn: 3933.2529682\ttotal: 439ms\tremaining: 3m 39s\n",
      "250:\tlearn: 1428.4338355\ttotal: 2m 9s\tremaining: 2m 8s\n",
      "499:\tlearn: 1295.8569107\ttotal: 4m 37s\tremaining: 0us\n",
      "Learning rate set to 0.158176\n",
      "0:\tlearn: 3935.5176702\ttotal: 508ms\tremaining: 4m 13s\n",
      "250:\tlearn: 1421.0241274\ttotal: 2m 17s\tremaining: 2m 16s\n",
      "499:\tlearn: 1294.1908881\ttotal: 4m 37s\tremaining: 0us\n",
      "Learning rate set to 0.158176\n",
      "0:\tlearn: 3933.4685747\ttotal: 430ms\tremaining: 3m 34s\n",
      "250:\tlearn: 1417.7961461\ttotal: 2m 13s\tremaining: 2m 12s\n",
      "499:\tlearn: 1280.8694631\ttotal: 4m 31s\tremaining: 0us\n",
      "Learning rate set to 0.158176\n",
      "0:\tlearn: 3924.3855374\ttotal: 518ms\tremaining: 4m 18s\n",
      "250:\tlearn: 1411.7173181\ttotal: 2m 11s\tremaining: 2m 10s\n",
      "499:\tlearn: 1276.3391695\ttotal: 4m 31s\tremaining: 0us\n",
      "Learning rate set to 0.158176\n",
      "0:\tlearn: 3927.5171041\ttotal: 488ms\tremaining: 4m 3s\n",
      "250:\tlearn: 1427.4862394\ttotal: 2m 13s\tremaining: 2m 12s\n",
      "499:\tlearn: 1305.1773012\ttotal: 4m 30s\tremaining: 0us\n",
      "Learning rate set to 0.163852\n",
      "0:\tlearn: 3911.0462531\ttotal: 590ms\tremaining: 4m 54s\n",
      "250:\tlearn: 1436.3497724\ttotal: 2m 39s\tremaining: 2m 38s\n",
      "499:\tlearn: 1313.4778952\ttotal: 5m 31s\tremaining: 0us\n"
     ]
    },
    {
     "data": {
      "text/plain": [
       "GridSearchCV(estimator=<catboost.core.CatBoostRegressor object at 0x7faf4044caf0>,\n",
       "             param_grid=[{'depth': [4, 10], 'n_estimators': [100, 250, 500]}])"
      ]
     },
     "execution_count": 54,
     "metadata": {},
     "output_type": "execute_result"
    }
   ],
   "source": [
    "# обучение модели\n",
    "model_GSCV.fit(data_features_train, data_target_train)"
   ]
  },
  {
   "cell_type": "code",
   "execution_count": 56,
   "metadata": {},
   "outputs": [
    {
     "data": {
      "text/plain": [
       "{'depth': 10, 'n_estimators': 500}"
      ]
     },
     "execution_count": 56,
     "metadata": {},
     "output_type": "execute_result"
    }
   ],
   "source": [
    "# смотрим наилучшие параметры\n",
    "model_GSCV.best_params_"
   ]
  },
  {
   "cell_type": "code",
   "execution_count": 57,
   "metadata": {},
   "outputs": [
    {
     "data": {
      "text/html": [
       "<div>\n",
       "<style scoped>\n",
       "    .dataframe tbody tr th:only-of-type {\n",
       "        vertical-align: middle;\n",
       "    }\n",
       "\n",
       "    .dataframe tbody tr th {\n",
       "        vertical-align: top;\n",
       "    }\n",
       "\n",
       "    .dataframe thead th {\n",
       "        text-align: right;\n",
       "    }\n",
       "</style>\n",
       "<table border=\"1\" class=\"dataframe\">\n",
       "  <thead>\n",
       "    <tr style=\"text-align: right;\">\n",
       "      <th></th>\n",
       "      <th>mean_fit_time</th>\n",
       "      <th>std_fit_time</th>\n",
       "      <th>mean_score_time</th>\n",
       "      <th>std_score_time</th>\n",
       "      <th>param_depth</th>\n",
       "      <th>param_n_estimators</th>\n",
       "      <th>params</th>\n",
       "      <th>split0_test_score</th>\n",
       "      <th>split1_test_score</th>\n",
       "      <th>split2_test_score</th>\n",
       "      <th>split3_test_score</th>\n",
       "      <th>split4_test_score</th>\n",
       "      <th>mean_test_score</th>\n",
       "      <th>std_test_score</th>\n",
       "      <th>rank_test_score</th>\n",
       "    </tr>\n",
       "  </thead>\n",
       "  <tbody>\n",
       "    <tr>\n",
       "      <th>0</th>\n",
       "      <td>5.495296</td>\n",
       "      <td>0.125658</td>\n",
       "      <td>0.065951</td>\n",
       "      <td>0.001714</td>\n",
       "      <td>4</td>\n",
       "      <td>100</td>\n",
       "      <td>{'depth': 4, 'n_estimators': 100}</td>\n",
       "      <td>0.842897</td>\n",
       "      <td>0.841048</td>\n",
       "      <td>0.842748</td>\n",
       "      <td>0.839101</td>\n",
       "      <td>0.840711</td>\n",
       "      <td>0.841301</td>\n",
       "      <td>0.001407</td>\n",
       "      <td>6</td>\n",
       "    </tr>\n",
       "    <tr>\n",
       "      <th>1</th>\n",
       "      <td>30.897446</td>\n",
       "      <td>0.589439</td>\n",
       "      <td>0.120874</td>\n",
       "      <td>0.004525</td>\n",
       "      <td>4</td>\n",
       "      <td>250</td>\n",
       "      <td>{'depth': 4, 'n_estimators': 250}</td>\n",
       "      <td>0.852417</td>\n",
       "      <td>0.849709</td>\n",
       "      <td>0.850964</td>\n",
       "      <td>0.846777</td>\n",
       "      <td>0.849940</td>\n",
       "      <td>0.849961</td>\n",
       "      <td>0.001857</td>\n",
       "      <td>5</td>\n",
       "    </tr>\n",
       "    <tr>\n",
       "      <th>2</th>\n",
       "      <td>60.180002</td>\n",
       "      <td>0.943964</td>\n",
       "      <td>0.168857</td>\n",
       "      <td>0.005107</td>\n",
       "      <td>4</td>\n",
       "      <td>500</td>\n",
       "      <td>{'depth': 4, 'n_estimators': 500}</td>\n",
       "      <td>0.853998</td>\n",
       "      <td>0.851056</td>\n",
       "      <td>0.853855</td>\n",
       "      <td>0.849546</td>\n",
       "      <td>0.851657</td>\n",
       "      <td>0.852022</td>\n",
       "      <td>0.001701</td>\n",
       "      <td>4</td>\n",
       "    </tr>\n",
       "    <tr>\n",
       "      <th>3</th>\n",
       "      <td>11.517734</td>\n",
       "      <td>0.066512</td>\n",
       "      <td>0.079855</td>\n",
       "      <td>0.001691</td>\n",
       "      <td>10</td>\n",
       "      <td>100</td>\n",
       "      <td>{'depth': 10, 'n_estimators': 100}</td>\n",
       "      <td>0.861423</td>\n",
       "      <td>0.856579</td>\n",
       "      <td>0.859313</td>\n",
       "      <td>0.856628</td>\n",
       "      <td>0.856704</td>\n",
       "      <td>0.858129</td>\n",
       "      <td>0.001946</td>\n",
       "      <td>3</td>\n",
       "    </tr>\n",
       "    <tr>\n",
       "      <th>4</th>\n",
       "      <td>134.099798</td>\n",
       "      <td>1.565512</td>\n",
       "      <td>0.319862</td>\n",
       "      <td>0.013175</td>\n",
       "      <td>10</td>\n",
       "      <td>250</td>\n",
       "      <td>{'depth': 10, 'n_estimators': 250}</td>\n",
       "      <td>0.869079</td>\n",
       "      <td>0.866677</td>\n",
       "      <td>0.866866</td>\n",
       "      <td>0.864201</td>\n",
       "      <td>0.864366</td>\n",
       "      <td>0.866238</td>\n",
       "      <td>0.001806</td>\n",
       "      <td>2</td>\n",
       "    </tr>\n",
       "    <tr>\n",
       "      <th>5</th>\n",
       "      <td>275.804796</td>\n",
       "      <td>2.921472</td>\n",
       "      <td>0.566701</td>\n",
       "      <td>0.036541</td>\n",
       "      <td>10</td>\n",
       "      <td>500</td>\n",
       "      <td>{'depth': 10, 'n_estimators': 500}</td>\n",
       "      <td>0.871850</td>\n",
       "      <td>0.868361</td>\n",
       "      <td>0.870532</td>\n",
       "      <td>0.865241</td>\n",
       "      <td>0.866882</td>\n",
       "      <td>0.868573</td>\n",
       "      <td>0.002391</td>\n",
       "      <td>1</td>\n",
       "    </tr>\n",
       "  </tbody>\n",
       "</table>\n",
       "</div>"
      ],
      "text/plain": [
       "   mean_fit_time  std_fit_time  mean_score_time  std_score_time param_depth  \\\n",
       "0       5.495296      0.125658         0.065951        0.001714           4   \n",
       "1      30.897446      0.589439         0.120874        0.004525           4   \n",
       "2      60.180002      0.943964         0.168857        0.005107           4   \n",
       "3      11.517734      0.066512         0.079855        0.001691          10   \n",
       "4     134.099798      1.565512         0.319862        0.013175          10   \n",
       "5     275.804796      2.921472         0.566701        0.036541          10   \n",
       "\n",
       "  param_n_estimators                              params  split0_test_score  \\\n",
       "0                100   {'depth': 4, 'n_estimators': 100}           0.842897   \n",
       "1                250   {'depth': 4, 'n_estimators': 250}           0.852417   \n",
       "2                500   {'depth': 4, 'n_estimators': 500}           0.853998   \n",
       "3                100  {'depth': 10, 'n_estimators': 100}           0.861423   \n",
       "4                250  {'depth': 10, 'n_estimators': 250}           0.869079   \n",
       "5                500  {'depth': 10, 'n_estimators': 500}           0.871850   \n",
       "\n",
       "   split1_test_score  split2_test_score  split3_test_score  split4_test_score  \\\n",
       "0           0.841048           0.842748           0.839101           0.840711   \n",
       "1           0.849709           0.850964           0.846777           0.849940   \n",
       "2           0.851056           0.853855           0.849546           0.851657   \n",
       "3           0.856579           0.859313           0.856628           0.856704   \n",
       "4           0.866677           0.866866           0.864201           0.864366   \n",
       "5           0.868361           0.870532           0.865241           0.866882   \n",
       "\n",
       "   mean_test_score  std_test_score  rank_test_score  \n",
       "0         0.841301        0.001407                6  \n",
       "1         0.849961        0.001857                5  \n",
       "2         0.852022        0.001701                4  \n",
       "3         0.858129        0.001946                3  \n",
       "4         0.866238        0.001806                2  \n",
       "5         0.868573        0.002391                1  "
      ]
     },
     "execution_count": 57,
     "metadata": {},
     "output_type": "execute_result"
    }
   ],
   "source": [
    "# таблица результатов\n",
    "pd.DataFrame(model_GSCV.cv_results_)"
   ]
  },
  {
   "cell_type": "code",
   "execution_count": 58,
   "metadata": {},
   "outputs": [],
   "source": [
    "# реализуем модель с наилучшими параметрами\n",
    "catboost_model_best = CatBoostRegressor(\n",
    "            loss_function='RMSE',\n",
    "            n_estimators=500,\n",
    "            depth=10,\n",
    "            verbose=100,\n",
    "            cat_features=category_columns\n",
    ")"
   ]
  },
  {
   "cell_type": "code",
   "execution_count": 59,
   "metadata": {},
   "outputs": [
    {
     "name": "stdout",
     "output_type": "stream",
     "text": [
      "Learning rate set to 0.163852\n",
      "0:\tlearn: 3911.0462531\ttotal: 596ms\tremaining: 4m 57s\n",
      "100:\tlearn: 1565.1374203\ttotal: 1m\tremaining: 3m 57s\n",
      "200:\tlearn: 1470.4917458\ttotal: 2m 5s\tremaining: 3m 6s\n",
      "300:\tlearn: 1405.0728957\ttotal: 3m 14s\tremaining: 2m 8s\n",
      "400:\tlearn: 1355.3951508\ttotal: 4m 22s\tremaining: 1m 4s\n",
      "499:\tlearn: 1313.4778952\ttotal: 5m 31s\tremaining: 0us\n",
      "CPU times: user 5min 31s, sys: 783 ms, total: 5min 31s\n",
      "Wall time: 5min 33s\n"
     ]
    },
    {
     "data": {
      "text/plain": [
       "<catboost.core.CatBoostRegressor at 0x7faf3ff9ad60>"
      ]
     },
     "execution_count": 59,
     "metadata": {},
     "output_type": "execute_result"
    }
   ],
   "source": [
    "%%time\n",
    "# обучим модель\n",
    "catboost_model_best.fit(data_features_train, data_target_train)"
   ]
  },
  {
   "cell_type": "code",
   "execution_count": 60,
   "metadata": {},
   "outputs": [
    {
     "name": "stdout",
     "output_type": "stream",
     "text": [
      "CPU times: user 878 ms, sys: 4 ms, total: 882 ms\n",
      "Wall time: 879 ms\n"
     ]
    }
   ],
   "source": [
    "%%time\n",
    "# получим прогноз для данных valid\n",
    "pred_valid_catboost_best = catboost_model_best.predict(data_features_valid)"
   ]
  },
  {
   "cell_type": "code",
   "execution_count": 61,
   "metadata": {},
   "outputs": [
    {
     "data": {
      "text/plain": [
       "0.8539097171540115"
      ]
     },
     "execution_count": 61,
     "metadata": {},
     "output_type": "execute_result"
    }
   ],
   "source": [
    "r2_score(pred_valid_catboost_best, data_target_valid)"
   ]
  },
  {
   "cell_type": "code",
   "execution_count": 62,
   "metadata": {},
   "outputs": [
    {
     "name": "stdout",
     "output_type": "stream",
     "text": [
      "RMSE 1586.83\n"
     ]
    }
   ],
   "source": [
    "print('RMSE', \\\n",
    "      round(mean_squared_error(pred_valid_catboost_best, data_target_valid) ** 0.5, 2))"
   ]
  },
  {
   "cell_type": "markdown",
   "metadata": {},
   "source": [
    "### Модель случайного леса"
   ]
  },
  {
   "cell_type": "markdown",
   "metadata": {},
   "source": [
    "Для модели случайного леса используем закодированные, отмасштабированные данные."
   ]
  },
  {
   "cell_type": "code",
   "execution_count": 111,
   "metadata": {},
   "outputs": [],
   "source": [
    "# импортируем библиотеку случайного леса\n",
    "from sklearn.ensemble import RandomForestRegressor"
   ]
  },
  {
   "cell_type": "code",
   "execution_count": 112,
   "metadata": {},
   "outputs": [],
   "source": [
    "# инициируем модель\n",
    "rf_model = RandomForestRegressor(\n",
    "    random_state=12345,\n",
    "    n_estimators=50,\n",
    "    max_depth=10,\n",
    "    verbose=False\n",
    "    )"
   ]
  },
  {
   "cell_type": "code",
   "execution_count": 122,
   "metadata": {},
   "outputs": [
    {
     "data": {
      "text/html": [
       "<div>\n",
       "<style scoped>\n",
       "    .dataframe tbody tr th:only-of-type {\n",
       "        vertical-align: middle;\n",
       "    }\n",
       "\n",
       "    .dataframe tbody tr th {\n",
       "        vertical-align: top;\n",
       "    }\n",
       "\n",
       "    .dataframe thead th {\n",
       "        text-align: right;\n",
       "    }\n",
       "</style>\n",
       "<table border=\"1\" class=\"dataframe\">\n",
       "  <thead>\n",
       "    <tr style=\"text-align: right;\">\n",
       "      <th></th>\n",
       "      <th>Brand</th>\n",
       "      <th>Model</th>\n",
       "      <th>RegistrationYear</th>\n",
       "      <th>RegistrationMonth</th>\n",
       "      <th>Kilometer</th>\n",
       "      <th>Power</th>\n",
       "      <th>VehicleType</th>\n",
       "      <th>Gearbox</th>\n",
       "      <th>FuelType</th>\n",
       "      <th>Repaired</th>\n",
       "      <th>DateCreated</th>\n",
       "      <th>type_of_age</th>\n",
       "    </tr>\n",
       "  </thead>\n",
       "  <tbody>\n",
       "    <tr>\n",
       "      <th>0</th>\n",
       "      <td>-1.420809</td>\n",
       "      <td>-1.403288</td>\n",
       "      <td>0.248716</td>\n",
       "      <td>-1.639771</td>\n",
       "      <td>0.507738</td>\n",
       "      <td>0.764114</td>\n",
       "      <td>0.966667</td>\n",
       "      <td>-2.018861</td>\n",
       "      <td>-1.511551</td>\n",
       "      <td>-0.332136</td>\n",
       "      <td>0.990480</td>\n",
       "      <td>0.274161</td>\n",
       "    </tr>\n",
       "    <tr>\n",
       "      <th>1</th>\n",
       "      <td>0.302329</td>\n",
       "      <td>-1.444549</td>\n",
       "      <td>-0.186362</td>\n",
       "      <td>0.851014</td>\n",
       "      <td>0.507738</td>\n",
       "      <td>-1.234114</td>\n",
       "      <td>0.136437</td>\n",
       "      <td>0.399993</td>\n",
       "      <td>0.617258</td>\n",
       "      <td>-0.332136</td>\n",
       "      <td>0.449960</td>\n",
       "      <td>0.274161</td>\n",
       "    </tr>\n",
       "    <tr>\n",
       "      <th>2</th>\n",
       "      <td>-0.147185</td>\n",
       "      <td>-1.320767</td>\n",
       "      <td>-0.331388</td>\n",
       "      <td>-0.256001</td>\n",
       "      <td>0.507738</td>\n",
       "      <td>-0.012974</td>\n",
       "      <td>-0.278679</td>\n",
       "      <td>0.399993</td>\n",
       "      <td>0.617258</td>\n",
       "      <td>-0.332136</td>\n",
       "      <td>1.098584</td>\n",
       "      <td>0.274161</td>\n",
       "    </tr>\n",
       "    <tr>\n",
       "      <th>3</th>\n",
       "      <td>-1.420809</td>\n",
       "      <td>-1.403288</td>\n",
       "      <td>0.538768</td>\n",
       "      <td>0.020752</td>\n",
       "      <td>0.507738</td>\n",
       "      <td>2.562520</td>\n",
       "      <td>-1.108910</td>\n",
       "      <td>-2.018861</td>\n",
       "      <td>-1.511551</td>\n",
       "      <td>-0.332136</td>\n",
       "      <td>-0.198664</td>\n",
       "      <td>0.274161</td>\n",
       "    </tr>\n",
       "    <tr>\n",
       "      <th>4</th>\n",
       "      <td>1.276277</td>\n",
       "      <td>0.040831</td>\n",
       "      <td>-0.476414</td>\n",
       "      <td>-1.086263</td>\n",
       "      <td>0.507738</td>\n",
       "      <td>-0.901076</td>\n",
       "      <td>-0.278679</td>\n",
       "      <td>0.399993</td>\n",
       "      <td>0.617258</td>\n",
       "      <td>3.010814</td>\n",
       "      <td>0.990480</td>\n",
       "      <td>0.274161</td>\n",
       "    </tr>\n",
       "  </tbody>\n",
       "</table>\n",
       "</div>"
      ],
      "text/plain": [
       "      Brand     Model  RegistrationYear  RegistrationMonth  Kilometer  \\\n",
       "0 -1.420809 -1.403288          0.248716          -1.639771   0.507738   \n",
       "1  0.302329 -1.444549         -0.186362           0.851014   0.507738   \n",
       "2 -0.147185 -1.320767         -0.331388          -0.256001   0.507738   \n",
       "3 -1.420809 -1.403288          0.538768           0.020752   0.507738   \n",
       "4  1.276277  0.040831         -0.476414          -1.086263   0.507738   \n",
       "\n",
       "      Power  VehicleType   Gearbox  FuelType  Repaired  DateCreated  \\\n",
       "0  0.764114     0.966667 -2.018861 -1.511551 -0.332136     0.990480   \n",
       "1 -1.234114     0.136437  0.399993  0.617258 -0.332136     0.449960   \n",
       "2 -0.012974    -0.278679  0.399993  0.617258 -0.332136     1.098584   \n",
       "3  2.562520    -1.108910 -2.018861 -1.511551 -0.332136    -0.198664   \n",
       "4 -0.901076    -0.278679  0.399993  0.617258  3.010814     0.990480   \n",
       "\n",
       "   type_of_age  \n",
       "0     0.274161  \n",
       "1     0.274161  \n",
       "2     0.274161  \n",
       "3     0.274161  \n",
       "4     0.274161  "
      ]
     },
     "execution_count": 122,
     "metadata": {},
     "output_type": "execute_result"
    }
   ],
   "source": [
    "scale_features_train.head()"
   ]
  },
  {
   "cell_type": "code",
   "execution_count": 123,
   "metadata": {},
   "outputs": [
    {
     "name": "stdout",
     "output_type": "stream",
     "text": [
      "CPU times: user 16.1 s, sys: 40 ms, total: 16.2 s\n",
      "Wall time: 16.2 s\n"
     ]
    },
    {
     "data": {
      "text/plain": [
       "RandomForestRegressor(max_depth=10, n_estimators=50, random_state=12345,\n",
       "                      verbose=False)"
      ]
     },
     "execution_count": 123,
     "metadata": {},
     "output_type": "execute_result"
    }
   ],
   "source": [
    "%%time\n",
    "# обучение модели\n",
    "rf_model.fit(scale_features_train, data_target_train)"
   ]
  },
  {
   "cell_type": "code",
   "execution_count": 124,
   "metadata": {},
   "outputs": [
    {
     "name": "stdout",
     "output_type": "stream",
     "text": [
      "CPU times: user 262 ms, sys: 6 µs, total: 262 ms\n",
      "Wall time: 260 ms\n"
     ]
    }
   ],
   "source": [
    "%%time\n",
    "# прогноз на валидационных данных\n",
    "pred_scale_target_valid = rf_model.predict(scale_features_valid)"
   ]
  },
  {
   "cell_type": "code",
   "execution_count": 125,
   "metadata": {},
   "outputs": [
    {
     "name": "stdout",
     "output_type": "stream",
     "text": [
      "RMSE 1898.3\n"
     ]
    }
   ],
   "source": [
    "print('RMSE', \\\n",
    "      round(mean_squared_error(pred_scale_target_valid, data_target_valid) ** 0.5, 2))"
   ]
  },
  {
   "cell_type": "code",
   "execution_count": 126,
   "metadata": {},
   "outputs": [],
   "source": [
    "# оценка модели через кросс-валидацию\n",
    "cv_score_rf = cross_val_score(rf_model, \n",
    "                scale_features_train, \n",
    "                data_target_train,\n",
    "                scoring='neg_mean_squared_error',\n",
    "                              \n",
    "                cv=5)"
   ]
  },
  {
   "cell_type": "code",
   "execution_count": 127,
   "metadata": {},
   "outputs": [
    {
     "name": "stdout",
     "output_type": "stream",
     "text": [
      "RMSE модели случайного леса через кросс-валидацию 1900.806\n"
     ]
    }
   ],
   "source": [
    "final_cv_score_rf = round(np.mean(-cv_score_rf)**0.5, 3)\n",
    "print('RMSE модели случайного леса через кросс-валидацию', final_cv_score_rf)"
   ]
  },
  {
   "cell_type": "code",
   "execution_count": 128,
   "metadata": {},
   "outputs": [],
   "source": [
    "# Подберем наилучшие параметры для модели случайного леса\n",
    "parameters =[{\n",
    "\n",
    "    \"n_estimators\": [50, 150],\n",
    "    'max_depth': [4, 10]\n",
    "}]\n",
    "\n",
    "model_GSCV_rf = GridSearchCV(\n",
    "        estimator = RandomForestRegressor(random_state=12345, verbose=50),\n",
    "        param_grid = parameters,\n",
    ")\n",
    "# cv=5, scoring='neg_mean_squared_error'"
   ]
  },
  {
   "cell_type": "code",
   "execution_count": 129,
   "metadata": {
    "scrolled": true
   },
   "outputs": [
    {
     "name": "stdout",
     "output_type": "stream",
     "text": [
      "[Parallel(n_jobs=1)]: Using backend SequentialBackend with 1 concurrent workers.\n",
      "building tree 1 of 50\n",
      "[Parallel(n_jobs=1)]: Done   1 out of   1 | elapsed:    0.1s remaining:    0.0s\n",
      "building tree 2 of 50\n",
      "[Parallel(n_jobs=1)]: Done   2 out of   2 | elapsed:    0.2s remaining:    0.0s\n",
      "building tree 3 of 50\n",
      "[Parallel(n_jobs=1)]: Done   3 out of   3 | elapsed:    0.4s remaining:    0.0s\n",
      "building tree 4 of 50\n",
      "[Parallel(n_jobs=1)]: Done   4 out of   4 | elapsed:    0.5s remaining:    0.0s\n",
      "building tree 5 of 50\n",
      "[Parallel(n_jobs=1)]: Done   5 out of   5 | elapsed:    0.6s remaining:    0.0s\n",
      "building tree 6 of 50\n",
      "[Parallel(n_jobs=1)]: Done   6 out of   6 | elapsed:    0.7s remaining:    0.0s\n",
      "building tree 7 of 50\n",
      "[Parallel(n_jobs=1)]: Done   7 out of   7 | elapsed:    0.9s remaining:    0.0s\n",
      "building tree 8 of 50\n",
      "[Parallel(n_jobs=1)]: Done   8 out of   8 | elapsed:    1.0s remaining:    0.0s\n",
      "building tree 9 of 50\n",
      "[Parallel(n_jobs=1)]: Done   9 out of   9 | elapsed:    1.1s remaining:    0.0s\n",
      "building tree 10 of 50\n",
      "[Parallel(n_jobs=1)]: Done  10 out of  10 | elapsed:    1.2s remaining:    0.0s\n",
      "building tree 11 of 50\n",
      "[Parallel(n_jobs=1)]: Done  11 out of  11 | elapsed:    1.4s remaining:    0.0s\n",
      "building tree 12 of 50\n",
      "[Parallel(n_jobs=1)]: Done  12 out of  12 | elapsed:    1.5s remaining:    0.0s\n",
      "building tree 13 of 50\n",
      "[Parallel(n_jobs=1)]: Done  13 out of  13 | elapsed:    1.6s remaining:    0.0s\n",
      "building tree 14 of 50\n",
      "[Parallel(n_jobs=1)]: Done  14 out of  14 | elapsed:    1.7s remaining:    0.0s\n",
      "building tree 15 of 50\n",
      "[Parallel(n_jobs=1)]: Done  15 out of  15 | elapsed:    1.8s remaining:    0.0s\n",
      "building tree 16 of 50\n",
      "[Parallel(n_jobs=1)]: Done  16 out of  16 | elapsed:    1.9s remaining:    0.0s\n",
      "building tree 17 of 50\n",
      "[Parallel(n_jobs=1)]: Done  17 out of  17 | elapsed:    2.0s remaining:    0.0s\n",
      "building tree 18 of 50\n",
      "[Parallel(n_jobs=1)]: Done  18 out of  18 | elapsed:    2.1s remaining:    0.0s\n",
      "building tree 19 of 50\n",
      "[Parallel(n_jobs=1)]: Done  19 out of  19 | elapsed:    2.3s remaining:    0.0s\n",
      "building tree 20 of 50\n",
      "[Parallel(n_jobs=1)]: Done  20 out of  20 | elapsed:    2.4s remaining:    0.0s\n",
      "building tree 21 of 50\n",
      "[Parallel(n_jobs=1)]: Done  21 out of  21 | elapsed:    2.5s remaining:    0.0s\n",
      "building tree 22 of 50\n",
      "[Parallel(n_jobs=1)]: Done  22 out of  22 | elapsed:    2.6s remaining:    0.0s\n",
      "building tree 23 of 50\n",
      "[Parallel(n_jobs=1)]: Done  23 out of  23 | elapsed:    2.7s remaining:    0.0s\n",
      "building tree 24 of 50\n",
      "[Parallel(n_jobs=1)]: Done  24 out of  24 | elapsed:    2.8s remaining:    0.0s\n",
      "building tree 25 of 50\n",
      "[Parallel(n_jobs=1)]: Done  25 out of  25 | elapsed:    3.0s remaining:    0.0s\n",
      "building tree 26 of 50\n",
      "[Parallel(n_jobs=1)]: Done  26 out of  26 | elapsed:    3.1s remaining:    0.0s\n",
      "building tree 27 of 50\n",
      "[Parallel(n_jobs=1)]: Done  27 out of  27 | elapsed:    3.2s remaining:    0.0s\n",
      "building tree 28 of 50\n",
      "[Parallel(n_jobs=1)]: Done  28 out of  28 | elapsed:    3.3s remaining:    0.0s\n",
      "building tree 29 of 50\n",
      "[Parallel(n_jobs=1)]: Done  29 out of  29 | elapsed:    3.4s remaining:    0.0s\n",
      "building tree 30 of 50\n",
      "[Parallel(n_jobs=1)]: Done  30 out of  30 | elapsed:    3.5s remaining:    0.0s\n",
      "building tree 31 of 50\n",
      "[Parallel(n_jobs=1)]: Done  31 out of  31 | elapsed:    3.6s remaining:    0.0s\n",
      "building tree 32 of 50\n",
      "[Parallel(n_jobs=1)]: Done  32 out of  32 | elapsed:    3.8s remaining:    0.0s\n",
      "building tree 33 of 50\n",
      "[Parallel(n_jobs=1)]: Done  33 out of  33 | elapsed:    3.9s remaining:    0.0s\n",
      "building tree 34 of 50\n",
      "[Parallel(n_jobs=1)]: Done  34 out of  34 | elapsed:    4.0s remaining:    0.0s\n",
      "building tree 35 of 50\n",
      "[Parallel(n_jobs=1)]: Done  35 out of  35 | elapsed:    4.1s remaining:    0.0s\n",
      "building tree 36 of 50\n",
      "[Parallel(n_jobs=1)]: Done  36 out of  36 | elapsed:    4.2s remaining:    0.0s\n",
      "building tree 37 of 50\n",
      "[Parallel(n_jobs=1)]: Done  37 out of  37 | elapsed:    4.3s remaining:    0.0s\n",
      "building tree 38 of 50\n",
      "[Parallel(n_jobs=1)]: Done  38 out of  38 | elapsed:    4.4s remaining:    0.0s\n",
      "building tree 39 of 50\n",
      "[Parallel(n_jobs=1)]: Done  39 out of  39 | elapsed:    4.6s remaining:    0.0s\n",
      "building tree 40 of 50\n",
      "[Parallel(n_jobs=1)]: Done  40 out of  40 | elapsed:    4.7s remaining:    0.0s\n",
      "building tree 41 of 50\n",
      "[Parallel(n_jobs=1)]: Done  41 out of  41 | elapsed:    4.8s remaining:    0.0s\n",
      "building tree 42 of 50\n",
      "[Parallel(n_jobs=1)]: Done  42 out of  42 | elapsed:    4.9s remaining:    0.0s\n",
      "building tree 43 of 50\n",
      "[Parallel(n_jobs=1)]: Done  43 out of  43 | elapsed:    5.0s remaining:    0.0s\n",
      "building tree 44 of 50\n",
      "[Parallel(n_jobs=1)]: Done  44 out of  44 | elapsed:    5.1s remaining:    0.0s\n",
      "building tree 45 of 50\n",
      "[Parallel(n_jobs=1)]: Done  45 out of  45 | elapsed:    5.2s remaining:    0.0s\n",
      "building tree 46 of 50\n",
      "[Parallel(n_jobs=1)]: Done  46 out of  46 | elapsed:    5.3s remaining:    0.0s\n",
      "building tree 47 of 50\n",
      "[Parallel(n_jobs=1)]: Done  47 out of  47 | elapsed:    5.5s remaining:    0.0s\n",
      "building tree 48 of 50\n",
      "[Parallel(n_jobs=1)]: Done  48 out of  48 | elapsed:    5.6s remaining:    0.0s\n",
      "building tree 49 of 50\n",
      "[Parallel(n_jobs=1)]: Done  49 out of  49 | elapsed:    5.7s remaining:    0.0s\n",
      "building tree 50 of 50\n",
      "[Parallel(n_jobs=1)]: Done  50 out of  50 | elapsed:    5.8s finished\n",
      "Using ThreadingBackend as joblib.Parallel backend instead of LokyBackend as the latter does not provide shared memory semantics.\n",
      "[Parallel(n_jobs=1)]: Using backend SequentialBackend with 1 concurrent workers.\n",
      "[Parallel(n_jobs=1)]: Done   1 out of   1 | elapsed:    0.0s remaining:    0.0s\n",
      "[Parallel(n_jobs=1)]: Done   2 out of   2 | elapsed:    0.0s remaining:    0.0s\n",
      "[Parallel(n_jobs=1)]: Done   3 out of   3 | elapsed:    0.0s remaining:    0.0s\n",
      "[Parallel(n_jobs=1)]: Done   4 out of   4 | elapsed:    0.0s remaining:    0.0s\n",
      "[Parallel(n_jobs=1)]: Done   5 out of   5 | elapsed:    0.0s remaining:    0.0s\n",
      "[Parallel(n_jobs=1)]: Done   6 out of   6 | elapsed:    0.0s remaining:    0.0s\n",
      "[Parallel(n_jobs=1)]: Done   7 out of   7 | elapsed:    0.0s remaining:    0.0s\n",
      "[Parallel(n_jobs=1)]: Done   8 out of   8 | elapsed:    0.0s remaining:    0.0s\n",
      "[Parallel(n_jobs=1)]: Done   9 out of   9 | elapsed:    0.0s remaining:    0.0s\n",
      "[Parallel(n_jobs=1)]: Done  10 out of  10 | elapsed:    0.0s remaining:    0.0s\n",
      "[Parallel(n_jobs=1)]: Done  11 out of  11 | elapsed:    0.0s remaining:    0.0s\n",
      "[Parallel(n_jobs=1)]: Done  12 out of  12 | elapsed:    0.0s remaining:    0.0s\n",
      "[Parallel(n_jobs=1)]: Done  13 out of  13 | elapsed:    0.0s remaining:    0.0s\n",
      "[Parallel(n_jobs=1)]: Done  14 out of  14 | elapsed:    0.0s remaining:    0.0s\n",
      "[Parallel(n_jobs=1)]: Done  15 out of  15 | elapsed:    0.0s remaining:    0.0s\n",
      "[Parallel(n_jobs=1)]: Done  16 out of  16 | elapsed:    0.0s remaining:    0.0s\n",
      "[Parallel(n_jobs=1)]: Done  17 out of  17 | elapsed:    0.0s remaining:    0.0s\n",
      "[Parallel(n_jobs=1)]: Done  18 out of  18 | elapsed:    0.0s remaining:    0.0s\n",
      "[Parallel(n_jobs=1)]: Done  19 out of  19 | elapsed:    0.0s remaining:    0.0s\n",
      "[Parallel(n_jobs=1)]: Done  20 out of  20 | elapsed:    0.0s remaining:    0.0s\n",
      "[Parallel(n_jobs=1)]: Done  21 out of  21 | elapsed:    0.0s remaining:    0.0s\n",
      "[Parallel(n_jobs=1)]: Done  22 out of  22 | elapsed:    0.0s remaining:    0.0s\n",
      "[Parallel(n_jobs=1)]: Done  23 out of  23 | elapsed:    0.0s remaining:    0.0s\n",
      "[Parallel(n_jobs=1)]: Done  24 out of  24 | elapsed:    0.0s remaining:    0.0s\n",
      "[Parallel(n_jobs=1)]: Done  25 out of  25 | elapsed:    0.0s remaining:    0.0s\n",
      "[Parallel(n_jobs=1)]: Done  26 out of  26 | elapsed:    0.0s remaining:    0.0s\n",
      "[Parallel(n_jobs=1)]: Done  27 out of  27 | elapsed:    0.0s remaining:    0.0s\n",
      "[Parallel(n_jobs=1)]: Done  28 out of  28 | elapsed:    0.0s remaining:    0.0s\n",
      "[Parallel(n_jobs=1)]: Done  29 out of  29 | elapsed:    0.0s remaining:    0.0s\n",
      "[Parallel(n_jobs=1)]: Done  30 out of  30 | elapsed:    0.0s remaining:    0.0s\n",
      "[Parallel(n_jobs=1)]: Done  31 out of  31 | elapsed:    0.0s remaining:    0.0s\n",
      "[Parallel(n_jobs=1)]: Done  32 out of  32 | elapsed:    0.0s remaining:    0.0s\n",
      "[Parallel(n_jobs=1)]: Done  33 out of  33 | elapsed:    0.0s remaining:    0.0s\n",
      "[Parallel(n_jobs=1)]: Done  34 out of  34 | elapsed:    0.0s remaining:    0.0s\n",
      "[Parallel(n_jobs=1)]: Done  35 out of  35 | elapsed:    0.0s remaining:    0.0s\n",
      "[Parallel(n_jobs=1)]: Done  36 out of  36 | elapsed:    0.0s remaining:    0.0s\n",
      "[Parallel(n_jobs=1)]: Done  37 out of  37 | elapsed:    0.0s remaining:    0.0s\n",
      "[Parallel(n_jobs=1)]: Done  38 out of  38 | elapsed:    0.0s remaining:    0.0s\n",
      "[Parallel(n_jobs=1)]: Done  39 out of  39 | elapsed:    0.0s remaining:    0.0s\n",
      "[Parallel(n_jobs=1)]: Done  40 out of  40 | elapsed:    0.1s remaining:    0.0s\n",
      "[Parallel(n_jobs=1)]: Done  41 out of  41 | elapsed:    0.1s remaining:    0.0s\n",
      "[Parallel(n_jobs=1)]: Done  42 out of  42 | elapsed:    0.1s remaining:    0.0s\n",
      "[Parallel(n_jobs=1)]: Done  43 out of  43 | elapsed:    0.1s remaining:    0.0s\n",
      "[Parallel(n_jobs=1)]: Done  44 out of  44 | elapsed:    0.1s remaining:    0.0s\n",
      "[Parallel(n_jobs=1)]: Done  45 out of  45 | elapsed:    0.1s remaining:    0.0s\n",
      "[Parallel(n_jobs=1)]: Done  46 out of  46 | elapsed:    0.1s remaining:    0.0s\n",
      "[Parallel(n_jobs=1)]: Done  47 out of  47 | elapsed:    0.1s remaining:    0.0s\n",
      "[Parallel(n_jobs=1)]: Done  48 out of  48 | elapsed:    0.1s remaining:    0.0s\n",
      "[Parallel(n_jobs=1)]: Done  49 out of  49 | elapsed:    0.1s remaining:    0.0s\n",
      "[Parallel(n_jobs=1)]: Done  50 out of  50 | elapsed:    0.1s finished\n",
      "[Parallel(n_jobs=1)]: Using backend SequentialBackend with 1 concurrent workers.\n",
      "building tree 1 of 50\n",
      "[Parallel(n_jobs=1)]: Done   1 out of   1 | elapsed:    0.1s remaining:    0.0s\n",
      "building tree 2 of 50\n",
      "[Parallel(n_jobs=1)]: Done   2 out of   2 | elapsed:    0.2s remaining:    0.0s\n",
      "building tree 3 of 50\n",
      "[Parallel(n_jobs=1)]: Done   3 out of   3 | elapsed:    0.3s remaining:    0.0s\n",
      "building tree 4 of 50\n",
      "[Parallel(n_jobs=1)]: Done   4 out of   4 | elapsed:    0.4s remaining:    0.0s\n",
      "building tree 5 of 50\n",
      "[Parallel(n_jobs=1)]: Done   5 out of   5 | elapsed:    0.6s remaining:    0.0s\n",
      "building tree 6 of 50\n",
      "[Parallel(n_jobs=1)]: Done   6 out of   6 | elapsed:    0.7s remaining:    0.0s\n",
      "building tree 7 of 50\n",
      "[Parallel(n_jobs=1)]: Done   7 out of   7 | elapsed:    0.8s remaining:    0.0s\n",
      "building tree 8 of 50\n",
      "[Parallel(n_jobs=1)]: Done   8 out of   8 | elapsed:    0.9s remaining:    0.0s\n",
      "building tree 9 of 50\n",
      "[Parallel(n_jobs=1)]: Done   9 out of   9 | elapsed:    1.0s remaining:    0.0s\n",
      "building tree 10 of 50\n",
      "[Parallel(n_jobs=1)]: Done  10 out of  10 | elapsed:    1.1s remaining:    0.0s\n",
      "building tree 11 of 50\n",
      "[Parallel(n_jobs=1)]: Done  11 out of  11 | elapsed:    1.2s remaining:    0.0s\n",
      "building tree 12 of 50\n",
      "[Parallel(n_jobs=1)]: Done  12 out of  12 | elapsed:    1.4s remaining:    0.0s\n",
      "building tree 13 of 50\n",
      "[Parallel(n_jobs=1)]: Done  13 out of  13 | elapsed:    1.5s remaining:    0.0s\n",
      "building tree 14 of 50\n",
      "[Parallel(n_jobs=1)]: Done  14 out of  14 | elapsed:    1.6s remaining:    0.0s\n",
      "building tree 15 of 50\n",
      "[Parallel(n_jobs=1)]: Done  15 out of  15 | elapsed:    1.7s remaining:    0.0s\n",
      "building tree 16 of 50\n",
      "[Parallel(n_jobs=1)]: Done  16 out of  16 | elapsed:    1.9s remaining:    0.0s\n",
      "building tree 17 of 50\n",
      "[Parallel(n_jobs=1)]: Done  17 out of  17 | elapsed:    2.0s remaining:    0.0s\n",
      "building tree 18 of 50\n",
      "[Parallel(n_jobs=1)]: Done  18 out of  18 | elapsed:    2.1s remaining:    0.0s\n",
      "building tree 19 of 50\n",
      "[Parallel(n_jobs=1)]: Done  19 out of  19 | elapsed:    2.2s remaining:    0.0s\n",
      "building tree 20 of 50\n",
      "[Parallel(n_jobs=1)]: Done  20 out of  20 | elapsed:    2.3s remaining:    0.0s\n",
      "building tree 21 of 50\n",
      "[Parallel(n_jobs=1)]: Done  21 out of  21 | elapsed:    2.5s remaining:    0.0s\n",
      "building tree 22 of 50\n",
      "[Parallel(n_jobs=1)]: Done  22 out of  22 | elapsed:    2.6s remaining:    0.0s\n",
      "building tree 23 of 50\n",
      "[Parallel(n_jobs=1)]: Done  23 out of  23 | elapsed:    2.7s remaining:    0.0s\n",
      "building tree 24 of 50\n",
      "[Parallel(n_jobs=1)]: Done  24 out of  24 | elapsed:    2.8s remaining:    0.0s\n",
      "building tree 25 of 50\n",
      "[Parallel(n_jobs=1)]: Done  25 out of  25 | elapsed:    2.9s remaining:    0.0s\n",
      "building tree 26 of 50\n",
      "[Parallel(n_jobs=1)]: Done  26 out of  26 | elapsed:    3.0s remaining:    0.0s\n",
      "building tree 27 of 50\n",
      "[Parallel(n_jobs=1)]: Done  27 out of  27 | elapsed:    3.2s remaining:    0.0s\n",
      "building tree 28 of 50\n",
      "[Parallel(n_jobs=1)]: Done  28 out of  28 | elapsed:    3.3s remaining:    0.0s\n",
      "building tree 29 of 50\n",
      "[Parallel(n_jobs=1)]: Done  29 out of  29 | elapsed:    3.4s remaining:    0.0s\n",
      "building tree 30 of 50\n",
      "[Parallel(n_jobs=1)]: Done  30 out of  30 | elapsed:    3.5s remaining:    0.0s\n",
      "building tree 31 of 50\n",
      "[Parallel(n_jobs=1)]: Done  31 out of  31 | elapsed:    3.6s remaining:    0.0s\n",
      "building tree 32 of 50\n",
      "[Parallel(n_jobs=1)]: Done  32 out of  32 | elapsed:    3.7s remaining:    0.0s\n",
      "building tree 33 of 50\n",
      "[Parallel(n_jobs=1)]: Done  33 out of  33 | elapsed:    3.8s remaining:    0.0s\n",
      "building tree 34 of 50\n",
      "[Parallel(n_jobs=1)]: Done  34 out of  34 | elapsed:    3.9s remaining:    0.0s\n",
      "building tree 35 of 50\n",
      "[Parallel(n_jobs=1)]: Done  35 out of  35 | elapsed:    4.1s remaining:    0.0s\n",
      "building tree 36 of 50\n",
      "[Parallel(n_jobs=1)]: Done  36 out of  36 | elapsed:    4.2s remaining:    0.0s\n",
      "building tree 37 of 50\n",
      "[Parallel(n_jobs=1)]: Done  37 out of  37 | elapsed:    4.3s remaining:    0.0s\n",
      "building tree 38 of 50\n",
      "[Parallel(n_jobs=1)]: Done  38 out of  38 | elapsed:    4.4s remaining:    0.0s\n",
      "building tree 39 of 50\n",
      "[Parallel(n_jobs=1)]: Done  39 out of  39 | elapsed:    4.5s remaining:    0.0s\n",
      "building tree 40 of 50\n",
      "[Parallel(n_jobs=1)]: Done  40 out of  40 | elapsed:    4.6s remaining:    0.0s\n",
      "building tree 41 of 50\n",
      "[Parallel(n_jobs=1)]: Done  41 out of  41 | elapsed:    4.7s remaining:    0.0s\n",
      "building tree 42 of 50\n",
      "[Parallel(n_jobs=1)]: Done  42 out of  42 | elapsed:    4.9s remaining:    0.0s\n",
      "building tree 43 of 50\n",
      "[Parallel(n_jobs=1)]: Done  43 out of  43 | elapsed:    5.0s remaining:    0.0s\n",
      "building tree 44 of 50\n",
      "[Parallel(n_jobs=1)]: Done  44 out of  44 | elapsed:    5.1s remaining:    0.0s\n",
      "building tree 45 of 50\n",
      "[Parallel(n_jobs=1)]: Done  45 out of  45 | elapsed:    5.2s remaining:    0.0s\n",
      "building tree 46 of 50\n",
      "[Parallel(n_jobs=1)]: Done  46 out of  46 | elapsed:    5.3s remaining:    0.0s\n",
      "building tree 47 of 50\n",
      "[Parallel(n_jobs=1)]: Done  47 out of  47 | elapsed:    5.4s remaining:    0.0s\n",
      "building tree 48 of 50\n",
      "[Parallel(n_jobs=1)]: Done  48 out of  48 | elapsed:    5.5s remaining:    0.0s\n",
      "building tree 49 of 50\n",
      "[Parallel(n_jobs=1)]: Done  49 out of  49 | elapsed:    5.7s remaining:    0.0s\n",
      "building tree 50 of 50\n",
      "[Parallel(n_jobs=1)]: Done  50 out of  50 | elapsed:    5.8s finished\n",
      "Using ThreadingBackend as joblib.Parallel backend instead of LokyBackend as the latter does not provide shared memory semantics.\n",
      "[Parallel(n_jobs=1)]: Using backend SequentialBackend with 1 concurrent workers.\n",
      "[Parallel(n_jobs=1)]: Done   1 out of   1 | elapsed:    0.0s remaining:    0.0s\n",
      "[Parallel(n_jobs=1)]: Done   2 out of   2 | elapsed:    0.0s remaining:    0.0s\n",
      "[Parallel(n_jobs=1)]: Done   3 out of   3 | elapsed:    0.0s remaining:    0.0s\n",
      "[Parallel(n_jobs=1)]: Done   4 out of   4 | elapsed:    0.0s remaining:    0.0s\n",
      "[Parallel(n_jobs=1)]: Done   5 out of   5 | elapsed:    0.0s remaining:    0.0s\n",
      "[Parallel(n_jobs=1)]: Done   6 out of   6 | elapsed:    0.0s remaining:    0.0s\n",
      "[Parallel(n_jobs=1)]: Done   7 out of   7 | elapsed:    0.0s remaining:    0.0s\n",
      "[Parallel(n_jobs=1)]: Done   8 out of   8 | elapsed:    0.0s remaining:    0.0s\n",
      "[Parallel(n_jobs=1)]: Done   9 out of   9 | elapsed:    0.0s remaining:    0.0s\n",
      "[Parallel(n_jobs=1)]: Done  10 out of  10 | elapsed:    0.0s remaining:    0.0s\n",
      "[Parallel(n_jobs=1)]: Done  11 out of  11 | elapsed:    0.0s remaining:    0.0s\n",
      "[Parallel(n_jobs=1)]: Done  12 out of  12 | elapsed:    0.0s remaining:    0.0s\n",
      "[Parallel(n_jobs=1)]: Done  13 out of  13 | elapsed:    0.0s remaining:    0.0s\n",
      "[Parallel(n_jobs=1)]: Done  14 out of  14 | elapsed:    0.0s remaining:    0.0s\n",
      "[Parallel(n_jobs=1)]: Done  15 out of  15 | elapsed:    0.0s remaining:    0.0s\n",
      "[Parallel(n_jobs=1)]: Done  16 out of  16 | elapsed:    0.0s remaining:    0.0s\n",
      "[Parallel(n_jobs=1)]: Done  17 out of  17 | elapsed:    0.0s remaining:    0.0s\n",
      "[Parallel(n_jobs=1)]: Done  18 out of  18 | elapsed:    0.0s remaining:    0.0s\n",
      "[Parallel(n_jobs=1)]: Done  19 out of  19 | elapsed:    0.0s remaining:    0.0s\n",
      "[Parallel(n_jobs=1)]: Done  20 out of  20 | elapsed:    0.0s remaining:    0.0s\n",
      "[Parallel(n_jobs=1)]: Done  21 out of  21 | elapsed:    0.0s remaining:    0.0s\n",
      "[Parallel(n_jobs=1)]: Done  22 out of  22 | elapsed:    0.0s remaining:    0.0s\n",
      "[Parallel(n_jobs=1)]: Done  23 out of  23 | elapsed:    0.0s remaining:    0.0s\n",
      "[Parallel(n_jobs=1)]: Done  24 out of  24 | elapsed:    0.0s remaining:    0.0s\n",
      "[Parallel(n_jobs=1)]: Done  25 out of  25 | elapsed:    0.0s remaining:    0.0s\n",
      "[Parallel(n_jobs=1)]: Done  26 out of  26 | elapsed:    0.0s remaining:    0.0s\n",
      "[Parallel(n_jobs=1)]: Done  27 out of  27 | elapsed:    0.0s remaining:    0.0s\n",
      "[Parallel(n_jobs=1)]: Done  28 out of  28 | elapsed:    0.0s remaining:    0.0s\n",
      "[Parallel(n_jobs=1)]: Done  29 out of  29 | elapsed:    0.0s remaining:    0.0s\n",
      "[Parallel(n_jobs=1)]: Done  30 out of  30 | elapsed:    0.0s remaining:    0.0s\n",
      "[Parallel(n_jobs=1)]: Done  31 out of  31 | elapsed:    0.0s remaining:    0.0s\n",
      "[Parallel(n_jobs=1)]: Done  32 out of  32 | elapsed:    0.0s remaining:    0.0s\n",
      "[Parallel(n_jobs=1)]: Done  33 out of  33 | elapsed:    0.0s remaining:    0.0s\n",
      "[Parallel(n_jobs=1)]: Done  34 out of  34 | elapsed:    0.0s remaining:    0.0s\n",
      "[Parallel(n_jobs=1)]: Done  35 out of  35 | elapsed:    0.0s remaining:    0.0s\n",
      "[Parallel(n_jobs=1)]: Done  36 out of  36 | elapsed:    0.0s remaining:    0.0s\n",
      "[Parallel(n_jobs=1)]: Done  37 out of  37 | elapsed:    0.0s remaining:    0.0s\n",
      "[Parallel(n_jobs=1)]: Done  38 out of  38 | elapsed:    0.0s remaining:    0.0s\n",
      "[Parallel(n_jobs=1)]: Done  39 out of  39 | elapsed:    0.0s remaining:    0.0s\n",
      "[Parallel(n_jobs=1)]: Done  40 out of  40 | elapsed:    0.1s remaining:    0.0s\n",
      "[Parallel(n_jobs=1)]: Done  41 out of  41 | elapsed:    0.1s remaining:    0.0s\n",
      "[Parallel(n_jobs=1)]: Done  42 out of  42 | elapsed:    0.1s remaining:    0.0s\n",
      "[Parallel(n_jobs=1)]: Done  43 out of  43 | elapsed:    0.1s remaining:    0.0s\n",
      "[Parallel(n_jobs=1)]: Done  44 out of  44 | elapsed:    0.1s remaining:    0.0s\n",
      "[Parallel(n_jobs=1)]: Done  45 out of  45 | elapsed:    0.1s remaining:    0.0s\n",
      "[Parallel(n_jobs=1)]: Done  46 out of  46 | elapsed:    0.1s remaining:    0.0s\n",
      "[Parallel(n_jobs=1)]: Done  47 out of  47 | elapsed:    0.1s remaining:    0.0s\n",
      "[Parallel(n_jobs=1)]: Done  48 out of  48 | elapsed:    0.1s remaining:    0.0s\n",
      "[Parallel(n_jobs=1)]: Done  49 out of  49 | elapsed:    0.1s remaining:    0.0s\n",
      "[Parallel(n_jobs=1)]: Done  50 out of  50 | elapsed:    0.1s finished\n",
      "[Parallel(n_jobs=1)]: Using backend SequentialBackend with 1 concurrent workers.\n",
      "building tree 1 of 50\n",
      "[Parallel(n_jobs=1)]: Done   1 out of   1 | elapsed:    0.1s remaining:    0.0s\n",
      "building tree 2 of 50\n",
      "[Parallel(n_jobs=1)]: Done   2 out of   2 | elapsed:    0.2s remaining:    0.0s\n",
      "building tree 3 of 50\n",
      "[Parallel(n_jobs=1)]: Done   3 out of   3 | elapsed:    0.3s remaining:    0.0s\n",
      "building tree 4 of 50\n",
      "[Parallel(n_jobs=1)]: Done   4 out of   4 | elapsed:    0.4s remaining:    0.0s\n",
      "building tree 5 of 50\n",
      "[Parallel(n_jobs=1)]: Done   5 out of   5 | elapsed:    0.5s remaining:    0.0s\n",
      "building tree 6 of 50\n",
      "[Parallel(n_jobs=1)]: Done   6 out of   6 | elapsed:    0.7s remaining:    0.0s\n",
      "building tree 7 of 50\n",
      "[Parallel(n_jobs=1)]: Done   7 out of   7 | elapsed:    0.8s remaining:    0.0s\n",
      "building tree 8 of 50\n",
      "[Parallel(n_jobs=1)]: Done   8 out of   8 | elapsed:    0.9s remaining:    0.0s\n",
      "building tree 9 of 50\n",
      "[Parallel(n_jobs=1)]: Done   9 out of   9 | elapsed:    1.1s remaining:    0.0s\n",
      "building tree 10 of 50\n",
      "[Parallel(n_jobs=1)]: Done  10 out of  10 | elapsed:    1.2s remaining:    0.0s\n",
      "building tree 11 of 50\n",
      "[Parallel(n_jobs=1)]: Done  11 out of  11 | elapsed:    1.3s remaining:    0.0s\n",
      "building tree 12 of 50\n",
      "[Parallel(n_jobs=1)]: Done  12 out of  12 | elapsed:    1.4s remaining:    0.0s\n",
      "building tree 13 of 50\n",
      "[Parallel(n_jobs=1)]: Done  13 out of  13 | elapsed:    1.5s remaining:    0.0s\n",
      "building tree 14 of 50\n",
      "[Parallel(n_jobs=1)]: Done  14 out of  14 | elapsed:    1.6s remaining:    0.0s\n",
      "building tree 15 of 50\n",
      "[Parallel(n_jobs=1)]: Done  15 out of  15 | elapsed:    1.7s remaining:    0.0s\n",
      "building tree 16 of 50\n",
      "[Parallel(n_jobs=1)]: Done  16 out of  16 | elapsed:    1.8s remaining:    0.0s\n",
      "building tree 17 of 50\n",
      "[Parallel(n_jobs=1)]: Done  17 out of  17 | elapsed:    2.0s remaining:    0.0s\n",
      "building tree 18 of 50\n",
      "[Parallel(n_jobs=1)]: Done  18 out of  18 | elapsed:    2.1s remaining:    0.0s\n",
      "building tree 19 of 50\n",
      "[Parallel(n_jobs=1)]: Done  19 out of  19 | elapsed:    2.2s remaining:    0.0s\n",
      "building tree 20 of 50\n",
      "[Parallel(n_jobs=1)]: Done  20 out of  20 | elapsed:    2.3s remaining:    0.0s\n",
      "building tree 21 of 50\n",
      "[Parallel(n_jobs=1)]: Done  21 out of  21 | elapsed:    2.4s remaining:    0.0s\n",
      "building tree 22 of 50\n",
      "[Parallel(n_jobs=1)]: Done  22 out of  22 | elapsed:    2.5s remaining:    0.0s\n",
      "building tree 23 of 50\n",
      "[Parallel(n_jobs=1)]: Done  23 out of  23 | elapsed:    2.6s remaining:    0.0s\n",
      "building tree 24 of 50\n",
      "[Parallel(n_jobs=1)]: Done  24 out of  24 | elapsed:    2.8s remaining:    0.0s\n",
      "building tree 25 of 50\n",
      "[Parallel(n_jobs=1)]: Done  25 out of  25 | elapsed:    2.9s remaining:    0.0s\n",
      "building tree 26 of 50\n",
      "[Parallel(n_jobs=1)]: Done  26 out of  26 | elapsed:    3.0s remaining:    0.0s\n",
      "building tree 27 of 50\n",
      "[Parallel(n_jobs=1)]: Done  27 out of  27 | elapsed:    3.1s remaining:    0.0s\n",
      "building tree 28 of 50\n",
      "[Parallel(n_jobs=1)]: Done  28 out of  28 | elapsed:    3.2s remaining:    0.0s\n",
      "building tree 29 of 50\n",
      "[Parallel(n_jobs=1)]: Done  29 out of  29 | elapsed:    3.3s remaining:    0.0s\n",
      "building tree 30 of 50\n",
      "[Parallel(n_jobs=1)]: Done  30 out of  30 | elapsed:    3.5s remaining:    0.0s\n",
      "building tree 31 of 50\n",
      "[Parallel(n_jobs=1)]: Done  31 out of  31 | elapsed:    3.6s remaining:    0.0s\n",
      "building tree 32 of 50\n",
      "[Parallel(n_jobs=1)]: Done  32 out of  32 | elapsed:    3.7s remaining:    0.0s\n",
      "building tree 33 of 50\n",
      "[Parallel(n_jobs=1)]: Done  33 out of  33 | elapsed:    3.8s remaining:    0.0s\n",
      "building tree 34 of 50\n",
      "[Parallel(n_jobs=1)]: Done  34 out of  34 | elapsed:    3.9s remaining:    0.0s\n",
      "building tree 35 of 50\n",
      "[Parallel(n_jobs=1)]: Done  35 out of  35 | elapsed:    4.0s remaining:    0.0s\n",
      "building tree 36 of 50\n",
      "[Parallel(n_jobs=1)]: Done  36 out of  36 | elapsed:    4.2s remaining:    0.0s\n",
      "building tree 37 of 50\n",
      "[Parallel(n_jobs=1)]: Done  37 out of  37 | elapsed:    4.3s remaining:    0.0s\n",
      "building tree 38 of 50\n",
      "[Parallel(n_jobs=1)]: Done  38 out of  38 | elapsed:    4.4s remaining:    0.0s\n",
      "building tree 39 of 50\n",
      "[Parallel(n_jobs=1)]: Done  39 out of  39 | elapsed:    4.5s remaining:    0.0s\n",
      "building tree 40 of 50\n",
      "[Parallel(n_jobs=1)]: Done  40 out of  40 | elapsed:    4.6s remaining:    0.0s\n",
      "building tree 41 of 50\n",
      "[Parallel(n_jobs=1)]: Done  41 out of  41 | elapsed:    4.7s remaining:    0.0s\n",
      "building tree 42 of 50\n",
      "[Parallel(n_jobs=1)]: Done  42 out of  42 | elapsed:    4.8s remaining:    0.0s\n",
      "building tree 43 of 50\n",
      "[Parallel(n_jobs=1)]: Done  43 out of  43 | elapsed:    4.9s remaining:    0.0s\n",
      "building tree 44 of 50\n",
      "[Parallel(n_jobs=1)]: Done  44 out of  44 | elapsed:    5.0s remaining:    0.0s\n",
      "building tree 45 of 50\n",
      "[Parallel(n_jobs=1)]: Done  45 out of  45 | elapsed:    5.2s remaining:    0.0s\n",
      "building tree 46 of 50\n",
      "[Parallel(n_jobs=1)]: Done  46 out of  46 | elapsed:    5.3s remaining:    0.0s\n",
      "building tree 47 of 50\n",
      "[Parallel(n_jobs=1)]: Done  47 out of  47 | elapsed:    5.5s remaining:    0.0s\n",
      "building tree 48 of 50\n",
      "[Parallel(n_jobs=1)]: Done  48 out of  48 | elapsed:    5.6s remaining:    0.0s\n",
      "building tree 49 of 50\n",
      "[Parallel(n_jobs=1)]: Done  49 out of  49 | elapsed:    5.7s remaining:    0.0s\n",
      "building tree 50 of 50\n",
      "[Parallel(n_jobs=1)]: Done  50 out of  50 | elapsed:    5.8s finished\n",
      "Using ThreadingBackend as joblib.Parallel backend instead of LokyBackend as the latter does not provide shared memory semantics.\n",
      "[Parallel(n_jobs=1)]: Using backend SequentialBackend with 1 concurrent workers.\n",
      "[Parallel(n_jobs=1)]: Done   1 out of   1 | elapsed:    0.0s remaining:    0.0s\n",
      "[Parallel(n_jobs=1)]: Done   2 out of   2 | elapsed:    0.0s remaining:    0.0s\n",
      "[Parallel(n_jobs=1)]: Done   3 out of   3 | elapsed:    0.0s remaining:    0.0s\n",
      "[Parallel(n_jobs=1)]: Done   4 out of   4 | elapsed:    0.0s remaining:    0.0s\n",
      "[Parallel(n_jobs=1)]: Done   5 out of   5 | elapsed:    0.0s remaining:    0.0s\n",
      "[Parallel(n_jobs=1)]: Done   6 out of   6 | elapsed:    0.0s remaining:    0.0s\n",
      "[Parallel(n_jobs=1)]: Done   7 out of   7 | elapsed:    0.0s remaining:    0.0s\n",
      "[Parallel(n_jobs=1)]: Done   8 out of   8 | elapsed:    0.0s remaining:    0.0s\n",
      "[Parallel(n_jobs=1)]: Done   9 out of   9 | elapsed:    0.0s remaining:    0.0s\n",
      "[Parallel(n_jobs=1)]: Done  10 out of  10 | elapsed:    0.0s remaining:    0.0s\n",
      "[Parallel(n_jobs=1)]: Done  11 out of  11 | elapsed:    0.0s remaining:    0.0s\n",
      "[Parallel(n_jobs=1)]: Done  12 out of  12 | elapsed:    0.0s remaining:    0.0s\n",
      "[Parallel(n_jobs=1)]: Done  13 out of  13 | elapsed:    0.0s remaining:    0.0s\n",
      "[Parallel(n_jobs=1)]: Done  14 out of  14 | elapsed:    0.0s remaining:    0.0s\n",
      "[Parallel(n_jobs=1)]: Done  15 out of  15 | elapsed:    0.0s remaining:    0.0s\n",
      "[Parallel(n_jobs=1)]: Done  16 out of  16 | elapsed:    0.0s remaining:    0.0s\n",
      "[Parallel(n_jobs=1)]: Done  17 out of  17 | elapsed:    0.0s remaining:    0.0s\n",
      "[Parallel(n_jobs=1)]: Done  18 out of  18 | elapsed:    0.0s remaining:    0.0s\n",
      "[Parallel(n_jobs=1)]: Done  19 out of  19 | elapsed:    0.0s remaining:    0.0s\n",
      "[Parallel(n_jobs=1)]: Done  20 out of  20 | elapsed:    0.0s remaining:    0.0s\n",
      "[Parallel(n_jobs=1)]: Done  21 out of  21 | elapsed:    0.0s remaining:    0.0s\n",
      "[Parallel(n_jobs=1)]: Done  22 out of  22 | elapsed:    0.0s remaining:    0.0s\n",
      "[Parallel(n_jobs=1)]: Done  23 out of  23 | elapsed:    0.0s remaining:    0.0s\n",
      "[Parallel(n_jobs=1)]: Done  24 out of  24 | elapsed:    0.0s remaining:    0.0s\n",
      "[Parallel(n_jobs=1)]: Done  25 out of  25 | elapsed:    0.0s remaining:    0.0s\n",
      "[Parallel(n_jobs=1)]: Done  26 out of  26 | elapsed:    0.0s remaining:    0.0s\n",
      "[Parallel(n_jobs=1)]: Done  27 out of  27 | elapsed:    0.0s remaining:    0.0s\n",
      "[Parallel(n_jobs=1)]: Done  28 out of  28 | elapsed:    0.0s remaining:    0.0s\n",
      "[Parallel(n_jobs=1)]: Done  29 out of  29 | elapsed:    0.0s remaining:    0.0s\n",
      "[Parallel(n_jobs=1)]: Done  30 out of  30 | elapsed:    0.0s remaining:    0.0s\n",
      "[Parallel(n_jobs=1)]: Done  31 out of  31 | elapsed:    0.0s remaining:    0.0s\n",
      "[Parallel(n_jobs=1)]: Done  32 out of  32 | elapsed:    0.0s remaining:    0.0s\n",
      "[Parallel(n_jobs=1)]: Done  33 out of  33 | elapsed:    0.0s remaining:    0.0s\n",
      "[Parallel(n_jobs=1)]: Done  34 out of  34 | elapsed:    0.1s remaining:    0.0s\n",
      "[Parallel(n_jobs=1)]: Done  35 out of  35 | elapsed:    0.1s remaining:    0.0s\n",
      "[Parallel(n_jobs=1)]: Done  36 out of  36 | elapsed:    0.1s remaining:    0.0s\n",
      "[Parallel(n_jobs=1)]: Done  37 out of  37 | elapsed:    0.1s remaining:    0.0s\n",
      "[Parallel(n_jobs=1)]: Done  38 out of  38 | elapsed:    0.1s remaining:    0.0s\n",
      "[Parallel(n_jobs=1)]: Done  39 out of  39 | elapsed:    0.1s remaining:    0.0s\n",
      "[Parallel(n_jobs=1)]: Done  40 out of  40 | elapsed:    0.1s remaining:    0.0s\n",
      "[Parallel(n_jobs=1)]: Done  41 out of  41 | elapsed:    0.1s remaining:    0.0s\n",
      "[Parallel(n_jobs=1)]: Done  42 out of  42 | elapsed:    0.1s remaining:    0.0s\n",
      "[Parallel(n_jobs=1)]: Done  43 out of  43 | elapsed:    0.1s remaining:    0.0s\n",
      "[Parallel(n_jobs=1)]: Done  44 out of  44 | elapsed:    0.1s remaining:    0.0s\n",
      "[Parallel(n_jobs=1)]: Done  45 out of  45 | elapsed:    0.1s remaining:    0.0s\n",
      "[Parallel(n_jobs=1)]: Done  46 out of  46 | elapsed:    0.1s remaining:    0.0s\n",
      "[Parallel(n_jobs=1)]: Done  47 out of  47 | elapsed:    0.1s remaining:    0.0s\n",
      "[Parallel(n_jobs=1)]: Done  48 out of  48 | elapsed:    0.1s remaining:    0.0s\n",
      "[Parallel(n_jobs=1)]: Done  49 out of  49 | elapsed:    0.1s remaining:    0.0s\n",
      "[Parallel(n_jobs=1)]: Done  50 out of  50 | elapsed:    0.1s finished\n",
      "[Parallel(n_jobs=1)]: Using backend SequentialBackend with 1 concurrent workers.\n",
      "building tree 1 of 50\n",
      "[Parallel(n_jobs=1)]: Done   1 out of   1 | elapsed:    0.1s remaining:    0.0s\n",
      "building tree 2 of 50\n",
      "[Parallel(n_jobs=1)]: Done   2 out of   2 | elapsed:    0.2s remaining:    0.0s\n",
      "building tree 3 of 50\n",
      "[Parallel(n_jobs=1)]: Done   3 out of   3 | elapsed:    0.3s remaining:    0.0s\n",
      "building tree 4 of 50\n",
      "[Parallel(n_jobs=1)]: Done   4 out of   4 | elapsed:    0.5s remaining:    0.0s\n",
      "building tree 5 of 50\n",
      "[Parallel(n_jobs=1)]: Done   5 out of   5 | elapsed:    0.6s remaining:    0.0s\n",
      "building tree 6 of 50\n",
      "[Parallel(n_jobs=1)]: Done   6 out of   6 | elapsed:    0.7s remaining:    0.0s\n",
      "building tree 7 of 50\n",
      "[Parallel(n_jobs=1)]: Done   7 out of   7 | elapsed:    0.9s remaining:    0.0s\n",
      "building tree 8 of 50\n",
      "[Parallel(n_jobs=1)]: Done   8 out of   8 | elapsed:    1.0s remaining:    0.0s\n",
      "building tree 9 of 50\n",
      "[Parallel(n_jobs=1)]: Done   9 out of   9 | elapsed:    1.1s remaining:    0.0s\n",
      "building tree 10 of 50\n",
      "[Parallel(n_jobs=1)]: Done  10 out of  10 | elapsed:    1.3s remaining:    0.0s\n",
      "building tree 11 of 50\n",
      "[Parallel(n_jobs=1)]: Done  11 out of  11 | elapsed:    1.4s remaining:    0.0s\n",
      "building tree 12 of 50\n",
      "[Parallel(n_jobs=1)]: Done  12 out of  12 | elapsed:    1.5s remaining:    0.0s\n",
      "building tree 13 of 50\n",
      "[Parallel(n_jobs=1)]: Done  13 out of  13 | elapsed:    1.6s remaining:    0.0s\n",
      "building tree 14 of 50\n",
      "[Parallel(n_jobs=1)]: Done  14 out of  14 | elapsed:    1.7s remaining:    0.0s\n",
      "building tree 15 of 50\n",
      "[Parallel(n_jobs=1)]: Done  15 out of  15 | elapsed:    1.9s remaining:    0.0s\n",
      "building tree 16 of 50\n",
      "[Parallel(n_jobs=1)]: Done  16 out of  16 | elapsed:    2.0s remaining:    0.0s\n",
      "building tree 17 of 50\n",
      "[Parallel(n_jobs=1)]: Done  17 out of  17 | elapsed:    2.1s remaining:    0.0s\n",
      "building tree 18 of 50\n",
      "[Parallel(n_jobs=1)]: Done  18 out of  18 | elapsed:    2.3s remaining:    0.0s\n",
      "building tree 19 of 50\n",
      "[Parallel(n_jobs=1)]: Done  19 out of  19 | elapsed:    2.4s remaining:    0.0s\n",
      "building tree 20 of 50\n",
      "[Parallel(n_jobs=1)]: Done  20 out of  20 | elapsed:    2.5s remaining:    0.0s\n",
      "building tree 21 of 50\n",
      "[Parallel(n_jobs=1)]: Done  21 out of  21 | elapsed:    2.7s remaining:    0.0s\n",
      "building tree 22 of 50\n",
      "[Parallel(n_jobs=1)]: Done  22 out of  22 | elapsed:    2.8s remaining:    0.0s\n",
      "building tree 23 of 50\n",
      "[Parallel(n_jobs=1)]: Done  23 out of  23 | elapsed:    2.9s remaining:    0.0s\n",
      "building tree 24 of 50\n",
      "[Parallel(n_jobs=1)]: Done  24 out of  24 | elapsed:    3.1s remaining:    0.0s\n",
      "building tree 25 of 50\n",
      "[Parallel(n_jobs=1)]: Done  25 out of  25 | elapsed:    3.2s remaining:    0.0s\n",
      "building tree 26 of 50\n",
      "[Parallel(n_jobs=1)]: Done  26 out of  26 | elapsed:    3.3s remaining:    0.0s\n",
      "building tree 27 of 50\n",
      "[Parallel(n_jobs=1)]: Done  27 out of  27 | elapsed:    3.4s remaining:    0.0s\n",
      "building tree 28 of 50\n",
      "[Parallel(n_jobs=1)]: Done  28 out of  28 | elapsed:    3.5s remaining:    0.0s\n",
      "building tree 29 of 50\n",
      "[Parallel(n_jobs=1)]: Done  29 out of  29 | elapsed:    3.7s remaining:    0.0s\n",
      "building tree 30 of 50\n",
      "[Parallel(n_jobs=1)]: Done  30 out of  30 | elapsed:    3.8s remaining:    0.0s\n",
      "building tree 31 of 50\n",
      "[Parallel(n_jobs=1)]: Done  31 out of  31 | elapsed:    3.9s remaining:    0.0s\n",
      "building tree 32 of 50\n",
      "[Parallel(n_jobs=1)]: Done  32 out of  32 | elapsed:    4.1s remaining:    0.0s\n",
      "building tree 33 of 50\n",
      "[Parallel(n_jobs=1)]: Done  33 out of  33 | elapsed:    4.2s remaining:    0.0s\n",
      "building tree 34 of 50\n",
      "[Parallel(n_jobs=1)]: Done  34 out of  34 | elapsed:    4.3s remaining:    0.0s\n",
      "building tree 35 of 50\n",
      "[Parallel(n_jobs=1)]: Done  35 out of  35 | elapsed:    4.5s remaining:    0.0s\n",
      "building tree 36 of 50\n",
      "[Parallel(n_jobs=1)]: Done  36 out of  36 | elapsed:    4.6s remaining:    0.0s\n",
      "building tree 37 of 50\n",
      "[Parallel(n_jobs=1)]: Done  37 out of  37 | elapsed:    4.7s remaining:    0.0s\n",
      "building tree 38 of 50\n",
      "[Parallel(n_jobs=1)]: Done  38 out of  38 | elapsed:    4.8s remaining:    0.0s\n",
      "building tree 39 of 50\n",
      "[Parallel(n_jobs=1)]: Done  39 out of  39 | elapsed:    4.9s remaining:    0.0s\n",
      "building tree 40 of 50\n",
      "[Parallel(n_jobs=1)]: Done  40 out of  40 | elapsed:    5.1s remaining:    0.0s\n",
      "building tree 41 of 50\n",
      "[Parallel(n_jobs=1)]: Done  41 out of  41 | elapsed:    5.2s remaining:    0.0s\n",
      "building tree 42 of 50\n",
      "[Parallel(n_jobs=1)]: Done  42 out of  42 | elapsed:    5.3s remaining:    0.0s\n",
      "building tree 43 of 50\n",
      "[Parallel(n_jobs=1)]: Done  43 out of  43 | elapsed:    5.5s remaining:    0.0s\n",
      "building tree 44 of 50\n",
      "[Parallel(n_jobs=1)]: Done  44 out of  44 | elapsed:    5.6s remaining:    0.0s\n",
      "building tree 45 of 50\n",
      "[Parallel(n_jobs=1)]: Done  45 out of  45 | elapsed:    5.7s remaining:    0.0s\n",
      "building tree 46 of 50\n",
      "[Parallel(n_jobs=1)]: Done  46 out of  46 | elapsed:    5.8s remaining:    0.0s\n",
      "building tree 47 of 50\n",
      "[Parallel(n_jobs=1)]: Done  47 out of  47 | elapsed:    5.9s remaining:    0.0s\n",
      "building tree 48 of 50\n",
      "[Parallel(n_jobs=1)]: Done  48 out of  48 | elapsed:    6.0s remaining:    0.0s\n",
      "building tree 49 of 50\n",
      "[Parallel(n_jobs=1)]: Done  49 out of  49 | elapsed:    6.2s remaining:    0.0s\n",
      "building tree 50 of 50\n",
      "[Parallel(n_jobs=1)]: Done  50 out of  50 | elapsed:    6.3s finished\n",
      "Using ThreadingBackend as joblib.Parallel backend instead of LokyBackend as the latter does not provide shared memory semantics.\n",
      "[Parallel(n_jobs=1)]: Using backend SequentialBackend with 1 concurrent workers.\n",
      "[Parallel(n_jobs=1)]: Done   1 out of   1 | elapsed:    0.0s remaining:    0.0s\n",
      "[Parallel(n_jobs=1)]: Done   2 out of   2 | elapsed:    0.0s remaining:    0.0s\n",
      "[Parallel(n_jobs=1)]: Done   3 out of   3 | elapsed:    0.0s remaining:    0.0s\n",
      "[Parallel(n_jobs=1)]: Done   4 out of   4 | elapsed:    0.0s remaining:    0.0s\n",
      "[Parallel(n_jobs=1)]: Done   5 out of   5 | elapsed:    0.0s remaining:    0.0s\n",
      "[Parallel(n_jobs=1)]: Done   6 out of   6 | elapsed:    0.0s remaining:    0.0s\n",
      "[Parallel(n_jobs=1)]: Done   7 out of   7 | elapsed:    0.0s remaining:    0.0s\n",
      "[Parallel(n_jobs=1)]: Done   8 out of   8 | elapsed:    0.0s remaining:    0.0s\n",
      "[Parallel(n_jobs=1)]: Done   9 out of   9 | elapsed:    0.0s remaining:    0.0s\n",
      "[Parallel(n_jobs=1)]: Done  10 out of  10 | elapsed:    0.0s remaining:    0.0s\n",
      "[Parallel(n_jobs=1)]: Done  11 out of  11 | elapsed:    0.0s remaining:    0.0s\n",
      "[Parallel(n_jobs=1)]: Done  12 out of  12 | elapsed:    0.0s remaining:    0.0s\n",
      "[Parallel(n_jobs=1)]: Done  13 out of  13 | elapsed:    0.0s remaining:    0.0s\n",
      "[Parallel(n_jobs=1)]: Done  14 out of  14 | elapsed:    0.0s remaining:    0.0s\n",
      "[Parallel(n_jobs=1)]: Done  15 out of  15 | elapsed:    0.0s remaining:    0.0s\n",
      "[Parallel(n_jobs=1)]: Done  16 out of  16 | elapsed:    0.0s remaining:    0.0s\n",
      "[Parallel(n_jobs=1)]: Done  17 out of  17 | elapsed:    0.0s remaining:    0.0s\n",
      "[Parallel(n_jobs=1)]: Done  18 out of  18 | elapsed:    0.0s remaining:    0.0s\n",
      "[Parallel(n_jobs=1)]: Done  19 out of  19 | elapsed:    0.0s remaining:    0.0s\n",
      "[Parallel(n_jobs=1)]: Done  20 out of  20 | elapsed:    0.0s remaining:    0.0s\n",
      "[Parallel(n_jobs=1)]: Done  21 out of  21 | elapsed:    0.0s remaining:    0.0s\n",
      "[Parallel(n_jobs=1)]: Done  22 out of  22 | elapsed:    0.0s remaining:    0.0s\n",
      "[Parallel(n_jobs=1)]: Done  23 out of  23 | elapsed:    0.0s remaining:    0.0s\n",
      "[Parallel(n_jobs=1)]: Done  24 out of  24 | elapsed:    0.0s remaining:    0.0s\n",
      "[Parallel(n_jobs=1)]: Done  25 out of  25 | elapsed:    0.0s remaining:    0.0s\n",
      "[Parallel(n_jobs=1)]: Done  26 out of  26 | elapsed:    0.0s remaining:    0.0s\n",
      "[Parallel(n_jobs=1)]: Done  27 out of  27 | elapsed:    0.0s remaining:    0.0s\n",
      "[Parallel(n_jobs=1)]: Done  28 out of  28 | elapsed:    0.0s remaining:    0.0s\n",
      "[Parallel(n_jobs=1)]: Done  29 out of  29 | elapsed:    0.0s remaining:    0.0s\n",
      "[Parallel(n_jobs=1)]: Done  30 out of  30 | elapsed:    0.0s remaining:    0.0s\n",
      "[Parallel(n_jobs=1)]: Done  31 out of  31 | elapsed:    0.0s remaining:    0.0s\n",
      "[Parallel(n_jobs=1)]: Done  32 out of  32 | elapsed:    0.0s remaining:    0.0s\n",
      "[Parallel(n_jobs=1)]: Done  33 out of  33 | elapsed:    0.1s remaining:    0.0s\n",
      "[Parallel(n_jobs=1)]: Done  34 out of  34 | elapsed:    0.1s remaining:    0.0s\n",
      "[Parallel(n_jobs=1)]: Done  35 out of  35 | elapsed:    0.1s remaining:    0.0s\n",
      "[Parallel(n_jobs=1)]: Done  36 out of  36 | elapsed:    0.1s remaining:    0.0s\n",
      "[Parallel(n_jobs=1)]: Done  37 out of  37 | elapsed:    0.1s remaining:    0.0s\n",
      "[Parallel(n_jobs=1)]: Done  38 out of  38 | elapsed:    0.1s remaining:    0.0s\n",
      "[Parallel(n_jobs=1)]: Done  39 out of  39 | elapsed:    0.1s remaining:    0.0s\n",
      "[Parallel(n_jobs=1)]: Done  40 out of  40 | elapsed:    0.1s remaining:    0.0s\n",
      "[Parallel(n_jobs=1)]: Done  41 out of  41 | elapsed:    0.1s remaining:    0.0s\n",
      "[Parallel(n_jobs=1)]: Done  42 out of  42 | elapsed:    0.1s remaining:    0.0s\n",
      "[Parallel(n_jobs=1)]: Done  43 out of  43 | elapsed:    0.1s remaining:    0.0s\n",
      "[Parallel(n_jobs=1)]: Done  44 out of  44 | elapsed:    0.1s remaining:    0.0s\n",
      "[Parallel(n_jobs=1)]: Done  45 out of  45 | elapsed:    0.1s remaining:    0.0s\n",
      "[Parallel(n_jobs=1)]: Done  46 out of  46 | elapsed:    0.1s remaining:    0.0s\n",
      "[Parallel(n_jobs=1)]: Done  47 out of  47 | elapsed:    0.1s remaining:    0.0s\n",
      "[Parallel(n_jobs=1)]: Done  48 out of  48 | elapsed:    0.1s remaining:    0.0s\n",
      "[Parallel(n_jobs=1)]: Done  49 out of  49 | elapsed:    0.1s remaining:    0.0s\n",
      "[Parallel(n_jobs=1)]: Done  50 out of  50 | elapsed:    0.1s finished\n",
      "[Parallel(n_jobs=1)]: Using backend SequentialBackend with 1 concurrent workers.\n",
      "building tree 1 of 50\n",
      "[Parallel(n_jobs=1)]: Done   1 out of   1 | elapsed:    0.1s remaining:    0.0s\n",
      "building tree 2 of 50\n",
      "[Parallel(n_jobs=1)]: Done   2 out of   2 | elapsed:    0.2s remaining:    0.0s\n",
      "building tree 3 of 50\n",
      "[Parallel(n_jobs=1)]: Done   3 out of   3 | elapsed:    0.3s remaining:    0.0s\n",
      "building tree 4 of 50\n",
      "[Parallel(n_jobs=1)]: Done   4 out of   4 | elapsed:    0.5s remaining:    0.0s\n",
      "building tree 5 of 50\n",
      "[Parallel(n_jobs=1)]: Done   5 out of   5 | elapsed:    0.6s remaining:    0.0s\n",
      "building tree 6 of 50\n",
      "[Parallel(n_jobs=1)]: Done   6 out of   6 | elapsed:    0.7s remaining:    0.0s\n",
      "building tree 7 of 50\n",
      "[Parallel(n_jobs=1)]: Done   7 out of   7 | elapsed:    0.8s remaining:    0.0s\n",
      "building tree 8 of 50\n",
      "[Parallel(n_jobs=1)]: Done   8 out of   8 | elapsed:    1.0s remaining:    0.0s\n",
      "building tree 9 of 50\n",
      "[Parallel(n_jobs=1)]: Done   9 out of   9 | elapsed:    1.1s remaining:    0.0s\n",
      "building tree 10 of 50\n",
      "[Parallel(n_jobs=1)]: Done  10 out of  10 | elapsed:    1.2s remaining:    0.0s\n",
      "building tree 11 of 50\n",
      "[Parallel(n_jobs=1)]: Done  11 out of  11 | elapsed:    1.3s remaining:    0.0s\n",
      "building tree 12 of 50\n",
      "[Parallel(n_jobs=1)]: Done  12 out of  12 | elapsed:    1.4s remaining:    0.0s\n",
      "building tree 13 of 50\n",
      "[Parallel(n_jobs=1)]: Done  13 out of  13 | elapsed:    1.6s remaining:    0.0s\n",
      "building tree 14 of 50\n",
      "[Parallel(n_jobs=1)]: Done  14 out of  14 | elapsed:    1.7s remaining:    0.0s\n",
      "building tree 15 of 50\n",
      "[Parallel(n_jobs=1)]: Done  15 out of  15 | elapsed:    1.8s remaining:    0.0s\n",
      "building tree 16 of 50\n",
      "[Parallel(n_jobs=1)]: Done  16 out of  16 | elapsed:    1.9s remaining:    0.0s\n",
      "building tree 17 of 50\n",
      "[Parallel(n_jobs=1)]: Done  17 out of  17 | elapsed:    2.1s remaining:    0.0s\n",
      "building tree 18 of 50\n",
      "[Parallel(n_jobs=1)]: Done  18 out of  18 | elapsed:    2.2s remaining:    0.0s\n",
      "building tree 19 of 50\n",
      "[Parallel(n_jobs=1)]: Done  19 out of  19 | elapsed:    2.3s remaining:    0.0s\n",
      "building tree 20 of 50\n",
      "[Parallel(n_jobs=1)]: Done  20 out of  20 | elapsed:    2.4s remaining:    0.0s\n",
      "building tree 21 of 50\n",
      "[Parallel(n_jobs=1)]: Done  21 out of  21 | elapsed:    2.5s remaining:    0.0s\n",
      "building tree 22 of 50\n",
      "[Parallel(n_jobs=1)]: Done  22 out of  22 | elapsed:    2.7s remaining:    0.0s\n",
      "building tree 23 of 50\n",
      "[Parallel(n_jobs=1)]: Done  23 out of  23 | elapsed:    2.8s remaining:    0.0s\n",
      "building tree 24 of 50\n",
      "[Parallel(n_jobs=1)]: Done  24 out of  24 | elapsed:    2.9s remaining:    0.0s\n",
      "building tree 25 of 50\n",
      "[Parallel(n_jobs=1)]: Done  25 out of  25 | elapsed:    3.0s remaining:    0.0s\n",
      "building tree 26 of 50\n",
      "[Parallel(n_jobs=1)]: Done  26 out of  26 | elapsed:    3.1s remaining:    0.0s\n",
      "building tree 27 of 50\n",
      "[Parallel(n_jobs=1)]: Done  27 out of  27 | elapsed:    3.2s remaining:    0.0s\n",
      "building tree 28 of 50\n",
      "[Parallel(n_jobs=1)]: Done  28 out of  28 | elapsed:    3.4s remaining:    0.0s\n",
      "building tree 29 of 50\n",
      "[Parallel(n_jobs=1)]: Done  29 out of  29 | elapsed:    3.5s remaining:    0.0s\n",
      "building tree 30 of 50\n",
      "[Parallel(n_jobs=1)]: Done  30 out of  30 | elapsed:    3.7s remaining:    0.0s\n",
      "building tree 31 of 50\n",
      "[Parallel(n_jobs=1)]: Done  31 out of  31 | elapsed:    3.8s remaining:    0.0s\n",
      "building tree 32 of 50\n",
      "[Parallel(n_jobs=1)]: Done  32 out of  32 | elapsed:    3.9s remaining:    0.0s\n",
      "building tree 33 of 50\n",
      "[Parallel(n_jobs=1)]: Done  33 out of  33 | elapsed:    4.1s remaining:    0.0s\n",
      "building tree 34 of 50\n",
      "[Parallel(n_jobs=1)]: Done  34 out of  34 | elapsed:    4.2s remaining:    0.0s\n",
      "building tree 35 of 50\n",
      "[Parallel(n_jobs=1)]: Done  35 out of  35 | elapsed:    4.3s remaining:    0.0s\n",
      "building tree 36 of 50\n",
      "[Parallel(n_jobs=1)]: Done  36 out of  36 | elapsed:    4.4s remaining:    0.0s\n",
      "building tree 37 of 50\n",
      "[Parallel(n_jobs=1)]: Done  37 out of  37 | elapsed:    4.6s remaining:    0.0s\n",
      "building tree 38 of 50\n",
      "[Parallel(n_jobs=1)]: Done  38 out of  38 | elapsed:    4.7s remaining:    0.0s\n",
      "building tree 39 of 50\n",
      "[Parallel(n_jobs=1)]: Done  39 out of  39 | elapsed:    4.8s remaining:    0.0s\n",
      "building tree 40 of 50\n",
      "[Parallel(n_jobs=1)]: Done  40 out of  40 | elapsed:    4.9s remaining:    0.0s\n",
      "building tree 41 of 50\n",
      "[Parallel(n_jobs=1)]: Done  41 out of  41 | elapsed:    5.0s remaining:    0.0s\n",
      "building tree 42 of 50\n",
      "[Parallel(n_jobs=1)]: Done  42 out of  42 | elapsed:    5.2s remaining:    0.0s\n",
      "building tree 43 of 50\n",
      "[Parallel(n_jobs=1)]: Done  43 out of  43 | elapsed:    5.3s remaining:    0.0s\n",
      "building tree 44 of 50\n",
      "[Parallel(n_jobs=1)]: Done  44 out of  44 | elapsed:    5.4s remaining:    0.0s\n",
      "building tree 45 of 50\n",
      "[Parallel(n_jobs=1)]: Done  45 out of  45 | elapsed:    5.5s remaining:    0.0s\n",
      "building tree 46 of 50\n",
      "[Parallel(n_jobs=1)]: Done  46 out of  46 | elapsed:    5.7s remaining:    0.0s\n",
      "building tree 47 of 50\n",
      "[Parallel(n_jobs=1)]: Done  47 out of  47 | elapsed:    5.8s remaining:    0.0s\n",
      "building tree 48 of 50\n",
      "[Parallel(n_jobs=1)]: Done  48 out of  48 | elapsed:    5.9s remaining:    0.0s\n",
      "building tree 49 of 50\n",
      "[Parallel(n_jobs=1)]: Done  49 out of  49 | elapsed:    6.0s remaining:    0.0s\n",
      "building tree 50 of 50\n",
      "[Parallel(n_jobs=1)]: Done  50 out of  50 | elapsed:    6.1s finished\n",
      "Using ThreadingBackend as joblib.Parallel backend instead of LokyBackend as the latter does not provide shared memory semantics.\n",
      "[Parallel(n_jobs=1)]: Using backend SequentialBackend with 1 concurrent workers.\n",
      "[Parallel(n_jobs=1)]: Done   1 out of   1 | elapsed:    0.0s remaining:    0.0s\n",
      "[Parallel(n_jobs=1)]: Done   2 out of   2 | elapsed:    0.0s remaining:    0.0s\n",
      "[Parallel(n_jobs=1)]: Done   3 out of   3 | elapsed:    0.0s remaining:    0.0s\n",
      "[Parallel(n_jobs=1)]: Done   4 out of   4 | elapsed:    0.0s remaining:    0.0s\n",
      "[Parallel(n_jobs=1)]: Done   5 out of   5 | elapsed:    0.0s remaining:    0.0s\n",
      "[Parallel(n_jobs=1)]: Done   6 out of   6 | elapsed:    0.0s remaining:    0.0s\n",
      "[Parallel(n_jobs=1)]: Done   7 out of   7 | elapsed:    0.0s remaining:    0.0s\n",
      "[Parallel(n_jobs=1)]: Done   8 out of   8 | elapsed:    0.0s remaining:    0.0s\n",
      "[Parallel(n_jobs=1)]: Done   9 out of   9 | elapsed:    0.0s remaining:    0.0s\n",
      "[Parallel(n_jobs=1)]: Done  10 out of  10 | elapsed:    0.0s remaining:    0.0s\n",
      "[Parallel(n_jobs=1)]: Done  11 out of  11 | elapsed:    0.0s remaining:    0.0s\n",
      "[Parallel(n_jobs=1)]: Done  12 out of  12 | elapsed:    0.0s remaining:    0.0s\n",
      "[Parallel(n_jobs=1)]: Done  13 out of  13 | elapsed:    0.0s remaining:    0.0s\n",
      "[Parallel(n_jobs=1)]: Done  14 out of  14 | elapsed:    0.0s remaining:    0.0s\n",
      "[Parallel(n_jobs=1)]: Done  15 out of  15 | elapsed:    0.0s remaining:    0.0s\n",
      "[Parallel(n_jobs=1)]: Done  16 out of  16 | elapsed:    0.0s remaining:    0.0s\n",
      "[Parallel(n_jobs=1)]: Done  17 out of  17 | elapsed:    0.0s remaining:    0.0s\n",
      "[Parallel(n_jobs=1)]: Done  18 out of  18 | elapsed:    0.0s remaining:    0.0s\n",
      "[Parallel(n_jobs=1)]: Done  19 out of  19 | elapsed:    0.0s remaining:    0.0s\n",
      "[Parallel(n_jobs=1)]: Done  20 out of  20 | elapsed:    0.0s remaining:    0.0s\n",
      "[Parallel(n_jobs=1)]: Done  21 out of  21 | elapsed:    0.0s remaining:    0.0s\n",
      "[Parallel(n_jobs=1)]: Done  22 out of  22 | elapsed:    0.0s remaining:    0.0s\n",
      "[Parallel(n_jobs=1)]: Done  23 out of  23 | elapsed:    0.0s remaining:    0.0s\n",
      "[Parallel(n_jobs=1)]: Done  24 out of  24 | elapsed:    0.0s remaining:    0.0s\n",
      "[Parallel(n_jobs=1)]: Done  25 out of  25 | elapsed:    0.0s remaining:    0.0s\n",
      "[Parallel(n_jobs=1)]: Done  26 out of  26 | elapsed:    0.0s remaining:    0.0s\n",
      "[Parallel(n_jobs=1)]: Done  27 out of  27 | elapsed:    0.0s remaining:    0.0s\n",
      "[Parallel(n_jobs=1)]: Done  28 out of  28 | elapsed:    0.0s remaining:    0.0s\n",
      "[Parallel(n_jobs=1)]: Done  29 out of  29 | elapsed:    0.0s remaining:    0.0s\n",
      "[Parallel(n_jobs=1)]: Done  30 out of  30 | elapsed:    0.0s remaining:    0.0s\n",
      "[Parallel(n_jobs=1)]: Done  31 out of  31 | elapsed:    0.0s remaining:    0.0s\n",
      "[Parallel(n_jobs=1)]: Done  32 out of  32 | elapsed:    0.0s remaining:    0.0s\n",
      "[Parallel(n_jobs=1)]: Done  33 out of  33 | elapsed:    0.0s remaining:    0.0s\n",
      "[Parallel(n_jobs=1)]: Done  34 out of  34 | elapsed:    0.0s remaining:    0.0s\n",
      "[Parallel(n_jobs=1)]: Done  35 out of  35 | elapsed:    0.0s remaining:    0.0s\n",
      "[Parallel(n_jobs=1)]: Done  36 out of  36 | elapsed:    0.1s remaining:    0.0s\n",
      "[Parallel(n_jobs=1)]: Done  37 out of  37 | elapsed:    0.1s remaining:    0.0s\n",
      "[Parallel(n_jobs=1)]: Done  38 out of  38 | elapsed:    0.1s remaining:    0.0s\n",
      "[Parallel(n_jobs=1)]: Done  39 out of  39 | elapsed:    0.1s remaining:    0.0s\n",
      "[Parallel(n_jobs=1)]: Done  40 out of  40 | elapsed:    0.1s remaining:    0.0s\n",
      "[Parallel(n_jobs=1)]: Done  41 out of  41 | elapsed:    0.1s remaining:    0.0s\n",
      "[Parallel(n_jobs=1)]: Done  42 out of  42 | elapsed:    0.1s remaining:    0.0s\n",
      "[Parallel(n_jobs=1)]: Done  43 out of  43 | elapsed:    0.1s remaining:    0.0s\n",
      "[Parallel(n_jobs=1)]: Done  44 out of  44 | elapsed:    0.1s remaining:    0.0s\n",
      "[Parallel(n_jobs=1)]: Done  45 out of  45 | elapsed:    0.1s remaining:    0.0s\n",
      "[Parallel(n_jobs=1)]: Done  46 out of  46 | elapsed:    0.1s remaining:    0.0s\n",
      "[Parallel(n_jobs=1)]: Done  47 out of  47 | elapsed:    0.1s remaining:    0.0s\n",
      "[Parallel(n_jobs=1)]: Done  48 out of  48 | elapsed:    0.1s remaining:    0.0s\n",
      "[Parallel(n_jobs=1)]: Done  49 out of  49 | elapsed:    0.1s remaining:    0.0s\n",
      "[Parallel(n_jobs=1)]: Done  50 out of  50 | elapsed:    0.1s finished\n",
      "[Parallel(n_jobs=1)]: Using backend SequentialBackend with 1 concurrent workers.\n",
      "building tree 1 of 150\n",
      "[Parallel(n_jobs=1)]: Done   1 out of   1 | elapsed:    0.1s remaining:    0.0s\n",
      "building tree 2 of 150\n",
      "[Parallel(n_jobs=1)]: Done   2 out of   2 | elapsed:    0.2s remaining:    0.0s\n",
      "building tree 3 of 150\n",
      "[Parallel(n_jobs=1)]: Done   3 out of   3 | elapsed:    0.4s remaining:    0.0s\n",
      "building tree 4 of 150\n",
      "[Parallel(n_jobs=1)]: Done   4 out of   4 | elapsed:    0.5s remaining:    0.0s\n",
      "building tree 5 of 150\n",
      "[Parallel(n_jobs=1)]: Done   5 out of   5 | elapsed:    0.6s remaining:    0.0s\n",
      "building tree 6 of 150\n",
      "[Parallel(n_jobs=1)]: Done   6 out of   6 | elapsed:    0.7s remaining:    0.0s\n",
      "building tree 7 of 150\n",
      "[Parallel(n_jobs=1)]: Done   7 out of   7 | elapsed:    0.8s remaining:    0.0s\n",
      "building tree 8 of 150\n",
      "[Parallel(n_jobs=1)]: Done   8 out of   8 | elapsed:    0.9s remaining:    0.0s\n",
      "building tree 9 of 150\n",
      "[Parallel(n_jobs=1)]: Done   9 out of   9 | elapsed:    1.1s remaining:    0.0s\n",
      "building tree 10 of 150\n",
      "[Parallel(n_jobs=1)]: Done  10 out of  10 | elapsed:    1.2s remaining:    0.0s\n",
      "building tree 11 of 150\n",
      "[Parallel(n_jobs=1)]: Done  11 out of  11 | elapsed:    1.3s remaining:    0.0s\n",
      "building tree 12 of 150\n",
      "[Parallel(n_jobs=1)]: Done  12 out of  12 | elapsed:    1.4s remaining:    0.0s\n",
      "building tree 13 of 150\n",
      "[Parallel(n_jobs=1)]: Done  13 out of  13 | elapsed:    1.5s remaining:    0.0s\n",
      "building tree 14 of 150\n",
      "[Parallel(n_jobs=1)]: Done  14 out of  14 | elapsed:    1.7s remaining:    0.0s\n",
      "building tree 15 of 150\n",
      "[Parallel(n_jobs=1)]: Done  15 out of  15 | elapsed:    1.8s remaining:    0.0s\n",
      "building tree 16 of 150\n",
      "[Parallel(n_jobs=1)]: Done  16 out of  16 | elapsed:    1.9s remaining:    0.0s\n",
      "building tree 17 of 150\n",
      "[Parallel(n_jobs=1)]: Done  17 out of  17 | elapsed:    2.0s remaining:    0.0s\n",
      "building tree 18 of 150\n",
      "[Parallel(n_jobs=1)]: Done  18 out of  18 | elapsed:    2.2s remaining:    0.0s\n",
      "building tree 19 of 150\n",
      "[Parallel(n_jobs=1)]: Done  19 out of  19 | elapsed:    2.3s remaining:    0.0s\n",
      "building tree 20 of 150\n",
      "[Parallel(n_jobs=1)]: Done  20 out of  20 | elapsed:    2.4s remaining:    0.0s\n",
      "building tree 21 of 150\n",
      "[Parallel(n_jobs=1)]: Done  21 out of  21 | elapsed:    2.5s remaining:    0.0s\n",
      "building tree 22 of 150\n",
      "[Parallel(n_jobs=1)]: Done  22 out of  22 | elapsed:    2.7s remaining:    0.0s\n",
      "building tree 23 of 150\n",
      "[Parallel(n_jobs=1)]: Done  23 out of  23 | elapsed:    2.8s remaining:    0.0s\n",
      "building tree 24 of 150\n",
      "[Parallel(n_jobs=1)]: Done  24 out of  24 | elapsed:    2.9s remaining:    0.0s\n",
      "building tree 25 of 150\n",
      "[Parallel(n_jobs=1)]: Done  25 out of  25 | elapsed:    3.0s remaining:    0.0s\n",
      "building tree 26 of 150\n",
      "[Parallel(n_jobs=1)]: Done  26 out of  26 | elapsed:    3.1s remaining:    0.0s\n",
      "building tree 27 of 150\n",
      "[Parallel(n_jobs=1)]: Done  27 out of  27 | elapsed:    3.3s remaining:    0.0s\n",
      "building tree 28 of 150\n",
      "[Parallel(n_jobs=1)]: Done  28 out of  28 | elapsed:    3.4s remaining:    0.0s\n",
      "building tree 29 of 150\n",
      "[Parallel(n_jobs=1)]: Done  29 out of  29 | elapsed:    3.5s remaining:    0.0s\n",
      "building tree 30 of 150\n",
      "[Parallel(n_jobs=1)]: Done  30 out of  30 | elapsed:    3.6s remaining:    0.0s\n",
      "building tree 31 of 150\n",
      "[Parallel(n_jobs=1)]: Done  31 out of  31 | elapsed:    3.7s remaining:    0.0s\n",
      "building tree 32 of 150\n",
      "[Parallel(n_jobs=1)]: Done  32 out of  32 | elapsed:    3.8s remaining:    0.0s\n",
      "building tree 33 of 150\n",
      "[Parallel(n_jobs=1)]: Done  33 out of  33 | elapsed:    3.9s remaining:    0.0s\n",
      "building tree 34 of 150\n",
      "[Parallel(n_jobs=1)]: Done  34 out of  34 | elapsed:    4.1s remaining:    0.0s\n",
      "building tree 35 of 150\n",
      "[Parallel(n_jobs=1)]: Done  35 out of  35 | elapsed:    4.2s remaining:    0.0s\n",
      "building tree 36 of 150\n",
      "[Parallel(n_jobs=1)]: Done  36 out of  36 | elapsed:    4.3s remaining:    0.0s\n",
      "building tree 37 of 150\n",
      "[Parallel(n_jobs=1)]: Done  37 out of  37 | elapsed:    4.4s remaining:    0.0s\n",
      "building tree 38 of 150\n",
      "[Parallel(n_jobs=1)]: Done  38 out of  38 | elapsed:    4.6s remaining:    0.0s\n",
      "building tree 39 of 150\n",
      "[Parallel(n_jobs=1)]: Done  39 out of  39 | elapsed:    4.7s remaining:    0.0s\n",
      "building tree 40 of 150\n",
      "[Parallel(n_jobs=1)]: Done  40 out of  40 | elapsed:    4.8s remaining:    0.0s\n",
      "building tree 41 of 150\n",
      "[Parallel(n_jobs=1)]: Done  41 out of  41 | elapsed:    4.9s remaining:    0.0s\n",
      "building tree 42 of 150\n",
      "[Parallel(n_jobs=1)]: Done  42 out of  42 | elapsed:    5.1s remaining:    0.0s\n",
      "building tree 43 of 150\n",
      "[Parallel(n_jobs=1)]: Done  43 out of  43 | elapsed:    5.2s remaining:    0.0s\n",
      "building tree 44 of 150\n",
      "[Parallel(n_jobs=1)]: Done  44 out of  44 | elapsed:    5.3s remaining:    0.0s\n",
      "building tree 45 of 150\n",
      "[Parallel(n_jobs=1)]: Done  45 out of  45 | elapsed:    5.5s remaining:    0.0s\n",
      "building tree 46 of 150\n",
      "[Parallel(n_jobs=1)]: Done  46 out of  46 | elapsed:    5.6s remaining:    0.0s\n",
      "building tree 47 of 150\n",
      "[Parallel(n_jobs=1)]: Done  47 out of  47 | elapsed:    5.7s remaining:    0.0s\n",
      "building tree 48 of 150\n",
      "[Parallel(n_jobs=1)]: Done  48 out of  48 | elapsed:    5.8s remaining:    0.0s\n",
      "building tree 49 of 150\n",
      "[Parallel(n_jobs=1)]: Done  49 out of  49 | elapsed:    6.0s remaining:    0.0s\n",
      "building tree 50 of 150\n",
      "building tree 51 of 150\n",
      "building tree 52 of 150\n",
      "building tree 53 of 150\n",
      "building tree 54 of 150\n",
      "building tree 55 of 150\n",
      "building tree 56 of 150\n",
      "building tree 57 of 150\n",
      "building tree 58 of 150\n",
      "building tree 59 of 150\n",
      "building tree 60 of 150\n",
      "building tree 61 of 150\n",
      "building tree 62 of 150\n",
      "building tree 63 of 150\n",
      "building tree 64 of 150\n",
      "building tree 65 of 150\n",
      "building tree 66 of 150\n",
      "building tree 67 of 150\n",
      "building tree 68 of 150\n",
      "building tree 69 of 150\n",
      "building tree 70 of 150\n",
      "building tree 71 of 150\n",
      "building tree 72 of 150\n",
      "building tree 73 of 150\n",
      "building tree 74 of 150\n",
      "building tree 75 of 150\n",
      "building tree 76 of 150\n",
      "building tree 77 of 150\n",
      "building tree 78 of 150\n",
      "building tree 79 of 150\n",
      "building tree 80 of 150\n",
      "building tree 81 of 150\n",
      "building tree 82 of 150\n",
      "building tree 83 of 150\n",
      "building tree 84 of 150\n",
      "building tree 85 of 150\n",
      "building tree 86 of 150\n",
      "building tree 87 of 150\n",
      "building tree 88 of 150\n",
      "building tree 89 of 150\n",
      "building tree 90 of 150\n",
      "building tree 91 of 150\n",
      "building tree 92 of 150\n",
      "building tree 93 of 150\n",
      "building tree 94 of 150\n",
      "building tree 95 of 150\n",
      "building tree 96 of 150\n",
      "building tree 97 of 150\n",
      "building tree 98 of 150\n",
      "building tree 99 of 150\n",
      "building tree 100 of 150\n",
      "building tree 101 of 150\n",
      "building tree 102 of 150\n",
      "building tree 103 of 150\n",
      "building tree 104 of 150\n",
      "building tree 105 of 150\n",
      "building tree 106 of 150\n",
      "building tree 107 of 150\n",
      "building tree 108 of 150\n",
      "building tree 109 of 150\n",
      "building tree 110 of 150\n",
      "building tree 111 of 150\n",
      "building tree 112 of 150\n",
      "building tree 113 of 150\n",
      "building tree 114 of 150\n",
      "building tree 115 of 150\n",
      "building tree 116 of 150\n",
      "building tree 117 of 150\n",
      "building tree 118 of 150\n",
      "building tree 119 of 150\n",
      "building tree 120 of 150\n",
      "building tree 121 of 150\n",
      "building tree 122 of 150\n",
      "building tree 123 of 150\n",
      "building tree 124 of 150\n",
      "building tree 125 of 150\n",
      "building tree 126 of 150\n",
      "building tree 127 of 150\n",
      "building tree 128 of 150\n",
      "building tree 129 of 150\n",
      "building tree 130 of 150\n",
      "building tree 131 of 150\n",
      "building tree 132 of 150\n",
      "building tree 133 of 150\n",
      "building tree 134 of 150\n",
      "building tree 135 of 150\n",
      "building tree 136 of 150\n",
      "building tree 137 of 150\n",
      "building tree 138 of 150\n",
      "building tree 139 of 150\n",
      "building tree 140 of 150\n",
      "building tree 141 of 150\n",
      "building tree 142 of 150\n",
      "building tree 143 of 150\n",
      "building tree 144 of 150\n",
      "building tree 145 of 150\n",
      "building tree 146 of 150\n",
      "building tree 147 of 150\n",
      "building tree 148 of 150\n",
      "building tree 149 of 150\n",
      "building tree 150 of 150\n",
      "[Parallel(n_jobs=1)]: Done 150 out of 150 | elapsed:   18.3s finished\n",
      "Using ThreadingBackend as joblib.Parallel backend instead of LokyBackend as the latter does not provide shared memory semantics.\n",
      "[Parallel(n_jobs=1)]: Using backend SequentialBackend with 1 concurrent workers.\n",
      "[Parallel(n_jobs=1)]: Done   1 out of   1 | elapsed:    0.0s remaining:    0.0s\n",
      "[Parallel(n_jobs=1)]: Done   2 out of   2 | elapsed:    0.0s remaining:    0.0s\n",
      "[Parallel(n_jobs=1)]: Done   3 out of   3 | elapsed:    0.0s remaining:    0.0s\n",
      "[Parallel(n_jobs=1)]: Done   4 out of   4 | elapsed:    0.0s remaining:    0.0s\n",
      "[Parallel(n_jobs=1)]: Done   5 out of   5 | elapsed:    0.0s remaining:    0.0s\n",
      "[Parallel(n_jobs=1)]: Done   6 out of   6 | elapsed:    0.0s remaining:    0.0s\n",
      "[Parallel(n_jobs=1)]: Done   7 out of   7 | elapsed:    0.0s remaining:    0.0s\n",
      "[Parallel(n_jobs=1)]: Done   8 out of   8 | elapsed:    0.0s remaining:    0.0s\n",
      "[Parallel(n_jobs=1)]: Done   9 out of   9 | elapsed:    0.0s remaining:    0.0s\n",
      "[Parallel(n_jobs=1)]: Done  10 out of  10 | elapsed:    0.0s remaining:    0.0s\n",
      "[Parallel(n_jobs=1)]: Done  11 out of  11 | elapsed:    0.0s remaining:    0.0s\n",
      "[Parallel(n_jobs=1)]: Done  12 out of  12 | elapsed:    0.0s remaining:    0.0s\n",
      "[Parallel(n_jobs=1)]: Done  13 out of  13 | elapsed:    0.0s remaining:    0.0s\n",
      "[Parallel(n_jobs=1)]: Done  14 out of  14 | elapsed:    0.0s remaining:    0.0s\n",
      "[Parallel(n_jobs=1)]: Done  15 out of  15 | elapsed:    0.0s remaining:    0.0s\n",
      "[Parallel(n_jobs=1)]: Done  16 out of  16 | elapsed:    0.0s remaining:    0.0s\n",
      "[Parallel(n_jobs=1)]: Done  17 out of  17 | elapsed:    0.0s remaining:    0.0s\n",
      "[Parallel(n_jobs=1)]: Done  18 out of  18 | elapsed:    0.0s remaining:    0.0s\n",
      "[Parallel(n_jobs=1)]: Done  19 out of  19 | elapsed:    0.0s remaining:    0.0s\n",
      "[Parallel(n_jobs=1)]: Done  20 out of  20 | elapsed:    0.0s remaining:    0.0s\n",
      "[Parallel(n_jobs=1)]: Done  21 out of  21 | elapsed:    0.0s remaining:    0.0s\n",
      "[Parallel(n_jobs=1)]: Done  22 out of  22 | elapsed:    0.0s remaining:    0.0s\n",
      "[Parallel(n_jobs=1)]: Done  23 out of  23 | elapsed:    0.0s remaining:    0.0s\n",
      "[Parallel(n_jobs=1)]: Done  24 out of  24 | elapsed:    0.0s remaining:    0.0s\n",
      "[Parallel(n_jobs=1)]: Done  25 out of  25 | elapsed:    0.0s remaining:    0.0s\n",
      "[Parallel(n_jobs=1)]: Done  26 out of  26 | elapsed:    0.0s remaining:    0.0s\n",
      "[Parallel(n_jobs=1)]: Done  27 out of  27 | elapsed:    0.0s remaining:    0.0s\n",
      "[Parallel(n_jobs=1)]: Done  28 out of  28 | elapsed:    0.0s remaining:    0.0s\n",
      "[Parallel(n_jobs=1)]: Done  29 out of  29 | elapsed:    0.0s remaining:    0.0s\n",
      "[Parallel(n_jobs=1)]: Done  30 out of  30 | elapsed:    0.0s remaining:    0.0s\n",
      "[Parallel(n_jobs=1)]: Done  31 out of  31 | elapsed:    0.0s remaining:    0.0s\n",
      "[Parallel(n_jobs=1)]: Done  32 out of  32 | elapsed:    0.0s remaining:    0.0s\n",
      "[Parallel(n_jobs=1)]: Done  33 out of  33 | elapsed:    0.0s remaining:    0.0s\n",
      "[Parallel(n_jobs=1)]: Done  34 out of  34 | elapsed:    0.0s remaining:    0.0s\n",
      "[Parallel(n_jobs=1)]: Done  35 out of  35 | elapsed:    0.0s remaining:    0.0s\n",
      "[Parallel(n_jobs=1)]: Done  36 out of  36 | elapsed:    0.0s remaining:    0.0s\n",
      "[Parallel(n_jobs=1)]: Done  37 out of  37 | elapsed:    0.0s remaining:    0.0s\n",
      "[Parallel(n_jobs=1)]: Done  38 out of  38 | elapsed:    0.0s remaining:    0.0s\n",
      "[Parallel(n_jobs=1)]: Done  39 out of  39 | elapsed:    0.0s remaining:    0.0s\n",
      "[Parallel(n_jobs=1)]: Done  40 out of  40 | elapsed:    0.0s remaining:    0.0s\n",
      "[Parallel(n_jobs=1)]: Done  41 out of  41 | elapsed:    0.1s remaining:    0.0s\n",
      "[Parallel(n_jobs=1)]: Done  42 out of  42 | elapsed:    0.1s remaining:    0.0s\n",
      "[Parallel(n_jobs=1)]: Done  43 out of  43 | elapsed:    0.1s remaining:    0.0s\n",
      "[Parallel(n_jobs=1)]: Done  44 out of  44 | elapsed:    0.1s remaining:    0.0s\n",
      "[Parallel(n_jobs=1)]: Done  45 out of  45 | elapsed:    0.1s remaining:    0.0s\n",
      "[Parallel(n_jobs=1)]: Done  46 out of  46 | elapsed:    0.1s remaining:    0.0s\n",
      "[Parallel(n_jobs=1)]: Done  47 out of  47 | elapsed:    0.1s remaining:    0.0s\n",
      "[Parallel(n_jobs=1)]: Done  48 out of  48 | elapsed:    0.1s remaining:    0.0s\n",
      "[Parallel(n_jobs=1)]: Done  49 out of  49 | elapsed:    0.1s remaining:    0.0s\n",
      "[Parallel(n_jobs=1)]: Done 150 out of 150 | elapsed:    0.2s finished\n",
      "[Parallel(n_jobs=1)]: Using backend SequentialBackend with 1 concurrent workers.\n",
      "building tree 1 of 150\n",
      "[Parallel(n_jobs=1)]: Done   1 out of   1 | elapsed:    0.1s remaining:    0.0s\n",
      "building tree 2 of 150\n",
      "[Parallel(n_jobs=1)]: Done   2 out of   2 | elapsed:    0.2s remaining:    0.0s\n",
      "building tree 3 of 150\n",
      "[Parallel(n_jobs=1)]: Done   3 out of   3 | elapsed:    0.3s remaining:    0.0s\n",
      "building tree 4 of 150\n",
      "[Parallel(n_jobs=1)]: Done   4 out of   4 | elapsed:    0.5s remaining:    0.0s\n",
      "building tree 5 of 150\n",
      "[Parallel(n_jobs=1)]: Done   5 out of   5 | elapsed:    0.6s remaining:    0.0s\n",
      "building tree 6 of 150\n",
      "[Parallel(n_jobs=1)]: Done   6 out of   6 | elapsed:    0.7s remaining:    0.0s\n",
      "building tree 7 of 150\n",
      "[Parallel(n_jobs=1)]: Done   7 out of   7 | elapsed:    0.8s remaining:    0.0s\n",
      "building tree 8 of 150\n",
      "[Parallel(n_jobs=1)]: Done   8 out of   8 | elapsed:    1.0s remaining:    0.0s\n",
      "building tree 9 of 150\n",
      "[Parallel(n_jobs=1)]: Done   9 out of   9 | elapsed:    1.1s remaining:    0.0s\n",
      "building tree 10 of 150\n",
      "[Parallel(n_jobs=1)]: Done  10 out of  10 | elapsed:    1.2s remaining:    0.0s\n",
      "building tree 11 of 150\n",
      "[Parallel(n_jobs=1)]: Done  11 out of  11 | elapsed:    1.3s remaining:    0.0s\n",
      "building tree 12 of 150\n",
      "[Parallel(n_jobs=1)]: Done  12 out of  12 | elapsed:    1.5s remaining:    0.0s\n",
      "building tree 13 of 150\n",
      "[Parallel(n_jobs=1)]: Done  13 out of  13 | elapsed:    1.6s remaining:    0.0s\n",
      "building tree 14 of 150\n",
      "[Parallel(n_jobs=1)]: Done  14 out of  14 | elapsed:    1.8s remaining:    0.0s\n",
      "building tree 15 of 150\n",
      "[Parallel(n_jobs=1)]: Done  15 out of  15 | elapsed:    1.9s remaining:    0.0s\n",
      "building tree 16 of 150\n",
      "[Parallel(n_jobs=1)]: Done  16 out of  16 | elapsed:    2.0s remaining:    0.0s\n",
      "building tree 17 of 150\n",
      "[Parallel(n_jobs=1)]: Done  17 out of  17 | elapsed:    2.1s remaining:    0.0s\n",
      "building tree 18 of 150\n",
      "[Parallel(n_jobs=1)]: Done  18 out of  18 | elapsed:    2.3s remaining:    0.0s\n",
      "building tree 19 of 150\n",
      "[Parallel(n_jobs=1)]: Done  19 out of  19 | elapsed:    2.4s remaining:    0.0s\n",
      "building tree 20 of 150\n",
      "[Parallel(n_jobs=1)]: Done  20 out of  20 | elapsed:    2.5s remaining:    0.0s\n",
      "building tree 21 of 150\n",
      "[Parallel(n_jobs=1)]: Done  21 out of  21 | elapsed:    2.6s remaining:    0.0s\n",
      "building tree 22 of 150\n",
      "[Parallel(n_jobs=1)]: Done  22 out of  22 | elapsed:    2.7s remaining:    0.0s\n",
      "building tree 23 of 150\n",
      "[Parallel(n_jobs=1)]: Done  23 out of  23 | elapsed:    2.8s remaining:    0.0s\n",
      "building tree 24 of 150\n",
      "[Parallel(n_jobs=1)]: Done  24 out of  24 | elapsed:    3.0s remaining:    0.0s\n",
      "building tree 25 of 150\n",
      "[Parallel(n_jobs=1)]: Done  25 out of  25 | elapsed:    3.1s remaining:    0.0s\n",
      "building tree 26 of 150\n",
      "[Parallel(n_jobs=1)]: Done  26 out of  26 | elapsed:    3.2s remaining:    0.0s\n",
      "building tree 27 of 150\n",
      "[Parallel(n_jobs=1)]: Done  27 out of  27 | elapsed:    3.3s remaining:    0.0s\n",
      "building tree 28 of 150\n",
      "[Parallel(n_jobs=1)]: Done  28 out of  28 | elapsed:    3.4s remaining:    0.0s\n",
      "building tree 29 of 150\n",
      "[Parallel(n_jobs=1)]: Done  29 out of  29 | elapsed:    3.5s remaining:    0.0s\n",
      "building tree 30 of 150\n",
      "[Parallel(n_jobs=1)]: Done  30 out of  30 | elapsed:    3.6s remaining:    0.0s\n",
      "building tree 31 of 150\n",
      "[Parallel(n_jobs=1)]: Done  31 out of  31 | elapsed:    3.8s remaining:    0.0s\n",
      "building tree 32 of 150\n",
      "[Parallel(n_jobs=1)]: Done  32 out of  32 | elapsed:    3.9s remaining:    0.0s\n",
      "building tree 33 of 150\n",
      "[Parallel(n_jobs=1)]: Done  33 out of  33 | elapsed:    4.0s remaining:    0.0s\n",
      "building tree 34 of 150\n",
      "[Parallel(n_jobs=1)]: Done  34 out of  34 | elapsed:    4.1s remaining:    0.0s\n",
      "building tree 35 of 150\n",
      "[Parallel(n_jobs=1)]: Done  35 out of  35 | elapsed:    4.2s remaining:    0.0s\n",
      "building tree 36 of 150\n",
      "[Parallel(n_jobs=1)]: Done  36 out of  36 | elapsed:    4.4s remaining:    0.0s\n",
      "building tree 37 of 150\n",
      "[Parallel(n_jobs=1)]: Done  37 out of  37 | elapsed:    4.5s remaining:    0.0s\n",
      "building tree 38 of 150\n",
      "[Parallel(n_jobs=1)]: Done  38 out of  38 | elapsed:    4.6s remaining:    0.0s\n",
      "building tree 39 of 150\n",
      "[Parallel(n_jobs=1)]: Done  39 out of  39 | elapsed:    4.7s remaining:    0.0s\n",
      "building tree 40 of 150\n",
      "[Parallel(n_jobs=1)]: Done  40 out of  40 | elapsed:    4.8s remaining:    0.0s\n",
      "building tree 41 of 150\n",
      "[Parallel(n_jobs=1)]: Done  41 out of  41 | elapsed:    4.9s remaining:    0.0s\n",
      "building tree 42 of 150\n",
      "[Parallel(n_jobs=1)]: Done  42 out of  42 | elapsed:    5.1s remaining:    0.0s\n",
      "building tree 43 of 150\n",
      "[Parallel(n_jobs=1)]: Done  43 out of  43 | elapsed:    5.2s remaining:    0.0s\n",
      "building tree 44 of 150\n",
      "[Parallel(n_jobs=1)]: Done  44 out of  44 | elapsed:    5.3s remaining:    0.0s\n",
      "building tree 45 of 150\n",
      "[Parallel(n_jobs=1)]: Done  45 out of  45 | elapsed:    5.4s remaining:    0.0s\n",
      "building tree 46 of 150\n",
      "[Parallel(n_jobs=1)]: Done  46 out of  46 | elapsed:    5.5s remaining:    0.0s\n",
      "building tree 47 of 150\n",
      "[Parallel(n_jobs=1)]: Done  47 out of  47 | elapsed:    5.6s remaining:    0.0s\n",
      "building tree 48 of 150\n",
      "[Parallel(n_jobs=1)]: Done  48 out of  48 | elapsed:    5.8s remaining:    0.0s\n",
      "building tree 49 of 150\n",
      "[Parallel(n_jobs=1)]: Done  49 out of  49 | elapsed:    5.9s remaining:    0.0s\n",
      "building tree 50 of 150\n",
      "building tree 51 of 150\n",
      "building tree 52 of 150\n",
      "building tree 53 of 150\n",
      "building tree 54 of 150\n",
      "building tree 55 of 150\n",
      "building tree 56 of 150\n",
      "building tree 57 of 150\n",
      "building tree 58 of 150\n",
      "building tree 59 of 150\n",
      "building tree 60 of 150\n",
      "building tree 61 of 150\n",
      "building tree 62 of 150\n",
      "building tree 63 of 150\n",
      "building tree 64 of 150\n",
      "building tree 65 of 150\n",
      "building tree 66 of 150\n",
      "building tree 67 of 150\n",
      "building tree 68 of 150\n",
      "building tree 69 of 150\n",
      "building tree 70 of 150\n",
      "building tree 71 of 150\n",
      "building tree 72 of 150\n",
      "building tree 73 of 150\n",
      "building tree 74 of 150\n",
      "building tree 75 of 150\n",
      "building tree 76 of 150\n",
      "building tree 77 of 150\n",
      "building tree 78 of 150\n",
      "building tree 79 of 150\n",
      "building tree 80 of 150\n",
      "building tree 81 of 150\n",
      "building tree 82 of 150\n",
      "building tree 83 of 150\n",
      "building tree 84 of 150\n",
      "building tree 85 of 150\n",
      "building tree 86 of 150\n",
      "building tree 87 of 150\n",
      "building tree 88 of 150\n",
      "building tree 89 of 150\n",
      "building tree 90 of 150\n",
      "building tree 91 of 150\n",
      "building tree 92 of 150\n",
      "building tree 93 of 150\n",
      "building tree 94 of 150\n",
      "building tree 95 of 150\n",
      "building tree 96 of 150\n",
      "building tree 97 of 150\n",
      "building tree 98 of 150\n",
      "building tree 99 of 150\n",
      "building tree 100 of 150\n",
      "building tree 101 of 150\n",
      "building tree 102 of 150\n",
      "building tree 103 of 150\n",
      "building tree 104 of 150\n",
      "building tree 105 of 150\n",
      "building tree 106 of 150\n",
      "building tree 107 of 150\n",
      "building tree 108 of 150\n",
      "building tree 109 of 150\n",
      "building tree 110 of 150\n",
      "building tree 111 of 150\n",
      "building tree 112 of 150\n",
      "building tree 113 of 150\n",
      "building tree 114 of 150\n",
      "building tree 115 of 150\n",
      "building tree 116 of 150\n",
      "building tree 117 of 150\n",
      "building tree 118 of 150\n",
      "building tree 119 of 150\n",
      "building tree 120 of 150\n",
      "building tree 121 of 150\n",
      "building tree 122 of 150\n",
      "building tree 123 of 150\n",
      "building tree 124 of 150\n",
      "building tree 125 of 150\n",
      "building tree 126 of 150\n",
      "building tree 127 of 150\n",
      "building tree 128 of 150\n",
      "building tree 129 of 150\n",
      "building tree 130 of 150\n",
      "building tree 131 of 150\n",
      "building tree 132 of 150\n",
      "building tree 133 of 150\n",
      "building tree 134 of 150\n",
      "building tree 135 of 150\n",
      "building tree 136 of 150\n",
      "building tree 137 of 150\n",
      "building tree 138 of 150\n",
      "building tree 139 of 150\n",
      "building tree 140 of 150\n",
      "building tree 141 of 150\n",
      "building tree 142 of 150\n",
      "building tree 143 of 150\n",
      "building tree 144 of 150\n",
      "building tree 145 of 150\n",
      "building tree 146 of 150\n",
      "building tree 147 of 150\n",
      "building tree 148 of 150\n",
      "building tree 149 of 150\n",
      "building tree 150 of 150\n",
      "[Parallel(n_jobs=1)]: Done 150 out of 150 | elapsed:   18.0s finished\n",
      "Using ThreadingBackend as joblib.Parallel backend instead of LokyBackend as the latter does not provide shared memory semantics.\n",
      "[Parallel(n_jobs=1)]: Using backend SequentialBackend with 1 concurrent workers.\n",
      "[Parallel(n_jobs=1)]: Done   1 out of   1 | elapsed:    0.0s remaining:    0.0s\n",
      "[Parallel(n_jobs=1)]: Done   2 out of   2 | elapsed:    0.0s remaining:    0.0s\n",
      "[Parallel(n_jobs=1)]: Done   3 out of   3 | elapsed:    0.0s remaining:    0.0s\n",
      "[Parallel(n_jobs=1)]: Done   4 out of   4 | elapsed:    0.0s remaining:    0.0s\n",
      "[Parallel(n_jobs=1)]: Done   5 out of   5 | elapsed:    0.0s remaining:    0.0s\n",
      "[Parallel(n_jobs=1)]: Done   6 out of   6 | elapsed:    0.0s remaining:    0.0s\n",
      "[Parallel(n_jobs=1)]: Done   7 out of   7 | elapsed:    0.0s remaining:    0.0s\n",
      "[Parallel(n_jobs=1)]: Done   8 out of   8 | elapsed:    0.0s remaining:    0.0s\n",
      "[Parallel(n_jobs=1)]: Done   9 out of   9 | elapsed:    0.0s remaining:    0.0s\n",
      "[Parallel(n_jobs=1)]: Done  10 out of  10 | elapsed:    0.0s remaining:    0.0s\n",
      "[Parallel(n_jobs=1)]: Done  11 out of  11 | elapsed:    0.0s remaining:    0.0s\n",
      "[Parallel(n_jobs=1)]: Done  12 out of  12 | elapsed:    0.0s remaining:    0.0s\n",
      "[Parallel(n_jobs=1)]: Done  13 out of  13 | elapsed:    0.0s remaining:    0.0s\n",
      "[Parallel(n_jobs=1)]: Done  14 out of  14 | elapsed:    0.0s remaining:    0.0s\n",
      "[Parallel(n_jobs=1)]: Done  15 out of  15 | elapsed:    0.0s remaining:    0.0s\n",
      "[Parallel(n_jobs=1)]: Done  16 out of  16 | elapsed:    0.0s remaining:    0.0s\n",
      "[Parallel(n_jobs=1)]: Done  17 out of  17 | elapsed:    0.0s remaining:    0.0s\n",
      "[Parallel(n_jobs=1)]: Done  18 out of  18 | elapsed:    0.0s remaining:    0.0s\n",
      "[Parallel(n_jobs=1)]: Done  19 out of  19 | elapsed:    0.0s remaining:    0.0s\n",
      "[Parallel(n_jobs=1)]: Done  20 out of  20 | elapsed:    0.0s remaining:    0.0s\n",
      "[Parallel(n_jobs=1)]: Done  21 out of  21 | elapsed:    0.0s remaining:    0.0s\n",
      "[Parallel(n_jobs=1)]: Done  22 out of  22 | elapsed:    0.0s remaining:    0.0s\n",
      "[Parallel(n_jobs=1)]: Done  23 out of  23 | elapsed:    0.0s remaining:    0.0s\n",
      "[Parallel(n_jobs=1)]: Done  24 out of  24 | elapsed:    0.0s remaining:    0.0s\n",
      "[Parallel(n_jobs=1)]: Done  25 out of  25 | elapsed:    0.0s remaining:    0.0s\n",
      "[Parallel(n_jobs=1)]: Done  26 out of  26 | elapsed:    0.0s remaining:    0.0s\n",
      "[Parallel(n_jobs=1)]: Done  27 out of  27 | elapsed:    0.0s remaining:    0.0s\n",
      "[Parallel(n_jobs=1)]: Done  28 out of  28 | elapsed:    0.0s remaining:    0.0s\n",
      "[Parallel(n_jobs=1)]: Done  29 out of  29 | elapsed:    0.0s remaining:    0.0s\n",
      "[Parallel(n_jobs=1)]: Done  30 out of  30 | elapsed:    0.0s remaining:    0.0s\n",
      "[Parallel(n_jobs=1)]: Done  31 out of  31 | elapsed:    0.0s remaining:    0.0s\n",
      "[Parallel(n_jobs=1)]: Done  32 out of  32 | elapsed:    0.0s remaining:    0.0s\n",
      "[Parallel(n_jobs=1)]: Done  33 out of  33 | elapsed:    0.0s remaining:    0.0s\n",
      "[Parallel(n_jobs=1)]: Done  34 out of  34 | elapsed:    0.0s remaining:    0.0s\n",
      "[Parallel(n_jobs=1)]: Done  35 out of  35 | elapsed:    0.0s remaining:    0.0s\n",
      "[Parallel(n_jobs=1)]: Done  36 out of  36 | elapsed:    0.0s remaining:    0.0s\n",
      "[Parallel(n_jobs=1)]: Done  37 out of  37 | elapsed:    0.1s remaining:    0.0s\n",
      "[Parallel(n_jobs=1)]: Done  38 out of  38 | elapsed:    0.1s remaining:    0.0s\n",
      "[Parallel(n_jobs=1)]: Done  39 out of  39 | elapsed:    0.1s remaining:    0.0s\n",
      "[Parallel(n_jobs=1)]: Done  40 out of  40 | elapsed:    0.1s remaining:    0.0s\n",
      "[Parallel(n_jobs=1)]: Done  41 out of  41 | elapsed:    0.1s remaining:    0.0s\n",
      "[Parallel(n_jobs=1)]: Done  42 out of  42 | elapsed:    0.1s remaining:    0.0s\n",
      "[Parallel(n_jobs=1)]: Done  43 out of  43 | elapsed:    0.1s remaining:    0.0s\n",
      "[Parallel(n_jobs=1)]: Done  44 out of  44 | elapsed:    0.1s remaining:    0.0s\n",
      "[Parallel(n_jobs=1)]: Done  45 out of  45 | elapsed:    0.1s remaining:    0.0s\n",
      "[Parallel(n_jobs=1)]: Done  46 out of  46 | elapsed:    0.1s remaining:    0.0s\n",
      "[Parallel(n_jobs=1)]: Done  47 out of  47 | elapsed:    0.1s remaining:    0.0s\n",
      "[Parallel(n_jobs=1)]: Done  48 out of  48 | elapsed:    0.1s remaining:    0.0s\n",
      "[Parallel(n_jobs=1)]: Done  49 out of  49 | elapsed:    0.1s remaining:    0.0s\n",
      "[Parallel(n_jobs=1)]: Done 150 out of 150 | elapsed:    0.2s finished\n",
      "[Parallel(n_jobs=1)]: Using backend SequentialBackend with 1 concurrent workers.\n",
      "building tree 1 of 150\n",
      "[Parallel(n_jobs=1)]: Done   1 out of   1 | elapsed:    0.1s remaining:    0.0s\n",
      "building tree 2 of 150\n",
      "[Parallel(n_jobs=1)]: Done   2 out of   2 | elapsed:    0.2s remaining:    0.0s\n",
      "building tree 3 of 150\n",
      "[Parallel(n_jobs=1)]: Done   3 out of   3 | elapsed:    0.4s remaining:    0.0s\n",
      "building tree 4 of 150\n",
      "[Parallel(n_jobs=1)]: Done   4 out of   4 | elapsed:    0.5s remaining:    0.0s\n",
      "building tree 5 of 150\n",
      "[Parallel(n_jobs=1)]: Done   5 out of   5 | elapsed:    0.6s remaining:    0.0s\n",
      "building tree 6 of 150\n",
      "[Parallel(n_jobs=1)]: Done   6 out of   6 | elapsed:    0.7s remaining:    0.0s\n",
      "building tree 7 of 150\n",
      "[Parallel(n_jobs=1)]: Done   7 out of   7 | elapsed:    0.9s remaining:    0.0s\n",
      "building tree 8 of 150\n",
      "[Parallel(n_jobs=1)]: Done   8 out of   8 | elapsed:    1.0s remaining:    0.0s\n",
      "building tree 9 of 150\n",
      "[Parallel(n_jobs=1)]: Done   9 out of   9 | elapsed:    1.1s remaining:    0.0s\n",
      "building tree 10 of 150\n",
      "[Parallel(n_jobs=1)]: Done  10 out of  10 | elapsed:    1.2s remaining:    0.0s\n",
      "building tree 11 of 150\n",
      "[Parallel(n_jobs=1)]: Done  11 out of  11 | elapsed:    1.4s remaining:    0.0s\n",
      "building tree 12 of 150\n",
      "[Parallel(n_jobs=1)]: Done  12 out of  12 | elapsed:    1.5s remaining:    0.0s\n",
      "building tree 13 of 150\n",
      "[Parallel(n_jobs=1)]: Done  13 out of  13 | elapsed:    1.6s remaining:    0.0s\n",
      "building tree 14 of 150\n",
      "[Parallel(n_jobs=1)]: Done  14 out of  14 | elapsed:    1.7s remaining:    0.0s\n",
      "building tree 15 of 150\n",
      "[Parallel(n_jobs=1)]: Done  15 out of  15 | elapsed:    1.8s remaining:    0.0s\n",
      "building tree 16 of 150\n",
      "[Parallel(n_jobs=1)]: Done  16 out of  16 | elapsed:    2.0s remaining:    0.0s\n",
      "building tree 17 of 150\n",
      "[Parallel(n_jobs=1)]: Done  17 out of  17 | elapsed:    2.1s remaining:    0.0s\n",
      "building tree 18 of 150\n",
      "[Parallel(n_jobs=1)]: Done  18 out of  18 | elapsed:    2.2s remaining:    0.0s\n",
      "building tree 19 of 150\n",
      "[Parallel(n_jobs=1)]: Done  19 out of  19 | elapsed:    2.3s remaining:    0.0s\n",
      "building tree 20 of 150\n",
      "[Parallel(n_jobs=1)]: Done  20 out of  20 | elapsed:    2.4s remaining:    0.0s\n",
      "building tree 21 of 150\n",
      "[Parallel(n_jobs=1)]: Done  21 out of  21 | elapsed:    2.6s remaining:    0.0s\n",
      "building tree 22 of 150\n",
      "[Parallel(n_jobs=1)]: Done  22 out of  22 | elapsed:    2.7s remaining:    0.0s\n",
      "building tree 23 of 150\n",
      "[Parallel(n_jobs=1)]: Done  23 out of  23 | elapsed:    2.8s remaining:    0.0s\n",
      "building tree 24 of 150\n",
      "[Parallel(n_jobs=1)]: Done  24 out of  24 | elapsed:    2.9s remaining:    0.0s\n",
      "building tree 25 of 150\n",
      "[Parallel(n_jobs=1)]: Done  25 out of  25 | elapsed:    3.0s remaining:    0.0s\n",
      "building tree 26 of 150\n",
      "[Parallel(n_jobs=1)]: Done  26 out of  26 | elapsed:    3.1s remaining:    0.0s\n",
      "building tree 27 of 150\n",
      "[Parallel(n_jobs=1)]: Done  27 out of  27 | elapsed:    3.3s remaining:    0.0s\n",
      "building tree 28 of 150\n",
      "[Parallel(n_jobs=1)]: Done  28 out of  28 | elapsed:    3.4s remaining:    0.0s\n",
      "building tree 29 of 150\n",
      "[Parallel(n_jobs=1)]: Done  29 out of  29 | elapsed:    3.5s remaining:    0.0s\n",
      "building tree 30 of 150\n",
      "[Parallel(n_jobs=1)]: Done  30 out of  30 | elapsed:    3.6s remaining:    0.0s\n",
      "building tree 31 of 150\n",
      "[Parallel(n_jobs=1)]: Done  31 out of  31 | elapsed:    3.8s remaining:    0.0s\n",
      "building tree 32 of 150\n",
      "[Parallel(n_jobs=1)]: Done  32 out of  32 | elapsed:    3.9s remaining:    0.0s\n",
      "building tree 33 of 150\n",
      "[Parallel(n_jobs=1)]: Done  33 out of  33 | elapsed:    4.0s remaining:    0.0s\n",
      "building tree 34 of 150\n",
      "[Parallel(n_jobs=1)]: Done  34 out of  34 | elapsed:    4.2s remaining:    0.0s\n",
      "building tree 35 of 150\n",
      "[Parallel(n_jobs=1)]: Done  35 out of  35 | elapsed:    4.3s remaining:    0.0s\n",
      "building tree 36 of 150\n",
      "[Parallel(n_jobs=1)]: Done  36 out of  36 | elapsed:    4.4s remaining:    0.0s\n",
      "building tree 37 of 150\n",
      "[Parallel(n_jobs=1)]: Done  37 out of  37 | elapsed:    4.5s remaining:    0.0s\n",
      "building tree 38 of 150\n",
      "[Parallel(n_jobs=1)]: Done  38 out of  38 | elapsed:    4.6s remaining:    0.0s\n",
      "building tree 39 of 150\n",
      "[Parallel(n_jobs=1)]: Done  39 out of  39 | elapsed:    4.8s remaining:    0.0s\n",
      "building tree 40 of 150\n",
      "[Parallel(n_jobs=1)]: Done  40 out of  40 | elapsed:    4.9s remaining:    0.0s\n",
      "building tree 41 of 150\n",
      "[Parallel(n_jobs=1)]: Done  41 out of  41 | elapsed:    5.0s remaining:    0.0s\n",
      "building tree 42 of 150\n",
      "[Parallel(n_jobs=1)]: Done  42 out of  42 | elapsed:    5.1s remaining:    0.0s\n",
      "building tree 43 of 150\n",
      "[Parallel(n_jobs=1)]: Done  43 out of  43 | elapsed:    5.2s remaining:    0.0s\n",
      "building tree 44 of 150\n",
      "[Parallel(n_jobs=1)]: Done  44 out of  44 | elapsed:    5.4s remaining:    0.0s\n",
      "building tree 45 of 150\n",
      "[Parallel(n_jobs=1)]: Done  45 out of  45 | elapsed:    5.5s remaining:    0.0s\n",
      "building tree 46 of 150\n",
      "[Parallel(n_jobs=1)]: Done  46 out of  46 | elapsed:    5.6s remaining:    0.0s\n",
      "building tree 47 of 150\n",
      "[Parallel(n_jobs=1)]: Done  47 out of  47 | elapsed:    5.7s remaining:    0.0s\n",
      "building tree 48 of 150\n",
      "[Parallel(n_jobs=1)]: Done  48 out of  48 | elapsed:    5.9s remaining:    0.0s\n",
      "building tree 49 of 150\n",
      "[Parallel(n_jobs=1)]: Done  49 out of  49 | elapsed:    6.0s remaining:    0.0s\n",
      "building tree 50 of 150\n",
      "building tree 51 of 150\n",
      "building tree 52 of 150\n",
      "building tree 53 of 150\n",
      "building tree 54 of 150\n",
      "building tree 55 of 150\n",
      "building tree 56 of 150\n",
      "building tree 57 of 150\n",
      "building tree 58 of 150\n",
      "building tree 59 of 150\n",
      "building tree 60 of 150\n",
      "building tree 61 of 150\n",
      "building tree 62 of 150\n",
      "building tree 63 of 150\n",
      "building tree 64 of 150\n",
      "building tree 65 of 150\n",
      "building tree 66 of 150\n",
      "building tree 67 of 150\n",
      "building tree 68 of 150\n",
      "building tree 69 of 150\n",
      "building tree 70 of 150\n",
      "building tree 71 of 150\n",
      "building tree 72 of 150\n",
      "building tree 73 of 150\n",
      "building tree 74 of 150\n",
      "building tree 75 of 150\n",
      "building tree 76 of 150\n",
      "building tree 77 of 150\n",
      "building tree 78 of 150\n",
      "building tree 79 of 150\n",
      "building tree 80 of 150\n",
      "building tree 81 of 150\n",
      "building tree 82 of 150\n",
      "building tree 83 of 150\n",
      "building tree 84 of 150\n",
      "building tree 85 of 150\n",
      "building tree 86 of 150\n",
      "building tree 87 of 150\n",
      "building tree 88 of 150\n",
      "building tree 89 of 150\n",
      "building tree 90 of 150\n",
      "building tree 91 of 150\n",
      "building tree 92 of 150\n",
      "building tree 93 of 150\n",
      "building tree 94 of 150\n",
      "building tree 95 of 150\n",
      "building tree 96 of 150\n",
      "building tree 97 of 150\n",
      "building tree 98 of 150\n",
      "building tree 99 of 150\n",
      "building tree 100 of 150\n",
      "building tree 101 of 150\n",
      "building tree 102 of 150\n",
      "building tree 103 of 150\n",
      "building tree 104 of 150\n",
      "building tree 105 of 150\n",
      "building tree 106 of 150\n",
      "building tree 107 of 150\n",
      "building tree 108 of 150\n",
      "building tree 109 of 150\n",
      "building tree 110 of 150\n",
      "building tree 111 of 150\n",
      "building tree 112 of 150\n",
      "building tree 113 of 150\n",
      "building tree 114 of 150\n",
      "building tree 115 of 150\n",
      "building tree 116 of 150\n",
      "building tree 117 of 150\n",
      "building tree 118 of 150\n",
      "building tree 119 of 150\n",
      "building tree 120 of 150\n",
      "building tree 121 of 150\n",
      "building tree 122 of 150\n",
      "building tree 123 of 150\n",
      "building tree 124 of 150\n",
      "building tree 125 of 150\n",
      "building tree 126 of 150\n",
      "building tree 127 of 150\n",
      "building tree 128 of 150\n",
      "building tree 129 of 150\n",
      "building tree 130 of 150\n",
      "building tree 131 of 150\n",
      "building tree 132 of 150\n",
      "building tree 133 of 150\n",
      "building tree 134 of 150\n",
      "building tree 135 of 150\n",
      "building tree 136 of 150\n",
      "building tree 137 of 150\n",
      "building tree 138 of 150\n",
      "building tree 139 of 150\n",
      "building tree 140 of 150\n",
      "building tree 141 of 150\n",
      "building tree 142 of 150\n",
      "building tree 143 of 150\n",
      "building tree 144 of 150\n",
      "building tree 145 of 150\n",
      "building tree 146 of 150\n",
      "building tree 147 of 150\n",
      "building tree 148 of 150\n",
      "building tree 149 of 150\n",
      "building tree 150 of 150\n",
      "[Parallel(n_jobs=1)]: Done 150 out of 150 | elapsed:   17.8s finished\n",
      "Using ThreadingBackend as joblib.Parallel backend instead of LokyBackend as the latter does not provide shared memory semantics.\n",
      "[Parallel(n_jobs=1)]: Using backend SequentialBackend with 1 concurrent workers.\n",
      "[Parallel(n_jobs=1)]: Done   1 out of   1 | elapsed:    0.0s remaining:    0.0s\n",
      "[Parallel(n_jobs=1)]: Done   2 out of   2 | elapsed:    0.0s remaining:    0.0s\n",
      "[Parallel(n_jobs=1)]: Done   3 out of   3 | elapsed:    0.0s remaining:    0.0s\n",
      "[Parallel(n_jobs=1)]: Done   4 out of   4 | elapsed:    0.0s remaining:    0.0s\n",
      "[Parallel(n_jobs=1)]: Done   5 out of   5 | elapsed:    0.0s remaining:    0.0s\n",
      "[Parallel(n_jobs=1)]: Done   6 out of   6 | elapsed:    0.0s remaining:    0.0s\n",
      "[Parallel(n_jobs=1)]: Done   7 out of   7 | elapsed:    0.0s remaining:    0.0s\n",
      "[Parallel(n_jobs=1)]: Done   8 out of   8 | elapsed:    0.0s remaining:    0.0s\n",
      "[Parallel(n_jobs=1)]: Done   9 out of   9 | elapsed:    0.0s remaining:    0.0s\n",
      "[Parallel(n_jobs=1)]: Done  10 out of  10 | elapsed:    0.0s remaining:    0.0s\n",
      "[Parallel(n_jobs=1)]: Done  11 out of  11 | elapsed:    0.0s remaining:    0.0s\n",
      "[Parallel(n_jobs=1)]: Done  12 out of  12 | elapsed:    0.0s remaining:    0.0s\n",
      "[Parallel(n_jobs=1)]: Done  13 out of  13 | elapsed:    0.0s remaining:    0.0s\n",
      "[Parallel(n_jobs=1)]: Done  14 out of  14 | elapsed:    0.0s remaining:    0.0s\n",
      "[Parallel(n_jobs=1)]: Done  15 out of  15 | elapsed:    0.0s remaining:    0.0s\n",
      "[Parallel(n_jobs=1)]: Done  16 out of  16 | elapsed:    0.0s remaining:    0.0s\n",
      "[Parallel(n_jobs=1)]: Done  17 out of  17 | elapsed:    0.0s remaining:    0.0s\n",
      "[Parallel(n_jobs=1)]: Done  18 out of  18 | elapsed:    0.0s remaining:    0.0s\n",
      "[Parallel(n_jobs=1)]: Done  19 out of  19 | elapsed:    0.0s remaining:    0.0s\n",
      "[Parallel(n_jobs=1)]: Done  20 out of  20 | elapsed:    0.0s remaining:    0.0s\n",
      "[Parallel(n_jobs=1)]: Done  21 out of  21 | elapsed:    0.0s remaining:    0.0s\n",
      "[Parallel(n_jobs=1)]: Done  22 out of  22 | elapsed:    0.0s remaining:    0.0s\n",
      "[Parallel(n_jobs=1)]: Done  23 out of  23 | elapsed:    0.0s remaining:    0.0s\n",
      "[Parallel(n_jobs=1)]: Done  24 out of  24 | elapsed:    0.0s remaining:    0.0s\n",
      "[Parallel(n_jobs=1)]: Done  25 out of  25 | elapsed:    0.0s remaining:    0.0s\n",
      "[Parallel(n_jobs=1)]: Done  26 out of  26 | elapsed:    0.0s remaining:    0.0s\n",
      "[Parallel(n_jobs=1)]: Done  27 out of  27 | elapsed:    0.0s remaining:    0.0s\n",
      "[Parallel(n_jobs=1)]: Done  28 out of  28 | elapsed:    0.0s remaining:    0.0s\n",
      "[Parallel(n_jobs=1)]: Done  29 out of  29 | elapsed:    0.0s remaining:    0.0s\n",
      "[Parallel(n_jobs=1)]: Done  30 out of  30 | elapsed:    0.0s remaining:    0.0s\n",
      "[Parallel(n_jobs=1)]: Done  31 out of  31 | elapsed:    0.0s remaining:    0.0s\n",
      "[Parallel(n_jobs=1)]: Done  32 out of  32 | elapsed:    0.0s remaining:    0.0s\n",
      "[Parallel(n_jobs=1)]: Done  33 out of  33 | elapsed:    0.0s remaining:    0.0s\n",
      "[Parallel(n_jobs=1)]: Done  34 out of  34 | elapsed:    0.0s remaining:    0.0s\n",
      "[Parallel(n_jobs=1)]: Done  35 out of  35 | elapsed:    0.0s remaining:    0.0s\n",
      "[Parallel(n_jobs=1)]: Done  36 out of  36 | elapsed:    0.1s remaining:    0.0s\n",
      "[Parallel(n_jobs=1)]: Done  37 out of  37 | elapsed:    0.1s remaining:    0.0s\n",
      "[Parallel(n_jobs=1)]: Done  38 out of  38 | elapsed:    0.1s remaining:    0.0s\n",
      "[Parallel(n_jobs=1)]: Done  39 out of  39 | elapsed:    0.1s remaining:    0.0s\n",
      "[Parallel(n_jobs=1)]: Done  40 out of  40 | elapsed:    0.1s remaining:    0.0s\n",
      "[Parallel(n_jobs=1)]: Done  41 out of  41 | elapsed:    0.1s remaining:    0.0s\n",
      "[Parallel(n_jobs=1)]: Done  42 out of  42 | elapsed:    0.1s remaining:    0.0s\n",
      "[Parallel(n_jobs=1)]: Done  43 out of  43 | elapsed:    0.1s remaining:    0.0s\n",
      "[Parallel(n_jobs=1)]: Done  44 out of  44 | elapsed:    0.1s remaining:    0.0s\n",
      "[Parallel(n_jobs=1)]: Done  45 out of  45 | elapsed:    0.1s remaining:    0.0s\n",
      "[Parallel(n_jobs=1)]: Done  46 out of  46 | elapsed:    0.1s remaining:    0.0s\n",
      "[Parallel(n_jobs=1)]: Done  47 out of  47 | elapsed:    0.1s remaining:    0.0s\n",
      "[Parallel(n_jobs=1)]: Done  48 out of  48 | elapsed:    0.1s remaining:    0.0s\n",
      "[Parallel(n_jobs=1)]: Done  49 out of  49 | elapsed:    0.1s remaining:    0.0s\n",
      "[Parallel(n_jobs=1)]: Done 150 out of 150 | elapsed:    0.2s finished\n",
      "[Parallel(n_jobs=1)]: Using backend SequentialBackend with 1 concurrent workers.\n",
      "building tree 1 of 150\n",
      "[Parallel(n_jobs=1)]: Done   1 out of   1 | elapsed:    0.1s remaining:    0.0s\n",
      "building tree 2 of 150\n",
      "[Parallel(n_jobs=1)]: Done   2 out of   2 | elapsed:    0.2s remaining:    0.0s\n",
      "building tree 3 of 150\n",
      "[Parallel(n_jobs=1)]: Done   3 out of   3 | elapsed:    0.4s remaining:    0.0s\n",
      "building tree 4 of 150\n",
      "[Parallel(n_jobs=1)]: Done   4 out of   4 | elapsed:    0.5s remaining:    0.0s\n",
      "building tree 5 of 150\n",
      "[Parallel(n_jobs=1)]: Done   5 out of   5 | elapsed:    0.6s remaining:    0.0s\n",
      "building tree 6 of 150\n",
      "[Parallel(n_jobs=1)]: Done   6 out of   6 | elapsed:    0.7s remaining:    0.0s\n",
      "building tree 7 of 150\n",
      "[Parallel(n_jobs=1)]: Done   7 out of   7 | elapsed:    0.8s remaining:    0.0s\n",
      "building tree 8 of 150\n",
      "[Parallel(n_jobs=1)]: Done   8 out of   8 | elapsed:    1.0s remaining:    0.0s\n",
      "building tree 9 of 150\n",
      "[Parallel(n_jobs=1)]: Done   9 out of   9 | elapsed:    1.1s remaining:    0.0s\n",
      "building tree 10 of 150\n",
      "[Parallel(n_jobs=1)]: Done  10 out of  10 | elapsed:    1.2s remaining:    0.0s\n",
      "building tree 11 of 150\n",
      "[Parallel(n_jobs=1)]: Done  11 out of  11 | elapsed:    1.3s remaining:    0.0s\n",
      "building tree 12 of 150\n",
      "[Parallel(n_jobs=1)]: Done  12 out of  12 | elapsed:    1.4s remaining:    0.0s\n",
      "building tree 13 of 150\n",
      "[Parallel(n_jobs=1)]: Done  13 out of  13 | elapsed:    1.6s remaining:    0.0s\n",
      "building tree 14 of 150\n",
      "[Parallel(n_jobs=1)]: Done  14 out of  14 | elapsed:    1.7s remaining:    0.0s\n",
      "building tree 15 of 150\n",
      "[Parallel(n_jobs=1)]: Done  15 out of  15 | elapsed:    1.8s remaining:    0.0s\n",
      "building tree 16 of 150\n",
      "[Parallel(n_jobs=1)]: Done  16 out of  16 | elapsed:    1.9s remaining:    0.0s\n",
      "building tree 17 of 150\n",
      "[Parallel(n_jobs=1)]: Done  17 out of  17 | elapsed:    2.1s remaining:    0.0s\n",
      "building tree 18 of 150\n",
      "[Parallel(n_jobs=1)]: Done  18 out of  18 | elapsed:    2.2s remaining:    0.0s\n",
      "building tree 19 of 150\n",
      "[Parallel(n_jobs=1)]: Done  19 out of  19 | elapsed:    2.4s remaining:    0.0s\n",
      "building tree 20 of 150\n",
      "[Parallel(n_jobs=1)]: Done  20 out of  20 | elapsed:    2.5s remaining:    0.0s\n",
      "building tree 21 of 150\n",
      "[Parallel(n_jobs=1)]: Done  21 out of  21 | elapsed:    2.6s remaining:    0.0s\n",
      "building tree 22 of 150\n",
      "[Parallel(n_jobs=1)]: Done  22 out of  22 | elapsed:    2.7s remaining:    0.0s\n",
      "building tree 23 of 150\n",
      "[Parallel(n_jobs=1)]: Done  23 out of  23 | elapsed:    2.8s remaining:    0.0s\n",
      "building tree 24 of 150\n",
      "[Parallel(n_jobs=1)]: Done  24 out of  24 | elapsed:    3.0s remaining:    0.0s\n",
      "building tree 25 of 150\n",
      "[Parallel(n_jobs=1)]: Done  25 out of  25 | elapsed:    3.1s remaining:    0.0s\n",
      "building tree 26 of 150\n",
      "[Parallel(n_jobs=1)]: Done  26 out of  26 | elapsed:    3.2s remaining:    0.0s\n",
      "building tree 27 of 150\n",
      "[Parallel(n_jobs=1)]: Done  27 out of  27 | elapsed:    3.3s remaining:    0.0s\n",
      "building tree 28 of 150\n",
      "[Parallel(n_jobs=1)]: Done  28 out of  28 | elapsed:    3.4s remaining:    0.0s\n",
      "building tree 29 of 150\n",
      "[Parallel(n_jobs=1)]: Done  29 out of  29 | elapsed:    3.6s remaining:    0.0s\n",
      "building tree 30 of 150\n",
      "[Parallel(n_jobs=1)]: Done  30 out of  30 | elapsed:    3.7s remaining:    0.0s\n",
      "building tree 31 of 150\n",
      "[Parallel(n_jobs=1)]: Done  31 out of  31 | elapsed:    3.8s remaining:    0.0s\n",
      "building tree 32 of 150\n",
      "[Parallel(n_jobs=1)]: Done  32 out of  32 | elapsed:    4.0s remaining:    0.0s\n",
      "building tree 33 of 150\n",
      "[Parallel(n_jobs=1)]: Done  33 out of  33 | elapsed:    4.1s remaining:    0.0s\n",
      "building tree 34 of 150\n",
      "[Parallel(n_jobs=1)]: Done  34 out of  34 | elapsed:    4.2s remaining:    0.0s\n",
      "building tree 35 of 150\n",
      "[Parallel(n_jobs=1)]: Done  35 out of  35 | elapsed:    4.3s remaining:    0.0s\n",
      "building tree 36 of 150\n",
      "[Parallel(n_jobs=1)]: Done  36 out of  36 | elapsed:    4.5s remaining:    0.0s\n",
      "building tree 37 of 150\n",
      "[Parallel(n_jobs=1)]: Done  37 out of  37 | elapsed:    4.6s remaining:    0.0s\n",
      "building tree 38 of 150\n",
      "[Parallel(n_jobs=1)]: Done  38 out of  38 | elapsed:    4.7s remaining:    0.0s\n",
      "building tree 39 of 150\n",
      "[Parallel(n_jobs=1)]: Done  39 out of  39 | elapsed:    4.8s remaining:    0.0s\n",
      "building tree 40 of 150\n",
      "[Parallel(n_jobs=1)]: Done  40 out of  40 | elapsed:    4.9s remaining:    0.0s\n",
      "building tree 41 of 150\n",
      "[Parallel(n_jobs=1)]: Done  41 out of  41 | elapsed:    5.1s remaining:    0.0s\n",
      "building tree 42 of 150\n",
      "[Parallel(n_jobs=1)]: Done  42 out of  42 | elapsed:    5.2s remaining:    0.0s\n",
      "building tree 43 of 150\n",
      "[Parallel(n_jobs=1)]: Done  43 out of  43 | elapsed:    5.3s remaining:    0.0s\n",
      "building tree 44 of 150\n",
      "[Parallel(n_jobs=1)]: Done  44 out of  44 | elapsed:    5.4s remaining:    0.0s\n",
      "building tree 45 of 150\n",
      "[Parallel(n_jobs=1)]: Done  45 out of  45 | elapsed:    5.5s remaining:    0.0s\n",
      "building tree 46 of 150\n",
      "[Parallel(n_jobs=1)]: Done  46 out of  46 | elapsed:    5.7s remaining:    0.0s\n",
      "building tree 47 of 150\n",
      "[Parallel(n_jobs=1)]: Done  47 out of  47 | elapsed:    5.8s remaining:    0.0s\n",
      "building tree 48 of 150\n",
      "[Parallel(n_jobs=1)]: Done  48 out of  48 | elapsed:    5.9s remaining:    0.0s\n",
      "building tree 49 of 150\n",
      "[Parallel(n_jobs=1)]: Done  49 out of  49 | elapsed:    6.0s remaining:    0.0s\n",
      "building tree 50 of 150\n",
      "building tree 51 of 150\n",
      "building tree 52 of 150\n",
      "building tree 53 of 150\n",
      "building tree 54 of 150\n",
      "building tree 55 of 150\n",
      "building tree 56 of 150\n",
      "building tree 57 of 150\n",
      "building tree 58 of 150\n",
      "building tree 59 of 150\n",
      "building tree 60 of 150\n",
      "building tree 61 of 150\n",
      "building tree 62 of 150\n",
      "building tree 63 of 150\n",
      "building tree 64 of 150\n",
      "building tree 65 of 150\n",
      "building tree 66 of 150\n",
      "building tree 67 of 150\n",
      "building tree 68 of 150\n",
      "building tree 69 of 150\n",
      "building tree 70 of 150\n",
      "building tree 71 of 150\n",
      "building tree 72 of 150\n",
      "building tree 73 of 150\n",
      "building tree 74 of 150\n",
      "building tree 75 of 150\n",
      "building tree 76 of 150\n",
      "building tree 77 of 150\n",
      "building tree 78 of 150\n",
      "building tree 79 of 150\n",
      "building tree 80 of 150\n",
      "building tree 81 of 150\n",
      "building tree 82 of 150\n",
      "building tree 83 of 150\n",
      "building tree 84 of 150\n",
      "building tree 85 of 150\n",
      "building tree 86 of 150\n",
      "building tree 87 of 150\n",
      "building tree 88 of 150\n",
      "building tree 89 of 150\n",
      "building tree 90 of 150\n",
      "building tree 91 of 150\n",
      "building tree 92 of 150\n",
      "building tree 93 of 150\n",
      "building tree 94 of 150\n",
      "building tree 95 of 150\n",
      "building tree 96 of 150\n",
      "building tree 97 of 150\n",
      "building tree 98 of 150\n",
      "building tree 99 of 150\n",
      "building tree 100 of 150\n",
      "building tree 101 of 150\n",
      "building tree 102 of 150\n",
      "building tree 103 of 150\n",
      "building tree 104 of 150\n",
      "building tree 105 of 150\n",
      "building tree 106 of 150\n",
      "building tree 107 of 150\n",
      "building tree 108 of 150\n",
      "building tree 109 of 150\n",
      "building tree 110 of 150\n",
      "building tree 111 of 150\n",
      "building tree 112 of 150\n",
      "building tree 113 of 150\n",
      "building tree 114 of 150\n",
      "building tree 115 of 150\n",
      "building tree 116 of 150\n",
      "building tree 117 of 150\n",
      "building tree 118 of 150\n",
      "building tree 119 of 150\n",
      "building tree 120 of 150\n",
      "building tree 121 of 150\n",
      "building tree 122 of 150\n",
      "building tree 123 of 150\n",
      "building tree 124 of 150\n",
      "building tree 125 of 150\n",
      "building tree 126 of 150\n",
      "building tree 127 of 150\n",
      "building tree 128 of 150\n",
      "building tree 129 of 150\n",
      "building tree 130 of 150\n",
      "building tree 131 of 150\n",
      "building tree 132 of 150\n",
      "building tree 133 of 150\n",
      "building tree 134 of 150\n",
      "building tree 135 of 150\n",
      "building tree 136 of 150\n",
      "building tree 137 of 150\n",
      "building tree 138 of 150\n",
      "building tree 139 of 150\n",
      "building tree 140 of 150\n",
      "building tree 141 of 150\n",
      "building tree 142 of 150\n",
      "building tree 143 of 150\n",
      "building tree 144 of 150\n",
      "building tree 145 of 150\n",
      "building tree 146 of 150\n",
      "building tree 147 of 150\n",
      "building tree 148 of 150\n",
      "building tree 149 of 150\n",
      "building tree 150 of 150\n",
      "[Parallel(n_jobs=1)]: Done 150 out of 150 | elapsed:   18.1s finished\n",
      "Using ThreadingBackend as joblib.Parallel backend instead of LokyBackend as the latter does not provide shared memory semantics.\n",
      "[Parallel(n_jobs=1)]: Using backend SequentialBackend with 1 concurrent workers.\n",
      "[Parallel(n_jobs=1)]: Done   1 out of   1 | elapsed:    0.0s remaining:    0.0s\n",
      "[Parallel(n_jobs=1)]: Done   2 out of   2 | elapsed:    0.0s remaining:    0.0s\n",
      "[Parallel(n_jobs=1)]: Done   3 out of   3 | elapsed:    0.0s remaining:    0.0s\n",
      "[Parallel(n_jobs=1)]: Done   4 out of   4 | elapsed:    0.0s remaining:    0.0s\n",
      "[Parallel(n_jobs=1)]: Done   5 out of   5 | elapsed:    0.0s remaining:    0.0s\n",
      "[Parallel(n_jobs=1)]: Done   6 out of   6 | elapsed:    0.0s remaining:    0.0s\n",
      "[Parallel(n_jobs=1)]: Done   7 out of   7 | elapsed:    0.0s remaining:    0.0s\n",
      "[Parallel(n_jobs=1)]: Done   8 out of   8 | elapsed:    0.0s remaining:    0.0s\n",
      "[Parallel(n_jobs=1)]: Done   9 out of   9 | elapsed:    0.0s remaining:    0.0s\n",
      "[Parallel(n_jobs=1)]: Done  10 out of  10 | elapsed:    0.0s remaining:    0.0s\n",
      "[Parallel(n_jobs=1)]: Done  11 out of  11 | elapsed:    0.0s remaining:    0.0s\n",
      "[Parallel(n_jobs=1)]: Done  12 out of  12 | elapsed:    0.0s remaining:    0.0s\n",
      "[Parallel(n_jobs=1)]: Done  13 out of  13 | elapsed:    0.0s remaining:    0.0s\n",
      "[Parallel(n_jobs=1)]: Done  14 out of  14 | elapsed:    0.0s remaining:    0.0s\n",
      "[Parallel(n_jobs=1)]: Done  15 out of  15 | elapsed:    0.0s remaining:    0.0s\n",
      "[Parallel(n_jobs=1)]: Done  16 out of  16 | elapsed:    0.0s remaining:    0.0s\n",
      "[Parallel(n_jobs=1)]: Done  17 out of  17 | elapsed:    0.0s remaining:    0.0s\n",
      "[Parallel(n_jobs=1)]: Done  18 out of  18 | elapsed:    0.0s remaining:    0.0s\n",
      "[Parallel(n_jobs=1)]: Done  19 out of  19 | elapsed:    0.0s remaining:    0.0s\n",
      "[Parallel(n_jobs=1)]: Done  20 out of  20 | elapsed:    0.0s remaining:    0.0s\n",
      "[Parallel(n_jobs=1)]: Done  21 out of  21 | elapsed:    0.0s remaining:    0.0s\n",
      "[Parallel(n_jobs=1)]: Done  22 out of  22 | elapsed:    0.0s remaining:    0.0s\n",
      "[Parallel(n_jobs=1)]: Done  23 out of  23 | elapsed:    0.0s remaining:    0.0s\n",
      "[Parallel(n_jobs=1)]: Done  24 out of  24 | elapsed:    0.0s remaining:    0.0s\n",
      "[Parallel(n_jobs=1)]: Done  25 out of  25 | elapsed:    0.0s remaining:    0.0s\n",
      "[Parallel(n_jobs=1)]: Done  26 out of  26 | elapsed:    0.0s remaining:    0.0s\n",
      "[Parallel(n_jobs=1)]: Done  27 out of  27 | elapsed:    0.0s remaining:    0.0s\n",
      "[Parallel(n_jobs=1)]: Done  28 out of  28 | elapsed:    0.0s remaining:    0.0s\n",
      "[Parallel(n_jobs=1)]: Done  29 out of  29 | elapsed:    0.0s remaining:    0.0s\n",
      "[Parallel(n_jobs=1)]: Done  30 out of  30 | elapsed:    0.0s remaining:    0.0s\n",
      "[Parallel(n_jobs=1)]: Done  31 out of  31 | elapsed:    0.0s remaining:    0.0s\n",
      "[Parallel(n_jobs=1)]: Done  32 out of  32 | elapsed:    0.0s remaining:    0.0s\n",
      "[Parallel(n_jobs=1)]: Done  33 out of  33 | elapsed:    0.0s remaining:    0.0s\n",
      "[Parallel(n_jobs=1)]: Done  34 out of  34 | elapsed:    0.0s remaining:    0.0s\n",
      "[Parallel(n_jobs=1)]: Done  35 out of  35 | elapsed:    0.0s remaining:    0.0s\n",
      "[Parallel(n_jobs=1)]: Done  36 out of  36 | elapsed:    0.0s remaining:    0.0s\n",
      "[Parallel(n_jobs=1)]: Done  37 out of  37 | elapsed:    0.0s remaining:    0.0s\n",
      "[Parallel(n_jobs=1)]: Done  38 out of  38 | elapsed:    0.0s remaining:    0.0s\n",
      "[Parallel(n_jobs=1)]: Done  39 out of  39 | elapsed:    0.1s remaining:    0.0s\n",
      "[Parallel(n_jobs=1)]: Done  40 out of  40 | elapsed:    0.1s remaining:    0.0s\n",
      "[Parallel(n_jobs=1)]: Done  41 out of  41 | elapsed:    0.1s remaining:    0.0s\n",
      "[Parallel(n_jobs=1)]: Done  42 out of  42 | elapsed:    0.1s remaining:    0.0s\n",
      "[Parallel(n_jobs=1)]: Done  43 out of  43 | elapsed:    0.1s remaining:    0.0s\n",
      "[Parallel(n_jobs=1)]: Done  44 out of  44 | elapsed:    0.1s remaining:    0.0s\n",
      "[Parallel(n_jobs=1)]: Done  45 out of  45 | elapsed:    0.1s remaining:    0.0s\n",
      "[Parallel(n_jobs=1)]: Done  46 out of  46 | elapsed:    0.1s remaining:    0.0s\n",
      "[Parallel(n_jobs=1)]: Done  47 out of  47 | elapsed:    0.1s remaining:    0.0s\n",
      "[Parallel(n_jobs=1)]: Done  48 out of  48 | elapsed:    0.1s remaining:    0.0s\n",
      "[Parallel(n_jobs=1)]: Done  49 out of  49 | elapsed:    0.1s remaining:    0.0s\n",
      "[Parallel(n_jobs=1)]: Done 150 out of 150 | elapsed:    0.2s finished\n",
      "[Parallel(n_jobs=1)]: Using backend SequentialBackend with 1 concurrent workers.\n",
      "building tree 1 of 150\n",
      "[Parallel(n_jobs=1)]: Done   1 out of   1 | elapsed:    0.1s remaining:    0.0s\n",
      "building tree 2 of 150\n",
      "[Parallel(n_jobs=1)]: Done   2 out of   2 | elapsed:    0.3s remaining:    0.0s\n",
      "building tree 3 of 150\n",
      "[Parallel(n_jobs=1)]: Done   3 out of   3 | elapsed:    0.4s remaining:    0.0s\n",
      "building tree 4 of 150\n",
      "[Parallel(n_jobs=1)]: Done   4 out of   4 | elapsed:    0.5s remaining:    0.0s\n",
      "building tree 5 of 150\n",
      "[Parallel(n_jobs=1)]: Done   5 out of   5 | elapsed:    0.7s remaining:    0.0s\n",
      "building tree 6 of 150\n",
      "[Parallel(n_jobs=1)]: Done   6 out of   6 | elapsed:    0.8s remaining:    0.0s\n",
      "building tree 7 of 150\n",
      "[Parallel(n_jobs=1)]: Done   7 out of   7 | elapsed:    0.9s remaining:    0.0s\n",
      "building tree 8 of 150\n",
      "[Parallel(n_jobs=1)]: Done   8 out of   8 | elapsed:    1.1s remaining:    0.0s\n",
      "building tree 9 of 150\n",
      "[Parallel(n_jobs=1)]: Done   9 out of   9 | elapsed:    1.2s remaining:    0.0s\n",
      "building tree 10 of 150\n",
      "[Parallel(n_jobs=1)]: Done  10 out of  10 | elapsed:    1.3s remaining:    0.0s\n",
      "building tree 11 of 150\n",
      "[Parallel(n_jobs=1)]: Done  11 out of  11 | elapsed:    1.5s remaining:    0.0s\n",
      "building tree 12 of 150\n",
      "[Parallel(n_jobs=1)]: Done  12 out of  12 | elapsed:    1.6s remaining:    0.0s\n",
      "building tree 13 of 150\n",
      "[Parallel(n_jobs=1)]: Done  13 out of  13 | elapsed:    1.7s remaining:    0.0s\n",
      "building tree 14 of 150\n",
      "[Parallel(n_jobs=1)]: Done  14 out of  14 | elapsed:    1.9s remaining:    0.0s\n",
      "building tree 15 of 150\n",
      "[Parallel(n_jobs=1)]: Done  15 out of  15 | elapsed:    2.0s remaining:    0.0s\n",
      "building tree 16 of 150\n",
      "[Parallel(n_jobs=1)]: Done  16 out of  16 | elapsed:    2.1s remaining:    0.0s\n",
      "building tree 17 of 150\n",
      "[Parallel(n_jobs=1)]: Done  17 out of  17 | elapsed:    2.3s remaining:    0.0s\n",
      "building tree 18 of 150\n",
      "[Parallel(n_jobs=1)]: Done  18 out of  18 | elapsed:    2.4s remaining:    0.0s\n",
      "building tree 19 of 150\n",
      "[Parallel(n_jobs=1)]: Done  19 out of  19 | elapsed:    2.5s remaining:    0.0s\n",
      "building tree 20 of 150\n",
      "[Parallel(n_jobs=1)]: Done  20 out of  20 | elapsed:    2.6s remaining:    0.0s\n",
      "building tree 21 of 150\n",
      "[Parallel(n_jobs=1)]: Done  21 out of  21 | elapsed:    2.8s remaining:    0.0s\n",
      "building tree 22 of 150\n",
      "[Parallel(n_jobs=1)]: Done  22 out of  22 | elapsed:    2.9s remaining:    0.0s\n",
      "building tree 23 of 150\n",
      "[Parallel(n_jobs=1)]: Done  23 out of  23 | elapsed:    3.0s remaining:    0.0s\n",
      "building tree 24 of 150\n",
      "[Parallel(n_jobs=1)]: Done  24 out of  24 | elapsed:    3.2s remaining:    0.0s\n",
      "building tree 25 of 150\n",
      "[Parallel(n_jobs=1)]: Done  25 out of  25 | elapsed:    3.3s remaining:    0.0s\n",
      "building tree 26 of 150\n",
      "[Parallel(n_jobs=1)]: Done  26 out of  26 | elapsed:    3.4s remaining:    0.0s\n",
      "building tree 27 of 150\n",
      "[Parallel(n_jobs=1)]: Done  27 out of  27 | elapsed:    3.5s remaining:    0.0s\n",
      "building tree 28 of 150\n",
      "[Parallel(n_jobs=1)]: Done  28 out of  28 | elapsed:    3.6s remaining:    0.0s\n",
      "building tree 29 of 150\n",
      "[Parallel(n_jobs=1)]: Done  29 out of  29 | elapsed:    3.7s remaining:    0.0s\n",
      "building tree 30 of 150\n",
      "[Parallel(n_jobs=1)]: Done  30 out of  30 | elapsed:    3.9s remaining:    0.0s\n",
      "building tree 31 of 150\n",
      "[Parallel(n_jobs=1)]: Done  31 out of  31 | elapsed:    4.0s remaining:    0.0s\n",
      "building tree 32 of 150\n",
      "[Parallel(n_jobs=1)]: Done  32 out of  32 | elapsed:    4.2s remaining:    0.0s\n",
      "building tree 33 of 150\n",
      "[Parallel(n_jobs=1)]: Done  33 out of  33 | elapsed:    4.3s remaining:    0.0s\n",
      "building tree 34 of 150\n",
      "[Parallel(n_jobs=1)]: Done  34 out of  34 | elapsed:    4.4s remaining:    0.0s\n",
      "building tree 35 of 150\n",
      "[Parallel(n_jobs=1)]: Done  35 out of  35 | elapsed:    4.5s remaining:    0.0s\n",
      "building tree 36 of 150\n",
      "[Parallel(n_jobs=1)]: Done  36 out of  36 | elapsed:    4.6s remaining:    0.0s\n",
      "building tree 37 of 150\n",
      "[Parallel(n_jobs=1)]: Done  37 out of  37 | elapsed:    4.7s remaining:    0.0s\n",
      "building tree 38 of 150\n",
      "[Parallel(n_jobs=1)]: Done  38 out of  38 | elapsed:    4.9s remaining:    0.0s\n",
      "building tree 39 of 150\n",
      "[Parallel(n_jobs=1)]: Done  39 out of  39 | elapsed:    5.0s remaining:    0.0s\n",
      "building tree 40 of 150\n",
      "[Parallel(n_jobs=1)]: Done  40 out of  40 | elapsed:    5.1s remaining:    0.0s\n",
      "building tree 41 of 150\n",
      "[Parallel(n_jobs=1)]: Done  41 out of  41 | elapsed:    5.3s remaining:    0.0s\n",
      "building tree 42 of 150\n",
      "[Parallel(n_jobs=1)]: Done  42 out of  42 | elapsed:    5.4s remaining:    0.0s\n",
      "building tree 43 of 150\n",
      "[Parallel(n_jobs=1)]: Done  43 out of  43 | elapsed:    5.5s remaining:    0.0s\n",
      "building tree 44 of 150\n",
      "[Parallel(n_jobs=1)]: Done  44 out of  44 | elapsed:    5.6s remaining:    0.0s\n",
      "building tree 45 of 150\n",
      "[Parallel(n_jobs=1)]: Done  45 out of  45 | elapsed:    5.7s remaining:    0.0s\n",
      "building tree 46 of 150\n",
      "[Parallel(n_jobs=1)]: Done  46 out of  46 | elapsed:    5.8s remaining:    0.0s\n",
      "building tree 47 of 150\n",
      "[Parallel(n_jobs=1)]: Done  47 out of  47 | elapsed:    6.0s remaining:    0.0s\n",
      "building tree 48 of 150\n",
      "[Parallel(n_jobs=1)]: Done  48 out of  48 | elapsed:    6.1s remaining:    0.0s\n",
      "building tree 49 of 150\n",
      "[Parallel(n_jobs=1)]: Done  49 out of  49 | elapsed:    6.2s remaining:    0.0s\n",
      "building tree 50 of 150\n",
      "building tree 51 of 150\n",
      "building tree 52 of 150\n",
      "building tree 53 of 150\n",
      "building tree 54 of 150\n",
      "building tree 55 of 150\n",
      "building tree 56 of 150\n",
      "building tree 57 of 150\n",
      "building tree 58 of 150\n",
      "building tree 59 of 150\n",
      "building tree 60 of 150\n",
      "building tree 61 of 150\n",
      "building tree 62 of 150\n",
      "building tree 63 of 150\n",
      "building tree 64 of 150\n",
      "building tree 65 of 150\n",
      "building tree 66 of 150\n",
      "building tree 67 of 150\n",
      "building tree 68 of 150\n",
      "building tree 69 of 150\n",
      "building tree 70 of 150\n",
      "building tree 71 of 150\n",
      "building tree 72 of 150\n",
      "building tree 73 of 150\n",
      "building tree 74 of 150\n",
      "building tree 75 of 150\n",
      "building tree 76 of 150\n",
      "building tree 77 of 150\n",
      "building tree 78 of 150\n",
      "building tree 79 of 150\n",
      "building tree 80 of 150\n",
      "building tree 81 of 150\n",
      "building tree 82 of 150\n",
      "building tree 83 of 150\n",
      "building tree 84 of 150\n",
      "building tree 85 of 150\n",
      "building tree 86 of 150\n",
      "building tree 87 of 150\n",
      "building tree 88 of 150\n",
      "building tree 89 of 150\n",
      "building tree 90 of 150\n",
      "building tree 91 of 150\n",
      "building tree 92 of 150\n",
      "building tree 93 of 150\n",
      "building tree 94 of 150\n",
      "building tree 95 of 150\n",
      "building tree 96 of 150\n",
      "building tree 97 of 150\n",
      "building tree 98 of 150\n",
      "building tree 99 of 150\n",
      "building tree 100 of 150\n",
      "building tree 101 of 150\n",
      "building tree 102 of 150\n",
      "building tree 103 of 150\n",
      "building tree 104 of 150\n",
      "building tree 105 of 150\n",
      "building tree 106 of 150\n",
      "building tree 107 of 150\n",
      "building tree 108 of 150\n",
      "building tree 109 of 150\n",
      "building tree 110 of 150\n",
      "building tree 111 of 150\n",
      "building tree 112 of 150\n",
      "building tree 113 of 150\n",
      "building tree 114 of 150\n",
      "building tree 115 of 150\n",
      "building tree 116 of 150\n",
      "building tree 117 of 150\n",
      "building tree 118 of 150\n",
      "building tree 119 of 150\n",
      "building tree 120 of 150\n",
      "building tree 121 of 150\n",
      "building tree 122 of 150\n",
      "building tree 123 of 150\n",
      "building tree 124 of 150\n",
      "building tree 125 of 150\n",
      "building tree 126 of 150\n",
      "building tree 127 of 150\n",
      "building tree 128 of 150\n",
      "building tree 129 of 150\n",
      "building tree 130 of 150\n",
      "building tree 131 of 150\n",
      "building tree 132 of 150\n",
      "building tree 133 of 150\n",
      "building tree 134 of 150\n",
      "building tree 135 of 150\n",
      "building tree 136 of 150\n",
      "building tree 137 of 150\n",
      "building tree 138 of 150\n",
      "building tree 139 of 150\n",
      "building tree 140 of 150\n",
      "building tree 141 of 150\n",
      "building tree 142 of 150\n",
      "building tree 143 of 150\n",
      "building tree 144 of 150\n",
      "building tree 145 of 150\n",
      "building tree 146 of 150\n",
      "building tree 147 of 150\n",
      "building tree 148 of 150\n",
      "building tree 149 of 150\n",
      "building tree 150 of 150\n",
      "[Parallel(n_jobs=1)]: Done 150 out of 150 | elapsed:   18.3s finished\n",
      "Using ThreadingBackend as joblib.Parallel backend instead of LokyBackend as the latter does not provide shared memory semantics.\n",
      "[Parallel(n_jobs=1)]: Using backend SequentialBackend with 1 concurrent workers.\n",
      "[Parallel(n_jobs=1)]: Done   1 out of   1 | elapsed:    0.0s remaining:    0.0s\n",
      "[Parallel(n_jobs=1)]: Done   2 out of   2 | elapsed:    0.0s remaining:    0.0s\n",
      "[Parallel(n_jobs=1)]: Done   3 out of   3 | elapsed:    0.0s remaining:    0.0s\n",
      "[Parallel(n_jobs=1)]: Done   4 out of   4 | elapsed:    0.0s remaining:    0.0s\n",
      "[Parallel(n_jobs=1)]: Done   5 out of   5 | elapsed:    0.0s remaining:    0.0s\n",
      "[Parallel(n_jobs=1)]: Done   6 out of   6 | elapsed:    0.0s remaining:    0.0s\n",
      "[Parallel(n_jobs=1)]: Done   7 out of   7 | elapsed:    0.0s remaining:    0.0s\n",
      "[Parallel(n_jobs=1)]: Done   8 out of   8 | elapsed:    0.0s remaining:    0.0s\n",
      "[Parallel(n_jobs=1)]: Done   9 out of   9 | elapsed:    0.0s remaining:    0.0s\n",
      "[Parallel(n_jobs=1)]: Done  10 out of  10 | elapsed:    0.0s remaining:    0.0s\n",
      "[Parallel(n_jobs=1)]: Done  11 out of  11 | elapsed:    0.0s remaining:    0.0s\n",
      "[Parallel(n_jobs=1)]: Done  12 out of  12 | elapsed:    0.0s remaining:    0.0s\n",
      "[Parallel(n_jobs=1)]: Done  13 out of  13 | elapsed:    0.0s remaining:    0.0s\n",
      "[Parallel(n_jobs=1)]: Done  14 out of  14 | elapsed:    0.0s remaining:    0.0s\n",
      "[Parallel(n_jobs=1)]: Done  15 out of  15 | elapsed:    0.0s remaining:    0.0s\n",
      "[Parallel(n_jobs=1)]: Done  16 out of  16 | elapsed:    0.0s remaining:    0.0s\n",
      "[Parallel(n_jobs=1)]: Done  17 out of  17 | elapsed:    0.0s remaining:    0.0s\n",
      "[Parallel(n_jobs=1)]: Done  18 out of  18 | elapsed:    0.0s remaining:    0.0s\n",
      "[Parallel(n_jobs=1)]: Done  19 out of  19 | elapsed:    0.0s remaining:    0.0s\n",
      "[Parallel(n_jobs=1)]: Done  20 out of  20 | elapsed:    0.0s remaining:    0.0s\n",
      "[Parallel(n_jobs=1)]: Done  21 out of  21 | elapsed:    0.0s remaining:    0.0s\n",
      "[Parallel(n_jobs=1)]: Done  22 out of  22 | elapsed:    0.0s remaining:    0.0s\n",
      "[Parallel(n_jobs=1)]: Done  23 out of  23 | elapsed:    0.0s remaining:    0.0s\n",
      "[Parallel(n_jobs=1)]: Done  24 out of  24 | elapsed:    0.0s remaining:    0.0s\n",
      "[Parallel(n_jobs=1)]: Done  25 out of  25 | elapsed:    0.0s remaining:    0.0s\n",
      "[Parallel(n_jobs=1)]: Done  26 out of  26 | elapsed:    0.0s remaining:    0.0s\n",
      "[Parallel(n_jobs=1)]: Done  27 out of  27 | elapsed:    0.0s remaining:    0.0s\n",
      "[Parallel(n_jobs=1)]: Done  28 out of  28 | elapsed:    0.0s remaining:    0.0s\n",
      "[Parallel(n_jobs=1)]: Done  29 out of  29 | elapsed:    0.0s remaining:    0.0s\n",
      "[Parallel(n_jobs=1)]: Done  30 out of  30 | elapsed:    0.0s remaining:    0.0s\n",
      "[Parallel(n_jobs=1)]: Done  31 out of  31 | elapsed:    0.0s remaining:    0.0s\n",
      "[Parallel(n_jobs=1)]: Done  32 out of  32 | elapsed:    0.0s remaining:    0.0s\n",
      "[Parallel(n_jobs=1)]: Done  33 out of  33 | elapsed:    0.0s remaining:    0.0s\n",
      "[Parallel(n_jobs=1)]: Done  34 out of  34 | elapsed:    0.0s remaining:    0.0s\n",
      "[Parallel(n_jobs=1)]: Done  35 out of  35 | elapsed:    0.0s remaining:    0.0s\n",
      "[Parallel(n_jobs=1)]: Done  36 out of  36 | elapsed:    0.0s remaining:    0.0s\n",
      "[Parallel(n_jobs=1)]: Done  37 out of  37 | elapsed:    0.0s remaining:    0.0s\n",
      "[Parallel(n_jobs=1)]: Done  38 out of  38 | elapsed:    0.0s remaining:    0.0s\n",
      "[Parallel(n_jobs=1)]: Done  39 out of  39 | elapsed:    0.1s remaining:    0.0s\n",
      "[Parallel(n_jobs=1)]: Done  40 out of  40 | elapsed:    0.1s remaining:    0.0s\n",
      "[Parallel(n_jobs=1)]: Done  41 out of  41 | elapsed:    0.1s remaining:    0.0s\n",
      "[Parallel(n_jobs=1)]: Done  42 out of  42 | elapsed:    0.1s remaining:    0.0s\n",
      "[Parallel(n_jobs=1)]: Done  43 out of  43 | elapsed:    0.1s remaining:    0.0s\n",
      "[Parallel(n_jobs=1)]: Done  44 out of  44 | elapsed:    0.1s remaining:    0.0s\n",
      "[Parallel(n_jobs=1)]: Done  45 out of  45 | elapsed:    0.1s remaining:    0.0s\n",
      "[Parallel(n_jobs=1)]: Done  46 out of  46 | elapsed:    0.1s remaining:    0.0s\n",
      "[Parallel(n_jobs=1)]: Done  47 out of  47 | elapsed:    0.1s remaining:    0.0s\n",
      "[Parallel(n_jobs=1)]: Done  48 out of  48 | elapsed:    0.1s remaining:    0.0s\n",
      "[Parallel(n_jobs=1)]: Done  49 out of  49 | elapsed:    0.1s remaining:    0.0s\n",
      "[Parallel(n_jobs=1)]: Done 150 out of 150 | elapsed:    0.2s finished\n",
      "[Parallel(n_jobs=1)]: Using backend SequentialBackend with 1 concurrent workers.\n",
      "building tree 1 of 50\n",
      "[Parallel(n_jobs=1)]: Done   1 out of   1 | elapsed:    0.2s remaining:    0.0s\n",
      "building tree 2 of 50\n",
      "[Parallel(n_jobs=1)]: Done   2 out of   2 | elapsed:    0.5s remaining:    0.0s\n",
      "building tree 3 of 50\n",
      "[Parallel(n_jobs=1)]: Done   3 out of   3 | elapsed:    0.8s remaining:    0.0s\n",
      "building tree 4 of 50\n",
      "[Parallel(n_jobs=1)]: Done   4 out of   4 | elapsed:    1.1s remaining:    0.0s\n",
      "building tree 5 of 50\n",
      "[Parallel(n_jobs=1)]: Done   5 out of   5 | elapsed:    1.3s remaining:    0.0s\n",
      "building tree 6 of 50\n",
      "[Parallel(n_jobs=1)]: Done   6 out of   6 | elapsed:    1.6s remaining:    0.0s\n",
      "building tree 7 of 50\n",
      "[Parallel(n_jobs=1)]: Done   7 out of   7 | elapsed:    1.8s remaining:    0.0s\n",
      "building tree 8 of 50\n",
      "[Parallel(n_jobs=1)]: Done   8 out of   8 | elapsed:    2.1s remaining:    0.0s\n",
      "building tree 9 of 50\n",
      "[Parallel(n_jobs=1)]: Done   9 out of   9 | elapsed:    2.3s remaining:    0.0s\n",
      "building tree 10 of 50\n",
      "[Parallel(n_jobs=1)]: Done  10 out of  10 | elapsed:    2.6s remaining:    0.0s\n",
      "building tree 11 of 50\n",
      "[Parallel(n_jobs=1)]: Done  11 out of  11 | elapsed:    2.8s remaining:    0.0s\n",
      "building tree 12 of 50\n",
      "[Parallel(n_jobs=1)]: Done  12 out of  12 | elapsed:    3.1s remaining:    0.0s\n",
      "building tree 13 of 50\n",
      "[Parallel(n_jobs=1)]: Done  13 out of  13 | elapsed:    3.3s remaining:    0.0s\n",
      "building tree 14 of 50\n",
      "[Parallel(n_jobs=1)]: Done  14 out of  14 | elapsed:    3.6s remaining:    0.0s\n",
      "building tree 15 of 50\n",
      "[Parallel(n_jobs=1)]: Done  15 out of  15 | elapsed:    3.8s remaining:    0.0s\n",
      "building tree 16 of 50\n",
      "[Parallel(n_jobs=1)]: Done  16 out of  16 | elapsed:    4.0s remaining:    0.0s\n",
      "building tree 17 of 50\n",
      "[Parallel(n_jobs=1)]: Done  17 out of  17 | elapsed:    4.3s remaining:    0.0s\n",
      "building tree 18 of 50\n",
      "[Parallel(n_jobs=1)]: Done  18 out of  18 | elapsed:    4.5s remaining:    0.0s\n",
      "building tree 19 of 50\n",
      "[Parallel(n_jobs=1)]: Done  19 out of  19 | elapsed:    4.8s remaining:    0.0s\n",
      "building tree 20 of 50\n",
      "[Parallel(n_jobs=1)]: Done  20 out of  20 | elapsed:    5.0s remaining:    0.0s\n",
      "building tree 21 of 50\n",
      "[Parallel(n_jobs=1)]: Done  21 out of  21 | elapsed:    5.2s remaining:    0.0s\n",
      "building tree 22 of 50\n",
      "[Parallel(n_jobs=1)]: Done  22 out of  22 | elapsed:    5.5s remaining:    0.0s\n",
      "building tree 23 of 50\n",
      "[Parallel(n_jobs=1)]: Done  23 out of  23 | elapsed:    5.8s remaining:    0.0s\n",
      "building tree 24 of 50\n",
      "[Parallel(n_jobs=1)]: Done  24 out of  24 | elapsed:    6.0s remaining:    0.0s\n",
      "building tree 25 of 50\n",
      "[Parallel(n_jobs=1)]: Done  25 out of  25 | elapsed:    6.2s remaining:    0.0s\n",
      "building tree 26 of 50\n",
      "[Parallel(n_jobs=1)]: Done  26 out of  26 | elapsed:    6.5s remaining:    0.0s\n",
      "building tree 27 of 50\n",
      "[Parallel(n_jobs=1)]: Done  27 out of  27 | elapsed:    6.7s remaining:    0.0s\n",
      "building tree 28 of 50\n",
      "[Parallel(n_jobs=1)]: Done  28 out of  28 | elapsed:    6.9s remaining:    0.0s\n",
      "building tree 29 of 50\n",
      "[Parallel(n_jobs=1)]: Done  29 out of  29 | elapsed:    7.2s remaining:    0.0s\n",
      "building tree 30 of 50\n",
      "[Parallel(n_jobs=1)]: Done  30 out of  30 | elapsed:    7.4s remaining:    0.0s\n",
      "building tree 31 of 50\n",
      "[Parallel(n_jobs=1)]: Done  31 out of  31 | elapsed:    7.6s remaining:    0.0s\n",
      "building tree 32 of 50\n",
      "[Parallel(n_jobs=1)]: Done  32 out of  32 | elapsed:    7.9s remaining:    0.0s\n",
      "building tree 33 of 50\n",
      "[Parallel(n_jobs=1)]: Done  33 out of  33 | elapsed:    8.1s remaining:    0.0s\n",
      "building tree 34 of 50\n",
      "[Parallel(n_jobs=1)]: Done  34 out of  34 | elapsed:    8.3s remaining:    0.0s\n",
      "building tree 35 of 50\n",
      "[Parallel(n_jobs=1)]: Done  35 out of  35 | elapsed:    8.6s remaining:    0.0s\n",
      "building tree 36 of 50\n",
      "[Parallel(n_jobs=1)]: Done  36 out of  36 | elapsed:    8.8s remaining:    0.0s\n",
      "building tree 37 of 50\n",
      "[Parallel(n_jobs=1)]: Done  37 out of  37 | elapsed:    9.0s remaining:    0.0s\n",
      "building tree 38 of 50\n",
      "[Parallel(n_jobs=1)]: Done  38 out of  38 | elapsed:    9.3s remaining:    0.0s\n",
      "building tree 39 of 50\n",
      "[Parallel(n_jobs=1)]: Done  39 out of  39 | elapsed:    9.5s remaining:    0.0s\n",
      "building tree 40 of 50\n",
      "[Parallel(n_jobs=1)]: Done  40 out of  40 | elapsed:    9.8s remaining:    0.0s\n",
      "building tree 41 of 50\n",
      "[Parallel(n_jobs=1)]: Done  41 out of  41 | elapsed:   10.0s remaining:    0.0s\n",
      "building tree 42 of 50\n",
      "[Parallel(n_jobs=1)]: Done  42 out of  42 | elapsed:   10.2s remaining:    0.0s\n",
      "building tree 43 of 50\n",
      "[Parallel(n_jobs=1)]: Done  43 out of  43 | elapsed:   10.5s remaining:    0.0s\n",
      "building tree 44 of 50\n",
      "[Parallel(n_jobs=1)]: Done  44 out of  44 | elapsed:   10.7s remaining:    0.0s\n",
      "building tree 45 of 50\n",
      "[Parallel(n_jobs=1)]: Done  45 out of  45 | elapsed:   11.0s remaining:    0.0s\n",
      "building tree 46 of 50\n",
      "[Parallel(n_jobs=1)]: Done  46 out of  46 | elapsed:   11.2s remaining:    0.0s\n",
      "building tree 47 of 50\n",
      "[Parallel(n_jobs=1)]: Done  47 out of  47 | elapsed:   11.5s remaining:    0.0s\n",
      "building tree 48 of 50\n",
      "[Parallel(n_jobs=1)]: Done  48 out of  48 | elapsed:   11.7s remaining:    0.0s\n",
      "building tree 49 of 50\n",
      "[Parallel(n_jobs=1)]: Done  49 out of  49 | elapsed:   11.9s remaining:    0.0s\n",
      "building tree 50 of 50\n",
      "[Parallel(n_jobs=1)]: Done  50 out of  50 | elapsed:   12.2s finished\n",
      "Using ThreadingBackend as joblib.Parallel backend instead of LokyBackend as the latter does not provide shared memory semantics.\n",
      "[Parallel(n_jobs=1)]: Using backend SequentialBackend with 1 concurrent workers.\n",
      "[Parallel(n_jobs=1)]: Done   1 out of   1 | elapsed:    0.0s remaining:    0.0s\n",
      "[Parallel(n_jobs=1)]: Done   2 out of   2 | elapsed:    0.0s remaining:    0.0s\n",
      "[Parallel(n_jobs=1)]: Done   3 out of   3 | elapsed:    0.0s remaining:    0.0s\n",
      "[Parallel(n_jobs=1)]: Done   4 out of   4 | elapsed:    0.0s remaining:    0.0s\n",
      "[Parallel(n_jobs=1)]: Done   5 out of   5 | elapsed:    0.0s remaining:    0.0s\n",
      "[Parallel(n_jobs=1)]: Done   6 out of   6 | elapsed:    0.0s remaining:    0.0s\n",
      "[Parallel(n_jobs=1)]: Done   7 out of   7 | elapsed:    0.0s remaining:    0.0s\n",
      "[Parallel(n_jobs=1)]: Done   8 out of   8 | elapsed:    0.0s remaining:    0.0s\n",
      "[Parallel(n_jobs=1)]: Done   9 out of   9 | elapsed:    0.0s remaining:    0.0s\n",
      "[Parallel(n_jobs=1)]: Done  10 out of  10 | elapsed:    0.0s remaining:    0.0s\n",
      "[Parallel(n_jobs=1)]: Done  11 out of  11 | elapsed:    0.0s remaining:    0.0s\n",
      "[Parallel(n_jobs=1)]: Done  12 out of  12 | elapsed:    0.0s remaining:    0.0s\n",
      "[Parallel(n_jobs=1)]: Done  13 out of  13 | elapsed:    0.0s remaining:    0.0s\n",
      "[Parallel(n_jobs=1)]: Done  14 out of  14 | elapsed:    0.0s remaining:    0.0s\n",
      "[Parallel(n_jobs=1)]: Done  15 out of  15 | elapsed:    0.1s remaining:    0.0s\n",
      "[Parallel(n_jobs=1)]: Done  16 out of  16 | elapsed:    0.1s remaining:    0.0s\n",
      "[Parallel(n_jobs=1)]: Done  17 out of  17 | elapsed:    0.1s remaining:    0.0s\n",
      "[Parallel(n_jobs=1)]: Done  18 out of  18 | elapsed:    0.1s remaining:    0.0s\n",
      "[Parallel(n_jobs=1)]: Done  19 out of  19 | elapsed:    0.1s remaining:    0.0s\n",
      "[Parallel(n_jobs=1)]: Done  20 out of  20 | elapsed:    0.1s remaining:    0.0s\n",
      "[Parallel(n_jobs=1)]: Done  21 out of  21 | elapsed:    0.1s remaining:    0.0s\n",
      "[Parallel(n_jobs=1)]: Done  22 out of  22 | elapsed:    0.1s remaining:    0.0s\n",
      "[Parallel(n_jobs=1)]: Done  23 out of  23 | elapsed:    0.1s remaining:    0.0s\n",
      "[Parallel(n_jobs=1)]: Done  24 out of  24 | elapsed:    0.1s remaining:    0.0s\n",
      "[Parallel(n_jobs=1)]: Done  25 out of  25 | elapsed:    0.1s remaining:    0.0s\n",
      "[Parallel(n_jobs=1)]: Done  26 out of  26 | elapsed:    0.1s remaining:    0.0s\n",
      "[Parallel(n_jobs=1)]: Done  27 out of  27 | elapsed:    0.1s remaining:    0.0s\n",
      "[Parallel(n_jobs=1)]: Done  28 out of  28 | elapsed:    0.1s remaining:    0.0s\n",
      "[Parallel(n_jobs=1)]: Done  29 out of  29 | elapsed:    0.1s remaining:    0.0s\n",
      "[Parallel(n_jobs=1)]: Done  30 out of  30 | elapsed:    0.1s remaining:    0.0s\n",
      "[Parallel(n_jobs=1)]: Done  31 out of  31 | elapsed:    0.1s remaining:    0.0s\n",
      "[Parallel(n_jobs=1)]: Done  32 out of  32 | elapsed:    0.1s remaining:    0.0s\n",
      "[Parallel(n_jobs=1)]: Done  33 out of  33 | elapsed:    0.1s remaining:    0.0s\n",
      "[Parallel(n_jobs=1)]: Done  34 out of  34 | elapsed:    0.1s remaining:    0.0s\n",
      "[Parallel(n_jobs=1)]: Done  35 out of  35 | elapsed:    0.1s remaining:    0.0s\n",
      "[Parallel(n_jobs=1)]: Done  36 out of  36 | elapsed:    0.1s remaining:    0.0s\n",
      "[Parallel(n_jobs=1)]: Done  37 out of  37 | elapsed:    0.1s remaining:    0.0s\n",
      "[Parallel(n_jobs=1)]: Done  38 out of  38 | elapsed:    0.1s remaining:    0.0s\n",
      "[Parallel(n_jobs=1)]: Done  39 out of  39 | elapsed:    0.1s remaining:    0.0s\n",
      "[Parallel(n_jobs=1)]: Done  40 out of  40 | elapsed:    0.1s remaining:    0.0s\n",
      "[Parallel(n_jobs=1)]: Done  41 out of  41 | elapsed:    0.1s remaining:    0.0s\n",
      "[Parallel(n_jobs=1)]: Done  42 out of  42 | elapsed:    0.1s remaining:    0.0s\n",
      "[Parallel(n_jobs=1)]: Done  43 out of  43 | elapsed:    0.1s remaining:    0.0s\n",
      "[Parallel(n_jobs=1)]: Done  44 out of  44 | elapsed:    0.1s remaining:    0.0s\n",
      "[Parallel(n_jobs=1)]: Done  45 out of  45 | elapsed:    0.1s remaining:    0.0s\n",
      "[Parallel(n_jobs=1)]: Done  46 out of  46 | elapsed:    0.1s remaining:    0.0s\n",
      "[Parallel(n_jobs=1)]: Done  47 out of  47 | elapsed:    0.2s remaining:    0.0s\n",
      "[Parallel(n_jobs=1)]: Done  48 out of  48 | elapsed:    0.2s remaining:    0.0s\n",
      "[Parallel(n_jobs=1)]: Done  49 out of  49 | elapsed:    0.2s remaining:    0.0s\n",
      "[Parallel(n_jobs=1)]: Done  50 out of  50 | elapsed:    0.2s finished\n",
      "[Parallel(n_jobs=1)]: Using backend SequentialBackend with 1 concurrent workers.\n",
      "building tree 1 of 50\n",
      "[Parallel(n_jobs=1)]: Done   1 out of   1 | elapsed:    0.2s remaining:    0.0s\n",
      "building tree 2 of 50\n",
      "[Parallel(n_jobs=1)]: Done   2 out of   2 | elapsed:    0.5s remaining:    0.0s\n",
      "building tree 3 of 50\n",
      "[Parallel(n_jobs=1)]: Done   3 out of   3 | elapsed:    0.7s remaining:    0.0s\n",
      "building tree 4 of 50\n",
      "[Parallel(n_jobs=1)]: Done   4 out of   4 | elapsed:    0.9s remaining:    0.0s\n",
      "building tree 5 of 50\n",
      "[Parallel(n_jobs=1)]: Done   5 out of   5 | elapsed:    1.2s remaining:    0.0s\n",
      "building tree 6 of 50\n",
      "[Parallel(n_jobs=1)]: Done   6 out of   6 | elapsed:    1.4s remaining:    0.0s\n",
      "building tree 7 of 50\n",
      "[Parallel(n_jobs=1)]: Done   7 out of   7 | elapsed:    1.7s remaining:    0.0s\n",
      "building tree 8 of 50\n",
      "[Parallel(n_jobs=1)]: Done   8 out of   8 | elapsed:    1.9s remaining:    0.0s\n",
      "building tree 9 of 50\n",
      "[Parallel(n_jobs=1)]: Done   9 out of   9 | elapsed:    2.1s remaining:    0.0s\n",
      "building tree 10 of 50\n",
      "[Parallel(n_jobs=1)]: Done  10 out of  10 | elapsed:    2.4s remaining:    0.0s\n",
      "building tree 11 of 50\n",
      "[Parallel(n_jobs=1)]: Done  11 out of  11 | elapsed:    2.6s remaining:    0.0s\n",
      "building tree 12 of 50\n",
      "[Parallel(n_jobs=1)]: Done  12 out of  12 | elapsed:    2.8s remaining:    0.0s\n",
      "building tree 13 of 50\n",
      "[Parallel(n_jobs=1)]: Done  13 out of  13 | elapsed:    3.1s remaining:    0.0s\n",
      "building tree 14 of 50\n",
      "[Parallel(n_jobs=1)]: Done  14 out of  14 | elapsed:    3.4s remaining:    0.0s\n",
      "building tree 15 of 50\n",
      "[Parallel(n_jobs=1)]: Done  15 out of  15 | elapsed:    3.6s remaining:    0.0s\n",
      "building tree 16 of 50\n",
      "[Parallel(n_jobs=1)]: Done  16 out of  16 | elapsed:    3.8s remaining:    0.0s\n",
      "building tree 17 of 50\n",
      "[Parallel(n_jobs=1)]: Done  17 out of  17 | elapsed:    4.1s remaining:    0.0s\n",
      "building tree 18 of 50\n",
      "[Parallel(n_jobs=1)]: Done  18 out of  18 | elapsed:    4.3s remaining:    0.0s\n",
      "building tree 19 of 50\n",
      "[Parallel(n_jobs=1)]: Done  19 out of  19 | elapsed:    4.5s remaining:    0.0s\n",
      "building tree 20 of 50\n",
      "[Parallel(n_jobs=1)]: Done  20 out of  20 | elapsed:    4.8s remaining:    0.0s\n",
      "building tree 21 of 50\n",
      "[Parallel(n_jobs=1)]: Done  21 out of  21 | elapsed:    5.0s remaining:    0.0s\n",
      "building tree 22 of 50\n",
      "[Parallel(n_jobs=1)]: Done  22 out of  22 | elapsed:    5.2s remaining:    0.0s\n",
      "building tree 23 of 50\n",
      "[Parallel(n_jobs=1)]: Done  23 out of  23 | elapsed:    5.5s remaining:    0.0s\n",
      "building tree 24 of 50\n",
      "[Parallel(n_jobs=1)]: Done  24 out of  24 | elapsed:    5.7s remaining:    0.0s\n",
      "building tree 25 of 50\n",
      "[Parallel(n_jobs=1)]: Done  25 out of  25 | elapsed:    5.9s remaining:    0.0s\n",
      "building tree 26 of 50\n",
      "[Parallel(n_jobs=1)]: Done  26 out of  26 | elapsed:    6.1s remaining:    0.0s\n",
      "building tree 27 of 50\n",
      "[Parallel(n_jobs=1)]: Done  27 out of  27 | elapsed:    6.4s remaining:    0.0s\n",
      "building tree 28 of 50\n",
      "[Parallel(n_jobs=1)]: Done  28 out of  28 | elapsed:    6.6s remaining:    0.0s\n",
      "building tree 29 of 50\n",
      "[Parallel(n_jobs=1)]: Done  29 out of  29 | elapsed:    6.9s remaining:    0.0s\n",
      "building tree 30 of 50\n",
      "[Parallel(n_jobs=1)]: Done  30 out of  30 | elapsed:    7.1s remaining:    0.0s\n",
      "building tree 31 of 50\n",
      "[Parallel(n_jobs=1)]: Done  31 out of  31 | elapsed:    7.3s remaining:    0.0s\n",
      "building tree 32 of 50\n",
      "[Parallel(n_jobs=1)]: Done  32 out of  32 | elapsed:    7.6s remaining:    0.0s\n",
      "building tree 33 of 50\n",
      "[Parallel(n_jobs=1)]: Done  33 out of  33 | elapsed:    7.8s remaining:    0.0s\n",
      "building tree 34 of 50\n",
      "[Parallel(n_jobs=1)]: Done  34 out of  34 | elapsed:    8.1s remaining:    0.0s\n",
      "building tree 35 of 50\n",
      "[Parallel(n_jobs=1)]: Done  35 out of  35 | elapsed:    8.3s remaining:    0.0s\n",
      "building tree 36 of 50\n",
      "[Parallel(n_jobs=1)]: Done  36 out of  36 | elapsed:    8.5s remaining:    0.0s\n",
      "building tree 37 of 50\n",
      "[Parallel(n_jobs=1)]: Done  37 out of  37 | elapsed:    8.8s remaining:    0.0s\n",
      "building tree 38 of 50\n",
      "[Parallel(n_jobs=1)]: Done  38 out of  38 | elapsed:    9.0s remaining:    0.0s\n",
      "building tree 39 of 50\n",
      "[Parallel(n_jobs=1)]: Done  39 out of  39 | elapsed:    9.3s remaining:    0.0s\n",
      "building tree 40 of 50\n",
      "[Parallel(n_jobs=1)]: Done  40 out of  40 | elapsed:    9.5s remaining:    0.0s\n",
      "building tree 41 of 50\n",
      "[Parallel(n_jobs=1)]: Done  41 out of  41 | elapsed:    9.7s remaining:    0.0s\n",
      "building tree 42 of 50\n",
      "[Parallel(n_jobs=1)]: Done  42 out of  42 | elapsed:   10.0s remaining:    0.0s\n",
      "building tree 43 of 50\n",
      "[Parallel(n_jobs=1)]: Done  43 out of  43 | elapsed:   10.2s remaining:    0.0s\n",
      "building tree 44 of 50\n",
      "[Parallel(n_jobs=1)]: Done  44 out of  44 | elapsed:   10.5s remaining:    0.0s\n",
      "building tree 45 of 50\n",
      "[Parallel(n_jobs=1)]: Done  45 out of  45 | elapsed:   10.7s remaining:    0.0s\n",
      "building tree 46 of 50\n",
      "[Parallel(n_jobs=1)]: Done  46 out of  46 | elapsed:   10.9s remaining:    0.0s\n",
      "building tree 47 of 50\n",
      "[Parallel(n_jobs=1)]: Done  47 out of  47 | elapsed:   11.2s remaining:    0.0s\n",
      "building tree 48 of 50\n",
      "[Parallel(n_jobs=1)]: Done  48 out of  48 | elapsed:   11.4s remaining:    0.0s\n",
      "building tree 49 of 50\n",
      "[Parallel(n_jobs=1)]: Done  49 out of  49 | elapsed:   11.6s remaining:    0.0s\n",
      "building tree 50 of 50\n",
      "[Parallel(n_jobs=1)]: Done  50 out of  50 | elapsed:   11.9s finished\n",
      "Using ThreadingBackend as joblib.Parallel backend instead of LokyBackend as the latter does not provide shared memory semantics.\n",
      "[Parallel(n_jobs=1)]: Using backend SequentialBackend with 1 concurrent workers.\n",
      "[Parallel(n_jobs=1)]: Done   1 out of   1 | elapsed:    0.0s remaining:    0.0s\n",
      "[Parallel(n_jobs=1)]: Done   2 out of   2 | elapsed:    0.0s remaining:    0.0s\n",
      "[Parallel(n_jobs=1)]: Done   3 out of   3 | elapsed:    0.0s remaining:    0.0s\n",
      "[Parallel(n_jobs=1)]: Done   4 out of   4 | elapsed:    0.0s remaining:    0.0s\n",
      "[Parallel(n_jobs=1)]: Done   5 out of   5 | elapsed:    0.0s remaining:    0.0s\n",
      "[Parallel(n_jobs=1)]: Done   6 out of   6 | elapsed:    0.0s remaining:    0.0s\n",
      "[Parallel(n_jobs=1)]: Done   7 out of   7 | elapsed:    0.0s remaining:    0.0s\n",
      "[Parallel(n_jobs=1)]: Done   8 out of   8 | elapsed:    0.0s remaining:    0.0s\n",
      "[Parallel(n_jobs=1)]: Done   9 out of   9 | elapsed:    0.0s remaining:    0.0s\n",
      "[Parallel(n_jobs=1)]: Done  10 out of  10 | elapsed:    0.0s remaining:    0.0s\n",
      "[Parallel(n_jobs=1)]: Done  11 out of  11 | elapsed:    0.0s remaining:    0.0s\n",
      "[Parallel(n_jobs=1)]: Done  12 out of  12 | elapsed:    0.0s remaining:    0.0s\n",
      "[Parallel(n_jobs=1)]: Done  13 out of  13 | elapsed:    0.0s remaining:    0.0s\n",
      "[Parallel(n_jobs=1)]: Done  14 out of  14 | elapsed:    0.0s remaining:    0.0s\n",
      "[Parallel(n_jobs=1)]: Done  15 out of  15 | elapsed:    0.0s remaining:    0.0s\n",
      "[Parallel(n_jobs=1)]: Done  16 out of  16 | elapsed:    0.0s remaining:    0.0s\n",
      "[Parallel(n_jobs=1)]: Done  17 out of  17 | elapsed:    0.1s remaining:    0.0s\n",
      "[Parallel(n_jobs=1)]: Done  18 out of  18 | elapsed:    0.1s remaining:    0.0s\n",
      "[Parallel(n_jobs=1)]: Done  19 out of  19 | elapsed:    0.1s remaining:    0.0s\n",
      "[Parallel(n_jobs=1)]: Done  20 out of  20 | elapsed:    0.1s remaining:    0.0s\n",
      "[Parallel(n_jobs=1)]: Done  21 out of  21 | elapsed:    0.1s remaining:    0.0s\n",
      "[Parallel(n_jobs=1)]: Done  22 out of  22 | elapsed:    0.1s remaining:    0.0s\n",
      "[Parallel(n_jobs=1)]: Done  23 out of  23 | elapsed:    0.1s remaining:    0.0s\n",
      "[Parallel(n_jobs=1)]: Done  24 out of  24 | elapsed:    0.1s remaining:    0.0s\n",
      "[Parallel(n_jobs=1)]: Done  25 out of  25 | elapsed:    0.1s remaining:    0.0s\n",
      "[Parallel(n_jobs=1)]: Done  26 out of  26 | elapsed:    0.1s remaining:    0.0s\n",
      "[Parallel(n_jobs=1)]: Done  27 out of  27 | elapsed:    0.1s remaining:    0.0s\n",
      "[Parallel(n_jobs=1)]: Done  28 out of  28 | elapsed:    0.1s remaining:    0.0s\n",
      "[Parallel(n_jobs=1)]: Done  29 out of  29 | elapsed:    0.1s remaining:    0.0s\n",
      "[Parallel(n_jobs=1)]: Done  30 out of  30 | elapsed:    0.1s remaining:    0.0s\n",
      "[Parallel(n_jobs=1)]: Done  31 out of  31 | elapsed:    0.1s remaining:    0.0s\n",
      "[Parallel(n_jobs=1)]: Done  32 out of  32 | elapsed:    0.1s remaining:    0.0s\n",
      "[Parallel(n_jobs=1)]: Done  33 out of  33 | elapsed:    0.1s remaining:    0.0s\n",
      "[Parallel(n_jobs=1)]: Done  34 out of  34 | elapsed:    0.1s remaining:    0.0s\n",
      "[Parallel(n_jobs=1)]: Done  35 out of  35 | elapsed:    0.1s remaining:    0.0s\n",
      "[Parallel(n_jobs=1)]: Done  36 out of  36 | elapsed:    0.1s remaining:    0.0s\n",
      "[Parallel(n_jobs=1)]: Done  37 out of  37 | elapsed:    0.1s remaining:    0.0s\n",
      "[Parallel(n_jobs=1)]: Done  38 out of  38 | elapsed:    0.1s remaining:    0.0s\n",
      "[Parallel(n_jobs=1)]: Done  39 out of  39 | elapsed:    0.1s remaining:    0.0s\n",
      "[Parallel(n_jobs=1)]: Done  40 out of  40 | elapsed:    0.1s remaining:    0.0s\n",
      "[Parallel(n_jobs=1)]: Done  41 out of  41 | elapsed:    0.1s remaining:    0.0s\n",
      "[Parallel(n_jobs=1)]: Done  42 out of  42 | elapsed:    0.1s remaining:    0.0s\n",
      "[Parallel(n_jobs=1)]: Done  43 out of  43 | elapsed:    0.1s remaining:    0.0s\n",
      "[Parallel(n_jobs=1)]: Done  44 out of  44 | elapsed:    0.1s remaining:    0.0s\n",
      "[Parallel(n_jobs=1)]: Done  45 out of  45 | elapsed:    0.1s remaining:    0.0s\n",
      "[Parallel(n_jobs=1)]: Done  46 out of  46 | elapsed:    0.1s remaining:    0.0s\n",
      "[Parallel(n_jobs=1)]: Done  47 out of  47 | elapsed:    0.1s remaining:    0.0s\n",
      "[Parallel(n_jobs=1)]: Done  48 out of  48 | elapsed:    0.2s remaining:    0.0s\n",
      "[Parallel(n_jobs=1)]: Done  49 out of  49 | elapsed:    0.2s remaining:    0.0s\n",
      "[Parallel(n_jobs=1)]: Done  50 out of  50 | elapsed:    0.2s finished\n",
      "[Parallel(n_jobs=1)]: Using backend SequentialBackend with 1 concurrent workers.\n",
      "building tree 1 of 50\n",
      "[Parallel(n_jobs=1)]: Done   1 out of   1 | elapsed:    0.2s remaining:    0.0s\n",
      "building tree 2 of 50\n",
      "[Parallel(n_jobs=1)]: Done   2 out of   2 | elapsed:    0.5s remaining:    0.0s\n",
      "building tree 3 of 50\n",
      "[Parallel(n_jobs=1)]: Done   3 out of   3 | elapsed:    0.7s remaining:    0.0s\n",
      "building tree 4 of 50\n",
      "[Parallel(n_jobs=1)]: Done   4 out of   4 | elapsed:    0.9s remaining:    0.0s\n",
      "building tree 5 of 50\n",
      "[Parallel(n_jobs=1)]: Done   5 out of   5 | elapsed:    1.2s remaining:    0.0s\n",
      "building tree 6 of 50\n",
      "[Parallel(n_jobs=1)]: Done   6 out of   6 | elapsed:    1.4s remaining:    0.0s\n",
      "building tree 7 of 50\n",
      "[Parallel(n_jobs=1)]: Done   7 out of   7 | elapsed:    1.7s remaining:    0.0s\n",
      "building tree 8 of 50\n",
      "[Parallel(n_jobs=1)]: Done   8 out of   8 | elapsed:    1.9s remaining:    0.0s\n",
      "building tree 9 of 50\n",
      "[Parallel(n_jobs=1)]: Done   9 out of   9 | elapsed:    2.1s remaining:    0.0s\n",
      "building tree 10 of 50\n",
      "[Parallel(n_jobs=1)]: Done  10 out of  10 | elapsed:    2.4s remaining:    0.0s\n",
      "building tree 11 of 50\n",
      "[Parallel(n_jobs=1)]: Done  11 out of  11 | elapsed:    2.6s remaining:    0.0s\n",
      "building tree 12 of 50\n",
      "[Parallel(n_jobs=1)]: Done  12 out of  12 | elapsed:    2.8s remaining:    0.0s\n",
      "building tree 13 of 50\n",
      "[Parallel(n_jobs=1)]: Done  13 out of  13 | elapsed:    3.1s remaining:    0.0s\n",
      "building tree 14 of 50\n",
      "[Parallel(n_jobs=1)]: Done  14 out of  14 | elapsed:    3.3s remaining:    0.0s\n",
      "building tree 15 of 50\n",
      "[Parallel(n_jobs=1)]: Done  15 out of  15 | elapsed:    3.5s remaining:    0.0s\n",
      "building tree 16 of 50\n",
      "[Parallel(n_jobs=1)]: Done  16 out of  16 | elapsed:    3.7s remaining:    0.0s\n",
      "building tree 17 of 50\n",
      "[Parallel(n_jobs=1)]: Done  17 out of  17 | elapsed:    4.0s remaining:    0.0s\n",
      "building tree 18 of 50\n",
      "[Parallel(n_jobs=1)]: Done  18 out of  18 | elapsed:    4.2s remaining:    0.0s\n",
      "building tree 19 of 50\n",
      "[Parallel(n_jobs=1)]: Done  19 out of  19 | elapsed:    4.4s remaining:    0.0s\n",
      "building tree 20 of 50\n",
      "[Parallel(n_jobs=1)]: Done  20 out of  20 | elapsed:    4.7s remaining:    0.0s\n",
      "building tree 21 of 50\n",
      "[Parallel(n_jobs=1)]: Done  21 out of  21 | elapsed:    4.9s remaining:    0.0s\n",
      "building tree 22 of 50\n",
      "[Parallel(n_jobs=1)]: Done  22 out of  22 | elapsed:    5.1s remaining:    0.0s\n",
      "building tree 23 of 50\n",
      "[Parallel(n_jobs=1)]: Done  23 out of  23 | elapsed:    5.3s remaining:    0.0s\n",
      "building tree 24 of 50\n",
      "[Parallel(n_jobs=1)]: Done  24 out of  24 | elapsed:    5.6s remaining:    0.0s\n",
      "building tree 25 of 50\n",
      "[Parallel(n_jobs=1)]: Done  25 out of  25 | elapsed:    5.8s remaining:    0.0s\n",
      "building tree 26 of 50\n",
      "[Parallel(n_jobs=1)]: Done  26 out of  26 | elapsed:    6.0s remaining:    0.0s\n",
      "building tree 27 of 50\n",
      "[Parallel(n_jobs=1)]: Done  27 out of  27 | elapsed:    6.3s remaining:    0.0s\n",
      "building tree 28 of 50\n",
      "[Parallel(n_jobs=1)]: Done  28 out of  28 | elapsed:    6.5s remaining:    0.0s\n",
      "building tree 29 of 50\n",
      "[Parallel(n_jobs=1)]: Done  29 out of  29 | elapsed:    6.8s remaining:    0.0s\n",
      "building tree 30 of 50\n",
      "[Parallel(n_jobs=1)]: Done  30 out of  30 | elapsed:    7.0s remaining:    0.0s\n",
      "building tree 31 of 50\n",
      "[Parallel(n_jobs=1)]: Done  31 out of  31 | elapsed:    7.2s remaining:    0.0s\n",
      "building tree 32 of 50\n",
      "[Parallel(n_jobs=1)]: Done  32 out of  32 | elapsed:    7.5s remaining:    0.0s\n",
      "building tree 33 of 50\n",
      "[Parallel(n_jobs=1)]: Done  33 out of  33 | elapsed:    7.7s remaining:    0.0s\n",
      "building tree 34 of 50\n",
      "[Parallel(n_jobs=1)]: Done  34 out of  34 | elapsed:    7.9s remaining:    0.0s\n",
      "building tree 35 of 50\n",
      "[Parallel(n_jobs=1)]: Done  35 out of  35 | elapsed:    8.2s remaining:    0.0s\n",
      "building tree 36 of 50\n",
      "[Parallel(n_jobs=1)]: Done  36 out of  36 | elapsed:    8.4s remaining:    0.0s\n",
      "building tree 37 of 50\n",
      "[Parallel(n_jobs=1)]: Done  37 out of  37 | elapsed:    8.6s remaining:    0.0s\n",
      "building tree 38 of 50\n",
      "[Parallel(n_jobs=1)]: Done  38 out of  38 | elapsed:    8.9s remaining:    0.0s\n",
      "building tree 39 of 50\n",
      "[Parallel(n_jobs=1)]: Done  39 out of  39 | elapsed:    9.1s remaining:    0.0s\n",
      "building tree 40 of 50\n",
      "[Parallel(n_jobs=1)]: Done  40 out of  40 | elapsed:    9.3s remaining:    0.0s\n",
      "building tree 41 of 50\n",
      "[Parallel(n_jobs=1)]: Done  41 out of  41 | elapsed:    9.6s remaining:    0.0s\n",
      "building tree 42 of 50\n",
      "[Parallel(n_jobs=1)]: Done  42 out of  42 | elapsed:    9.8s remaining:    0.0s\n",
      "building tree 43 of 50\n",
      "[Parallel(n_jobs=1)]: Done  43 out of  43 | elapsed:   10.0s remaining:    0.0s\n",
      "building tree 44 of 50\n",
      "[Parallel(n_jobs=1)]: Done  44 out of  44 | elapsed:   10.3s remaining:    0.0s\n",
      "building tree 45 of 50\n",
      "[Parallel(n_jobs=1)]: Done  45 out of  45 | elapsed:   10.5s remaining:    0.0s\n",
      "building tree 46 of 50\n",
      "[Parallel(n_jobs=1)]: Done  46 out of  46 | elapsed:   10.8s remaining:    0.0s\n",
      "building tree 47 of 50\n",
      "[Parallel(n_jobs=1)]: Done  47 out of  47 | elapsed:   11.0s remaining:    0.0s\n",
      "building tree 48 of 50\n",
      "[Parallel(n_jobs=1)]: Done  48 out of  48 | elapsed:   11.3s remaining:    0.0s\n",
      "building tree 49 of 50\n",
      "[Parallel(n_jobs=1)]: Done  49 out of  49 | elapsed:   11.5s remaining:    0.0s\n",
      "building tree 50 of 50\n",
      "[Parallel(n_jobs=1)]: Done  50 out of  50 | elapsed:   11.7s finished\n",
      "Using ThreadingBackend as joblib.Parallel backend instead of LokyBackend as the latter does not provide shared memory semantics.\n",
      "[Parallel(n_jobs=1)]: Using backend SequentialBackend with 1 concurrent workers.\n",
      "[Parallel(n_jobs=1)]: Done   1 out of   1 | elapsed:    0.0s remaining:    0.0s\n",
      "[Parallel(n_jobs=1)]: Done   2 out of   2 | elapsed:    0.0s remaining:    0.0s\n",
      "[Parallel(n_jobs=1)]: Done   3 out of   3 | elapsed:    0.0s remaining:    0.0s\n",
      "[Parallel(n_jobs=1)]: Done   4 out of   4 | elapsed:    0.0s remaining:    0.0s\n",
      "[Parallel(n_jobs=1)]: Done   5 out of   5 | elapsed:    0.0s remaining:    0.0s\n",
      "[Parallel(n_jobs=1)]: Done   6 out of   6 | elapsed:    0.0s remaining:    0.0s\n",
      "[Parallel(n_jobs=1)]: Done   7 out of   7 | elapsed:    0.0s remaining:    0.0s\n",
      "[Parallel(n_jobs=1)]: Done   8 out of   8 | elapsed:    0.0s remaining:    0.0s\n",
      "[Parallel(n_jobs=1)]: Done   9 out of   9 | elapsed:    0.0s remaining:    0.0s\n",
      "[Parallel(n_jobs=1)]: Done  10 out of  10 | elapsed:    0.0s remaining:    0.0s\n",
      "[Parallel(n_jobs=1)]: Done  11 out of  11 | elapsed:    0.0s remaining:    0.0s\n",
      "[Parallel(n_jobs=1)]: Done  12 out of  12 | elapsed:    0.0s remaining:    0.0s\n",
      "[Parallel(n_jobs=1)]: Done  13 out of  13 | elapsed:    0.0s remaining:    0.0s\n",
      "[Parallel(n_jobs=1)]: Done  14 out of  14 | elapsed:    0.0s remaining:    0.0s\n",
      "[Parallel(n_jobs=1)]: Done  15 out of  15 | elapsed:    0.0s remaining:    0.0s\n",
      "[Parallel(n_jobs=1)]: Done  16 out of  16 | elapsed:    0.1s remaining:    0.0s\n",
      "[Parallel(n_jobs=1)]: Done  17 out of  17 | elapsed:    0.1s remaining:    0.0s\n",
      "[Parallel(n_jobs=1)]: Done  18 out of  18 | elapsed:    0.1s remaining:    0.0s\n",
      "[Parallel(n_jobs=1)]: Done  19 out of  19 | elapsed:    0.1s remaining:    0.0s\n",
      "[Parallel(n_jobs=1)]: Done  20 out of  20 | elapsed:    0.1s remaining:    0.0s\n",
      "[Parallel(n_jobs=1)]: Done  21 out of  21 | elapsed:    0.1s remaining:    0.0s\n",
      "[Parallel(n_jobs=1)]: Done  22 out of  22 | elapsed:    0.1s remaining:    0.0s\n",
      "[Parallel(n_jobs=1)]: Done  23 out of  23 | elapsed:    0.1s remaining:    0.0s\n",
      "[Parallel(n_jobs=1)]: Done  24 out of  24 | elapsed:    0.1s remaining:    0.0s\n",
      "[Parallel(n_jobs=1)]: Done  25 out of  25 | elapsed:    0.1s remaining:    0.0s\n",
      "[Parallel(n_jobs=1)]: Done  26 out of  26 | elapsed:    0.1s remaining:    0.0s\n",
      "[Parallel(n_jobs=1)]: Done  27 out of  27 | elapsed:    0.1s remaining:    0.0s\n",
      "[Parallel(n_jobs=1)]: Done  28 out of  28 | elapsed:    0.1s remaining:    0.0s\n",
      "[Parallel(n_jobs=1)]: Done  29 out of  29 | elapsed:    0.1s remaining:    0.0s\n",
      "[Parallel(n_jobs=1)]: Done  30 out of  30 | elapsed:    0.1s remaining:    0.0s\n",
      "[Parallel(n_jobs=1)]: Done  31 out of  31 | elapsed:    0.1s remaining:    0.0s\n",
      "[Parallel(n_jobs=1)]: Done  32 out of  32 | elapsed:    0.1s remaining:    0.0s\n",
      "[Parallel(n_jobs=1)]: Done  33 out of  33 | elapsed:    0.1s remaining:    0.0s\n",
      "[Parallel(n_jobs=1)]: Done  34 out of  34 | elapsed:    0.1s remaining:    0.0s\n",
      "[Parallel(n_jobs=1)]: Done  35 out of  35 | elapsed:    0.1s remaining:    0.0s\n",
      "[Parallel(n_jobs=1)]: Done  36 out of  36 | elapsed:    0.1s remaining:    0.0s\n",
      "[Parallel(n_jobs=1)]: Done  37 out of  37 | elapsed:    0.1s remaining:    0.0s\n",
      "[Parallel(n_jobs=1)]: Done  38 out of  38 | elapsed:    0.1s remaining:    0.0s\n",
      "[Parallel(n_jobs=1)]: Done  39 out of  39 | elapsed:    0.1s remaining:    0.0s\n",
      "[Parallel(n_jobs=1)]: Done  40 out of  40 | elapsed:    0.1s remaining:    0.0s\n",
      "[Parallel(n_jobs=1)]: Done  41 out of  41 | elapsed:    0.1s remaining:    0.0s\n",
      "[Parallel(n_jobs=1)]: Done  42 out of  42 | elapsed:    0.1s remaining:    0.0s\n",
      "[Parallel(n_jobs=1)]: Done  43 out of  43 | elapsed:    0.1s remaining:    0.0s\n",
      "[Parallel(n_jobs=1)]: Done  44 out of  44 | elapsed:    0.1s remaining:    0.0s\n",
      "[Parallel(n_jobs=1)]: Done  45 out of  45 | elapsed:    0.1s remaining:    0.0s\n",
      "[Parallel(n_jobs=1)]: Done  46 out of  46 | elapsed:    0.2s remaining:    0.0s\n",
      "[Parallel(n_jobs=1)]: Done  47 out of  47 | elapsed:    0.2s remaining:    0.0s\n",
      "[Parallel(n_jobs=1)]: Done  48 out of  48 | elapsed:    0.2s remaining:    0.0s\n",
      "[Parallel(n_jobs=1)]: Done  49 out of  49 | elapsed:    0.2s remaining:    0.0s\n",
      "[Parallel(n_jobs=1)]: Done  50 out of  50 | elapsed:    0.2s finished\n",
      "[Parallel(n_jobs=1)]: Using backend SequentialBackend with 1 concurrent workers.\n",
      "building tree 1 of 50\n",
      "[Parallel(n_jobs=1)]: Done   1 out of   1 | elapsed:    0.2s remaining:    0.0s\n",
      "building tree 2 of 50\n",
      "[Parallel(n_jobs=1)]: Done   2 out of   2 | elapsed:    0.5s remaining:    0.0s\n",
      "building tree 3 of 50\n",
      "[Parallel(n_jobs=1)]: Done   3 out of   3 | elapsed:    0.7s remaining:    0.0s\n",
      "building tree 4 of 50\n",
      "[Parallel(n_jobs=1)]: Done   4 out of   4 | elapsed:    0.9s remaining:    0.0s\n",
      "building tree 5 of 50\n",
      "[Parallel(n_jobs=1)]: Done   5 out of   5 | elapsed:    1.1s remaining:    0.0s\n",
      "building tree 6 of 50\n",
      "[Parallel(n_jobs=1)]: Done   6 out of   6 | elapsed:    1.4s remaining:    0.0s\n",
      "building tree 7 of 50\n",
      "[Parallel(n_jobs=1)]: Done   7 out of   7 | elapsed:    1.6s remaining:    0.0s\n",
      "building tree 8 of 50\n",
      "[Parallel(n_jobs=1)]: Done   8 out of   8 | elapsed:    1.8s remaining:    0.0s\n",
      "building tree 9 of 50\n",
      "[Parallel(n_jobs=1)]: Done   9 out of   9 | elapsed:    2.1s remaining:    0.0s\n",
      "building tree 10 of 50\n",
      "[Parallel(n_jobs=1)]: Done  10 out of  10 | elapsed:    2.3s remaining:    0.0s\n",
      "building tree 11 of 50\n",
      "[Parallel(n_jobs=1)]: Done  11 out of  11 | elapsed:    2.5s remaining:    0.0s\n",
      "building tree 12 of 50\n",
      "[Parallel(n_jobs=1)]: Done  12 out of  12 | elapsed:    2.8s remaining:    0.0s\n",
      "building tree 13 of 50\n",
      "[Parallel(n_jobs=1)]: Done  13 out of  13 | elapsed:    3.0s remaining:    0.0s\n",
      "building tree 14 of 50\n",
      "[Parallel(n_jobs=1)]: Done  14 out of  14 | elapsed:    3.2s remaining:    0.0s\n",
      "building tree 15 of 50\n",
      "[Parallel(n_jobs=1)]: Done  15 out of  15 | elapsed:    3.5s remaining:    0.0s\n",
      "building tree 16 of 50\n",
      "[Parallel(n_jobs=1)]: Done  16 out of  16 | elapsed:    3.7s remaining:    0.0s\n",
      "building tree 17 of 50\n",
      "[Parallel(n_jobs=1)]: Done  17 out of  17 | elapsed:    4.0s remaining:    0.0s\n",
      "building tree 18 of 50\n",
      "[Parallel(n_jobs=1)]: Done  18 out of  18 | elapsed:    4.2s remaining:    0.0s\n",
      "building tree 19 of 50\n",
      "[Parallel(n_jobs=1)]: Done  19 out of  19 | elapsed:    4.4s remaining:    0.0s\n",
      "building tree 20 of 50\n",
      "[Parallel(n_jobs=1)]: Done  20 out of  20 | elapsed:    4.7s remaining:    0.0s\n",
      "building tree 21 of 50\n",
      "[Parallel(n_jobs=1)]: Done  21 out of  21 | elapsed:    4.9s remaining:    0.0s\n",
      "building tree 22 of 50\n",
      "[Parallel(n_jobs=1)]: Done  22 out of  22 | elapsed:    5.1s remaining:    0.0s\n",
      "building tree 23 of 50\n",
      "[Parallel(n_jobs=1)]: Done  23 out of  23 | elapsed:    5.4s remaining:    0.0s\n",
      "building tree 24 of 50\n",
      "[Parallel(n_jobs=1)]: Done  24 out of  24 | elapsed:    5.6s remaining:    0.0s\n",
      "building tree 25 of 50\n",
      "[Parallel(n_jobs=1)]: Done  25 out of  25 | elapsed:    5.9s remaining:    0.0s\n",
      "building tree 26 of 50\n",
      "[Parallel(n_jobs=1)]: Done  26 out of  26 | elapsed:    6.2s remaining:    0.0s\n",
      "building tree 27 of 50\n",
      "[Parallel(n_jobs=1)]: Done  27 out of  27 | elapsed:    6.4s remaining:    0.0s\n",
      "building tree 28 of 50\n",
      "[Parallel(n_jobs=1)]: Done  28 out of  28 | elapsed:    6.6s remaining:    0.0s\n",
      "building tree 29 of 50\n",
      "[Parallel(n_jobs=1)]: Done  29 out of  29 | elapsed:    6.9s remaining:    0.0s\n",
      "building tree 30 of 50\n",
      "[Parallel(n_jobs=1)]: Done  30 out of  30 | elapsed:    7.1s remaining:    0.0s\n",
      "building tree 31 of 50\n",
      "[Parallel(n_jobs=1)]: Done  31 out of  31 | elapsed:    7.4s remaining:    0.0s\n",
      "building tree 32 of 50\n",
      "[Parallel(n_jobs=1)]: Done  32 out of  32 | elapsed:    7.6s remaining:    0.0s\n",
      "building tree 33 of 50\n",
      "[Parallel(n_jobs=1)]: Done  33 out of  33 | elapsed:    7.8s remaining:    0.0s\n",
      "building tree 34 of 50\n",
      "[Parallel(n_jobs=1)]: Done  34 out of  34 | elapsed:    8.1s remaining:    0.0s\n",
      "building tree 35 of 50\n",
      "[Parallel(n_jobs=1)]: Done  35 out of  35 | elapsed:    8.3s remaining:    0.0s\n",
      "building tree 36 of 50\n",
      "[Parallel(n_jobs=1)]: Done  36 out of  36 | elapsed:    8.5s remaining:    0.0s\n",
      "building tree 37 of 50\n",
      "[Parallel(n_jobs=1)]: Done  37 out of  37 | elapsed:    8.8s remaining:    0.0s\n",
      "building tree 38 of 50\n",
      "[Parallel(n_jobs=1)]: Done  38 out of  38 | elapsed:    9.1s remaining:    0.0s\n",
      "building tree 39 of 50\n",
      "[Parallel(n_jobs=1)]: Done  39 out of  39 | elapsed:    9.3s remaining:    0.0s\n",
      "building tree 40 of 50\n",
      "[Parallel(n_jobs=1)]: Done  40 out of  40 | elapsed:    9.6s remaining:    0.0s\n",
      "building tree 41 of 50\n",
      "[Parallel(n_jobs=1)]: Done  41 out of  41 | elapsed:    9.8s remaining:    0.0s\n",
      "building tree 42 of 50\n",
      "[Parallel(n_jobs=1)]: Done  42 out of  42 | elapsed:   10.0s remaining:    0.0s\n",
      "building tree 43 of 50\n",
      "[Parallel(n_jobs=1)]: Done  43 out of  43 | elapsed:   10.3s remaining:    0.0s\n",
      "building tree 44 of 50\n",
      "[Parallel(n_jobs=1)]: Done  44 out of  44 | elapsed:   10.5s remaining:    0.0s\n",
      "building tree 45 of 50\n",
      "[Parallel(n_jobs=1)]: Done  45 out of  45 | elapsed:   10.7s remaining:    0.0s\n",
      "building tree 46 of 50\n",
      "[Parallel(n_jobs=1)]: Done  46 out of  46 | elapsed:   11.0s remaining:    0.0s\n",
      "building tree 47 of 50\n",
      "[Parallel(n_jobs=1)]: Done  47 out of  47 | elapsed:   11.2s remaining:    0.0s\n",
      "building tree 48 of 50\n",
      "[Parallel(n_jobs=1)]: Done  48 out of  48 | elapsed:   11.5s remaining:    0.0s\n",
      "building tree 49 of 50\n",
      "[Parallel(n_jobs=1)]: Done  49 out of  49 | elapsed:   11.7s remaining:    0.0s\n",
      "building tree 50 of 50\n",
      "[Parallel(n_jobs=1)]: Done  50 out of  50 | elapsed:   12.0s finished\n",
      "Using ThreadingBackend as joblib.Parallel backend instead of LokyBackend as the latter does not provide shared memory semantics.\n",
      "[Parallel(n_jobs=1)]: Using backend SequentialBackend with 1 concurrent workers.\n",
      "[Parallel(n_jobs=1)]: Done   1 out of   1 | elapsed:    0.0s remaining:    0.0s\n",
      "[Parallel(n_jobs=1)]: Done   2 out of   2 | elapsed:    0.0s remaining:    0.0s\n",
      "[Parallel(n_jobs=1)]: Done   3 out of   3 | elapsed:    0.0s remaining:    0.0s\n",
      "[Parallel(n_jobs=1)]: Done   4 out of   4 | elapsed:    0.0s remaining:    0.0s\n",
      "[Parallel(n_jobs=1)]: Done   5 out of   5 | elapsed:    0.0s remaining:    0.0s\n",
      "[Parallel(n_jobs=1)]: Done   6 out of   6 | elapsed:    0.0s remaining:    0.0s\n",
      "[Parallel(n_jobs=1)]: Done   7 out of   7 | elapsed:    0.0s remaining:    0.0s\n",
      "[Parallel(n_jobs=1)]: Done   8 out of   8 | elapsed:    0.0s remaining:    0.0s\n",
      "[Parallel(n_jobs=1)]: Done   9 out of   9 | elapsed:    0.0s remaining:    0.0s\n",
      "[Parallel(n_jobs=1)]: Done  10 out of  10 | elapsed:    0.0s remaining:    0.0s\n",
      "[Parallel(n_jobs=1)]: Done  11 out of  11 | elapsed:    0.0s remaining:    0.0s\n",
      "[Parallel(n_jobs=1)]: Done  12 out of  12 | elapsed:    0.0s remaining:    0.0s\n",
      "[Parallel(n_jobs=1)]: Done  13 out of  13 | elapsed:    0.0s remaining:    0.0s\n",
      "[Parallel(n_jobs=1)]: Done  14 out of  14 | elapsed:    0.0s remaining:    0.0s\n",
      "[Parallel(n_jobs=1)]: Done  15 out of  15 | elapsed:    0.1s remaining:    0.0s\n",
      "[Parallel(n_jobs=1)]: Done  16 out of  16 | elapsed:    0.1s remaining:    0.0s\n",
      "[Parallel(n_jobs=1)]: Done  17 out of  17 | elapsed:    0.1s remaining:    0.0s\n",
      "[Parallel(n_jobs=1)]: Done  18 out of  18 | elapsed:    0.1s remaining:    0.0s\n",
      "[Parallel(n_jobs=1)]: Done  19 out of  19 | elapsed:    0.1s remaining:    0.0s\n",
      "[Parallel(n_jobs=1)]: Done  20 out of  20 | elapsed:    0.1s remaining:    0.0s\n",
      "[Parallel(n_jobs=1)]: Done  21 out of  21 | elapsed:    0.1s remaining:    0.0s\n",
      "[Parallel(n_jobs=1)]: Done  22 out of  22 | elapsed:    0.1s remaining:    0.0s\n",
      "[Parallel(n_jobs=1)]: Done  23 out of  23 | elapsed:    0.1s remaining:    0.0s\n",
      "[Parallel(n_jobs=1)]: Done  24 out of  24 | elapsed:    0.1s remaining:    0.0s\n",
      "[Parallel(n_jobs=1)]: Done  25 out of  25 | elapsed:    0.1s remaining:    0.0s\n",
      "[Parallel(n_jobs=1)]: Done  26 out of  26 | elapsed:    0.1s remaining:    0.0s\n",
      "[Parallel(n_jobs=1)]: Done  27 out of  27 | elapsed:    0.1s remaining:    0.0s\n",
      "[Parallel(n_jobs=1)]: Done  28 out of  28 | elapsed:    0.1s remaining:    0.0s\n",
      "[Parallel(n_jobs=1)]: Done  29 out of  29 | elapsed:    0.1s remaining:    0.0s\n",
      "[Parallel(n_jobs=1)]: Done  30 out of  30 | elapsed:    0.1s remaining:    0.0s\n",
      "[Parallel(n_jobs=1)]: Done  31 out of  31 | elapsed:    0.1s remaining:    0.0s\n",
      "[Parallel(n_jobs=1)]: Done  32 out of  32 | elapsed:    0.1s remaining:    0.0s\n",
      "[Parallel(n_jobs=1)]: Done  33 out of  33 | elapsed:    0.1s remaining:    0.0s\n",
      "[Parallel(n_jobs=1)]: Done  34 out of  34 | elapsed:    0.1s remaining:    0.0s\n",
      "[Parallel(n_jobs=1)]: Done  35 out of  35 | elapsed:    0.1s remaining:    0.0s\n",
      "[Parallel(n_jobs=1)]: Done  36 out of  36 | elapsed:    0.1s remaining:    0.0s\n",
      "[Parallel(n_jobs=1)]: Done  37 out of  37 | elapsed:    0.1s remaining:    0.0s\n",
      "[Parallel(n_jobs=1)]: Done  38 out of  38 | elapsed:    0.1s remaining:    0.0s\n",
      "[Parallel(n_jobs=1)]: Done  39 out of  39 | elapsed:    0.1s remaining:    0.0s\n",
      "[Parallel(n_jobs=1)]: Done  40 out of  40 | elapsed:    0.1s remaining:    0.0s\n",
      "[Parallel(n_jobs=1)]: Done  41 out of  41 | elapsed:    0.1s remaining:    0.0s\n",
      "[Parallel(n_jobs=1)]: Done  42 out of  42 | elapsed:    0.1s remaining:    0.0s\n",
      "[Parallel(n_jobs=1)]: Done  43 out of  43 | elapsed:    0.1s remaining:    0.0s\n",
      "[Parallel(n_jobs=1)]: Done  44 out of  44 | elapsed:    0.1s remaining:    0.0s\n",
      "[Parallel(n_jobs=1)]: Done  45 out of  45 | elapsed:    0.1s remaining:    0.0s\n",
      "[Parallel(n_jobs=1)]: Done  46 out of  46 | elapsed:    0.2s remaining:    0.0s\n",
      "[Parallel(n_jobs=1)]: Done  47 out of  47 | elapsed:    0.2s remaining:    0.0s\n",
      "[Parallel(n_jobs=1)]: Done  48 out of  48 | elapsed:    0.2s remaining:    0.0s\n",
      "[Parallel(n_jobs=1)]: Done  49 out of  49 | elapsed:    0.2s remaining:    0.0s\n",
      "[Parallel(n_jobs=1)]: Done  50 out of  50 | elapsed:    0.2s finished\n",
      "[Parallel(n_jobs=1)]: Using backend SequentialBackend with 1 concurrent workers.\n",
      "building tree 1 of 50\n",
      "[Parallel(n_jobs=1)]: Done   1 out of   1 | elapsed:    0.3s remaining:    0.0s\n",
      "building tree 2 of 50\n",
      "[Parallel(n_jobs=1)]: Done   2 out of   2 | elapsed:    0.5s remaining:    0.0s\n",
      "building tree 3 of 50\n",
      "[Parallel(n_jobs=1)]: Done   3 out of   3 | elapsed:    0.8s remaining:    0.0s\n",
      "building tree 4 of 50\n",
      "[Parallel(n_jobs=1)]: Done   4 out of   4 | elapsed:    1.0s remaining:    0.0s\n",
      "building tree 5 of 50\n",
      "[Parallel(n_jobs=1)]: Done   5 out of   5 | elapsed:    1.3s remaining:    0.0s\n",
      "building tree 6 of 50\n",
      "[Parallel(n_jobs=1)]: Done   6 out of   6 | elapsed:    1.6s remaining:    0.0s\n",
      "building tree 7 of 50\n",
      "[Parallel(n_jobs=1)]: Done   7 out of   7 | elapsed:    1.8s remaining:    0.0s\n",
      "building tree 8 of 50\n",
      "[Parallel(n_jobs=1)]: Done   8 out of   8 | elapsed:    2.1s remaining:    0.0s\n",
      "building tree 9 of 50\n",
      "[Parallel(n_jobs=1)]: Done   9 out of   9 | elapsed:    2.4s remaining:    0.0s\n",
      "building tree 10 of 50\n",
      "[Parallel(n_jobs=1)]: Done  10 out of  10 | elapsed:    2.6s remaining:    0.0s\n",
      "building tree 11 of 50\n",
      "[Parallel(n_jobs=1)]: Done  11 out of  11 | elapsed:    2.9s remaining:    0.0s\n",
      "building tree 12 of 50\n",
      "[Parallel(n_jobs=1)]: Done  12 out of  12 | elapsed:    3.2s remaining:    0.0s\n",
      "building tree 13 of 50\n",
      "[Parallel(n_jobs=1)]: Done  13 out of  13 | elapsed:    3.4s remaining:    0.0s\n",
      "building tree 14 of 50\n",
      "[Parallel(n_jobs=1)]: Done  14 out of  14 | elapsed:    3.7s remaining:    0.0s\n",
      "building tree 15 of 50\n",
      "[Parallel(n_jobs=1)]: Done  15 out of  15 | elapsed:    3.9s remaining:    0.0s\n",
      "building tree 16 of 50\n",
      "[Parallel(n_jobs=1)]: Done  16 out of  16 | elapsed:    4.2s remaining:    0.0s\n",
      "building tree 17 of 50\n",
      "[Parallel(n_jobs=1)]: Done  17 out of  17 | elapsed:    4.5s remaining:    0.0s\n",
      "building tree 18 of 50\n",
      "[Parallel(n_jobs=1)]: Done  18 out of  18 | elapsed:    4.8s remaining:    0.0s\n",
      "building tree 19 of 50\n",
      "[Parallel(n_jobs=1)]: Done  19 out of  19 | elapsed:    5.1s remaining:    0.0s\n",
      "building tree 20 of 50\n",
      "[Parallel(n_jobs=1)]: Done  20 out of  20 | elapsed:    5.3s remaining:    0.0s\n",
      "building tree 21 of 50\n",
      "[Parallel(n_jobs=1)]: Done  21 out of  21 | elapsed:    5.6s remaining:    0.0s\n",
      "building tree 22 of 50\n",
      "[Parallel(n_jobs=1)]: Done  22 out of  22 | elapsed:    5.9s remaining:    0.0s\n",
      "building tree 23 of 50\n",
      "[Parallel(n_jobs=1)]: Done  23 out of  23 | elapsed:    6.2s remaining:    0.0s\n",
      "building tree 24 of 50\n",
      "[Parallel(n_jobs=1)]: Done  24 out of  24 | elapsed:    6.4s remaining:    0.0s\n",
      "building tree 25 of 50\n",
      "[Parallel(n_jobs=1)]: Done  25 out of  25 | elapsed:    6.7s remaining:    0.0s\n",
      "building tree 26 of 50\n",
      "[Parallel(n_jobs=1)]: Done  26 out of  26 | elapsed:    7.0s remaining:    0.0s\n",
      "building tree 27 of 50\n",
      "[Parallel(n_jobs=1)]: Done  27 out of  27 | elapsed:    7.3s remaining:    0.0s\n",
      "building tree 28 of 50\n",
      "[Parallel(n_jobs=1)]: Done  28 out of  28 | elapsed:    7.6s remaining:    0.0s\n",
      "building tree 29 of 50\n",
      "[Parallel(n_jobs=1)]: Done  29 out of  29 | elapsed:    7.8s remaining:    0.0s\n",
      "building tree 30 of 50\n",
      "[Parallel(n_jobs=1)]: Done  30 out of  30 | elapsed:    8.1s remaining:    0.0s\n",
      "building tree 31 of 50\n",
      "[Parallel(n_jobs=1)]: Done  31 out of  31 | elapsed:    8.3s remaining:    0.0s\n",
      "building tree 32 of 50\n",
      "[Parallel(n_jobs=1)]: Done  32 out of  32 | elapsed:    8.6s remaining:    0.0s\n",
      "building tree 33 of 50\n",
      "[Parallel(n_jobs=1)]: Done  33 out of  33 | elapsed:    8.8s remaining:    0.0s\n",
      "building tree 34 of 50\n",
      "[Parallel(n_jobs=1)]: Done  34 out of  34 | elapsed:    9.1s remaining:    0.0s\n",
      "building tree 35 of 50\n",
      "[Parallel(n_jobs=1)]: Done  35 out of  35 | elapsed:    9.3s remaining:    0.0s\n",
      "building tree 36 of 50\n",
      "[Parallel(n_jobs=1)]: Done  36 out of  36 | elapsed:    9.6s remaining:    0.0s\n",
      "building tree 37 of 50\n",
      "[Parallel(n_jobs=1)]: Done  37 out of  37 | elapsed:    9.8s remaining:    0.0s\n",
      "building tree 38 of 50\n",
      "[Parallel(n_jobs=1)]: Done  38 out of  38 | elapsed:   10.1s remaining:    0.0s\n",
      "building tree 39 of 50\n",
      "[Parallel(n_jobs=1)]: Done  39 out of  39 | elapsed:   10.3s remaining:    0.0s\n",
      "building tree 40 of 50\n",
      "[Parallel(n_jobs=1)]: Done  40 out of  40 | elapsed:   10.6s remaining:    0.0s\n",
      "building tree 41 of 50\n",
      "[Parallel(n_jobs=1)]: Done  41 out of  41 | elapsed:   10.8s remaining:    0.0s\n",
      "building tree 42 of 50\n",
      "[Parallel(n_jobs=1)]: Done  42 out of  42 | elapsed:   11.1s remaining:    0.0s\n",
      "building tree 43 of 50\n",
      "[Parallel(n_jobs=1)]: Done  43 out of  43 | elapsed:   11.4s remaining:    0.0s\n",
      "building tree 44 of 50\n",
      "[Parallel(n_jobs=1)]: Done  44 out of  44 | elapsed:   11.6s remaining:    0.0s\n",
      "building tree 45 of 50\n",
      "[Parallel(n_jobs=1)]: Done  45 out of  45 | elapsed:   11.8s remaining:    0.0s\n",
      "building tree 46 of 50\n",
      "[Parallel(n_jobs=1)]: Done  46 out of  46 | elapsed:   12.1s remaining:    0.0s\n",
      "building tree 47 of 50\n",
      "[Parallel(n_jobs=1)]: Done  47 out of  47 | elapsed:   12.4s remaining:    0.0s\n",
      "building tree 48 of 50\n",
      "[Parallel(n_jobs=1)]: Done  48 out of  48 | elapsed:   12.6s remaining:    0.0s\n",
      "building tree 49 of 50\n",
      "[Parallel(n_jobs=1)]: Done  49 out of  49 | elapsed:   12.9s remaining:    0.0s\n",
      "building tree 50 of 50\n",
      "[Parallel(n_jobs=1)]: Done  50 out of  50 | elapsed:   13.2s finished\n",
      "Using ThreadingBackend as joblib.Parallel backend instead of LokyBackend as the latter does not provide shared memory semantics.\n",
      "[Parallel(n_jobs=1)]: Using backend SequentialBackend with 1 concurrent workers.\n",
      "[Parallel(n_jobs=1)]: Done   1 out of   1 | elapsed:    0.0s remaining:    0.0s\n",
      "[Parallel(n_jobs=1)]: Done   2 out of   2 | elapsed:    0.0s remaining:    0.0s\n",
      "[Parallel(n_jobs=1)]: Done   3 out of   3 | elapsed:    0.0s remaining:    0.0s\n",
      "[Parallel(n_jobs=1)]: Done   4 out of   4 | elapsed:    0.0s remaining:    0.0s\n",
      "[Parallel(n_jobs=1)]: Done   5 out of   5 | elapsed:    0.0s remaining:    0.0s\n",
      "[Parallel(n_jobs=1)]: Done   6 out of   6 | elapsed:    0.0s remaining:    0.0s\n",
      "[Parallel(n_jobs=1)]: Done   7 out of   7 | elapsed:    0.0s remaining:    0.0s\n",
      "[Parallel(n_jobs=1)]: Done   8 out of   8 | elapsed:    0.0s remaining:    0.0s\n",
      "[Parallel(n_jobs=1)]: Done   9 out of   9 | elapsed:    0.0s remaining:    0.0s\n",
      "[Parallel(n_jobs=1)]: Done  10 out of  10 | elapsed:    0.0s remaining:    0.0s\n",
      "[Parallel(n_jobs=1)]: Done  11 out of  11 | elapsed:    0.0s remaining:    0.0s\n",
      "[Parallel(n_jobs=1)]: Done  12 out of  12 | elapsed:    0.0s remaining:    0.0s\n",
      "[Parallel(n_jobs=1)]: Done  13 out of  13 | elapsed:    0.0s remaining:    0.0s\n",
      "[Parallel(n_jobs=1)]: Done  14 out of  14 | elapsed:    0.0s remaining:    0.0s\n",
      "[Parallel(n_jobs=1)]: Done  15 out of  15 | elapsed:    0.0s remaining:    0.0s\n",
      "[Parallel(n_jobs=1)]: Done  16 out of  16 | elapsed:    0.0s remaining:    0.0s\n",
      "[Parallel(n_jobs=1)]: Done  17 out of  17 | elapsed:    0.1s remaining:    0.0s\n",
      "[Parallel(n_jobs=1)]: Done  18 out of  18 | elapsed:    0.1s remaining:    0.0s\n",
      "[Parallel(n_jobs=1)]: Done  19 out of  19 | elapsed:    0.1s remaining:    0.0s\n",
      "[Parallel(n_jobs=1)]: Done  20 out of  20 | elapsed:    0.1s remaining:    0.0s\n",
      "[Parallel(n_jobs=1)]: Done  21 out of  21 | elapsed:    0.1s remaining:    0.0s\n",
      "[Parallel(n_jobs=1)]: Done  22 out of  22 | elapsed:    0.1s remaining:    0.0s\n",
      "[Parallel(n_jobs=1)]: Done  23 out of  23 | elapsed:    0.1s remaining:    0.0s\n",
      "[Parallel(n_jobs=1)]: Done  24 out of  24 | elapsed:    0.1s remaining:    0.0s\n",
      "[Parallel(n_jobs=1)]: Done  25 out of  25 | elapsed:    0.1s remaining:    0.0s\n",
      "[Parallel(n_jobs=1)]: Done  26 out of  26 | elapsed:    0.1s remaining:    0.0s\n",
      "[Parallel(n_jobs=1)]: Done  27 out of  27 | elapsed:    0.1s remaining:    0.0s\n",
      "[Parallel(n_jobs=1)]: Done  28 out of  28 | elapsed:    0.1s remaining:    0.0s\n",
      "[Parallel(n_jobs=1)]: Done  29 out of  29 | elapsed:    0.1s remaining:    0.0s\n",
      "[Parallel(n_jobs=1)]: Done  30 out of  30 | elapsed:    0.1s remaining:    0.0s\n",
      "[Parallel(n_jobs=1)]: Done  31 out of  31 | elapsed:    0.1s remaining:    0.0s\n",
      "[Parallel(n_jobs=1)]: Done  32 out of  32 | elapsed:    0.1s remaining:    0.0s\n",
      "[Parallel(n_jobs=1)]: Done  33 out of  33 | elapsed:    0.1s remaining:    0.0s\n",
      "[Parallel(n_jobs=1)]: Done  34 out of  34 | elapsed:    0.1s remaining:    0.0s\n",
      "[Parallel(n_jobs=1)]: Done  35 out of  35 | elapsed:    0.1s remaining:    0.0s\n",
      "[Parallel(n_jobs=1)]: Done  36 out of  36 | elapsed:    0.1s remaining:    0.0s\n",
      "[Parallel(n_jobs=1)]: Done  37 out of  37 | elapsed:    0.1s remaining:    0.0s\n",
      "[Parallel(n_jobs=1)]: Done  38 out of  38 | elapsed:    0.1s remaining:    0.0s\n",
      "[Parallel(n_jobs=1)]: Done  39 out of  39 | elapsed:    0.1s remaining:    0.0s\n",
      "[Parallel(n_jobs=1)]: Done  40 out of  40 | elapsed:    0.1s remaining:    0.0s\n",
      "[Parallel(n_jobs=1)]: Done  41 out of  41 | elapsed:    0.2s remaining:    0.0s\n",
      "[Parallel(n_jobs=1)]: Done  42 out of  42 | elapsed:    0.2s remaining:    0.0s\n",
      "[Parallel(n_jobs=1)]: Done  43 out of  43 | elapsed:    0.2s remaining:    0.0s\n",
      "[Parallel(n_jobs=1)]: Done  44 out of  44 | elapsed:    0.2s remaining:    0.0s\n",
      "[Parallel(n_jobs=1)]: Done  45 out of  45 | elapsed:    0.2s remaining:    0.0s\n",
      "[Parallel(n_jobs=1)]: Done  46 out of  46 | elapsed:    0.2s remaining:    0.0s\n",
      "[Parallel(n_jobs=1)]: Done  47 out of  47 | elapsed:    0.2s remaining:    0.0s\n",
      "[Parallel(n_jobs=1)]: Done  48 out of  48 | elapsed:    0.2s remaining:    0.0s\n",
      "[Parallel(n_jobs=1)]: Done  49 out of  49 | elapsed:    0.2s remaining:    0.0s\n",
      "[Parallel(n_jobs=1)]: Done  50 out of  50 | elapsed:    0.2s finished\n",
      "[Parallel(n_jobs=1)]: Using backend SequentialBackend with 1 concurrent workers.\n",
      "building tree 1 of 150\n",
      "[Parallel(n_jobs=1)]: Done   1 out of   1 | elapsed:    0.5s remaining:    0.0s\n",
      "building tree 2 of 150\n",
      "[Parallel(n_jobs=1)]: Done   2 out of   2 | elapsed:    0.7s remaining:    0.0s\n",
      "building tree 3 of 150\n",
      "[Parallel(n_jobs=1)]: Done   3 out of   3 | elapsed:    1.0s remaining:    0.0s\n",
      "building tree 4 of 150\n",
      "[Parallel(n_jobs=1)]: Done   4 out of   4 | elapsed:    1.2s remaining:    0.0s\n",
      "building tree 5 of 150\n",
      "[Parallel(n_jobs=1)]: Done   5 out of   5 | elapsed:    1.5s remaining:    0.0s\n",
      "building tree 6 of 150\n",
      "[Parallel(n_jobs=1)]: Done   6 out of   6 | elapsed:    1.7s remaining:    0.0s\n",
      "building tree 7 of 150\n",
      "[Parallel(n_jobs=1)]: Done   7 out of   7 | elapsed:    2.0s remaining:    0.0s\n",
      "building tree 8 of 150\n",
      "[Parallel(n_jobs=1)]: Done   8 out of   8 | elapsed:    2.2s remaining:    0.0s\n",
      "building tree 9 of 150\n",
      "[Parallel(n_jobs=1)]: Done   9 out of   9 | elapsed:    2.5s remaining:    0.0s\n",
      "building tree 10 of 150\n",
      "[Parallel(n_jobs=1)]: Done  10 out of  10 | elapsed:    2.8s remaining:    0.0s\n",
      "building tree 11 of 150\n",
      "[Parallel(n_jobs=1)]: Done  11 out of  11 | elapsed:    3.0s remaining:    0.0s\n",
      "building tree 12 of 150\n",
      "[Parallel(n_jobs=1)]: Done  12 out of  12 | elapsed:    3.3s remaining:    0.0s\n",
      "building tree 13 of 150\n",
      "[Parallel(n_jobs=1)]: Done  13 out of  13 | elapsed:    3.6s remaining:    0.0s\n",
      "building tree 14 of 150\n",
      "[Parallel(n_jobs=1)]: Done  14 out of  14 | elapsed:    3.8s remaining:    0.0s\n",
      "building tree 15 of 150\n",
      "[Parallel(n_jobs=1)]: Done  15 out of  15 | elapsed:    4.1s remaining:    0.0s\n",
      "building tree 16 of 150\n",
      "[Parallel(n_jobs=1)]: Done  16 out of  16 | elapsed:    4.3s remaining:    0.0s\n",
      "building tree 17 of 150\n",
      "[Parallel(n_jobs=1)]: Done  17 out of  17 | elapsed:    4.6s remaining:    0.0s\n",
      "building tree 18 of 150\n",
      "[Parallel(n_jobs=1)]: Done  18 out of  18 | elapsed:    4.8s remaining:    0.0s\n",
      "building tree 19 of 150\n",
      "[Parallel(n_jobs=1)]: Done  19 out of  19 | elapsed:    5.1s remaining:    0.0s\n",
      "building tree 20 of 150\n",
      "[Parallel(n_jobs=1)]: Done  20 out of  20 | elapsed:    5.3s remaining:    0.0s\n",
      "building tree 21 of 150\n",
      "[Parallel(n_jobs=1)]: Done  21 out of  21 | elapsed:    5.6s remaining:    0.0s\n",
      "building tree 22 of 150\n",
      "[Parallel(n_jobs=1)]: Done  22 out of  22 | elapsed:    5.8s remaining:    0.0s\n",
      "building tree 23 of 150\n",
      "[Parallel(n_jobs=1)]: Done  23 out of  23 | elapsed:    6.1s remaining:    0.0s\n",
      "building tree 24 of 150\n",
      "[Parallel(n_jobs=1)]: Done  24 out of  24 | elapsed:    6.3s remaining:    0.0s\n",
      "building tree 25 of 150\n",
      "[Parallel(n_jobs=1)]: Done  25 out of  25 | elapsed:    6.6s remaining:    0.0s\n",
      "building tree 26 of 150\n",
      "[Parallel(n_jobs=1)]: Done  26 out of  26 | elapsed:    6.8s remaining:    0.0s\n",
      "building tree 27 of 150\n",
      "[Parallel(n_jobs=1)]: Done  27 out of  27 | elapsed:    7.1s remaining:    0.0s\n",
      "building tree 28 of 150\n",
      "[Parallel(n_jobs=1)]: Done  28 out of  28 | elapsed:    7.3s remaining:    0.0s\n",
      "building tree 29 of 150\n",
      "[Parallel(n_jobs=1)]: Done  29 out of  29 | elapsed:    7.6s remaining:    0.0s\n",
      "building tree 30 of 150\n",
      "[Parallel(n_jobs=1)]: Done  30 out of  30 | elapsed:    7.8s remaining:    0.0s\n",
      "building tree 31 of 150\n",
      "[Parallel(n_jobs=1)]: Done  31 out of  31 | elapsed:    8.0s remaining:    0.0s\n",
      "building tree 32 of 150\n",
      "[Parallel(n_jobs=1)]: Done  32 out of  32 | elapsed:    8.3s remaining:    0.0s\n",
      "building tree 33 of 150\n",
      "[Parallel(n_jobs=1)]: Done  33 out of  33 | elapsed:    8.5s remaining:    0.0s\n",
      "building tree 34 of 150\n",
      "[Parallel(n_jobs=1)]: Done  34 out of  34 | elapsed:    8.8s remaining:    0.0s\n",
      "building tree 35 of 150\n",
      "[Parallel(n_jobs=1)]: Done  35 out of  35 | elapsed:    9.0s remaining:    0.0s\n",
      "building tree 36 of 150\n",
      "[Parallel(n_jobs=1)]: Done  36 out of  36 | elapsed:    9.3s remaining:    0.0s\n",
      "building tree 37 of 150\n",
      "[Parallel(n_jobs=1)]: Done  37 out of  37 | elapsed:    9.5s remaining:    0.0s\n",
      "building tree 38 of 150\n",
      "[Parallel(n_jobs=1)]: Done  38 out of  38 | elapsed:    9.8s remaining:    0.0s\n",
      "building tree 39 of 150\n",
      "[Parallel(n_jobs=1)]: Done  39 out of  39 | elapsed:   10.0s remaining:    0.0s\n",
      "building tree 40 of 150\n",
      "[Parallel(n_jobs=1)]: Done  40 out of  40 | elapsed:   10.2s remaining:    0.0s\n",
      "building tree 41 of 150\n",
      "[Parallel(n_jobs=1)]: Done  41 out of  41 | elapsed:   10.5s remaining:    0.0s\n",
      "building tree 42 of 150\n",
      "[Parallel(n_jobs=1)]: Done  42 out of  42 | elapsed:   10.7s remaining:    0.0s\n",
      "building tree 43 of 150\n",
      "[Parallel(n_jobs=1)]: Done  43 out of  43 | elapsed:   10.9s remaining:    0.0s\n",
      "building tree 44 of 150\n",
      "[Parallel(n_jobs=1)]: Done  44 out of  44 | elapsed:   11.2s remaining:    0.0s\n",
      "building tree 45 of 150\n",
      "[Parallel(n_jobs=1)]: Done  45 out of  45 | elapsed:   11.4s remaining:    0.0s\n",
      "building tree 46 of 150\n",
      "[Parallel(n_jobs=1)]: Done  46 out of  46 | elapsed:   11.7s remaining:    0.0s\n",
      "building tree 47 of 150\n",
      "[Parallel(n_jobs=1)]: Done  47 out of  47 | elapsed:   11.9s remaining:    0.0s\n",
      "building tree 48 of 150\n",
      "[Parallel(n_jobs=1)]: Done  48 out of  48 | elapsed:   12.2s remaining:    0.0s\n",
      "building tree 49 of 150\n",
      "[Parallel(n_jobs=1)]: Done  49 out of  49 | elapsed:   12.4s remaining:    0.0s\n",
      "building tree 50 of 150\n",
      "building tree 51 of 150\n",
      "building tree 52 of 150\n",
      "building tree 53 of 150\n",
      "building tree 54 of 150\n",
      "building tree 55 of 150\n",
      "building tree 56 of 150\n",
      "building tree 57 of 150\n",
      "building tree 58 of 150\n",
      "building tree 59 of 150\n",
      "building tree 60 of 150\n",
      "building tree 61 of 150\n",
      "building tree 62 of 150\n",
      "building tree 63 of 150\n",
      "building tree 64 of 150\n",
      "building tree 65 of 150\n",
      "building tree 66 of 150\n",
      "building tree 67 of 150\n",
      "building tree 68 of 150\n",
      "building tree 69 of 150\n",
      "building tree 70 of 150\n",
      "building tree 71 of 150\n",
      "building tree 72 of 150\n",
      "building tree 73 of 150\n",
      "building tree 74 of 150\n",
      "building tree 75 of 150\n",
      "building tree 76 of 150\n",
      "building tree 77 of 150\n",
      "building tree 78 of 150\n",
      "building tree 79 of 150\n",
      "building tree 80 of 150\n",
      "building tree 81 of 150\n",
      "building tree 82 of 150\n",
      "building tree 83 of 150\n",
      "building tree 84 of 150\n",
      "building tree 85 of 150\n",
      "building tree 86 of 150\n",
      "building tree 87 of 150\n",
      "building tree 88 of 150\n",
      "building tree 89 of 150\n",
      "building tree 90 of 150\n",
      "building tree 91 of 150\n",
      "building tree 92 of 150\n",
      "building tree 93 of 150\n",
      "building tree 94 of 150\n",
      "building tree 95 of 150\n",
      "building tree 96 of 150\n",
      "building tree 97 of 150\n",
      "building tree 98 of 150\n",
      "building tree 99 of 150\n",
      "building tree 100 of 150\n",
      "building tree 101 of 150\n",
      "building tree 102 of 150\n",
      "building tree 103 of 150\n",
      "building tree 104 of 150\n",
      "building tree 105 of 150\n",
      "building tree 106 of 150\n",
      "building tree 107 of 150\n",
      "building tree 108 of 150\n",
      "building tree 109 of 150\n",
      "building tree 110 of 150\n",
      "building tree 111 of 150\n",
      "building tree 112 of 150\n",
      "building tree 113 of 150\n",
      "building tree 114 of 150\n",
      "building tree 115 of 150\n",
      "building tree 116 of 150\n",
      "building tree 117 of 150\n",
      "building tree 118 of 150\n",
      "building tree 119 of 150\n",
      "building tree 120 of 150\n",
      "building tree 121 of 150\n",
      "building tree 122 of 150\n",
      "building tree 123 of 150\n",
      "building tree 124 of 150\n",
      "building tree 125 of 150\n",
      "building tree 126 of 150\n",
      "building tree 127 of 150\n",
      "building tree 128 of 150\n",
      "building tree 129 of 150\n",
      "building tree 130 of 150\n",
      "building tree 131 of 150\n",
      "building tree 132 of 150\n",
      "building tree 133 of 150\n",
      "building tree 134 of 150\n",
      "building tree 135 of 150\n",
      "building tree 136 of 150\n",
      "building tree 137 of 150\n",
      "building tree 138 of 150\n",
      "building tree 139 of 150\n",
      "building tree 140 of 150\n",
      "building tree 141 of 150\n",
      "building tree 142 of 150\n",
      "building tree 143 of 150\n",
      "building tree 144 of 150\n",
      "building tree 145 of 150\n",
      "building tree 146 of 150\n",
      "building tree 147 of 150\n",
      "building tree 148 of 150\n",
      "building tree 149 of 150\n",
      "building tree 150 of 150\n",
      "[Parallel(n_jobs=1)]: Done 150 out of 150 | elapsed:   37.0s finished\n",
      "Using ThreadingBackend as joblib.Parallel backend instead of LokyBackend as the latter does not provide shared memory semantics.\n",
      "[Parallel(n_jobs=1)]: Using backend SequentialBackend with 1 concurrent workers.\n",
      "[Parallel(n_jobs=1)]: Done   1 out of   1 | elapsed:    0.0s remaining:    0.0s\n",
      "[Parallel(n_jobs=1)]: Done   2 out of   2 | elapsed:    0.0s remaining:    0.0s\n",
      "[Parallel(n_jobs=1)]: Done   3 out of   3 | elapsed:    0.0s remaining:    0.0s\n",
      "[Parallel(n_jobs=1)]: Done   4 out of   4 | elapsed:    0.0s remaining:    0.0s\n",
      "[Parallel(n_jobs=1)]: Done   5 out of   5 | elapsed:    0.0s remaining:    0.0s\n",
      "[Parallel(n_jobs=1)]: Done   6 out of   6 | elapsed:    0.0s remaining:    0.0s\n",
      "[Parallel(n_jobs=1)]: Done   7 out of   7 | elapsed:    0.0s remaining:    0.0s\n",
      "[Parallel(n_jobs=1)]: Done   8 out of   8 | elapsed:    0.0s remaining:    0.0s\n",
      "[Parallel(n_jobs=1)]: Done   9 out of   9 | elapsed:    0.0s remaining:    0.0s\n",
      "[Parallel(n_jobs=1)]: Done  10 out of  10 | elapsed:    0.0s remaining:    0.0s\n",
      "[Parallel(n_jobs=1)]: Done  11 out of  11 | elapsed:    0.0s remaining:    0.0s\n",
      "[Parallel(n_jobs=1)]: Done  12 out of  12 | elapsed:    0.0s remaining:    0.0s\n",
      "[Parallel(n_jobs=1)]: Done  13 out of  13 | elapsed:    0.0s remaining:    0.0s\n",
      "[Parallel(n_jobs=1)]: Done  14 out of  14 | elapsed:    0.0s remaining:    0.0s\n",
      "[Parallel(n_jobs=1)]: Done  15 out of  15 | elapsed:    0.1s remaining:    0.0s\n",
      "[Parallel(n_jobs=1)]: Done  16 out of  16 | elapsed:    0.1s remaining:    0.0s\n",
      "[Parallel(n_jobs=1)]: Done  17 out of  17 | elapsed:    0.1s remaining:    0.0s\n",
      "[Parallel(n_jobs=1)]: Done  18 out of  18 | elapsed:    0.1s remaining:    0.0s\n",
      "[Parallel(n_jobs=1)]: Done  19 out of  19 | elapsed:    0.1s remaining:    0.0s\n",
      "[Parallel(n_jobs=1)]: Done  20 out of  20 | elapsed:    0.1s remaining:    0.0s\n",
      "[Parallel(n_jobs=1)]: Done  21 out of  21 | elapsed:    0.1s remaining:    0.0s\n",
      "[Parallel(n_jobs=1)]: Done  22 out of  22 | elapsed:    0.1s remaining:    0.0s\n",
      "[Parallel(n_jobs=1)]: Done  23 out of  23 | elapsed:    0.1s remaining:    0.0s\n",
      "[Parallel(n_jobs=1)]: Done  24 out of  24 | elapsed:    0.1s remaining:    0.0s\n",
      "[Parallel(n_jobs=1)]: Done  25 out of  25 | elapsed:    0.1s remaining:    0.0s\n",
      "[Parallel(n_jobs=1)]: Done  26 out of  26 | elapsed:    0.1s remaining:    0.0s\n",
      "[Parallel(n_jobs=1)]: Done  27 out of  27 | elapsed:    0.1s remaining:    0.0s\n",
      "[Parallel(n_jobs=1)]: Done  28 out of  28 | elapsed:    0.1s remaining:    0.0s\n",
      "[Parallel(n_jobs=1)]: Done  29 out of  29 | elapsed:    0.1s remaining:    0.0s\n",
      "[Parallel(n_jobs=1)]: Done  30 out of  30 | elapsed:    0.1s remaining:    0.0s\n",
      "[Parallel(n_jobs=1)]: Done  31 out of  31 | elapsed:    0.1s remaining:    0.0s\n",
      "[Parallel(n_jobs=1)]: Done  32 out of  32 | elapsed:    0.1s remaining:    0.0s\n",
      "[Parallel(n_jobs=1)]: Done  33 out of  33 | elapsed:    0.1s remaining:    0.0s\n",
      "[Parallel(n_jobs=1)]: Done  34 out of  34 | elapsed:    0.1s remaining:    0.0s\n",
      "[Parallel(n_jobs=1)]: Done  35 out of  35 | elapsed:    0.1s remaining:    0.0s\n",
      "[Parallel(n_jobs=1)]: Done  36 out of  36 | elapsed:    0.1s remaining:    0.0s\n",
      "[Parallel(n_jobs=1)]: Done  37 out of  37 | elapsed:    0.1s remaining:    0.0s\n",
      "[Parallel(n_jobs=1)]: Done  38 out of  38 | elapsed:    0.1s remaining:    0.0s\n",
      "[Parallel(n_jobs=1)]: Done  39 out of  39 | elapsed:    0.1s remaining:    0.0s\n",
      "[Parallel(n_jobs=1)]: Done  40 out of  40 | elapsed:    0.1s remaining:    0.0s\n",
      "[Parallel(n_jobs=1)]: Done  41 out of  41 | elapsed:    0.1s remaining:    0.0s\n",
      "[Parallel(n_jobs=1)]: Done  42 out of  42 | elapsed:    0.1s remaining:    0.0s\n",
      "[Parallel(n_jobs=1)]: Done  43 out of  43 | elapsed:    0.1s remaining:    0.0s\n",
      "[Parallel(n_jobs=1)]: Done  44 out of  44 | elapsed:    0.1s remaining:    0.0s\n",
      "[Parallel(n_jobs=1)]: Done  45 out of  45 | elapsed:    0.1s remaining:    0.0s\n",
      "[Parallel(n_jobs=1)]: Done  46 out of  46 | elapsed:    0.1s remaining:    0.0s\n",
      "[Parallel(n_jobs=1)]: Done  47 out of  47 | elapsed:    0.2s remaining:    0.0s\n",
      "[Parallel(n_jobs=1)]: Done  48 out of  48 | elapsed:    0.2s remaining:    0.0s\n",
      "[Parallel(n_jobs=1)]: Done  49 out of  49 | elapsed:    0.2s remaining:    0.0s\n",
      "[Parallel(n_jobs=1)]: Done 150 out of 150 | elapsed:    0.5s finished\n",
      "[Parallel(n_jobs=1)]: Using backend SequentialBackend with 1 concurrent workers.\n",
      "building tree 1 of 150\n",
      "[Parallel(n_jobs=1)]: Done   1 out of   1 | elapsed:    0.3s remaining:    0.0s\n",
      "building tree 2 of 150\n",
      "[Parallel(n_jobs=1)]: Done   2 out of   2 | elapsed:    0.5s remaining:    0.0s\n",
      "building tree 3 of 150\n",
      "[Parallel(n_jobs=1)]: Done   3 out of   3 | elapsed:    0.8s remaining:    0.0s\n",
      "building tree 4 of 150\n",
      "[Parallel(n_jobs=1)]: Done   4 out of   4 | elapsed:    1.0s remaining:    0.0s\n",
      "building tree 5 of 150\n",
      "[Parallel(n_jobs=1)]: Done   5 out of   5 | elapsed:    1.3s remaining:    0.0s\n",
      "building tree 6 of 150\n",
      "[Parallel(n_jobs=1)]: Done   6 out of   6 | elapsed:    1.5s remaining:    0.0s\n",
      "building tree 7 of 150\n",
      "[Parallel(n_jobs=1)]: Done   7 out of   7 | elapsed:    1.8s remaining:    0.0s\n",
      "building tree 8 of 150\n",
      "[Parallel(n_jobs=1)]: Done   8 out of   8 | elapsed:    2.0s remaining:    0.0s\n",
      "building tree 9 of 150\n",
      "[Parallel(n_jobs=1)]: Done   9 out of   9 | elapsed:    2.3s remaining:    0.0s\n",
      "building tree 10 of 150\n",
      "[Parallel(n_jobs=1)]: Done  10 out of  10 | elapsed:    2.6s remaining:    0.0s\n",
      "building tree 11 of 150\n",
      "[Parallel(n_jobs=1)]: Done  11 out of  11 | elapsed:    2.8s remaining:    0.0s\n",
      "building tree 12 of 150\n",
      "[Parallel(n_jobs=1)]: Done  12 out of  12 | elapsed:    3.1s remaining:    0.0s\n",
      "building tree 13 of 150\n",
      "[Parallel(n_jobs=1)]: Done  13 out of  13 | elapsed:    3.4s remaining:    0.0s\n",
      "building tree 14 of 150\n",
      "[Parallel(n_jobs=1)]: Done  14 out of  14 | elapsed:    3.6s remaining:    0.0s\n",
      "building tree 15 of 150\n",
      "[Parallel(n_jobs=1)]: Done  15 out of  15 | elapsed:    3.9s remaining:    0.0s\n",
      "building tree 16 of 150\n",
      "[Parallel(n_jobs=1)]: Done  16 out of  16 | elapsed:    4.1s remaining:    0.0s\n",
      "building tree 17 of 150\n",
      "[Parallel(n_jobs=1)]: Done  17 out of  17 | elapsed:    4.4s remaining:    0.0s\n",
      "building tree 18 of 150\n",
      "[Parallel(n_jobs=1)]: Done  18 out of  18 | elapsed:    4.7s remaining:    0.0s\n",
      "building tree 19 of 150\n",
      "[Parallel(n_jobs=1)]: Done  19 out of  19 | elapsed:    4.9s remaining:    0.0s\n",
      "building tree 20 of 150\n",
      "[Parallel(n_jobs=1)]: Done  20 out of  20 | elapsed:    5.2s remaining:    0.0s\n",
      "building tree 21 of 150\n",
      "[Parallel(n_jobs=1)]: Done  21 out of  21 | elapsed:    5.5s remaining:    0.0s\n",
      "building tree 22 of 150\n",
      "[Parallel(n_jobs=1)]: Done  22 out of  22 | elapsed:    5.8s remaining:    0.0s\n",
      "building tree 23 of 150\n",
      "[Parallel(n_jobs=1)]: Done  23 out of  23 | elapsed:    6.1s remaining:    0.0s\n",
      "building tree 24 of 150\n",
      "[Parallel(n_jobs=1)]: Done  24 out of  24 | elapsed:    6.3s remaining:    0.0s\n",
      "building tree 25 of 150\n",
      "[Parallel(n_jobs=1)]: Done  25 out of  25 | elapsed:    6.6s remaining:    0.0s\n",
      "building tree 26 of 150\n",
      "[Parallel(n_jobs=1)]: Done  26 out of  26 | elapsed:    6.9s remaining:    0.0s\n",
      "building tree 27 of 150\n",
      "[Parallel(n_jobs=1)]: Done  27 out of  27 | elapsed:    7.1s remaining:    0.0s\n",
      "building tree 28 of 150\n",
      "[Parallel(n_jobs=1)]: Done  28 out of  28 | elapsed:    7.4s remaining:    0.0s\n",
      "building tree 29 of 150\n",
      "[Parallel(n_jobs=1)]: Done  29 out of  29 | elapsed:    7.6s remaining:    0.0s\n",
      "building tree 30 of 150\n",
      "[Parallel(n_jobs=1)]: Done  30 out of  30 | elapsed:    7.9s remaining:    0.0s\n",
      "building tree 31 of 150\n",
      "[Parallel(n_jobs=1)]: Done  31 out of  31 | elapsed:    8.1s remaining:    0.0s\n",
      "building tree 32 of 150\n",
      "[Parallel(n_jobs=1)]: Done  32 out of  32 | elapsed:    8.4s remaining:    0.0s\n",
      "building tree 33 of 150\n",
      "[Parallel(n_jobs=1)]: Done  33 out of  33 | elapsed:    8.6s remaining:    0.0s\n",
      "building tree 34 of 150\n",
      "[Parallel(n_jobs=1)]: Done  34 out of  34 | elapsed:    8.9s remaining:    0.0s\n",
      "building tree 35 of 150\n",
      "[Parallel(n_jobs=1)]: Done  35 out of  35 | elapsed:    9.1s remaining:    0.0s\n",
      "building tree 36 of 150\n",
      "[Parallel(n_jobs=1)]: Done  36 out of  36 | elapsed:    9.4s remaining:    0.0s\n",
      "building tree 37 of 150\n",
      "[Parallel(n_jobs=1)]: Done  37 out of  37 | elapsed:    9.6s remaining:    0.0s\n",
      "building tree 38 of 150\n",
      "[Parallel(n_jobs=1)]: Done  38 out of  38 | elapsed:    9.9s remaining:    0.0s\n",
      "building tree 39 of 150\n",
      "[Parallel(n_jobs=1)]: Done  39 out of  39 | elapsed:   10.2s remaining:    0.0s\n",
      "building tree 40 of 150\n",
      "[Parallel(n_jobs=1)]: Done  40 out of  40 | elapsed:   10.4s remaining:    0.0s\n",
      "building tree 41 of 150\n",
      "[Parallel(n_jobs=1)]: Done  41 out of  41 | elapsed:   10.7s remaining:    0.0s\n",
      "building tree 42 of 150\n",
      "[Parallel(n_jobs=1)]: Done  42 out of  42 | elapsed:   10.9s remaining:    0.0s\n",
      "building tree 43 of 150\n",
      "[Parallel(n_jobs=1)]: Done  43 out of  43 | elapsed:   11.2s remaining:    0.0s\n",
      "building tree 44 of 150\n",
      "[Parallel(n_jobs=1)]: Done  44 out of  44 | elapsed:   11.4s remaining:    0.0s\n",
      "building tree 45 of 150\n",
      "[Parallel(n_jobs=1)]: Done  45 out of  45 | elapsed:   11.7s remaining:    0.0s\n",
      "building tree 46 of 150\n",
      "[Parallel(n_jobs=1)]: Done  46 out of  46 | elapsed:   11.9s remaining:    0.0s\n",
      "building tree 47 of 150\n",
      "[Parallel(n_jobs=1)]: Done  47 out of  47 | elapsed:   12.2s remaining:    0.0s\n",
      "building tree 48 of 150\n",
      "[Parallel(n_jobs=1)]: Done  48 out of  48 | elapsed:   12.4s remaining:    0.0s\n",
      "building tree 49 of 150\n",
      "[Parallel(n_jobs=1)]: Done  49 out of  49 | elapsed:   12.6s remaining:    0.0s\n",
      "building tree 50 of 150\n",
      "building tree 51 of 150\n",
      "building tree 52 of 150\n",
      "building tree 53 of 150\n",
      "building tree 54 of 150\n",
      "building tree 55 of 150\n",
      "building tree 56 of 150\n",
      "building tree 57 of 150\n",
      "building tree 58 of 150\n",
      "building tree 59 of 150\n",
      "building tree 60 of 150\n",
      "building tree 61 of 150\n",
      "building tree 62 of 150\n",
      "building tree 63 of 150\n",
      "building tree 64 of 150\n",
      "building tree 65 of 150\n",
      "building tree 66 of 150\n",
      "building tree 67 of 150\n",
      "building tree 68 of 150\n",
      "building tree 69 of 150\n",
      "building tree 70 of 150\n",
      "building tree 71 of 150\n",
      "building tree 72 of 150\n",
      "building tree 73 of 150\n",
      "building tree 74 of 150\n",
      "building tree 75 of 150\n",
      "building tree 76 of 150\n",
      "building tree 77 of 150\n",
      "building tree 78 of 150\n",
      "building tree 79 of 150\n",
      "building tree 80 of 150\n",
      "building tree 81 of 150\n",
      "building tree 82 of 150\n",
      "building tree 83 of 150\n",
      "building tree 84 of 150\n",
      "building tree 85 of 150\n",
      "building tree 86 of 150\n",
      "building tree 87 of 150\n",
      "building tree 88 of 150\n",
      "building tree 89 of 150\n",
      "building tree 90 of 150\n",
      "building tree 91 of 150\n",
      "building tree 92 of 150\n",
      "building tree 93 of 150\n",
      "building tree 94 of 150\n",
      "building tree 95 of 150\n",
      "building tree 96 of 150\n",
      "building tree 97 of 150\n",
      "building tree 98 of 150\n",
      "building tree 99 of 150\n",
      "building tree 100 of 150\n",
      "building tree 101 of 150\n",
      "building tree 102 of 150\n",
      "building tree 103 of 150\n",
      "building tree 104 of 150\n",
      "building tree 105 of 150\n",
      "building tree 106 of 150\n",
      "building tree 107 of 150\n",
      "building tree 108 of 150\n",
      "building tree 109 of 150\n",
      "building tree 110 of 150\n",
      "building tree 111 of 150\n",
      "building tree 112 of 150\n",
      "building tree 113 of 150\n",
      "building tree 114 of 150\n",
      "building tree 115 of 150\n",
      "building tree 116 of 150\n",
      "building tree 117 of 150\n",
      "building tree 118 of 150\n",
      "building tree 119 of 150\n",
      "building tree 120 of 150\n",
      "building tree 121 of 150\n",
      "building tree 122 of 150\n",
      "building tree 123 of 150\n",
      "building tree 124 of 150\n",
      "building tree 125 of 150\n",
      "building tree 126 of 150\n",
      "building tree 127 of 150\n",
      "building tree 128 of 150\n",
      "building tree 129 of 150\n",
      "building tree 130 of 150\n",
      "building tree 131 of 150\n",
      "building tree 132 of 150\n",
      "building tree 133 of 150\n",
      "building tree 134 of 150\n",
      "building tree 135 of 150\n",
      "building tree 136 of 150\n",
      "building tree 137 of 150\n",
      "building tree 138 of 150\n",
      "building tree 139 of 150\n",
      "building tree 140 of 150\n",
      "building tree 141 of 150\n",
      "building tree 142 of 150\n",
      "building tree 143 of 150\n",
      "building tree 144 of 150\n",
      "building tree 145 of 150\n",
      "building tree 146 of 150\n",
      "building tree 147 of 150\n",
      "building tree 148 of 150\n",
      "building tree 149 of 150\n",
      "building tree 150 of 150\n",
      "[Parallel(n_jobs=1)]: Done 150 out of 150 | elapsed:   37.5s finished\n",
      "Using ThreadingBackend as joblib.Parallel backend instead of LokyBackend as the latter does not provide shared memory semantics.\n",
      "[Parallel(n_jobs=1)]: Using backend SequentialBackend with 1 concurrent workers.\n",
      "[Parallel(n_jobs=1)]: Done   1 out of   1 | elapsed:    0.0s remaining:    0.0s\n",
      "[Parallel(n_jobs=1)]: Done   2 out of   2 | elapsed:    0.0s remaining:    0.0s\n",
      "[Parallel(n_jobs=1)]: Done   3 out of   3 | elapsed:    0.0s remaining:    0.0s\n",
      "[Parallel(n_jobs=1)]: Done   4 out of   4 | elapsed:    0.0s remaining:    0.0s\n",
      "[Parallel(n_jobs=1)]: Done   5 out of   5 | elapsed:    0.0s remaining:    0.0s\n",
      "[Parallel(n_jobs=1)]: Done   6 out of   6 | elapsed:    0.0s remaining:    0.0s\n",
      "[Parallel(n_jobs=1)]: Done   7 out of   7 | elapsed:    0.0s remaining:    0.0s\n",
      "[Parallel(n_jobs=1)]: Done   8 out of   8 | elapsed:    0.0s remaining:    0.0s\n",
      "[Parallel(n_jobs=1)]: Done   9 out of   9 | elapsed:    0.0s remaining:    0.0s\n",
      "[Parallel(n_jobs=1)]: Done  10 out of  10 | elapsed:    0.0s remaining:    0.0s\n",
      "[Parallel(n_jobs=1)]: Done  11 out of  11 | elapsed:    0.0s remaining:    0.0s\n",
      "[Parallel(n_jobs=1)]: Done  12 out of  12 | elapsed:    0.0s remaining:    0.0s\n",
      "[Parallel(n_jobs=1)]: Done  13 out of  13 | elapsed:    0.0s remaining:    0.0s\n",
      "[Parallel(n_jobs=1)]: Done  14 out of  14 | elapsed:    0.0s remaining:    0.0s\n",
      "[Parallel(n_jobs=1)]: Done  15 out of  15 | elapsed:    0.0s remaining:    0.0s\n",
      "[Parallel(n_jobs=1)]: Done  16 out of  16 | elapsed:    0.0s remaining:    0.0s\n",
      "[Parallel(n_jobs=1)]: Done  17 out of  17 | elapsed:    0.1s remaining:    0.0s\n",
      "[Parallel(n_jobs=1)]: Done  18 out of  18 | elapsed:    0.1s remaining:    0.0s\n",
      "[Parallel(n_jobs=1)]: Done  19 out of  19 | elapsed:    0.1s remaining:    0.0s\n",
      "[Parallel(n_jobs=1)]: Done  20 out of  20 | elapsed:    0.1s remaining:    0.0s\n",
      "[Parallel(n_jobs=1)]: Done  21 out of  21 | elapsed:    0.1s remaining:    0.0s\n",
      "[Parallel(n_jobs=1)]: Done  22 out of  22 | elapsed:    0.1s remaining:    0.0s\n",
      "[Parallel(n_jobs=1)]: Done  23 out of  23 | elapsed:    0.1s remaining:    0.0s\n",
      "[Parallel(n_jobs=1)]: Done  24 out of  24 | elapsed:    0.1s remaining:    0.0s\n",
      "[Parallel(n_jobs=1)]: Done  25 out of  25 | elapsed:    0.1s remaining:    0.0s\n",
      "[Parallel(n_jobs=1)]: Done  26 out of  26 | elapsed:    0.1s remaining:    0.0s\n",
      "[Parallel(n_jobs=1)]: Done  27 out of  27 | elapsed:    0.1s remaining:    0.0s\n",
      "[Parallel(n_jobs=1)]: Done  28 out of  28 | elapsed:    0.1s remaining:    0.0s\n",
      "[Parallel(n_jobs=1)]: Done  29 out of  29 | elapsed:    0.1s remaining:    0.0s\n",
      "[Parallel(n_jobs=1)]: Done  30 out of  30 | elapsed:    0.1s remaining:    0.0s\n",
      "[Parallel(n_jobs=1)]: Done  31 out of  31 | elapsed:    0.1s remaining:    0.0s\n",
      "[Parallel(n_jobs=1)]: Done  32 out of  32 | elapsed:    0.1s remaining:    0.0s\n",
      "[Parallel(n_jobs=1)]: Done  33 out of  33 | elapsed:    0.1s remaining:    0.0s\n",
      "[Parallel(n_jobs=1)]: Done  34 out of  34 | elapsed:    0.1s remaining:    0.0s\n",
      "[Parallel(n_jobs=1)]: Done  35 out of  35 | elapsed:    0.1s remaining:    0.0s\n",
      "[Parallel(n_jobs=1)]: Done  36 out of  36 | elapsed:    0.1s remaining:    0.0s\n",
      "[Parallel(n_jobs=1)]: Done  37 out of  37 | elapsed:    0.1s remaining:    0.0s\n",
      "[Parallel(n_jobs=1)]: Done  38 out of  38 | elapsed:    0.1s remaining:    0.0s\n",
      "[Parallel(n_jobs=1)]: Done  39 out of  39 | elapsed:    0.1s remaining:    0.0s\n",
      "[Parallel(n_jobs=1)]: Done  40 out of  40 | elapsed:    0.1s remaining:    0.0s\n",
      "[Parallel(n_jobs=1)]: Done  41 out of  41 | elapsed:    0.1s remaining:    0.0s\n",
      "[Parallel(n_jobs=1)]: Done  42 out of  42 | elapsed:    0.1s remaining:    0.0s\n",
      "[Parallel(n_jobs=1)]: Done  43 out of  43 | elapsed:    0.1s remaining:    0.0s\n",
      "[Parallel(n_jobs=1)]: Done  44 out of  44 | elapsed:    0.1s remaining:    0.0s\n",
      "[Parallel(n_jobs=1)]: Done  45 out of  45 | elapsed:    0.1s remaining:    0.0s\n",
      "[Parallel(n_jobs=1)]: Done  46 out of  46 | elapsed:    0.1s remaining:    0.0s\n",
      "[Parallel(n_jobs=1)]: Done  47 out of  47 | elapsed:    0.2s remaining:    0.0s\n",
      "[Parallel(n_jobs=1)]: Done  48 out of  48 | elapsed:    0.2s remaining:    0.0s\n",
      "[Parallel(n_jobs=1)]: Done  49 out of  49 | elapsed:    0.2s remaining:    0.0s\n",
      "[Parallel(n_jobs=1)]: Done 150 out of 150 | elapsed:    0.5s finished\n",
      "[Parallel(n_jobs=1)]: Using backend SequentialBackend with 1 concurrent workers.\n",
      "building tree 1 of 150\n",
      "[Parallel(n_jobs=1)]: Done   1 out of   1 | elapsed:    0.2s remaining:    0.0s\n",
      "building tree 2 of 150\n",
      "[Parallel(n_jobs=1)]: Done   2 out of   2 | elapsed:    0.4s remaining:    0.0s\n",
      "building tree 3 of 150\n",
      "[Parallel(n_jobs=1)]: Done   3 out of   3 | elapsed:    0.7s remaining:    0.0s\n",
      "building tree 4 of 150\n",
      "[Parallel(n_jobs=1)]: Done   4 out of   4 | elapsed:    0.9s remaining:    0.0s\n",
      "building tree 5 of 150\n",
      "[Parallel(n_jobs=1)]: Done   5 out of   5 | elapsed:    1.1s remaining:    0.0s\n",
      "building tree 6 of 150\n",
      "[Parallel(n_jobs=1)]: Done   6 out of   6 | elapsed:    1.3s remaining:    0.0s\n",
      "building tree 7 of 150\n",
      "[Parallel(n_jobs=1)]: Done   7 out of   7 | elapsed:    1.5s remaining:    0.0s\n",
      "building tree 8 of 150\n",
      "[Parallel(n_jobs=1)]: Done   8 out of   8 | elapsed:    1.8s remaining:    0.0s\n",
      "building tree 9 of 150\n",
      "[Parallel(n_jobs=1)]: Done   9 out of   9 | elapsed:    2.0s remaining:    0.0s\n",
      "building tree 10 of 150\n",
      "[Parallel(n_jobs=1)]: Done  10 out of  10 | elapsed:    2.2s remaining:    0.0s\n",
      "building tree 11 of 150\n",
      "[Parallel(n_jobs=1)]: Done  11 out of  11 | elapsed:    2.5s remaining:    0.0s\n",
      "building tree 12 of 150\n",
      "[Parallel(n_jobs=1)]: Done  12 out of  12 | elapsed:    2.7s remaining:    0.0s\n",
      "building tree 13 of 150\n",
      "[Parallel(n_jobs=1)]: Done  13 out of  13 | elapsed:    2.9s remaining:    0.0s\n",
      "building tree 14 of 150\n",
      "[Parallel(n_jobs=1)]: Done  14 out of  14 | elapsed:    3.2s remaining:    0.0s\n",
      "building tree 15 of 150\n",
      "[Parallel(n_jobs=1)]: Done  15 out of  15 | elapsed:    3.4s remaining:    0.0s\n",
      "building tree 16 of 150\n",
      "[Parallel(n_jobs=1)]: Done  16 out of  16 | elapsed:    3.6s remaining:    0.0s\n",
      "building tree 17 of 150\n",
      "[Parallel(n_jobs=1)]: Done  17 out of  17 | elapsed:    3.8s remaining:    0.0s\n",
      "building tree 18 of 150\n",
      "[Parallel(n_jobs=1)]: Done  18 out of  18 | elapsed:    4.1s remaining:    0.0s\n",
      "building tree 19 of 150\n",
      "[Parallel(n_jobs=1)]: Done  19 out of  19 | elapsed:    4.3s remaining:    0.0s\n",
      "building tree 20 of 150\n",
      "[Parallel(n_jobs=1)]: Done  20 out of  20 | elapsed:    4.5s remaining:    0.0s\n",
      "building tree 21 of 150\n",
      "[Parallel(n_jobs=1)]: Done  21 out of  21 | elapsed:    4.7s remaining:    0.0s\n",
      "building tree 22 of 150\n",
      "[Parallel(n_jobs=1)]: Done  22 out of  22 | elapsed:    4.9s remaining:    0.0s\n",
      "building tree 23 of 150\n",
      "[Parallel(n_jobs=1)]: Done  23 out of  23 | elapsed:    5.2s remaining:    0.0s\n",
      "building tree 24 of 150\n",
      "[Parallel(n_jobs=1)]: Done  24 out of  24 | elapsed:    5.4s remaining:    0.0s\n",
      "building tree 25 of 150\n",
      "[Parallel(n_jobs=1)]: Done  25 out of  25 | elapsed:    5.6s remaining:    0.0s\n",
      "building tree 26 of 150\n",
      "[Parallel(n_jobs=1)]: Done  26 out of  26 | elapsed:    5.8s remaining:    0.0s\n",
      "building tree 27 of 150\n",
      "[Parallel(n_jobs=1)]: Done  27 out of  27 | elapsed:    6.0s remaining:    0.0s\n",
      "building tree 28 of 150\n",
      "[Parallel(n_jobs=1)]: Done  28 out of  28 | elapsed:    6.3s remaining:    0.0s\n",
      "building tree 29 of 150\n",
      "[Parallel(n_jobs=1)]: Done  29 out of  29 | elapsed:    6.5s remaining:    0.0s\n",
      "building tree 30 of 150\n",
      "[Parallel(n_jobs=1)]: Done  30 out of  30 | elapsed:    6.7s remaining:    0.0s\n",
      "building tree 31 of 150\n",
      "[Parallel(n_jobs=1)]: Done  31 out of  31 | elapsed:    6.9s remaining:    0.0s\n",
      "building tree 32 of 150\n",
      "[Parallel(n_jobs=1)]: Done  32 out of  32 | elapsed:    7.2s remaining:    0.0s\n",
      "building tree 33 of 150\n",
      "[Parallel(n_jobs=1)]: Done  33 out of  33 | elapsed:    7.4s remaining:    0.0s\n",
      "building tree 34 of 150\n",
      "[Parallel(n_jobs=1)]: Done  34 out of  34 | elapsed:    7.6s remaining:    0.0s\n",
      "building tree 35 of 150\n",
      "[Parallel(n_jobs=1)]: Done  35 out of  35 | elapsed:    7.9s remaining:    0.0s\n",
      "building tree 36 of 150\n",
      "[Parallel(n_jobs=1)]: Done  36 out of  36 | elapsed:    8.1s remaining:    0.0s\n",
      "building tree 37 of 150\n",
      "[Parallel(n_jobs=1)]: Done  37 out of  37 | elapsed:    8.4s remaining:    0.0s\n",
      "building tree 38 of 150\n",
      "[Parallel(n_jobs=1)]: Done  38 out of  38 | elapsed:    8.6s remaining:    0.0s\n",
      "building tree 39 of 150\n",
      "[Parallel(n_jobs=1)]: Done  39 out of  39 | elapsed:    8.8s remaining:    0.0s\n",
      "building tree 40 of 150\n",
      "[Parallel(n_jobs=1)]: Done  40 out of  40 | elapsed:    9.0s remaining:    0.0s\n",
      "building tree 41 of 150\n",
      "[Parallel(n_jobs=1)]: Done  41 out of  41 | elapsed:    9.3s remaining:    0.0s\n",
      "building tree 42 of 150\n",
      "[Parallel(n_jobs=1)]: Done  42 out of  42 | elapsed:    9.5s remaining:    0.0s\n",
      "building tree 43 of 150\n",
      "[Parallel(n_jobs=1)]: Done  43 out of  43 | elapsed:    9.7s remaining:    0.0s\n",
      "building tree 44 of 150\n",
      "[Parallel(n_jobs=1)]: Done  44 out of  44 | elapsed:    9.9s remaining:    0.0s\n",
      "building tree 45 of 150\n",
      "[Parallel(n_jobs=1)]: Done  45 out of  45 | elapsed:   10.1s remaining:    0.0s\n",
      "building tree 46 of 150\n",
      "[Parallel(n_jobs=1)]: Done  46 out of  46 | elapsed:   10.4s remaining:    0.0s\n",
      "building tree 47 of 150\n",
      "[Parallel(n_jobs=1)]: Done  47 out of  47 | elapsed:   10.6s remaining:    0.0s\n",
      "building tree 48 of 150\n",
      "[Parallel(n_jobs=1)]: Done  48 out of  48 | elapsed:   10.8s remaining:    0.0s\n",
      "building tree 49 of 150\n",
      "[Parallel(n_jobs=1)]: Done  49 out of  49 | elapsed:   11.0s remaining:    0.0s\n",
      "building tree 50 of 150\n",
      "building tree 51 of 150\n",
      "building tree 52 of 150\n",
      "building tree 53 of 150\n",
      "building tree 54 of 150\n",
      "building tree 55 of 150\n",
      "building tree 56 of 150\n",
      "building tree 57 of 150\n",
      "building tree 58 of 150\n",
      "building tree 59 of 150\n",
      "building tree 60 of 150\n",
      "building tree 61 of 150\n",
      "building tree 62 of 150\n",
      "building tree 63 of 150\n",
      "building tree 64 of 150\n",
      "building tree 65 of 150\n",
      "building tree 66 of 150\n",
      "building tree 67 of 150\n",
      "building tree 68 of 150\n",
      "building tree 69 of 150\n",
      "building tree 70 of 150\n",
      "building tree 71 of 150\n",
      "building tree 72 of 150\n",
      "building tree 73 of 150\n",
      "building tree 74 of 150\n",
      "building tree 75 of 150\n",
      "building tree 76 of 150\n",
      "building tree 77 of 150\n",
      "building tree 78 of 150\n",
      "building tree 79 of 150\n",
      "building tree 80 of 150\n",
      "building tree 81 of 150\n",
      "building tree 82 of 150\n",
      "building tree 83 of 150\n",
      "building tree 84 of 150\n",
      "building tree 85 of 150\n",
      "building tree 86 of 150\n",
      "building tree 87 of 150\n",
      "building tree 88 of 150\n",
      "building tree 89 of 150\n",
      "building tree 90 of 150\n",
      "building tree 91 of 150\n",
      "building tree 92 of 150\n",
      "building tree 93 of 150\n",
      "building tree 94 of 150\n",
      "building tree 95 of 150\n",
      "building tree 96 of 150\n",
      "building tree 97 of 150\n",
      "building tree 98 of 150\n",
      "building tree 99 of 150\n",
      "building tree 100 of 150\n",
      "building tree 101 of 150\n",
      "building tree 102 of 150\n",
      "building tree 103 of 150\n",
      "building tree 104 of 150\n",
      "building tree 105 of 150\n",
      "building tree 106 of 150\n",
      "building tree 107 of 150\n",
      "building tree 108 of 150\n",
      "building tree 109 of 150\n",
      "building tree 110 of 150\n",
      "building tree 111 of 150\n",
      "building tree 112 of 150\n",
      "building tree 113 of 150\n",
      "building tree 114 of 150\n",
      "building tree 115 of 150\n",
      "building tree 116 of 150\n",
      "building tree 117 of 150\n",
      "building tree 118 of 150\n",
      "building tree 119 of 150\n",
      "building tree 120 of 150\n",
      "building tree 121 of 150\n",
      "building tree 122 of 150\n",
      "building tree 123 of 150\n",
      "building tree 124 of 150\n",
      "building tree 125 of 150\n",
      "building tree 126 of 150\n",
      "building tree 127 of 150\n",
      "building tree 128 of 150\n",
      "building tree 129 of 150\n",
      "building tree 130 of 150\n",
      "building tree 131 of 150\n",
      "building tree 132 of 150\n",
      "building tree 133 of 150\n",
      "building tree 134 of 150\n",
      "building tree 135 of 150\n",
      "building tree 136 of 150\n",
      "building tree 137 of 150\n",
      "building tree 138 of 150\n",
      "building tree 139 of 150\n",
      "building tree 140 of 150\n",
      "building tree 141 of 150\n",
      "building tree 142 of 150\n",
      "building tree 143 of 150\n",
      "building tree 144 of 150\n",
      "building tree 145 of 150\n",
      "building tree 146 of 150\n",
      "building tree 147 of 150\n",
      "building tree 148 of 150\n",
      "building tree 149 of 150\n",
      "building tree 150 of 150\n",
      "[Parallel(n_jobs=1)]: Done 150 out of 150 | elapsed:   34.8s finished\n",
      "Using ThreadingBackend as joblib.Parallel backend instead of LokyBackend as the latter does not provide shared memory semantics.\n",
      "[Parallel(n_jobs=1)]: Using backend SequentialBackend with 1 concurrent workers.\n",
      "[Parallel(n_jobs=1)]: Done   1 out of   1 | elapsed:    0.0s remaining:    0.0s\n",
      "[Parallel(n_jobs=1)]: Done   2 out of   2 | elapsed:    0.0s remaining:    0.0s\n",
      "[Parallel(n_jobs=1)]: Done   3 out of   3 | elapsed:    0.0s remaining:    0.0s\n",
      "[Parallel(n_jobs=1)]: Done   4 out of   4 | elapsed:    0.0s remaining:    0.0s\n",
      "[Parallel(n_jobs=1)]: Done   5 out of   5 | elapsed:    0.0s remaining:    0.0s\n",
      "[Parallel(n_jobs=1)]: Done   6 out of   6 | elapsed:    0.0s remaining:    0.0s\n",
      "[Parallel(n_jobs=1)]: Done   7 out of   7 | elapsed:    0.0s remaining:    0.0s\n",
      "[Parallel(n_jobs=1)]: Done   8 out of   8 | elapsed:    0.0s remaining:    0.0s\n",
      "[Parallel(n_jobs=1)]: Done   9 out of   9 | elapsed:    0.0s remaining:    0.0s\n",
      "[Parallel(n_jobs=1)]: Done  10 out of  10 | elapsed:    0.0s remaining:    0.0s\n",
      "[Parallel(n_jobs=1)]: Done  11 out of  11 | elapsed:    0.0s remaining:    0.0s\n",
      "[Parallel(n_jobs=1)]: Done  12 out of  12 | elapsed:    0.0s remaining:    0.0s\n",
      "[Parallel(n_jobs=1)]: Done  13 out of  13 | elapsed:    0.0s remaining:    0.0s\n",
      "[Parallel(n_jobs=1)]: Done  14 out of  14 | elapsed:    0.0s remaining:    0.0s\n",
      "[Parallel(n_jobs=1)]: Done  15 out of  15 | elapsed:    0.0s remaining:    0.0s\n",
      "[Parallel(n_jobs=1)]: Done  16 out of  16 | elapsed:    0.1s remaining:    0.0s\n",
      "[Parallel(n_jobs=1)]: Done  17 out of  17 | elapsed:    0.1s remaining:    0.0s\n",
      "[Parallel(n_jobs=1)]: Done  18 out of  18 | elapsed:    0.1s remaining:    0.0s\n",
      "[Parallel(n_jobs=1)]: Done  19 out of  19 | elapsed:    0.1s remaining:    0.0s\n",
      "[Parallel(n_jobs=1)]: Done  20 out of  20 | elapsed:    0.1s remaining:    0.0s\n",
      "[Parallel(n_jobs=1)]: Done  21 out of  21 | elapsed:    0.1s remaining:    0.0s\n",
      "[Parallel(n_jobs=1)]: Done  22 out of  22 | elapsed:    0.1s remaining:    0.0s\n",
      "[Parallel(n_jobs=1)]: Done  23 out of  23 | elapsed:    0.1s remaining:    0.0s\n",
      "[Parallel(n_jobs=1)]: Done  24 out of  24 | elapsed:    0.1s remaining:    0.0s\n",
      "[Parallel(n_jobs=1)]: Done  25 out of  25 | elapsed:    0.1s remaining:    0.0s\n",
      "[Parallel(n_jobs=1)]: Done  26 out of  26 | elapsed:    0.1s remaining:    0.0s\n",
      "[Parallel(n_jobs=1)]: Done  27 out of  27 | elapsed:    0.1s remaining:    0.0s\n",
      "[Parallel(n_jobs=1)]: Done  28 out of  28 | elapsed:    0.1s remaining:    0.0s\n",
      "[Parallel(n_jobs=1)]: Done  29 out of  29 | elapsed:    0.1s remaining:    0.0s\n",
      "[Parallel(n_jobs=1)]: Done  30 out of  30 | elapsed:    0.1s remaining:    0.0s\n",
      "[Parallel(n_jobs=1)]: Done  31 out of  31 | elapsed:    0.1s remaining:    0.0s\n",
      "[Parallel(n_jobs=1)]: Done  32 out of  32 | elapsed:    0.1s remaining:    0.0s\n",
      "[Parallel(n_jobs=1)]: Done  33 out of  33 | elapsed:    0.1s remaining:    0.0s\n",
      "[Parallel(n_jobs=1)]: Done  34 out of  34 | elapsed:    0.1s remaining:    0.0s\n",
      "[Parallel(n_jobs=1)]: Done  35 out of  35 | elapsed:    0.1s remaining:    0.0s\n",
      "[Parallel(n_jobs=1)]: Done  36 out of  36 | elapsed:    0.1s remaining:    0.0s\n",
      "[Parallel(n_jobs=1)]: Done  37 out of  37 | elapsed:    0.1s remaining:    0.0s\n",
      "[Parallel(n_jobs=1)]: Done  38 out of  38 | elapsed:    0.1s remaining:    0.0s\n",
      "[Parallel(n_jobs=1)]: Done  39 out of  39 | elapsed:    0.1s remaining:    0.0s\n",
      "[Parallel(n_jobs=1)]: Done  40 out of  40 | elapsed:    0.1s remaining:    0.0s\n",
      "[Parallel(n_jobs=1)]: Done  41 out of  41 | elapsed:    0.1s remaining:    0.0s\n",
      "[Parallel(n_jobs=1)]: Done  42 out of  42 | elapsed:    0.1s remaining:    0.0s\n",
      "[Parallel(n_jobs=1)]: Done  43 out of  43 | elapsed:    0.1s remaining:    0.0s\n",
      "[Parallel(n_jobs=1)]: Done  44 out of  44 | elapsed:    0.1s remaining:    0.0s\n",
      "[Parallel(n_jobs=1)]: Done  45 out of  45 | elapsed:    0.1s remaining:    0.0s\n",
      "[Parallel(n_jobs=1)]: Done  46 out of  46 | elapsed:    0.1s remaining:    0.0s\n",
      "[Parallel(n_jobs=1)]: Done  47 out of  47 | elapsed:    0.2s remaining:    0.0s\n",
      "[Parallel(n_jobs=1)]: Done  48 out of  48 | elapsed:    0.2s remaining:    0.0s\n",
      "[Parallel(n_jobs=1)]: Done  49 out of  49 | elapsed:    0.2s remaining:    0.0s\n",
      "[Parallel(n_jobs=1)]: Done 150 out of 150 | elapsed:    0.5s finished\n",
      "[Parallel(n_jobs=1)]: Using backend SequentialBackend with 1 concurrent workers.\n",
      "building tree 1 of 150\n",
      "[Parallel(n_jobs=1)]: Done   1 out of   1 | elapsed:    0.3s remaining:    0.0s\n",
      "building tree 2 of 150\n",
      "[Parallel(n_jobs=1)]: Done   2 out of   2 | elapsed:    0.5s remaining:    0.0s\n",
      "building tree 3 of 150\n",
      "[Parallel(n_jobs=1)]: Done   3 out of   3 | elapsed:    0.7s remaining:    0.0s\n",
      "building tree 4 of 150\n",
      "[Parallel(n_jobs=1)]: Done   4 out of   4 | elapsed:    0.9s remaining:    0.0s\n",
      "building tree 5 of 150\n",
      "[Parallel(n_jobs=1)]: Done   5 out of   5 | elapsed:    1.2s remaining:    0.0s\n",
      "building tree 6 of 150\n",
      "[Parallel(n_jobs=1)]: Done   6 out of   6 | elapsed:    1.4s remaining:    0.0s\n",
      "building tree 7 of 150\n",
      "[Parallel(n_jobs=1)]: Done   7 out of   7 | elapsed:    1.7s remaining:    0.0s\n",
      "building tree 8 of 150\n",
      "[Parallel(n_jobs=1)]: Done   8 out of   8 | elapsed:    1.9s remaining:    0.0s\n",
      "building tree 9 of 150\n",
      "[Parallel(n_jobs=1)]: Done   9 out of   9 | elapsed:    2.1s remaining:    0.0s\n",
      "building tree 10 of 150\n",
      "[Parallel(n_jobs=1)]: Done  10 out of  10 | elapsed:    2.4s remaining:    0.0s\n",
      "building tree 11 of 150\n",
      "[Parallel(n_jobs=1)]: Done  11 out of  11 | elapsed:    2.7s remaining:    0.0s\n",
      "building tree 12 of 150\n",
      "[Parallel(n_jobs=1)]: Done  12 out of  12 | elapsed:    2.9s remaining:    0.0s\n",
      "building tree 13 of 150\n",
      "[Parallel(n_jobs=1)]: Done  13 out of  13 | elapsed:    3.2s remaining:    0.0s\n",
      "building tree 14 of 150\n",
      "[Parallel(n_jobs=1)]: Done  14 out of  14 | elapsed:    3.4s remaining:    0.0s\n",
      "building tree 15 of 150\n",
      "[Parallel(n_jobs=1)]: Done  15 out of  15 | elapsed:    3.7s remaining:    0.0s\n",
      "building tree 16 of 150\n",
      "[Parallel(n_jobs=1)]: Done  16 out of  16 | elapsed:    3.9s remaining:    0.0s\n",
      "building tree 17 of 150\n",
      "[Parallel(n_jobs=1)]: Done  17 out of  17 | elapsed:    4.2s remaining:    0.0s\n",
      "building tree 18 of 150\n",
      "[Parallel(n_jobs=1)]: Done  18 out of  18 | elapsed:    4.4s remaining:    0.0s\n",
      "building tree 19 of 150\n",
      "[Parallel(n_jobs=1)]: Done  19 out of  19 | elapsed:    4.7s remaining:    0.0s\n",
      "building tree 20 of 150\n",
      "[Parallel(n_jobs=1)]: Done  20 out of  20 | elapsed:    4.9s remaining:    0.0s\n",
      "building tree 21 of 150\n",
      "[Parallel(n_jobs=1)]: Done  21 out of  21 | elapsed:    5.1s remaining:    0.0s\n",
      "building tree 22 of 150\n",
      "[Parallel(n_jobs=1)]: Done  22 out of  22 | elapsed:    5.4s remaining:    0.0s\n",
      "building tree 23 of 150\n",
      "[Parallel(n_jobs=1)]: Done  23 out of  23 | elapsed:    5.6s remaining:    0.0s\n",
      "building tree 24 of 150\n",
      "[Parallel(n_jobs=1)]: Done  24 out of  24 | elapsed:    5.9s remaining:    0.0s\n",
      "building tree 25 of 150\n",
      "[Parallel(n_jobs=1)]: Done  25 out of  25 | elapsed:    6.1s remaining:    0.0s\n",
      "building tree 26 of 150\n",
      "[Parallel(n_jobs=1)]: Done  26 out of  26 | elapsed:    6.3s remaining:    0.0s\n",
      "building tree 27 of 150\n",
      "[Parallel(n_jobs=1)]: Done  27 out of  27 | elapsed:    6.6s remaining:    0.0s\n",
      "building tree 28 of 150\n",
      "[Parallel(n_jobs=1)]: Done  28 out of  28 | elapsed:    6.8s remaining:    0.0s\n",
      "building tree 29 of 150\n",
      "[Parallel(n_jobs=1)]: Done  29 out of  29 | elapsed:    7.0s remaining:    0.0s\n",
      "building tree 30 of 150\n",
      "[Parallel(n_jobs=1)]: Done  30 out of  30 | elapsed:    7.3s remaining:    0.0s\n",
      "building tree 31 of 150\n",
      "[Parallel(n_jobs=1)]: Done  31 out of  31 | elapsed:    7.5s remaining:    0.0s\n",
      "building tree 32 of 150\n",
      "[Parallel(n_jobs=1)]: Done  32 out of  32 | elapsed:    7.8s remaining:    0.0s\n",
      "building tree 33 of 150\n",
      "[Parallel(n_jobs=1)]: Done  33 out of  33 | elapsed:    8.0s remaining:    0.0s\n",
      "building tree 34 of 150\n",
      "[Parallel(n_jobs=1)]: Done  34 out of  34 | elapsed:    8.3s remaining:    0.0s\n",
      "building tree 35 of 150\n",
      "[Parallel(n_jobs=1)]: Done  35 out of  35 | elapsed:    8.6s remaining:    0.0s\n",
      "building tree 36 of 150\n",
      "[Parallel(n_jobs=1)]: Done  36 out of  36 | elapsed:    8.9s remaining:    0.0s\n",
      "building tree 37 of 150\n",
      "[Parallel(n_jobs=1)]: Done  37 out of  37 | elapsed:    9.3s remaining:    0.0s\n",
      "building tree 38 of 150\n",
      "[Parallel(n_jobs=1)]: Done  38 out of  38 | elapsed:    9.5s remaining:    0.0s\n",
      "building tree 39 of 150\n",
      "[Parallel(n_jobs=1)]: Done  39 out of  39 | elapsed:    9.8s remaining:    0.0s\n",
      "building tree 40 of 150\n",
      "[Parallel(n_jobs=1)]: Done  40 out of  40 | elapsed:   10.0s remaining:    0.0s\n",
      "building tree 41 of 150\n",
      "[Parallel(n_jobs=1)]: Done  41 out of  41 | elapsed:   10.3s remaining:    0.0s\n",
      "building tree 42 of 150\n",
      "[Parallel(n_jobs=1)]: Done  42 out of  42 | elapsed:   10.5s remaining:    0.0s\n",
      "building tree 43 of 150\n",
      "[Parallel(n_jobs=1)]: Done  43 out of  43 | elapsed:   10.7s remaining:    0.0s\n",
      "building tree 44 of 150\n",
      "[Parallel(n_jobs=1)]: Done  44 out of  44 | elapsed:   11.0s remaining:    0.0s\n",
      "building tree 45 of 150\n",
      "[Parallel(n_jobs=1)]: Done  45 out of  45 | elapsed:   11.2s remaining:    0.0s\n",
      "building tree 46 of 150\n",
      "[Parallel(n_jobs=1)]: Done  46 out of  46 | elapsed:   11.5s remaining:    0.0s\n",
      "building tree 47 of 150\n",
      "[Parallel(n_jobs=1)]: Done  47 out of  47 | elapsed:   11.8s remaining:    0.0s\n",
      "building tree 48 of 150\n",
      "[Parallel(n_jobs=1)]: Done  48 out of  48 | elapsed:   12.0s remaining:    0.0s\n",
      "building tree 49 of 150\n",
      "[Parallel(n_jobs=1)]: Done  49 out of  49 | elapsed:   12.2s remaining:    0.0s\n",
      "building tree 50 of 150\n",
      "building tree 51 of 150\n",
      "building tree 52 of 150\n",
      "building tree 53 of 150\n",
      "building tree 54 of 150\n",
      "building tree 55 of 150\n",
      "building tree 56 of 150\n",
      "building tree 57 of 150\n",
      "building tree 58 of 150\n",
      "building tree 59 of 150\n",
      "building tree 60 of 150\n",
      "building tree 61 of 150\n",
      "building tree 62 of 150\n",
      "building tree 63 of 150\n",
      "building tree 64 of 150\n",
      "building tree 65 of 150\n",
      "building tree 66 of 150\n",
      "building tree 67 of 150\n",
      "building tree 68 of 150\n",
      "building tree 69 of 150\n",
      "building tree 70 of 150\n",
      "building tree 71 of 150\n",
      "building tree 72 of 150\n",
      "building tree 73 of 150\n",
      "building tree 74 of 150\n",
      "building tree 75 of 150\n",
      "building tree 76 of 150\n",
      "building tree 77 of 150\n",
      "building tree 78 of 150\n",
      "building tree 79 of 150\n",
      "building tree 80 of 150\n",
      "building tree 81 of 150\n",
      "building tree 82 of 150\n",
      "building tree 83 of 150\n",
      "building tree 84 of 150\n",
      "building tree 85 of 150\n",
      "building tree 86 of 150\n",
      "building tree 87 of 150\n",
      "building tree 88 of 150\n",
      "building tree 89 of 150\n",
      "building tree 90 of 150\n",
      "building tree 91 of 150\n",
      "building tree 92 of 150\n",
      "building tree 93 of 150\n",
      "building tree 94 of 150\n",
      "building tree 95 of 150\n",
      "building tree 96 of 150\n",
      "building tree 97 of 150\n",
      "building tree 98 of 150\n",
      "building tree 99 of 150\n",
      "building tree 100 of 150\n",
      "building tree 101 of 150\n",
      "building tree 102 of 150\n",
      "building tree 103 of 150\n",
      "building tree 104 of 150\n",
      "building tree 105 of 150\n",
      "building tree 106 of 150\n",
      "building tree 107 of 150\n",
      "building tree 108 of 150\n",
      "building tree 109 of 150\n",
      "building tree 110 of 150\n",
      "building tree 111 of 150\n",
      "building tree 112 of 150\n",
      "building tree 113 of 150\n",
      "building tree 114 of 150\n",
      "building tree 115 of 150\n",
      "building tree 116 of 150\n",
      "building tree 117 of 150\n",
      "building tree 118 of 150\n",
      "building tree 119 of 150\n",
      "building tree 120 of 150\n",
      "building tree 121 of 150\n",
      "building tree 122 of 150\n",
      "building tree 123 of 150\n",
      "building tree 124 of 150\n",
      "building tree 125 of 150\n",
      "building tree 126 of 150\n",
      "building tree 127 of 150\n",
      "building tree 128 of 150\n",
      "building tree 129 of 150\n",
      "building tree 130 of 150\n",
      "building tree 131 of 150\n",
      "building tree 132 of 150\n",
      "building tree 133 of 150\n",
      "building tree 134 of 150\n",
      "building tree 135 of 150\n",
      "building tree 136 of 150\n",
      "building tree 137 of 150\n",
      "building tree 138 of 150\n",
      "building tree 139 of 150\n",
      "building tree 140 of 150\n",
      "building tree 141 of 150\n",
      "building tree 142 of 150\n",
      "building tree 143 of 150\n",
      "building tree 144 of 150\n",
      "building tree 145 of 150\n",
      "building tree 146 of 150\n",
      "building tree 147 of 150\n",
      "building tree 148 of 150\n",
      "building tree 149 of 150\n",
      "building tree 150 of 150\n",
      "[Parallel(n_jobs=1)]: Done 150 out of 150 | elapsed:   37.4s finished\n",
      "Using ThreadingBackend as joblib.Parallel backend instead of LokyBackend as the latter does not provide shared memory semantics.\n",
      "[Parallel(n_jobs=1)]: Using backend SequentialBackend with 1 concurrent workers.\n",
      "[Parallel(n_jobs=1)]: Done   1 out of   1 | elapsed:    0.0s remaining:    0.0s\n",
      "[Parallel(n_jobs=1)]: Done   2 out of   2 | elapsed:    0.0s remaining:    0.0s\n",
      "[Parallel(n_jobs=1)]: Done   3 out of   3 | elapsed:    0.0s remaining:    0.0s\n",
      "[Parallel(n_jobs=1)]: Done   4 out of   4 | elapsed:    0.0s remaining:    0.0s\n",
      "[Parallel(n_jobs=1)]: Done   5 out of   5 | elapsed:    0.0s remaining:    0.0s\n",
      "[Parallel(n_jobs=1)]: Done   6 out of   6 | elapsed:    0.0s remaining:    0.0s\n",
      "[Parallel(n_jobs=1)]: Done   7 out of   7 | elapsed:    0.0s remaining:    0.0s\n",
      "[Parallel(n_jobs=1)]: Done   8 out of   8 | elapsed:    0.0s remaining:    0.0s\n",
      "[Parallel(n_jobs=1)]: Done   9 out of   9 | elapsed:    0.0s remaining:    0.0s\n",
      "[Parallel(n_jobs=1)]: Done  10 out of  10 | elapsed:    0.0s remaining:    0.0s\n",
      "[Parallel(n_jobs=1)]: Done  11 out of  11 | elapsed:    0.0s remaining:    0.0s\n",
      "[Parallel(n_jobs=1)]: Done  12 out of  12 | elapsed:    0.0s remaining:    0.0s\n",
      "[Parallel(n_jobs=1)]: Done  13 out of  13 | elapsed:    0.0s remaining:    0.0s\n",
      "[Parallel(n_jobs=1)]: Done  14 out of  14 | elapsed:    0.0s remaining:    0.0s\n",
      "[Parallel(n_jobs=1)]: Done  15 out of  15 | elapsed:    0.0s remaining:    0.0s\n",
      "[Parallel(n_jobs=1)]: Done  16 out of  16 | elapsed:    0.1s remaining:    0.0s\n",
      "[Parallel(n_jobs=1)]: Done  17 out of  17 | elapsed:    0.1s remaining:    0.0s\n",
      "[Parallel(n_jobs=1)]: Done  18 out of  18 | elapsed:    0.1s remaining:    0.0s\n",
      "[Parallel(n_jobs=1)]: Done  19 out of  19 | elapsed:    0.1s remaining:    0.0s\n",
      "[Parallel(n_jobs=1)]: Done  20 out of  20 | elapsed:    0.1s remaining:    0.0s\n",
      "[Parallel(n_jobs=1)]: Done  21 out of  21 | elapsed:    0.1s remaining:    0.0s\n",
      "[Parallel(n_jobs=1)]: Done  22 out of  22 | elapsed:    0.1s remaining:    0.0s\n",
      "[Parallel(n_jobs=1)]: Done  23 out of  23 | elapsed:    0.1s remaining:    0.0s\n",
      "[Parallel(n_jobs=1)]: Done  24 out of  24 | elapsed:    0.1s remaining:    0.0s\n",
      "[Parallel(n_jobs=1)]: Done  25 out of  25 | elapsed:    0.1s remaining:    0.0s\n",
      "[Parallel(n_jobs=1)]: Done  26 out of  26 | elapsed:    0.1s remaining:    0.0s\n",
      "[Parallel(n_jobs=1)]: Done  27 out of  27 | elapsed:    0.1s remaining:    0.0s\n",
      "[Parallel(n_jobs=1)]: Done  28 out of  28 | elapsed:    0.1s remaining:    0.0s\n",
      "[Parallel(n_jobs=1)]: Done  29 out of  29 | elapsed:    0.1s remaining:    0.0s\n",
      "[Parallel(n_jobs=1)]: Done  30 out of  30 | elapsed:    0.1s remaining:    0.0s\n",
      "[Parallel(n_jobs=1)]: Done  31 out of  31 | elapsed:    0.1s remaining:    0.0s\n",
      "[Parallel(n_jobs=1)]: Done  32 out of  32 | elapsed:    0.1s remaining:    0.0s\n",
      "[Parallel(n_jobs=1)]: Done  33 out of  33 | elapsed:    0.1s remaining:    0.0s\n",
      "[Parallel(n_jobs=1)]: Done  34 out of  34 | elapsed:    0.1s remaining:    0.0s\n",
      "[Parallel(n_jobs=1)]: Done  35 out of  35 | elapsed:    0.1s remaining:    0.0s\n",
      "[Parallel(n_jobs=1)]: Done  36 out of  36 | elapsed:    0.1s remaining:    0.0s\n",
      "[Parallel(n_jobs=1)]: Done  37 out of  37 | elapsed:    0.1s remaining:    0.0s\n",
      "[Parallel(n_jobs=1)]: Done  38 out of  38 | elapsed:    0.1s remaining:    0.0s\n",
      "[Parallel(n_jobs=1)]: Done  39 out of  39 | elapsed:    0.1s remaining:    0.0s\n",
      "[Parallel(n_jobs=1)]: Done  40 out of  40 | elapsed:    0.1s remaining:    0.0s\n",
      "[Parallel(n_jobs=1)]: Done  41 out of  41 | elapsed:    0.1s remaining:    0.0s\n",
      "[Parallel(n_jobs=1)]: Done  42 out of  42 | elapsed:    0.1s remaining:    0.0s\n",
      "[Parallel(n_jobs=1)]: Done  43 out of  43 | elapsed:    0.1s remaining:    0.0s\n",
      "[Parallel(n_jobs=1)]: Done  44 out of  44 | elapsed:    0.2s remaining:    0.0s\n",
      "[Parallel(n_jobs=1)]: Done  45 out of  45 | elapsed:    0.2s remaining:    0.0s\n",
      "[Parallel(n_jobs=1)]: Done  46 out of  46 | elapsed:    0.2s remaining:    0.0s\n",
      "[Parallel(n_jobs=1)]: Done  47 out of  47 | elapsed:    0.2s remaining:    0.0s\n",
      "[Parallel(n_jobs=1)]: Done  48 out of  48 | elapsed:    0.2s remaining:    0.0s\n",
      "[Parallel(n_jobs=1)]: Done  49 out of  49 | elapsed:    0.2s remaining:    0.0s\n",
      "[Parallel(n_jobs=1)]: Done 150 out of 150 | elapsed:    0.5s finished\n",
      "[Parallel(n_jobs=1)]: Using backend SequentialBackend with 1 concurrent workers.\n",
      "building tree 1 of 150\n",
      "[Parallel(n_jobs=1)]: Done   1 out of   1 | elapsed:    0.2s remaining:    0.0s\n",
      "building tree 2 of 150\n",
      "[Parallel(n_jobs=1)]: Done   2 out of   2 | elapsed:    0.5s remaining:    0.0s\n",
      "building tree 3 of 150\n",
      "[Parallel(n_jobs=1)]: Done   3 out of   3 | elapsed:    0.7s remaining:    0.0s\n",
      "building tree 4 of 150\n",
      "[Parallel(n_jobs=1)]: Done   4 out of   4 | elapsed:    1.0s remaining:    0.0s\n",
      "building tree 5 of 150\n",
      "[Parallel(n_jobs=1)]: Done   5 out of   5 | elapsed:    1.2s remaining:    0.0s\n",
      "building tree 6 of 150\n",
      "[Parallel(n_jobs=1)]: Done   6 out of   6 | elapsed:    1.5s remaining:    0.0s\n",
      "building tree 7 of 150\n",
      "[Parallel(n_jobs=1)]: Done   7 out of   7 | elapsed:    1.7s remaining:    0.0s\n",
      "building tree 8 of 150\n",
      "[Parallel(n_jobs=1)]: Done   8 out of   8 | elapsed:    2.0s remaining:    0.0s\n",
      "building tree 9 of 150\n",
      "[Parallel(n_jobs=1)]: Done   9 out of   9 | elapsed:    2.2s remaining:    0.0s\n",
      "building tree 10 of 150\n",
      "[Parallel(n_jobs=1)]: Done  10 out of  10 | elapsed:    2.5s remaining:    0.0s\n",
      "building tree 11 of 150\n",
      "[Parallel(n_jobs=1)]: Done  11 out of  11 | elapsed:    2.7s remaining:    0.0s\n",
      "building tree 12 of 150\n",
      "[Parallel(n_jobs=1)]: Done  12 out of  12 | elapsed:    3.0s remaining:    0.0s\n",
      "building tree 13 of 150\n",
      "[Parallel(n_jobs=1)]: Done  13 out of  13 | elapsed:    3.2s remaining:    0.0s\n",
      "building tree 14 of 150\n",
      "[Parallel(n_jobs=1)]: Done  14 out of  14 | elapsed:    3.5s remaining:    0.0s\n",
      "building tree 15 of 150\n",
      "[Parallel(n_jobs=1)]: Done  15 out of  15 | elapsed:    3.7s remaining:    0.0s\n",
      "building tree 16 of 150\n",
      "[Parallel(n_jobs=1)]: Done  16 out of  16 | elapsed:    4.0s remaining:    0.0s\n",
      "building tree 17 of 150\n",
      "[Parallel(n_jobs=1)]: Done  17 out of  17 | elapsed:    4.3s remaining:    0.0s\n",
      "building tree 18 of 150\n",
      "[Parallel(n_jobs=1)]: Done  18 out of  18 | elapsed:    4.6s remaining:    0.0s\n",
      "building tree 19 of 150\n",
      "[Parallel(n_jobs=1)]: Done  19 out of  19 | elapsed:    4.8s remaining:    0.0s\n",
      "building tree 20 of 150\n",
      "[Parallel(n_jobs=1)]: Done  20 out of  20 | elapsed:    5.1s remaining:    0.0s\n",
      "building tree 21 of 150\n",
      "[Parallel(n_jobs=1)]: Done  21 out of  21 | elapsed:    5.3s remaining:    0.0s\n",
      "building tree 22 of 150\n",
      "[Parallel(n_jobs=1)]: Done  22 out of  22 | elapsed:    5.6s remaining:    0.0s\n",
      "building tree 23 of 150\n",
      "[Parallel(n_jobs=1)]: Done  23 out of  23 | elapsed:    5.9s remaining:    0.0s\n",
      "building tree 24 of 150\n",
      "[Parallel(n_jobs=1)]: Done  24 out of  24 | elapsed:    6.1s remaining:    0.0s\n",
      "building tree 25 of 150\n",
      "[Parallel(n_jobs=1)]: Done  25 out of  25 | elapsed:    6.4s remaining:    0.0s\n",
      "building tree 26 of 150\n",
      "[Parallel(n_jobs=1)]: Done  26 out of  26 | elapsed:    6.6s remaining:    0.0s\n",
      "building tree 27 of 150\n",
      "[Parallel(n_jobs=1)]: Done  27 out of  27 | elapsed:    6.8s remaining:    0.0s\n",
      "building tree 28 of 150\n",
      "[Parallel(n_jobs=1)]: Done  28 out of  28 | elapsed:    7.1s remaining:    0.0s\n",
      "building tree 29 of 150\n",
      "[Parallel(n_jobs=1)]: Done  29 out of  29 | elapsed:    7.3s remaining:    0.0s\n",
      "building tree 30 of 150\n",
      "[Parallel(n_jobs=1)]: Done  30 out of  30 | elapsed:    7.6s remaining:    0.0s\n",
      "building tree 31 of 150\n",
      "[Parallel(n_jobs=1)]: Done  31 out of  31 | elapsed:    7.9s remaining:    0.0s\n",
      "building tree 32 of 150\n",
      "[Parallel(n_jobs=1)]: Done  32 out of  32 | elapsed:    8.1s remaining:    0.0s\n",
      "building tree 33 of 150\n",
      "[Parallel(n_jobs=1)]: Done  33 out of  33 | elapsed:    8.4s remaining:    0.0s\n",
      "building tree 34 of 150\n",
      "[Parallel(n_jobs=1)]: Done  34 out of  34 | elapsed:    8.6s remaining:    0.0s\n",
      "building tree 35 of 150\n",
      "[Parallel(n_jobs=1)]: Done  35 out of  35 | elapsed:    8.9s remaining:    0.0s\n",
      "building tree 36 of 150\n",
      "[Parallel(n_jobs=1)]: Done  36 out of  36 | elapsed:    9.1s remaining:    0.0s\n",
      "building tree 37 of 150\n",
      "[Parallel(n_jobs=1)]: Done  37 out of  37 | elapsed:    9.3s remaining:    0.0s\n",
      "building tree 38 of 150\n",
      "[Parallel(n_jobs=1)]: Done  38 out of  38 | elapsed:    9.6s remaining:    0.0s\n",
      "building tree 39 of 150\n",
      "[Parallel(n_jobs=1)]: Done  39 out of  39 | elapsed:    9.8s remaining:    0.0s\n",
      "building tree 40 of 150\n",
      "[Parallel(n_jobs=1)]: Done  40 out of  40 | elapsed:   10.1s remaining:    0.0s\n",
      "building tree 41 of 150\n",
      "[Parallel(n_jobs=1)]: Done  41 out of  41 | elapsed:   10.4s remaining:    0.0s\n",
      "building tree 42 of 150\n",
      "[Parallel(n_jobs=1)]: Done  42 out of  42 | elapsed:   10.6s remaining:    0.0s\n",
      "building tree 43 of 150\n",
      "[Parallel(n_jobs=1)]: Done  43 out of  43 | elapsed:   10.9s remaining:    0.0s\n",
      "building tree 44 of 150\n",
      "[Parallel(n_jobs=1)]: Done  44 out of  44 | elapsed:   11.1s remaining:    0.0s\n",
      "building tree 45 of 150\n",
      "[Parallel(n_jobs=1)]: Done  45 out of  45 | elapsed:   11.4s remaining:    0.0s\n",
      "building tree 46 of 150\n",
      "[Parallel(n_jobs=1)]: Done  46 out of  46 | elapsed:   11.7s remaining:    0.0s\n",
      "building tree 47 of 150\n",
      "[Parallel(n_jobs=1)]: Done  47 out of  47 | elapsed:   11.9s remaining:    0.0s\n",
      "building tree 48 of 150\n",
      "[Parallel(n_jobs=1)]: Done  48 out of  48 | elapsed:   12.2s remaining:    0.0s\n",
      "building tree 49 of 150\n",
      "[Parallel(n_jobs=1)]: Done  49 out of  49 | elapsed:   12.5s remaining:    0.0s\n",
      "building tree 50 of 150\n",
      "building tree 51 of 150\n",
      "building tree 52 of 150\n",
      "building tree 53 of 150\n",
      "building tree 54 of 150\n",
      "building tree 55 of 150\n",
      "building tree 56 of 150\n",
      "building tree 57 of 150\n",
      "building tree 58 of 150\n",
      "building tree 59 of 150\n",
      "building tree 60 of 150\n",
      "building tree 61 of 150\n",
      "building tree 62 of 150\n",
      "building tree 63 of 150\n",
      "building tree 64 of 150\n",
      "building tree 65 of 150\n",
      "building tree 66 of 150\n",
      "building tree 67 of 150\n",
      "building tree 68 of 150\n",
      "building tree 69 of 150\n",
      "building tree 70 of 150\n",
      "building tree 71 of 150\n",
      "building tree 72 of 150\n",
      "building tree 73 of 150\n",
      "building tree 74 of 150\n",
      "building tree 75 of 150\n",
      "building tree 76 of 150\n",
      "building tree 77 of 150\n",
      "building tree 78 of 150\n",
      "building tree 79 of 150\n",
      "building tree 80 of 150\n",
      "building tree 81 of 150\n",
      "building tree 82 of 150\n",
      "building tree 83 of 150\n",
      "building tree 84 of 150\n",
      "building tree 85 of 150\n",
      "building tree 86 of 150\n",
      "building tree 87 of 150\n",
      "building tree 88 of 150\n",
      "building tree 89 of 150\n",
      "building tree 90 of 150\n",
      "building tree 91 of 150\n",
      "building tree 92 of 150\n",
      "building tree 93 of 150\n",
      "building tree 94 of 150\n",
      "building tree 95 of 150\n",
      "building tree 96 of 150\n",
      "building tree 97 of 150\n",
      "building tree 98 of 150\n",
      "building tree 99 of 150\n",
      "building tree 100 of 150\n",
      "building tree 101 of 150\n",
      "building tree 102 of 150\n",
      "building tree 103 of 150\n",
      "building tree 104 of 150\n",
      "building tree 105 of 150\n",
      "building tree 106 of 150\n",
      "building tree 107 of 150\n",
      "building tree 108 of 150\n",
      "building tree 109 of 150\n",
      "building tree 110 of 150\n",
      "building tree 111 of 150\n",
      "building tree 112 of 150\n",
      "building tree 113 of 150\n",
      "building tree 114 of 150\n",
      "building tree 115 of 150\n",
      "building tree 116 of 150\n",
      "building tree 117 of 150\n",
      "building tree 118 of 150\n",
      "building tree 119 of 150\n",
      "building tree 120 of 150\n",
      "building tree 121 of 150\n",
      "building tree 122 of 150\n",
      "building tree 123 of 150\n",
      "building tree 124 of 150\n",
      "building tree 125 of 150\n",
      "building tree 126 of 150\n",
      "building tree 127 of 150\n",
      "building tree 128 of 150\n",
      "building tree 129 of 150\n",
      "building tree 130 of 150\n",
      "building tree 131 of 150\n",
      "building tree 132 of 150\n",
      "building tree 133 of 150\n",
      "building tree 134 of 150\n",
      "building tree 135 of 150\n",
      "building tree 136 of 150\n",
      "building tree 137 of 150\n",
      "building tree 138 of 150\n",
      "building tree 139 of 150\n",
      "building tree 140 of 150\n",
      "building tree 141 of 150\n",
      "building tree 142 of 150\n",
      "building tree 143 of 150\n",
      "building tree 144 of 150\n",
      "building tree 145 of 150\n",
      "building tree 146 of 150\n",
      "building tree 147 of 150\n",
      "building tree 148 of 150\n",
      "building tree 149 of 150\n",
      "building tree 150 of 150\n",
      "[Parallel(n_jobs=1)]: Done 150 out of 150 | elapsed:   37.0s finished\n",
      "Using ThreadingBackend as joblib.Parallel backend instead of LokyBackend as the latter does not provide shared memory semantics.\n",
      "[Parallel(n_jobs=1)]: Using backend SequentialBackend with 1 concurrent workers.\n",
      "[Parallel(n_jobs=1)]: Done   1 out of   1 | elapsed:    0.0s remaining:    0.0s\n",
      "[Parallel(n_jobs=1)]: Done   2 out of   2 | elapsed:    0.0s remaining:    0.0s\n",
      "[Parallel(n_jobs=1)]: Done   3 out of   3 | elapsed:    0.0s remaining:    0.0s\n",
      "[Parallel(n_jobs=1)]: Done   4 out of   4 | elapsed:    0.0s remaining:    0.0s\n",
      "[Parallel(n_jobs=1)]: Done   5 out of   5 | elapsed:    0.0s remaining:    0.0s\n",
      "[Parallel(n_jobs=1)]: Done   6 out of   6 | elapsed:    0.0s remaining:    0.0s\n",
      "[Parallel(n_jobs=1)]: Done   7 out of   7 | elapsed:    0.0s remaining:    0.0s\n",
      "[Parallel(n_jobs=1)]: Done   8 out of   8 | elapsed:    0.0s remaining:    0.0s\n",
      "[Parallel(n_jobs=1)]: Done   9 out of   9 | elapsed:    0.0s remaining:    0.0s\n",
      "[Parallel(n_jobs=1)]: Done  10 out of  10 | elapsed:    0.0s remaining:    0.0s\n",
      "[Parallel(n_jobs=1)]: Done  11 out of  11 | elapsed:    0.0s remaining:    0.0s\n",
      "[Parallel(n_jobs=1)]: Done  12 out of  12 | elapsed:    0.0s remaining:    0.0s\n",
      "[Parallel(n_jobs=1)]: Done  13 out of  13 | elapsed:    0.0s remaining:    0.0s\n",
      "[Parallel(n_jobs=1)]: Done  14 out of  14 | elapsed:    0.1s remaining:    0.0s\n",
      "[Parallel(n_jobs=1)]: Done  15 out of  15 | elapsed:    0.1s remaining:    0.0s\n",
      "[Parallel(n_jobs=1)]: Done  16 out of  16 | elapsed:    0.1s remaining:    0.0s\n",
      "[Parallel(n_jobs=1)]: Done  17 out of  17 | elapsed:    0.1s remaining:    0.0s\n",
      "[Parallel(n_jobs=1)]: Done  18 out of  18 | elapsed:    0.1s remaining:    0.0s\n",
      "[Parallel(n_jobs=1)]: Done  19 out of  19 | elapsed:    0.1s remaining:    0.0s\n",
      "[Parallel(n_jobs=1)]: Done  20 out of  20 | elapsed:    0.1s remaining:    0.0s\n",
      "[Parallel(n_jobs=1)]: Done  21 out of  21 | elapsed:    0.1s remaining:    0.0s\n",
      "[Parallel(n_jobs=1)]: Done  22 out of  22 | elapsed:    0.1s remaining:    0.0s\n",
      "[Parallel(n_jobs=1)]: Done  23 out of  23 | elapsed:    0.1s remaining:    0.0s\n",
      "[Parallel(n_jobs=1)]: Done  24 out of  24 | elapsed:    0.1s remaining:    0.0s\n",
      "[Parallel(n_jobs=1)]: Done  25 out of  25 | elapsed:    0.1s remaining:    0.0s\n",
      "[Parallel(n_jobs=1)]: Done  26 out of  26 | elapsed:    0.1s remaining:    0.0s\n",
      "[Parallel(n_jobs=1)]: Done  27 out of  27 | elapsed:    0.1s remaining:    0.0s\n",
      "[Parallel(n_jobs=1)]: Done  28 out of  28 | elapsed:    0.1s remaining:    0.0s\n",
      "[Parallel(n_jobs=1)]: Done  29 out of  29 | elapsed:    0.1s remaining:    0.0s\n",
      "[Parallel(n_jobs=1)]: Done  30 out of  30 | elapsed:    0.1s remaining:    0.0s\n",
      "[Parallel(n_jobs=1)]: Done  31 out of  31 | elapsed:    0.1s remaining:    0.0s\n",
      "[Parallel(n_jobs=1)]: Done  32 out of  32 | elapsed:    0.1s remaining:    0.0s\n",
      "[Parallel(n_jobs=1)]: Done  33 out of  33 | elapsed:    0.1s remaining:    0.0s\n",
      "[Parallel(n_jobs=1)]: Done  34 out of  34 | elapsed:    0.1s remaining:    0.0s\n",
      "[Parallel(n_jobs=1)]: Done  35 out of  35 | elapsed:    0.1s remaining:    0.0s\n",
      "[Parallel(n_jobs=1)]: Done  36 out of  36 | elapsed:    0.1s remaining:    0.0s\n",
      "[Parallel(n_jobs=1)]: Done  37 out of  37 | elapsed:    0.1s remaining:    0.0s\n",
      "[Parallel(n_jobs=1)]: Done  38 out of  38 | elapsed:    0.1s remaining:    0.0s\n",
      "[Parallel(n_jobs=1)]: Done  39 out of  39 | elapsed:    0.1s remaining:    0.0s\n",
      "[Parallel(n_jobs=1)]: Done  40 out of  40 | elapsed:    0.1s remaining:    0.0s\n",
      "[Parallel(n_jobs=1)]: Done  41 out of  41 | elapsed:    0.1s remaining:    0.0s\n",
      "[Parallel(n_jobs=1)]: Done  42 out of  42 | elapsed:    0.1s remaining:    0.0s\n",
      "[Parallel(n_jobs=1)]: Done  43 out of  43 | elapsed:    0.1s remaining:    0.0s\n",
      "[Parallel(n_jobs=1)]: Done  44 out of  44 | elapsed:    0.1s remaining:    0.0s\n",
      "[Parallel(n_jobs=1)]: Done  45 out of  45 | elapsed:    0.1s remaining:    0.0s\n",
      "[Parallel(n_jobs=1)]: Done  46 out of  46 | elapsed:    0.1s remaining:    0.0s\n",
      "[Parallel(n_jobs=1)]: Done  47 out of  47 | elapsed:    0.2s remaining:    0.0s\n",
      "[Parallel(n_jobs=1)]: Done  48 out of  48 | elapsed:    0.2s remaining:    0.0s\n",
      "[Parallel(n_jobs=1)]: Done  49 out of  49 | elapsed:    0.2s remaining:    0.0s\n",
      "[Parallel(n_jobs=1)]: Done 150 out of 150 | elapsed:    0.5s finished\n",
      "[Parallel(n_jobs=1)]: Using backend SequentialBackend with 1 concurrent workers.\n",
      "building tree 1 of 150\n",
      "[Parallel(n_jobs=1)]: Done   1 out of   1 | elapsed:    0.3s remaining:    0.0s\n",
      "building tree 2 of 150\n",
      "[Parallel(n_jobs=1)]: Done   2 out of   2 | elapsed:    0.6s remaining:    0.0s\n",
      "building tree 3 of 150\n",
      "[Parallel(n_jobs=1)]: Done   3 out of   3 | elapsed:    0.9s remaining:    0.0s\n",
      "building tree 4 of 150\n",
      "[Parallel(n_jobs=1)]: Done   4 out of   4 | elapsed:    1.2s remaining:    0.0s\n",
      "building tree 5 of 150\n",
      "[Parallel(n_jobs=1)]: Done   5 out of   5 | elapsed:    1.5s remaining:    0.0s\n",
      "building tree 6 of 150\n",
      "[Parallel(n_jobs=1)]: Done   6 out of   6 | elapsed:    1.8s remaining:    0.0s\n",
      "building tree 7 of 150\n",
      "[Parallel(n_jobs=1)]: Done   7 out of   7 | elapsed:    2.1s remaining:    0.0s\n",
      "building tree 8 of 150\n",
      "[Parallel(n_jobs=1)]: Done   8 out of   8 | elapsed:    2.5s remaining:    0.0s\n",
      "building tree 9 of 150\n",
      "[Parallel(n_jobs=1)]: Done   9 out of   9 | elapsed:    2.8s remaining:    0.0s\n",
      "building tree 10 of 150\n",
      "[Parallel(n_jobs=1)]: Done  10 out of  10 | elapsed:    3.1s remaining:    0.0s\n",
      "building tree 11 of 150\n",
      "[Parallel(n_jobs=1)]: Done  11 out of  11 | elapsed:    3.4s remaining:    0.0s\n",
      "building tree 12 of 150\n",
      "[Parallel(n_jobs=1)]: Done  12 out of  12 | elapsed:    3.6s remaining:    0.0s\n",
      "building tree 13 of 150\n",
      "[Parallel(n_jobs=1)]: Done  13 out of  13 | elapsed:    3.9s remaining:    0.0s\n",
      "building tree 14 of 150\n",
      "[Parallel(n_jobs=1)]: Done  14 out of  14 | elapsed:    4.2s remaining:    0.0s\n",
      "building tree 15 of 150\n",
      "[Parallel(n_jobs=1)]: Done  15 out of  15 | elapsed:    4.6s remaining:    0.0s\n",
      "building tree 16 of 150\n",
      "[Parallel(n_jobs=1)]: Done  16 out of  16 | elapsed:    4.9s remaining:    0.0s\n",
      "building tree 17 of 150\n",
      "[Parallel(n_jobs=1)]: Done  17 out of  17 | elapsed:    5.2s remaining:    0.0s\n",
      "building tree 18 of 150\n",
      "[Parallel(n_jobs=1)]: Done  18 out of  18 | elapsed:    5.5s remaining:    0.0s\n",
      "building tree 19 of 150\n",
      "[Parallel(n_jobs=1)]: Done  19 out of  19 | elapsed:    5.8s remaining:    0.0s\n",
      "building tree 20 of 150\n",
      "[Parallel(n_jobs=1)]: Done  20 out of  20 | elapsed:    6.1s remaining:    0.0s\n",
      "building tree 21 of 150\n",
      "[Parallel(n_jobs=1)]: Done  21 out of  21 | elapsed:    6.4s remaining:    0.0s\n",
      "building tree 22 of 150\n",
      "[Parallel(n_jobs=1)]: Done  22 out of  22 | elapsed:    6.7s remaining:    0.0s\n",
      "building tree 23 of 150\n",
      "[Parallel(n_jobs=1)]: Done  23 out of  23 | elapsed:    7.0s remaining:    0.0s\n",
      "building tree 24 of 150\n",
      "[Parallel(n_jobs=1)]: Done  24 out of  24 | elapsed:    7.3s remaining:    0.0s\n",
      "building tree 25 of 150\n",
      "[Parallel(n_jobs=1)]: Done  25 out of  25 | elapsed:    7.6s remaining:    0.0s\n",
      "building tree 26 of 150\n",
      "[Parallel(n_jobs=1)]: Done  26 out of  26 | elapsed:    7.9s remaining:    0.0s\n",
      "building tree 27 of 150\n",
      "[Parallel(n_jobs=1)]: Done  27 out of  27 | elapsed:    8.2s remaining:    0.0s\n",
      "building tree 28 of 150\n",
      "[Parallel(n_jobs=1)]: Done  28 out of  28 | elapsed:    8.5s remaining:    0.0s\n",
      "building tree 29 of 150\n",
      "[Parallel(n_jobs=1)]: Done  29 out of  29 | elapsed:    8.8s remaining:    0.0s\n",
      "building tree 30 of 150\n",
      "[Parallel(n_jobs=1)]: Done  30 out of  30 | elapsed:    9.1s remaining:    0.0s\n",
      "building tree 31 of 150\n",
      "[Parallel(n_jobs=1)]: Done  31 out of  31 | elapsed:    9.4s remaining:    0.0s\n",
      "building tree 32 of 150\n",
      "[Parallel(n_jobs=1)]: Done  32 out of  32 | elapsed:    9.8s remaining:    0.0s\n",
      "building tree 33 of 150\n",
      "[Parallel(n_jobs=1)]: Done  33 out of  33 | elapsed:   10.1s remaining:    0.0s\n",
      "building tree 34 of 150\n",
      "[Parallel(n_jobs=1)]: Done  34 out of  34 | elapsed:   10.4s remaining:    0.0s\n",
      "building tree 35 of 150\n",
      "[Parallel(n_jobs=1)]: Done  35 out of  35 | elapsed:   10.7s remaining:    0.0s\n",
      "building tree 36 of 150\n",
      "[Parallel(n_jobs=1)]: Done  36 out of  36 | elapsed:   11.0s remaining:    0.0s\n",
      "building tree 37 of 150\n",
      "[Parallel(n_jobs=1)]: Done  37 out of  37 | elapsed:   11.3s remaining:    0.0s\n",
      "building tree 38 of 150\n",
      "[Parallel(n_jobs=1)]: Done  38 out of  38 | elapsed:   11.6s remaining:    0.0s\n",
      "building tree 39 of 150\n",
      "[Parallel(n_jobs=1)]: Done  39 out of  39 | elapsed:   11.9s remaining:    0.0s\n",
      "building tree 40 of 150\n",
      "[Parallel(n_jobs=1)]: Done  40 out of  40 | elapsed:   12.2s remaining:    0.0s\n",
      "building tree 41 of 150\n",
      "[Parallel(n_jobs=1)]: Done  41 out of  41 | elapsed:   12.5s remaining:    0.0s\n",
      "building tree 42 of 150\n",
      "[Parallel(n_jobs=1)]: Done  42 out of  42 | elapsed:   12.8s remaining:    0.0s\n",
      "building tree 43 of 150\n",
      "[Parallel(n_jobs=1)]: Done  43 out of  43 | elapsed:   13.1s remaining:    0.0s\n",
      "building tree 44 of 150\n",
      "[Parallel(n_jobs=1)]: Done  44 out of  44 | elapsed:   13.4s remaining:    0.0s\n",
      "building tree 45 of 150\n",
      "[Parallel(n_jobs=1)]: Done  45 out of  45 | elapsed:   13.7s remaining:    0.0s\n",
      "building tree 46 of 150\n",
      "[Parallel(n_jobs=1)]: Done  46 out of  46 | elapsed:   14.0s remaining:    0.0s\n",
      "building tree 47 of 150\n",
      "[Parallel(n_jobs=1)]: Done  47 out of  47 | elapsed:   14.3s remaining:    0.0s\n",
      "building tree 48 of 150\n",
      "[Parallel(n_jobs=1)]: Done  48 out of  48 | elapsed:   14.6s remaining:    0.0s\n",
      "building tree 49 of 150\n",
      "[Parallel(n_jobs=1)]: Done  49 out of  49 | elapsed:   14.9s remaining:    0.0s\n",
      "building tree 50 of 150\n",
      "building tree 51 of 150\n",
      "building tree 52 of 150\n",
      "building tree 53 of 150\n",
      "building tree 54 of 150\n",
      "building tree 55 of 150\n",
      "building tree 56 of 150\n",
      "building tree 57 of 150\n",
      "building tree 58 of 150\n",
      "building tree 59 of 150\n",
      "building tree 60 of 150\n",
      "building tree 61 of 150\n",
      "building tree 62 of 150\n",
      "building tree 63 of 150\n",
      "building tree 64 of 150\n",
      "building tree 65 of 150\n",
      "building tree 66 of 150\n",
      "building tree 67 of 150\n",
      "building tree 68 of 150\n",
      "building tree 69 of 150\n",
      "building tree 70 of 150\n",
      "building tree 71 of 150\n",
      "building tree 72 of 150\n",
      "building tree 73 of 150\n",
      "building tree 74 of 150\n",
      "building tree 75 of 150\n",
      "building tree 76 of 150\n",
      "building tree 77 of 150\n",
      "building tree 78 of 150\n",
      "building tree 79 of 150\n",
      "building tree 80 of 150\n",
      "building tree 81 of 150\n",
      "building tree 82 of 150\n",
      "building tree 83 of 150\n",
      "building tree 84 of 150\n",
      "building tree 85 of 150\n",
      "building tree 86 of 150\n",
      "building tree 87 of 150\n",
      "building tree 88 of 150\n",
      "building tree 89 of 150\n",
      "building tree 90 of 150\n",
      "building tree 91 of 150\n",
      "building tree 92 of 150\n",
      "building tree 93 of 150\n",
      "building tree 94 of 150\n",
      "building tree 95 of 150\n",
      "building tree 96 of 150\n",
      "building tree 97 of 150\n",
      "building tree 98 of 150\n",
      "building tree 99 of 150\n",
      "building tree 100 of 150\n",
      "building tree 101 of 150\n",
      "building tree 102 of 150\n",
      "building tree 103 of 150\n",
      "building tree 104 of 150\n",
      "building tree 105 of 150\n",
      "building tree 106 of 150\n",
      "building tree 107 of 150\n",
      "building tree 108 of 150\n",
      "building tree 109 of 150\n",
      "building tree 110 of 150\n",
      "building tree 111 of 150\n",
      "building tree 112 of 150\n",
      "building tree 113 of 150\n",
      "building tree 114 of 150\n",
      "building tree 115 of 150\n",
      "building tree 116 of 150\n",
      "building tree 117 of 150\n",
      "building tree 118 of 150\n",
      "building tree 119 of 150\n",
      "building tree 120 of 150\n",
      "building tree 121 of 150\n",
      "building tree 122 of 150\n",
      "building tree 123 of 150\n",
      "building tree 124 of 150\n",
      "building tree 125 of 150\n",
      "building tree 126 of 150\n",
      "building tree 127 of 150\n",
      "building tree 128 of 150\n",
      "building tree 129 of 150\n",
      "building tree 130 of 150\n",
      "building tree 131 of 150\n",
      "building tree 132 of 150\n",
      "building tree 133 of 150\n",
      "building tree 134 of 150\n",
      "building tree 135 of 150\n",
      "building tree 136 of 150\n",
      "building tree 137 of 150\n",
      "building tree 138 of 150\n",
      "building tree 139 of 150\n",
      "building tree 140 of 150\n",
      "building tree 141 of 150\n",
      "building tree 142 of 150\n",
      "building tree 143 of 150\n",
      "building tree 144 of 150\n",
      "building tree 145 of 150\n",
      "building tree 146 of 150\n",
      "building tree 147 of 150\n",
      "building tree 148 of 150\n",
      "building tree 149 of 150\n",
      "building tree 150 of 150\n",
      "[Parallel(n_jobs=1)]: Done 150 out of 150 | elapsed:   45.4s finished\n",
      "CPU times: user 6min 50s, sys: 1.07 s, total: 6min 51s\n",
      "Wall time: 6min 55s\n"
     ]
    },
    {
     "data": {
      "text/plain": [
       "GridSearchCV(estimator=RandomForestRegressor(random_state=12345, verbose=50),\n",
       "             param_grid=[{'max_depth': [4, 10], 'n_estimators': [50, 150]}])"
      ]
     },
     "execution_count": 129,
     "metadata": {},
     "output_type": "execute_result"
    }
   ],
   "source": [
    "%%time\n",
    "# обучим модель\n",
    "model_GSCV_rf.fit(encod_features_train, data_target_train)"
   ]
  },
  {
   "cell_type": "code",
   "execution_count": 130,
   "metadata": {},
   "outputs": [
    {
     "data": {
      "text/plain": [
       "{'max_depth': 10, 'n_estimators': 150}"
      ]
     },
     "execution_count": 130,
     "metadata": {},
     "output_type": "execute_result"
    }
   ],
   "source": [
    "# лучшие параметры модели\n",
    "model_GSCV_rf.best_params_"
   ]
  },
  {
   "cell_type": "code",
   "execution_count": 131,
   "metadata": {},
   "outputs": [
    {
     "data": {
      "text/html": [
       "<div>\n",
       "<style scoped>\n",
       "    .dataframe tbody tr th:only-of-type {\n",
       "        vertical-align: middle;\n",
       "    }\n",
       "\n",
       "    .dataframe tbody tr th {\n",
       "        vertical-align: top;\n",
       "    }\n",
       "\n",
       "    .dataframe thead th {\n",
       "        text-align: right;\n",
       "    }\n",
       "</style>\n",
       "<table border=\"1\" class=\"dataframe\">\n",
       "  <thead>\n",
       "    <tr style=\"text-align: right;\">\n",
       "      <th></th>\n",
       "      <th>mean_fit_time</th>\n",
       "      <th>std_fit_time</th>\n",
       "      <th>mean_score_time</th>\n",
       "      <th>std_score_time</th>\n",
       "      <th>param_max_depth</th>\n",
       "      <th>param_n_estimators</th>\n",
       "      <th>params</th>\n",
       "      <th>split0_test_score</th>\n",
       "      <th>split1_test_score</th>\n",
       "      <th>split2_test_score</th>\n",
       "      <th>split3_test_score</th>\n",
       "      <th>split4_test_score</th>\n",
       "      <th>mean_test_score</th>\n",
       "      <th>std_test_score</th>\n",
       "      <th>rank_test_score</th>\n",
       "    </tr>\n",
       "  </thead>\n",
       "  <tbody>\n",
       "    <tr>\n",
       "      <th>0</th>\n",
       "      <td>5.986437</td>\n",
       "      <td>0.201857</td>\n",
       "      <td>0.073946</td>\n",
       "      <td>0.004503</td>\n",
       "      <td>4</td>\n",
       "      <td>50</td>\n",
       "      <td>{'max_depth': 4, 'n_estimators': 50}</td>\n",
       "      <td>0.671272</td>\n",
       "      <td>0.665628</td>\n",
       "      <td>0.680197</td>\n",
       "      <td>0.659275</td>\n",
       "      <td>0.680708</td>\n",
       "      <td>0.671416</td>\n",
       "      <td>0.008299</td>\n",
       "      <td>3</td>\n",
       "    </tr>\n",
       "    <tr>\n",
       "      <th>1</th>\n",
       "      <td>18.155548</td>\n",
       "      <td>0.203958</td>\n",
       "      <td>0.186696</td>\n",
       "      <td>0.004501</td>\n",
       "      <td>4</td>\n",
       "      <td>150</td>\n",
       "      <td>{'max_depth': 4, 'n_estimators': 150}</td>\n",
       "      <td>0.672084</td>\n",
       "      <td>0.665047</td>\n",
       "      <td>0.678085</td>\n",
       "      <td>0.658985</td>\n",
       "      <td>0.680418</td>\n",
       "      <td>0.670924</td>\n",
       "      <td>0.007998</td>\n",
       "      <td>4</td>\n",
       "    </tr>\n",
       "    <tr>\n",
       "      <th>2</th>\n",
       "      <td>12.216912</td>\n",
       "      <td>0.516805</td>\n",
       "      <td>0.173632</td>\n",
       "      <td>0.015350</td>\n",
       "      <td>10</td>\n",
       "      <td>50</td>\n",
       "      <td>{'max_depth': 10, 'n_estimators': 50}</td>\n",
       "      <td>0.820054</td>\n",
       "      <td>0.817004</td>\n",
       "      <td>0.818284</td>\n",
       "      <td>0.813520</td>\n",
       "      <td>0.815449</td>\n",
       "      <td>0.816862</td>\n",
       "      <td>0.002254</td>\n",
       "      <td>2</td>\n",
       "    </tr>\n",
       "    <tr>\n",
       "      <th>3</th>\n",
       "      <td>36.786951</td>\n",
       "      <td>0.981866</td>\n",
       "      <td>0.472833</td>\n",
       "      <td>0.016200</td>\n",
       "      <td>10</td>\n",
       "      <td>150</td>\n",
       "      <td>{'max_depth': 10, 'n_estimators': 150}</td>\n",
       "      <td>0.820382</td>\n",
       "      <td>0.817733</td>\n",
       "      <td>0.818897</td>\n",
       "      <td>0.813722</td>\n",
       "      <td>0.816252</td>\n",
       "      <td>0.817397</td>\n",
       "      <td>0.002284</td>\n",
       "      <td>1</td>\n",
       "    </tr>\n",
       "  </tbody>\n",
       "</table>\n",
       "</div>"
      ],
      "text/plain": [
       "   mean_fit_time  std_fit_time  mean_score_time  std_score_time  \\\n",
       "0       5.986437      0.201857         0.073946        0.004503   \n",
       "1      18.155548      0.203958         0.186696        0.004501   \n",
       "2      12.216912      0.516805         0.173632        0.015350   \n",
       "3      36.786951      0.981866         0.472833        0.016200   \n",
       "\n",
       "  param_max_depth param_n_estimators                                  params  \\\n",
       "0               4                 50    {'max_depth': 4, 'n_estimators': 50}   \n",
       "1               4                150   {'max_depth': 4, 'n_estimators': 150}   \n",
       "2              10                 50   {'max_depth': 10, 'n_estimators': 50}   \n",
       "3              10                150  {'max_depth': 10, 'n_estimators': 150}   \n",
       "\n",
       "   split0_test_score  split1_test_score  split2_test_score  split3_test_score  \\\n",
       "0           0.671272           0.665628           0.680197           0.659275   \n",
       "1           0.672084           0.665047           0.678085           0.658985   \n",
       "2           0.820054           0.817004           0.818284           0.813520   \n",
       "3           0.820382           0.817733           0.818897           0.813722   \n",
       "\n",
       "   split4_test_score  mean_test_score  std_test_score  rank_test_score  \n",
       "0           0.680708         0.671416        0.008299                3  \n",
       "1           0.680418         0.670924        0.007998                4  \n",
       "2           0.815449         0.816862        0.002254                2  \n",
       "3           0.816252         0.817397        0.002284                1  "
      ]
     },
     "execution_count": 131,
     "metadata": {},
     "output_type": "execute_result"
    }
   ],
   "source": [
    "# таблица результатов\n",
    "pd.DataFrame(model_GSCV_rf.cv_results_)"
   ]
  },
  {
   "cell_type": "code",
   "execution_count": 132,
   "metadata": {},
   "outputs": [],
   "source": [
    "# инициируем модель с лучшими параметрами\n",
    "rf_model_best = RandomForestRegressor(\n",
    "    random_state=12345,\n",
    "    n_estimators=150,\n",
    "    max_depth=10,\n",
    "    verbose=False\n",
    "    )"
   ]
  },
  {
   "cell_type": "code",
   "execution_count": 133,
   "metadata": {},
   "outputs": [
    {
     "name": "stdout",
     "output_type": "stream",
     "text": [
      "CPU times: user 44.1 s, sys: 16.1 ms, total: 44.2 s\n",
      "Wall time: 44.2 s\n"
     ]
    },
    {
     "data": {
      "text/plain": [
       "RandomForestRegressor(max_depth=10, n_estimators=150, random_state=12345,\n",
       "                      verbose=False)"
      ]
     },
     "execution_count": 133,
     "metadata": {},
     "output_type": "execute_result"
    }
   ],
   "source": [
    "%%time\n",
    "# обучение модели\n",
    "rf_model_best.fit(scale_features_train, data_target_train)"
   ]
  },
  {
   "cell_type": "code",
   "execution_count": 134,
   "metadata": {},
   "outputs": [
    {
     "name": "stdout",
     "output_type": "stream",
     "text": [
      "CPU times: user 731 ms, sys: 13 µs, total: 731 ms\n",
      "Wall time: 730 ms\n"
     ]
    }
   ],
   "source": [
    "%%time\n",
    "# прогноз на валидационных данных\n",
    "pred_scale_target_valid = rf_model_best.predict(scale_features_valid)"
   ]
  },
  {
   "cell_type": "code",
   "execution_count": 135,
   "metadata": {},
   "outputs": [],
   "source": [
    "# оценка модели через кросс-валидацию\n",
    "cv_score_rf = cross_val_score(rf_model_best, \n",
    "                scale_features_train, \n",
    "                data_target_train,\n",
    "                scoring='neg_mean_squared_error',                           \n",
    "                cv=5)"
   ]
  },
  {
   "cell_type": "code",
   "execution_count": 136,
   "metadata": {},
   "outputs": [
    {
     "name": "stdout",
     "output_type": "stream",
     "text": [
      "RMSE модели случайного леса через кросс-валидацию 1898.046\n"
     ]
    }
   ],
   "source": [
    "final_cv_score_rf = round(np.mean(-cv_score_rf)**0.5, 3)\n",
    "print('RMSE модели случайного леса через кросс-валидацию', final_cv_score_rf)"
   ]
  },
  {
   "cell_type": "markdown",
   "metadata": {},
   "source": [
    "### Модель LightGBM"
   ]
  },
  {
   "cell_type": "code",
   "execution_count": 137,
   "metadata": {},
   "outputs": [],
   "source": [
    "# импортируем библиотеку\n",
    "import lightgbm as lgb"
   ]
  },
  {
   "cell_type": "code",
   "execution_count": 138,
   "metadata": {},
   "outputs": [
    {
     "data": {
      "text/plain": [
       "['Brand',\n",
       " 'Model',\n",
       " 'RegistrationYear',\n",
       " 'RegistrationMonth',\n",
       " 'VehicleType',\n",
       " 'Gearbox',\n",
       " 'FuelType',\n",
       " 'Repaired',\n",
       " 'DateCreated',\n",
       " 'type_of_age']"
      ]
     },
     "execution_count": 138,
     "metadata": {},
     "output_type": "execute_result"
    }
   ],
   "source": [
    "category_columns"
   ]
  },
  {
   "cell_type": "code",
   "execution_count": 139,
   "metadata": {},
   "outputs": [],
   "source": [
    "train_dataset = lgb.Dataset(\n",
    "    encod_features_train, data_target_train,\\\n",
    "    free_raw_data=False\n",
    "    )\n",
    "\n",
    "valid_dataset = lgb.Dataset(\n",
    "    encod_features_valid, data_target_valid,\\\n",
    "    free_raw_data=False\n",
    "    )"
   ]
  },
  {
   "cell_type": "markdown",
   "metadata": {},
   "source": [
    "Первый вариант гиперпараметров модели"
   ]
  },
  {
   "cell_type": "code",
   "execution_count": 140,
   "metadata": {},
   "outputs": [],
   "source": [
    "params = {\n",
    "    'boosting_type':'gbdt',\n",
    "    'objective': 'regression',\n",
    "    'metric': 'rmse',\n",
    "    'n_estimators': 10,\n",
    "    'max_depth': 5,\n",
    "    'free_raw_data':False,\n",
    "    'verbose': 10\n",
    "}"
   ]
  },
  {
   "cell_type": "code",
   "execution_count": 141,
   "metadata": {
    "scrolled": true
   },
   "outputs": [
    {
     "name": "stderr",
     "output_type": "stream",
     "text": [
      "/opt/conda/lib/python3.9/site-packages/lightgbm/engine.py:177: UserWarning: Found `n_estimators` in params. Will use it instead of argument\n",
      "  _log_warning(f\"Found `{alias}` in params. Will use it instead of argument\")\n",
      "/opt/conda/lib/python3.9/site-packages/lightgbm/engine.py:260: UserWarning: 'evals_result' argument is deprecated and will be removed in a future release of LightGBM. Pass 'record_evaluation()' callback via 'callbacks' argument instead.\n",
      "  _log_warning(\"'evals_result' argument is deprecated and will be removed in a future release of LightGBM. \"\n"
     ]
    },
    {
     "name": "stdout",
     "output_type": "stream",
     "text": [
      "[LightGBM] [Warning] Unknown parameter: free_raw_data\n",
      "[LightGBM] [Warning] Accuracy may be bad since you didn't explicitly set num_leaves OR 2^max_depth > num_leaves. (num_leaves=31).\n",
      "[LightGBM] [Warning] Unknown parameter: free_raw_data\n",
      "[LightGBM] [Warning] Accuracy may be bad since you didn't explicitly set num_leaves OR 2^max_depth > num_leaves. (num_leaves=31).\n",
      "[LightGBM] [Debug] Dataset::GetMultiBinFromSparseFeatures: sparse rate 0.846372\n",
      "[LightGBM] [Debug] Dataset::GetMultiBinFromAllFeatures: sparse rate 0.226478\n",
      "[LightGBM] [Debug] init for col-wise cost 0.003883 seconds, init for row-wise cost 0.090695 seconds\n",
      "[LightGBM] [Warning] Auto-choosing row-wise multi-threading, the overhead of testing was 0.006643 seconds.\n",
      "You can set `force_row_wise=true` to remove the overhead.\n",
      "And if memory is not enough, you can set `force_col_wise=true`.\n",
      "[LightGBM] [Debug] Using Dense Multi-Val Bin\n",
      "[LightGBM] [Info] Total Bins 704\n",
      "[LightGBM] [Info] Number of data points in the train set: 183183, number of used features: 12\n",
      "[LightGBM] [Warning] Unknown parameter: free_raw_data\n",
      "[LightGBM] [Warning] Accuracy may be bad since you didn't explicitly set num_leaves OR 2^max_depth > num_leaves. (num_leaves=31).\n",
      "[LightGBM] [Info] Start training from score 4538.473881\n",
      "[LightGBM] [Debug] Trained a tree with leaves = 31 and depth = 5\n",
      "[1]\tvalid_0's rmse: 4161.99\n",
      "[LightGBM] [Debug] Trained a tree with leaves = 31 and depth = 5\n",
      "[2]\tvalid_0's rmse: 3893.96\n",
      "[LightGBM] [Debug] Trained a tree with leaves = 31 and depth = 5\n",
      "[3]\tvalid_0's rmse: 3660.95\n",
      "[LightGBM] [Debug] Trained a tree with leaves = 31 and depth = 5\n",
      "[4]\tvalid_0's rmse: 3457.13\n",
      "[LightGBM] [Debug] Trained a tree with leaves = 31 and depth = 5\n",
      "[5]\tvalid_0's rmse: 3270.4\n",
      "[LightGBM] [Debug] Trained a tree with leaves = 31 and depth = 5\n",
      "[6]\tvalid_0's rmse: 3108.01\n",
      "[LightGBM] [Debug] Trained a tree with leaves = 31 and depth = 5\n",
      "[7]\tvalid_0's rmse: 2967.14\n",
      "[LightGBM] [Debug] Trained a tree with leaves = 31 and depth = 5\n",
      "[8]\tvalid_0's rmse: 2843.71\n",
      "[LightGBM] [Debug] Trained a tree with leaves = 31 and depth = 5\n",
      "[9]\tvalid_0's rmse: 2735.13\n",
      "[LightGBM] [Debug] Trained a tree with leaves = 31 and depth = 5\n",
      "[10]\tvalid_0's rmse: 2643.28\n",
      "CPU times: user 1.2 s, sys: 23.4 ms, total: 1.23 s\n",
      "Wall time: 1.23 s\n"
     ]
    }
   ],
   "source": [
    "%%time\n",
    "\n",
    "evals_result = {}\n",
    "model_lgbm = lgb.train(params,\n",
    "                    train_set=train_dataset, \n",
    "                    valid_sets=(valid_dataset,),\n",
    "                    evals_result=evals_result,\n",
    "                    num_boost_round=10)"
   ]
  },
  {
   "cell_type": "code",
   "execution_count": 142,
   "metadata": {},
   "outputs": [
    {
     "data": {
      "text/plain": [
       "{'valid_0': OrderedDict([('rmse',\n",
       "               [4161.989844384746,\n",
       "                3893.955583432706,\n",
       "                3660.949366590806,\n",
       "                3457.125159494379,\n",
       "                3270.4007026617483,\n",
       "                3108.014830439808,\n",
       "                2967.137422622376,\n",
       "                2843.7053139591612,\n",
       "                2735.130553281014,\n",
       "                2643.2812771993613])])}"
      ]
     },
     "execution_count": 142,
     "metadata": {},
     "output_type": "execute_result"
    }
   ],
   "source": [
    "evals_result"
   ]
  },
  {
   "cell_type": "code",
   "execution_count": 143,
   "metadata": {},
   "outputs": [
    {
     "data": {
      "image/png": "[encoded data removed]",
      "text/plain": [
       "<Figure size 432x288 with 1 Axes>"
      ]
     },
     "metadata": {},
     "output_type": "display_data"
    }
   ],
   "source": [
    "_ = lgb.plot_metric(evals_result)"
   ]
  },
  {
   "cell_type": "code",
   "execution_count": 144,
   "metadata": {},
   "outputs": [
    {
     "data": {
      "image/png": "[encoded data removed]",
      "text/plain": [
       "<Figure size 432x288 with 1 Axes>"
      ]
     },
     "metadata": {},
     "output_type": "display_data"
    }
   ],
   "source": [
    "_ = lgb.plot_importance(model_lgbm)"
   ]
  },
  {
   "cell_type": "markdown",
   "metadata": {},
   "source": [
    "Второй вариант гиперпараметров модели"
   ]
  },
  {
   "cell_type": "code",
   "execution_count": 145,
   "metadata": {},
   "outputs": [],
   "source": [
    "params_2 = {\n",
    "    'boosting_type':'gbdt',\n",
    "    'objective': 'regression',\n",
    "    'metric': 'rmse',\n",
    "    'n_estimators': 75,\n",
    "    'max_depth': 10,\n",
    "    'free_raw_data':False,\n",
    "    'verbose': 10\n",
    "}"
   ]
  },
  {
   "cell_type": "code",
   "execution_count": 146,
   "metadata": {
    "scrolled": true
   },
   "outputs": [
    {
     "name": "stdout",
     "output_type": "stream",
     "text": [
      "[LightGBM] [Warning] Unknown parameter: free_raw_data\n",
      "[LightGBM] [Warning] Accuracy may be bad since you didn't explicitly set num_leaves OR 2^max_depth > num_leaves. (num_leaves=31).\n",
      "[LightGBM] [Warning] Unknown parameter: free_raw_data\n",
      "[LightGBM] [Warning] Accuracy may be bad since you didn't explicitly set num_leaves OR 2^max_depth > num_leaves. (num_leaves=31).\n",
      "[LightGBM] [Warning] Unknown parameter: free_raw_data\n",
      "[LightGBM] [Warning] Accuracy may be bad since you didn't explicitly set num_leaves OR 2^max_depth > num_leaves. (num_leaves=31).\n",
      "[LightGBM] [Warning] Unknown parameter: free_raw_data\n",
      "[LightGBM] [Warning] Accuracy may be bad since you didn't explicitly set num_leaves OR 2^max_depth > num_leaves. (num_leaves=31).\n",
      "[LightGBM] [Warning] Unknown parameter: free_raw_data\n",
      "[LightGBM] [Warning] Accuracy may be bad since you didn't explicitly set num_leaves OR 2^max_depth > num_leaves. (num_leaves=31).\n",
      "[LightGBM] [Debug] Dataset::GetMultiBinFromSparseFeatures: sparse rate 0.846372\n",
      "[LightGBM] [Debug] Dataset::GetMultiBinFromAllFeatures: sparse rate 0.226478\n",
      "[LightGBM] [Debug] init for col-wise cost 0.003131 seconds, init for row-wise cost 0.005070 seconds\n",
      "[LightGBM] [Warning] Auto-choosing row-wise multi-threading, the overhead of testing was 0.005153 seconds.\n",
      "You can set `force_row_wise=true` to remove the overhead.\n",
      "And if memory is not enough, you can set `force_col_wise=true`.\n",
      "[LightGBM] [Debug] Using Dense Multi-Val Bin\n",
      "[LightGBM] [Info] Total Bins 704\n",
      "[LightGBM] [Info] Number of data points in the train set: 183183, number of used features: 12\n",
      "[LightGBM] [Info] Start training from score 4538.473881\n",
      "[LightGBM] [Debug] Trained a tree with leaves = 31 and depth = 7\n",
      "[1]\tvalid_0's rmse: 4154.55\n",
      "[LightGBM] [Debug] Trained a tree with leaves = 31 and depth = 7\n",
      "[2]\tvalid_0's rmse: 3879.25\n",
      "[LightGBM] [Debug] Trained a tree with leaves = 31 and depth = 7\n",
      "[3]\tvalid_0's rmse: 3636.93\n",
      "[LightGBM] [Debug] Trained a tree with leaves = 31 and depth = 7\n",
      "[4]\tvalid_0's rmse: 3427.78\n",
      "[LightGBM] [Debug] Trained a tree with leaves = 31 and depth = 7\n",
      "[5]\tvalid_0's rmse: 3245.81\n",
      "[LightGBM] [Debug] Trained a tree with leaves = 31 and depth = 7\n",
      "[6]\tvalid_0's rmse: 3084.71\n",
      "[LightGBM] [Debug] Trained a tree with leaves = 31 and depth = 8\n",
      "[7]\tvalid_0's rmse: 2940.47\n",
      "[LightGBM] [Debug] Trained a tree with leaves = 31 and depth = 8\n",
      "[8]\tvalid_0's rmse: 2818.65\n",
      "[LightGBM] [Debug] Trained a tree with leaves = 31 and depth = 7\n",
      "[9]\tvalid_0's rmse: 2713.91\n",
      "[LightGBM] [Debug] Trained a tree with leaves = 31 and depth = 7\n",
      "[10]\tvalid_0's rmse: 2616.59\n",
      "[LightGBM] [Debug] Trained a tree with leaves = 31 and depth = 10\n",
      "[11]\tvalid_0's rmse: 2532.19\n",
      "[LightGBM] [Debug] Trained a tree with leaves = 31 and depth = 6\n",
      "[12]\tvalid_0's rmse: 2461.42\n",
      "[LightGBM] [Debug] Trained a tree with leaves = 31 and depth = 8\n",
      "[13]\tvalid_0's rmse: 2397.62\n",
      "[LightGBM] [Debug] Trained a tree with leaves = 31 and depth = 9\n",
      "[14]\tvalid_0's rmse: 2343.59\n",
      "[LightGBM] [Debug] Trained a tree with leaves = 31 and depth = 8\n",
      "[15]\tvalid_0's rmse: 2294.97\n",
      "[LightGBM] [Debug] Trained a tree with leaves = 31 and depth = 8\n",
      "[16]\tvalid_0's rmse: 2251.22\n",
      "[LightGBM] [Debug] Trained a tree with leaves = 31 and depth = 9\n",
      "[17]\tvalid_0's rmse: 2209.81\n",
      "[LightGBM] [Debug] Trained a tree with leaves = 31 and depth = 9\n",
      "[18]\tvalid_0's rmse: 2175.32\n",
      "[LightGBM] [Debug] Trained a tree with leaves = 31 and depth = 9\n",
      "[19]\tvalid_0's rmse: 2142.16\n",
      "[LightGBM] [Debug] Trained a tree with leaves = 31 and depth = 9\n",
      "[20]\tvalid_0's rmse: 2115.07\n",
      "[LightGBM] [Debug] Trained a tree with leaves = 31 and depth = 9\n",
      "[21]\tvalid_0's rmse: 2085.16\n",
      "[LightGBM] [Debug] Trained a tree with leaves = 31 and depth = 8\n",
      "[22]\tvalid_0's rmse: 2061.19\n",
      "[LightGBM] [Debug] Trained a tree with leaves = 31 and depth = 9\n",
      "[23]\tvalid_0's rmse: 2038.45\n",
      "[LightGBM] [Debug] Trained a tree with leaves = 31 and depth = 10\n",
      "[24]\tvalid_0's rmse: 2018.37\n",
      "[LightGBM] [Debug] Trained a tree with leaves = 31 and depth = 9\n",
      "[25]\tvalid_0's rmse: 2000.86\n",
      "[LightGBM] [Debug] Trained a tree with leaves = 31 and depth = 9\n",
      "[26]\tvalid_0's rmse: 1984.96\n",
      "[LightGBM] [Debug] Trained a tree with leaves = 31 and depth = 8\n",
      "[27]\tvalid_0's rmse: 1968.81\n",
      "[LightGBM] [Debug] Trained a tree with leaves = 31 and depth = 8\n",
      "[28]\tvalid_0's rmse: 1957.02\n",
      "[LightGBM] [Debug] Trained a tree with leaves = 31 and depth = 9\n",
      "[29]\tvalid_0's rmse: 1942.95\n",
      "[LightGBM] [Debug] Trained a tree with leaves = 31 and depth = 10\n",
      "[30]\tvalid_0's rmse: 1931.83\n",
      "[LightGBM] [Debug] Trained a tree with leaves = 31 and depth = 10\n",
      "[31]\tvalid_0's rmse: 1919.56\n",
      "[LightGBM] [Debug] Trained a tree with leaves = 31 and depth = 9\n",
      "[32]\tvalid_0's rmse: 1910.48\n",
      "[LightGBM] [Debug] Trained a tree with leaves = 31 and depth = 10\n",
      "[33]\tvalid_0's rmse: 1902.15\n",
      "[LightGBM] [Debug] Trained a tree with leaves = 31 and depth = 10\n",
      "[34]\tvalid_0's rmse: 1894.39\n",
      "[LightGBM] [Debug] Trained a tree with leaves = 31 and depth = 10\n",
      "[35]\tvalid_0's rmse: 1885.1\n",
      "[LightGBM] [Debug] Trained a tree with leaves = 31 and depth = 10\n",
      "[36]\tvalid_0's rmse: 1876.25\n",
      "[LightGBM] [Debug] Trained a tree with leaves = 31 and depth = 10\n",
      "[37]\tvalid_0's rmse: 1870.25\n",
      "[LightGBM] [Debug] Trained a tree with leaves = 31 and depth = 8\n",
      "[38]\tvalid_0's rmse: 1862.17\n",
      "[LightGBM] [Debug] Trained a tree with leaves = 31 and depth = 10\n",
      "[39]\tvalid_0's rmse: 1855.75\n",
      "[LightGBM] [Debug] Trained a tree with leaves = 31 and depth = 10\n",
      "[40]\tvalid_0's rmse: 1849.89\n",
      "[LightGBM] [Debug] Trained a tree with leaves = 31 and depth = 10\n",
      "[41]\tvalid_0's rmse: 1843.97\n",
      "[LightGBM] [Debug] Trained a tree with leaves = 31 and depth = 10\n",
      "[42]\tvalid_0's rmse: 1840.1\n",
      "[LightGBM] [Debug] Trained a tree with leaves = 31 and depth = 10\n",
      "[43]\tvalid_0's rmse: 1836.85\n",
      "[LightGBM] [Debug] Trained a tree with leaves = 31 and depth = 8\n",
      "[44]\tvalid_0's rmse: 1831.56\n",
      "[LightGBM] [Debug] Trained a tree with leaves = 31 and depth = 8\n",
      "[45]\tvalid_0's rmse: 1827.21\n",
      "[LightGBM] [Debug] Trained a tree with leaves = 31 and depth = 10\n",
      "[46]\tvalid_0's rmse: 1825.03\n",
      "[LightGBM] [Debug] Trained a tree with leaves = 31 and depth = 10\n",
      "[47]\tvalid_0's rmse: 1821.86\n",
      "[LightGBM] [Debug] Trained a tree with leaves = 31 and depth = 7\n",
      "[48]\tvalid_0's rmse: 1817.95\n",
      "[LightGBM] [Debug] Trained a tree with leaves = 31 and depth = 9\n",
      "[49]\tvalid_0's rmse: 1814.42\n",
      "[LightGBM] [Debug] Trained a tree with leaves = 31 and depth = 8\n",
      "[50]\tvalid_0's rmse: 1812.58\n",
      "[LightGBM] [Debug] Trained a tree with leaves = 31 and depth = 10\n",
      "[51]\tvalid_0's rmse: 1807.85\n",
      "[LightGBM] [Debug] Trained a tree with leaves = 31 and depth = 10\n",
      "[52]\tvalid_0's rmse: 1803.11\n",
      "[LightGBM] [Debug] Trained a tree with leaves = 31 and depth = 10\n",
      "[53]\tvalid_0's rmse: 1801.15\n",
      "[LightGBM] [Debug] Trained a tree with leaves = 31 and depth = 10\n",
      "[54]\tvalid_0's rmse: 1798.62\n",
      "[LightGBM] [Debug] Trained a tree with leaves = 31 and depth = 10\n",
      "[55]\tvalid_0's rmse: 1795.4\n",
      "[LightGBM] [Debug] Trained a tree with leaves = 31 and depth = 10\n",
      "[56]\tvalid_0's rmse: 1793.34\n",
      "[LightGBM] [Debug] Trained a tree with leaves = 31 and depth = 10\n",
      "[57]\tvalid_0's rmse: 1790.79\n",
      "[LightGBM] [Debug] Trained a tree with leaves = 31 and depth = 10\n",
      "[58]\tvalid_0's rmse: 1787.66\n",
      "[LightGBM] [Debug] Trained a tree with leaves = 31 and depth = 10\n",
      "[59]\tvalid_0's rmse: 1786.07\n",
      "[LightGBM] [Debug] Trained a tree with leaves = 31 and depth = 9\n",
      "[60]\tvalid_0's rmse: 1784.55\n",
      "[LightGBM] [Debug] Trained a tree with leaves = 31 and depth = 10\n",
      "[61]\tvalid_0's rmse: 1782.19\n",
      "[LightGBM] [Debug] Trained a tree with leaves = 31 and depth = 10\n",
      "[62]\tvalid_0's rmse: 1780.8\n",
      "[LightGBM] [Debug] Trained a tree with leaves = 31 and depth = 10\n",
      "[63]\tvalid_0's rmse: 1778.89\n",
      "[LightGBM] [Debug] Trained a tree with leaves = 31 and depth = 10\n",
      "[64]\tvalid_0's rmse: 1776.45\n",
      "[LightGBM] [Debug] Trained a tree with leaves = 31 and depth = 8\n",
      "[65]\tvalid_0's rmse: 1774.29\n",
      "[LightGBM] [Debug] Trained a tree with leaves = 31 and depth = 10\n",
      "[66]\tvalid_0's rmse: 1772.35\n",
      "[LightGBM] [Debug] Trained a tree with leaves = 31 and depth = 10\n",
      "[67]\tvalid_0's rmse: 1771.16\n",
      "[LightGBM] [Debug] Trained a tree with leaves = 31 and depth = 10\n",
      "[68]\tvalid_0's rmse: 1769.34\n",
      "[LightGBM] [Debug] Trained a tree with leaves = 31 and depth = 9\n",
      "[69]\tvalid_0's rmse: 1766.85\n",
      "[LightGBM] [Debug] Trained a tree with leaves = 31 and depth = 10\n",
      "[70]\tvalid_0's rmse: 1766.08\n",
      "[LightGBM] [Debug] Trained a tree with leaves = 31 and depth = 10\n",
      "[71]\tvalid_0's rmse: 1764.5\n",
      "[LightGBM] [Debug] Trained a tree with leaves = 31 and depth = 10\n",
      "[72]\tvalid_0's rmse: 1762\n",
      "[LightGBM] [Debug] Trained a tree with leaves = 31 and depth = 9\n",
      "[73]\tvalid_0's rmse: 1760.99\n",
      "[LightGBM] [Debug] Trained a tree with leaves = 31 and depth = 9\n",
      "[74]\tvalid_0's rmse: 1758.96\n",
      "[LightGBM] [Debug] Trained a tree with leaves = 31 and depth = 10\n",
      "[75]\tvalid_0's rmse: 1757.46\n",
      "CPU times: user 5.58 s, sys: 49.8 ms, total: 5.63 s\n",
      "Wall time: 5.68 s\n"
     ]
    }
   ],
   "source": [
    "%%time\n",
    "\n",
    "evals_result_2 = {}\n",
    "model_lgbm_2 = lgb.train(params_2,\n",
    "                    train_set=train_dataset, \n",
    "                    valid_sets=(valid_dataset,),\n",
    "                    evals_result=evals_result_2,\n",
    "                    num_boost_round=10)"
   ]
  },
  {
   "cell_type": "code",
   "execution_count": 147,
   "metadata": {
    "scrolled": true
   },
   "outputs": [
    {
     "data": {
      "text/plain": [
       "{'valid_0': OrderedDict([('rmse',\n",
       "               [4154.550763742678,\n",
       "                3879.249832744935,\n",
       "                3636.9263493942954,\n",
       "                3427.781557734048,\n",
       "                3245.8052728729112,\n",
       "                3084.7062816700177,\n",
       "                2940.469208732839,\n",
       "                2818.649561586753,\n",
       "                2713.9131629615017,\n",
       "                2616.5861185569856,\n",
       "                2532.1914390675806,\n",
       "                2461.418314286876,\n",
       "                2397.616896890023,\n",
       "                2343.5862734417656,\n",
       "                2294.9661148545065,\n",
       "                2251.219517760192,\n",
       "                2209.809176834228,\n",
       "                2175.323591291112,\n",
       "                2142.1567332611767,\n",
       "                2115.070888888605,\n",
       "                2085.1622772571386,\n",
       "                2061.1876392588338,\n",
       "                2038.4493208053768,\n",
       "                2018.3714976531078,\n",
       "                2000.8552950481926,\n",
       "                1984.961510227569,\n",
       "                1968.8115640811066,\n",
       "                1957.0236478271752,\n",
       "                1942.9515068291973,\n",
       "                1931.8299678437515,\n",
       "                1919.560887781738,\n",
       "                1910.4824420696218,\n",
       "                1902.1485658720387,\n",
       "                1894.3913511681994,\n",
       "                1885.0964872057384,\n",
       "                1876.2538155822472,\n",
       "                1870.2454988273594,\n",
       "                1862.165616480102,\n",
       "                1855.7549429820651,\n",
       "                1849.8938794807755,\n",
       "                1843.9669196638442,\n",
       "                1840.1027875450736,\n",
       "                1836.851593848409,\n",
       "                1831.5601147349928,\n",
       "                1827.2092967631143,\n",
       "                1825.028810254294,\n",
       "                1821.8600783507627,\n",
       "                1817.9545478839104,\n",
       "                1814.4187243267659,\n",
       "                1812.576349290489,\n",
       "                1807.8539546814086,\n",
       "                1803.1112258670207,\n",
       "                1801.1508040104109,\n",
       "                1798.623488839344,\n",
       "                1795.3967008058596,\n",
       "                1793.3368414471759,\n",
       "                1790.7867597845775,\n",
       "                1787.6635756345293,\n",
       "                1786.0743853812724,\n",
       "                1784.5495648651865,\n",
       "                1782.1852056594787,\n",
       "                1780.7996542922522,\n",
       "                1778.8861915601178,\n",
       "                1776.446884467878,\n",
       "                1774.2895724298226,\n",
       "                1772.3469248551207,\n",
       "                1771.1550200777933,\n",
       "                1769.3443948710285,\n",
       "                1766.8544138307652,\n",
       "                1766.0790203324143,\n",
       "                1764.5048096810103,\n",
       "                1762.0047359303628,\n",
       "                1760.991064212871,\n",
       "                1758.9590941495426,\n",
       "                1757.457044168448])])}"
      ]
     },
     "execution_count": 147,
     "metadata": {},
     "output_type": "execute_result"
    }
   ],
   "source": [
    "evals_result_2"
   ]
  },
  {
   "cell_type": "code",
   "execution_count": 148,
   "metadata": {},
   "outputs": [
    {
     "data": {
      "image/png": "[encoded data removed]",
      "text/plain": [
       "<Figure size 432x288 with 1 Axes>"
      ]
     },
     "metadata": {},
     "output_type": "display_data"
    }
   ],
   "source": [
    "_ = lgb.plot_metric(evals_result_2)"
   ]
  },
  {
   "cell_type": "markdown",
   "metadata": {},
   "source": [
    "Третий вариант гиперпараметров модели"
   ]
  },
  {
   "cell_type": "code",
   "execution_count": 149,
   "metadata": {},
   "outputs": [],
   "source": [
    "params_3 = {\n",
    "    'boosting_type':'gbdt',\n",
    "    'objective': 'regression',\n",
    "    'metric': 'rmse',\n",
    "    'n_estimators': 150,\n",
    "    'max_depth': 15,\n",
    "    'free_raw_data':False,\n",
    "    'verbose': 10\n",
    "}"
   ]
  },
  {
   "cell_type": "code",
   "execution_count": 150,
   "metadata": {
    "scrolled": true
   },
   "outputs": [
    {
     "name": "stdout",
     "output_type": "stream",
     "text": [
      "[LightGBM] [Warning] Unknown parameter: free_raw_data\n",
      "[LightGBM] [Warning] Accuracy may be bad since you didn't explicitly set num_leaves OR 2^max_depth > num_leaves. (num_leaves=31).\n",
      "[LightGBM] [Warning] Unknown parameter: free_raw_data\n",
      "[LightGBM] [Warning] Accuracy may be bad since you didn't explicitly set num_leaves OR 2^max_depth > num_leaves. (num_leaves=31).\n",
      "[LightGBM] [Warning] Unknown parameter: free_raw_data\n",
      "[LightGBM] [Warning] Accuracy may be bad since you didn't explicitly set num_leaves OR 2^max_depth > num_leaves. (num_leaves=31).\n",
      "[LightGBM] [Warning] Unknown parameter: free_raw_data\n",
      "[LightGBM] [Warning] Accuracy may be bad since you didn't explicitly set num_leaves OR 2^max_depth > num_leaves. (num_leaves=31).\n",
      "[LightGBM] [Warning] Unknown parameter: free_raw_data\n",
      "[LightGBM] [Warning] Accuracy may be bad since you didn't explicitly set num_leaves OR 2^max_depth > num_leaves. (num_leaves=31).\n",
      "[LightGBM] [Debug] Dataset::GetMultiBinFromSparseFeatures: sparse rate 0.846372\n",
      "[LightGBM] [Debug] Dataset::GetMultiBinFromAllFeatures: sparse rate 0.226478\n",
      "[LightGBM] [Debug] init for col-wise cost 0.003046 seconds, init for row-wise cost 0.005400 seconds\n",
      "[LightGBM] [Warning] Auto-choosing row-wise multi-threading, the overhead of testing was 0.005112 seconds.\n",
      "You can set `force_row_wise=true` to remove the overhead.\n",
      "And if memory is not enough, you can set `force_col_wise=true`.\n",
      "[LightGBM] [Debug] Using Dense Multi-Val Bin\n",
      "[LightGBM] [Info] Total Bins 704\n",
      "[LightGBM] [Info] Number of data points in the train set: 183183, number of used features: 12\n",
      "[LightGBM] [Info] Start training from score 4538.473881\n",
      "[LightGBM] [Debug] Trained a tree with leaves = 31 and depth = 7\n",
      "[1]\tvalid_0's rmse: 4154.55\n",
      "[LightGBM] [Debug] Trained a tree with leaves = 31 and depth = 7\n",
      "[2]\tvalid_0's rmse: 3879.25\n",
      "[LightGBM] [Debug] Trained a tree with leaves = 31 and depth = 7\n",
      "[3]\tvalid_0's rmse: 3636.93\n",
      "[LightGBM] [Debug] Trained a tree with leaves = 31 and depth = 7\n",
      "[4]\tvalid_0's rmse: 3427.78\n",
      "[LightGBM] [Debug] Trained a tree with leaves = 31 and depth = 7\n",
      "[5]\tvalid_0's rmse: 3245.81\n",
      "[LightGBM] [Debug] Trained a tree with leaves = 31 and depth = 7\n",
      "[6]\tvalid_0's rmse: 3084.71\n",
      "[LightGBM] [Debug] Trained a tree with leaves = 31 and depth = 8\n",
      "[7]\tvalid_0's rmse: 2940.47\n",
      "[LightGBM] [Debug] Trained a tree with leaves = 31 and depth = 8\n",
      "[8]\tvalid_0's rmse: 2818.65\n",
      "[LightGBM] [Debug] Trained a tree with leaves = 31 and depth = 7\n",
      "[9]\tvalid_0's rmse: 2713.91\n",
      "[LightGBM] [Debug] Trained a tree with leaves = 31 and depth = 7\n",
      "[10]\tvalid_0's rmse: 2616.59\n",
      "[LightGBM] [Debug] Trained a tree with leaves = 31 and depth = 10\n",
      "[11]\tvalid_0's rmse: 2532.19\n",
      "[LightGBM] [Debug] Trained a tree with leaves = 31 and depth = 6\n",
      "[12]\tvalid_0's rmse: 2461.42\n",
      "[LightGBM] [Debug] Trained a tree with leaves = 31 and depth = 8\n",
      "[13]\tvalid_0's rmse: 2397.62\n",
      "[LightGBM] [Debug] Trained a tree with leaves = 31 and depth = 9\n",
      "[14]\tvalid_0's rmse: 2343.59\n",
      "[LightGBM] [Debug] Trained a tree with leaves = 31 and depth = 8\n",
      "[15]\tvalid_0's rmse: 2294.97\n",
      "[LightGBM] [Debug] Trained a tree with leaves = 31 and depth = 8\n",
      "[16]\tvalid_0's rmse: 2251.22\n",
      "[LightGBM] [Debug] Trained a tree with leaves = 31 and depth = 9\n",
      "[17]\tvalid_0's rmse: 2209.81\n",
      "[LightGBM] [Debug] Trained a tree with leaves = 31 and depth = 9\n",
      "[18]\tvalid_0's rmse: 2175.32\n",
      "[LightGBM] [Debug] Trained a tree with leaves = 31 and depth = 9\n",
      "[19]\tvalid_0's rmse: 2142.16\n",
      "[LightGBM] [Debug] Trained a tree with leaves = 31 and depth = 9\n",
      "[20]\tvalid_0's rmse: 2115.07\n",
      "[LightGBM] [Debug] Trained a tree with leaves = 31 and depth = 9\n",
      "[21]\tvalid_0's rmse: 2085.16\n",
      "[LightGBM] [Debug] Trained a tree with leaves = 31 and depth = 8\n",
      "[22]\tvalid_0's rmse: 2061.19\n",
      "[LightGBM] [Debug] Trained a tree with leaves = 31 and depth = 9\n",
      "[23]\tvalid_0's rmse: 2038.45\n",
      "[LightGBM] [Debug] Trained a tree with leaves = 31 and depth = 11\n",
      "[24]\tvalid_0's rmse: 2018.34\n",
      "[LightGBM] [Debug] Trained a tree with leaves = 31 and depth = 9\n",
      "[25]\tvalid_0's rmse: 2000.79\n",
      "[LightGBM] [Debug] Trained a tree with leaves = 31 and depth = 11\n",
      "[26]\tvalid_0's rmse: 1984.65\n",
      "[LightGBM] [Debug] Trained a tree with leaves = 31 and depth = 9\n",
      "[27]\tvalid_0's rmse: 1968.39\n",
      "[LightGBM] [Debug] Trained a tree with leaves = 31 and depth = 8\n",
      "[28]\tvalid_0's rmse: 1956.42\n",
      "[LightGBM] [Debug] Trained a tree with leaves = 31 and depth = 9\n",
      "[29]\tvalid_0's rmse: 1942.49\n",
      "[LightGBM] [Debug] Trained a tree with leaves = 31 and depth = 10\n",
      "[30]\tvalid_0's rmse: 1932.4\n",
      "[LightGBM] [Debug] Trained a tree with leaves = 31 and depth = 12\n",
      "[31]\tvalid_0's rmse: 1919.57\n",
      "[LightGBM] [Debug] Trained a tree with leaves = 31 and depth = 8\n",
      "[32]\tvalid_0's rmse: 1910.58\n",
      "[LightGBM] [Debug] Trained a tree with leaves = 31 and depth = 14\n",
      "[33]\tvalid_0's rmse: 1901.71\n",
      "[LightGBM] [Debug] Trained a tree with leaves = 31 and depth = 9\n",
      "[34]\tvalid_0's rmse: 1893.41\n",
      "[LightGBM] [Debug] Trained a tree with leaves = 31 and depth = 10\n",
      "[35]\tvalid_0's rmse: 1886.06\n",
      "[LightGBM] [Debug] Trained a tree with leaves = 31 and depth = 10\n",
      "[36]\tvalid_0's rmse: 1879.01\n",
      "[LightGBM] [Debug] Trained a tree with leaves = 31 and depth = 11\n",
      "[37]\tvalid_0's rmse: 1873.16\n",
      "[LightGBM] [Debug] Trained a tree with leaves = 31 and depth = 12\n",
      "[38]\tvalid_0's rmse: 1865.56\n",
      "[LightGBM] [Debug] Trained a tree with leaves = 31 and depth = 11\n",
      "[39]\tvalid_0's rmse: 1858.74\n",
      "[LightGBM] [Debug] Trained a tree with leaves = 31 and depth = 9\n",
      "[40]\tvalid_0's rmse: 1854.41\n",
      "[LightGBM] [Debug] Trained a tree with leaves = 31 and depth = 11\n",
      "[41]\tvalid_0's rmse: 1849.13\n",
      "[LightGBM] [Debug] Trained a tree with leaves = 31 and depth = 9\n",
      "[42]\tvalid_0's rmse: 1844.08\n",
      "[LightGBM] [Debug] Trained a tree with leaves = 31 and depth = 10\n",
      "[43]\tvalid_0's rmse: 1839.5\n",
      "[LightGBM] [Debug] Trained a tree with leaves = 31 and depth = 13\n",
      "[44]\tvalid_0's rmse: 1834.57\n",
      "[LightGBM] [Debug] Trained a tree with leaves = 31 and depth = 13\n",
      "[45]\tvalid_0's rmse: 1827.71\n",
      "[LightGBM] [Debug] Trained a tree with leaves = 31 and depth = 11\n",
      "[46]\tvalid_0's rmse: 1825.61\n",
      "[LightGBM] [Debug] Trained a tree with leaves = 31 and depth = 12\n",
      "[47]\tvalid_0's rmse: 1821.29\n",
      "[LightGBM] [Debug] Trained a tree with leaves = 31 and depth = 9\n",
      "[48]\tvalid_0's rmse: 1819.86\n",
      "[LightGBM] [Debug] Trained a tree with leaves = 31 and depth = 9\n",
      "[49]\tvalid_0's rmse: 1815.34\n",
      "[LightGBM] [Debug] Trained a tree with leaves = 31 and depth = 14\n",
      "[50]\tvalid_0's rmse: 1812.81\n",
      "[LightGBM] [Debug] Trained a tree with leaves = 31 and depth = 11\n",
      "[51]\tvalid_0's rmse: 1809.72\n",
      "[LightGBM] [Debug] Trained a tree with leaves = 31 and depth = 12\n",
      "[52]\tvalid_0's rmse: 1808.39\n",
      "[LightGBM] [Debug] Trained a tree with leaves = 31 and depth = 10\n",
      "[53]\tvalid_0's rmse: 1803.47\n",
      "[LightGBM] [Debug] Trained a tree with leaves = 31 and depth = 11\n",
      "[54]\tvalid_0's rmse: 1799.29\n",
      "[LightGBM] [Debug] Trained a tree with leaves = 31 and depth = 13\n",
      "[55]\tvalid_0's rmse: 1796.86\n",
      "[LightGBM] [Debug] Trained a tree with leaves = 31 and depth = 10\n",
      "[56]\tvalid_0's rmse: 1795.66\n",
      "[LightGBM] [Debug] Trained a tree with leaves = 31 and depth = 12\n",
      "[57]\tvalid_0's rmse: 1791.35\n",
      "[LightGBM] [Debug] Trained a tree with leaves = 31 and depth = 9\n",
      "[58]\tvalid_0's rmse: 1788.6\n",
      "[LightGBM] [Debug] Trained a tree with leaves = 31 and depth = 11\n",
      "[59]\tvalid_0's rmse: 1787.09\n",
      "[LightGBM] [Debug] Trained a tree with leaves = 31 and depth = 14\n",
      "[60]\tvalid_0's rmse: 1784.37\n",
      "[LightGBM] [Debug] Trained a tree with leaves = 31 and depth = 10\n",
      "[61]\tvalid_0's rmse: 1781.07\n",
      "[LightGBM] [Debug] Trained a tree with leaves = 31 and depth = 12\n",
      "[62]\tvalid_0's rmse: 1779.66\n",
      "[LightGBM] [Debug] Trained a tree with leaves = 31 and depth = 10\n",
      "[63]\tvalid_0's rmse: 1777.2\n",
      "[LightGBM] [Debug] Trained a tree with leaves = 31 and depth = 11\n",
      "[64]\tvalid_0's rmse: 1776.16\n",
      "[LightGBM] [Debug] Trained a tree with leaves = 31 and depth = 13\n",
      "[65]\tvalid_0's rmse: 1773.09\n",
      "[LightGBM] [Debug] Trained a tree with leaves = 31 and depth = 10\n",
      "[66]\tvalid_0's rmse: 1771.91\n",
      "[LightGBM] [Debug] Trained a tree with leaves = 31 and depth = 13\n",
      "[67]\tvalid_0's rmse: 1769.88\n",
      "[LightGBM] [Debug] Trained a tree with leaves = 31 and depth = 10\n",
      "[68]\tvalid_0's rmse: 1767.76\n",
      "[LightGBM] [Debug] Trained a tree with leaves = 31 and depth = 10\n",
      "[69]\tvalid_0's rmse: 1765.57\n",
      "[LightGBM] [Debug] Trained a tree with leaves = 31 and depth = 11\n",
      "[70]\tvalid_0's rmse: 1763.77\n",
      "[LightGBM] [Debug] Trained a tree with leaves = 31 and depth = 11\n",
      "[71]\tvalid_0's rmse: 1762.51\n",
      "[LightGBM] [Debug] Trained a tree with leaves = 31 and depth = 13\n",
      "[72]\tvalid_0's rmse: 1760.48\n",
      "[LightGBM] [Debug] Trained a tree with leaves = 31 and depth = 10\n",
      "[73]\tvalid_0's rmse: 1759.8\n",
      "[LightGBM] [Debug] Trained a tree with leaves = 31 and depth = 9\n",
      "[74]\tvalid_0's rmse: 1758.15\n",
      "[LightGBM] [Debug] Trained a tree with leaves = 31 and depth = 9\n",
      "[75]\tvalid_0's rmse: 1756.19\n",
      "[LightGBM] [Debug] Trained a tree with leaves = 31 and depth = 11\n",
      "[76]\tvalid_0's rmse: 1754.31\n",
      "[LightGBM] [Debug] Trained a tree with leaves = 31 and depth = 11\n",
      "[77]\tvalid_0's rmse: 1753.41\n",
      "[LightGBM] [Debug] Trained a tree with leaves = 31 and depth = 15\n",
      "[78]\tvalid_0's rmse: 1752.34\n",
      "[LightGBM] [Debug] Trained a tree with leaves = 31 and depth = 14\n",
      "[79]\tvalid_0's rmse: 1751.77\n",
      "[LightGBM] [Debug] Trained a tree with leaves = 31 and depth = 11\n",
      "[80]\tvalid_0's rmse: 1750.27\n",
      "[LightGBM] [Debug] Trained a tree with leaves = 31 and depth = 12\n",
      "[81]\tvalid_0's rmse: 1748.83\n",
      "[LightGBM] [Debug] Trained a tree with leaves = 31 and depth = 9\n",
      "[82]\tvalid_0's rmse: 1747.5\n",
      "[LightGBM] [Debug] Trained a tree with leaves = 31 and depth = 8\n",
      "[83]\tvalid_0's rmse: 1746.03\n",
      "[LightGBM] [Debug] Trained a tree with leaves = 31 and depth = 12\n",
      "[84]\tvalid_0's rmse: 1745.33\n",
      "[LightGBM] [Debug] Trained a tree with leaves = 31 and depth = 12\n",
      "[85]\tvalid_0's rmse: 1744.74\n",
      "[LightGBM] [Debug] Trained a tree with leaves = 31 and depth = 9\n",
      "[86]\tvalid_0's rmse: 1743.19\n",
      "[LightGBM] [Debug] Trained a tree with leaves = 31 and depth = 12\n",
      "[87]\tvalid_0's rmse: 1741.51\n",
      "[LightGBM] [Debug] Trained a tree with leaves = 31 and depth = 15\n",
      "[88]\tvalid_0's rmse: 1740.1\n",
      "[LightGBM] [Debug] Trained a tree with leaves = 31 and depth = 8\n",
      "[89]\tvalid_0's rmse: 1739.68\n",
      "[LightGBM] [Debug] Trained a tree with leaves = 31 and depth = 15\n",
      "[90]\tvalid_0's rmse: 1738.88\n",
      "[LightGBM] [Debug] Trained a tree with leaves = 31 and depth = 13\n",
      "[91]\tvalid_0's rmse: 1737.96\n",
      "[LightGBM] [Debug] Trained a tree with leaves = 31 and depth = 11\n",
      "[92]\tvalid_0's rmse: 1737.42\n",
      "[LightGBM] [Debug] Trained a tree with leaves = 31 and depth = 8\n",
      "[93]\tvalid_0's rmse: 1736.4\n",
      "[LightGBM] [Debug] Trained a tree with leaves = 31 and depth = 9\n",
      "[94]\tvalid_0's rmse: 1735.74\n",
      "[LightGBM] [Debug] Trained a tree with leaves = 31 and depth = 11\n",
      "[95]\tvalid_0's rmse: 1735.61\n",
      "[LightGBM] [Debug] Trained a tree with leaves = 31 and depth = 9\n",
      "[96]\tvalid_0's rmse: 1733.98\n",
      "[LightGBM] [Debug] Trained a tree with leaves = 31 and depth = 13\n",
      "[97]\tvalid_0's rmse: 1733.06\n",
      "[LightGBM] [Debug] Trained a tree with leaves = 31 and depth = 11\n",
      "[98]\tvalid_0's rmse: 1732.12\n",
      "[LightGBM] [Debug] Trained a tree with leaves = 31 and depth = 9\n",
      "[99]\tvalid_0's rmse: 1731.74\n",
      "[LightGBM] [Debug] Trained a tree with leaves = 31 and depth = 13\n",
      "[100]\tvalid_0's rmse: 1730.39\n",
      "[LightGBM] [Debug] Trained a tree with leaves = 31 and depth = 11\n",
      "[101]\tvalid_0's rmse: 1729.33\n",
      "[LightGBM] [Debug] Trained a tree with leaves = 31 and depth = 11\n",
      "[102]\tvalid_0's rmse: 1728.37\n",
      "[LightGBM] [Debug] Trained a tree with leaves = 31 and depth = 10\n",
      "[103]\tvalid_0's rmse: 1727.64\n",
      "[LightGBM] [Debug] Trained a tree with leaves = 31 and depth = 15\n",
      "[104]\tvalid_0's rmse: 1726.94\n",
      "[LightGBM] [Debug] Trained a tree with leaves = 31 and depth = 15\n",
      "[105]\tvalid_0's rmse: 1726.33\n",
      "[LightGBM] [Debug] Trained a tree with leaves = 31 and depth = 12\n",
      "[106]\tvalid_0's rmse: 1725.68\n",
      "[LightGBM] [Debug] Trained a tree with leaves = 31 and depth = 10\n",
      "[107]\tvalid_0's rmse: 1724.5\n",
      "[LightGBM] [Debug] Trained a tree with leaves = 31 and depth = 9\n",
      "[108]\tvalid_0's rmse: 1723.63\n",
      "[LightGBM] [Debug] Trained a tree with leaves = 31 and depth = 9\n",
      "[109]\tvalid_0's rmse: 1723.21\n",
      "[LightGBM] [Debug] Trained a tree with leaves = 31 and depth = 13\n",
      "[110]\tvalid_0's rmse: 1722.73\n",
      "[LightGBM] [Debug] Trained a tree with leaves = 31 and depth = 14\n",
      "[111]\tvalid_0's rmse: 1722.2\n",
      "[LightGBM] [Debug] Trained a tree with leaves = 31 and depth = 11\n",
      "[112]\tvalid_0's rmse: 1722.08\n",
      "[LightGBM] [Debug] Trained a tree with leaves = 31 and depth = 10\n",
      "[113]\tvalid_0's rmse: 1722.03\n",
      "[LightGBM] [Debug] Trained a tree with leaves = 31 and depth = 9\n",
      "[114]\tvalid_0's rmse: 1721.69\n",
      "[LightGBM] [Debug] Trained a tree with leaves = 31 and depth = 12\n",
      "[115]\tvalid_0's rmse: 1720.88\n",
      "[LightGBM] [Debug] Trained a tree with leaves = 31 and depth = 14\n",
      "[116]\tvalid_0's rmse: 1719.9\n",
      "[LightGBM] [Debug] Trained a tree with leaves = 31 and depth = 10\n",
      "[117]\tvalid_0's rmse: 1719.29\n",
      "[LightGBM] [Debug] Trained a tree with leaves = 31 and depth = 11\n",
      "[118]\tvalid_0's rmse: 1717.89\n",
      "[LightGBM] [Debug] Trained a tree with leaves = 31 and depth = 15\n",
      "[119]\tvalid_0's rmse: 1717.21\n",
      "[LightGBM] [Debug] Trained a tree with leaves = 31 and depth = 10\n",
      "[120]\tvalid_0's rmse: 1716.89\n",
      "[LightGBM] [Debug] Trained a tree with leaves = 31 and depth = 8\n",
      "[121]\tvalid_0's rmse: 1716.14\n",
      "[LightGBM] [Debug] Trained a tree with leaves = 31 and depth = 10\n",
      "[122]\tvalid_0's rmse: 1715.33\n",
      "[LightGBM] [Debug] Trained a tree with leaves = 31 and depth = 11\n",
      "[123]\tvalid_0's rmse: 1714.23\n",
      "[LightGBM] [Debug] Trained a tree with leaves = 31 and depth = 10\n",
      "[124]\tvalid_0's rmse: 1713.62\n",
      "[LightGBM] [Debug] Trained a tree with leaves = 31 and depth = 13\n",
      "[125]\tvalid_0's rmse: 1713.06\n",
      "[LightGBM] [Debug] Trained a tree with leaves = 31 and depth = 11\n",
      "[126]\tvalid_0's rmse: 1712.77\n",
      "[LightGBM] [Debug] Trained a tree with leaves = 31 and depth = 10\n",
      "[127]\tvalid_0's rmse: 1711.84\n",
      "[LightGBM] [Debug] Trained a tree with leaves = 31 and depth = 7\n",
      "[128]\tvalid_0's rmse: 1711.15\n",
      "[LightGBM] [Debug] Trained a tree with leaves = 31 and depth = 12\n",
      "[129]\tvalid_0's rmse: 1710.51\n",
      "[LightGBM] [Debug] Trained a tree with leaves = 31 and depth = 10\n",
      "[130]\tvalid_0's rmse: 1709.34\n",
      "[LightGBM] [Debug] Trained a tree with leaves = 31 and depth = 12\n",
      "[131]\tvalid_0's rmse: 1709.27\n",
      "[LightGBM] [Debug] Trained a tree with leaves = 31 and depth = 13\n",
      "[132]\tvalid_0's rmse: 1708.51\n",
      "[LightGBM] [Debug] Trained a tree with leaves = 31 and depth = 9\n",
      "[133]\tvalid_0's rmse: 1707.67\n",
      "[LightGBM] [Debug] Trained a tree with leaves = 31 and depth = 12\n",
      "[134]\tvalid_0's rmse: 1707.05\n",
      "[LightGBM] [Debug] Trained a tree with leaves = 31 and depth = 10\n",
      "[135]\tvalid_0's rmse: 1705.68\n",
      "[LightGBM] [Debug] Trained a tree with leaves = 31 and depth = 10\n",
      "[136]\tvalid_0's rmse: 1705.3\n",
      "[LightGBM] [Debug] Trained a tree with leaves = 31 and depth = 10\n",
      "[137]\tvalid_0's rmse: 1704.28\n",
      "[LightGBM] [Debug] Trained a tree with leaves = 31 and depth = 10\n",
      "[138]\tvalid_0's rmse: 1704.12\n",
      "[LightGBM] [Debug] Trained a tree with leaves = 31 and depth = 14\n",
      "[139]\tvalid_0's rmse: 1704\n",
      "[LightGBM] [Debug] Trained a tree with leaves = 31 and depth = 11\n",
      "[140]\tvalid_0's rmse: 1703.25\n",
      "[LightGBM] [Debug] Trained a tree with leaves = 31 and depth = 10\n",
      "[141]\tvalid_0's rmse: 1702.3\n",
      "[LightGBM] [Debug] Trained a tree with leaves = 31 and depth = 10\n",
      "[142]\tvalid_0's rmse: 1701.74\n",
      "[LightGBM] [Debug] Trained a tree with leaves = 31 and depth = 15\n",
      "[143]\tvalid_0's rmse: 1701.6\n",
      "[LightGBM] [Debug] Trained a tree with leaves = 31 and depth = 9\n",
      "[144]\tvalid_0's rmse: 1701.02\n",
      "[LightGBM] [Debug] Trained a tree with leaves = 31 and depth = 11\n",
      "[145]\tvalid_0's rmse: 1700.38\n",
      "[LightGBM] [Debug] Trained a tree with leaves = 31 and depth = 10\n",
      "[146]\tvalid_0's rmse: 1699.56\n",
      "[LightGBM] [Debug] Trained a tree with leaves = 31 and depth = 14\n",
      "[147]\tvalid_0's rmse: 1699.04\n",
      "[LightGBM] [Debug] Trained a tree with leaves = 31 and depth = 9\n",
      "[148]\tvalid_0's rmse: 1698.85\n",
      "[LightGBM] [Debug] Trained a tree with leaves = 31 and depth = 12\n",
      "[149]\tvalid_0's rmse: 1698.4\n",
      "[LightGBM] [Debug] Trained a tree with leaves = 31 and depth = 13\n",
      "[150]\tvalid_0's rmse: 1698.07\n",
      "CPU times: user 7.28 s, sys: 129 ms, total: 7.41 s\n",
      "Wall time: 7.46 s\n"
     ]
    }
   ],
   "source": [
    "%%time\n",
    "\n",
    "evals_result_3 = {}\n",
    "model_lgbm_3 = lgb.train(params_3,\n",
    "                    train_set=train_dataset, \n",
    "                    valid_sets=(valid_dataset,),\n",
    "                    evals_result=evals_result_3,\n",
    "                    num_boost_round=10)"
   ]
  },
  {
   "cell_type": "code",
   "execution_count": 151,
   "metadata": {
    "scrolled": true
   },
   "outputs": [
    {
     "data": {
      "text/plain": [
       "{'valid_0': OrderedDict([('rmse',\n",
       "               [4154.550763742677,\n",
       "                3879.2498327449343,\n",
       "                3636.9263493942954,\n",
       "                3427.7815577340475,\n",
       "                3245.8052728729112,\n",
       "                3084.7062816700177,\n",
       "                2940.4692087328385,\n",
       "                2818.649561586753,\n",
       "                2713.9131629615017,\n",
       "                2616.5861185569856,\n",
       "                2532.1914390675806,\n",
       "                2461.418314286876,\n",
       "                2397.6168968900224,\n",
       "                2343.5862734417656,\n",
       "                2294.9661148545065,\n",
       "                2251.219517760192,\n",
       "                2209.809176834228,\n",
       "                2175.323591291112,\n",
       "                2142.1567332611767,\n",
       "                2115.0708888886047,\n",
       "                2085.162277257139,\n",
       "                2061.1876392588338,\n",
       "                2038.4493208053768,\n",
       "                2018.3410650164014,\n",
       "                2000.7941356105075,\n",
       "                1984.6549932073522,\n",
       "                1968.3883695173056,\n",
       "                1956.417816184496,\n",
       "                1942.4859881896127,\n",
       "                1932.3982352125693,\n",
       "                1919.5740622198032,\n",
       "                1910.5841213812196,\n",
       "                1901.7098728110122,\n",
       "                1893.4075587188593,\n",
       "                1886.0594141391337,\n",
       "                1879.0122029381644,\n",
       "                1873.164261971494,\n",
       "                1865.5573510358809,\n",
       "                1858.7354387423293,\n",
       "                1854.4147386307234,\n",
       "                1849.1324589628455,\n",
       "                1844.0757499124506,\n",
       "                1839.5011033985213,\n",
       "                1834.5739964669108,\n",
       "                1827.7060602138981,\n",
       "                1825.6120498853124,\n",
       "                1821.285965819043,\n",
       "                1819.8630513785938,\n",
       "                1815.3376324288,\n",
       "                1812.8050499450721,\n",
       "                1809.7238043984312,\n",
       "                1808.3906773083393,\n",
       "                1803.4746130720212,\n",
       "                1799.2897314253644,\n",
       "                1796.8610700056229,\n",
       "                1795.6635738175303,\n",
       "                1791.3507968967774,\n",
       "                1788.597871861566,\n",
       "                1787.08886242489,\n",
       "                1784.3673040846168,\n",
       "                1781.0730036929162,\n",
       "                1779.6552221328575,\n",
       "                1777.2004021022487,\n",
       "                1776.1633804803405,\n",
       "                1773.087616581595,\n",
       "                1771.9123372785243,\n",
       "                1769.8791447258873,\n",
       "                1767.7592818619944,\n",
       "                1765.5702337841365,\n",
       "                1763.7706100339324,\n",
       "                1762.5070115525493,\n",
       "                1760.480677034214,\n",
       "                1759.8011808201388,\n",
       "                1758.1490190661968,\n",
       "                1756.186690652538,\n",
       "                1754.3120194296848,\n",
       "                1753.4090877862347,\n",
       "                1752.3358471436597,\n",
       "                1751.7686280550704,\n",
       "                1750.2723068665791,\n",
       "                1748.831355654833,\n",
       "                1747.500924463964,\n",
       "                1746.03188227176,\n",
       "                1745.3266248185507,\n",
       "                1744.7409679616035,\n",
       "                1743.1914246982483,\n",
       "                1741.508726846753,\n",
       "                1740.102735449211,\n",
       "                1739.6783390898615,\n",
       "                1738.8791443555626,\n",
       "                1737.9633340468274,\n",
       "                1737.4246294745835,\n",
       "                1736.3952768665724,\n",
       "                1735.736863571836,\n",
       "                1735.6094449279217,\n",
       "                1733.9754938491587,\n",
       "                1733.0555067656558,\n",
       "                1732.1190190053337,\n",
       "                1731.7429826941682,\n",
       "                1730.39038779554,\n",
       "                1729.328599936095,\n",
       "                1728.3664092242184,\n",
       "                1727.6424054966687,\n",
       "                1726.9401222446895,\n",
       "                1726.3320058358433,\n",
       "                1725.677305407374,\n",
       "                1724.5022885213991,\n",
       "                1723.632730189096,\n",
       "                1723.2087920238307,\n",
       "                1722.7326362500019,\n",
       "                1722.1966727914557,\n",
       "                1722.0791308970686,\n",
       "                1722.0268147513636,\n",
       "                1721.6854188825082,\n",
       "                1720.8828386517926,\n",
       "                1719.9029790300135,\n",
       "                1719.2871253122,\n",
       "                1717.8915630044805,\n",
       "                1717.2100733239795,\n",
       "                1716.8860215951963,\n",
       "                1716.1425771800916,\n",
       "                1715.3317382181622,\n",
       "                1714.2320796440301,\n",
       "                1713.6236058852348,\n",
       "                1713.064342602696,\n",
       "                1712.7656924348867,\n",
       "                1711.8391607825372,\n",
       "                1711.147660337342,\n",
       "                1710.5126438270245,\n",
       "                1709.340978149775,\n",
       "                1709.2747474720359,\n",
       "                1708.5058720016377,\n",
       "                1707.6694679758957,\n",
       "                1707.045286267316,\n",
       "                1705.6837211483335,\n",
       "                1705.2983965942738,\n",
       "                1704.2829279358896,\n",
       "                1704.1204062964728,\n",
       "                1703.9999359301582,\n",
       "                1703.2494077789647,\n",
       "                1702.2964823611817,\n",
       "                1701.7369521660096,\n",
       "                1701.5982717478935,\n",
       "                1701.0200667413828,\n",
       "                1700.3790079555713,\n",
       "                1699.5574317202781,\n",
       "                1699.039744630352,\n",
       "                1698.852160322956,\n",
       "                1698.402541900991,\n",
       "                1698.06645584697])])}"
      ]
     },
     "execution_count": 151,
     "metadata": {},
     "output_type": "execute_result"
    }
   ],
   "source": [
    "evals_result_3"
   ]
  },
  {
   "cell_type": "code",
   "execution_count": 152,
   "metadata": {},
   "outputs": [
    {
     "data": {
      "image/png": "[encoded data removed]",
      "text/plain": [
       "<Figure size 432x288 with 1 Axes>"
      ]
     },
     "metadata": {},
     "output_type": "display_data"
    }
   ],
   "source": [
    "_ = lgb.plot_metric(evals_result_3)"
   ]
  },
  {
   "cell_type": "code",
   "execution_count": 153,
   "metadata": {},
   "outputs": [
    {
     "name": "stdout",
     "output_type": "stream",
     "text": [
      "CPU times: user 612 ms, sys: 0 ns, total: 612 ms\n",
      "Wall time: 594 ms\n"
     ]
    }
   ],
   "source": [
    "%%time\n",
    "pred_data_target_valid = model_lgbm_3.predict(encod_features_valid)"
   ]
  },
  {
   "cell_type": "code",
   "execution_count": 154,
   "metadata": {},
   "outputs": [
    {
     "name": "stdout",
     "output_type": "stream",
     "text": [
      "RMSE 1698.07\n"
     ]
    }
   ],
   "source": [
    "print('RMSE', \\\n",
    "      round(mean_squared_error(pred_data_target_valid, data_target_valid) ** 0.5, 2))"
   ]
  },
  {
   "cell_type": "markdown",
   "metadata": {},
   "source": [
    "## Анализ моделей"
   ]
  },
  {
   "cell_type": "markdown",
   "metadata": {},
   "source": [
    "В качестве наилучшей модели остановимся на LightGBM c гиперпараметрами\n",
    "    'n_estimators': 150,\n",
    "    'max_depth': 15,\n",
    "    \n",
    "    Время обучения значительно меньше чем у моделей CatBoost и RandomForest\n",
    "    Время обучения 11секунд\n",
    "    Время предсказания 540 милисекунд"
   ]
  },
  {
   "cell_type": "code",
   "execution_count": 155,
   "metadata": {},
   "outputs": [
    {
     "name": "stdout",
     "output_type": "stream",
     "text": [
      "CPU times: user 593 ms, sys: 6.87 ms, total: 600 ms\n",
      "Wall time: 585 ms\n"
     ]
    }
   ],
   "source": [
    "%%time\n",
    "# Проверим работу выбранной модели на тестовых данных\n",
    "\n",
    "pred_data_target_test = model_lgbm_3.predict(encod_features_test)"
   ]
  },
  {
   "cell_type": "code",
   "execution_count": 156,
   "metadata": {},
   "outputs": [
    {
     "name": "stdout",
     "output_type": "stream",
     "text": [
      "RMSE 1733.57\n"
     ]
    }
   ],
   "source": [
    "print('RMSE', \\\n",
    "      round(mean_squared_error(pred_data_target_test, data_target_test) ** 0.5, 2))"
   ]
  },
  {
   "cell_type": "markdown",
   "metadata": {},
   "source": [
    "## Выводы"
   ]
  },
  {
   "cell_type": "markdown",
   "metadata": {},
   "source": [
    "### Выводы по подготовке данных\n",
    "В загруженных данных бросаются в глаза неадекватные минимальные и максимальные значения года регистрации, а также мощности автомобиля. Количество фото не заполнено. Средняя стоимость авто составляет 4416, медианное значение 2700.\n",
    "\n",
    "В пяти полях датафрейма обнаружены пропуски. В поле Model и VehicleType пустые ячейки заполнены значением unknow.  \n",
    "\n",
    "Для поля Gearbox логика заполнения другая - смотрим модели только с одним типом коробки передач. Принимаем допущение, что исходные данные у нас достаточно полные, и если у модели один тип коробки передач, то и у пропущенных значений Gearbox, аналогиная каробка. Удалось осознанно заполнить 5636 пропусков поля Gearbox. По аналогичным значениям модели. Оставшиеся пропуски заполнили unknow.\n",
    "\n",
    "Для поля FuelType изучена связь с моделями авто, т.к. некоторые модели могли  быть  только с одним типом топлива. Таким образом удалось заполнить 7 328 пустых ячеек поля FuelType. Остальные ячейки заполняем unknow.\n",
    "\n",
    "Для поля Repaired  предположили, что машина не была в ремонте при отсутствие данных об этом. \n",
    "\n",
    "Количество строк с выбросами в поле год регистрации - 351. Нереальные значения менее 1950 года и более 2022 года. Эти строки удалены, т.к. год выпуска имеет значимую важность при влиянии на цену автомобиля конкретной марки. \n",
    "\n",
    "В поле RegistrationMonth выбросов не обнаружено.\n",
    "\n",
    "Построен график - ящик с усами для пробега - выбросов не обнаружено, только редкие значения, но они допустимы.\n",
    "\n",
    "Построен график - ящик с усами для мощности, а также диаграмма распределения значений. Обнаружено 47895 выбросов со значениями мощности менее 25 и более 250. Данные строки удалены.\n",
    "\n",
    "Бесполезнче поля NumberOfPictures, LastSeen, PostalCode, DateCrawled не имеют отношения к стоимости. Они удалены.\n",
    "\n",
    "Неадекватных значений в поле DateCreated не обнаружено.\n",
    "\n",
    "Для преобразования данных выберем методику Порядкового кодирования Original Encoding, т.к. планируем дальнейщую работу с моделями основанную на деревьях - дерево решений, случайный лес, градиентный бустинг. Если бы мы работали с линейными моделями можно было бы применить прямое кодирование One Hot Encoding. Но это былобы не удобно, т.к. после преобразования получили бы несколько десятков полей.\n",
    "\n",
    "Проведена стандартизация данных.\n",
    "\n",
    "Построена матрица корреляций для определения значимости признаков.\n",
    "\n",
    "Далее выделен целевой признак, данные разбиты на обучающие, валидационные и тестовые выборки."
   ]
  },
  {
   "cell_type": "markdown",
   "metadata": {},
   "source": [
    "###### Выводы по обучению моделей\n",
    "Для сравнения были обучены модели CatBoost, RandomForest и LightGMB. Для каждой модели подготовлены входные данные. На входе CatBoost данные без кодирования, на входе RandomForest и LightGMB данные преобразования по методике Порядкового кодирования Original Encoding. \n",
    "\n",
    "Наилучшие параметры из предлаженных для CatBoostRegressor n_estimators=500, depth=10. В результате RMSE по данным параметрам 1586. Время обучения 5min 33s. Время прогноза 879 ms.\n",
    "\n",
    "Наилучшие параметры из предлаженных для RandomForest n_estimators=150, depth=10. В результате RMSE по данным параметрам 1898. Время обучения 44s. Время прогноза 730 ms."
   ]
  },
  {
   "cell_type": "markdown",
   "metadata": {},
   "source": [
    "Наилучшие параметры из предлаженных для LightGBM n_estimators=150, depth=15. В результате RMSE по данным параметрам 1698. Время обучения 7 секунд. Время прогноза 594 ms.\n",
    "Данная модель имеет рекордно-бустрое время обучения, поэтому именно она и была выбрана в итоге для прогнозирования тестовых значений. \n",
    "Финальное значение RMSE для тестового датасета равно 1733."
   ]
  },
  {
   "cell_type": "markdown",
   "metadata": {},
   "source": [
    "## Чек-лист проверки"
   ]
  },
  {
   "cell_type": "markdown",
   "metadata": {},
   "source": [
    "Поставьте 'x' в выполненных пунктах. Далее нажмите Shift+Enter."
   ]
  },
  {
   "cell_type": "markdown",
   "metadata": {},
   "source": [
    "- [x]  Jupyter Notebook открыт\n",
    "- [x]  Весь код выполняется без ошибок\n",
    "- [x]  Ячейки с кодом расположены в порядке исполнения\n",
    "- [x]  Выполнена загрузка и подготовка данных\n",
    "- [x]  Выполнено обучение моделей\n",
    "- [x]  Есть анализ скорости работы и качества моделей"
   ]
  }
 ],
 "metadata": {
  "ExecuteTimeLog": [
   {
    "duration": 349,
    "start_time": "2022-12-14T07:07:30.959Z"
   },
   {
    "duration": 3,
    "start_time": "2022-12-14T07:17:59.242Z"
   },
   {
    "duration": 3,
    "start_time": "2022-12-14T07:18:58.623Z"
   },
   {
    "duration": 356,
    "start_time": "2022-12-14T07:18:58.627Z"
   },
   {
    "duration": 1059,
    "start_time": "2022-12-14T07:18:58.984Z"
   },
   {
    "duration": 57,
    "start_time": "2022-12-14T07:19:00.045Z"
   },
   {
    "duration": 562,
    "start_time": "2022-12-14T07:19:00.106Z"
   },
   {
    "duration": 18,
    "start_time": "2022-12-14T07:19:00.670Z"
   },
   {
    "duration": 42,
    "start_time": "2022-12-14T07:19:00.690Z"
   },
   {
    "duration": 133,
    "start_time": "2022-12-14T07:19:00.733Z"
   },
   {
    "duration": 37,
    "start_time": "2022-12-14T07:19:00.868Z"
   },
   {
    "duration": 960,
    "start_time": "2022-12-14T07:19:00.907Z"
   },
   {
    "duration": 17,
    "start_time": "2022-12-14T07:19:01.869Z"
   },
   {
    "duration": 116,
    "start_time": "2022-12-14T07:19:01.897Z"
   },
   {
    "duration": 23,
    "start_time": "2022-12-14T07:19:02.016Z"
   },
   {
    "duration": 550,
    "start_time": "2022-12-14T07:19:02.042Z"
   },
   {
    "duration": 31,
    "start_time": "2022-12-14T07:19:02.594Z"
   },
   {
    "duration": 19,
    "start_time": "2022-12-14T07:19:02.627Z"
   },
   {
    "duration": 65,
    "start_time": "2022-12-14T07:19:02.647Z"
   },
   {
    "duration": 6,
    "start_time": "2022-12-14T07:19:02.714Z"
   },
   {
    "duration": 10,
    "start_time": "2022-12-14T07:19:02.722Z"
   },
   {
    "duration": 42,
    "start_time": "2022-12-14T07:19:02.734Z"
   },
   {
    "duration": 57,
    "start_time": "2022-12-14T07:19:02.777Z"
   },
   {
    "duration": 30,
    "start_time": "2022-12-14T07:19:02.835Z"
   },
   {
    "duration": 672,
    "start_time": "2022-12-14T07:19:02.867Z"
   },
   {
    "duration": 150,
    "start_time": "2022-12-14T07:19:03.541Z"
   },
   {
    "duration": 540,
    "start_time": "2022-12-14T07:19:03.692Z"
   },
   {
    "duration": 7,
    "start_time": "2022-12-14T07:19:04.234Z"
   },
   {
    "duration": 10,
    "start_time": "2022-12-14T07:19:04.243Z"
   },
   {
    "duration": 8,
    "start_time": "2022-12-14T07:19:04.255Z"
   },
   {
    "duration": 116,
    "start_time": "2022-12-14T07:19:04.264Z"
   },
   {
    "duration": 40,
    "start_time": "2022-12-14T07:19:04.382Z"
   },
   {
    "duration": 2,
    "start_time": "2022-12-14T07:19:04.424Z"
   },
   {
    "duration": 22,
    "start_time": "2022-12-14T07:19:04.428Z"
   },
   {
    "duration": 61,
    "start_time": "2022-12-14T07:19:04.452Z"
   },
   {
    "duration": 20,
    "start_time": "2022-12-14T07:19:04.515Z"
   },
   {
    "duration": 4,
    "start_time": "2022-12-14T07:19:04.536Z"
   },
   {
    "duration": 175,
    "start_time": "2022-12-14T07:19:04.542Z"
   },
   {
    "duration": 36,
    "start_time": "2022-12-14T07:20:45.753Z"
   },
   {
    "duration": 4,
    "start_time": "2022-12-14T07:24:17.553Z"
   },
   {
    "duration": 2,
    "start_time": "2022-12-14T07:26:26.985Z"
   },
   {
    "duration": 3,
    "start_time": "2022-12-14T07:27:46.925Z"
   },
   {
    "duration": 19,
    "start_time": "2022-12-14T07:32:59.522Z"
   },
   {
    "duration": 104,
    "start_time": "2022-12-14T07:33:12.058Z"
   },
   {
    "duration": 9,
    "start_time": "2022-12-14T07:33:18.658Z"
   },
   {
    "duration": 3,
    "start_time": "2022-12-14T07:34:08.502Z"
   },
   {
    "duration": 3,
    "start_time": "2022-12-14T07:34:44.142Z"
   },
   {
    "duration": 3101,
    "start_time": "2022-12-14T07:35:45.113Z"
   },
   {
    "duration": 2140,
    "start_time": "2022-12-14T07:36:01.707Z"
   },
   {
    "duration": 2266,
    "start_time": "2022-12-14T07:36:09.424Z"
   },
   {
    "duration": 1907,
    "start_time": "2022-12-14T07:42:02.174Z"
   },
   {
    "duration": 9706,
    "start_time": "2022-12-14T07:43:13.103Z"
   },
   {
    "duration": 9287,
    "start_time": "2022-12-14T07:45:18.517Z"
   },
   {
    "duration": 12,
    "start_time": "2022-12-14T07:49:55.535Z"
   },
   {
    "duration": 2,
    "start_time": "2022-12-14T07:50:20.641Z"
   },
   {
    "duration": 0,
    "start_time": "2022-12-14T07:52:02.446Z"
   },
   {
    "duration": 0,
    "start_time": "2022-12-14T07:52:02.447Z"
   },
   {
    "duration": 3,
    "start_time": "2022-12-14T07:52:06.138Z"
   },
   {
    "duration": 226432,
    "start_time": "2022-12-14T07:52:09.295Z"
   },
   {
    "duration": 11,
    "start_time": "2022-12-14T07:56:07.363Z"
   },
   {
    "duration": 13,
    "start_time": "2022-12-14T07:59:17.931Z"
   },
   {
    "duration": 11,
    "start_time": "2022-12-14T07:59:25.690Z"
   },
   {
    "duration": 3,
    "start_time": "2022-12-14T08:00:21.839Z"
   },
   {
    "duration": 2419,
    "start_time": "2022-12-14T08:00:27.965Z"
   },
   {
    "duration": 4,
    "start_time": "2022-12-14T08:00:55.213Z"
   },
   {
    "duration": 10796,
    "start_time": "2022-12-14T08:00:59.205Z"
   },
   {
    "duration": 8925,
    "start_time": "2022-12-14T08:01:59.131Z"
   },
   {
    "duration": 83,
    "start_time": "2022-12-14T08:16:14.045Z"
   },
   {
    "duration": 3,
    "start_time": "2022-12-14T08:22:40.650Z"
   },
   {
    "duration": 3,
    "start_time": "2022-12-14T08:22:49.413Z"
   },
   {
    "duration": 2,
    "start_time": "2022-12-14T08:22:53.816Z"
   },
   {
    "duration": 2,
    "start_time": "2022-12-14T08:30:40.670Z"
   },
   {
    "duration": 46,
    "start_time": "2022-12-14T08:47:38.666Z"
   },
   {
    "duration": 3,
    "start_time": "2022-12-14T08:47:47.056Z"
   },
   {
    "duration": 3,
    "start_time": "2022-12-14T08:50:07.022Z"
   },
   {
    "duration": 325599,
    "start_time": "2022-12-14T08:50:39.241Z"
   },
   {
    "duration": 5,
    "start_time": "2022-12-14T08:57:46.732Z"
   },
   {
    "duration": 7,
    "start_time": "2022-12-14T08:58:45.044Z"
   },
   {
    "duration": 23,
    "start_time": "2022-12-14T08:59:11.910Z"
   },
   {
    "duration": 4,
    "start_time": "2022-12-14T09:08:40.013Z"
   },
   {
    "duration": 334194,
    "start_time": "2022-12-14T09:08:47.520Z"
   },
   {
    "duration": 3,
    "start_time": "2022-12-14T09:14:49.907Z"
   },
   {
    "duration": 3,
    "start_time": "2022-12-14T09:14:59.253Z"
   },
   {
    "duration": 2704585,
    "start_time": "2022-12-14T09:15:02.267Z"
   },
   {
    "duration": 5,
    "start_time": "2022-12-14T10:00:39.414Z"
   },
   {
    "duration": 21,
    "start_time": "2022-12-14T10:00:54.994Z"
   },
   {
    "duration": 4,
    "start_time": "2022-12-14T10:01:50.599Z"
   },
   {
    "duration": 301197,
    "start_time": "2022-12-14T10:02:26.511Z"
   },
   {
    "duration": 847,
    "start_time": "2022-12-14T10:36:12.714Z"
   },
   {
    "duration": 895,
    "start_time": "2022-12-14T10:38:59.188Z"
   },
   {
    "duration": 10,
    "start_time": "2022-12-14T10:40:02.885Z"
   },
   {
    "duration": 2,
    "start_time": "2022-12-14T10:46:28.475Z"
   },
   {
    "duration": 6,
    "start_time": "2022-12-14T10:46:35.365Z"
   },
   {
    "duration": 9,
    "start_time": "2022-12-14T10:47:25.298Z"
   },
   {
    "duration": 3,
    "start_time": "2022-12-14T10:47:33.109Z"
   },
   {
    "duration": 4,
    "start_time": "2022-12-14T10:47:47.397Z"
   },
   {
    "duration": 6,
    "start_time": "2022-12-14T10:49:27.219Z"
   },
   {
    "duration": 5,
    "start_time": "2022-12-14T10:49:49.084Z"
   },
   {
    "duration": 5,
    "start_time": "2022-12-14T10:50:21.851Z"
   },
   {
    "duration": 3,
    "start_time": "2022-12-14T10:52:41.935Z"
   },
   {
    "duration": 74,
    "start_time": "2022-12-14T11:02:53.039Z"
   },
   {
    "duration": 46,
    "start_time": "2022-12-14T11:06:01.758Z"
   },
   {
    "duration": 40,
    "start_time": "2022-12-14T11:11:07.610Z"
   },
   {
    "duration": 17,
    "start_time": "2022-12-14T11:11:12.900Z"
   },
   {
    "duration": 10,
    "start_time": "2022-12-14T11:11:21.344Z"
   },
   {
    "duration": 3,
    "start_time": "2022-12-14T11:11:34.278Z"
   },
   {
    "duration": 15458,
    "start_time": "2022-12-14T11:23:17.434Z"
   },
   {
    "duration": 3,
    "start_time": "2022-12-14T11:24:26.952Z"
   },
   {
    "duration": 77,
    "start_time": "2022-12-14T11:24:40.565Z"
   },
   {
    "duration": 3,
    "start_time": "2022-12-14T11:24:55.378Z"
   },
   {
    "duration": 15733,
    "start_time": "2022-12-14T11:24:58.418Z"
   },
   {
    "duration": 295,
    "start_time": "2022-12-14T11:26:55.406Z"
   },
   {
    "duration": 5,
    "start_time": "2022-12-14T11:27:36.311Z"
   },
   {
    "duration": 68,
    "start_time": "2022-12-14T11:30:04.314Z"
   },
   {
    "duration": 3,
    "start_time": "2022-12-14T11:30:31.642Z"
   },
   {
    "duration": 14629,
    "start_time": "2022-12-14T11:31:10.731Z"
   },
   {
    "duration": 266,
    "start_time": "2022-12-14T11:32:16.397Z"
   },
   {
    "duration": 258,
    "start_time": "2022-12-14T11:32:45.774Z"
   },
   {
    "duration": 5,
    "start_time": "2022-12-14T11:33:00.191Z"
   },
   {
    "duration": 3,
    "start_time": "2022-12-14T11:37:57.228Z"
   },
   {
    "duration": 14496,
    "start_time": "2022-12-14T11:38:23.165Z"
   },
   {
    "duration": 255,
    "start_time": "2022-12-14T11:38:50.519Z"
   },
   {
    "duration": 4,
    "start_time": "2022-12-14T11:40:10.226Z"
   },
   {
    "duration": 2,
    "start_time": "2022-12-14T11:41:08.434Z"
   },
   {
    "duration": 14790,
    "start_time": "2022-12-14T11:41:24.014Z"
   },
   {
    "duration": 241,
    "start_time": "2022-12-14T11:41:57.051Z"
   },
   {
    "duration": 4,
    "start_time": "2022-12-14T11:42:11.976Z"
   },
   {
    "duration": 3,
    "start_time": "2022-12-14T11:46:07.396Z"
   },
   {
    "duration": 87,
    "start_time": "2022-12-14T11:48:36.148Z"
   },
   {
    "duration": 4,
    "start_time": "2022-12-14T11:48:44.036Z"
   },
   {
    "duration": 82,
    "start_time": "2022-12-14T11:48:47.270Z"
   },
   {
    "duration": 3,
    "start_time": "2022-12-14T11:49:18.014Z"
   },
   {
    "duration": 1273236,
    "start_time": "2022-12-14T11:49:20.657Z"
   },
   {
    "duration": 3,
    "start_time": "2022-12-14T12:11:15.119Z"
   },
   {
    "duration": 43037,
    "start_time": "2022-12-14T12:11:19.033Z"
   },
   {
    "duration": 43088,
    "start_time": "2022-12-14T12:13:59.536Z"
   },
   {
    "duration": 11,
    "start_time": "2022-12-14T12:15:59.063Z"
   },
   {
    "duration": 5,
    "start_time": "2022-12-14T12:16:06.393Z"
   },
   {
    "duration": 4,
    "start_time": "2022-12-14T12:16:23.502Z"
   },
   {
    "duration": 48,
    "start_time": "2022-12-14T12:19:57.397Z"
   },
   {
    "duration": 15,
    "start_time": "2022-12-14T12:20:03.797Z"
   },
   {
    "duration": 47263,
    "start_time": "2022-12-14T12:26:08.217Z"
   },
   {
    "duration": 4,
    "start_time": "2022-12-14T12:27:13.539Z"
   },
   {
    "duration": 7,
    "start_time": "2022-12-14T12:27:26.401Z"
   },
   {
    "duration": 5,
    "start_time": "2022-12-14T12:28:04.386Z"
   },
   {
    "duration": 4,
    "start_time": "2022-12-14T12:28:50.592Z"
   },
   {
    "duration": 16,
    "start_time": "2022-12-14T12:29:13.451Z"
   },
   {
    "duration": 19,
    "start_time": "2022-12-14T12:29:34.391Z"
   },
   {
    "duration": 51338,
    "start_time": "2022-12-14T12:29:42.095Z"
   },
   {
    "duration": 5,
    "start_time": "2022-12-14T12:30:33.435Z"
   },
   {
    "duration": 5,
    "start_time": "2022-12-14T12:32:15.057Z"
   },
   {
    "duration": 6,
    "start_time": "2022-12-14T12:32:35.788Z"
   },
   {
    "duration": 5,
    "start_time": "2022-12-14T12:33:07.001Z"
   },
   {
    "duration": 4,
    "start_time": "2022-12-14T12:33:17.569Z"
   },
   {
    "duration": 62,
    "start_time": "2022-12-14T12:36:10.017Z"
   },
   {
    "duration": 63966,
    "start_time": "2022-12-14T12:36:15.683Z"
   },
   {
    "duration": 6,
    "start_time": "2022-12-14T12:38:00.313Z"
   },
   {
    "duration": 8,
    "start_time": "2022-12-14T12:38:41.343Z"
   },
   {
    "duration": 3,
    "start_time": "2022-12-14T12:38:48.356Z"
   },
   {
    "duration": 5,
    "start_time": "2022-12-14T12:38:57.185Z"
   },
   {
    "duration": 4,
    "start_time": "2022-12-14T12:39:55.117Z"
   },
   {
    "duration": 5,
    "start_time": "2022-12-14T12:41:45.443Z"
   },
   {
    "duration": 419216,
    "start_time": "2022-12-14T12:41:50.143Z"
   },
   {
    "duration": 5,
    "start_time": "2022-12-14T12:49:00.435Z"
   },
   {
    "duration": 20,
    "start_time": "2022-12-14T12:49:04.611Z"
   },
   {
    "duration": 3,
    "start_time": "2022-12-14T12:51:01.688Z"
   },
   {
    "duration": 45751,
    "start_time": "2022-12-14T12:51:23.393Z"
   },
   {
    "duration": 748,
    "start_time": "2022-12-14T12:52:51.960Z"
   },
   {
    "duration": 184945,
    "start_time": "2022-12-14T12:54:22.205Z"
   },
   {
    "duration": 5,
    "start_time": "2022-12-14T12:57:27.152Z"
   },
   {
    "duration": 11,
    "start_time": "2022-12-14T13:07:05.560Z"
   },
   {
    "duration": 4,
    "start_time": "2022-12-14T13:07:12.900Z"
   },
   {
    "duration": 4,
    "start_time": "2022-12-14T13:07:20.837Z"
   },
   {
    "duration": 3,
    "start_time": "2022-12-14T13:09:25.434Z"
   },
   {
    "duration": 85,
    "start_time": "2022-12-14T13:14:21.645Z"
   },
   {
    "duration": 3,
    "start_time": "2022-12-14T13:16:45.295Z"
   },
   {
    "duration": 76,
    "start_time": "2022-12-14T13:16:49.386Z"
   },
   {
    "duration": 227,
    "start_time": "2022-12-14T13:36:34.004Z"
   },
   {
    "duration": 4,
    "start_time": "2022-12-14T13:48:00.606Z"
   },
   {
    "duration": 69,
    "start_time": "2022-12-14T13:48:03.604Z"
   },
   {
    "duration": 3,
    "start_time": "2022-12-14T13:48:20.755Z"
   },
   {
    "duration": 70,
    "start_time": "2022-12-14T13:48:25.471Z"
   },
   {
    "duration": 4,
    "start_time": "2022-12-14T13:49:03.204Z"
   },
   {
    "duration": 69,
    "start_time": "2022-12-14T13:49:05.458Z"
   },
   {
    "duration": 88,
    "start_time": "2022-12-14T13:52:21.220Z"
   },
   {
    "duration": 3,
    "start_time": "2022-12-14T14:08:22.397Z"
   },
   {
    "duration": 2,
    "start_time": "2022-12-14T14:08:26.141Z"
   },
   {
    "duration": 1159,
    "start_time": "2022-12-14T14:08:28.842Z"
   },
   {
    "duration": 69,
    "start_time": "2022-12-14T14:08:39.861Z"
   },
   {
    "duration": 22,
    "start_time": "2022-12-14T14:09:28.196Z"
   },
   {
    "duration": 76,
    "start_time": "2022-12-14T14:09:37.140Z"
   },
   {
    "duration": 49,
    "start_time": "2022-12-14T14:10:22.474Z"
   },
   {
    "duration": 183,
    "start_time": "2022-12-14T14:11:04.899Z"
   },
   {
    "duration": 52,
    "start_time": "2022-12-14T14:11:11.533Z"
   },
   {
    "duration": 80,
    "start_time": "2022-12-14T14:11:15.545Z"
   },
   {
    "duration": 3,
    "start_time": "2022-12-14T14:11:44.586Z"
   },
   {
    "duration": 52,
    "start_time": "2022-12-14T14:11:47.107Z"
   },
   {
    "duration": 3,
    "start_time": "2022-12-14T14:11:52.316Z"
   },
   {
    "duration": 60,
    "start_time": "2022-12-14T14:11:56.109Z"
   },
   {
    "duration": 63,
    "start_time": "2022-12-14T14:12:05.901Z"
   },
   {
    "duration": 2,
    "start_time": "2022-12-14T14:13:09.394Z"
   },
   {
    "duration": 53,
    "start_time": "2022-12-14T14:13:13.148Z"
   },
   {
    "duration": 76,
    "start_time": "2022-12-14T14:13:34.386Z"
   },
   {
    "duration": 67,
    "start_time": "2022-12-14T14:14:00.567Z"
   },
   {
    "duration": 2,
    "start_time": "2022-12-14T14:14:09.877Z"
   },
   {
    "duration": 3,
    "start_time": "2022-12-14T14:14:25.514Z"
   },
   {
    "duration": 57,
    "start_time": "2022-12-14T14:14:27.673Z"
   },
   {
    "duration": 1461,
    "start_time": "2022-12-14T18:25:58.223Z"
   },
   {
    "duration": 4,
    "start_time": "2022-12-14T18:26:35.324Z"
   },
   {
    "duration": 561,
    "start_time": "2022-12-14T18:26:35.331Z"
   },
   {
    "duration": 1760,
    "start_time": "2022-12-14T18:26:35.895Z"
   },
   {
    "duration": 88,
    "start_time": "2022-12-14T18:26:37.656Z"
   },
   {
    "duration": 806,
    "start_time": "2022-12-14T18:26:37.746Z"
   },
   {
    "duration": 27,
    "start_time": "2022-12-14T18:26:38.557Z"
   },
   {
    "duration": 79,
    "start_time": "2022-12-14T18:26:38.586Z"
   },
   {
    "duration": 221,
    "start_time": "2022-12-14T18:26:38.668Z"
   },
   {
    "duration": 54,
    "start_time": "2022-12-14T18:26:38.891Z"
   },
   {
    "duration": 1233,
    "start_time": "2022-12-14T18:26:38.947Z"
   },
   {
    "duration": 28,
    "start_time": "2022-12-14T18:26:40.183Z"
   },
   {
    "duration": 149,
    "start_time": "2022-12-14T18:26:40.213Z"
   },
   {
    "duration": 41,
    "start_time": "2022-12-14T18:26:40.365Z"
   },
   {
    "duration": 737,
    "start_time": "2022-12-14T18:26:40.409Z"
   },
   {
    "duration": 20,
    "start_time": "2022-12-14T18:26:41.149Z"
   },
   {
    "duration": 32,
    "start_time": "2022-12-14T18:26:41.171Z"
   },
   {
    "duration": 83,
    "start_time": "2022-12-14T18:26:41.206Z"
   },
   {
    "duration": 5,
    "start_time": "2022-12-14T18:26:41.292Z"
   },
   {
    "duration": 29,
    "start_time": "2022-12-14T18:26:41.299Z"
   },
   {
    "duration": 115,
    "start_time": "2022-12-14T18:26:41.330Z"
   },
   {
    "duration": 60,
    "start_time": "2022-12-14T18:26:41.447Z"
   },
   {
    "duration": 59,
    "start_time": "2022-12-14T18:26:41.509Z"
   },
   {
    "duration": 3,
    "start_time": "2022-12-14T18:26:41.570Z"
   },
   {
    "duration": 219,
    "start_time": "2022-12-14T18:26:41.575Z"
   },
   {
    "duration": 852,
    "start_time": "2022-12-14T18:26:41.796Z"
   },
   {
    "duration": 11,
    "start_time": "2022-12-14T18:26:42.650Z"
   },
   {
    "duration": 52,
    "start_time": "2022-12-14T18:26:42.663Z"
   },
   {
    "duration": 27,
    "start_time": "2022-12-14T18:26:42.718Z"
   },
   {
    "duration": 161,
    "start_time": "2022-12-14T18:26:42.747Z"
   },
   {
    "duration": 36,
    "start_time": "2022-12-14T18:26:42.911Z"
   },
   {
    "duration": 4,
    "start_time": "2022-12-14T18:26:42.949Z"
   },
   {
    "duration": 73,
    "start_time": "2022-12-14T18:26:42.955Z"
   },
   {
    "duration": 117,
    "start_time": "2022-12-14T18:26:43.030Z"
   },
   {
    "duration": 3,
    "start_time": "2022-12-14T18:26:43.149Z"
   },
   {
    "duration": 74,
    "start_time": "2022-12-14T18:26:43.154Z"
   },
   {
    "duration": 259,
    "start_time": "2022-12-14T18:26:43.229Z"
   },
   {
    "duration": 155,
    "start_time": "2022-12-14T18:26:43.490Z"
   },
   {
    "duration": 0,
    "start_time": "2022-12-14T18:26:43.649Z"
   },
   {
    "duration": 0,
    "start_time": "2022-12-14T18:26:43.651Z"
   },
   {
    "duration": 0,
    "start_time": "2022-12-14T18:26:43.653Z"
   },
   {
    "duration": 0,
    "start_time": "2022-12-14T18:26:43.654Z"
   },
   {
    "duration": 0,
    "start_time": "2022-12-14T18:26:43.655Z"
   },
   {
    "duration": 0,
    "start_time": "2022-12-14T18:26:43.656Z"
   },
   {
    "duration": 0,
    "start_time": "2022-12-14T18:26:43.657Z"
   },
   {
    "duration": 0,
    "start_time": "2022-12-14T18:26:43.664Z"
   },
   {
    "duration": 0,
    "start_time": "2022-12-14T18:26:43.665Z"
   },
   {
    "duration": 0,
    "start_time": "2022-12-14T18:26:43.677Z"
   },
   {
    "duration": 0,
    "start_time": "2022-12-14T18:26:43.678Z"
   },
   {
    "duration": 0,
    "start_time": "2022-12-14T18:26:43.680Z"
   },
   {
    "duration": 0,
    "start_time": "2022-12-14T18:26:43.682Z"
   },
   {
    "duration": 0,
    "start_time": "2022-12-14T18:26:43.683Z"
   },
   {
    "duration": 0,
    "start_time": "2022-12-14T18:26:43.684Z"
   },
   {
    "duration": 0,
    "start_time": "2022-12-14T18:26:43.685Z"
   },
   {
    "duration": 0,
    "start_time": "2022-12-14T18:26:43.686Z"
   },
   {
    "duration": 0,
    "start_time": "2022-12-14T18:26:43.688Z"
   },
   {
    "duration": 0,
    "start_time": "2022-12-14T18:26:43.689Z"
   },
   {
    "duration": 0,
    "start_time": "2022-12-14T18:26:43.690Z"
   },
   {
    "duration": 0,
    "start_time": "2022-12-14T18:26:43.691Z"
   },
   {
    "duration": 0,
    "start_time": "2022-12-14T18:26:43.692Z"
   },
   {
    "duration": 0,
    "start_time": "2022-12-14T18:26:43.693Z"
   },
   {
    "duration": 0,
    "start_time": "2022-12-14T18:26:43.694Z"
   },
   {
    "duration": 0,
    "start_time": "2022-12-14T18:26:43.695Z"
   },
   {
    "duration": 0,
    "start_time": "2022-12-14T18:26:43.696Z"
   },
   {
    "duration": 0,
    "start_time": "2022-12-14T18:26:43.698Z"
   },
   {
    "duration": 0,
    "start_time": "2022-12-14T18:26:43.699Z"
   },
   {
    "duration": 0,
    "start_time": "2022-12-14T18:26:43.700Z"
   },
   {
    "duration": 0,
    "start_time": "2022-12-14T18:26:43.701Z"
   },
   {
    "duration": 0,
    "start_time": "2022-12-14T18:26:43.702Z"
   },
   {
    "duration": 0,
    "start_time": "2022-12-14T18:26:43.703Z"
   },
   {
    "duration": 0,
    "start_time": "2022-12-14T18:26:43.704Z"
   },
   {
    "duration": 0,
    "start_time": "2022-12-14T18:26:43.706Z"
   },
   {
    "duration": 0,
    "start_time": "2022-12-14T18:26:43.707Z"
   },
   {
    "duration": 0,
    "start_time": "2022-12-14T18:26:43.708Z"
   },
   {
    "duration": 0,
    "start_time": "2022-12-14T18:26:43.710Z"
   },
   {
    "duration": 0,
    "start_time": "2022-12-14T18:26:43.711Z"
   },
   {
    "duration": 0,
    "start_time": "2022-12-14T18:26:43.712Z"
   },
   {
    "duration": 0,
    "start_time": "2022-12-14T18:26:43.714Z"
   },
   {
    "duration": 0,
    "start_time": "2022-12-14T18:26:43.715Z"
   },
   {
    "duration": 0,
    "start_time": "2022-12-14T18:26:43.717Z"
   },
   {
    "duration": 0,
    "start_time": "2022-12-14T18:26:43.718Z"
   },
   {
    "duration": 0,
    "start_time": "2022-12-14T18:26:43.720Z"
   },
   {
    "duration": 0,
    "start_time": "2022-12-14T18:26:43.721Z"
   },
   {
    "duration": 0,
    "start_time": "2022-12-14T18:26:43.723Z"
   },
   {
    "duration": 0,
    "start_time": "2022-12-14T18:26:43.724Z"
   },
   {
    "duration": 0,
    "start_time": "2022-12-14T18:26:43.726Z"
   },
   {
    "duration": 0,
    "start_time": "2022-12-14T18:26:43.727Z"
   },
   {
    "duration": 0,
    "start_time": "2022-12-14T18:26:43.729Z"
   },
   {
    "duration": 0,
    "start_time": "2022-12-14T18:26:43.730Z"
   },
   {
    "duration": 0,
    "start_time": "2022-12-14T18:26:43.731Z"
   },
   {
    "duration": 0,
    "start_time": "2022-12-14T18:26:43.733Z"
   },
   {
    "duration": 0,
    "start_time": "2022-12-14T18:26:43.734Z"
   },
   {
    "duration": 0,
    "start_time": "2022-12-14T18:26:43.735Z"
   },
   {
    "duration": 0,
    "start_time": "2022-12-14T18:26:43.737Z"
   },
   {
    "duration": 0,
    "start_time": "2022-12-14T18:26:43.738Z"
   },
   {
    "duration": 0,
    "start_time": "2022-12-14T18:26:43.740Z"
   },
   {
    "duration": 0,
    "start_time": "2022-12-14T18:26:43.742Z"
   },
   {
    "duration": 0,
    "start_time": "2022-12-14T18:26:43.743Z"
   },
   {
    "duration": 3,
    "start_time": "2022-12-14T19:04:00.259Z"
   },
   {
    "duration": 102,
    "start_time": "2022-12-14T19:04:35.658Z"
   },
   {
    "duration": 2,
    "start_time": "2022-12-14T19:04:53.328Z"
   },
   {
    "duration": 12,
    "start_time": "2022-12-14T19:04:58.127Z"
   },
   {
    "duration": 98,
    "start_time": "2022-12-14T19:05:14.022Z"
   },
   {
    "duration": 12,
    "start_time": "2022-12-14T19:05:21.503Z"
   },
   {
    "duration": 4,
    "start_time": "2022-12-14T19:05:39.065Z"
   },
   {
    "duration": 5,
    "start_time": "2022-12-14T19:05:52.102Z"
   },
   {
    "duration": 4,
    "start_time": "2022-12-14T19:05:55.629Z"
   },
   {
    "duration": 47655,
    "start_time": "2022-12-14T19:06:20.829Z"
   },
   {
    "duration": 113,
    "start_time": "2022-12-14T19:07:35.036Z"
   },
   {
    "duration": 133,
    "start_time": "2022-12-14T19:07:52.826Z"
   },
   {
    "duration": 4,
    "start_time": "2022-12-14T19:07:58.075Z"
   },
   {
    "duration": 100,
    "start_time": "2022-12-14T19:08:45.573Z"
   },
   {
    "duration": 101,
    "start_time": "2022-12-14T19:08:57.802Z"
   },
   {
    "duration": 130,
    "start_time": "2022-12-14T19:09:09.939Z"
   },
   {
    "duration": 74,
    "start_time": "2022-12-14T19:09:17.530Z"
   },
   {
    "duration": 112,
    "start_time": "2022-12-14T19:09:22.172Z"
   },
   {
    "duration": 99,
    "start_time": "2022-12-14T19:09:31.503Z"
   },
   {
    "duration": 85,
    "start_time": "2022-12-14T19:09:37.399Z"
   },
   {
    "duration": 90,
    "start_time": "2022-12-14T19:09:53.419Z"
   },
   {
    "duration": 141,
    "start_time": "2022-12-14T19:10:23.898Z"
   },
   {
    "duration": 124,
    "start_time": "2022-12-14T19:10:36.865Z"
   },
   {
    "duration": 94,
    "start_time": "2022-12-14T19:10:52.117Z"
   },
   {
    "duration": 92,
    "start_time": "2022-12-14T19:10:56.994Z"
   },
   {
    "duration": 115,
    "start_time": "2022-12-14T19:14:08.157Z"
   },
   {
    "duration": 115,
    "start_time": "2022-12-14T19:14:33.234Z"
   },
   {
    "duration": 7,
    "start_time": "2022-12-14T19:15:04.471Z"
   },
   {
    "duration": 88,
    "start_time": "2022-12-14T19:15:32.378Z"
   },
   {
    "duration": 87,
    "start_time": "2022-12-14T19:17:00.569Z"
   },
   {
    "duration": 13,
    "start_time": "2022-12-14T19:17:34.509Z"
   },
   {
    "duration": 19,
    "start_time": "2022-12-14T19:17:45.506Z"
   },
   {
    "duration": 22,
    "start_time": "2022-12-14T19:18:06.361Z"
   },
   {
    "duration": 5,
    "start_time": "2022-12-14T19:48:03.948Z"
   },
   {
    "duration": 5,
    "start_time": "2022-12-14T19:48:09.121Z"
   },
   {
    "duration": 46269,
    "start_time": "2022-12-14T19:48:16.964Z"
   },
   {
    "duration": 103,
    "start_time": "2022-12-14T19:56:39.678Z"
   },
   {
    "duration": 47491,
    "start_time": "2022-12-14T19:56:45.436Z"
   },
   {
    "duration": 49025,
    "start_time": "2022-12-14T19:58:10.872Z"
   },
   {
    "duration": 20,
    "start_time": "2022-12-14T19:59:12.473Z"
   },
   {
    "duration": 10,
    "start_time": "2022-12-14T19:59:33.252Z"
   },
   {
    "duration": 13,
    "start_time": "2022-12-14T19:59:37.877Z"
   },
   {
    "duration": 35,
    "start_time": "2022-12-14T20:00:09.194Z"
   },
   {
    "duration": 46477,
    "start_time": "2022-12-14T20:00:50.716Z"
   },
   {
    "duration": 25,
    "start_time": "2022-12-14T20:01:40.274Z"
   },
   {
    "duration": 314,
    "start_time": "2022-12-14T20:05:32.021Z"
   },
   {
    "duration": 271,
    "start_time": "2022-12-14T20:06:25.998Z"
   },
   {
    "duration": 654,
    "start_time": "2022-12-14T20:07:29.003Z"
   },
   {
    "duration": 418,
    "start_time": "2022-12-14T20:07:56.766Z"
   },
   {
    "duration": 10,
    "start_time": "2022-12-14T20:08:22.632Z"
   },
   {
    "duration": 5,
    "start_time": "2022-12-14T20:08:25.601Z"
   },
   {
    "duration": 22,
    "start_time": "2022-12-14T20:18:53.217Z"
   },
   {
    "duration": 247022,
    "start_time": "2022-12-14T20:19:06.365Z"
   },
   {
    "duration": 103,
    "start_time": "2022-12-14T20:28:44.524Z"
   },
   {
    "duration": 30,
    "start_time": "2022-12-14T20:31:34.516Z"
   },
   {
    "duration": 6,
    "start_time": "2022-12-14T20:32:06.932Z"
   },
   {
    "duration": 11,
    "start_time": "2022-12-14T20:55:43.704Z"
   },
   {
    "duration": 35,
    "start_time": "2022-12-14T20:57:59.896Z"
   },
   {
    "duration": 26,
    "start_time": "2022-12-14T20:59:42.900Z"
   },
   {
    "duration": 3,
    "start_time": "2022-12-14T21:00:03.961Z"
   },
   {
    "duration": 24,
    "start_time": "2022-12-14T21:00:19.224Z"
   },
   {
    "duration": 91,
    "start_time": "2022-12-14T21:00:39.237Z"
   },
   {
    "duration": 42496,
    "start_time": "2022-12-14T21:00:57.304Z"
   },
   {
    "duration": 16,
    "start_time": "2022-12-14T22:06:57.967Z"
   },
   {
    "duration": 148,
    "start_time": "2022-12-14T22:07:36.773Z"
   },
   {
    "duration": 45,
    "start_time": "2022-12-15T06:34:11.861Z"
   },
   {
    "duration": 374,
    "start_time": "2022-12-15T06:34:28.676Z"
   },
   {
    "duration": 372,
    "start_time": "2022-12-15T06:34:29.051Z"
   },
   {
    "duration": 2815,
    "start_time": "2022-12-15T06:34:29.425Z"
   },
   {
    "duration": 50,
    "start_time": "2022-12-15T06:34:32.242Z"
   },
   {
    "duration": 479,
    "start_time": "2022-12-15T06:34:32.294Z"
   },
   {
    "duration": 16,
    "start_time": "2022-12-15T06:34:32.775Z"
   },
   {
    "duration": 21,
    "start_time": "2022-12-15T06:34:32.793Z"
   },
   {
    "duration": 133,
    "start_time": "2022-12-15T06:34:32.816Z"
   },
   {
    "duration": 31,
    "start_time": "2022-12-15T06:34:32.951Z"
   },
   {
    "duration": 730,
    "start_time": "2022-12-15T06:34:32.985Z"
   },
   {
    "duration": 16,
    "start_time": "2022-12-15T06:34:33.717Z"
   },
   {
    "duration": 93,
    "start_time": "2022-12-15T06:34:33.735Z"
   },
   {
    "duration": 22,
    "start_time": "2022-12-15T06:34:33.830Z"
   },
   {
    "duration": 445,
    "start_time": "2022-12-15T06:34:33.854Z"
   },
   {
    "duration": 17,
    "start_time": "2022-12-15T06:34:34.301Z"
   },
   {
    "duration": 20,
    "start_time": "2022-12-15T06:34:34.320Z"
   },
   {
    "duration": 47,
    "start_time": "2022-12-15T06:34:34.341Z"
   },
   {
    "duration": 23,
    "start_time": "2022-12-15T06:34:34.390Z"
   },
   {
    "duration": 5,
    "start_time": "2022-12-15T06:34:34.415Z"
   },
   {
    "duration": 47,
    "start_time": "2022-12-15T06:34:34.422Z"
   },
   {
    "duration": 45,
    "start_time": "2022-12-15T06:34:34.470Z"
   },
   {
    "duration": 38,
    "start_time": "2022-12-15T06:34:34.517Z"
   },
   {
    "duration": 663,
    "start_time": "2022-12-15T06:34:34.557Z"
   },
   {
    "duration": 122,
    "start_time": "2022-12-15T06:34:35.222Z"
   },
   {
    "duration": 510,
    "start_time": "2022-12-15T06:34:35.345Z"
   },
   {
    "duration": 10,
    "start_time": "2022-12-15T06:34:35.857Z"
   },
   {
    "duration": 9,
    "start_time": "2022-12-15T06:34:35.869Z"
   },
   {
    "duration": 3,
    "start_time": "2022-12-15T06:34:35.882Z"
   },
   {
    "duration": 115,
    "start_time": "2022-12-15T06:34:35.886Z"
   },
   {
    "duration": 32,
    "start_time": "2022-12-15T06:34:36.002Z"
   },
   {
    "duration": 2,
    "start_time": "2022-12-15T06:34:36.036Z"
   },
   {
    "duration": 18,
    "start_time": "2022-12-15T06:34:36.040Z"
   },
   {
    "duration": 70,
    "start_time": "2022-12-15T06:34:36.060Z"
   },
   {
    "duration": 21,
    "start_time": "2022-12-15T06:34:36.132Z"
   },
   {
    "duration": 4,
    "start_time": "2022-12-15T06:34:36.155Z"
   },
   {
    "duration": 140,
    "start_time": "2022-12-15T06:34:36.161Z"
   },
   {
    "duration": 73,
    "start_time": "2022-12-15T06:34:36.303Z"
   },
   {
    "duration": 0,
    "start_time": "2022-12-15T06:34:36.378Z"
   },
   {
    "duration": 0,
    "start_time": "2022-12-15T06:34:36.380Z"
   },
   {
    "duration": 0,
    "start_time": "2022-12-15T06:34:36.381Z"
   },
   {
    "duration": 0,
    "start_time": "2022-12-15T06:34:36.382Z"
   },
   {
    "duration": 0,
    "start_time": "2022-12-15T06:34:36.383Z"
   },
   {
    "duration": 0,
    "start_time": "2022-12-15T06:34:36.384Z"
   },
   {
    "duration": 0,
    "start_time": "2022-12-15T06:34:36.385Z"
   },
   {
    "duration": 0,
    "start_time": "2022-12-15T06:34:36.386Z"
   },
   {
    "duration": 0,
    "start_time": "2022-12-15T06:34:36.387Z"
   },
   {
    "duration": 0,
    "start_time": "2022-12-15T06:34:36.388Z"
   },
   {
    "duration": 1,
    "start_time": "2022-12-15T06:34:36.389Z"
   },
   {
    "duration": 0,
    "start_time": "2022-12-15T06:34:36.390Z"
   },
   {
    "duration": 0,
    "start_time": "2022-12-15T06:34:36.413Z"
   },
   {
    "duration": 0,
    "start_time": "2022-12-15T06:34:36.414Z"
   },
   {
    "duration": 0,
    "start_time": "2022-12-15T06:34:36.415Z"
   },
   {
    "duration": 0,
    "start_time": "2022-12-15T06:34:36.416Z"
   },
   {
    "duration": 0,
    "start_time": "2022-12-15T06:34:36.417Z"
   },
   {
    "duration": 0,
    "start_time": "2022-12-15T06:34:36.418Z"
   },
   {
    "duration": 0,
    "start_time": "2022-12-15T06:34:36.419Z"
   },
   {
    "duration": 0,
    "start_time": "2022-12-15T06:34:36.421Z"
   },
   {
    "duration": 0,
    "start_time": "2022-12-15T06:34:36.422Z"
   },
   {
    "duration": 0,
    "start_time": "2022-12-15T06:34:36.423Z"
   },
   {
    "duration": 0,
    "start_time": "2022-12-15T06:34:36.424Z"
   },
   {
    "duration": 0,
    "start_time": "2022-12-15T06:34:36.425Z"
   },
   {
    "duration": 0,
    "start_time": "2022-12-15T06:34:36.426Z"
   },
   {
    "duration": 0,
    "start_time": "2022-12-15T06:34:36.427Z"
   },
   {
    "duration": 0,
    "start_time": "2022-12-15T06:34:36.428Z"
   },
   {
    "duration": 0,
    "start_time": "2022-12-15T06:34:36.429Z"
   },
   {
    "duration": 0,
    "start_time": "2022-12-15T06:34:36.430Z"
   },
   {
    "duration": 0,
    "start_time": "2022-12-15T06:34:36.431Z"
   },
   {
    "duration": 0,
    "start_time": "2022-12-15T06:34:36.432Z"
   },
   {
    "duration": 0,
    "start_time": "2022-12-15T06:34:36.433Z"
   },
   {
    "duration": 0,
    "start_time": "2022-12-15T06:34:36.434Z"
   },
   {
    "duration": 0,
    "start_time": "2022-12-15T06:34:36.435Z"
   },
   {
    "duration": 0,
    "start_time": "2022-12-15T06:34:36.436Z"
   },
   {
    "duration": 0,
    "start_time": "2022-12-15T06:34:36.437Z"
   },
   {
    "duration": 0,
    "start_time": "2022-12-15T06:34:36.439Z"
   },
   {
    "duration": 0,
    "start_time": "2022-12-15T06:34:36.439Z"
   },
   {
    "duration": 0,
    "start_time": "2022-12-15T06:34:36.441Z"
   },
   {
    "duration": 0,
    "start_time": "2022-12-15T06:34:36.442Z"
   },
   {
    "duration": 0,
    "start_time": "2022-12-15T06:34:36.443Z"
   },
   {
    "duration": 0,
    "start_time": "2022-12-15T06:34:36.444Z"
   },
   {
    "duration": 0,
    "start_time": "2022-12-15T06:34:36.445Z"
   },
   {
    "duration": 0,
    "start_time": "2022-12-15T06:34:36.446Z"
   },
   {
    "duration": 0,
    "start_time": "2022-12-15T06:34:36.447Z"
   },
   {
    "duration": 0,
    "start_time": "2022-12-15T06:34:36.449Z"
   },
   {
    "duration": 1,
    "start_time": "2022-12-15T06:34:36.449Z"
   },
   {
    "duration": 0,
    "start_time": "2022-12-15T06:34:36.450Z"
   },
   {
    "duration": 0,
    "start_time": "2022-12-15T06:34:36.513Z"
   },
   {
    "duration": 0,
    "start_time": "2022-12-15T06:34:36.514Z"
   },
   {
    "duration": 0,
    "start_time": "2022-12-15T06:34:36.515Z"
   },
   {
    "duration": 0,
    "start_time": "2022-12-15T06:34:36.516Z"
   },
   {
    "duration": 0,
    "start_time": "2022-12-15T06:34:36.517Z"
   },
   {
    "duration": 0,
    "start_time": "2022-12-15T06:34:36.518Z"
   },
   {
    "duration": 0,
    "start_time": "2022-12-15T06:34:36.519Z"
   },
   {
    "duration": 0,
    "start_time": "2022-12-15T06:34:36.521Z"
   },
   {
    "duration": 0,
    "start_time": "2022-12-15T06:34:36.521Z"
   },
   {
    "duration": 0,
    "start_time": "2022-12-15T06:34:36.523Z"
   },
   {
    "duration": 0,
    "start_time": "2022-12-15T06:34:36.524Z"
   },
   {
    "duration": 0,
    "start_time": "2022-12-15T06:34:36.525Z"
   },
   {
    "duration": 0,
    "start_time": "2022-12-15T06:34:36.526Z"
   },
   {
    "duration": 0,
    "start_time": "2022-12-15T06:34:36.527Z"
   },
   {
    "duration": 0,
    "start_time": "2022-12-15T06:34:36.528Z"
   },
   {
    "duration": 0,
    "start_time": "2022-12-15T06:34:36.529Z"
   },
   {
    "duration": 1,
    "start_time": "2022-12-15T06:34:36.529Z"
   },
   {
    "duration": 0,
    "start_time": "2022-12-15T06:34:36.530Z"
   },
   {
    "duration": 0,
    "start_time": "2022-12-15T06:34:36.532Z"
   },
   {
    "duration": 0,
    "start_time": "2022-12-15T06:34:36.533Z"
   },
   {
    "duration": 1,
    "start_time": "2022-12-15T06:34:36.533Z"
   },
   {
    "duration": 0,
    "start_time": "2022-12-15T06:34:36.534Z"
   },
   {
    "duration": 0,
    "start_time": "2022-12-15T06:34:36.535Z"
   },
   {
    "duration": 0,
    "start_time": "2022-12-15T06:34:36.536Z"
   },
   {
    "duration": 0,
    "start_time": "2022-12-15T06:34:36.537Z"
   },
   {
    "duration": 0,
    "start_time": "2022-12-15T06:34:36.538Z"
   },
   {
    "duration": 0,
    "start_time": "2022-12-15T06:34:36.539Z"
   },
   {
    "duration": 0,
    "start_time": "2022-12-15T06:34:36.540Z"
   },
   {
    "duration": 0,
    "start_time": "2022-12-15T06:34:36.541Z"
   },
   {
    "duration": 0,
    "start_time": "2022-12-15T06:34:36.542Z"
   },
   {
    "duration": 0,
    "start_time": "2022-12-15T06:34:36.543Z"
   },
   {
    "duration": 0,
    "start_time": "2022-12-15T06:34:36.544Z"
   },
   {
    "duration": 22,
    "start_time": "2022-12-15T06:39:45.494Z"
   },
   {
    "duration": 16,
    "start_time": "2022-12-15T06:39:50.397Z"
   },
   {
    "duration": 2,
    "start_time": "2022-12-15T06:40:04.637Z"
   },
   {
    "duration": 3,
    "start_time": "2022-12-15T06:40:08.045Z"
   },
   {
    "duration": 21,
    "start_time": "2022-12-15T06:40:11.083Z"
   },
   {
    "duration": 3,
    "start_time": "2022-12-15T06:40:24.255Z"
   },
   {
    "duration": 75,
    "start_time": "2022-12-15T06:40:38.185Z"
   },
   {
    "duration": 70,
    "start_time": "2022-12-15T06:40:43.091Z"
   },
   {
    "duration": 51,
    "start_time": "2022-12-15T06:40:47.366Z"
   },
   {
    "duration": 4,
    "start_time": "2022-12-15T06:41:10.357Z"
   },
   {
    "duration": 2,
    "start_time": "2022-12-15T06:41:17.608Z"
   },
   {
    "duration": 1263,
    "start_time": "2022-12-15T06:41:22.855Z"
   },
   {
    "duration": 4,
    "start_time": "2022-12-15T06:41:34.823Z"
   },
   {
    "duration": 173,
    "start_time": "2022-12-15T06:41:38.142Z"
   },
   {
    "duration": 157,
    "start_time": "2022-12-15T06:41:44.775Z"
   },
   {
    "duration": 6745,
    "start_time": "2022-12-15T06:41:54.170Z"
   },
   {
    "duration": 25,
    "start_time": "2022-12-15T06:42:54.454Z"
   },
   {
    "duration": 15,
    "start_time": "2022-12-15T06:43:01.653Z"
   },
   {
    "duration": 2,
    "start_time": "2022-12-15T06:43:22.078Z"
   },
   {
    "duration": 3,
    "start_time": "2022-12-15T06:43:24.368Z"
   },
   {
    "duration": 4,
    "start_time": "2022-12-15T06:44:20.621Z"
   },
   {
    "duration": 2436,
    "start_time": "2022-12-15T06:44:29.289Z"
   },
   {
    "duration": 9,
    "start_time": "2022-12-15T06:44:48.079Z"
   },
   {
    "duration": 146,
    "start_time": "2022-12-15T06:45:09.188Z"
   },
   {
    "duration": 964,
    "start_time": "2022-12-15T06:46:36.351Z"
   },
   {
    "duration": 2710,
    "start_time": "2022-12-15T06:47:17.107Z"
   },
   {
    "duration": 3,
    "start_time": "2022-12-15T06:54:41.425Z"
   },
   {
    "duration": 99,
    "start_time": "2022-12-15T06:55:29.565Z"
   },
   {
    "duration": 1155,
    "start_time": "2022-12-15T06:56:49.558Z"
   },
   {
    "duration": 72,
    "start_time": "2022-12-15T06:57:26.600Z"
   },
   {
    "duration": 3,
    "start_time": "2022-12-15T06:57:31.596Z"
   },
   {
    "duration": 741,
    "start_time": "2022-12-15T06:57:35.179Z"
   },
   {
    "duration": 3,
    "start_time": "2022-12-15T06:57:44.878Z"
   },
   {
    "duration": 80,
    "start_time": "2022-12-15T06:57:47.877Z"
   },
   {
    "duration": 79,
    "start_time": "2022-12-15T06:58:47.644Z"
   },
   {
    "duration": 81,
    "start_time": "2022-12-15T06:59:21.936Z"
   },
   {
    "duration": 4,
    "start_time": "2022-12-15T06:59:38.321Z"
   },
   {
    "duration": 3,
    "start_time": "2022-12-15T07:09:33.224Z"
   },
   {
    "duration": 4,
    "start_time": "2022-12-15T07:40:00.593Z"
   },
   {
    "duration": 81,
    "start_time": "2022-12-15T07:40:18.631Z"
   },
   {
    "duration": 63,
    "start_time": "2022-12-15T07:41:20.067Z"
   },
   {
    "duration": 828,
    "start_time": "2022-12-15T07:47:32.425Z"
   },
   {
    "duration": 108,
    "start_time": "2022-12-15T07:47:39.328Z"
   },
   {
    "duration": 88,
    "start_time": "2022-12-15T07:47:42.666Z"
   },
   {
    "duration": 425,
    "start_time": "2022-12-15T07:49:10.683Z"
   },
   {
    "duration": 436,
    "start_time": "2022-12-15T07:49:27.823Z"
   },
   {
    "duration": 118,
    "start_time": "2022-12-15T07:50:02.327Z"
   },
   {
    "duration": 2,
    "start_time": "2022-12-15T08:04:28.227Z"
   },
   {
    "duration": 443,
    "start_time": "2022-12-15T08:20:22.728Z"
   },
   {
    "duration": 36,
    "start_time": "2022-12-15T08:22:48.874Z"
   },
   {
    "duration": 106,
    "start_time": "2022-12-15T08:24:19.587Z"
   },
   {
    "duration": 19,
    "start_time": "2022-12-15T08:25:07.604Z"
   },
   {
    "duration": 28,
    "start_time": "2022-12-15T08:26:25.297Z"
   },
   {
    "duration": 18,
    "start_time": "2022-12-15T08:31:24.272Z"
   },
   {
    "duration": 93,
    "start_time": "2022-12-15T08:33:07.172Z"
   },
   {
    "duration": 2,
    "start_time": "2022-12-15T08:33:24.001Z"
   },
   {
    "duration": 7,
    "start_time": "2022-12-15T08:33:24.005Z"
   },
   {
    "duration": 815,
    "start_time": "2022-12-15T08:33:24.013Z"
   },
   {
    "duration": 4,
    "start_time": "2022-12-15T08:33:24.829Z"
   },
   {
    "duration": 50,
    "start_time": "2022-12-15T08:33:24.836Z"
   },
   {
    "duration": 128,
    "start_time": "2022-12-15T08:33:24.888Z"
   },
   {
    "duration": 96,
    "start_time": "2022-12-15T08:33:25.018Z"
   },
   {
    "duration": 426,
    "start_time": "2022-12-15T08:33:25.116Z"
   },
   {
    "duration": 415,
    "start_time": "2022-12-15T08:33:25.544Z"
   },
   {
    "duration": 102,
    "start_time": "2022-12-15T08:33:25.961Z"
   },
   {
    "duration": 18,
    "start_time": "2022-12-15T08:33:26.065Z"
   },
   {
    "duration": 36,
    "start_time": "2022-12-15T08:33:26.085Z"
   },
   {
    "duration": 114,
    "start_time": "2022-12-15T08:33:26.122Z"
   },
   {
    "duration": 17,
    "start_time": "2022-12-15T08:33:26.239Z"
   },
   {
    "duration": 35,
    "start_time": "2022-12-15T08:33:26.257Z"
   },
   {
    "duration": 110,
    "start_time": "2022-12-15T08:33:26.294Z"
   },
   {
    "duration": 34,
    "start_time": "2022-12-15T08:33:26.406Z"
   },
   {
    "duration": 737,
    "start_time": "2022-12-15T08:33:26.442Z"
   },
   {
    "duration": 16,
    "start_time": "2022-12-15T08:33:27.181Z"
   },
   {
    "duration": 38,
    "start_time": "2022-12-15T08:33:27.198Z"
   },
   {
    "duration": 89,
    "start_time": "2022-12-15T08:33:27.238Z"
   },
   {
    "duration": 26,
    "start_time": "2022-12-15T08:33:27.328Z"
   },
   {
    "duration": 430,
    "start_time": "2022-12-15T08:33:27.355Z"
   },
   {
    "duration": 16,
    "start_time": "2022-12-15T08:33:27.786Z"
   },
   {
    "duration": 51,
    "start_time": "2022-12-15T08:33:27.803Z"
   },
   {
    "duration": 46,
    "start_time": "2022-12-15T08:33:27.857Z"
   },
   {
    "duration": 113,
    "start_time": "2022-12-15T08:33:27.905Z"
   },
   {
    "duration": 14,
    "start_time": "2022-12-15T08:33:28.020Z"
   },
   {
    "duration": 0,
    "start_time": "2022-12-15T08:33:28.038Z"
   },
   {
    "duration": 0,
    "start_time": "2022-12-15T08:33:28.039Z"
   },
   {
    "duration": 0,
    "start_time": "2022-12-15T08:33:28.040Z"
   },
   {
    "duration": 0,
    "start_time": "2022-12-15T08:33:28.041Z"
   },
   {
    "duration": 0,
    "start_time": "2022-12-15T08:33:28.042Z"
   },
   {
    "duration": 0,
    "start_time": "2022-12-15T08:33:28.043Z"
   },
   {
    "duration": 0,
    "start_time": "2022-12-15T08:33:28.044Z"
   },
   {
    "duration": 0,
    "start_time": "2022-12-15T08:33:28.045Z"
   },
   {
    "duration": 0,
    "start_time": "2022-12-15T08:33:28.045Z"
   },
   {
    "duration": 0,
    "start_time": "2022-12-15T08:33:28.046Z"
   },
   {
    "duration": 0,
    "start_time": "2022-12-15T08:33:28.047Z"
   },
   {
    "duration": 0,
    "start_time": "2022-12-15T08:33:28.048Z"
   },
   {
    "duration": 0,
    "start_time": "2022-12-15T08:33:28.049Z"
   },
   {
    "duration": 0,
    "start_time": "2022-12-15T08:33:28.050Z"
   },
   {
    "duration": 0,
    "start_time": "2022-12-15T08:33:28.051Z"
   },
   {
    "duration": 0,
    "start_time": "2022-12-15T08:33:28.052Z"
   },
   {
    "duration": 0,
    "start_time": "2022-12-15T08:33:28.053Z"
   },
   {
    "duration": 0,
    "start_time": "2022-12-15T08:33:28.054Z"
   },
   {
    "duration": 0,
    "start_time": "2022-12-15T08:33:28.055Z"
   },
   {
    "duration": 0,
    "start_time": "2022-12-15T08:33:28.056Z"
   },
   {
    "duration": 0,
    "start_time": "2022-12-15T08:33:28.057Z"
   },
   {
    "duration": 0,
    "start_time": "2022-12-15T08:33:28.058Z"
   },
   {
    "duration": 0,
    "start_time": "2022-12-15T08:33:28.059Z"
   },
   {
    "duration": 0,
    "start_time": "2022-12-15T08:33:28.060Z"
   },
   {
    "duration": 0,
    "start_time": "2022-12-15T08:33:28.061Z"
   },
   {
    "duration": 0,
    "start_time": "2022-12-15T08:33:28.062Z"
   },
   {
    "duration": 0,
    "start_time": "2022-12-15T08:33:28.062Z"
   },
   {
    "duration": 0,
    "start_time": "2022-12-15T08:33:28.063Z"
   },
   {
    "duration": 0,
    "start_time": "2022-12-15T08:33:28.065Z"
   },
   {
    "duration": 0,
    "start_time": "2022-12-15T08:33:28.065Z"
   },
   {
    "duration": 0,
    "start_time": "2022-12-15T08:33:28.066Z"
   },
   {
    "duration": 0,
    "start_time": "2022-12-15T08:33:28.067Z"
   },
   {
    "duration": 0,
    "start_time": "2022-12-15T08:33:28.068Z"
   },
   {
    "duration": 0,
    "start_time": "2022-12-15T08:33:28.069Z"
   },
   {
    "duration": 0,
    "start_time": "2022-12-15T08:33:28.113Z"
   },
   {
    "duration": 0,
    "start_time": "2022-12-15T08:33:28.114Z"
   },
   {
    "duration": 0,
    "start_time": "2022-12-15T08:33:28.115Z"
   },
   {
    "duration": 0,
    "start_time": "2022-12-15T08:33:28.116Z"
   },
   {
    "duration": 0,
    "start_time": "2022-12-15T08:33:28.118Z"
   },
   {
    "duration": 0,
    "start_time": "2022-12-15T08:33:28.118Z"
   },
   {
    "duration": 0,
    "start_time": "2022-12-15T08:33:28.120Z"
   },
   {
    "duration": 0,
    "start_time": "2022-12-15T08:33:28.121Z"
   },
   {
    "duration": 0,
    "start_time": "2022-12-15T08:33:28.122Z"
   },
   {
    "duration": 0,
    "start_time": "2022-12-15T08:33:28.123Z"
   },
   {
    "duration": 0,
    "start_time": "2022-12-15T08:33:28.124Z"
   },
   {
    "duration": 0,
    "start_time": "2022-12-15T08:33:28.125Z"
   },
   {
    "duration": 0,
    "start_time": "2022-12-15T08:33:28.125Z"
   },
   {
    "duration": 0,
    "start_time": "2022-12-15T08:33:28.127Z"
   },
   {
    "duration": 0,
    "start_time": "2022-12-15T08:33:28.128Z"
   },
   {
    "duration": 0,
    "start_time": "2022-12-15T08:33:28.129Z"
   },
   {
    "duration": 0,
    "start_time": "2022-12-15T08:33:28.130Z"
   },
   {
    "duration": 0,
    "start_time": "2022-12-15T08:33:28.131Z"
   },
   {
    "duration": 0,
    "start_time": "2022-12-15T08:33:28.132Z"
   },
   {
    "duration": 0,
    "start_time": "2022-12-15T08:33:28.133Z"
   },
   {
    "duration": 0,
    "start_time": "2022-12-15T08:33:28.135Z"
   },
   {
    "duration": 0,
    "start_time": "2022-12-15T08:33:28.135Z"
   },
   {
    "duration": 0,
    "start_time": "2022-12-15T08:33:28.136Z"
   },
   {
    "duration": 0,
    "start_time": "2022-12-15T08:33:28.138Z"
   },
   {
    "duration": 0,
    "start_time": "2022-12-15T08:33:28.139Z"
   },
   {
    "duration": 0,
    "start_time": "2022-12-15T08:33:28.139Z"
   },
   {
    "duration": 0,
    "start_time": "2022-12-15T08:33:28.140Z"
   },
   {
    "duration": 0,
    "start_time": "2022-12-15T08:33:28.142Z"
   },
   {
    "duration": 0,
    "start_time": "2022-12-15T08:33:28.143Z"
   },
   {
    "duration": 0,
    "start_time": "2022-12-15T08:33:28.144Z"
   },
   {
    "duration": 0,
    "start_time": "2022-12-15T08:33:28.145Z"
   },
   {
    "duration": 0,
    "start_time": "2022-12-15T08:33:28.146Z"
   },
   {
    "duration": 0,
    "start_time": "2022-12-15T08:33:28.147Z"
   },
   {
    "duration": 0,
    "start_time": "2022-12-15T08:33:28.148Z"
   },
   {
    "duration": 0,
    "start_time": "2022-12-15T08:33:28.149Z"
   },
   {
    "duration": 0,
    "start_time": "2022-12-15T08:33:28.212Z"
   },
   {
    "duration": 1,
    "start_time": "2022-12-15T08:33:28.213Z"
   },
   {
    "duration": 0,
    "start_time": "2022-12-15T08:33:28.215Z"
   },
   {
    "duration": 0,
    "start_time": "2022-12-15T08:33:28.216Z"
   },
   {
    "duration": 0,
    "start_time": "2022-12-15T08:33:28.217Z"
   },
   {
    "duration": 0,
    "start_time": "2022-12-15T08:33:28.218Z"
   },
   {
    "duration": 0,
    "start_time": "2022-12-15T08:33:28.219Z"
   },
   {
    "duration": 0,
    "start_time": "2022-12-15T08:33:28.220Z"
   },
   {
    "duration": 0,
    "start_time": "2022-12-15T08:33:28.220Z"
   },
   {
    "duration": 0,
    "start_time": "2022-12-15T08:33:28.221Z"
   },
   {
    "duration": 1,
    "start_time": "2022-12-15T08:33:28.222Z"
   },
   {
    "duration": 0,
    "start_time": "2022-12-15T08:33:28.223Z"
   },
   {
    "duration": 0,
    "start_time": "2022-12-15T08:33:28.224Z"
   },
   {
    "duration": 0,
    "start_time": "2022-12-15T08:33:28.225Z"
   },
   {
    "duration": 0,
    "start_time": "2022-12-15T08:33:28.226Z"
   },
   {
    "duration": 0,
    "start_time": "2022-12-15T08:33:28.227Z"
   },
   {
    "duration": 0,
    "start_time": "2022-12-15T08:33:28.228Z"
   },
   {
    "duration": 0,
    "start_time": "2022-12-15T08:33:28.229Z"
   },
   {
    "duration": 0,
    "start_time": "2022-12-15T08:33:28.229Z"
   },
   {
    "duration": 0,
    "start_time": "2022-12-15T08:33:28.230Z"
   },
   {
    "duration": 0,
    "start_time": "2022-12-15T08:33:28.232Z"
   },
   {
    "duration": 1,
    "start_time": "2022-12-15T08:33:28.232Z"
   },
   {
    "duration": 0,
    "start_time": "2022-12-15T08:33:28.233Z"
   },
   {
    "duration": 0,
    "start_time": "2022-12-15T08:33:28.234Z"
   },
   {
    "duration": 0,
    "start_time": "2022-12-15T08:33:28.235Z"
   },
   {
    "duration": 0,
    "start_time": "2022-12-15T08:33:28.236Z"
   },
   {
    "duration": 0,
    "start_time": "2022-12-15T08:33:28.237Z"
   },
   {
    "duration": 0,
    "start_time": "2022-12-15T08:33:28.238Z"
   },
   {
    "duration": 0,
    "start_time": "2022-12-15T08:33:28.239Z"
   },
   {
    "duration": 0,
    "start_time": "2022-12-15T08:33:28.241Z"
   },
   {
    "duration": 0,
    "start_time": "2022-12-15T08:33:28.242Z"
   },
   {
    "duration": 0,
    "start_time": "2022-12-15T08:33:28.243Z"
   },
   {
    "duration": 23,
    "start_time": "2022-12-15T08:34:36.082Z"
   },
   {
    "duration": 411,
    "start_time": "2022-12-15T08:34:47.144Z"
   },
   {
    "duration": 7,
    "start_time": "2022-12-15T08:35:59.325Z"
   },
   {
    "duration": 63,
    "start_time": "2022-12-15T08:36:08.823Z"
   },
   {
    "duration": 5,
    "start_time": "2022-12-15T08:36:31.638Z"
   },
   {
    "duration": 4,
    "start_time": "2022-12-15T08:36:50.882Z"
   },
   {
    "duration": 4,
    "start_time": "2022-12-15T08:36:52.518Z"
   },
   {
    "duration": 401,
    "start_time": "2022-12-15T08:37:18.104Z"
   },
   {
    "duration": 281,
    "start_time": "2022-12-15T08:38:12.501Z"
   },
   {
    "duration": 23,
    "start_time": "2022-12-15T08:38:16.558Z"
   },
   {
    "duration": 58,
    "start_time": "2022-12-15T08:38:21.240Z"
   },
   {
    "duration": 5,
    "start_time": "2022-12-15T08:38:40.486Z"
   },
   {
    "duration": 199,
    "start_time": "2022-12-15T08:38:53.249Z"
   },
   {
    "duration": 12,
    "start_time": "2022-12-15T08:39:12.806Z"
   },
   {
    "duration": 5,
    "start_time": "2022-12-15T08:39:27.999Z"
   },
   {
    "duration": 23,
    "start_time": "2022-12-15T08:40:01.105Z"
   },
   {
    "duration": 3,
    "start_time": "2022-12-15T08:48:22.653Z"
   },
   {
    "duration": 31,
    "start_time": "2022-12-15T08:48:32.756Z"
   },
   {
    "duration": 27,
    "start_time": "2022-12-15T08:48:36.508Z"
   },
   {
    "duration": 120,
    "start_time": "2022-12-15T08:48:39.031Z"
   },
   {
    "duration": 493,
    "start_time": "2022-12-15T08:48:41.138Z"
   },
   {
    "duration": 15,
    "start_time": "2022-12-15T08:48:43.331Z"
   },
   {
    "duration": 11,
    "start_time": "2022-12-15T08:48:46.100Z"
   },
   {
    "duration": 3,
    "start_time": "2022-12-15T08:49:19.499Z"
   },
   {
    "duration": 107,
    "start_time": "2022-12-15T08:49:22.099Z"
   },
   {
    "duration": 41,
    "start_time": "2022-12-15T08:49:34.799Z"
   },
   {
    "duration": 3,
    "start_time": "2022-12-15T08:50:07.893Z"
   },
   {
    "duration": 14,
    "start_time": "2022-12-15T08:50:21.753Z"
   },
   {
    "duration": 3,
    "start_time": "2022-12-15T08:51:14.568Z"
   },
   {
    "duration": 4,
    "start_time": "2022-12-15T08:51:52.501Z"
   },
   {
    "duration": 1224,
    "start_time": "2022-12-15T08:51:58.585Z"
   },
   {
    "duration": 3,
    "start_time": "2022-12-15T08:52:43.127Z"
   },
   {
    "duration": 5,
    "start_time": "2022-12-15T08:55:19.286Z"
   },
   {
    "duration": 4,
    "start_time": "2022-12-15T08:55:26.232Z"
   },
   {
    "duration": 3,
    "start_time": "2022-12-15T08:57:00.224Z"
   },
   {
    "duration": 3,
    "start_time": "2022-12-15T08:57:17.459Z"
   },
   {
    "duration": 3,
    "start_time": "2022-12-15T08:57:52.177Z"
   },
   {
    "duration": 2,
    "start_time": "2022-12-15T08:58:06.018Z"
   },
   {
    "duration": 3,
    "start_time": "2022-12-15T09:09:38.641Z"
   },
   {
    "duration": 3,
    "start_time": "2022-12-15T09:10:16.395Z"
   },
   {
    "duration": 2,
    "start_time": "2022-12-15T09:10:31.442Z"
   },
   {
    "duration": 3,
    "start_time": "2022-12-15T09:10:33.746Z"
   },
   {
    "duration": 11126,
    "start_time": "2022-12-15T09:10:36.490Z"
   },
   {
    "duration": 43786,
    "start_time": "2022-12-15T09:10:55.715Z"
   },
   {
    "duration": 3,
    "start_time": "2022-12-15T09:11:39.504Z"
   },
   {
    "duration": 3,
    "start_time": "2022-12-15T09:12:27.816Z"
   },
   {
    "duration": 157115,
    "start_time": "2022-12-15T09:12:31.684Z"
   },
   {
    "duration": 0,
    "start_time": "2022-12-15T09:15:08.801Z"
   },
   {
    "duration": 0,
    "start_time": "2022-12-15T09:15:08.802Z"
   },
   {
    "duration": 0,
    "start_time": "2022-12-15T09:15:08.803Z"
   },
   {
    "duration": 0,
    "start_time": "2022-12-15T09:15:08.804Z"
   },
   {
    "duration": 0,
    "start_time": "2022-12-15T09:15:08.805Z"
   },
   {
    "duration": 0,
    "start_time": "2022-12-15T09:15:08.806Z"
   },
   {
    "duration": 0,
    "start_time": "2022-12-15T09:15:08.807Z"
   },
   {
    "duration": 4,
    "start_time": "2022-12-15T09:17:03.405Z"
   },
   {
    "duration": 5,
    "start_time": "2022-12-15T09:17:09.731Z"
   },
   {
    "duration": 3,
    "start_time": "2022-12-15T09:18:09.148Z"
   },
   {
    "duration": 36043,
    "start_time": "2022-12-15T09:18:12.978Z"
   },
   {
    "duration": 4,
    "start_time": "2022-12-15T09:19:13.309Z"
   },
   {
    "duration": 158,
    "start_time": "2022-12-15T09:19:28.816Z"
   },
   {
    "duration": 199,
    "start_time": "2022-12-15T09:19:32.014Z"
   },
   {
    "duration": 68,
    "start_time": "2022-12-15T09:20:35.090Z"
   },
   {
    "duration": 3,
    "start_time": "2022-12-15T09:20:41.147Z"
   },
   {
    "duration": 32904,
    "start_time": "2022-12-15T09:20:46.130Z"
   },
   {
    "duration": 159,
    "start_time": "2022-12-15T09:21:53.456Z"
   },
   {
    "duration": 5,
    "start_time": "2022-12-15T09:22:00.442Z"
   },
   {
    "duration": 3,
    "start_time": "2022-12-15T09:23:29.222Z"
   },
   {
    "duration": 336956,
    "start_time": "2022-12-15T09:23:31.859Z"
   },
   {
    "duration": 4,
    "start_time": "2022-12-15T09:30:31.801Z"
   },
   {
    "duration": 6,
    "start_time": "2022-12-15T09:30:44.087Z"
   },
   {
    "duration": 271,
    "start_time": "2022-12-15T09:31:37.506Z"
   },
   {
    "duration": 3,
    "start_time": "2022-12-15T09:32:08.523Z"
   },
   {
    "duration": 379,
    "start_time": "2022-12-15T10:02:10.436Z"
   },
   {
    "duration": 1155,
    "start_time": "2022-12-15T10:02:10.827Z"
   },
   {
    "duration": 3,
    "start_time": "2022-12-15T10:02:11.983Z"
   },
   {
    "duration": 23,
    "start_time": "2022-12-15T10:02:11.988Z"
   },
   {
    "duration": 2851,
    "start_time": "2022-12-15T10:02:12.013Z"
   },
   {
    "duration": 4,
    "start_time": "2022-12-15T10:02:14.866Z"
   },
   {
    "duration": 61,
    "start_time": "2022-12-15T10:02:14.872Z"
   },
   {
    "duration": 113,
    "start_time": "2022-12-15T10:02:14.935Z"
   },
   {
    "duration": 98,
    "start_time": "2022-12-15T10:02:15.050Z"
   },
   {
    "duration": 425,
    "start_time": "2022-12-15T10:02:15.151Z"
   },
   {
    "duration": 487,
    "start_time": "2022-12-15T10:02:15.579Z"
   },
   {
    "duration": 102,
    "start_time": "2022-12-15T10:02:16.068Z"
   },
   {
    "duration": 34,
    "start_time": "2022-12-15T10:02:16.172Z"
   },
   {
    "duration": 23,
    "start_time": "2022-12-15T10:02:16.208Z"
   },
   {
    "duration": 181,
    "start_time": "2022-12-15T10:02:16.232Z"
   },
   {
    "duration": 16,
    "start_time": "2022-12-15T10:02:16.415Z"
   },
   {
    "duration": 64,
    "start_time": "2022-12-15T10:02:16.432Z"
   },
   {
    "duration": 120,
    "start_time": "2022-12-15T10:02:16.498Z"
   },
   {
    "duration": 32,
    "start_time": "2022-12-15T10:02:16.620Z"
   },
   {
    "duration": 711,
    "start_time": "2022-12-15T10:02:16.654Z"
   },
   {
    "duration": 15,
    "start_time": "2022-12-15T10:02:17.367Z"
   },
   {
    "duration": 19,
    "start_time": "2022-12-15T10:02:17.384Z"
   },
   {
    "duration": 105,
    "start_time": "2022-12-15T10:02:17.404Z"
   },
   {
    "duration": 26,
    "start_time": "2022-12-15T10:02:17.511Z"
   },
   {
    "duration": 430,
    "start_time": "2022-12-15T10:02:17.539Z"
   },
   {
    "duration": 15,
    "start_time": "2022-12-15T10:02:17.970Z"
   },
   {
    "duration": 34,
    "start_time": "2022-12-15T10:02:17.986Z"
   },
   {
    "duration": 33,
    "start_time": "2022-12-15T10:02:18.024Z"
   },
   {
    "duration": 106,
    "start_time": "2022-12-15T10:02:18.058Z"
   },
   {
    "duration": 26,
    "start_time": "2022-12-15T10:02:18.165Z"
   },
   {
    "duration": 368,
    "start_time": "2022-12-15T10:02:18.193Z"
   },
   {
    "duration": 7,
    "start_time": "2022-12-15T10:02:18.562Z"
   },
   {
    "duration": 56,
    "start_time": "2022-12-15T10:02:18.570Z"
   },
   {
    "duration": 6,
    "start_time": "2022-12-15T10:02:18.628Z"
   },
   {
    "duration": 24,
    "start_time": "2022-12-15T10:02:18.636Z"
   },
   {
    "duration": 17,
    "start_time": "2022-12-15T10:02:18.662Z"
   },
   {
    "duration": 7,
    "start_time": "2022-12-15T10:02:18.681Z"
   },
   {
    "duration": 392,
    "start_time": "2022-12-15T10:02:18.690Z"
   },
   {
    "duration": 280,
    "start_time": "2022-12-15T10:02:19.085Z"
   },
   {
    "duration": 21,
    "start_time": "2022-12-15T10:02:19.366Z"
   },
   {
    "duration": 192,
    "start_time": "2022-12-15T10:02:19.389Z"
   },
   {
    "duration": 8,
    "start_time": "2022-12-15T10:02:19.583Z"
   },
   {
    "duration": 52,
    "start_time": "2022-12-15T10:02:19.593Z"
   },
   {
    "duration": 5,
    "start_time": "2022-12-15T10:02:19.646Z"
   },
   {
    "duration": 33,
    "start_time": "2022-12-15T10:02:19.653Z"
   },
   {
    "duration": 40,
    "start_time": "2022-12-15T10:02:19.688Z"
   },
   {
    "duration": 26,
    "start_time": "2022-12-15T10:02:19.730Z"
   },
   {
    "duration": 3,
    "start_time": "2022-12-15T10:02:19.758Z"
   },
   {
    "duration": 131,
    "start_time": "2022-12-15T10:02:19.762Z"
   },
   {
    "duration": 472,
    "start_time": "2022-12-15T10:02:19.895Z"
   },
   {
    "duration": 8,
    "start_time": "2022-12-15T10:02:20.369Z"
   },
   {
    "duration": 8,
    "start_time": "2022-12-15T10:02:20.379Z"
   },
   {
    "duration": 4,
    "start_time": "2022-12-15T10:02:20.389Z"
   },
   {
    "duration": 176,
    "start_time": "2022-12-15T10:02:20.394Z"
   },
   {
    "duration": 27,
    "start_time": "2022-12-15T10:02:20.571Z"
   },
   {
    "duration": 3,
    "start_time": "2022-12-15T10:02:20.600Z"
   },
   {
    "duration": 27,
    "start_time": "2022-12-15T10:02:20.605Z"
   },
   {
    "duration": 4,
    "start_time": "2022-12-15T10:02:20.634Z"
   },
   {
    "duration": 1293,
    "start_time": "2022-12-15T10:02:20.640Z"
   },
   {
    "duration": 5,
    "start_time": "2022-12-15T10:02:21.935Z"
   },
   {
    "duration": 130,
    "start_time": "2022-12-15T10:02:21.941Z"
   },
   {
    "duration": 4,
    "start_time": "2022-12-15T10:02:22.073Z"
   },
   {
    "duration": 10,
    "start_time": "2022-12-15T10:02:22.079Z"
   },
   {
    "duration": 33,
    "start_time": "2022-12-15T10:02:22.091Z"
   },
   {
    "duration": 3,
    "start_time": "2022-12-15T10:02:22.126Z"
   },
   {
    "duration": 10692,
    "start_time": "2022-12-15T10:02:22.130Z"
   },
   {
    "duration": 41759,
    "start_time": "2022-12-15T10:02:32.823Z"
   },
   {
    "duration": 3,
    "start_time": "2022-12-15T10:03:14.583Z"
   },
   {
    "duration": 11,
    "start_time": "2022-12-15T10:03:14.588Z"
   },
   {
    "duration": 2516607,
    "start_time": "2022-12-15T10:03:14.601Z"
   },
   {
    "duration": 3,
    "start_time": "2022-12-15T10:45:11.209Z"
   },
   {
    "duration": 32,
    "start_time": "2022-12-15T10:45:11.214Z"
   },
   {
    "duration": 13,
    "start_time": "2022-12-15T10:45:11.248Z"
   },
   {
    "duration": 291953,
    "start_time": "2022-12-15T10:45:11.262Z"
   },
   {
    "duration": 864,
    "start_time": "2022-12-15T10:50:03.217Z"
   },
   {
    "duration": 6,
    "start_time": "2022-12-15T10:50:04.083Z"
   },
   {
    "duration": 9,
    "start_time": "2022-12-15T10:50:04.090Z"
   },
   {
    "duration": 75,
    "start_time": "2022-12-15T10:50:04.100Z"
   },
   {
    "duration": 68,
    "start_time": "2022-12-15T10:50:04.177Z"
   },
   {
    "duration": 41,
    "start_time": "2022-12-15T10:50:04.247Z"
   },
   {
    "duration": 3,
    "start_time": "2022-12-15T10:50:04.289Z"
   },
   {
    "duration": 13821,
    "start_time": "2022-12-15T10:50:04.297Z"
   },
   {
    "duration": 260,
    "start_time": "2022-12-15T10:50:18.120Z"
   },
   {
    "duration": 4,
    "start_time": "2022-12-15T10:50:18.381Z"
   },
   {
    "duration": 55638,
    "start_time": "2022-12-15T10:50:18.386Z"
   },
   {
    "duration": 4,
    "start_time": "2022-12-15T10:51:14.026Z"
   },
   {
    "duration": 35,
    "start_time": "2022-12-15T10:51:14.031Z"
   },
   {
    "duration": 373149,
    "start_time": "2022-12-15T10:51:14.067Z"
   },
   {
    "duration": 10,
    "start_time": "2022-12-15T10:57:27.218Z"
   },
   {
    "duration": 22,
    "start_time": "2022-12-15T10:57:27.230Z"
   },
   {
    "duration": 5,
    "start_time": "2022-12-15T10:57:27.254Z"
   },
   {
    "duration": 44995,
    "start_time": "2022-12-15T10:57:27.260Z"
   },
   {
    "duration": 733,
    "start_time": "2022-12-15T10:58:12.257Z"
   },
   {
    "duration": 168427,
    "start_time": "2022-12-15T10:58:12.992Z"
   },
   {
    "duration": 6,
    "start_time": "2022-12-15T11:01:01.421Z"
   },
   {
    "duration": 62,
    "start_time": "2022-12-15T11:01:01.429Z"
   },
   {
    "duration": 31,
    "start_time": "2022-12-15T11:01:01.493Z"
   },
   {
    "duration": 36,
    "start_time": "2022-12-15T11:01:01.525Z"
   },
   {
    "duration": 48,
    "start_time": "2022-12-15T11:01:01.563Z"
   },
   {
    "duration": 1413,
    "start_time": "2022-12-15T11:01:01.614Z"
   },
   {
    "duration": 4,
    "start_time": "2022-12-15T11:01:03.028Z"
   },
   {
    "duration": 166,
    "start_time": "2022-12-15T11:01:03.033Z"
   },
   {
    "duration": 198,
    "start_time": "2022-12-15T11:01:03.200Z"
   },
   {
    "duration": 3,
    "start_time": "2022-12-15T11:01:03.400Z"
   },
   {
    "duration": 7130,
    "start_time": "2022-12-15T11:01:03.404Z"
   },
   {
    "duration": 5,
    "start_time": "2022-12-15T11:01:10.535Z"
   },
   {
    "duration": 238,
    "start_time": "2022-12-15T11:01:10.542Z"
   },
   {
    "duration": 3,
    "start_time": "2022-12-15T11:01:10.782Z"
   },
   {
    "duration": 11342,
    "start_time": "2022-12-15T11:01:10.786Z"
   },
   {
    "duration": 5,
    "start_time": "2022-12-15T11:01:22.129Z"
   },
   {
    "duration": 183,
    "start_time": "2022-12-15T11:01:22.136Z"
   },
   {
    "duration": 7,
    "start_time": "2022-12-15T11:01:22.320Z"
   },
   {
    "duration": 10,
    "start_time": "2022-12-15T11:01:22.328Z"
   },
   {
    "duration": 12,
    "start_time": "2022-12-15T11:01:22.340Z"
   },
   {
    "duration": 111,
    "start_time": "2022-12-15T11:01:22.353Z"
   },
   {
    "duration": 0,
    "start_time": "2022-12-15T11:01:22.465Z"
   },
   {
    "duration": 0,
    "start_time": "2022-12-15T11:01:22.466Z"
   },
   {
    "duration": 1,
    "start_time": "2022-12-15T11:01:22.467Z"
   },
   {
    "duration": 0,
    "start_time": "2022-12-15T11:01:22.469Z"
   },
   {
    "duration": 0,
    "start_time": "2022-12-15T11:01:22.471Z"
   },
   {
    "duration": 1,
    "start_time": "2022-12-15T11:01:22.472Z"
   },
   {
    "duration": 0,
    "start_time": "2022-12-15T11:01:22.473Z"
   },
   {
    "duration": 0,
    "start_time": "2022-12-15T11:01:22.475Z"
   },
   {
    "duration": 0,
    "start_time": "2022-12-15T11:01:22.476Z"
   },
   {
    "duration": 0,
    "start_time": "2022-12-15T11:01:22.477Z"
   },
   {
    "duration": 0,
    "start_time": "2022-12-15T11:01:22.478Z"
   },
   {
    "duration": 0,
    "start_time": "2022-12-15T11:01:22.479Z"
   },
   {
    "duration": 0,
    "start_time": "2022-12-15T11:01:22.480Z"
   },
   {
    "duration": 0,
    "start_time": "2022-12-15T11:01:22.481Z"
   },
   {
    "duration": 0,
    "start_time": "2022-12-15T11:01:22.483Z"
   },
   {
    "duration": 0,
    "start_time": "2022-12-15T11:01:22.484Z"
   },
   {
    "duration": 613,
    "start_time": "2022-12-15T11:06:31.521Z"
   },
   {
    "duration": 4,
    "start_time": "2022-12-15T11:06:35.258Z"
   },
   {
    "duration": 605,
    "start_time": "2022-12-15T11:07:06.021Z"
   },
   {
    "duration": 4,
    "start_time": "2022-12-15T11:07:16.681Z"
   },
   {
    "duration": 608,
    "start_time": "2022-12-15T11:07:55.618Z"
   },
   {
    "duration": 4,
    "start_time": "2022-12-15T11:08:33.933Z"
   },
   {
    "duration": 43,
    "start_time": "2022-12-15T18:59:02.484Z"
   },
   {
    "duration": 5,
    "start_time": "2022-12-15T18:59:07.542Z"
   },
   {
    "duration": 429,
    "start_time": "2022-12-15T18:59:42.413Z"
   },
   {
    "duration": 5347,
    "start_time": "2022-12-15T18:59:42.844Z"
   },
   {
    "duration": 2,
    "start_time": "2022-12-15T18:59:48.193Z"
   },
   {
    "duration": 12,
    "start_time": "2022-12-15T18:59:48.196Z"
   },
   {
    "duration": 797,
    "start_time": "2022-12-15T18:59:48.210Z"
   },
   {
    "duration": 6,
    "start_time": "2022-12-15T18:59:49.008Z"
   },
   {
    "duration": 68,
    "start_time": "2022-12-15T18:59:49.015Z"
   },
   {
    "duration": 122,
    "start_time": "2022-12-15T18:59:49.085Z"
   },
   {
    "duration": 91,
    "start_time": "2022-12-15T18:59:49.209Z"
   },
   {
    "duration": 409,
    "start_time": "2022-12-15T18:59:49.302Z"
   },
   {
    "duration": 458,
    "start_time": "2022-12-15T18:59:49.713Z"
   },
   {
    "duration": 96,
    "start_time": "2022-12-15T18:59:50.172Z"
   },
   {
    "duration": 15,
    "start_time": "2022-12-15T18:59:50.269Z"
   },
   {
    "duration": 18,
    "start_time": "2022-12-15T18:59:50.287Z"
   },
   {
    "duration": 149,
    "start_time": "2022-12-15T18:59:50.306Z"
   },
   {
    "duration": 15,
    "start_time": "2022-12-15T18:59:50.457Z"
   },
   {
    "duration": 19,
    "start_time": "2022-12-15T18:59:50.474Z"
   },
   {
    "duration": 103,
    "start_time": "2022-12-15T18:59:50.495Z"
   },
   {
    "duration": 42,
    "start_time": "2022-12-15T18:59:50.600Z"
   },
   {
    "duration": 696,
    "start_time": "2022-12-15T18:59:50.644Z"
   },
   {
    "duration": 18,
    "start_time": "2022-12-15T18:59:51.342Z"
   },
   {
    "duration": 33,
    "start_time": "2022-12-15T18:59:51.362Z"
   },
   {
    "duration": 124,
    "start_time": "2022-12-15T18:59:51.397Z"
   },
   {
    "duration": 26,
    "start_time": "2022-12-15T18:59:51.522Z"
   },
   {
    "duration": 481,
    "start_time": "2022-12-15T18:59:51.550Z"
   },
   {
    "duration": 15,
    "start_time": "2022-12-15T18:59:52.033Z"
   },
   {
    "duration": 32,
    "start_time": "2022-12-15T18:59:52.049Z"
   },
   {
    "duration": 21,
    "start_time": "2022-12-15T18:59:52.083Z"
   },
   {
    "duration": 93,
    "start_time": "2022-12-15T18:59:52.106Z"
   },
   {
    "duration": 29,
    "start_time": "2022-12-15T18:59:52.201Z"
   },
   {
    "duration": 361,
    "start_time": "2022-12-15T18:59:52.232Z"
   },
   {
    "duration": 7,
    "start_time": "2022-12-15T18:59:52.594Z"
   },
   {
    "duration": 61,
    "start_time": "2022-12-15T18:59:52.603Z"
   },
   {
    "duration": 7,
    "start_time": "2022-12-15T18:59:52.666Z"
   },
   {
    "duration": 9,
    "start_time": "2022-12-15T18:59:52.675Z"
   },
   {
    "duration": 13,
    "start_time": "2022-12-15T18:59:52.686Z"
   },
   {
    "duration": 7,
    "start_time": "2022-12-15T18:59:52.700Z"
   },
   {
    "duration": 382,
    "start_time": "2022-12-15T18:59:52.708Z"
   },
   {
    "duration": 274,
    "start_time": "2022-12-15T18:59:53.091Z"
   },
   {
    "duration": 21,
    "start_time": "2022-12-15T18:59:53.366Z"
   },
   {
    "duration": 202,
    "start_time": "2022-12-15T18:59:53.392Z"
   },
   {
    "duration": 8,
    "start_time": "2022-12-15T18:59:53.595Z"
   },
   {
    "duration": 77,
    "start_time": "2022-12-15T18:59:53.605Z"
   },
   {
    "duration": 6,
    "start_time": "2022-12-15T18:59:53.683Z"
   },
   {
    "duration": 43,
    "start_time": "2022-12-15T18:59:53.690Z"
   },
   {
    "duration": 21,
    "start_time": "2022-12-15T18:59:53.734Z"
   },
   {
    "duration": 37,
    "start_time": "2022-12-15T18:59:53.756Z"
   },
   {
    "duration": 3,
    "start_time": "2022-12-15T18:59:53.794Z"
   },
   {
    "duration": 123,
    "start_time": "2022-12-15T18:59:53.798Z"
   },
   {
    "duration": 475,
    "start_time": "2022-12-15T18:59:53.922Z"
   },
   {
    "duration": 8,
    "start_time": "2022-12-15T18:59:54.398Z"
   },
   {
    "duration": 8,
    "start_time": "2022-12-15T18:59:54.408Z"
   },
   {
    "duration": 16,
    "start_time": "2022-12-15T18:59:54.417Z"
   },
   {
    "duration": 95,
    "start_time": "2022-12-15T18:59:54.434Z"
   },
   {
    "duration": 118,
    "start_time": "2022-12-15T18:59:54.530Z"
   },
   {
    "duration": 3,
    "start_time": "2022-12-15T18:59:54.649Z"
   },
   {
    "duration": 17,
    "start_time": "2022-12-15T18:59:54.654Z"
   },
   {
    "duration": 8,
    "start_time": "2022-12-15T18:59:54.673Z"
   },
   {
    "duration": 1220,
    "start_time": "2022-12-15T18:59:54.682Z"
   },
   {
    "duration": 3,
    "start_time": "2022-12-15T18:59:55.904Z"
   },
   {
    "duration": 122,
    "start_time": "2022-12-15T18:59:55.909Z"
   },
   {
    "duration": 4,
    "start_time": "2022-12-15T18:59:56.033Z"
   },
   {
    "duration": 6,
    "start_time": "2022-12-15T18:59:56.038Z"
   },
   {
    "duration": 22,
    "start_time": "2022-12-15T18:59:56.046Z"
   },
   {
    "duration": 3,
    "start_time": "2022-12-15T18:59:56.069Z"
   },
   {
    "duration": 10386,
    "start_time": "2022-12-15T18:59:56.073Z"
   },
   {
    "duration": 43591,
    "start_time": "2022-12-15T19:00:06.460Z"
   },
   {
    "duration": 4,
    "start_time": "2022-12-15T19:00:50.052Z"
   },
   {
    "duration": 14,
    "start_time": "2022-12-15T19:00:50.057Z"
   },
   {
    "duration": 2618203,
    "start_time": "2022-12-15T19:00:50.073Z"
   },
   {
    "duration": 4,
    "start_time": "2022-12-15T19:44:28.277Z"
   },
   {
    "duration": 19,
    "start_time": "2022-12-15T19:44:28.282Z"
   },
   {
    "duration": 5,
    "start_time": "2022-12-15T19:44:28.302Z"
   },
   {
    "duration": 300891,
    "start_time": "2022-12-15T19:44:28.309Z"
   },
   {
    "duration": 894,
    "start_time": "2022-12-15T19:49:29.201Z"
   },
   {
    "duration": 5,
    "start_time": "2022-12-15T19:49:30.097Z"
   },
   {
    "duration": 9,
    "start_time": "2022-12-15T19:49:30.104Z"
   },
   {
    "duration": 78,
    "start_time": "2022-12-15T19:49:30.114Z"
   },
   {
    "duration": 63,
    "start_time": "2022-12-15T19:49:30.195Z"
   },
   {
    "duration": 42,
    "start_time": "2022-12-15T19:49:30.259Z"
   },
   {
    "duration": 3,
    "start_time": "2022-12-15T19:49:30.302Z"
   },
   {
    "duration": 13948,
    "start_time": "2022-12-15T19:49:30.306Z"
   },
   {
    "duration": 257,
    "start_time": "2022-12-15T19:49:44.256Z"
   },
   {
    "duration": 4,
    "start_time": "2022-12-15T19:49:44.514Z"
   },
   {
    "duration": 55577,
    "start_time": "2022-12-15T19:49:44.532Z"
   },
   {
    "duration": 3,
    "start_time": "2022-12-15T19:50:40.111Z"
   },
   {
    "duration": 48,
    "start_time": "2022-12-15T19:50:40.115Z"
   },
   {
    "duration": 377146,
    "start_time": "2022-12-15T19:50:40.165Z"
   },
   {
    "duration": 4,
    "start_time": "2022-12-15T19:56:57.312Z"
   },
   {
    "duration": 35,
    "start_time": "2022-12-15T19:56:57.328Z"
   },
   {
    "duration": 20,
    "start_time": "2022-12-15T19:56:57.365Z"
   },
   {
    "duration": 41985,
    "start_time": "2022-12-15T19:56:57.387Z"
   },
   {
    "duration": 743,
    "start_time": "2022-12-15T19:57:39.374Z"
   },
   {
    "duration": 167457,
    "start_time": "2022-12-15T19:57:40.119Z"
   },
   {
    "duration": 3,
    "start_time": "2022-12-15T20:00:27.578Z"
   },
   {
    "duration": 25,
    "start_time": "2022-12-15T20:00:27.583Z"
   },
   {
    "duration": 2,
    "start_time": "2022-12-15T20:00:27.610Z"
   },
   {
    "duration": 4,
    "start_time": "2022-12-15T20:00:27.635Z"
   },
   {
    "duration": 10,
    "start_time": "2022-12-15T20:00:27.641Z"
   },
   {
    "duration": 6592,
    "start_time": "2022-12-15T20:00:27.652Z"
   },
   {
    "duration": 4,
    "start_time": "2022-12-15T20:00:34.249Z"
   },
   {
    "duration": 207,
    "start_time": "2022-12-15T20:00:34.254Z"
   },
   {
    "duration": 187,
    "start_time": "2022-12-15T20:00:34.463Z"
   },
   {
    "duration": 3,
    "start_time": "2022-12-15T20:00:34.651Z"
   },
   {
    "duration": 58886,
    "start_time": "2022-12-15T20:00:34.655Z"
   },
   {
    "duration": 5,
    "start_time": "2022-12-15T20:01:33.543Z"
   },
   {
    "duration": 209,
    "start_time": "2022-12-15T20:01:33.549Z"
   },
   {
    "duration": 3,
    "start_time": "2022-12-15T20:01:33.760Z"
   },
   {
    "duration": 71375,
    "start_time": "2022-12-15T20:01:33.764Z"
   },
   {
    "duration": 6,
    "start_time": "2022-12-15T20:02:45.141Z"
   },
   {
    "duration": 207,
    "start_time": "2022-12-15T20:02:45.149Z"
   },
   {
    "duration": 596,
    "start_time": "2022-12-15T20:02:45.357Z"
   },
   {
    "duration": 80,
    "start_time": "2022-12-15T20:02:45.955Z"
   },
   {
    "duration": 11,
    "start_time": "2022-12-15T20:02:46.037Z"
   },
   {
    "duration": 0,
    "start_time": "2022-12-15T20:02:46.050Z"
   },
   {
    "duration": 74,
    "start_time": "2022-12-15T20:04:20.038Z"
   },
   {
    "duration": 10,
    "start_time": "2022-12-15T20:04:29.863Z"
   },
   {
    "duration": 593,
    "start_time": "2022-12-15T20:04:34.740Z"
   },
   {
    "duration": 4,
    "start_time": "2022-12-15T20:04:36.040Z"
   },
   {
    "duration": 4,
    "start_time": "2022-12-15T20:04:37.770Z"
   },
   {
    "duration": 49,
    "start_time": "2022-12-20T17:32:00.034Z"
   },
   {
    "duration": 393,
    "start_time": "2022-12-20T17:32:19.314Z"
   },
   {
    "duration": 1057,
    "start_time": "2022-12-20T17:32:22.135Z"
   },
   {
    "duration": 3,
    "start_time": "2022-12-20T17:32:24.551Z"
   },
   {
    "duration": 2,
    "start_time": "2022-12-20T17:32:27.317Z"
   },
   {
    "duration": 66,
    "start_time": "2022-12-20T17:32:30.930Z"
   },
   {
    "duration": 2,
    "start_time": "2022-12-20T17:32:54.286Z"
   },
   {
    "duration": 10,
    "start_time": "2022-12-20T17:33:54.999Z"
   },
   {
    "duration": 3754,
    "start_time": "2022-12-20T17:34:35.607Z"
   },
   {
    "duration": 53,
    "start_time": "2022-12-20T17:34:52.100Z"
   },
   {
    "duration": 12525,
    "start_time": "2022-12-20T17:35:22.456Z"
   },
   {
    "duration": 517,
    "start_time": "2022-12-20T17:35:45.566Z"
   },
   {
    "duration": 1068,
    "start_time": "2022-12-20T17:50:44.835Z"
   },
   {
    "duration": 766,
    "start_time": "2022-12-20T17:51:24.396Z"
   },
   {
    "duration": 47,
    "start_time": "2022-12-20T17:51:34.104Z"
   },
   {
    "duration": 95,
    "start_time": "2022-12-20T17:52:28.036Z"
   },
   {
    "duration": 42395,
    "start_time": "2022-12-20T17:52:53.666Z"
   },
   {
    "duration": 26281,
    "start_time": "2022-12-20T18:09:21.803Z"
   },
   {
    "duration": 4,
    "start_time": "2022-12-20T18:23:07.110Z"
   },
   {
    "duration": 3,
    "start_time": "2022-12-20T18:23:09.742Z"
   },
   {
    "duration": 222,
    "start_time": "2022-12-20T18:26:35.166Z"
   },
   {
    "duration": 205,
    "start_time": "2022-12-20T18:28:50.092Z"
   },
   {
    "duration": 68,
    "start_time": "2022-12-20T18:30:09.435Z"
   },
   {
    "duration": 3,
    "start_time": "2022-12-20T18:30:16.257Z"
   },
   {
    "duration": 3,
    "start_time": "2022-12-20T18:30:16.267Z"
   },
   {
    "duration": 3,
    "start_time": "2022-12-20T18:30:16.277Z"
   },
   {
    "duration": 3,
    "start_time": "2022-12-20T18:30:16.299Z"
   },
   {
    "duration": 3,
    "start_time": "2022-12-20T18:30:16.312Z"
   },
   {
    "duration": 2,
    "start_time": "2022-12-20T18:30:16.324Z"
   },
   {
    "duration": 3,
    "start_time": "2022-12-20T18:30:16.336Z"
   },
   {
    "duration": 807,
    "start_time": "2022-12-20T18:30:16.366Z"
   },
   {
    "duration": 4,
    "start_time": "2022-12-20T18:30:17.176Z"
   },
   {
    "duration": 56,
    "start_time": "2022-12-20T18:30:17.181Z"
   },
   {
    "duration": 128,
    "start_time": "2022-12-20T18:30:17.239Z"
   },
   {
    "duration": 97,
    "start_time": "2022-12-20T18:30:17.368Z"
   },
   {
    "duration": 17688,
    "start_time": "2022-12-20T18:30:17.467Z"
   },
   {
    "duration": 383,
    "start_time": "2022-12-20T18:30:35.157Z"
   },
   {
    "duration": 405,
    "start_time": "2022-12-20T18:30:35.542Z"
   },
   {
    "duration": 132,
    "start_time": "2022-12-20T18:30:35.949Z"
   },
   {
    "duration": 18,
    "start_time": "2022-12-20T18:30:36.084Z"
   },
   {
    "duration": 27,
    "start_time": "2022-12-20T18:30:36.104Z"
   },
   {
    "duration": 123,
    "start_time": "2022-12-20T18:30:36.132Z"
   },
   {
    "duration": 19,
    "start_time": "2022-12-20T18:30:36.257Z"
   },
   {
    "duration": 18,
    "start_time": "2022-12-20T18:30:36.278Z"
   },
   {
    "duration": 112,
    "start_time": "2022-12-20T18:30:36.315Z"
   },
   {
    "duration": 39,
    "start_time": "2022-12-20T18:30:36.429Z"
   },
   {
    "duration": 822,
    "start_time": "2022-12-20T18:30:36.470Z"
   },
   {
    "duration": 23,
    "start_time": "2022-12-20T18:30:37.293Z"
   },
   {
    "duration": 21,
    "start_time": "2022-12-20T18:30:37.317Z"
   },
   {
    "duration": 98,
    "start_time": "2022-12-20T18:30:37.339Z"
   },
   {
    "duration": 22,
    "start_time": "2022-12-20T18:30:37.438Z"
   },
   {
    "duration": 500,
    "start_time": "2022-12-20T18:30:37.461Z"
   },
   {
    "duration": 18,
    "start_time": "2022-12-20T18:30:37.962Z"
   },
   {
    "duration": 20,
    "start_time": "2022-12-20T18:30:37.981Z"
   },
   {
    "duration": 32,
    "start_time": "2022-12-20T18:30:38.003Z"
   },
   {
    "duration": 139,
    "start_time": "2022-12-20T18:30:38.037Z"
   },
   {
    "duration": 20,
    "start_time": "2022-12-20T18:30:38.178Z"
   },
   {
    "duration": 378,
    "start_time": "2022-12-20T18:30:38.215Z"
   },
   {
    "duration": 6,
    "start_time": "2022-12-20T18:30:38.595Z"
   },
   {
    "duration": 56,
    "start_time": "2022-12-20T18:30:38.602Z"
   },
   {
    "duration": 5,
    "start_time": "2022-12-20T18:30:38.660Z"
   },
   {
    "duration": 4,
    "start_time": "2022-12-20T18:30:38.667Z"
   },
   {
    "duration": 5,
    "start_time": "2022-12-20T18:30:38.673Z"
   },
   {
    "duration": 465,
    "start_time": "2022-12-20T18:30:38.680Z"
   },
   {
    "duration": 320,
    "start_time": "2022-12-20T18:30:39.147Z"
   },
   {
    "duration": 20,
    "start_time": "2022-12-20T18:30:39.469Z"
   },
   {
    "duration": 227,
    "start_time": "2022-12-20T18:30:39.491Z"
   },
   {
    "duration": 213,
    "start_time": "2022-12-20T18:30:39.720Z"
   },
   {
    "duration": 9,
    "start_time": "2022-12-20T18:30:39.935Z"
   },
   {
    "duration": 37,
    "start_time": "2022-12-20T18:30:39.945Z"
   },
   {
    "duration": 6,
    "start_time": "2022-12-20T18:30:39.985Z"
   },
   {
    "duration": 42,
    "start_time": "2022-12-20T18:30:40.015Z"
   },
   {
    "duration": 23,
    "start_time": "2022-12-20T18:30:40.059Z"
   },
   {
    "duration": 34,
    "start_time": "2022-12-20T18:30:40.084Z"
   },
   {
    "duration": 14,
    "start_time": "2022-12-20T18:30:40.120Z"
   },
   {
    "duration": 0,
    "start_time": "2022-12-20T18:30:40.137Z"
   },
   {
    "duration": 0,
    "start_time": "2022-12-20T18:30:40.138Z"
   },
   {
    "duration": 0,
    "start_time": "2022-12-20T18:30:40.140Z"
   },
   {
    "duration": 0,
    "start_time": "2022-12-20T18:30:40.141Z"
   },
   {
    "duration": 0,
    "start_time": "2022-12-20T18:30:40.143Z"
   },
   {
    "duration": 0,
    "start_time": "2022-12-20T18:30:40.144Z"
   },
   {
    "duration": 0,
    "start_time": "2022-12-20T18:30:40.145Z"
   },
   {
    "duration": 0,
    "start_time": "2022-12-20T18:30:40.146Z"
   },
   {
    "duration": 0,
    "start_time": "2022-12-20T18:30:40.147Z"
   },
   {
    "duration": 0,
    "start_time": "2022-12-20T18:30:40.148Z"
   },
   {
    "duration": 0,
    "start_time": "2022-12-20T18:30:40.149Z"
   },
   {
    "duration": 0,
    "start_time": "2022-12-20T18:30:40.151Z"
   },
   {
    "duration": 0,
    "start_time": "2022-12-20T18:30:40.152Z"
   },
   {
    "duration": 0,
    "start_time": "2022-12-20T18:30:40.153Z"
   },
   {
    "duration": 0,
    "start_time": "2022-12-20T18:30:40.154Z"
   },
   {
    "duration": 0,
    "start_time": "2022-12-20T18:30:40.156Z"
   },
   {
    "duration": 0,
    "start_time": "2022-12-20T18:30:40.157Z"
   },
   {
    "duration": 0,
    "start_time": "2022-12-20T18:30:40.158Z"
   },
   {
    "duration": 0,
    "start_time": "2022-12-20T18:30:40.159Z"
   },
   {
    "duration": 0,
    "start_time": "2022-12-20T18:30:40.161Z"
   },
   {
    "duration": 0,
    "start_time": "2022-12-20T18:30:40.162Z"
   },
   {
    "duration": 0,
    "start_time": "2022-12-20T18:30:40.163Z"
   },
   {
    "duration": 0,
    "start_time": "2022-12-20T18:30:40.164Z"
   },
   {
    "duration": 0,
    "start_time": "2022-12-20T18:30:40.166Z"
   },
   {
    "duration": 0,
    "start_time": "2022-12-20T18:30:40.216Z"
   },
   {
    "duration": 0,
    "start_time": "2022-12-20T18:30:40.218Z"
   },
   {
    "duration": 0,
    "start_time": "2022-12-20T18:30:40.220Z"
   },
   {
    "duration": 0,
    "start_time": "2022-12-20T18:30:40.221Z"
   },
   {
    "duration": 1,
    "start_time": "2022-12-20T18:30:40.221Z"
   },
   {
    "duration": 0,
    "start_time": "2022-12-20T18:30:40.223Z"
   },
   {
    "duration": 0,
    "start_time": "2022-12-20T18:30:40.223Z"
   },
   {
    "duration": 0,
    "start_time": "2022-12-20T18:30:40.224Z"
   },
   {
    "duration": 0,
    "start_time": "2022-12-20T18:30:40.226Z"
   },
   {
    "duration": 0,
    "start_time": "2022-12-20T18:30:40.226Z"
   },
   {
    "duration": 0,
    "start_time": "2022-12-20T18:30:40.227Z"
   },
   {
    "duration": 0,
    "start_time": "2022-12-20T18:30:40.228Z"
   },
   {
    "duration": 0,
    "start_time": "2022-12-20T18:30:40.229Z"
   },
   {
    "duration": 0,
    "start_time": "2022-12-20T18:30:40.230Z"
   },
   {
    "duration": 0,
    "start_time": "2022-12-20T18:30:40.231Z"
   },
   {
    "duration": 0,
    "start_time": "2022-12-20T18:30:40.232Z"
   },
   {
    "duration": 0,
    "start_time": "2022-12-20T18:30:40.233Z"
   },
   {
    "duration": 0,
    "start_time": "2022-12-20T18:30:40.233Z"
   },
   {
    "duration": 0,
    "start_time": "2022-12-20T18:30:40.234Z"
   },
   {
    "duration": 0,
    "start_time": "2022-12-20T18:30:40.235Z"
   },
   {
    "duration": 0,
    "start_time": "2022-12-20T18:30:40.236Z"
   },
   {
    "duration": 0,
    "start_time": "2022-12-20T18:30:40.238Z"
   },
   {
    "duration": 0,
    "start_time": "2022-12-20T18:30:40.239Z"
   },
   {
    "duration": 0,
    "start_time": "2022-12-20T18:30:40.239Z"
   },
   {
    "duration": 0,
    "start_time": "2022-12-20T18:30:40.240Z"
   },
   {
    "duration": 0,
    "start_time": "2022-12-20T18:30:40.241Z"
   },
   {
    "duration": 0,
    "start_time": "2022-12-20T18:30:40.242Z"
   },
   {
    "duration": 0,
    "start_time": "2022-12-20T18:30:40.243Z"
   },
   {
    "duration": 0,
    "start_time": "2022-12-20T18:30:40.244Z"
   },
   {
    "duration": 0,
    "start_time": "2022-12-20T18:30:40.245Z"
   },
   {
    "duration": 0,
    "start_time": "2022-12-20T18:30:40.246Z"
   },
   {
    "duration": 0,
    "start_time": "2022-12-20T18:30:40.247Z"
   },
   {
    "duration": 0,
    "start_time": "2022-12-20T18:30:40.248Z"
   },
   {
    "duration": 0,
    "start_time": "2022-12-20T18:30:40.249Z"
   },
   {
    "duration": 0,
    "start_time": "2022-12-20T18:30:40.250Z"
   },
   {
    "duration": 0,
    "start_time": "2022-12-20T18:30:40.250Z"
   },
   {
    "duration": 0,
    "start_time": "2022-12-20T18:30:40.251Z"
   },
   {
    "duration": 0,
    "start_time": "2022-12-20T18:30:40.252Z"
   },
   {
    "duration": 0,
    "start_time": "2022-12-20T18:30:40.316Z"
   },
   {
    "duration": 0,
    "start_time": "2022-12-20T18:30:40.317Z"
   },
   {
    "duration": 0,
    "start_time": "2022-12-20T18:30:40.318Z"
   },
   {
    "duration": 0,
    "start_time": "2022-12-20T18:30:40.319Z"
   },
   {
    "duration": 0,
    "start_time": "2022-12-20T18:30:40.320Z"
   },
   {
    "duration": 0,
    "start_time": "2022-12-20T18:30:40.321Z"
   },
   {
    "duration": 2,
    "start_time": "2022-12-20T18:49:18.104Z"
   },
   {
    "duration": 5,
    "start_time": "2022-12-20T18:51:37.119Z"
   },
   {
    "duration": 98,
    "start_time": "2022-12-20T18:52:46.235Z"
   },
   {
    "duration": 74,
    "start_time": "2022-12-20T18:55:45.964Z"
   },
   {
    "duration": 282,
    "start_time": "2022-12-20T18:56:54.548Z"
   },
   {
    "duration": 102,
    "start_time": "2022-12-20T18:58:10.354Z"
   },
   {
    "duration": 13,
    "start_time": "2022-12-20T20:43:11.693Z"
   },
   {
    "duration": 15,
    "start_time": "2022-12-20T20:43:18.966Z"
   },
   {
    "duration": 12,
    "start_time": "2022-12-20T20:43:57.027Z"
   },
   {
    "duration": 88,
    "start_time": "2022-12-20T20:44:03.619Z"
   },
   {
    "duration": 5245,
    "start_time": "2022-12-20T20:47:55.257Z"
   },
   {
    "duration": 3,
    "start_time": "2022-12-20T20:48:12.520Z"
   },
   {
    "duration": 2192,
    "start_time": "2022-12-20T20:48:16.174Z"
   },
   {
    "duration": 5387,
    "start_time": "2022-12-20T20:48:27.172Z"
   },
   {
    "duration": 17,
    "start_time": "2022-12-20T20:52:12.395Z"
   },
   {
    "duration": 3,
    "start_time": "2022-12-20T20:52:40.577Z"
   },
   {
    "duration": 10,
    "start_time": "2022-12-20T20:53:00.332Z"
   },
   {
    "duration": 48,
    "start_time": "2022-12-20T21:15:39.557Z"
   },
   {
    "duration": 30,
    "start_time": "2022-12-20T21:16:11.798Z"
   },
   {
    "duration": 25,
    "start_time": "2022-12-20T21:29:04.157Z"
   },
   {
    "duration": 118,
    "start_time": "2022-12-20T21:29:51.504Z"
   },
   {
    "duration": 534,
    "start_time": "2022-12-20T21:29:57.827Z"
   },
   {
    "duration": 754,
    "start_time": "2022-12-20T21:30:04.183Z"
   },
   {
    "duration": 265,
    "start_time": "2022-12-20T21:30:08.895Z"
   },
   {
    "duration": 2,
    "start_time": "2022-12-20T21:31:28.843Z"
   },
   {
    "duration": 1049,
    "start_time": "2022-12-20T21:31:38.470Z"
   },
   {
    "duration": 764,
    "start_time": "2022-12-20T21:31:42.561Z"
   },
   {
    "duration": 719,
    "start_time": "2022-12-20T21:31:45.650Z"
   },
   {
    "duration": 19,
    "start_time": "2022-12-20T21:41:14.685Z"
   },
   {
    "duration": 11,
    "start_time": "2022-12-20T21:41:41.028Z"
   },
   {
    "duration": 6,
    "start_time": "2022-12-20T21:42:01.745Z"
   },
   {
    "duration": 9,
    "start_time": "2022-12-20T21:42:11.136Z"
   },
   {
    "duration": 3,
    "start_time": "2022-12-20T21:42:36.983Z"
   },
   {
    "duration": 9,
    "start_time": "2022-12-20T21:42:45.473Z"
   },
   {
    "duration": 8,
    "start_time": "2022-12-20T21:42:56.021Z"
   },
   {
    "duration": 11,
    "start_time": "2022-12-20T21:47:09.912Z"
   },
   {
    "duration": 2,
    "start_time": "2022-12-20T21:47:13.899Z"
   },
   {
    "duration": 51,
    "start_time": "2022-12-20T21:47:16.328Z"
   },
   {
    "duration": 14,
    "start_time": "2022-12-20T21:47:43.926Z"
   },
   {
    "duration": 14,
    "start_time": "2022-12-20T21:47:49.605Z"
   },
   {
    "duration": 3,
    "start_time": "2022-12-20T21:48:16.074Z"
   },
   {
    "duration": 11,
    "start_time": "2022-12-20T21:48:18.955Z"
   },
   {
    "duration": 12,
    "start_time": "2022-12-20T21:48:23.753Z"
   },
   {
    "duration": 13,
    "start_time": "2022-12-20T21:48:30.271Z"
   },
   {
    "duration": 8,
    "start_time": "2022-12-20T21:50:10.507Z"
   },
   {
    "duration": 3,
    "start_time": "2022-12-20T21:50:22.765Z"
   },
   {
    "duration": 12,
    "start_time": "2022-12-20T21:50:34.227Z"
   },
   {
    "duration": 4,
    "start_time": "2022-12-20T21:54:02.023Z"
   },
   {
    "duration": 10,
    "start_time": "2022-12-20T21:54:19.949Z"
   },
   {
    "duration": 1125,
    "start_time": "2022-12-20T21:54:51.553Z"
   },
   {
    "duration": 48,
    "start_time": "2022-12-20T21:59:25.163Z"
   },
   {
    "duration": 424,
    "start_time": "2022-12-21T06:32:57.152Z"
   },
   {
    "duration": 1195,
    "start_time": "2022-12-21T06:32:57.578Z"
   },
   {
    "duration": 3,
    "start_time": "2022-12-21T06:32:58.774Z"
   },
   {
    "duration": 6,
    "start_time": "2022-12-21T06:32:58.778Z"
   },
   {
    "duration": 5,
    "start_time": "2022-12-21T06:32:58.786Z"
   },
   {
    "duration": 13480,
    "start_time": "2022-12-21T06:32:58.793Z"
   },
   {
    "duration": 103,
    "start_time": "2022-12-21T06:33:12.275Z"
   },
   {
    "duration": 0,
    "start_time": "2022-12-21T06:33:12.383Z"
   },
   {
    "duration": 0,
    "start_time": "2022-12-21T06:33:12.385Z"
   },
   {
    "duration": 0,
    "start_time": "2022-12-21T06:33:12.386Z"
   },
   {
    "duration": 0,
    "start_time": "2022-12-21T06:33:12.387Z"
   },
   {
    "duration": 0,
    "start_time": "2022-12-21T06:33:12.389Z"
   },
   {
    "duration": 0,
    "start_time": "2022-12-21T06:33:12.390Z"
   },
   {
    "duration": 0,
    "start_time": "2022-12-21T06:33:12.392Z"
   },
   {
    "duration": 0,
    "start_time": "2022-12-21T06:33:12.393Z"
   },
   {
    "duration": 0,
    "start_time": "2022-12-21T06:33:12.394Z"
   },
   {
    "duration": 0,
    "start_time": "2022-12-21T06:33:12.396Z"
   },
   {
    "duration": 0,
    "start_time": "2022-12-21T06:33:12.397Z"
   },
   {
    "duration": 0,
    "start_time": "2022-12-21T06:33:12.421Z"
   },
   {
    "duration": 0,
    "start_time": "2022-12-21T06:33:12.424Z"
   },
   {
    "duration": 0,
    "start_time": "2022-12-21T06:33:12.425Z"
   },
   {
    "duration": 1,
    "start_time": "2022-12-21T06:33:12.426Z"
   },
   {
    "duration": 0,
    "start_time": "2022-12-21T06:33:12.428Z"
   },
   {
    "duration": 0,
    "start_time": "2022-12-21T06:33:12.429Z"
   },
   {
    "duration": 0,
    "start_time": "2022-12-21T06:33:12.430Z"
   },
   {
    "duration": 0,
    "start_time": "2022-12-21T06:33:12.432Z"
   },
   {
    "duration": 0,
    "start_time": "2022-12-21T06:33:12.434Z"
   },
   {
    "duration": 0,
    "start_time": "2022-12-21T06:33:12.435Z"
   },
   {
    "duration": 0,
    "start_time": "2022-12-21T06:33:12.437Z"
   },
   {
    "duration": 0,
    "start_time": "2022-12-21T06:33:12.438Z"
   },
   {
    "duration": 0,
    "start_time": "2022-12-21T06:33:12.439Z"
   },
   {
    "duration": 0,
    "start_time": "2022-12-21T06:33:12.441Z"
   },
   {
    "duration": 0,
    "start_time": "2022-12-21T06:33:12.442Z"
   },
   {
    "duration": 0,
    "start_time": "2022-12-21T06:33:12.444Z"
   },
   {
    "duration": 0,
    "start_time": "2022-12-21T06:33:12.445Z"
   },
   {
    "duration": 0,
    "start_time": "2022-12-21T06:33:12.447Z"
   },
   {
    "duration": 0,
    "start_time": "2022-12-21T06:33:12.448Z"
   },
   {
    "duration": 0,
    "start_time": "2022-12-21T06:33:12.450Z"
   },
   {
    "duration": 0,
    "start_time": "2022-12-21T06:33:12.452Z"
   },
   {
    "duration": 0,
    "start_time": "2022-12-21T06:33:12.453Z"
   },
   {
    "duration": 0,
    "start_time": "2022-12-21T06:33:12.454Z"
   },
   {
    "duration": 0,
    "start_time": "2022-12-21T06:33:12.456Z"
   },
   {
    "duration": 0,
    "start_time": "2022-12-21T06:33:12.457Z"
   },
   {
    "duration": 0,
    "start_time": "2022-12-21T06:33:12.459Z"
   },
   {
    "duration": 0,
    "start_time": "2022-12-21T06:33:12.461Z"
   },
   {
    "duration": 0,
    "start_time": "2022-12-21T06:33:12.462Z"
   },
   {
    "duration": 0,
    "start_time": "2022-12-21T06:33:12.523Z"
   },
   {
    "duration": 0,
    "start_time": "2022-12-21T06:33:12.525Z"
   },
   {
    "duration": 0,
    "start_time": "2022-12-21T06:33:12.526Z"
   },
   {
    "duration": 0,
    "start_time": "2022-12-21T06:33:12.527Z"
   },
   {
    "duration": 0,
    "start_time": "2022-12-21T06:33:12.529Z"
   },
   {
    "duration": 0,
    "start_time": "2022-12-21T06:33:12.530Z"
   },
   {
    "duration": 0,
    "start_time": "2022-12-21T06:33:12.532Z"
   },
   {
    "duration": 0,
    "start_time": "2022-12-21T06:33:12.533Z"
   },
   {
    "duration": 0,
    "start_time": "2022-12-21T06:33:12.535Z"
   },
   {
    "duration": 0,
    "start_time": "2022-12-21T06:33:12.536Z"
   },
   {
    "duration": 0,
    "start_time": "2022-12-21T06:33:12.537Z"
   },
   {
    "duration": 0,
    "start_time": "2022-12-21T06:33:12.539Z"
   },
   {
    "duration": 0,
    "start_time": "2022-12-21T06:33:12.540Z"
   },
   {
    "duration": 0,
    "start_time": "2022-12-21T06:33:12.542Z"
   },
   {
    "duration": 0,
    "start_time": "2022-12-21T06:33:12.544Z"
   },
   {
    "duration": 0,
    "start_time": "2022-12-21T06:33:12.545Z"
   },
   {
    "duration": 0,
    "start_time": "2022-12-21T06:33:12.546Z"
   },
   {
    "duration": 0,
    "start_time": "2022-12-21T06:33:12.548Z"
   },
   {
    "duration": 0,
    "start_time": "2022-12-21T06:33:12.549Z"
   },
   {
    "duration": 0,
    "start_time": "2022-12-21T06:33:12.550Z"
   },
   {
    "duration": 0,
    "start_time": "2022-12-21T06:33:12.552Z"
   },
   {
    "duration": 0,
    "start_time": "2022-12-21T06:33:12.553Z"
   },
   {
    "duration": 0,
    "start_time": "2022-12-21T06:33:12.555Z"
   },
   {
    "duration": 0,
    "start_time": "2022-12-21T06:33:12.556Z"
   },
   {
    "duration": 0,
    "start_time": "2022-12-21T06:33:12.558Z"
   },
   {
    "duration": 0,
    "start_time": "2022-12-21T06:33:12.559Z"
   },
   {
    "duration": 0,
    "start_time": "2022-12-21T06:33:12.623Z"
   },
   {
    "duration": 0,
    "start_time": "2022-12-21T06:33:12.625Z"
   },
   {
    "duration": 0,
    "start_time": "2022-12-21T06:33:12.626Z"
   },
   {
    "duration": 0,
    "start_time": "2022-12-21T06:33:12.627Z"
   },
   {
    "duration": 0,
    "start_time": "2022-12-21T06:33:12.628Z"
   },
   {
    "duration": 0,
    "start_time": "2022-12-21T06:33:12.629Z"
   },
   {
    "duration": 0,
    "start_time": "2022-12-21T06:33:12.630Z"
   },
   {
    "duration": 0,
    "start_time": "2022-12-21T06:33:12.631Z"
   },
   {
    "duration": 0,
    "start_time": "2022-12-21T06:33:12.632Z"
   },
   {
    "duration": 0,
    "start_time": "2022-12-21T06:33:12.633Z"
   },
   {
    "duration": 0,
    "start_time": "2022-12-21T06:33:12.634Z"
   },
   {
    "duration": 0,
    "start_time": "2022-12-21T06:33:12.636Z"
   },
   {
    "duration": 0,
    "start_time": "2022-12-21T06:33:12.636Z"
   },
   {
    "duration": 0,
    "start_time": "2022-12-21T06:33:12.637Z"
   },
   {
    "duration": 0,
    "start_time": "2022-12-21T06:33:12.638Z"
   },
   {
    "duration": 0,
    "start_time": "2022-12-21T06:33:12.639Z"
   },
   {
    "duration": 0,
    "start_time": "2022-12-21T06:33:12.641Z"
   },
   {
    "duration": 0,
    "start_time": "2022-12-21T06:33:12.642Z"
   },
   {
    "duration": 0,
    "start_time": "2022-12-21T06:33:12.643Z"
   },
   {
    "duration": 0,
    "start_time": "2022-12-21T06:33:12.644Z"
   },
   {
    "duration": 0,
    "start_time": "2022-12-21T06:33:12.645Z"
   },
   {
    "duration": 0,
    "start_time": "2022-12-21T06:33:12.646Z"
   },
   {
    "duration": 0,
    "start_time": "2022-12-21T06:33:12.647Z"
   },
   {
    "duration": 0,
    "start_time": "2022-12-21T06:33:12.648Z"
   },
   {
    "duration": 0,
    "start_time": "2022-12-21T06:33:12.648Z"
   },
   {
    "duration": 0,
    "start_time": "2022-12-21T06:33:12.650Z"
   },
   {
    "duration": 0,
    "start_time": "2022-12-21T06:33:12.651Z"
   },
   {
    "duration": 0,
    "start_time": "2022-12-21T06:33:12.652Z"
   },
   {
    "duration": 0,
    "start_time": "2022-12-21T06:33:12.653Z"
   },
   {
    "duration": 0,
    "start_time": "2022-12-21T06:33:12.653Z"
   },
   {
    "duration": 0,
    "start_time": "2022-12-21T06:33:12.655Z"
   },
   {
    "duration": 0,
    "start_time": "2022-12-21T06:33:12.656Z"
   },
   {
    "duration": 1,
    "start_time": "2022-12-21T06:33:12.656Z"
   },
   {
    "duration": 0,
    "start_time": "2022-12-21T06:33:12.657Z"
   },
   {
    "duration": 0,
    "start_time": "2022-12-21T06:33:12.659Z"
   },
   {
    "duration": 0,
    "start_time": "2022-12-21T06:33:12.722Z"
   },
   {
    "duration": 0,
    "start_time": "2022-12-21T06:33:12.723Z"
   },
   {
    "duration": 0,
    "start_time": "2022-12-21T06:33:12.724Z"
   },
   {
    "duration": 0,
    "start_time": "2022-12-21T06:33:12.725Z"
   },
   {
    "duration": 0,
    "start_time": "2022-12-21T06:33:12.726Z"
   },
   {
    "duration": 0,
    "start_time": "2022-12-21T06:33:12.728Z"
   },
   {
    "duration": 0,
    "start_time": "2022-12-21T06:33:12.728Z"
   },
   {
    "duration": 0,
    "start_time": "2022-12-21T06:33:12.729Z"
   },
   {
    "duration": 0,
    "start_time": "2022-12-21T06:33:12.730Z"
   },
   {
    "duration": 0,
    "start_time": "2022-12-21T06:33:12.731Z"
   },
   {
    "duration": 0,
    "start_time": "2022-12-21T06:33:12.733Z"
   },
   {
    "duration": 0,
    "start_time": "2022-12-21T06:33:12.734Z"
   },
   {
    "duration": 0,
    "start_time": "2022-12-21T06:33:12.735Z"
   },
   {
    "duration": 0,
    "start_time": "2022-12-21T06:33:12.736Z"
   },
   {
    "duration": 0,
    "start_time": "2022-12-21T06:33:12.737Z"
   },
   {
    "duration": 0,
    "start_time": "2022-12-21T06:33:12.738Z"
   },
   {
    "duration": 0,
    "start_time": "2022-12-21T06:33:12.739Z"
   },
   {
    "duration": 0,
    "start_time": "2022-12-21T06:33:12.740Z"
   },
   {
    "duration": 0,
    "start_time": "2022-12-21T06:33:12.741Z"
   },
   {
    "duration": 0,
    "start_time": "2022-12-21T06:33:12.741Z"
   },
   {
    "duration": 0,
    "start_time": "2022-12-21T06:33:12.742Z"
   },
   {
    "duration": 0,
    "start_time": "2022-12-21T06:33:12.743Z"
   },
   {
    "duration": 0,
    "start_time": "2022-12-21T06:33:12.744Z"
   },
   {
    "duration": 0,
    "start_time": "2022-12-21T06:33:12.745Z"
   },
   {
    "duration": 3,
    "start_time": "2022-12-21T06:49:36.266Z"
   },
   {
    "duration": 19,
    "start_time": "2022-12-21T06:49:36.275Z"
   },
   {
    "duration": 30,
    "start_time": "2022-12-21T06:49:36.296Z"
   },
   {
    "duration": 24,
    "start_time": "2022-12-21T06:49:36.328Z"
   },
   {
    "duration": 12,
    "start_time": "2022-12-21T06:49:36.355Z"
   },
   {
    "duration": 2225,
    "start_time": "2022-12-21T06:49:36.369Z"
   },
   {
    "duration": 674,
    "start_time": "2022-12-21T06:49:38.596Z"
   },
   {
    "duration": 2792,
    "start_time": "2022-12-21T06:49:39.272Z"
   },
   {
    "duration": 6,
    "start_time": "2022-12-21T06:49:42.065Z"
   },
   {
    "duration": 44,
    "start_time": "2022-12-21T06:49:42.074Z"
   },
   {
    "duration": 107,
    "start_time": "2022-12-21T06:49:42.119Z"
   },
   {
    "duration": 96,
    "start_time": "2022-12-21T06:49:42.227Z"
   },
   {
    "duration": 42096,
    "start_time": "2022-12-21T06:49:42.325Z"
   },
   {
    "duration": 523,
    "start_time": "2022-12-21T06:50:24.423Z"
   },
   {
    "duration": 525,
    "start_time": "2022-12-21T06:50:24.949Z"
   },
   {
    "duration": 106,
    "start_time": "2022-12-21T06:50:25.476Z"
   },
   {
    "duration": 19,
    "start_time": "2022-12-21T06:50:25.583Z"
   },
   {
    "duration": 21,
    "start_time": "2022-12-21T06:50:25.622Z"
   },
   {
    "duration": 151,
    "start_time": "2022-12-21T06:50:25.645Z"
   },
   {
    "duration": 26,
    "start_time": "2022-12-21T06:50:25.798Z"
   },
   {
    "duration": 23,
    "start_time": "2022-12-21T06:50:25.826Z"
   },
   {
    "duration": 116,
    "start_time": "2022-12-21T06:50:25.850Z"
   },
   {
    "duration": 30,
    "start_time": "2022-12-21T06:50:25.967Z"
   },
   {
    "duration": 775,
    "start_time": "2022-12-21T06:50:26.003Z"
   },
   {
    "duration": 17,
    "start_time": "2022-12-21T06:50:26.779Z"
   },
   {
    "duration": 31,
    "start_time": "2022-12-21T06:50:26.798Z"
   },
   {
    "duration": 124,
    "start_time": "2022-12-21T06:50:26.831Z"
   },
   {
    "duration": 25,
    "start_time": "2022-12-21T06:50:26.957Z"
   },
   {
    "duration": 470,
    "start_time": "2022-12-21T06:50:26.983Z"
   },
   {
    "duration": 19,
    "start_time": "2022-12-21T06:50:27.456Z"
   },
   {
    "duration": 19,
    "start_time": "2022-12-21T06:50:27.477Z"
   },
   {
    "duration": 32,
    "start_time": "2022-12-21T06:50:27.498Z"
   },
   {
    "duration": 107,
    "start_time": "2022-12-21T06:50:27.533Z"
   },
   {
    "duration": 24,
    "start_time": "2022-12-21T06:50:27.641Z"
   },
   {
    "duration": 423,
    "start_time": "2022-12-21T06:50:27.667Z"
   },
   {
    "duration": 8,
    "start_time": "2022-12-21T06:50:28.092Z"
   },
   {
    "duration": 60,
    "start_time": "2022-12-21T06:50:28.103Z"
   },
   {
    "duration": 6,
    "start_time": "2022-12-21T06:50:28.165Z"
   },
   {
    "duration": 9,
    "start_time": "2022-12-21T06:50:28.173Z"
   },
   {
    "duration": 6,
    "start_time": "2022-12-21T06:50:28.184Z"
   },
   {
    "duration": 403,
    "start_time": "2022-12-21T06:50:28.192Z"
   },
   {
    "duration": 297,
    "start_time": "2022-12-21T06:50:28.597Z"
   },
   {
    "duration": 28,
    "start_time": "2022-12-21T06:50:28.896Z"
   },
   {
    "duration": 225,
    "start_time": "2022-12-21T06:50:28.925Z"
   },
   {
    "duration": 202,
    "start_time": "2022-12-21T06:50:29.151Z"
   },
   {
    "duration": 9,
    "start_time": "2022-12-21T06:50:29.355Z"
   },
   {
    "duration": 43,
    "start_time": "2022-12-21T06:50:29.366Z"
   },
   {
    "duration": 6,
    "start_time": "2022-12-21T06:50:29.422Z"
   },
   {
    "duration": 35,
    "start_time": "2022-12-21T06:50:29.429Z"
   },
   {
    "duration": 22,
    "start_time": "2022-12-21T06:50:29.466Z"
   },
   {
    "duration": 47,
    "start_time": "2022-12-21T06:50:29.490Z"
   },
   {
    "duration": 73,
    "start_time": "2022-12-21T06:50:29.539Z"
   },
   {
    "duration": 52,
    "start_time": "2022-12-21T06:50:29.621Z"
   },
   {
    "duration": 30,
    "start_time": "2022-12-21T06:50:29.675Z"
   },
   {
    "duration": 4,
    "start_time": "2022-12-21T06:50:29.722Z"
   },
   {
    "duration": 112,
    "start_time": "2022-12-21T06:50:29.727Z"
   },
   {
    "duration": 3,
    "start_time": "2022-12-21T06:50:29.841Z"
   },
   {
    "duration": 15,
    "start_time": "2022-12-21T06:50:29.845Z"
   },
   {
    "duration": 1135,
    "start_time": "2022-12-21T06:50:29.862Z"
   },
   {
    "duration": 980,
    "start_time": "2022-12-21T06:50:30.999Z"
   },
   {
    "duration": 301,
    "start_time": "2022-12-21T06:50:31.981Z"
   },
   {
    "duration": 5,
    "start_time": "2022-12-21T06:50:32.284Z"
   },
   {
    "duration": 6,
    "start_time": "2022-12-21T06:50:32.290Z"
   },
   {
    "duration": 12,
    "start_time": "2022-12-21T06:50:32.297Z"
   },
   {
    "duration": 18,
    "start_time": "2022-12-21T06:50:32.310Z"
   },
   {
    "duration": 3,
    "start_time": "2022-12-21T06:50:32.334Z"
   },
   {
    "duration": 67,
    "start_time": "2022-12-21T06:50:32.339Z"
   },
   {
    "duration": 17,
    "start_time": "2022-12-21T06:50:32.407Z"
   },
   {
    "duration": 4,
    "start_time": "2022-12-21T06:50:32.426Z"
   },
   {
    "duration": 16,
    "start_time": "2022-12-21T06:50:32.432Z"
   },
   {
    "duration": 17,
    "start_time": "2022-12-21T06:50:32.450Z"
   },
   {
    "duration": 3,
    "start_time": "2022-12-21T06:50:32.468Z"
   },
   {
    "duration": 15,
    "start_time": "2022-12-21T06:50:32.473Z"
   },
   {
    "duration": 5,
    "start_time": "2022-12-21T06:50:32.490Z"
   },
   {
    "duration": 384,
    "start_time": "2022-12-21T06:53:02.848Z"
   },
   {
    "duration": 1060,
    "start_time": "2022-12-21T06:53:03.234Z"
   },
   {
    "duration": 3,
    "start_time": "2022-12-21T06:53:04.296Z"
   },
   {
    "duration": 10,
    "start_time": "2022-12-21T06:53:04.301Z"
   },
   {
    "duration": 99,
    "start_time": "2022-12-21T06:53:04.313Z"
   },
   {
    "duration": 0,
    "start_time": "2022-12-21T06:53:04.417Z"
   },
   {
    "duration": 0,
    "start_time": "2022-12-21T06:53:04.418Z"
   },
   {
    "duration": 0,
    "start_time": "2022-12-21T06:53:04.421Z"
   },
   {
    "duration": 0,
    "start_time": "2022-12-21T06:53:04.422Z"
   },
   {
    "duration": 0,
    "start_time": "2022-12-21T06:53:04.423Z"
   },
   {
    "duration": 0,
    "start_time": "2022-12-21T06:53:04.424Z"
   },
   {
    "duration": 0,
    "start_time": "2022-12-21T06:53:04.425Z"
   },
   {
    "duration": 0,
    "start_time": "2022-12-21T06:53:04.426Z"
   },
   {
    "duration": 0,
    "start_time": "2022-12-21T06:53:04.427Z"
   },
   {
    "duration": 0,
    "start_time": "2022-12-21T06:53:04.428Z"
   },
   {
    "duration": 0,
    "start_time": "2022-12-21T06:53:04.429Z"
   },
   {
    "duration": 0,
    "start_time": "2022-12-21T06:53:04.430Z"
   },
   {
    "duration": 0,
    "start_time": "2022-12-21T06:53:04.431Z"
   },
   {
    "duration": 0,
    "start_time": "2022-12-21T06:53:04.431Z"
   },
   {
    "duration": 0,
    "start_time": "2022-12-21T06:53:04.432Z"
   },
   {
    "duration": 0,
    "start_time": "2022-12-21T06:53:04.434Z"
   },
   {
    "duration": 0,
    "start_time": "2022-12-21T06:53:04.434Z"
   },
   {
    "duration": 0,
    "start_time": "2022-12-21T06:53:04.435Z"
   },
   {
    "duration": 0,
    "start_time": "2022-12-21T06:53:04.436Z"
   },
   {
    "duration": 0,
    "start_time": "2022-12-21T06:53:04.437Z"
   },
   {
    "duration": 0,
    "start_time": "2022-12-21T06:53:04.438Z"
   },
   {
    "duration": 0,
    "start_time": "2022-12-21T06:53:04.439Z"
   },
   {
    "duration": 0,
    "start_time": "2022-12-21T06:53:04.440Z"
   },
   {
    "duration": 0,
    "start_time": "2022-12-21T06:53:04.440Z"
   },
   {
    "duration": 0,
    "start_time": "2022-12-21T06:53:04.441Z"
   },
   {
    "duration": 0,
    "start_time": "2022-12-21T06:53:04.442Z"
   },
   {
    "duration": 0,
    "start_time": "2022-12-21T06:53:04.443Z"
   },
   {
    "duration": 0,
    "start_time": "2022-12-21T06:53:04.444Z"
   },
   {
    "duration": 0,
    "start_time": "2022-12-21T06:53:04.445Z"
   },
   {
    "duration": 0,
    "start_time": "2022-12-21T06:53:04.446Z"
   },
   {
    "duration": 0,
    "start_time": "2022-12-21T06:53:04.447Z"
   },
   {
    "duration": 0,
    "start_time": "2022-12-21T06:53:04.447Z"
   },
   {
    "duration": 0,
    "start_time": "2022-12-21T06:53:04.448Z"
   },
   {
    "duration": 0,
    "start_time": "2022-12-21T06:53:04.449Z"
   },
   {
    "duration": 0,
    "start_time": "2022-12-21T06:53:04.450Z"
   },
   {
    "duration": 0,
    "start_time": "2022-12-21T06:53:04.451Z"
   },
   {
    "duration": 0,
    "start_time": "2022-12-21T06:53:04.452Z"
   },
   {
    "duration": 0,
    "start_time": "2022-12-21T06:53:04.452Z"
   },
   {
    "duration": 0,
    "start_time": "2022-12-21T06:53:04.453Z"
   },
   {
    "duration": 0,
    "start_time": "2022-12-21T06:53:04.454Z"
   },
   {
    "duration": 0,
    "start_time": "2022-12-21T06:53:04.456Z"
   },
   {
    "duration": 0,
    "start_time": "2022-12-21T06:53:04.456Z"
   },
   {
    "duration": 0,
    "start_time": "2022-12-21T06:53:04.457Z"
   },
   {
    "duration": 0,
    "start_time": "2022-12-21T06:53:04.458Z"
   },
   {
    "duration": 0,
    "start_time": "2022-12-21T06:53:04.522Z"
   },
   {
    "duration": 0,
    "start_time": "2022-12-21T06:53:04.523Z"
   },
   {
    "duration": 0,
    "start_time": "2022-12-21T06:53:04.524Z"
   },
   {
    "duration": 0,
    "start_time": "2022-12-21T06:53:04.525Z"
   },
   {
    "duration": 0,
    "start_time": "2022-12-21T06:53:04.526Z"
   },
   {
    "duration": 0,
    "start_time": "2022-12-21T06:53:04.527Z"
   },
   {
    "duration": 0,
    "start_time": "2022-12-21T06:53:04.528Z"
   },
   {
    "duration": 0,
    "start_time": "2022-12-21T06:53:04.529Z"
   },
   {
    "duration": 0,
    "start_time": "2022-12-21T06:53:04.530Z"
   },
   {
    "duration": 0,
    "start_time": "2022-12-21T06:53:04.532Z"
   },
   {
    "duration": 0,
    "start_time": "2022-12-21T06:53:04.532Z"
   },
   {
    "duration": 0,
    "start_time": "2022-12-21T06:53:04.533Z"
   },
   {
    "duration": 0,
    "start_time": "2022-12-21T06:53:04.535Z"
   },
   {
    "duration": 0,
    "start_time": "2022-12-21T06:53:04.536Z"
   },
   {
    "duration": 0,
    "start_time": "2022-12-21T06:53:04.537Z"
   },
   {
    "duration": 0,
    "start_time": "2022-12-21T06:53:04.537Z"
   },
   {
    "duration": 0,
    "start_time": "2022-12-21T06:53:04.538Z"
   },
   {
    "duration": 0,
    "start_time": "2022-12-21T06:53:04.540Z"
   },
   {
    "duration": 0,
    "start_time": "2022-12-21T06:53:04.540Z"
   },
   {
    "duration": 0,
    "start_time": "2022-12-21T06:53:04.541Z"
   },
   {
    "duration": 0,
    "start_time": "2022-12-21T06:53:04.543Z"
   },
   {
    "duration": 0,
    "start_time": "2022-12-21T06:53:04.544Z"
   },
   {
    "duration": 0,
    "start_time": "2022-12-21T06:53:04.545Z"
   },
   {
    "duration": 0,
    "start_time": "2022-12-21T06:53:04.546Z"
   },
   {
    "duration": 0,
    "start_time": "2022-12-21T06:53:04.547Z"
   },
   {
    "duration": 0,
    "start_time": "2022-12-21T06:53:04.548Z"
   },
   {
    "duration": 0,
    "start_time": "2022-12-21T06:53:04.549Z"
   },
   {
    "duration": 0,
    "start_time": "2022-12-21T06:53:04.550Z"
   },
   {
    "duration": 0,
    "start_time": "2022-12-21T06:53:04.551Z"
   },
   {
    "duration": 0,
    "start_time": "2022-12-21T06:53:04.552Z"
   },
   {
    "duration": 0,
    "start_time": "2022-12-21T06:53:04.553Z"
   },
   {
    "duration": 0,
    "start_time": "2022-12-21T06:53:04.554Z"
   },
   {
    "duration": 0,
    "start_time": "2022-12-21T06:53:04.556Z"
   },
   {
    "duration": 0,
    "start_time": "2022-12-21T06:53:04.557Z"
   },
   {
    "duration": 0,
    "start_time": "2022-12-21T06:53:04.558Z"
   },
   {
    "duration": 0,
    "start_time": "2022-12-21T06:53:04.559Z"
   },
   {
    "duration": 0,
    "start_time": "2022-12-21T06:53:04.560Z"
   },
   {
    "duration": 0,
    "start_time": "2022-12-21T06:53:04.561Z"
   },
   {
    "duration": 0,
    "start_time": "2022-12-21T06:53:04.622Z"
   },
   {
    "duration": 0,
    "start_time": "2022-12-21T06:53:04.624Z"
   },
   {
    "duration": 0,
    "start_time": "2022-12-21T06:53:04.625Z"
   },
   {
    "duration": 0,
    "start_time": "2022-12-21T06:53:04.626Z"
   },
   {
    "duration": 0,
    "start_time": "2022-12-21T06:53:04.627Z"
   },
   {
    "duration": 0,
    "start_time": "2022-12-21T06:53:04.628Z"
   },
   {
    "duration": 0,
    "start_time": "2022-12-21T06:53:04.629Z"
   },
   {
    "duration": 0,
    "start_time": "2022-12-21T06:53:04.630Z"
   },
   {
    "duration": 0,
    "start_time": "2022-12-21T06:53:04.631Z"
   },
   {
    "duration": 0,
    "start_time": "2022-12-21T06:53:04.632Z"
   },
   {
    "duration": 0,
    "start_time": "2022-12-21T06:53:04.634Z"
   },
   {
    "duration": 0,
    "start_time": "2022-12-21T06:53:04.635Z"
   },
   {
    "duration": 0,
    "start_time": "2022-12-21T06:53:04.636Z"
   },
   {
    "duration": 0,
    "start_time": "2022-12-21T06:53:04.637Z"
   },
   {
    "duration": 0,
    "start_time": "2022-12-21T06:53:04.638Z"
   },
   {
    "duration": 0,
    "start_time": "2022-12-21T06:53:04.640Z"
   },
   {
    "duration": 0,
    "start_time": "2022-12-21T06:53:04.641Z"
   },
   {
    "duration": 0,
    "start_time": "2022-12-21T06:53:04.649Z"
   },
   {
    "duration": 0,
    "start_time": "2022-12-21T06:53:04.650Z"
   },
   {
    "duration": 0,
    "start_time": "2022-12-21T06:53:04.651Z"
   },
   {
    "duration": 0,
    "start_time": "2022-12-21T06:53:04.653Z"
   },
   {
    "duration": 0,
    "start_time": "2022-12-21T06:53:04.653Z"
   },
   {
    "duration": 0,
    "start_time": "2022-12-21T06:53:04.654Z"
   },
   {
    "duration": 0,
    "start_time": "2022-12-21T06:53:04.656Z"
   },
   {
    "duration": 0,
    "start_time": "2022-12-21T06:53:04.656Z"
   },
   {
    "duration": 0,
    "start_time": "2022-12-21T06:53:04.657Z"
   },
   {
    "duration": 0,
    "start_time": "2022-12-21T06:53:04.658Z"
   },
   {
    "duration": 0,
    "start_time": "2022-12-21T06:53:04.659Z"
   },
   {
    "duration": 0,
    "start_time": "2022-12-21T06:53:04.660Z"
   },
   {
    "duration": 0,
    "start_time": "2022-12-21T06:53:04.661Z"
   },
   {
    "duration": 0,
    "start_time": "2022-12-21T06:53:04.721Z"
   },
   {
    "duration": 0,
    "start_time": "2022-12-21T06:53:04.723Z"
   },
   {
    "duration": 0,
    "start_time": "2022-12-21T06:53:04.724Z"
   },
   {
    "duration": 0,
    "start_time": "2022-12-21T06:53:04.725Z"
   },
   {
    "duration": 0,
    "start_time": "2022-12-21T06:53:04.726Z"
   },
   {
    "duration": 0,
    "start_time": "2022-12-21T06:53:04.727Z"
   },
   {
    "duration": 0,
    "start_time": "2022-12-21T06:53:04.728Z"
   },
   {
    "duration": 0,
    "start_time": "2022-12-21T06:53:04.729Z"
   },
   {
    "duration": 0,
    "start_time": "2022-12-21T06:53:04.730Z"
   },
   {
    "duration": 0,
    "start_time": "2022-12-21T06:53:04.731Z"
   },
   {
    "duration": 0,
    "start_time": "2022-12-21T06:53:04.732Z"
   },
   {
    "duration": 0,
    "start_time": "2022-12-21T06:53:04.733Z"
   },
   {
    "duration": 0,
    "start_time": "2022-12-21T06:53:04.734Z"
   },
   {
    "duration": 0,
    "start_time": "2022-12-21T06:53:04.736Z"
   },
   {
    "duration": 0,
    "start_time": "2022-12-21T06:53:04.737Z"
   },
   {
    "duration": 1428,
    "start_time": "2022-12-21T06:53:24.472Z"
   },
   {
    "duration": 2943,
    "start_time": "2022-12-21T06:53:38.806Z"
   },
   {
    "duration": 7,
    "start_time": "2022-12-21T06:53:43.506Z"
   },
   {
    "duration": 50,
    "start_time": "2022-12-21T06:53:45.541Z"
   },
   {
    "duration": 112,
    "start_time": "2022-12-21T06:53:48.281Z"
   },
   {
    "duration": 99,
    "start_time": "2022-12-21T06:53:51.647Z"
   },
   {
    "duration": 42094,
    "start_time": "2022-12-21T06:53:55.310Z"
   },
   {
    "duration": 445,
    "start_time": "2022-12-21T06:54:45.643Z"
   },
   {
    "duration": 538,
    "start_time": "2022-12-21T06:54:48.920Z"
   },
   {
    "duration": 101,
    "start_time": "2022-12-21T06:54:54.343Z"
   },
   {
    "duration": 26,
    "start_time": "2022-12-21T06:54:56.636Z"
   },
   {
    "duration": 21,
    "start_time": "2022-12-21T06:54:59.811Z"
   },
   {
    "duration": 146,
    "start_time": "2022-12-21T06:55:02.425Z"
   },
   {
    "duration": 18,
    "start_time": "2022-12-21T06:55:04.996Z"
   },
   {
    "duration": 17,
    "start_time": "2022-12-21T06:55:07.242Z"
   },
   {
    "duration": 113,
    "start_time": "2022-12-21T06:55:09.492Z"
   },
   {
    "duration": 29,
    "start_time": "2022-12-21T06:55:11.419Z"
   },
   {
    "duration": 714,
    "start_time": "2022-12-21T06:55:14.950Z"
   },
   {
    "duration": 17,
    "start_time": "2022-12-21T06:55:45.071Z"
   },
   {
    "duration": 18,
    "start_time": "2022-12-21T06:55:47.807Z"
   },
   {
    "duration": 91,
    "start_time": "2022-12-21T06:55:50.396Z"
   },
   {
    "duration": 25,
    "start_time": "2022-12-21T06:55:52.842Z"
   },
   {
    "duration": 452,
    "start_time": "2022-12-21T06:55:56.204Z"
   },
   {
    "duration": 18,
    "start_time": "2022-12-21T06:55:59.882Z"
   },
   {
    "duration": 19,
    "start_time": "2022-12-21T06:56:02.582Z"
   },
   {
    "duration": 19,
    "start_time": "2022-12-21T06:56:04.678Z"
   },
   {
    "duration": 91,
    "start_time": "2022-12-21T06:56:06.992Z"
   },
   {
    "duration": 22,
    "start_time": "2022-12-21T06:56:12.005Z"
   },
   {
    "duration": 383,
    "start_time": "2022-12-21T06:56:14.196Z"
   },
   {
    "duration": 7,
    "start_time": "2022-12-21T06:56:17.318Z"
   },
   {
    "duration": 49,
    "start_time": "2022-12-21T06:56:19.566Z"
   },
   {
    "duration": 7,
    "start_time": "2022-12-21T06:56:23.991Z"
   },
   {
    "duration": 4,
    "start_time": "2022-12-21T06:56:26.424Z"
   },
   {
    "duration": 3,
    "start_time": "2022-12-21T06:56:28.920Z"
   },
   {
    "duration": 384,
    "start_time": "2022-12-21T06:56:31.984Z"
   },
   {
    "duration": 288,
    "start_time": "2022-12-21T06:56:34.670Z"
   },
   {
    "duration": 26,
    "start_time": "2022-12-21T06:56:37.635Z"
   },
   {
    "duration": 198,
    "start_time": "2022-12-21T06:56:39.604Z"
   },
   {
    "duration": 191,
    "start_time": "2022-12-21T06:56:42.224Z"
   },
   {
    "duration": 9,
    "start_time": "2022-12-21T06:56:45.649Z"
   },
   {
    "duration": 42,
    "start_time": "2022-12-21T06:56:47.630Z"
   },
   {
    "duration": 6,
    "start_time": "2022-12-21T06:56:51.788Z"
   },
   {
    "duration": 33,
    "start_time": "2022-12-21T06:56:54.343Z"
   },
   {
    "duration": 24,
    "start_time": "2022-12-21T06:56:56.792Z"
   },
   {
    "duration": 25,
    "start_time": "2022-12-21T06:57:04.542Z"
   },
   {
    "duration": 66,
    "start_time": "2022-12-21T06:57:14.836Z"
   },
   {
    "duration": 64,
    "start_time": "2022-12-21T06:57:23.339Z"
   },
   {
    "duration": 29,
    "start_time": "2022-12-21T06:57:25.629Z"
   },
   {
    "duration": 10,
    "start_time": "2022-12-21T06:59:47.002Z"
   },
   {
    "duration": 4,
    "start_time": "2022-12-21T06:59:59.290Z"
   },
   {
    "duration": 71,
    "start_time": "2022-12-21T07:00:08.152Z"
   },
   {
    "duration": 5,
    "start_time": "2022-12-21T07:00:12.986Z"
   },
   {
    "duration": 7,
    "start_time": "2022-12-21T07:03:34.519Z"
   },
   {
    "duration": 3,
    "start_time": "2022-12-21T07:09:08.520Z"
   },
   {
    "duration": 5,
    "start_time": "2022-12-21T07:19:56.242Z"
   },
   {
    "duration": 3,
    "start_time": "2022-12-21T07:20:28.423Z"
   },
   {
    "duration": 35,
    "start_time": "2022-12-21T07:20:44.681Z"
   },
   {
    "duration": 27,
    "start_time": "2022-12-21T07:21:19.508Z"
   },
   {
    "duration": 4,
    "start_time": "2022-12-21T07:21:50.469Z"
   },
   {
    "duration": 2,
    "start_time": "2022-12-21T07:22:12.544Z"
   },
   {
    "duration": 489,
    "start_time": "2022-12-21T07:22:15.548Z"
   },
   {
    "duration": 2175,
    "start_time": "2022-12-21T07:23:16.515Z"
   },
   {
    "duration": 3,
    "start_time": "2022-12-21T07:23:28.844Z"
   },
   {
    "duration": 19,
    "start_time": "2022-12-21T07:23:43.840Z"
   },
   {
    "duration": 6424,
    "start_time": "2022-12-21T07:24:04.403Z"
   },
   {
    "duration": 6260,
    "start_time": "2022-12-21T07:26:02.093Z"
   },
   {
    "duration": 6077,
    "start_time": "2022-12-21T07:26:10.881Z"
   },
   {
    "duration": 57605,
    "start_time": "2022-12-21T07:26:54.340Z"
   },
   {
    "duration": 14713,
    "start_time": "2022-12-21T07:28:25.543Z"
   },
   {
    "duration": 5,
    "start_time": "2022-12-21T07:34:54.293Z"
   },
   {
    "duration": 121,
    "start_time": "2022-12-21T07:34:56.137Z"
   },
   {
    "duration": 3,
    "start_time": "2022-12-21T07:34:59.779Z"
   },
   {
    "duration": 2,
    "start_time": "2022-12-21T07:35:02.282Z"
   },
   {
    "duration": 682,
    "start_time": "2022-12-21T07:35:04.577Z"
   },
   {
    "duration": 1127,
    "start_time": "2022-12-21T07:35:12.197Z"
   },
   {
    "duration": 499,
    "start_time": "2022-12-21T07:37:43.208Z"
   },
   {
    "duration": 355,
    "start_time": "2022-12-21T07:37:45.613Z"
   },
   {
    "duration": 4,
    "start_time": "2022-12-21T07:38:06.346Z"
   },
   {
    "duration": 3,
    "start_time": "2022-12-21T07:38:08.602Z"
   },
   {
    "duration": 14,
    "start_time": "2022-12-21T07:38:11.615Z"
   },
   {
    "duration": 7,
    "start_time": "2022-12-21T07:38:17.953Z"
   },
   {
    "duration": 8,
    "start_time": "2022-12-21T07:38:20.756Z"
   },
   {
    "duration": 9,
    "start_time": "2022-12-21T07:38:22.647Z"
   },
   {
    "duration": 2,
    "start_time": "2022-12-21T07:38:26.507Z"
   },
   {
    "duration": 60,
    "start_time": "2022-12-21T07:38:28.809Z"
   },
   {
    "duration": 16,
    "start_time": "2022-12-21T07:38:32.092Z"
   },
   {
    "duration": 3,
    "start_time": "2022-12-21T07:38:36.086Z"
   },
   {
    "duration": 14,
    "start_time": "2022-12-21T07:38:38.270Z"
   },
   {
    "duration": 7,
    "start_time": "2022-12-21T07:39:13.067Z"
   },
   {
    "duration": 8,
    "start_time": "2022-12-21T07:39:22.607Z"
   },
   {
    "duration": 4,
    "start_time": "2022-12-21T07:39:46.321Z"
   },
   {
    "duration": 15,
    "start_time": "2022-12-21T07:39:57.780Z"
   },
   {
    "duration": 4,
    "start_time": "2022-12-21T07:40:54.878Z"
   },
   {
    "duration": 46,
    "start_time": "2022-12-21T07:47:24.857Z"
   },
   {
    "duration": 3,
    "start_time": "2022-12-21T07:47:27.972Z"
   },
   {
    "duration": 101,
    "start_time": "2022-12-21T07:47:32.987Z"
   },
   {
    "duration": 407,
    "start_time": "2022-12-22T06:56:56.165Z"
   },
   {
    "duration": 1119,
    "start_time": "2022-12-22T06:56:56.574Z"
   },
   {
    "duration": 3,
    "start_time": "2022-12-22T06:56:57.695Z"
   },
   {
    "duration": 6,
    "start_time": "2022-12-22T06:56:57.699Z"
   },
   {
    "duration": 5,
    "start_time": "2022-12-22T06:56:57.706Z"
   },
   {
    "duration": 5,
    "start_time": "2022-12-22T06:56:57.712Z"
   },
   {
    "duration": 105,
    "start_time": "2022-12-22T06:56:57.718Z"
   },
   {
    "duration": 0,
    "start_time": "2022-12-22T06:56:57.827Z"
   },
   {
    "duration": 0,
    "start_time": "2022-12-22T06:56:57.828Z"
   },
   {
    "duration": 0,
    "start_time": "2022-12-22T06:56:57.830Z"
   },
   {
    "duration": 0,
    "start_time": "2022-12-22T06:56:57.830Z"
   },
   {
    "duration": 0,
    "start_time": "2022-12-22T06:56:57.831Z"
   },
   {
    "duration": 0,
    "start_time": "2022-12-22T06:56:57.832Z"
   },
   {
    "duration": 0,
    "start_time": "2022-12-22T06:56:57.834Z"
   },
   {
    "duration": 0,
    "start_time": "2022-12-22T06:56:57.835Z"
   },
   {
    "duration": 0,
    "start_time": "2022-12-22T06:56:57.835Z"
   },
   {
    "duration": 0,
    "start_time": "2022-12-22T06:56:57.836Z"
   },
   {
    "duration": 1,
    "start_time": "2022-12-22T06:56:57.837Z"
   },
   {
    "duration": 0,
    "start_time": "2022-12-22T06:56:57.839Z"
   },
   {
    "duration": 0,
    "start_time": "2022-12-22T06:56:57.840Z"
   },
   {
    "duration": 0,
    "start_time": "2022-12-22T06:56:57.841Z"
   },
   {
    "duration": 0,
    "start_time": "2022-12-22T06:56:57.842Z"
   },
   {
    "duration": 0,
    "start_time": "2022-12-22T06:56:57.843Z"
   },
   {
    "duration": 0,
    "start_time": "2022-12-22T06:56:57.844Z"
   },
   {
    "duration": 0,
    "start_time": "2022-12-22T06:56:57.844Z"
   },
   {
    "duration": 0,
    "start_time": "2022-12-22T06:56:57.845Z"
   },
   {
    "duration": 0,
    "start_time": "2022-12-22T06:56:57.846Z"
   },
   {
    "duration": 0,
    "start_time": "2022-12-22T06:56:57.847Z"
   },
   {
    "duration": 0,
    "start_time": "2022-12-22T06:56:57.848Z"
   },
   {
    "duration": 0,
    "start_time": "2022-12-22T06:56:57.849Z"
   },
   {
    "duration": 0,
    "start_time": "2022-12-22T06:56:57.850Z"
   },
   {
    "duration": 0,
    "start_time": "2022-12-22T06:56:57.851Z"
   },
   {
    "duration": 0,
    "start_time": "2022-12-22T06:56:57.852Z"
   },
   {
    "duration": 0,
    "start_time": "2022-12-22T06:56:57.853Z"
   },
   {
    "duration": 0,
    "start_time": "2022-12-22T06:56:57.897Z"
   },
   {
    "duration": 0,
    "start_time": "2022-12-22T06:56:57.898Z"
   },
   {
    "duration": 0,
    "start_time": "2022-12-22T06:56:57.899Z"
   },
   {
    "duration": 0,
    "start_time": "2022-12-22T06:56:57.900Z"
   },
   {
    "duration": 0,
    "start_time": "2022-12-22T06:56:57.901Z"
   },
   {
    "duration": 0,
    "start_time": "2022-12-22T06:56:57.902Z"
   },
   {
    "duration": 0,
    "start_time": "2022-12-22T06:56:57.903Z"
   },
   {
    "duration": 0,
    "start_time": "2022-12-22T06:56:57.903Z"
   },
   {
    "duration": 0,
    "start_time": "2022-12-22T06:56:57.904Z"
   },
   {
    "duration": 0,
    "start_time": "2022-12-22T06:56:57.905Z"
   },
   {
    "duration": 0,
    "start_time": "2022-12-22T06:56:57.906Z"
   },
   {
    "duration": 0,
    "start_time": "2022-12-22T06:56:57.907Z"
   },
   {
    "duration": 0,
    "start_time": "2022-12-22T06:56:57.908Z"
   },
   {
    "duration": 0,
    "start_time": "2022-12-22T06:56:57.909Z"
   },
   {
    "duration": 0,
    "start_time": "2022-12-22T06:56:57.910Z"
   },
   {
    "duration": 0,
    "start_time": "2022-12-22T06:56:57.911Z"
   },
   {
    "duration": 0,
    "start_time": "2022-12-22T06:56:57.912Z"
   },
   {
    "duration": 0,
    "start_time": "2022-12-22T06:56:57.913Z"
   },
   {
    "duration": 0,
    "start_time": "2022-12-22T06:56:57.914Z"
   },
   {
    "duration": 0,
    "start_time": "2022-12-22T06:56:57.915Z"
   },
   {
    "duration": 0,
    "start_time": "2022-12-22T06:56:57.916Z"
   },
   {
    "duration": 0,
    "start_time": "2022-12-22T06:56:57.917Z"
   },
   {
    "duration": 0,
    "start_time": "2022-12-22T06:56:57.918Z"
   },
   {
    "duration": 0,
    "start_time": "2022-12-22T06:56:57.918Z"
   },
   {
    "duration": 0,
    "start_time": "2022-12-22T06:56:57.919Z"
   },
   {
    "duration": 0,
    "start_time": "2022-12-22T06:56:57.920Z"
   },
   {
    "duration": 0,
    "start_time": "2022-12-22T06:56:57.921Z"
   },
   {
    "duration": 0,
    "start_time": "2022-12-22T06:56:57.922Z"
   },
   {
    "duration": 0,
    "start_time": "2022-12-22T06:56:57.923Z"
   },
   {
    "duration": 0,
    "start_time": "2022-12-22T06:56:57.924Z"
   },
   {
    "duration": 0,
    "start_time": "2022-12-22T06:56:57.925Z"
   },
   {
    "duration": 0,
    "start_time": "2022-12-22T06:56:57.926Z"
   },
   {
    "duration": 0,
    "start_time": "2022-12-22T06:56:57.927Z"
   },
   {
    "duration": 0,
    "start_time": "2022-12-22T06:56:57.928Z"
   },
   {
    "duration": 0,
    "start_time": "2022-12-22T06:56:57.929Z"
   },
   {
    "duration": 0,
    "start_time": "2022-12-22T06:56:57.930Z"
   },
   {
    "duration": 0,
    "start_time": "2022-12-22T06:56:57.931Z"
   },
   {
    "duration": 0,
    "start_time": "2022-12-22T06:56:57.931Z"
   },
   {
    "duration": 0,
    "start_time": "2022-12-22T06:56:57.933Z"
   },
   {
    "duration": 0,
    "start_time": "2022-12-22T06:56:57.998Z"
   },
   {
    "duration": 0,
    "start_time": "2022-12-22T06:56:57.999Z"
   },
   {
    "duration": 0,
    "start_time": "2022-12-22T06:56:58.000Z"
   },
   {
    "duration": 0,
    "start_time": "2022-12-22T06:56:58.001Z"
   },
   {
    "duration": 0,
    "start_time": "2022-12-22T06:56:58.001Z"
   },
   {
    "duration": 0,
    "start_time": "2022-12-22T06:56:58.003Z"
   },
   {
    "duration": 0,
    "start_time": "2022-12-22T06:56:58.003Z"
   },
   {
    "duration": 0,
    "start_time": "2022-12-22T06:56:58.005Z"
   },
   {
    "duration": 0,
    "start_time": "2022-12-22T06:56:58.006Z"
   },
   {
    "duration": 0,
    "start_time": "2022-12-22T06:56:58.007Z"
   },
   {
    "duration": 0,
    "start_time": "2022-12-22T06:56:58.008Z"
   },
   {
    "duration": 0,
    "start_time": "2022-12-22T06:56:58.009Z"
   },
   {
    "duration": 1,
    "start_time": "2022-12-22T06:56:58.009Z"
   },
   {
    "duration": 0,
    "start_time": "2022-12-22T06:56:58.010Z"
   },
   {
    "duration": 0,
    "start_time": "2022-12-22T06:56:58.011Z"
   },
   {
    "duration": 0,
    "start_time": "2022-12-22T06:56:58.013Z"
   },
   {
    "duration": 0,
    "start_time": "2022-12-22T06:56:58.014Z"
   },
   {
    "duration": 0,
    "start_time": "2022-12-22T06:56:58.015Z"
   },
   {
    "duration": 0,
    "start_time": "2022-12-22T06:56:58.015Z"
   },
   {
    "duration": 1,
    "start_time": "2022-12-22T06:56:58.016Z"
   },
   {
    "duration": 0,
    "start_time": "2022-12-22T06:56:58.018Z"
   },
   {
    "duration": 1,
    "start_time": "2022-12-22T06:56:58.018Z"
   },
   {
    "duration": 0,
    "start_time": "2022-12-22T06:56:58.019Z"
   },
   {
    "duration": 0,
    "start_time": "2022-12-22T06:56:58.020Z"
   },
   {
    "duration": 0,
    "start_time": "2022-12-22T06:56:58.021Z"
   },
   {
    "duration": 0,
    "start_time": "2022-12-22T06:56:58.022Z"
   },
   {
    "duration": 0,
    "start_time": "2022-12-22T06:56:58.023Z"
   },
   {
    "duration": 0,
    "start_time": "2022-12-22T06:56:58.024Z"
   },
   {
    "duration": 0,
    "start_time": "2022-12-22T06:56:58.025Z"
   },
   {
    "duration": 0,
    "start_time": "2022-12-22T06:56:58.026Z"
   },
   {
    "duration": 0,
    "start_time": "2022-12-22T06:56:58.027Z"
   },
   {
    "duration": 0,
    "start_time": "2022-12-22T06:56:58.028Z"
   },
   {
    "duration": 0,
    "start_time": "2022-12-22T06:56:58.029Z"
   },
   {
    "duration": 0,
    "start_time": "2022-12-22T06:56:58.030Z"
   },
   {
    "duration": 0,
    "start_time": "2022-12-22T06:56:58.032Z"
   },
   {
    "duration": 0,
    "start_time": "2022-12-22T06:56:58.032Z"
   },
   {
    "duration": 0,
    "start_time": "2022-12-22T06:56:58.033Z"
   },
   {
    "duration": 0,
    "start_time": "2022-12-22T06:56:58.098Z"
   },
   {
    "duration": 0,
    "start_time": "2022-12-22T06:56:58.099Z"
   },
   {
    "duration": 0,
    "start_time": "2022-12-22T06:56:58.100Z"
   },
   {
    "duration": 0,
    "start_time": "2022-12-22T06:56:58.101Z"
   },
   {
    "duration": 0,
    "start_time": "2022-12-22T06:56:58.102Z"
   },
   {
    "duration": 0,
    "start_time": "2022-12-22T06:56:58.103Z"
   },
   {
    "duration": 0,
    "start_time": "2022-12-22T06:56:58.104Z"
   },
   {
    "duration": 0,
    "start_time": "2022-12-22T06:56:58.105Z"
   },
   {
    "duration": 0,
    "start_time": "2022-12-22T06:56:58.106Z"
   },
   {
    "duration": 0,
    "start_time": "2022-12-22T06:56:58.106Z"
   },
   {
    "duration": 0,
    "start_time": "2022-12-22T06:56:58.108Z"
   },
   {
    "duration": 0,
    "start_time": "2022-12-22T06:56:58.109Z"
   },
   {
    "duration": 0,
    "start_time": "2022-12-22T06:56:58.109Z"
   },
   {
    "duration": 0,
    "start_time": "2022-12-22T06:56:58.110Z"
   },
   {
    "duration": 0,
    "start_time": "2022-12-22T06:56:58.111Z"
   },
   {
    "duration": 0,
    "start_time": "2022-12-22T06:56:58.112Z"
   },
   {
    "duration": 0,
    "start_time": "2022-12-22T06:56:58.113Z"
   },
   {
    "duration": 0,
    "start_time": "2022-12-22T06:56:58.114Z"
   },
   {
    "duration": 0,
    "start_time": "2022-12-22T06:56:58.115Z"
   },
   {
    "duration": 0,
    "start_time": "2022-12-22T06:56:58.115Z"
   },
   {
    "duration": 0,
    "start_time": "2022-12-22T06:56:58.116Z"
   },
   {
    "duration": 0,
    "start_time": "2022-12-22T06:56:58.117Z"
   },
   {
    "duration": 0,
    "start_time": "2022-12-22T06:56:58.118Z"
   },
   {
    "duration": 0,
    "start_time": "2022-12-22T06:56:58.119Z"
   },
   {
    "duration": 0,
    "start_time": "2022-12-22T06:56:58.120Z"
   },
   {
    "duration": 0,
    "start_time": "2022-12-22T06:56:58.121Z"
   },
   {
    "duration": 0,
    "start_time": "2022-12-22T06:56:58.122Z"
   },
   {
    "duration": 0,
    "start_time": "2022-12-22T06:56:58.123Z"
   },
   {
    "duration": 0,
    "start_time": "2022-12-22T06:56:58.123Z"
   },
   {
    "duration": 0,
    "start_time": "2022-12-22T06:56:58.124Z"
   },
   {
    "duration": 0,
    "start_time": "2022-12-22T06:56:58.125Z"
   },
   {
    "duration": 0,
    "start_time": "2022-12-22T06:56:58.126Z"
   },
   {
    "duration": 0,
    "start_time": "2022-12-22T06:56:58.127Z"
   },
   {
    "duration": 0,
    "start_time": "2022-12-22T06:56:58.128Z"
   },
   {
    "duration": 0,
    "start_time": "2022-12-22T06:56:58.129Z"
   },
   {
    "duration": 0,
    "start_time": "2022-12-22T06:56:58.130Z"
   },
   {
    "duration": 0,
    "start_time": "2022-12-22T06:56:58.131Z"
   },
   {
    "duration": 63,
    "start_time": "2022-12-22T07:05:51.077Z"
   },
   {
    "duration": 9,
    "start_time": "2022-12-22T07:06:01.727Z"
   },
   {
    "duration": 52,
    "start_time": "2022-12-22T07:06:15.986Z"
   },
   {
    "duration": 3,
    "start_time": "2022-12-22T07:07:16.453Z"
   },
   {
    "duration": 3,
    "start_time": "2022-12-22T07:07:44.611Z"
   },
   {
    "duration": 1027,
    "start_time": "2022-12-22T07:07:44.623Z"
   },
   {
    "duration": 4,
    "start_time": "2022-12-22T07:07:45.652Z"
   },
   {
    "duration": 48,
    "start_time": "2022-12-22T07:07:45.658Z"
   },
   {
    "duration": 134,
    "start_time": "2022-12-22T07:07:45.708Z"
   },
   {
    "duration": 102,
    "start_time": "2022-12-22T07:07:45.844Z"
   },
   {
    "duration": 9,
    "start_time": "2022-12-22T07:07:45.948Z"
   },
   {
    "duration": 0,
    "start_time": "2022-12-22T07:07:45.964Z"
   },
   {
    "duration": 0,
    "start_time": "2022-12-22T07:07:45.965Z"
   },
   {
    "duration": 0,
    "start_time": "2022-12-22T07:07:45.967Z"
   },
   {
    "duration": 0,
    "start_time": "2022-12-22T07:07:45.968Z"
   },
   {
    "duration": 0,
    "start_time": "2022-12-22T07:07:45.970Z"
   },
   {
    "duration": 0,
    "start_time": "2022-12-22T07:07:45.971Z"
   },
   {
    "duration": 0,
    "start_time": "2022-12-22T07:07:45.972Z"
   },
   {
    "duration": 0,
    "start_time": "2022-12-22T07:07:45.997Z"
   },
   {
    "duration": 0,
    "start_time": "2022-12-22T07:07:45.998Z"
   },
   {
    "duration": 0,
    "start_time": "2022-12-22T07:07:45.999Z"
   },
   {
    "duration": 0,
    "start_time": "2022-12-22T07:07:45.999Z"
   },
   {
    "duration": 0,
    "start_time": "2022-12-22T07:07:46.000Z"
   },
   {
    "duration": 0,
    "start_time": "2022-12-22T07:07:46.001Z"
   },
   {
    "duration": 0,
    "start_time": "2022-12-22T07:07:46.002Z"
   },
   {
    "duration": 0,
    "start_time": "2022-12-22T07:07:46.003Z"
   },
   {
    "duration": 0,
    "start_time": "2022-12-22T07:07:46.004Z"
   },
   {
    "duration": 0,
    "start_time": "2022-12-22T07:07:46.005Z"
   },
   {
    "duration": 0,
    "start_time": "2022-12-22T07:07:46.006Z"
   },
   {
    "duration": 0,
    "start_time": "2022-12-22T07:07:46.007Z"
   },
   {
    "duration": 0,
    "start_time": "2022-12-22T07:07:46.008Z"
   },
   {
    "duration": 0,
    "start_time": "2022-12-22T07:07:46.009Z"
   },
   {
    "duration": 0,
    "start_time": "2022-12-22T07:07:46.010Z"
   },
   {
    "duration": 0,
    "start_time": "2022-12-22T07:07:46.011Z"
   },
   {
    "duration": 0,
    "start_time": "2022-12-22T07:07:46.012Z"
   },
   {
    "duration": 0,
    "start_time": "2022-12-22T07:07:46.013Z"
   },
   {
    "duration": 0,
    "start_time": "2022-12-22T07:07:46.014Z"
   },
   {
    "duration": 0,
    "start_time": "2022-12-22T07:07:46.015Z"
   },
   {
    "duration": 0,
    "start_time": "2022-12-22T07:07:46.016Z"
   },
   {
    "duration": 0,
    "start_time": "2022-12-22T07:07:46.018Z"
   },
   {
    "duration": 0,
    "start_time": "2022-12-22T07:07:46.019Z"
   },
   {
    "duration": 0,
    "start_time": "2022-12-22T07:07:46.021Z"
   },
   {
    "duration": 0,
    "start_time": "2022-12-22T07:07:46.023Z"
   },
   {
    "duration": 0,
    "start_time": "2022-12-22T07:07:46.024Z"
   },
   {
    "duration": 0,
    "start_time": "2022-12-22T07:07:46.026Z"
   },
   {
    "duration": 0,
    "start_time": "2022-12-22T07:07:46.026Z"
   },
   {
    "duration": 0,
    "start_time": "2022-12-22T07:07:46.028Z"
   },
   {
    "duration": 0,
    "start_time": "2022-12-22T07:07:46.028Z"
   },
   {
    "duration": 0,
    "start_time": "2022-12-22T07:07:46.029Z"
   },
   {
    "duration": 0,
    "start_time": "2022-12-22T07:07:46.030Z"
   },
   {
    "duration": 0,
    "start_time": "2022-12-22T07:07:46.031Z"
   },
   {
    "duration": 0,
    "start_time": "2022-12-22T07:07:46.033Z"
   },
   {
    "duration": 0,
    "start_time": "2022-12-22T07:07:46.098Z"
   },
   {
    "duration": 0,
    "start_time": "2022-12-22T07:07:46.099Z"
   },
   {
    "duration": 0,
    "start_time": "2022-12-22T07:07:46.100Z"
   },
   {
    "duration": 0,
    "start_time": "2022-12-22T07:07:46.102Z"
   },
   {
    "duration": 0,
    "start_time": "2022-12-22T07:07:46.103Z"
   },
   {
    "duration": 0,
    "start_time": "2022-12-22T07:07:46.105Z"
   },
   {
    "duration": 0,
    "start_time": "2022-12-22T07:07:46.106Z"
   },
   {
    "duration": 0,
    "start_time": "2022-12-22T07:07:46.107Z"
   },
   {
    "duration": 0,
    "start_time": "2022-12-22T07:07:46.109Z"
   },
   {
    "duration": 0,
    "start_time": "2022-12-22T07:07:46.110Z"
   },
   {
    "duration": 0,
    "start_time": "2022-12-22T07:07:46.111Z"
   },
   {
    "duration": 0,
    "start_time": "2022-12-22T07:07:46.112Z"
   },
   {
    "duration": 0,
    "start_time": "2022-12-22T07:07:46.114Z"
   },
   {
    "duration": 0,
    "start_time": "2022-12-22T07:07:46.115Z"
   },
   {
    "duration": 0,
    "start_time": "2022-12-22T07:07:46.116Z"
   },
   {
    "duration": 0,
    "start_time": "2022-12-22T07:07:46.121Z"
   },
   {
    "duration": 0,
    "start_time": "2022-12-22T07:07:46.122Z"
   },
   {
    "duration": 0,
    "start_time": "2022-12-22T07:07:46.123Z"
   },
   {
    "duration": 0,
    "start_time": "2022-12-22T07:07:46.124Z"
   },
   {
    "duration": 0,
    "start_time": "2022-12-22T07:07:46.125Z"
   },
   {
    "duration": 0,
    "start_time": "2022-12-22T07:07:46.126Z"
   },
   {
    "duration": 0,
    "start_time": "2022-12-22T07:07:46.127Z"
   },
   {
    "duration": 0,
    "start_time": "2022-12-22T07:07:46.128Z"
   },
   {
    "duration": 0,
    "start_time": "2022-12-22T07:07:46.129Z"
   },
   {
    "duration": 0,
    "start_time": "2022-12-22T07:07:46.130Z"
   },
   {
    "duration": 0,
    "start_time": "2022-12-22T07:07:46.131Z"
   },
   {
    "duration": 0,
    "start_time": "2022-12-22T07:07:46.132Z"
   },
   {
    "duration": 0,
    "start_time": "2022-12-22T07:07:46.133Z"
   },
   {
    "duration": 0,
    "start_time": "2022-12-22T07:07:46.134Z"
   },
   {
    "duration": 0,
    "start_time": "2022-12-22T07:07:46.134Z"
   },
   {
    "duration": 0,
    "start_time": "2022-12-22T07:07:46.135Z"
   },
   {
    "duration": 0,
    "start_time": "2022-12-22T07:07:46.197Z"
   },
   {
    "duration": 0,
    "start_time": "2022-12-22T07:07:46.198Z"
   },
   {
    "duration": 0,
    "start_time": "2022-12-22T07:07:46.199Z"
   },
   {
    "duration": 0,
    "start_time": "2022-12-22T07:07:46.200Z"
   },
   {
    "duration": 0,
    "start_time": "2022-12-22T07:07:46.202Z"
   },
   {
    "duration": 0,
    "start_time": "2022-12-22T07:07:46.203Z"
   },
   {
    "duration": 0,
    "start_time": "2022-12-22T07:07:46.204Z"
   },
   {
    "duration": 0,
    "start_time": "2022-12-22T07:07:46.205Z"
   },
   {
    "duration": 0,
    "start_time": "2022-12-22T07:07:46.206Z"
   },
   {
    "duration": 0,
    "start_time": "2022-12-22T07:07:46.207Z"
   },
   {
    "duration": 0,
    "start_time": "2022-12-22T07:07:46.208Z"
   },
   {
    "duration": 0,
    "start_time": "2022-12-22T07:07:46.209Z"
   },
   {
    "duration": 0,
    "start_time": "2022-12-22T07:07:46.210Z"
   },
   {
    "duration": 0,
    "start_time": "2022-12-22T07:07:46.211Z"
   },
   {
    "duration": 0,
    "start_time": "2022-12-22T07:07:46.212Z"
   },
   {
    "duration": 0,
    "start_time": "2022-12-22T07:07:46.213Z"
   },
   {
    "duration": 0,
    "start_time": "2022-12-22T07:07:46.214Z"
   },
   {
    "duration": 0,
    "start_time": "2022-12-22T07:07:46.215Z"
   },
   {
    "duration": 0,
    "start_time": "2022-12-22T07:07:46.216Z"
   },
   {
    "duration": 0,
    "start_time": "2022-12-22T07:07:46.216Z"
   },
   {
    "duration": 0,
    "start_time": "2022-12-22T07:07:46.217Z"
   },
   {
    "duration": 0,
    "start_time": "2022-12-22T07:07:46.218Z"
   },
   {
    "duration": 0,
    "start_time": "2022-12-22T07:07:46.219Z"
   },
   {
    "duration": 0,
    "start_time": "2022-12-22T07:07:46.220Z"
   },
   {
    "duration": 0,
    "start_time": "2022-12-22T07:07:46.221Z"
   },
   {
    "duration": 0,
    "start_time": "2022-12-22T07:07:46.222Z"
   },
   {
    "duration": 0,
    "start_time": "2022-12-22T07:07:46.223Z"
   },
   {
    "duration": 0,
    "start_time": "2022-12-22T07:07:46.224Z"
   },
   {
    "duration": 0,
    "start_time": "2022-12-22T07:07:46.225Z"
   },
   {
    "duration": 0,
    "start_time": "2022-12-22T07:07:46.227Z"
   },
   {
    "duration": 0,
    "start_time": "2022-12-22T07:07:46.227Z"
   },
   {
    "duration": 0,
    "start_time": "2022-12-22T07:07:46.228Z"
   },
   {
    "duration": 1,
    "start_time": "2022-12-22T07:07:46.229Z"
   },
   {
    "duration": 0,
    "start_time": "2022-12-22T07:07:46.230Z"
   },
   {
    "duration": 0,
    "start_time": "2022-12-22T07:07:46.232Z"
   },
   {
    "duration": 0,
    "start_time": "2022-12-22T07:07:46.232Z"
   },
   {
    "duration": 0,
    "start_time": "2022-12-22T07:07:46.234Z"
   },
   {
    "duration": 0,
    "start_time": "2022-12-22T07:07:46.235Z"
   },
   {
    "duration": 0,
    "start_time": "2022-12-22T07:07:46.299Z"
   },
   {
    "duration": 0,
    "start_time": "2022-12-22T07:07:46.300Z"
   },
   {
    "duration": 0,
    "start_time": "2022-12-22T07:07:46.302Z"
   },
   {
    "duration": 0,
    "start_time": "2022-12-22T07:07:46.303Z"
   },
   {
    "duration": 0,
    "start_time": "2022-12-22T07:07:46.304Z"
   },
   {
    "duration": 0,
    "start_time": "2022-12-22T07:07:46.305Z"
   },
   {
    "duration": 0,
    "start_time": "2022-12-22T07:07:46.306Z"
   },
   {
    "duration": 0,
    "start_time": "2022-12-22T07:07:46.307Z"
   },
   {
    "duration": 0,
    "start_time": "2022-12-22T07:07:46.308Z"
   },
   {
    "duration": 0,
    "start_time": "2022-12-22T07:07:46.309Z"
   },
   {
    "duration": 0,
    "start_time": "2022-12-22T07:07:46.310Z"
   },
   {
    "duration": 0,
    "start_time": "2022-12-22T07:07:46.311Z"
   },
   {
    "duration": 0,
    "start_time": "2022-12-22T07:07:46.312Z"
   },
   {
    "duration": 0,
    "start_time": "2022-12-22T07:07:46.313Z"
   },
   {
    "duration": 0,
    "start_time": "2022-12-22T07:07:46.314Z"
   },
   {
    "duration": 0,
    "start_time": "2022-12-22T07:07:46.315Z"
   },
   {
    "duration": 0,
    "start_time": "2022-12-22T07:07:46.316Z"
   },
   {
    "duration": 0,
    "start_time": "2022-12-22T07:07:46.317Z"
   },
   {
    "duration": 0,
    "start_time": "2022-12-22T07:07:46.318Z"
   },
   {
    "duration": 0,
    "start_time": "2022-12-22T07:07:46.319Z"
   },
   {
    "duration": 78,
    "start_time": "2022-12-22T07:07:46.324Z"
   },
   {
    "duration": 8,
    "start_time": "2022-12-22T07:07:46.404Z"
   },
   {
    "duration": 0,
    "start_time": "2022-12-22T07:07:46.414Z"
   },
   {
    "duration": 0,
    "start_time": "2022-12-22T07:07:46.416Z"
   },
   {
    "duration": 2,
    "start_time": "2022-12-22T07:09:01.552Z"
   },
   {
    "duration": 2,
    "start_time": "2022-12-22T07:09:06.956Z"
   },
   {
    "duration": 411,
    "start_time": "2022-12-22T07:09:06.965Z"
   },
   {
    "duration": 480,
    "start_time": "2022-12-22T07:09:07.378Z"
   },
   {
    "duration": 149,
    "start_time": "2022-12-22T07:09:07.859Z"
   },
   {
    "duration": 18,
    "start_time": "2022-12-22T07:09:08.010Z"
   },
   {
    "duration": 20,
    "start_time": "2022-12-22T07:09:08.029Z"
   },
   {
    "duration": 161,
    "start_time": "2022-12-22T07:09:08.051Z"
   },
   {
    "duration": 18,
    "start_time": "2022-12-22T07:09:08.214Z"
   },
   {
    "duration": 18,
    "start_time": "2022-12-22T07:09:08.234Z"
   },
   {
    "duration": 108,
    "start_time": "2022-12-22T07:09:08.253Z"
   },
   {
    "duration": 42,
    "start_time": "2022-12-22T07:09:08.364Z"
   },
   {
    "duration": 801,
    "start_time": "2022-12-22T07:09:08.407Z"
   },
   {
    "duration": 17,
    "start_time": "2022-12-22T07:09:09.210Z"
   },
   {
    "duration": 19,
    "start_time": "2022-12-22T07:09:09.229Z"
   },
   {
    "duration": 107,
    "start_time": "2022-12-22T07:09:09.249Z"
   },
   {
    "duration": 21,
    "start_time": "2022-12-22T07:09:09.357Z"
   },
   {
    "duration": 450,
    "start_time": "2022-12-22T07:09:09.380Z"
   },
   {
    "duration": 18,
    "start_time": "2022-12-22T07:09:09.832Z"
   },
   {
    "duration": 19,
    "start_time": "2022-12-22T07:09:09.851Z"
   },
   {
    "duration": 32,
    "start_time": "2022-12-22T07:09:09.871Z"
   },
   {
    "duration": 119,
    "start_time": "2022-12-22T07:09:09.905Z"
   },
   {
    "duration": 31,
    "start_time": "2022-12-22T07:09:10.026Z"
   },
   {
    "duration": 381,
    "start_time": "2022-12-22T07:09:10.059Z"
   },
   {
    "duration": 7,
    "start_time": "2022-12-22T07:09:10.441Z"
   },
   {
    "duration": 57,
    "start_time": "2022-12-22T07:09:10.449Z"
   },
   {
    "duration": 5,
    "start_time": "2022-12-22T07:09:10.508Z"
   },
   {
    "duration": 4,
    "start_time": "2022-12-22T07:09:10.515Z"
   },
   {
    "duration": 11,
    "start_time": "2022-12-22T07:09:10.520Z"
   },
   {
    "duration": 440,
    "start_time": "2022-12-22T07:09:10.536Z"
   },
   {
    "duration": 366,
    "start_time": "2022-12-22T07:09:10.978Z"
   },
   {
    "duration": 20,
    "start_time": "2022-12-22T07:09:11.346Z"
   },
   {
    "duration": 194,
    "start_time": "2022-12-22T07:09:11.367Z"
   },
   {
    "duration": 185,
    "start_time": "2022-12-22T07:09:11.563Z"
   },
   {
    "duration": 9,
    "start_time": "2022-12-22T07:09:11.750Z"
   },
   {
    "duration": 56,
    "start_time": "2022-12-22T07:09:11.760Z"
   },
   {
    "duration": 6,
    "start_time": "2022-12-22T07:09:11.817Z"
   },
   {
    "duration": 42,
    "start_time": "2022-12-22T07:09:11.824Z"
   },
   {
    "duration": 37,
    "start_time": "2022-12-22T07:09:11.867Z"
   },
   {
    "duration": 28,
    "start_time": "2022-12-22T07:09:11.905Z"
   },
   {
    "duration": 93,
    "start_time": "2022-12-22T07:09:11.934Z"
   },
   {
    "duration": 69,
    "start_time": "2022-12-22T07:09:12.029Z"
   },
   {
    "duration": 27,
    "start_time": "2022-12-22T07:09:12.100Z"
   },
   {
    "duration": 7,
    "start_time": "2022-12-22T07:09:12.129Z"
   },
   {
    "duration": 4,
    "start_time": "2022-12-22T07:09:12.137Z"
   },
   {
    "duration": 7,
    "start_time": "2022-12-22T07:09:12.142Z"
   },
   {
    "duration": 47,
    "start_time": "2022-12-22T07:09:12.150Z"
   },
   {
    "duration": 15,
    "start_time": "2022-12-22T07:09:12.199Z"
   },
   {
    "duration": 5,
    "start_time": "2022-12-22T07:09:12.215Z"
   },
   {
    "duration": 181,
    "start_time": "2022-12-22T07:09:12.221Z"
   },
   {
    "duration": 2,
    "start_time": "2022-12-22T07:09:12.404Z"
   },
   {
    "duration": 6,
    "start_time": "2022-12-22T07:09:12.407Z"
   },
   {
    "duration": 694,
    "start_time": "2022-12-22T07:09:12.414Z"
   },
   {
    "duration": 953,
    "start_time": "2022-12-22T07:09:13.109Z"
   },
   {
    "duration": 304,
    "start_time": "2022-12-22T07:09:14.064Z"
   },
   {
    "duration": 387,
    "start_time": "2022-12-22T07:09:14.370Z"
   },
   {
    "duration": 11,
    "start_time": "2022-12-22T07:09:14.760Z"
   },
   {
    "duration": 23,
    "start_time": "2022-12-22T07:09:14.773Z"
   },
   {
    "duration": 20,
    "start_time": "2022-12-22T07:09:14.798Z"
   },
   {
    "duration": 84,
    "start_time": "2022-12-22T07:09:14.820Z"
   },
   {
    "duration": 56,
    "start_time": "2022-12-22T07:09:14.906Z"
   },
   {
    "duration": 39,
    "start_time": "2022-12-22T07:09:14.963Z"
   },
   {
    "duration": 76,
    "start_time": "2022-12-22T07:09:15.004Z"
   },
   {
    "duration": 14,
    "start_time": "2022-12-22T07:09:15.081Z"
   },
   {
    "duration": 18,
    "start_time": "2022-12-22T07:09:15.096Z"
   },
   {
    "duration": 31,
    "start_time": "2022-12-22T07:09:15.115Z"
   },
   {
    "duration": 32,
    "start_time": "2022-12-22T07:09:15.148Z"
   },
   {
    "duration": 25,
    "start_time": "2022-12-22T07:09:15.181Z"
   },
   {
    "duration": 36,
    "start_time": "2022-12-22T07:09:15.207Z"
   },
   {
    "duration": 30,
    "start_time": "2022-12-22T07:09:15.244Z"
   },
   {
    "duration": 32,
    "start_time": "2022-12-22T07:09:15.275Z"
   },
   {
    "duration": 37,
    "start_time": "2022-12-22T07:09:15.308Z"
   },
   {
    "duration": 19,
    "start_time": "2022-12-22T07:09:15.346Z"
   },
   {
    "duration": 493,
    "start_time": "2022-12-22T07:09:15.367Z"
   },
   {
    "duration": 51,
    "start_time": "2022-12-22T07:09:15.862Z"
   },
   {
    "duration": 0,
    "start_time": "2022-12-22T07:09:15.916Z"
   },
   {
    "duration": 0,
    "start_time": "2022-12-22T07:09:15.917Z"
   },
   {
    "duration": 0,
    "start_time": "2022-12-22T07:09:15.918Z"
   },
   {
    "duration": 0,
    "start_time": "2022-12-22T07:09:15.919Z"
   },
   {
    "duration": 0,
    "start_time": "2022-12-22T07:09:15.920Z"
   },
   {
    "duration": 0,
    "start_time": "2022-12-22T07:09:15.921Z"
   },
   {
    "duration": 0,
    "start_time": "2022-12-22T07:09:15.921Z"
   },
   {
    "duration": 0,
    "start_time": "2022-12-22T07:09:15.922Z"
   },
   {
    "duration": 0,
    "start_time": "2022-12-22T07:09:15.923Z"
   },
   {
    "duration": 0,
    "start_time": "2022-12-22T07:09:15.924Z"
   },
   {
    "duration": 0,
    "start_time": "2022-12-22T07:09:15.925Z"
   },
   {
    "duration": 0,
    "start_time": "2022-12-22T07:09:15.927Z"
   },
   {
    "duration": 0,
    "start_time": "2022-12-22T07:09:15.928Z"
   },
   {
    "duration": 0,
    "start_time": "2022-12-22T07:09:15.929Z"
   },
   {
    "duration": 0,
    "start_time": "2022-12-22T07:09:15.930Z"
   },
   {
    "duration": 0,
    "start_time": "2022-12-22T07:09:15.931Z"
   },
   {
    "duration": 0,
    "start_time": "2022-12-22T07:09:15.932Z"
   },
   {
    "duration": 0,
    "start_time": "2022-12-22T07:09:15.933Z"
   },
   {
    "duration": 0,
    "start_time": "2022-12-22T07:09:15.934Z"
   },
   {
    "duration": 0,
    "start_time": "2022-12-22T07:09:15.935Z"
   },
   {
    "duration": 0,
    "start_time": "2022-12-22T07:09:15.936Z"
   },
   {
    "duration": 0,
    "start_time": "2022-12-22T07:09:15.937Z"
   },
   {
    "duration": 0,
    "start_time": "2022-12-22T07:09:15.938Z"
   },
   {
    "duration": 0,
    "start_time": "2022-12-22T07:09:15.939Z"
   },
   {
    "duration": 0,
    "start_time": "2022-12-22T07:09:15.940Z"
   },
   {
    "duration": 0,
    "start_time": "2022-12-22T07:09:15.941Z"
   },
   {
    "duration": 0,
    "start_time": "2022-12-22T07:09:15.942Z"
   },
   {
    "duration": 0,
    "start_time": "2022-12-22T07:09:15.943Z"
   },
   {
    "duration": 0,
    "start_time": "2022-12-22T07:09:15.944Z"
   },
   {
    "duration": 0,
    "start_time": "2022-12-22T07:09:15.945Z"
   },
   {
    "duration": 0,
    "start_time": "2022-12-22T07:09:15.946Z"
   },
   {
    "duration": 0,
    "start_time": "2022-12-22T07:09:15.947Z"
   },
   {
    "duration": 0,
    "start_time": "2022-12-22T07:09:15.948Z"
   },
   {
    "duration": 0,
    "start_time": "2022-12-22T07:09:15.949Z"
   },
   {
    "duration": 0,
    "start_time": "2022-12-22T07:09:15.950Z"
   },
   {
    "duration": 0,
    "start_time": "2022-12-22T07:09:15.998Z"
   },
   {
    "duration": 0,
    "start_time": "2022-12-22T07:09:15.999Z"
   },
   {
    "duration": 0,
    "start_time": "2022-12-22T07:09:16.000Z"
   },
   {
    "duration": 0,
    "start_time": "2022-12-22T07:09:16.001Z"
   },
   {
    "duration": 0,
    "start_time": "2022-12-22T07:09:16.002Z"
   },
   {
    "duration": 0,
    "start_time": "2022-12-22T07:09:16.003Z"
   },
   {
    "duration": 0,
    "start_time": "2022-12-22T07:09:16.004Z"
   },
   {
    "duration": 0,
    "start_time": "2022-12-22T07:09:16.005Z"
   },
   {
    "duration": 0,
    "start_time": "2022-12-22T07:09:16.006Z"
   },
   {
    "duration": 0,
    "start_time": "2022-12-22T07:09:16.007Z"
   },
   {
    "duration": 0,
    "start_time": "2022-12-22T07:09:16.008Z"
   },
   {
    "duration": 0,
    "start_time": "2022-12-22T07:09:16.009Z"
   },
   {
    "duration": 0,
    "start_time": "2022-12-22T07:09:16.010Z"
   },
   {
    "duration": 0,
    "start_time": "2022-12-22T07:09:16.011Z"
   },
   {
    "duration": 0,
    "start_time": "2022-12-22T07:09:16.012Z"
   },
   {
    "duration": 0,
    "start_time": "2022-12-22T07:09:16.013Z"
   },
   {
    "duration": 0,
    "start_time": "2022-12-22T07:09:16.013Z"
   },
   {
    "duration": 0,
    "start_time": "2022-12-22T07:09:16.014Z"
   },
   {
    "duration": 0,
    "start_time": "2022-12-22T07:09:16.015Z"
   },
   {
    "duration": 0,
    "start_time": "2022-12-22T07:09:16.016Z"
   },
   {
    "duration": 0,
    "start_time": "2022-12-22T07:09:16.017Z"
   },
   {
    "duration": 0,
    "start_time": "2022-12-22T07:09:16.018Z"
   },
   {
    "duration": 0,
    "start_time": "2022-12-22T07:09:16.019Z"
   },
   {
    "duration": 0,
    "start_time": "2022-12-22T07:09:16.020Z"
   },
   {
    "duration": 0,
    "start_time": "2022-12-22T07:09:16.021Z"
   },
   {
    "duration": 0,
    "start_time": "2022-12-22T07:09:16.022Z"
   },
   {
    "duration": 9,
    "start_time": "2022-12-22T07:09:58.233Z"
   },
   {
    "duration": 974,
    "start_time": "2022-12-22T07:27:21.505Z"
   },
   {
    "duration": 368,
    "start_time": "2022-12-22T07:27:36.153Z"
   },
   {
    "duration": 328,
    "start_time": "2022-12-22T07:29:24.296Z"
   },
   {
    "duration": 10,
    "start_time": "2022-12-22T07:29:48.839Z"
   },
   {
    "duration": 3,
    "start_time": "2022-12-22T07:30:51.780Z"
   },
   {
    "duration": 4,
    "start_time": "2022-12-22T07:30:54.734Z"
   },
   {
    "duration": 9,
    "start_time": "2022-12-22T07:32:31.111Z"
   },
   {
    "duration": 8,
    "start_time": "2022-12-22T07:32:41.195Z"
   },
   {
    "duration": 52,
    "start_time": "2022-12-22T07:56:09.121Z"
   },
   {
    "duration": 14,
    "start_time": "2022-12-22T08:02:34.407Z"
   },
   {
    "duration": 3,
    "start_time": "2022-12-22T08:05:24.864Z"
   },
   {
    "duration": 12,
    "start_time": "2022-12-22T08:05:30.964Z"
   },
   {
    "duration": 7,
    "start_time": "2022-12-22T08:07:25.555Z"
   },
   {
    "duration": 2,
    "start_time": "2022-12-22T08:07:48.247Z"
   },
   {
    "duration": 7,
    "start_time": "2022-12-22T08:08:15.898Z"
   },
   {
    "duration": 3,
    "start_time": "2022-12-22T08:12:27.428Z"
   },
   {
    "duration": 12,
    "start_time": "2022-12-22T08:12:39.059Z"
   },
   {
    "duration": 13,
    "start_time": "2022-12-22T08:12:46.599Z"
   },
   {
    "duration": 2,
    "start_time": "2022-12-22T08:13:19.780Z"
   },
   {
    "duration": 5,
    "start_time": "2022-12-22T08:13:19.784Z"
   },
   {
    "duration": 8,
    "start_time": "2022-12-22T08:13:19.791Z"
   },
   {
    "duration": 5,
    "start_time": "2022-12-22T08:13:19.801Z"
   },
   {
    "duration": 6,
    "start_time": "2022-12-22T08:13:19.808Z"
   },
   {
    "duration": 6,
    "start_time": "2022-12-22T08:13:19.816Z"
   },
   {
    "duration": 6,
    "start_time": "2022-12-22T08:13:19.823Z"
   },
   {
    "duration": 849,
    "start_time": "2022-12-22T08:13:19.879Z"
   },
   {
    "duration": 3,
    "start_time": "2022-12-22T08:13:20.730Z"
   },
   {
    "duration": 47,
    "start_time": "2022-12-22T08:13:20.735Z"
   },
   {
    "duration": 124,
    "start_time": "2022-12-22T08:13:20.784Z"
   },
   {
    "duration": 94,
    "start_time": "2022-12-22T08:13:20.910Z"
   },
   {
    "duration": 2,
    "start_time": "2022-12-22T08:13:21.006Z"
   },
   {
    "duration": 398,
    "start_time": "2022-12-22T08:13:21.010Z"
   },
   {
    "duration": 467,
    "start_time": "2022-12-22T08:13:21.410Z"
   },
   {
    "duration": 125,
    "start_time": "2022-12-22T08:13:21.879Z"
   },
   {
    "duration": 18,
    "start_time": "2022-12-22T08:13:22.005Z"
   },
   {
    "duration": 19,
    "start_time": "2022-12-22T08:13:22.025Z"
   },
   {
    "duration": 128,
    "start_time": "2022-12-22T08:13:22.045Z"
   },
   {
    "duration": 25,
    "start_time": "2022-12-22T08:13:22.175Z"
   },
   {
    "duration": 18,
    "start_time": "2022-12-22T08:13:22.202Z"
   },
   {
    "duration": 93,
    "start_time": "2022-12-22T08:13:22.222Z"
   },
   {
    "duration": 26,
    "start_time": "2022-12-22T08:13:22.317Z"
   },
   {
    "duration": 798,
    "start_time": "2022-12-22T08:13:22.344Z"
   },
   {
    "duration": 22,
    "start_time": "2022-12-22T08:13:23.144Z"
   },
   {
    "duration": 30,
    "start_time": "2022-12-22T08:13:23.168Z"
   },
   {
    "duration": 105,
    "start_time": "2022-12-22T08:13:23.200Z"
   },
   {
    "duration": 23,
    "start_time": "2022-12-22T08:13:23.306Z"
   },
   {
    "duration": 484,
    "start_time": "2022-12-22T08:13:23.330Z"
   },
   {
    "duration": 18,
    "start_time": "2022-12-22T08:13:23.816Z"
   },
   {
    "duration": 19,
    "start_time": "2022-12-22T08:13:23.835Z"
   },
   {
    "duration": 24,
    "start_time": "2022-12-22T08:13:23.856Z"
   },
   {
    "duration": 156,
    "start_time": "2022-12-22T08:13:23.881Z"
   },
   {
    "duration": 22,
    "start_time": "2022-12-22T08:13:24.038Z"
   },
   {
    "duration": 426,
    "start_time": "2022-12-22T08:13:24.062Z"
   },
   {
    "duration": 6,
    "start_time": "2022-12-22T08:13:24.497Z"
   },
   {
    "duration": 43,
    "start_time": "2022-12-22T08:13:24.504Z"
   },
   {
    "duration": 8,
    "start_time": "2022-12-22T08:13:24.549Z"
   },
   {
    "duration": 10,
    "start_time": "2022-12-22T08:13:24.559Z"
   },
   {
    "duration": 8,
    "start_time": "2022-12-22T08:13:24.571Z"
   },
   {
    "duration": 463,
    "start_time": "2022-12-22T08:13:24.596Z"
   },
   {
    "duration": 328,
    "start_time": "2022-12-22T08:13:25.061Z"
   },
   {
    "duration": 26,
    "start_time": "2022-12-22T08:13:25.390Z"
   },
   {
    "duration": 229,
    "start_time": "2022-12-22T08:13:25.418Z"
   },
   {
    "duration": 223,
    "start_time": "2022-12-22T08:13:25.649Z"
   },
   {
    "duration": 8,
    "start_time": "2022-12-22T08:13:25.873Z"
   },
   {
    "duration": 52,
    "start_time": "2022-12-22T08:13:25.883Z"
   },
   {
    "duration": 6,
    "start_time": "2022-12-22T08:13:25.940Z"
   },
   {
    "duration": 34,
    "start_time": "2022-12-22T08:13:25.947Z"
   },
   {
    "duration": 37,
    "start_time": "2022-12-22T08:13:25.983Z"
   },
   {
    "duration": 31,
    "start_time": "2022-12-22T08:13:26.022Z"
   },
   {
    "duration": 104,
    "start_time": "2022-12-22T08:13:26.054Z"
   },
   {
    "duration": 66,
    "start_time": "2022-12-22T08:13:26.160Z"
   },
   {
    "duration": 26,
    "start_time": "2022-12-22T08:13:26.228Z"
   },
   {
    "duration": 33,
    "start_time": "2022-12-22T08:13:26.255Z"
   },
   {
    "duration": 11,
    "start_time": "2022-12-22T08:13:26.290Z"
   },
   {
    "duration": 22,
    "start_time": "2022-12-22T08:13:26.302Z"
   },
   {
    "duration": 70,
    "start_time": "2022-12-22T08:13:26.326Z"
   },
   {
    "duration": 27,
    "start_time": "2022-12-22T08:13:26.398Z"
   },
   {
    "duration": 20,
    "start_time": "2022-12-22T08:13:26.426Z"
   },
   {
    "duration": 164,
    "start_time": "2022-12-22T08:13:26.447Z"
   },
   {
    "duration": 2,
    "start_time": "2022-12-22T08:13:26.613Z"
   },
   {
    "duration": 16,
    "start_time": "2022-12-22T08:13:26.617Z"
   },
   {
    "duration": 723,
    "start_time": "2022-12-22T08:13:26.634Z"
   },
   {
    "duration": 981,
    "start_time": "2022-12-22T08:13:27.359Z"
   },
   {
    "duration": 382,
    "start_time": "2022-12-22T08:13:28.342Z"
   },
   {
    "duration": 310,
    "start_time": "2022-12-22T08:13:28.726Z"
   },
   {
    "duration": 5,
    "start_time": "2022-12-22T08:13:29.038Z"
   },
   {
    "duration": 23,
    "start_time": "2022-12-22T08:13:29.044Z"
   },
   {
    "duration": 31,
    "start_time": "2022-12-22T08:13:29.069Z"
   },
   {
    "duration": 16,
    "start_time": "2022-12-22T08:13:29.102Z"
   },
   {
    "duration": 33,
    "start_time": "2022-12-22T08:13:29.119Z"
   },
   {
    "duration": 35,
    "start_time": "2022-12-22T08:13:29.153Z"
   },
   {
    "duration": 101,
    "start_time": "2022-12-22T08:13:29.190Z"
   },
   {
    "duration": 18,
    "start_time": "2022-12-22T08:13:29.292Z"
   },
   {
    "duration": 36,
    "start_time": "2022-12-22T08:13:29.311Z"
   },
   {
    "duration": 34,
    "start_time": "2022-12-22T08:13:29.348Z"
   },
   {
    "duration": 41,
    "start_time": "2022-12-22T08:13:29.383Z"
   },
   {
    "duration": 33,
    "start_time": "2022-12-22T08:13:29.426Z"
   },
   {
    "duration": 38,
    "start_time": "2022-12-22T08:13:29.461Z"
   },
   {
    "duration": 26,
    "start_time": "2022-12-22T08:13:29.500Z"
   },
   {
    "duration": 27,
    "start_time": "2022-12-22T08:13:29.528Z"
   },
   {
    "duration": 16,
    "start_time": "2022-12-22T08:13:29.556Z"
   },
   {
    "duration": 19,
    "start_time": "2022-12-22T08:13:29.574Z"
   },
   {
    "duration": 451,
    "start_time": "2022-12-22T08:13:29.594Z"
   },
   {
    "duration": 49,
    "start_time": "2022-12-22T08:59:35.668Z"
   },
   {
    "duration": 2,
    "start_time": "2022-12-22T08:59:50.940Z"
   },
   {
    "duration": 12877,
    "start_time": "2022-12-22T08:59:54.742Z"
   },
   {
    "duration": 249,
    "start_time": "2022-12-22T09:00:27.794Z"
   },
   {
    "duration": 4,
    "start_time": "2022-12-22T09:00:33.569Z"
   },
   {
    "duration": 50948,
    "start_time": "2022-12-22T09:00:44.553Z"
   },
   {
    "duration": 3,
    "start_time": "2022-12-22T09:01:46.396Z"
   },
   {
    "duration": 4,
    "start_time": "2022-12-22T09:01:59.533Z"
   },
   {
    "duration": 351210,
    "start_time": "2022-12-22T09:02:05.904Z"
   },
   {
    "duration": 4,
    "start_time": "2022-12-22T09:14:47.637Z"
   },
   {
    "duration": 16,
    "start_time": "2022-12-22T09:14:54.132Z"
   },
   {
    "duration": 3,
    "start_time": "2022-12-22T09:15:01.024Z"
   },
   {
    "duration": 39198,
    "start_time": "2022-12-22T09:15:07.100Z"
   },
   {
    "duration": 751,
    "start_time": "2022-12-22T09:26:09.895Z"
   },
   {
    "duration": 151492,
    "start_time": "2022-12-22T09:26:15.134Z"
   },
   {
    "duration": 3,
    "start_time": "2022-12-22T09:28:51.514Z"
   },
   {
    "duration": 17,
    "start_time": "2022-12-22T09:33:20.106Z"
   },
   {
    "duration": 30,
    "start_time": "2022-12-22T09:33:28.054Z"
   },
   {
    "duration": 2,
    "start_time": "2022-12-22T09:33:32.173Z"
   },
   {
    "duration": 4,
    "start_time": "2022-12-22T09:33:55.576Z"
   },
   {
    "duration": 85,
    "start_time": "2022-12-22T09:34:04.314Z"
   },
   {
    "duration": 10,
    "start_time": "2022-12-22T09:57:59.909Z"
   },
   {
    "duration": 3,
    "start_time": "2022-12-22T09:58:21.848Z"
   },
   {
    "duration": 4,
    "start_time": "2022-12-22T09:58:33.326Z"
   },
   {
    "duration": 62,
    "start_time": "2022-12-22T09:59:02.771Z"
   },
   {
    "duration": 20,
    "start_time": "2022-12-22T09:59:52.312Z"
   },
   {
    "duration": 108,
    "start_time": "2022-12-22T10:01:49.113Z"
   },
   {
    "duration": 52,
    "start_time": "2022-12-22T10:01:58.311Z"
   },
   {
    "duration": 99,
    "start_time": "2022-12-22T10:02:31.544Z"
   },
   {
    "duration": 26,
    "start_time": "2022-12-22T10:02:35.148Z"
   },
   {
    "duration": 22,
    "start_time": "2022-12-22T10:03:00.748Z"
   },
   {
    "duration": 3,
    "start_time": "2022-12-22T10:03:07.126Z"
   },
   {
    "duration": 112,
    "start_time": "2022-12-22T10:03:18.713Z"
   },
   {
    "duration": 2,
    "start_time": "2022-12-22T10:09:02.184Z"
   },
   {
    "duration": 367,
    "start_time": "2022-12-22T10:10:32.114Z"
   },
   {
    "duration": 4,
    "start_time": "2022-12-22T10:10:39.417Z"
   },
   {
    "duration": 4,
    "start_time": "2022-12-22T10:11:09.503Z"
   },
   {
    "duration": 40,
    "start_time": "2022-12-22T10:12:00.359Z"
   },
   {
    "duration": 11,
    "start_time": "2022-12-22T10:12:04.815Z"
   },
   {
    "duration": 3,
    "start_time": "2022-12-22T10:12:17.150Z"
   },
   {
    "duration": 3,
    "start_time": "2022-12-22T10:12:22.963Z"
   },
   {
    "duration": 82,
    "start_time": "2022-12-22T10:12:25.742Z"
   },
   {
    "duration": 3,
    "start_time": "2022-12-22T10:21:19.161Z"
   },
   {
    "duration": 30285,
    "start_time": "2022-12-22T10:21:23.120Z"
   },
   {
    "duration": 4,
    "start_time": "2022-12-22T10:24:15.572Z"
   },
   {
    "duration": 148,
    "start_time": "2022-12-22T10:24:19.897Z"
   },
   {
    "duration": 183,
    "start_time": "2022-12-22T10:24:24.164Z"
   },
   {
    "duration": 2,
    "start_time": "2022-12-22T10:24:34.412Z"
   },
   {
    "duration": 270870,
    "start_time": "2022-12-22T10:24:38.137Z"
   },
   {
    "duration": 5,
    "start_time": "2022-12-22T10:29:09.009Z"
   },
   {
    "duration": 227,
    "start_time": "2022-12-22T10:30:18.229Z"
   },
   {
    "duration": 3,
    "start_time": "2022-12-22T10:30:29.349Z"
   },
   {
    "duration": 371151,
    "start_time": "2022-12-22T10:30:37.067Z"
   },
   {
    "duration": 5,
    "start_time": "2022-12-22T10:38:01.578Z"
   },
   {
    "duration": 174,
    "start_time": "2022-12-22T10:38:26.034Z"
   },
   {
    "duration": 700,
    "start_time": "2022-12-22T10:38:34.398Z"
   },
   {
    "duration": 5,
    "start_time": "2022-12-22T10:38:45.437Z"
   },
   {
    "duration": 5,
    "start_time": "2022-12-22T10:42:53.611Z"
   },
   {
    "duration": 3,
    "start_time": "2022-12-22T10:43:00.904Z"
   },
   {
    "duration": 18,
    "start_time": "2022-12-22T10:43:08.072Z"
   },
   {
    "duration": 3,
    "start_time": "2022-12-22T10:43:10.811Z"
   },
   {
    "duration": 1250,
    "start_time": "2022-12-22T10:43:25.609Z"
   },
   {
    "duration": 14,
    "start_time": "2022-12-22T10:44:22.317Z"
   },
   {
    "duration": 4,
    "start_time": "2022-12-22T10:45:15.812Z"
   },
   {
    "duration": 3,
    "start_time": "2022-12-22T10:45:39.368Z"
   },
   {
    "duration": 3,
    "start_time": "2022-12-22T10:45:58.265Z"
   },
   {
    "duration": 1411,
    "start_time": "2022-12-22T10:46:02.277Z"
   },
   {
    "duration": 128,
    "start_time": "2022-12-22T10:48:30.678Z"
   },
   {
    "duration": 2,
    "start_time": "2022-12-22T10:48:43.141Z"
   },
   {
    "duration": 2,
    "start_time": "2022-12-22T10:48:45.834Z"
   },
   {
    "duration": 14,
    "start_time": "2022-12-22T10:48:50.145Z"
   },
   {
    "duration": 1697,
    "start_time": "2022-12-22T10:48:59.078Z"
   },
   {
    "duration": 3,
    "start_time": "2022-12-22T10:57:27.679Z"
   },
   {
    "duration": 3,
    "start_time": "2022-12-22T10:57:52.949Z"
   },
   {
    "duration": 1828,
    "start_time": "2022-12-22T10:57:57.995Z"
   },
   {
    "duration": 67,
    "start_time": "2022-12-22T16:39:30.509Z"
   },
   {
    "duration": 3,
    "start_time": "2022-12-22T16:39:42.561Z"
   },
   {
    "duration": 12,
    "start_time": "2022-12-22T16:39:45.720Z"
   },
   {
    "duration": 2,
    "start_time": "2022-12-22T16:40:45.339Z"
   },
   {
    "duration": 4,
    "start_time": "2022-12-22T16:40:47.663Z"
   },
   {
    "duration": 4,
    "start_time": "2022-12-22T16:40:50.262Z"
   },
   {
    "duration": 387,
    "start_time": "2022-12-22T16:41:18.208Z"
   },
   {
    "duration": 971,
    "start_time": "2022-12-22T16:41:23.453Z"
   },
   {
    "duration": 3,
    "start_time": "2022-12-22T16:41:26.736Z"
   },
   {
    "duration": 3,
    "start_time": "2022-12-22T16:41:29.728Z"
   },
   {
    "duration": 121,
    "start_time": "2022-12-22T16:41:34.847Z"
   },
   {
    "duration": 55,
    "start_time": "2022-12-22T16:41:41.234Z"
   },
   {
    "duration": 3,
    "start_time": "2022-12-22T16:41:46.374Z"
   },
   {
    "duration": 5,
    "start_time": "2022-12-22T16:41:51.101Z"
   },
   {
    "duration": 920,
    "start_time": "2022-12-22T16:41:56.415Z"
   },
   {
    "duration": 56,
    "start_time": "2022-12-22T16:42:13.361Z"
   },
   {
    "duration": 517,
    "start_time": "2022-12-22T16:42:26.701Z"
   },
   {
    "duration": 36,
    "start_time": "2022-12-22T16:42:35.616Z"
   },
   {
    "duration": 33,
    "start_time": "2022-12-22T16:42:42.615Z"
   },
   {
    "duration": 34,
    "start_time": "2022-12-22T16:43:15.490Z"
   },
   {
    "duration": 31,
    "start_time": "2022-12-22T16:43:36.832Z"
   },
   {
    "duration": 127,
    "start_time": "2022-12-22T16:43:46.653Z"
   },
   {
    "duration": 44,
    "start_time": "2022-12-22T16:43:55.519Z"
   },
   {
    "duration": 873,
    "start_time": "2022-12-22T16:44:00.971Z"
   },
   {
    "duration": 19,
    "start_time": "2022-12-22T16:44:05.640Z"
   },
   {
    "duration": 115,
    "start_time": "2022-12-22T16:44:14.483Z"
   },
   {
    "duration": 23,
    "start_time": "2022-12-22T16:44:18.911Z"
   },
   {
    "duration": 539,
    "start_time": "2022-12-22T16:44:22.911Z"
   },
   {
    "duration": 18,
    "start_time": "2022-12-22T16:44:27.754Z"
   },
   {
    "duration": 28,
    "start_time": "2022-12-22T16:44:34.192Z"
   },
   {
    "duration": 129,
    "start_time": "2022-12-22T16:44:40.744Z"
   },
   {
    "duration": 55,
    "start_time": "2022-12-22T16:45:06.479Z"
   },
   {
    "duration": 6,
    "start_time": "2022-12-22T16:45:18.276Z"
   },
   {
    "duration": 4,
    "start_time": "2022-12-22T16:45:20.913Z"
   },
   {
    "duration": 46,
    "start_time": "2022-12-22T16:45:51.545Z"
   },
   {
    "duration": 41,
    "start_time": "2022-12-22T16:46:22.213Z"
   },
   {
    "duration": 32,
    "start_time": "2022-12-22T16:46:28.016Z"
   },
   {
    "duration": 3,
    "start_time": "2022-12-22T16:47:14.037Z"
   },
   {
    "duration": 114,
    "start_time": "2022-12-22T16:47:25.056Z"
   },
   {
    "duration": 4,
    "start_time": "2022-12-22T16:47:55.490Z"
   },
   {
    "duration": 3,
    "start_time": "2022-12-22T16:48:07.536Z"
   },
   {
    "duration": 18,
    "start_time": "2022-12-22T16:48:11.772Z"
   },
   {
    "duration": 4,
    "start_time": "2022-12-22T16:48:18.985Z"
   },
   {
    "duration": 10,
    "start_time": "2022-12-22T16:48:23.826Z"
   },
   {
    "duration": 11649,
    "start_time": "2022-12-22T16:48:35.111Z"
   },
   {
    "duration": 89,
    "start_time": "2022-12-22T17:11:19.047Z"
   },
   {
    "duration": 4,
    "start_time": "2022-12-22T17:11:53.133Z"
   },
   {
    "duration": 4,
    "start_time": "2022-12-22T17:12:17.232Z"
   },
   {
    "duration": 32,
    "start_time": "2022-12-22T17:12:25.361Z"
   },
   {
    "duration": 25,
    "start_time": "2022-12-22T17:12:29.393Z"
   },
   {
    "duration": 183,
    "start_time": "2022-12-22T17:12:36.609Z"
   },
   {
    "duration": 4,
    "start_time": "2022-12-22T17:12:50.609Z"
   },
   {
    "duration": 3,
    "start_time": "2022-12-22T17:12:59.895Z"
   },
   {
    "duration": 2,
    "start_time": "2022-12-22T17:13:08.284Z"
   },
   {
    "duration": 10,
    "start_time": "2022-12-22T17:13:18.884Z"
   },
   {
    "duration": 11009,
    "start_time": "2022-12-22T17:13:24.034Z"
   },
   {
    "duration": 44438,
    "start_time": "2022-12-22T17:13:43.890Z"
   },
   {
    "duration": 4,
    "start_time": "2022-12-22T17:14:47.375Z"
   },
   {
    "duration": 3,
    "start_time": "2022-12-22T17:14:57.079Z"
   },
   {
    "duration": 2931122,
    "start_time": "2022-12-22T17:15:15.865Z"
   },
   {
    "duration": 15,
    "start_time": "2022-12-22T18:04:06.993Z"
   },
   {
    "duration": 21,
    "start_time": "2022-12-22T18:04:07.010Z"
   },
   {
    "duration": 5,
    "start_time": "2022-12-22T18:04:07.033Z"
   },
   {
    "duration": 333400,
    "start_time": "2022-12-22T18:04:07.039Z"
   },
   {
    "duration": 883,
    "start_time": "2022-12-22T18:09:40.440Z"
   },
   {
    "duration": 6,
    "start_time": "2022-12-22T18:09:41.324Z"
   },
   {
    "duration": 22,
    "start_time": "2022-12-22T18:09:41.331Z"
   },
   {
    "duration": 2,
    "start_time": "2022-12-22T18:24:18.814Z"
   },
   {
    "duration": 3,
    "start_time": "2022-12-22T18:24:25.132Z"
   },
   {
    "duration": 86,
    "start_time": "2022-12-22T18:24:28.493Z"
   },
   {
    "duration": 311,
    "start_time": "2022-12-22T18:24:33.078Z"
   },
   {
    "duration": 113,
    "start_time": "2022-12-22T18:24:36.383Z"
   },
   {
    "duration": 110,
    "start_time": "2022-12-22T18:24:39.603Z"
   },
   {
    "duration": 6,
    "start_time": "2022-12-22T18:24:43.391Z"
   },
   {
    "duration": 3,
    "start_time": "2022-12-22T18:24:46.678Z"
   },
   {
    "duration": 4,
    "start_time": "2022-12-22T18:24:50.011Z"
   },
   {
    "duration": 8,
    "start_time": "2022-12-22T18:24:55.896Z"
   },
   {
    "duration": 8,
    "start_time": "2022-12-22T18:25:13.009Z"
   },
   {
    "duration": 2,
    "start_time": "2022-12-22T18:30:22.052Z"
   },
   {
    "duration": 74,
    "start_time": "2022-12-22T18:30:25.684Z"
   },
   {
    "duration": 14,
    "start_time": "2022-12-22T18:30:47.568Z"
   },
   {
    "duration": 4,
    "start_time": "2022-12-22T18:30:54.729Z"
   },
   {
    "duration": 12,
    "start_time": "2022-12-22T18:30:59.667Z"
   },
   {
    "duration": 7,
    "start_time": "2022-12-22T18:31:05.007Z"
   },
   {
    "duration": 3,
    "start_time": "2022-12-22T18:31:08.071Z"
   },
   {
    "duration": 7,
    "start_time": "2022-12-22T18:31:10.761Z"
   },
   {
    "duration": 3,
    "start_time": "2022-12-22T18:31:13.515Z"
   },
   {
    "duration": 15,
    "start_time": "2022-12-22T18:31:19.012Z"
   },
   {
    "duration": 4,
    "start_time": "2022-12-22T18:31:28.457Z"
   },
   {
    "duration": 450,
    "start_time": "2022-12-22T18:31:33.345Z"
   },
   {
    "duration": 13,
    "start_time": "2022-12-22T18:51:56.547Z"
   },
   {
    "duration": 11,
    "start_time": "2022-12-22T18:52:50.357Z"
   },
   {
    "duration": 54,
    "start_time": "2022-12-22T18:53:16.272Z"
   },
   {
    "duration": 81,
    "start_time": "2022-12-22T18:53:31.509Z"
   },
   {
    "duration": 55,
    "start_time": "2022-12-22T18:53:40.904Z"
   },
   {
    "duration": 5,
    "start_time": "2022-12-22T18:55:05.902Z"
   },
   {
    "duration": 43,
    "start_time": "2022-12-22T18:56:52.212Z"
   },
   {
    "duration": 11,
    "start_time": "2022-12-22T19:00:11.162Z"
   },
   {
    "duration": 1278,
    "start_time": "2022-12-22T19:00:26.616Z"
   },
   {
    "duration": 2,
    "start_time": "2022-12-22T19:02:21.145Z"
   },
   {
    "duration": 153,
    "start_time": "2022-12-22T19:04:34.439Z"
   },
   {
    "duration": 621,
    "start_time": "2022-12-22T19:05:55.250Z"
   },
   {
    "duration": 15,
    "start_time": "2022-12-22T19:06:03.403Z"
   },
   {
    "duration": 15,
    "start_time": "2022-12-22T19:06:25.010Z"
   },
   {
    "duration": 5,
    "start_time": "2022-12-22T19:06:36.777Z"
   },
   {
    "duration": 9,
    "start_time": "2022-12-22T19:07:26.241Z"
   },
   {
    "duration": 11,
    "start_time": "2022-12-22T19:07:29.640Z"
   },
   {
    "duration": 1516,
    "start_time": "2022-12-22T19:07:41.806Z"
   },
   {
    "duration": 46,
    "start_time": "2022-12-22T19:08:38.714Z"
   },
   {
    "duration": 10,
    "start_time": "2022-12-22T19:08:44.176Z"
   },
   {
    "duration": 2,
    "start_time": "2022-12-22T19:08:53.646Z"
   },
   {
    "duration": 3,
    "start_time": "2022-12-22T19:08:55.968Z"
   },
   {
    "duration": 10,
    "start_time": "2022-12-22T19:09:01.016Z"
   },
   {
    "duration": 2,
    "start_time": "2022-12-22T19:09:04.071Z"
   },
   {
    "duration": 2,
    "start_time": "2022-12-22T19:09:07.155Z"
   },
   {
    "duration": 51,
    "start_time": "2022-12-22T19:13:19.999Z"
   },
   {
    "duration": 3,
    "start_time": "2022-12-22T19:13:23.015Z"
   },
   {
    "duration": 98,
    "start_time": "2022-12-22T19:13:28.648Z"
   },
   {
    "duration": 13,
    "start_time": "2022-12-22T19:14:05.742Z"
   },
   {
    "duration": 13,
    "start_time": "2022-12-22T19:15:16.093Z"
   },
   {
    "duration": 15,
    "start_time": "2022-12-22T19:15:41.662Z"
   },
   {
    "duration": 18,
    "start_time": "2022-12-22T19:16:07.451Z"
   },
   {
    "duration": 3,
    "start_time": "2022-12-22T19:16:10.168Z"
   },
   {
    "duration": 13,
    "start_time": "2022-12-22T19:16:14.650Z"
   },
   {
    "duration": 26,
    "start_time": "2022-12-22T19:16:21.340Z"
   },
   {
    "duration": 12,
    "start_time": "2022-12-22T19:16:33.173Z"
   },
   {
    "duration": 13,
    "start_time": "2022-12-22T19:16:47.724Z"
   },
   {
    "duration": 16177,
    "start_time": "2022-12-22T19:17:04.209Z"
   },
   {
    "duration": 264,
    "start_time": "2022-12-22T19:17:35.411Z"
   },
   {
    "duration": 5,
    "start_time": "2022-12-22T19:17:43.952Z"
   },
   {
    "duration": 63464,
    "start_time": "2022-12-22T19:17:48.811Z"
   },
   {
    "duration": 3,
    "start_time": "2022-12-22T19:18:57.742Z"
   },
   {
    "duration": 4,
    "start_time": "2022-12-22T19:19:06.718Z"
   },
   {
    "duration": 415767,
    "start_time": "2022-12-22T19:19:27.346Z"
   },
   {
    "duration": 4,
    "start_time": "2022-12-22T19:27:58.476Z"
   },
   {
    "duration": 15,
    "start_time": "2022-12-22T19:28:07.870Z"
   },
   {
    "duration": 2,
    "start_time": "2022-12-22T19:28:21.420Z"
   },
   {
    "duration": 44190,
    "start_time": "2022-12-22T19:28:40.730Z"
   },
   {
    "duration": 733,
    "start_time": "2022-12-22T19:30:08.444Z"
   },
   {
    "duration": 179125,
    "start_time": "2022-12-22T19:30:24.562Z"
   },
   {
    "duration": 3,
    "start_time": "2022-12-22T19:33:34.360Z"
   },
   {
    "duration": 22,
    "start_time": "2022-12-22T19:33:50.526Z"
   },
   {
    "duration": 4,
    "start_time": "2022-12-22T19:33:59.433Z"
   },
   {
    "duration": 3,
    "start_time": "2022-12-22T19:34:16.011Z"
   },
   {
    "duration": 3,
    "start_time": "2022-12-22T19:34:27.470Z"
   },
   {
    "duration": 1231,
    "start_time": "2022-12-22T19:34:33.671Z"
   },
   {
    "duration": 3,
    "start_time": "2022-12-22T19:34:48.467Z"
   },
   {
    "duration": 132,
    "start_time": "2022-12-22T19:34:51.611Z"
   },
   {
    "duration": 171,
    "start_time": "2022-12-22T19:34:56.412Z"
   },
   {
    "duration": 3,
    "start_time": "2022-12-22T19:35:02.098Z"
   },
   {
    "duration": 5683,
    "start_time": "2022-12-22T19:35:06.621Z"
   },
   {
    "duration": 5,
    "start_time": "2022-12-22T19:35:19.921Z"
   },
   {
    "duration": 145,
    "start_time": "2022-12-22T19:35:25.519Z"
   },
   {
    "duration": 3,
    "start_time": "2022-12-22T19:35:29.695Z"
   },
   {
    "duration": 7462,
    "start_time": "2022-12-22T19:35:33.037Z"
   },
   {
    "duration": 6,
    "start_time": "2022-12-22T19:35:46.102Z"
   },
   {
    "duration": 155,
    "start_time": "2022-12-22T19:35:50.968Z"
   },
   {
    "duration": 598,
    "start_time": "2022-12-22T19:35:57.809Z"
   },
   {
    "duration": 5,
    "start_time": "2022-12-22T19:36:02.279Z"
   },
   {
    "duration": 588,
    "start_time": "2022-12-22T19:38:55.715Z"
   },
   {
    "duration": 5,
    "start_time": "2022-12-22T19:39:07.561Z"
   }
  ],
  "kernelspec": {
   "display_name": "Python 3",
   "language": "python",
   "name": "python3"
  },
  "language_info": {
   "codemirror_mode": {
    "name": "ipython",
    "version": 3
   },
   "file_extension": ".py",
   "mimetype": "text/x-python",
   "name": "python",
   "nbconvert_exporter": "python",
   "pygments_lexer": "ipython3",
   "version": "3.8.3"
  },
  "toc": {
   "base_numbering": 1,
   "nav_menu": {
    "height": "475px",
    "width": "208px"
   },
   "number_sections": true,
   "sideBar": true,
   "skip_h1_title": true,
   "title_cell": "Table of Contents",
   "title_sidebar": "Contents",
   "toc_cell": true,
   "toc_position": {
    "height": "calc(100% - 180px)",
    "left": "10px",
    "top": "150px",
    "width": "319.75px"
   },
   "toc_section_display": true,
   "toc_window_display": true
  }
 },
 "nbformat": 4,
 "nbformat_minor": 2
}
