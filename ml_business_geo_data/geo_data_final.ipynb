{
 "cells": [
  {
   "cell_type": "markdown",
   "metadata": {},
   "source": [
    "# Выбор локации для скважины"
   ]
  },
  {
   "cell_type": "markdown",
   "metadata": {},
   "source": [
    "### Описание проекта\n",
    "Добывающей компании «ГлавРосГосНефть» необходимо принять решение, где бурить новую скважину.\n",
    "\n",
    "Предоставлены пробы нефти в трёх регионах: в каждом 10 000 месторождений, где измерили качество нефти и объём её запасов. Необходимо построить модель машинного обучения, которая поможет определить регион, где добыча принесёт наибольшую прибыль. (проанализировать возможную прибыль и риски техникой *Bootstrap.*)\n",
    "\n",
    "Шаги для выбора локации:\n",
    "\n",
    "- В избранном регионе ищут месторождения, для каждого определяют значения признаков;\n",
    "- Строят модель и оценивают объём запасов;\n",
    "- Выбирают месторождения с самым высокими оценками значений. Количество месторождений зависит от бюджета компании и стоимости разработки одной скважины;\n",
    "- Прибыль равна суммарной прибыли отобранных месторождений."
   ]
  },
  {
   "cell_type": "markdown",
   "metadata": {},
   "source": [
    "### Описание данных\n",
    "\n",
    "- id — уникальный идентификатор скважины;\n",
    "- f0, f1, f2 — три признака точек (они значимы);\n",
    "- product — объём запасов в скважине (тыс. баррелей)."
   ]
  },
  {
   "cell_type": "markdown",
   "metadata": {},
   "source": [
    "## Загрузка и подготовка данных"
   ]
  },
  {
   "cell_type": "code",
   "execution_count": 1,
   "metadata": {},
   "outputs": [],
   "source": [
    "# Загрузим необходимые бибилиотеки\n",
    "import pandas as pd\n",
    "from sklearn.model_selection import train_test_split"
   ]
  },
  {
   "cell_type": "code",
   "execution_count": 2,
   "metadata": {},
   "outputs": [],
   "source": [
    "from matplotlib import pyplot as plt\n",
    "from sklearn.linear_model import LinearRegression\n",
    "from sklearn.model_selection import cross_val_score\n",
    "from sklearn.metrics import f1_score\n",
    "from sklearn.metrics import accuracy_score"
   ]
  },
  {
   "cell_type": "code",
   "execution_count": 3,
   "metadata": {},
   "outputs": [],
   "source": [
    "from sklearn.metrics import mean_squared_error\n",
    "from numpy.random import RandomState"
   ]
  },
  {
   "cell_type": "code",
   "execution_count": 4,
   "metadata": {},
   "outputs": [],
   "source": [
    "# загрузим данные\n",
    "# data = pd.read_csv('/datasets/')\n",
    "data_0 = pd.read_csv('/datasets/geo_data_0.csv')\n",
    "data_1 = pd.read_csv('/datasets/geo_data_1.csv')\n",
    "data_2 = pd.read_csv('/datasets/geo_data_2.csv')"
   ]
  },
  {
   "cell_type": "code",
   "execution_count": 5,
   "metadata": {},
   "outputs": [
    {
     "data": {
      "text/plain": [
       "((100000, 5), (100000, 5), (100000, 5))"
      ]
     },
     "execution_count": 5,
     "metadata": {},
     "output_type": "execute_result"
    }
   ],
   "source": [
    "# посмотрим на размер датасета\n",
    "data_0.shape, data_1.shape, data_2.shape"
   ]
  },
  {
   "cell_type": "markdown",
   "metadata": {},
   "source": [
    "1. Загрузите и подготовьте данные. Поясните порядок действий.\n"
   ]
  },
  {
   "cell_type": "markdown",
   "metadata": {},
   "source": [
    "### Проверка на пропуски"
   ]
  },
  {
   "cell_type": "code",
   "execution_count": 6,
   "metadata": {},
   "outputs": [
    {
     "name": "stdout",
     "output_type": "stream",
     "text": [
      "<class 'pandas.core.frame.DataFrame'>\n",
      "RangeIndex: 100000 entries, 0 to 99999\n",
      "Data columns (total 5 columns):\n",
      " #   Column   Non-Null Count   Dtype  \n",
      "---  ------   --------------   -----  \n",
      " 0   id       100000 non-null  object \n",
      " 1   f0       100000 non-null  float64\n",
      " 2   f1       100000 non-null  float64\n",
      " 3   f2       100000 non-null  float64\n",
      " 4   product  100000 non-null  float64\n",
      "dtypes: float64(4), object(1)\n",
      "memory usage: 3.8+ MB\n",
      "<class 'pandas.core.frame.DataFrame'>\n",
      "RangeIndex: 100000 entries, 0 to 99999\n",
      "Data columns (total 5 columns):\n",
      " #   Column   Non-Null Count   Dtype  \n",
      "---  ------   --------------   -----  \n",
      " 0   id       100000 non-null  object \n",
      " 1   f0       100000 non-null  float64\n",
      " 2   f1       100000 non-null  float64\n",
      " 3   f2       100000 non-null  float64\n",
      " 4   product  100000 non-null  float64\n",
      "dtypes: float64(4), object(1)\n",
      "memory usage: 3.8+ MB\n",
      "<class 'pandas.core.frame.DataFrame'>\n",
      "RangeIndex: 100000 entries, 0 to 99999\n",
      "Data columns (total 5 columns):\n",
      " #   Column   Non-Null Count   Dtype  \n",
      "---  ------   --------------   -----  \n",
      " 0   id       100000 non-null  object \n",
      " 1   f0       100000 non-null  float64\n",
      " 2   f1       100000 non-null  float64\n",
      " 3   f2       100000 non-null  float64\n",
      " 4   product  100000 non-null  float64\n",
      "dtypes: float64(4), object(1)\n",
      "memory usage: 3.8+ MB\n"
     ]
    },
    {
     "data": {
      "text/plain": [
       "(None, None, None)"
      ]
     },
     "execution_count": 6,
     "metadata": {},
     "output_type": "execute_result"
    }
   ],
   "source": [
    "# посмотрим информацию по каждому полю\n",
    "data_0.info(), data_1.info(), data_2.info()"
   ]
  },
  {
   "cell_type": "code",
   "execution_count": 7,
   "metadata": {},
   "outputs": [
    {
     "data": {
      "text/html": [
       "<div>\n",
       "<style scoped>\n",
       "    .dataframe tbody tr th:only-of-type {\n",
       "        vertical-align: middle;\n",
       "    }\n",
       "\n",
       "    .dataframe tbody tr th {\n",
       "        vertical-align: top;\n",
       "    }\n",
       "\n",
       "    .dataframe thead th {\n",
       "        text-align: right;\n",
       "    }\n",
       "</style>\n",
       "<table border=\"1\" class=\"dataframe\">\n",
       "  <thead>\n",
       "    <tr style=\"text-align: right;\">\n",
       "      <th></th>\n",
       "      <th>id</th>\n",
       "      <th>f0</th>\n",
       "      <th>f1</th>\n",
       "      <th>f2</th>\n",
       "      <th>product</th>\n",
       "    </tr>\n",
       "  </thead>\n",
       "  <tbody>\n",
       "    <tr>\n",
       "      <th>0</th>\n",
       "      <td>txEyH</td>\n",
       "      <td>0.705745</td>\n",
       "      <td>-0.497823</td>\n",
       "      <td>1.221170</td>\n",
       "      <td>105.280062</td>\n",
       "    </tr>\n",
       "    <tr>\n",
       "      <th>1</th>\n",
       "      <td>2acmU</td>\n",
       "      <td>1.334711</td>\n",
       "      <td>-0.340164</td>\n",
       "      <td>4.365080</td>\n",
       "      <td>73.037750</td>\n",
       "    </tr>\n",
       "    <tr>\n",
       "      <th>2</th>\n",
       "      <td>409Wp</td>\n",
       "      <td>1.022732</td>\n",
       "      <td>0.151990</td>\n",
       "      <td>1.419926</td>\n",
       "      <td>85.265647</td>\n",
       "    </tr>\n",
       "    <tr>\n",
       "      <th>3</th>\n",
       "      <td>iJLyR</td>\n",
       "      <td>-0.032172</td>\n",
       "      <td>0.139033</td>\n",
       "      <td>2.978566</td>\n",
       "      <td>168.620776</td>\n",
       "    </tr>\n",
       "    <tr>\n",
       "      <th>4</th>\n",
       "      <td>Xdl7t</td>\n",
       "      <td>1.988431</td>\n",
       "      <td>0.155413</td>\n",
       "      <td>4.751769</td>\n",
       "      <td>154.036647</td>\n",
       "    </tr>\n",
       "  </tbody>\n",
       "</table>\n",
       "</div>"
      ],
      "text/plain": [
       "      id        f0        f1        f2     product\n",
       "0  txEyH  0.705745 -0.497823  1.221170  105.280062\n",
       "1  2acmU  1.334711 -0.340164  4.365080   73.037750\n",
       "2  409Wp  1.022732  0.151990  1.419926   85.265647\n",
       "3  iJLyR -0.032172  0.139033  2.978566  168.620776\n",
       "4  Xdl7t  1.988431  0.155413  4.751769  154.036647"
      ]
     },
     "execution_count": 7,
     "metadata": {},
     "output_type": "execute_result"
    }
   ],
   "source": [
    "data_0.head()"
   ]
  },
  {
   "cell_type": "markdown",
   "metadata": {},
   "source": [
    "Пропусков в данных нет"
   ]
  },
  {
   "cell_type": "markdown",
   "metadata": {},
   "source": [
    "### Проверка на дубликаты"
   ]
  },
  {
   "cell_type": "code",
   "execution_count": 8,
   "metadata": {},
   "outputs": [
    {
     "data": {
      "text/plain": [
       "(0, 0, 0)"
      ]
     },
     "execution_count": 8,
     "metadata": {},
     "output_type": "execute_result"
    }
   ],
   "source": [
    "data_0.duplicated().sum(), data_1.duplicated().sum(), data_2.duplicated().sum()"
   ]
  },
  {
   "cell_type": "markdown",
   "metadata": {},
   "source": [
    "Дубликатов не обнаружено"
   ]
  },
  {
   "cell_type": "markdown",
   "metadata": {},
   "source": [
    "### Смотрим выбросы"
   ]
  },
  {
   "cell_type": "code",
   "execution_count": 9,
   "metadata": {},
   "outputs": [
    {
     "data": {
      "image/png": "[encoded data removed]",
      "text/plain": [
       "<Figure size 432x288 with 4 Axes>"
      ]
     },
     "metadata": {
      "needs_background": "light"
     },
     "output_type": "display_data"
    }
   ],
   "source": [
    "data_0.hist()\n",
    "plt.show()"
   ]
  },
  {
   "cell_type": "code",
   "execution_count": 10,
   "metadata": {},
   "outputs": [
    {
     "data": {
      "image/png": "[encoded data removed]",
      "text/plain": [
       "<Figure size 432x288 with 4 Axes>"
      ]
     },
     "metadata": {
      "needs_background": "light"
     },
     "output_type": "display_data"
    }
   ],
   "source": [
    "data_1.hist()\n",
    "plt.show()"
   ]
  },
  {
   "cell_type": "code",
   "execution_count": 11,
   "metadata": {},
   "outputs": [
    {
     "data": {
      "image/png": "[encoded data removed]",
      "text/plain": [
       "<Figure size 432x288 with 4 Axes>"
      ]
     },
     "metadata": {
      "needs_background": "light"
     },
     "output_type": "display_data"
    }
   ],
   "source": [
    "data_2.hist()\n",
    "plt.show()"
   ]
  },
  {
   "cell_type": "markdown",
   "metadata": {},
   "source": [
    "Во всех трёх датасетах данные не вызывают вопросов по выбросам "
   ]
  },
  {
   "cell_type": "markdown",
   "metadata": {},
   "source": [
    "## Обучение и проверка модели"
   ]
  },
  {
   "cell_type": "code",
   "execution_count": 19,
   "metadata": {},
   "outputs": [],
   "source": [
    "# Метод обучения модели и прогнозирования\n",
    "def line_model(data):\n",
    "    # зададим целевой признак и подготовим данные\n",
    "    target = data['product']\n",
    "    features = data.drop(['product', 'id'], axis=1)\n",
    "    \n",
    "    # Разбьём данные на обучающую и валидационную выборки в соотношении 75:25\n",
    "    features_train, features_valid, target_train,target_valid = \\\n",
    "    train_test_split(features, target, test_size=0.25, random_state=12345)\n",
    "    \n",
    "    # инициируем модели линейной регрессии\n",
    "    model = LinearRegression()\n",
    "    # обучим модель\n",
    "    model.fit(features_train, target_train)\n",
    "    # сделаем прогнозы\n",
    "    predicted_valid = model.predict(features_valid)\n",
    "    \n",
    "    # посчитаем rmse\n",
    "    rmse = mean_squared_error(target_valid, predicted_valid)**0.5\n",
    "    \n",
    "    # посчитаем средний запас сырья\n",
    "    predicted_valid_mean = predicted_valid.sum()/len(predicted_valid)\n",
    "    \n",
    "    return target_valid, predicted_valid, rmse, predicted_valid_mean"
   ]
  },
  {
   "cell_type": "code",
   "execution_count": 20,
   "metadata": {},
   "outputs": [],
   "source": [
    "# получим основные показатели для каждого региона\n",
    "target_valid_0, predicted_valid_0, rmse_0, predicted_valid_mean_0 = line_model(data_0)\n",
    "target_valid_1, predicted_valid_1, rmse_1, predicted_valid_mean_1 = line_model(data_1)\n",
    "target_valid_2, predicted_valid_2, rmse_2, predicted_valid_mean_2 = line_model(data_2)"
   ]
  },
  {
   "cell_type": "code",
   "execution_count": 21,
   "metadata": {},
   "outputs": [
    {
     "name": "stdout",
     "output_type": "stream",
     "text": [
      "Регион_0. Средний запас сырья: 92.59256778438035 rmse: 37.5794217150813\n",
      "Регион_1. Средний запас сырья: 68.728546895446 rmse: 0.893099286775617\n",
      "Регион_2. Средний запас сырья: 94.96504596800489 rmse: 40.02970873393434\n"
     ]
    }
   ],
   "source": [
    "print('Регион_0. Средний запас сырья:', predicted_valid_mean_0, 'rmse:', rmse_0)\n",
    "print('Регион_1. Средний запас сырья:', predicted_valid_mean_1, 'rmse:', rmse_1)\n",
    "print('Регион_2. Средний запас сырья:', predicted_valid_mean_2, 'rmse:', rmse_2)"
   ]
  },
  {
   "cell_type": "markdown",
   "metadata": {},
   "source": [
    "## Подготовка к расчёту прибыли"
   ]
  },
  {
   "cell_type": "code",
   "execution_count": 22,
   "metadata": {},
   "outputs": [],
   "source": [
    "# Все ключевые значения для расчётов сохраним в отдельных переменных.\n",
    "REGION_BUDGET_RUB = 10*10**9 # Бюджет на разработку 200 скважин в регионе\n",
    "TOTAL_QUANTITY_POINTS = 500 # При разведке региона исследуют 500 точек\n",
    "SELECTED_QUANTITY_POINTS = 200 # с помощью машинного обучения выбирают 200 точек лучших для разработки\n",
    "BUDGET_QUANTITY_POINTS_RUB = REGION_BUDGET_RUB / SELECTED_QUANTITY_POINTS\n",
    "BARREL_INCOME_RUB = 450 # доход с каждого барреля\n",
    "PRODUCT_UNITS_INCOME_RUB = 450 * 10**3 # доход с каждой единицы продукта\n",
    "LOSS_PROBABILITY_THRESHOLD_PERSENT = 2,5 # порог вероятности убытков, максимальное допустимое значение"
   ]
  },
  {
   "cell_type": "code",
   "execution_count": 23,
   "metadata": {},
   "outputs": [
    {
     "name": "stdout",
     "output_type": "stream",
     "text": [
      "Достаточный объём сырья для безубыточной разработки новой скважины равен 111111 барреля или 111.111 единицы продукта (тыс. баррелей)\n"
     ]
    }
   ],
   "source": [
    "# Рассчитайем достаточный объём сырья для безубыточной разработки новой скважины.\n",
    "min_volume_materials = REGION_BUDGET_RUB / SELECTED_QUANTITY_POINTS / BARREL_INCOME_RUB\n",
    "print(f'Достаточный объём сырья для безубыточной \\\n",
    "разработки новой скважины равен {int(min_volume_materials)} барреля \\\n",
    "или {round(min_volume_materials/1000, 3)} единицы продукта (тыс. баррелей)')"
   ]
  },
  {
   "cell_type": "code",
   "execution_count": 24,
   "metadata": {},
   "outputs": [
    {
     "data": {
      "text/plain": [
       "-18518.543326730753"
      ]
     },
     "execution_count": 24,
     "metadata": {},
     "output_type": "execute_result"
    }
   ],
   "source": [
    "# отклонение от среднего в регионе_0\n",
    "predicted_valid_mean_0*1000 - min_volume_materials"
   ]
  },
  {
   "cell_type": "code",
   "execution_count": 25,
   "metadata": {},
   "outputs": [
    {
     "data": {
      "text/plain": [
       "-42382.5642156651"
      ]
     },
     "execution_count": 25,
     "metadata": {},
     "output_type": "execute_result"
    }
   ],
   "source": [
    "# отклонение от среднего в регионе_1\n",
    "predicted_valid_mean_1*1000 - min_volume_materials"
   ]
  },
  {
   "cell_type": "code",
   "execution_count": 26,
   "metadata": {},
   "outputs": [
    {
     "data": {
      "text/plain": [
       "-16146.065143106229"
      ]
     },
     "execution_count": 26,
     "metadata": {},
     "output_type": "execute_result"
    }
   ],
   "source": [
    "# отклонение от среднего в регионе_2\n",
    "predicted_valid_mean_2*1000 - min_volume_materials"
   ]
  },
  {
   "cell_type": "code",
   "execution_count": 27,
   "metadata": {},
   "outputs": [
    {
     "name": "stdout",
     "output_type": "stream",
     "text": [
      "Средняя расчетная прибыль региона_0 -1666668899.4057684\n",
      "Средняя расчетная прибыль региона_1 -3814430779.4098606\n",
      "Средняя расчетная прибыль региона_2 -1453145862.8795605\n"
     ]
    }
   ],
   "source": [
    "print('Средняя расчетная прибыль региона_0',\\\n",
    "      SELECTED_QUANTITY_POINTS *\\\n",
    "      predicted_valid_mean_0 *\\\n",
    "     PRODUCT_UNITS_INCOME_RUB\\\n",
    "     - REGION_BUDGET_RUB)\n",
    "print('Средняя расчетная прибыль региона_1',\\\n",
    "      SELECTED_QUANTITY_POINTS *\\\n",
    "      predicted_valid_mean_1 *\\\n",
    "     PRODUCT_UNITS_INCOME_RUB\\\n",
    "     - REGION_BUDGET_RUB)\n",
    "print('Средняя расчетная прибыль региона_2',\\\n",
    "      SELECTED_QUANTITY_POINTS *\\\n",
    "      predicted_valid_mean_2 *\\\n",
    "     PRODUCT_UNITS_INCOME_RUB\\\n",
    "     - REGION_BUDGET_RUB)"
   ]
  },
  {
   "cell_type": "markdown",
   "metadata": {},
   "source": [
    "В каждом из трёх регионов средни запас сырья скважины меньше полученного значения достаточного объёма сырья на 18.5, 42.3, 16.1 тыс. баррелей. На основании данного заключения можно отметить высокий риск разработок скважин преимущественно в регионе_1"
   ]
  },
  {
   "cell_type": "markdown",
   "metadata": {},
   "source": [
    "## Расчёт прибыли и рисков "
   ]
  },
  {
   "cell_type": "markdown",
   "metadata": {},
   "source": [
    "приведем целевые и прогнозные значения к одному типу"
   ]
  },
  {
   "cell_type": "code",
   "execution_count": 28,
   "metadata": {},
   "outputs": [],
   "source": [
    "# метод для приведения к типу Series\n",
    "def series_type(target, pred):\n",
    "    target = target.reset_index(drop=True)\n",
    "    pred = pd.Series(pred)\n",
    "    return target, pred"
   ]
  },
  {
   "cell_type": "code",
   "execution_count": 29,
   "metadata": {},
   "outputs": [],
   "source": [
    "# приведем целевые и прогнозные значения по всем регионам к одному типу\n",
    "target_valid_0, predicted_valid_0 = series_type(target_valid_0, predicted_valid_0)\n",
    "target_valid_1, predicted_valid_1 = series_type(target_valid_1, predicted_valid_1)\n",
    "target_valid_2, predicted_valid_2 = series_type(target_valid_2, predicted_valid_2)"
   ]
  },
  {
   "cell_type": "code",
   "execution_count": 30,
   "metadata": {},
   "outputs": [],
   "source": [
    "# метод расчёта прибыли (фактическая выручка с 200 лучших по прогнозу скважин, минус инвестиции)\n",
    "def total_income(target, probabilities, count, PRODUCT_UNITS_INCOME_RUB, REGION_BUDGET_RUB):\n",
    "    prob_sort = probabilities.sort_values(ascending=False)\n",
    "    selected = target[prob_sort.index][:count]\n",
    "    return int(PRODUCT_UNITS_INCOME_RUB * selected.sum() - REGION_BUDGET_RUB)"
   ]
  },
  {
   "cell_type": "markdown",
   "metadata": {},
   "source": [
    "Применим технику Bootstrap с 1000 выборок, чтобы найти распределение прибыли."
   ]
  },
  {
   "cell_type": "code",
   "execution_count": 31,
   "metadata": {},
   "outputs": [],
   "source": [
    "# метод получения основных расчётных параметров с помощью будстрепа\n",
    "def bootstrap_regions(target, predicted, SELECTED_QUANTITY_POINTS, PRODUCT_UNITS_INCOME_RUB, REGION_BUDGET_RUB):\n",
    "    state = RandomState(12345)\n",
    "    values = []\n",
    "    for i in range(1000):\n",
    "        target_subsample = target.sample(n = TOTAL_QUANTITY_POINTS, replace=True, random_state=state)\n",
    "        pred_subsumple = predicted[target_subsample.index]\n",
    "\n",
    "        values.append(total_income(target_subsample, pred_subsumple, SELECTED_QUANTITY_POINTS, PRODUCT_UNITS_INCOME_RUB, REGION_BUDGET_RUB))\n",
    "    values = pd.Series(values)\n",
    "    values_mean = int(values.mean())\n",
    "    lower = int(values.quantile(q=0.025))\n",
    "    upper = int(values.quantile(q=0.975))\n",
    "    risk = int(len(values[values < 0]) / len(values) * 100)\n",
    "    return values_mean, lower, upper, risk\n"
   ]
  },
  {
   "cell_type": "code",
   "execution_count": 32,
   "metadata": {},
   "outputs": [],
   "source": [
    " #Посчитаем основные параметры для трёх регионов\n",
    "values_mean_0, lower_0, upper_0, risk_0  = bootstrap_regions(target_valid_0, predicted_valid_0, SELECTED_QUANTITY_POINTS, PRODUCT_UNITS_INCOME_RUB, REGION_BUDGET_RUB)\n",
    "values_mean_1, lower_1, upper_1, risk_1  = bootstrap_regions(target_valid_1, predicted_valid_1, SELECTED_QUANTITY_POINTS, PRODUCT_UNITS_INCOME_RUB, REGION_BUDGET_RUB)\n",
    "values_mean_2, lower_2, upper_2, risk_2  = bootstrap_regions(target_valid_2, predicted_valid_2, SELECTED_QUANTITY_POINTS, PRODUCT_UNITS_INCOME_RUB, REGION_BUDGET_RUB)"
   ]
  },
  {
   "cell_type": "code",
   "execution_count": 33,
   "metadata": {},
   "outputs": [
    {
     "name": "stdout",
     "output_type": "stream",
     "text": [
      "Средняя прибыль лучших месторождений региона_0 равна 425938526\n",
      "Средняя прибыль лучших месторождений региона_1 равна 515222772\n",
      "Средняя прибыль лучших месторождений региона_2 равна 435008362\n"
     ]
    }
   ],
   "source": [
    "print('Средняя прибыль лучших месторождений региона_0 равна', values_mean_0)\n",
    "print('Средняя прибыль лучших месторождений региона_1 равна', values_mean_1)\n",
    "print('Средняя прибыль лучших месторождений региона_2 равна', values_mean_2)"
   ]
  },
  {
   "cell_type": "code",
   "execution_count": 34,
   "metadata": {},
   "outputs": [
    {
     "name": "stdout",
     "output_type": "stream",
     "text": [
      "95% доверительный интервал для средней прибыли 200 лучших месторождений региона_0 -102090093 947976352\n",
      "95% доверительный интервал для средней прибыли 200 лучших месторождений региона_1 68873225 931547590\n",
      "95% доверительный интервал для средней прибыли 200 лучших месторождений региона_2 -128880546 969706953\n"
     ]
    }
   ],
   "source": [
    "print('95% доверительный интервал для средней прибыли 200 лучших месторождений региона_0', lower_0, upper_0)\n",
    "print('95% доверительный интервал для средней прибыли 200 лучших месторождений региона_1', lower_1, upper_1)\n",
    "print('95% доверительный интервал для средней прибыли 200 лучших месторождений региона_2', lower_2, upper_2)"
   ]
  },
  {
   "cell_type": "code",
   "execution_count": 35,
   "metadata": {},
   "outputs": [
    {
     "name": "stdout",
     "output_type": "stream",
     "text": [
      "Риск убытков региона_0 равен 6 %\n",
      "Риск убытков региона_1 равен 1 %\n",
      "Риск убытков региона_2 равен 6 %\n"
     ]
    }
   ],
   "source": [
    "print('Риск убытков региона_0 равен', risk_0, '%')\n",
    "print('Риск убытков региона_1 равен', risk_1, '%')\n",
    "print('Риск убытков региона_2 равен', risk_2, '%')"
   ]
  },
  {
   "cell_type": "markdown",
   "metadata": {},
   "source": [
    "### Выводы\n",
    "В рамках исследования проведена загрузка и подготовка данных, обучена модель линейной регрессии, и подготовлен прогноз запасов для скважин трёх регионов. \n",
    "\n",
    "Регион_0. Средний запас сырья: 92.59 тыс. баррелей  rmse: 37.5794217150813\n",
    "Регион_1. Средний запас сырья: 68.72 тыс. баррелей rmse: 0.8930992867756155\n",
    "Регион_2. Средний запас сырья: 94.96 тыс. баррелей  rmse: 40.02970873393434\n",
    "\n",
    "Достаточный объём сырья для безубыточной разработки новой скважины равен 111111 барреля или 111.111 единицы продукта (тыс. баррелей)\n",
    "\n",
    "В каждом из трёх регионов средний запас сырья скважины меньше полученного значения достаточного объёма сырья на 18.5, 42.3, 16.1 тыс. баррелей.\n",
    "\n",
    "Применили технику Bootstrap с 1000 выборок, для нахождения распределение прибыли\n",
    "\n",
    "Средняя прибыль лучших месторождений региона_0 равна 425 938 526 руб.\n",
    "\n",
    "Средняя прибыль лучших месторождений региона_1 равна 515 222 772 руб.\n",
    "\n",
    "Средняя прибыль лучших месторождений региона_2 равна 435 008 362 руб.\n",
    "\n",
    "95% доверительный интервал для средней прибыли 200 лучших месторождений региона_0:  -102090093, 947976352\n",
    "\n",
    "95% доверительный интервал для средней прибыли 200 лучших месторождений региона_1:  68873225, 931547590\n",
    "\n",
    "95% доверительный интервал для средней прибыли 200 лучших месторождений региона_2:  -128880546, 969706953\n",
    "\n",
    "Риск убытков региона_0 равен 6 %\n",
    "\n",
    "Риск убытков региона_1 равен 1 %\n",
    "\n",
    "Риск убытков региона_2 равен 6 %\n",
    "\n",
    "На основании полученных данных можно сделать вывод, что регион 1 является наиболее привлекательным для разработки.\n",
    "Самая высокая прибыль лучших месторождений, более узкие рамки доверительного интервала и наименьший риск получения убытков позволяют обосновать соответствующий вывод по региону_1.\n",
    "\n",
    "Данный регион рекомендован к освоению."
   ]
  }
 ],
 "metadata": {
  "ExecuteTimeLog": [
   {
    "duration": 45,
    "start_time": "2022-10-13T08:16:07.279Z"
   },
   {
    "duration": 1183,
    "start_time": "2022-10-13T08:16:41.361Z"
   },
   {
    "duration": 447,
    "start_time": "2022-10-13T08:16:42.546Z"
   },
   {
    "duration": 3,
    "start_time": "2022-10-13T08:16:42.995Z"
   },
   {
    "duration": 1712,
    "start_time": "2022-10-13T08:16:42.999Z"
   },
   {
    "duration": 6,
    "start_time": "2022-10-13T08:16:44.714Z"
   },
   {
    "duration": 44,
    "start_time": "2022-10-13T08:16:44.721Z"
   },
   {
    "duration": 12,
    "start_time": "2022-10-13T08:16:44.767Z"
   },
   {
    "duration": 128,
    "start_time": "2022-10-13T08:16:44.781Z"
   },
   {
    "duration": 355,
    "start_time": "2022-10-13T08:16:44.910Z"
   },
   {
    "duration": 338,
    "start_time": "2022-10-13T08:16:45.268Z"
   },
   {
    "duration": 420,
    "start_time": "2022-10-13T08:16:45.608Z"
   },
   {
    "duration": 9,
    "start_time": "2022-10-13T08:16:46.030Z"
   },
   {
    "duration": 32,
    "start_time": "2022-10-13T08:16:46.041Z"
   },
   {
    "duration": 4,
    "start_time": "2022-10-13T08:16:46.075Z"
   },
   {
    "duration": 107,
    "start_time": "2022-10-13T08:16:46.096Z"
   },
   {
    "duration": 99,
    "start_time": "2022-10-13T08:16:46.205Z"
   },
   {
    "duration": 99,
    "start_time": "2022-10-13T08:16:46.306Z"
   },
   {
    "duration": 98,
    "start_time": "2022-10-13T08:16:46.407Z"
   },
   {
    "duration": 8,
    "start_time": "2022-10-13T08:16:46.506Z"
   },
   {
    "duration": 5,
    "start_time": "2022-10-13T08:16:46.515Z"
   },
   {
    "duration": 8,
    "start_time": "2022-10-13T08:16:46.521Z"
   },
   {
    "duration": 6,
    "start_time": "2022-10-13T08:16:46.531Z"
   },
   {
    "duration": 8,
    "start_time": "2022-10-13T08:16:46.539Z"
   },
   {
    "duration": 8,
    "start_time": "2022-10-13T08:16:46.549Z"
   },
   {
    "duration": 7,
    "start_time": "2022-10-13T08:16:46.559Z"
   },
   {
    "duration": 30,
    "start_time": "2022-10-13T08:16:46.568Z"
   },
   {
    "duration": 7,
    "start_time": "2022-10-13T08:16:46.600Z"
   },
   {
    "duration": 7,
    "start_time": "2022-10-13T08:16:46.610Z"
   },
   {
    "duration": 8,
    "start_time": "2022-10-13T08:16:46.618Z"
   },
   {
    "duration": 7,
    "start_time": "2022-10-13T08:16:46.628Z"
   },
   {
    "duration": 8,
    "start_time": "2022-10-13T08:16:46.637Z"
   },
   {
    "duration": 9,
    "start_time": "2022-10-13T08:16:46.647Z"
   },
   {
    "duration": 39,
    "start_time": "2022-10-13T08:16:46.658Z"
   },
   {
    "duration": 16,
    "start_time": "2022-10-13T08:16:46.699Z"
   },
   {
    "duration": 4,
    "start_time": "2022-10-13T08:16:46.717Z"
   },
   {
    "duration": 8,
    "start_time": "2022-10-13T08:16:46.723Z"
   },
   {
    "duration": 6,
    "start_time": "2022-10-13T08:16:46.733Z"
   },
   {
    "duration": 7,
    "start_time": "2022-10-13T08:16:46.740Z"
   },
   {
    "duration": 11,
    "start_time": "2022-10-13T08:16:46.748Z"
   },
   {
    "duration": 3,
    "start_time": "2022-10-13T08:16:46.761Z"
   },
   {
    "duration": 745,
    "start_time": "2022-10-13T08:16:46.765Z"
   },
   {
    "duration": 4,
    "start_time": "2022-10-13T08:16:47.512Z"
   },
   {
    "duration": 7,
    "start_time": "2022-10-13T08:16:47.517Z"
   },
   {
    "duration": 771,
    "start_time": "2022-10-13T08:16:47.525Z"
   },
   {
    "duration": 6,
    "start_time": "2022-10-13T08:16:48.298Z"
   },
   {
    "duration": 11,
    "start_time": "2022-10-13T08:16:48.306Z"
   },
   {
    "duration": 706,
    "start_time": "2022-10-13T08:16:48.319Z"
   },
   {
    "duration": 4,
    "start_time": "2022-10-13T08:16:49.027Z"
   },
   {
    "duration": 9,
    "start_time": "2022-10-13T08:16:49.033Z"
   },
   {
    "duration": 6,
    "start_time": "2022-10-13T08:18:57.852Z"
   },
   {
    "duration": 6,
    "start_time": "2022-10-13T08:19:21.418Z"
   },
   {
    "duration": 4,
    "start_time": "2022-10-13T08:19:46.502Z"
   },
   {
    "duration": 8,
    "start_time": "2022-10-13T08:19:58.692Z"
   },
   {
    "duration": 4,
    "start_time": "2022-10-13T08:20:20.598Z"
   },
   {
    "duration": 4,
    "start_time": "2022-10-13T08:20:30.914Z"
   },
   {
    "duration": 7,
    "start_time": "2022-10-13T08:20:52.652Z"
   },
   {
    "duration": 6,
    "start_time": "2022-10-13T08:21:07.579Z"
   },
   {
    "duration": 4,
    "start_time": "2022-10-13T08:21:30.490Z"
   },
   {
    "duration": 7,
    "start_time": "2022-10-13T08:21:50.268Z"
   },
   {
    "duration": 5,
    "start_time": "2022-10-13T08:22:26.445Z"
   },
   {
    "duration": 13,
    "start_time": "2022-10-13T08:22:31.987Z"
   },
   {
    "duration": 6,
    "start_time": "2022-10-13T08:22:56.178Z"
   },
   {
    "duration": 7,
    "start_time": "2022-10-13T08:43:20.754Z"
   },
   {
    "duration": 7,
    "start_time": "2022-10-13T08:47:04.224Z"
   },
   {
    "duration": 6,
    "start_time": "2022-10-13T08:47:14.689Z"
   },
   {
    "duration": 75,
    "start_time": "2022-10-13T08:47:47.734Z"
   },
   {
    "duration": 108,
    "start_time": "2022-10-13T08:47:53.187Z"
   },
   {
    "duration": 9,
    "start_time": "2022-10-13T08:47:58.346Z"
   },
   {
    "duration": 11,
    "start_time": "2022-10-13T08:48:19.160Z"
   },
   {
    "duration": 3,
    "start_time": "2022-10-13T08:48:45.568Z"
   },
   {
    "duration": 13,
    "start_time": "2022-10-13T08:48:48.389Z"
   },
   {
    "duration": 10,
    "start_time": "2022-10-13T08:49:06.965Z"
   },
   {
    "duration": 4,
    "start_time": "2022-10-13T08:52:24.356Z"
   },
   {
    "duration": 7,
    "start_time": "2022-10-13T08:52:29.468Z"
   },
   {
    "duration": 5,
    "start_time": "2022-10-13T08:52:54.283Z"
   },
   {
    "duration": 3,
    "start_time": "2022-10-13T08:53:14.042Z"
   },
   {
    "duration": 7,
    "start_time": "2022-10-13T08:53:19.063Z"
   },
   {
    "duration": 6,
    "start_time": "2022-10-13T08:54:09.350Z"
   },
   {
    "duration": 4,
    "start_time": "2022-10-13T08:56:58.099Z"
   },
   {
    "duration": 5,
    "start_time": "2022-10-13T08:57:43.045Z"
   },
   {
    "duration": 3,
    "start_time": "2022-10-13T08:58:25.297Z"
   },
   {
    "duration": 5,
    "start_time": "2022-10-13T08:58:57.782Z"
   },
   {
    "duration": 6,
    "start_time": "2022-10-13T08:59:04.873Z"
   },
   {
    "duration": 6,
    "start_time": "2022-10-13T08:59:09.443Z"
   },
   {
    "duration": 4,
    "start_time": "2022-10-13T09:00:26.138Z"
   },
   {
    "duration": 12,
    "start_time": "2022-10-13T09:01:23.034Z"
   },
   {
    "duration": 4,
    "start_time": "2022-10-13T09:04:44.845Z"
   },
   {
    "duration": 14,
    "start_time": "2022-10-13T09:04:48.090Z"
   },
   {
    "duration": 4,
    "start_time": "2022-10-13T09:04:57.937Z"
   },
   {
    "duration": 13,
    "start_time": "2022-10-13T09:05:00.687Z"
   },
   {
    "duration": 16,
    "start_time": "2022-10-13T09:24:41.250Z"
   },
   {
    "duration": 13,
    "start_time": "2022-10-13T09:25:15.546Z"
   },
   {
    "duration": 25,
    "start_time": "2022-10-13T09:26:51.244Z"
   },
   {
    "duration": 1517,
    "start_time": "2022-10-13T09:27:01.034Z"
   },
   {
    "duration": 10,
    "start_time": "2022-10-13T09:33:11.508Z"
   },
   {
    "duration": 6,
    "start_time": "2022-10-13T09:33:15.453Z"
   },
   {
    "duration": 1612,
    "start_time": "2022-10-13T09:33:18.025Z"
   },
   {
    "duration": 4926,
    "start_time": "2022-10-13T09:34:07.796Z"
   },
   {
    "duration": 7,
    "start_time": "2022-10-13T09:35:27.227Z"
   },
   {
    "duration": 7,
    "start_time": "2022-10-13T09:35:43.451Z"
   },
   {
    "duration": 14,
    "start_time": "2022-10-13T09:36:33.865Z"
   },
   {
    "duration": 3,
    "start_time": "2022-10-13T09:36:48.680Z"
   },
   {
    "duration": 3,
    "start_time": "2022-10-13T09:36:53.366Z"
   },
   {
    "duration": 4,
    "start_time": "2022-10-13T09:38:18.028Z"
   },
   {
    "duration": 4268,
    "start_time": "2022-10-13T09:38:20.914Z"
   },
   {
    "duration": 4334,
    "start_time": "2022-10-13T09:39:27.395Z"
   },
   {
    "duration": 1469,
    "start_time": "2022-10-13T10:04:37.628Z"
   },
   {
    "duration": 9,
    "start_time": "2022-10-13T10:04:55.850Z"
   },
   {
    "duration": 4,
    "start_time": "2022-10-13T10:05:21.155Z"
   },
   {
    "duration": 9,
    "start_time": "2022-10-13T10:05:28.378Z"
   },
   {
    "duration": 1366,
    "start_time": "2022-10-13T10:05:34.494Z"
   },
   {
    "duration": 6,
    "start_time": "2022-10-13T10:05:39.186Z"
   },
   {
    "duration": 6,
    "start_time": "2022-10-13T10:05:45.674Z"
   },
   {
    "duration": 5,
    "start_time": "2022-10-13T10:07:07.919Z"
   },
   {
    "duration": 4121,
    "start_time": "2022-10-13T10:07:23.276Z"
   },
   {
    "duration": 6,
    "start_time": "2022-10-13T10:08:10.915Z"
   },
   {
    "duration": 1432,
    "start_time": "2022-10-13T10:08:53.988Z"
   },
   {
    "duration": 4647,
    "start_time": "2022-10-13T10:10:16.101Z"
   },
   {
    "duration": 6,
    "start_time": "2022-10-13T10:10:51.108Z"
   },
   {
    "duration": 4,
    "start_time": "2022-10-13T10:13:37.840Z"
   },
   {
    "duration": 4,
    "start_time": "2022-10-13T10:14:38.063Z"
   },
   {
    "duration": 4036,
    "start_time": "2022-10-13T10:14:43.890Z"
   },
   {
    "duration": 4,
    "start_time": "2022-10-13T10:14:50.143Z"
   },
   {
    "duration": 5,
    "start_time": "2022-10-13T10:15:04.743Z"
   },
   {
    "duration": 12,
    "start_time": "2022-10-13T10:15:50.695Z"
   },
   {
    "duration": 9,
    "start_time": "2022-10-13T10:15:57.370Z"
   },
   {
    "duration": 8,
    "start_time": "2022-10-13T10:16:32.489Z"
   },
   {
    "duration": 5,
    "start_time": "2022-10-13T10:16:38.977Z"
   },
   {
    "duration": 7,
    "start_time": "2022-10-13T10:16:44.743Z"
   },
   {
    "duration": 6,
    "start_time": "2022-10-13T10:17:33.126Z"
   },
   {
    "duration": 6,
    "start_time": "2022-10-13T10:17:44.685Z"
   },
   {
    "duration": 5,
    "start_time": "2022-10-13T10:17:53.167Z"
   },
   {
    "duration": 5,
    "start_time": "2022-10-13T10:18:00.283Z"
   },
   {
    "duration": 7,
    "start_time": "2022-10-13T10:18:26.083Z"
   },
   {
    "duration": 4291,
    "start_time": "2022-10-13T10:18:46.843Z"
   },
   {
    "duration": 4,
    "start_time": "2022-10-13T10:20:37.192Z"
   },
   {
    "duration": 5,
    "start_time": "2022-10-13T10:21:17.239Z"
   },
   {
    "duration": 5,
    "start_time": "2022-10-13T10:39:56.201Z"
   },
   {
    "duration": 28,
    "start_time": "2022-10-13T10:42:08.442Z"
   },
   {
    "duration": 4,
    "start_time": "2022-10-13T10:42:24.116Z"
   },
   {
    "duration": 418,
    "start_time": "2022-10-13T10:43:18.486Z"
   },
   {
    "duration": 7,
    "start_time": "2022-10-13T10:43:42.849Z"
   },
   {
    "duration": 1046,
    "start_time": "2022-10-13T10:53:54.849Z"
   },
   {
    "duration": 277,
    "start_time": "2022-10-13T10:53:55.897Z"
   },
   {
    "duration": 3,
    "start_time": "2022-10-13T10:53:56.176Z"
   },
   {
    "duration": 391,
    "start_time": "2022-10-13T10:53:56.182Z"
   },
   {
    "duration": 6,
    "start_time": "2022-10-13T10:53:56.574Z"
   },
   {
    "duration": 51,
    "start_time": "2022-10-13T10:53:56.582Z"
   },
   {
    "duration": 17,
    "start_time": "2022-10-13T10:53:56.634Z"
   },
   {
    "duration": 142,
    "start_time": "2022-10-13T10:53:56.665Z"
   },
   {
    "duration": 367,
    "start_time": "2022-10-13T10:53:56.809Z"
   },
   {
    "duration": 382,
    "start_time": "2022-10-13T10:53:57.180Z"
   },
   {
    "duration": 442,
    "start_time": "2022-10-13T10:53:57.564Z"
   },
   {
    "duration": 3,
    "start_time": "2022-10-13T10:53:58.008Z"
   },
   {
    "duration": 4,
    "start_time": "2022-10-13T10:53:58.013Z"
   },
   {
    "duration": 7,
    "start_time": "2022-10-13T10:53:58.019Z"
   },
   {
    "duration": 4,
    "start_time": "2022-10-13T10:53:58.028Z"
   },
   {
    "duration": 8,
    "start_time": "2022-10-13T10:53:58.034Z"
   },
   {
    "duration": 5,
    "start_time": "2022-10-13T10:53:58.043Z"
   },
   {
    "duration": 5,
    "start_time": "2022-10-13T10:53:58.051Z"
   },
   {
    "duration": 6,
    "start_time": "2022-10-13T10:53:58.058Z"
   },
   {
    "duration": 342,
    "start_time": "2022-10-13T10:53:58.066Z"
   },
   {
    "duration": 6,
    "start_time": "2022-10-13T10:53:58.411Z"
   },
   {
    "duration": 183,
    "start_time": "2022-10-13T10:53:58.418Z"
   },
   {
    "duration": 12,
    "start_time": "2022-10-13T10:53:58.602Z"
   },
   {
    "duration": 7,
    "start_time": "2022-10-13T10:53:58.616Z"
   },
   {
    "duration": 9,
    "start_time": "2022-10-13T10:53:58.625Z"
   },
   {
    "duration": 10,
    "start_time": "2022-10-13T10:53:58.635Z"
   },
   {
    "duration": 18,
    "start_time": "2022-10-13T10:53:58.647Z"
   },
   {
    "duration": 8,
    "start_time": "2022-10-13T10:53:58.669Z"
   },
   {
    "duration": 18,
    "start_time": "2022-10-13T10:53:58.679Z"
   },
   {
    "duration": 4,
    "start_time": "2022-10-13T10:53:58.699Z"
   },
   {
    "duration": 10,
    "start_time": "2022-10-13T10:53:58.705Z"
   },
   {
    "duration": 4237,
    "start_time": "2022-10-13T10:53:58.717Z"
   },
   {
    "duration": 3,
    "start_time": "2022-10-13T10:54:02.957Z"
   },
   {
    "duration": 10,
    "start_time": "2022-10-13T10:54:02.962Z"
   },
   {
    "duration": 8,
    "start_time": "2022-10-13T10:54:02.974Z"
   },
   {
    "duration": 222,
    "start_time": "2022-10-14T06:11:22.014Z"
   }
  ],
  "kernelspec": {
   "display_name": "Python 3",
   "language": "python",
   "name": "python3"
  },
  "language_info": {
   "codemirror_mode": {
    "name": "ipython",
    "version": 3
   },
   "file_extension": ".py",
   "mimetype": "text/x-python",
   "name": "python",
   "nbconvert_exporter": "python",
   "pygments_lexer": "ipython3",
   "version": "3.8.5"
  },
  "toc": {
   "base_numbering": 1,
   "nav_menu": {},
   "number_sections": true,
   "sideBar": true,
   "skip_h1_title": true,
   "title_cell": "Table of Contents",
   "title_sidebar": "Contents",
   "toc_cell": false,
   "toc_position": {
    "height": "calc(100% - 180px)",
    "left": "10px",
    "top": "150px",
    "width": "165px"
   },
   "toc_section_display": true,
   "toc_window_display": false
  }
 },
 "nbformat": 4,
 "nbformat_minor": 2
}
