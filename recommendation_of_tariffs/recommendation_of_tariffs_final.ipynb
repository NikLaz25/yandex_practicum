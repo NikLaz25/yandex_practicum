{
 "cells": [
  {
   "cell_type": "markdown",
   "metadata": {},
   "source": [
    "## Рекомендация тарифов"
   ]
  },
  {
   "cell_type": "markdown",
   "metadata": {},
   "source": [
    "### Описание проекта\n",
    "\n",
    "Оператор мобильной связи выяснил: многие клиенты пользуются архивными тарифами. Они хотят построить систему, способную проанализировать поведение клиентов и предложить пользователям новый тариф: «Смарт» или «Ультра».\n",
    "\n",
    "В нашем распоряжении данные о поведении клиентов, которые уже перешли на новые тарифы. Нужно построить модель для задачи классификации, которая выберет подходящий тариф. Предобработка данных не понадобится — сделана ранее в предыдущем проекте.\n",
    "\n",
    "Необходимо построить модель с максимально большим значением *accuracy*, и довести долю правильных ответов по крайней мере до 0.75. Проверить *accuracy* на тестовой выборке."
   ]
  },
  {
   "cell_type": "markdown",
   "metadata": {},
   "source": [
    "### Описание данных\n",
    "Каждый объект в наборе данных — это информация о поведении одного пользователя за месяц. Известно:\n",
    "\n",
    "\t• сalls — количество звонков,\n",
    "\t• minutes — суммарная длительность звонков в минутах,\n",
    "\t• messages — количество sms-сообщений,\n",
    "\t• mb_used — израсходованный интернет-трафик в Мб,\n",
    "    • is_ultra — каким тарифом пользовался в течение месяца («Ультра» — 1, «Смарт» — 0)."
   ]
  },
  {
   "cell_type": "markdown",
   "metadata": {},
   "source": [
    "## Откроем и изучим файл"
   ]
  },
  {
   "cell_type": "code",
   "execution_count": 1,
   "metadata": {},
   "outputs": [],
   "source": [
    "# загрузим необходимые библиотеки\n",
    "import pandas as pd\n",
    "from sklearn.model_selection import train_test_split\n",
    "# from sklearn.metrics import mean_squared_error\n",
    "from sklearn.metrics import accuracy_score\n",
    "from sklearn.metrics import f1_score"
   ]
  },
  {
   "cell_type": "code",
   "execution_count": 2,
   "metadata": {},
   "outputs": [],
   "source": [
    "from sklearn.tree import DecisionTreeClassifier\n",
    "from sklearn.ensemble import RandomForestClassifier\n",
    "from sklearn.linear_model import LogisticRegression"
   ]
  },
  {
   "cell_type": "code",
   "execution_count": 3,
   "metadata": {},
   "outputs": [],
   "source": [
    "import matplotlib.pyplot as plt\n",
    "from sklearn.tree import plot_tree\n",
    "import seaborn as sns # Хор библ., красочные визуализации, меньше кода"
   ]
  },
  {
   "cell_type": "code",
   "execution_count": 4,
   "metadata": {},
   "outputs": [],
   "source": [
    "df = pd.read_csv('users_behavior.csv')\n",
    "# df = pd.read_csv('/datasets/users_behavior.csv')"
   ]
  },
  {
   "cell_type": "code",
   "execution_count": 5,
   "metadata": {},
   "outputs": [
    {
     "data": {
      "text/html": [
       "<div>\n",
       "<style scoped>\n",
       "    .dataframe tbody tr th:only-of-type {\n",
       "        vertical-align: middle;\n",
       "    }\n",
       "\n",
       "    .dataframe tbody tr th {\n",
       "        vertical-align: top;\n",
       "    }\n",
       "\n",
       "    .dataframe thead th {\n",
       "        text-align: right;\n",
       "    }\n",
       "</style>\n",
       "<table border=\"1\" class=\"dataframe\">\n",
       "  <thead>\n",
       "    <tr style=\"text-align: right;\">\n",
       "      <th></th>\n",
       "      <th>calls</th>\n",
       "      <th>minutes</th>\n",
       "      <th>messages</th>\n",
       "      <th>mb_used</th>\n",
       "      <th>is_ultra</th>\n",
       "    </tr>\n",
       "  </thead>\n",
       "  <tbody>\n",
       "    <tr>\n",
       "      <th>0</th>\n",
       "      <td>40.0</td>\n",
       "      <td>311.90</td>\n",
       "      <td>83.0</td>\n",
       "      <td>19915.42</td>\n",
       "      <td>0</td>\n",
       "    </tr>\n",
       "    <tr>\n",
       "      <th>1</th>\n",
       "      <td>85.0</td>\n",
       "      <td>516.75</td>\n",
       "      <td>56.0</td>\n",
       "      <td>22696.96</td>\n",
       "      <td>0</td>\n",
       "    </tr>\n",
       "    <tr>\n",
       "      <th>2</th>\n",
       "      <td>77.0</td>\n",
       "      <td>467.66</td>\n",
       "      <td>86.0</td>\n",
       "      <td>21060.45</td>\n",
       "      <td>0</td>\n",
       "    </tr>\n",
       "    <tr>\n",
       "      <th>3</th>\n",
       "      <td>106.0</td>\n",
       "      <td>745.53</td>\n",
       "      <td>81.0</td>\n",
       "      <td>8437.39</td>\n",
       "      <td>1</td>\n",
       "    </tr>\n",
       "    <tr>\n",
       "      <th>4</th>\n",
       "      <td>66.0</td>\n",
       "      <td>418.74</td>\n",
       "      <td>1.0</td>\n",
       "      <td>14502.75</td>\n",
       "      <td>0</td>\n",
       "    </tr>\n",
       "  </tbody>\n",
       "</table>\n",
       "</div>"
      ],
      "text/plain": [
       "   calls  minutes  messages   mb_used  is_ultra\n",
       "0   40.0   311.90      83.0  19915.42         0\n",
       "1   85.0   516.75      56.0  22696.96         0\n",
       "2   77.0   467.66      86.0  21060.45         0\n",
       "3  106.0   745.53      81.0   8437.39         1\n",
       "4   66.0   418.74       1.0  14502.75         0"
      ]
     },
     "execution_count": 5,
     "metadata": {},
     "output_type": "execute_result"
    }
   ],
   "source": [
    "df.head()"
   ]
  },
  {
   "cell_type": "code",
   "execution_count": 6,
   "metadata": {},
   "outputs": [
    {
     "data": {
      "text/plain": [
       "(3214, 5)"
      ]
     },
     "execution_count": 6,
     "metadata": {},
     "output_type": "execute_result"
    }
   ],
   "source": [
    "# смотрим размеры \n",
    "df.shape"
   ]
  },
  {
   "cell_type": "code",
   "execution_count": 7,
   "metadata": {},
   "outputs": [
    {
     "name": "stdout",
     "output_type": "stream",
     "text": [
      "<class 'pandas.core.frame.DataFrame'>\n",
      "RangeIndex: 3214 entries, 0 to 3213\n",
      "Data columns (total 5 columns):\n",
      " #   Column    Non-Null Count  Dtype  \n",
      "---  ------    --------------  -----  \n",
      " 0   calls     3214 non-null   float64\n",
      " 1   minutes   3214 non-null   float64\n",
      " 2   messages  3214 non-null   float64\n",
      " 3   mb_used   3214 non-null   float64\n",
      " 4   is_ultra  3214 non-null   int64  \n",
      "dtypes: float64(4), int64(1)\n",
      "memory usage: 125.7 KB\n"
     ]
    }
   ],
   "source": [
    "df.info()"
   ]
  },
  {
   "cell_type": "markdown",
   "metadata": {},
   "source": [
    "## Разобьём данные на выборки"
   ]
  },
  {
   "cell_type": "code",
   "execution_count": 8,
   "metadata": {},
   "outputs": [],
   "source": [
    "features = df.drop(['is_ultra'], axis=1)"
   ]
  },
  {
   "cell_type": "code",
   "execution_count": 9,
   "metadata": {},
   "outputs": [],
   "source": [
    "target = df['is_ultra']"
   ]
  },
  {
   "cell_type": "code",
   "execution_count": 10,
   "metadata": {},
   "outputs": [],
   "source": [
    "# делим датафрейм на две равные части с учётом стратификации\n",
    "features_train, features_valid, target_train, target_valid = \\\n",
    "train_test_split(features, target, test_size = 0.5, random_state=12345, stratify = target)"
   ]
  },
  {
   "cell_type": "code",
   "execution_count": 11,
   "metadata": {},
   "outputs": [],
   "source": [
    "# вторую часть делим ещё на две равные части с учётом стратификации\n",
    "features_valid, features_test, target_valid, target_test = \\\n",
    "train_test_split(features_valid, target_valid, test_size = 0.5, random_state=12345, stratify = target_valid)"
   ]
  },
  {
   "cell_type": "code",
   "execution_count": 12,
   "metadata": {},
   "outputs": [
    {
     "data": {
      "text/plain": [
       "((1607, 4), (1607,), (803, 4), (803,), (804, 4), (804,))"
      ]
     },
     "execution_count": 12,
     "metadata": {},
     "output_type": "execute_result"
    }
   ],
   "source": [
    "# посмотрим размеры выборок\n",
    "features_train.shape, target_train.shape, \\\n",
    "features_valid.shape, target_valid.shape, \\\n",
    "features_test.shape, target_test.shape"
   ]
  },
  {
   "cell_type": "markdown",
   "metadata": {},
   "source": [
    "## Исследуем модели"
   ]
  },
  {
   "cell_type": "markdown",
   "metadata": {},
   "source": [
    "#### Модель дерево решений"
   ]
  },
  {
   "cell_type": "code",
   "execution_count": 13,
   "metadata": {},
   "outputs": [],
   "source": [
    "# Модель дерево решений\n",
    "model_decision_tree = DecisionTreeClassifier(\n",
    "    random_state=12345, max_depth = 5)"
   ]
  },
  {
   "cell_type": "code",
   "execution_count": 14,
   "metadata": {},
   "outputs": [
    {
     "data": {
      "text/plain": [
       "DecisionTreeClassifier(max_depth=5, random_state=12345)"
      ]
     },
     "execution_count": 14,
     "metadata": {},
     "output_type": "execute_result"
    }
   ],
   "source": [
    "# обучим модель\n",
    "model_decision_tree.fit(features_train, target_train)"
   ]
  },
  {
   "cell_type": "code",
   "execution_count": 15,
   "metadata": {},
   "outputs": [],
   "source": [
    "# подготовим прогноз\n",
    "pred_decision_tree_valid = \\\n",
    "model_decision_tree.predict(features_valid)"
   ]
  },
  {
   "cell_type": "code",
   "execution_count": 16,
   "metadata": {},
   "outputs": [
    {
     "data": {
      "text/plain": [
       "0.7683686176836861"
      ]
     },
     "execution_count": 16,
     "metadata": {},
     "output_type": "execute_result"
    }
   ],
   "source": [
    "# посмотрим точность score\n",
    "accuracy_score(target_valid, pred_decision_tree_valid)"
   ]
  },
  {
   "cell_type": "code",
   "execution_count": 17,
   "metadata": {},
   "outputs": [
    {
     "data": {
      "text/plain": [
       "0.5507246376811594"
      ]
     },
     "execution_count": 17,
     "metadata": {},
     "output_type": "execute_result"
    }
   ],
   "source": [
    "# посмотрим меру f1\n",
    "f1_score(target_valid, pred_decision_tree_valid)"
   ]
  },
  {
   "cell_type": "code",
   "execution_count": 18,
   "metadata": {},
   "outputs": [
    {
     "name": "stdout",
     "output_type": "stream",
     "text": [
      "best_model_decision_tree DecisionTreeClassifier(max_depth=10, random_state=12345)\n",
      "best_result_accuracy_score 0.7845579078455791\n",
      "best_f1 0.571992110453649\n"
     ]
    }
   ],
   "source": [
    "# найдем лучшие параметры глубины дерева с помощью цикла\n",
    "best_result = 0\n",
    "max_depth_list = []\n",
    "result_list = []\n",
    "result_train_list = []\n",
    "for depth in range(1, 35):\n",
    "\n",
    "    # создадим модель с параметром задаваемым в цикле\n",
    "    model_decision_tree = DecisionTreeClassifier(\n",
    "    random_state=12345, max_depth = depth)\n",
    "    # обучим модель\n",
    "    model_decision_tree.fit(features_train, target_train)\n",
    "    # подготовим прогноз\n",
    "    pred_decision_tree_valid = model_decision_tree.predict(features_valid)\n",
    "    # посчитаем точность\n",
    "    result = accuracy_score(target_valid, pred_decision_tree_valid)\n",
    "    f1 = f1_score(target_valid, pred_decision_tree_valid)\n",
    "    # запишем параметры в список\n",
    "    max_depth_list.append(depth)\n",
    "    result_list.append(result)\n",
    "    \n",
    "    # Запишем трейн\n",
    "    pred_decision_tree_train = model_decision_tree.predict(features_train)\n",
    "    result_train = accuracy_score(target_train, pred_decision_tree_train)\n",
    "    result_train_list.append(result_train)\n",
    "    \n",
    "    # найдем лучшую модель\n",
    "    if result > best_result:\n",
    "        best_result = result\n",
    "        best_model_decision_tree = model_decision_tree\n",
    "        best_f1 = f1\n",
    "        \n",
    "print('best_model_decision_tree', best_model_decision_tree)\n",
    "print('best_result_accuracy_score', best_result)\n",
    "print('best_f1', f1)\n",
    "    \n",
    "    "
   ]
  },
  {
   "cell_type": "code",
   "execution_count": 19,
   "metadata": {
    "scrolled": true
   },
   "outputs": [
    {
     "data": {
      "image/png": "[encoded data removed]",
      "text/plain": [
       "<Figure size 432x288 with 1 Axes>"
      ]
     },
     "metadata": {
      "needs_background": "light"
     },
     "output_type": "display_data"
    }
   ],
   "source": [
    "# построим график зависимости точности от параметров\n",
    "# верхний график для прогноза на трейне\n",
    "# нижний график для прогноза на валидационных данных\n",
    "# plt.figure(figsize=(10, 5))\n",
    "plt.plot(max_depth_list, result_list,label=\"x^2\")\n",
    "plt.plot(max_depth_list, result_train_list, label=\"x^123\")\n",
    "\n",
    "plt.xlabel('глубина max_depth')\n",
    "plt.ylabel('точность score')\n",
    "plt.title('Зависимость точности от гиперпараметров')\n",
    "plt.show()"
   ]
  },
  {
   "cell_type": "code",
   "execution_count": 20,
   "metadata": {},
   "outputs": [
    {
     "data": {
      "image/png": "[encoded data removed]",
      "text/plain": [
       "<Figure size 3600x2160 with 1 Axes>"
      ]
     },
     "metadata": {
      "needs_background": "light"
     },
     "output_type": "display_data"
    }
   ],
   "source": [
    "# построим первые ветки plot_tree\n",
    "plt.figure(figsize=(50, 30))\n",
    "plot_tree(best_model_decision_tree, feature_names=features_train.columns, filled = True, max_depth=2)\n",
    "plt.title('')\n",
    "plt.show()"
   ]
  },
  {
   "cell_type": "markdown",
   "metadata": {},
   "source": [
    "#### Модель случайный лес"
   ]
  },
  {
   "cell_type": "code",
   "execution_count": 21,
   "metadata": {},
   "outputs": [],
   "source": [
    "# Модель случайный лес \n",
    "model_random_forest = RandomForestClassifier(\n",
    "    random_state=12345, max_depth = 5, n_estimators=10)"
   ]
  },
  {
   "cell_type": "code",
   "execution_count": 22,
   "metadata": {},
   "outputs": [
    {
     "data": {
      "text/plain": [
       "RandomForestClassifier(max_depth=5, n_estimators=10, random_state=12345)"
      ]
     },
     "execution_count": 22,
     "metadata": {},
     "output_type": "execute_result"
    }
   ],
   "source": [
    "# обучим модель\n",
    "model_random_forest.fit(features_train, target_train)"
   ]
  },
  {
   "cell_type": "code",
   "execution_count": 23,
   "metadata": {},
   "outputs": [
    {
     "data": {
      "text/plain": [
       "0.775840597758406"
      ]
     },
     "execution_count": 23,
     "metadata": {},
     "output_type": "execute_result"
    }
   ],
   "source": [
    "# подготовим прогноз\n",
    "pred_random_forest_valid = \\\n",
    "model_random_forest.predict(features_valid)\n",
    "accuracy_score(target_valid, pred_random_forest_valid)"
   ]
  },
  {
   "cell_type": "code",
   "execution_count": 24,
   "metadata": {},
   "outputs": [
    {
     "data": {
      "text/plain": [
       "0.5360824742268042"
      ]
     },
     "execution_count": 24,
     "metadata": {},
     "output_type": "execute_result"
    }
   ],
   "source": [
    "# посмотрим меру f1\n",
    "f1_score(target_valid, pred_random_forest_valid)"
   ]
  },
  {
   "cell_type": "code",
   "execution_count": 25,
   "metadata": {},
   "outputs": [
    {
     "name": "stdout",
     "output_type": "stream",
     "text": [
      "best_model_random_forest RandomForestClassifier(max_depth=9, n_estimators=20, random_state=12345)\n",
      "best_result_accuracy_score 0.8069738480697385\n",
      "best_f1 0.6273584905660378\n",
      "Wall time: 9.45 s\n"
     ]
    }
   ],
   "source": [
    "%%time\n",
    "# Найдем лучшую модели и параметры с помощью цикла\n",
    "\n",
    "best_result_random_forest = 0\n",
    "forest_depth_list = []\n",
    "forest_estimator_list = []\n",
    "forest_score_list = []\n",
    "for depth in range(1, 16):\n",
    "    for estimator in range(10, 51, 10):\n",
    "        # создадим модель с параметром задаваемым в цикле\n",
    "        model_random_forest = RandomForestClassifier(random_state=12345, max_depth = depth, n_estimators = estimator)\n",
    "        # обучим модель\n",
    "        model_random_forest.fit(features_train, target_train)\n",
    "        # подготовим прогноз\n",
    "        pred_random_forest_valid = \\\n",
    "        model_random_forest.predict(features_valid)\n",
    "        # посчитаем точность\n",
    "        result = accuracy_score(target_valid, pred_random_forest_valid)\n",
    "        f1 = f1_score(target_valid, pred_random_forest_valid)\n",
    "        # запишем параметры в списки\n",
    "        forest_depth_list.append(depth)\n",
    "        forest_estimator_list.append(estimator)\n",
    "        forest_score_list.append(result)\n",
    "        \n",
    "        # найдем лучшую модель       \n",
    "        if result > best_result_random_forest:\n",
    "#             print(result, \"больше чем\", best_result_random_forest)\n",
    "            best_result_random_forest = result\n",
    "            best_model_random_forest = model_random_forest\n",
    "            best_estimator = estimator\n",
    "            best_f1 = f1\n",
    "        \n",
    "print('best_model_random_forest', best_model_random_forest)\n",
    "# print('best_estimator', best_estimator)\n",
    "print('best_result_accuracy_score', best_result_random_forest)\n",
    "print('best_f1', f1)"
   ]
  },
  {
   "cell_type": "markdown",
   "metadata": {},
   "source": [
    "<div class=\"alert alert-info\"> <b>Комментарии студента:</b>Добавил визуализацию</div>"
   ]
  },
  {
   "cell_type": "code",
   "execution_count": 26,
   "metadata": {
    "scrolled": true
   },
   "outputs": [
    {
     "name": "stderr",
     "output_type": "stream",
     "text": [
      "C:\\Users\\lazarevnv\\Anaconda3\\lib\\site-packages\\seaborn\\_decorators.py:36: FutureWarning: Pass the following variables as keyword args: x, y. From version 0.12, the only valid positional argument will be `data`, and passing other arguments without an explicit keyword will result in an error or misinterpretation.\n",
      "  warnings.warn(\n"
     ]
    },
    {
     "data": {
      "text/plain": [
       "<Figure size 720x360 with 0 Axes>"
      ]
     },
     "metadata": {},
     "output_type": "display_data"
    },
    {
     "data": {
      "image/png": "[encoded data removed]",
      "text/plain": [
       "<Figure size 360x360 with 3 Axes>"
      ]
     },
     "metadata": {
      "needs_background": "light"
     },
     "output_type": "display_data"
    }
   ],
   "source": [
    "# визуализируем зависимость точности от двух гиперпараметров\n",
    "plt.figure(figsize=(10, 5))\n",
    "\n",
    "grid = sns.jointplot(forest_depth_list, forest_estimator_list, kind='kde') # здесь кде - красивая визуализация. Долго\n",
    "grid.fig.set_figwidth(5) \n",
    "grid.fig.set_figheight(5)\n",
    "plt.show()\n"
   ]
  },
  {
   "cell_type": "markdown",
   "metadata": {},
   "source": [
    "#### Модель логистическая регрессия"
   ]
  },
  {
   "cell_type": "code",
   "execution_count": 27,
   "metadata": {},
   "outputs": [],
   "source": [
    "# Модель логистическая регрессия\n",
    "model_logistic_regression = LogisticRegression(\n",
    "    random_state=12345, solver='lbfgs', max_iter=100)"
   ]
  },
  {
   "cell_type": "code",
   "execution_count": 28,
   "metadata": {},
   "outputs": [
    {
     "data": {
      "text/plain": [
       "LogisticRegression(random_state=12345)"
      ]
     },
     "execution_count": 28,
     "metadata": {},
     "output_type": "execute_result"
    }
   ],
   "source": [
    "model_logistic_regression.fit(features_train, target_train)"
   ]
  },
  {
   "cell_type": "code",
   "execution_count": 29,
   "metadata": {},
   "outputs": [
    {
     "data": {
      "text/plain": [
       "0.7372353673723536"
      ]
     },
     "execution_count": 29,
     "metadata": {},
     "output_type": "execute_result"
    }
   ],
   "source": [
    "pred_logistic_regression_valid = \\\n",
    "model_logistic_regression.predict(features_valid)\n",
    "accuracy_score(target_valid, pred_logistic_regression_valid)"
   ]
  },
  {
   "cell_type": "code",
   "execution_count": 30,
   "metadata": {},
   "outputs": [
    {
     "data": {
      "text/plain": [
       "0.32587859424920124"
      ]
     },
     "execution_count": 30,
     "metadata": {},
     "output_type": "execute_result"
    }
   ],
   "source": [
    "# посмотрим меру f1\n",
    "f1_score(target_valid, pred_logistic_regression_valid)"
   ]
  },
  {
   "cell_type": "markdown",
   "metadata": {},
   "source": [
    "Лучшие параметры (best_result_accuracy_score 0.8069738480697385) на тренировочной выборке показала модель случайный лес с параметрами max_depth=9, n_estimators=20"
   ]
  },
  {
   "cell_type": "markdown",
   "metadata": {},
   "source": [
    "## Проверьте модель на тестовой выборке"
   ]
  },
  {
   "cell_type": "code",
   "execution_count": 31,
   "metadata": {},
   "outputs": [],
   "source": [
    "# получим прогноз на тестовой выборке\n",
    "pred_random_forest_test = best_model_random_forest.predict(features_test)"
   ]
  },
  {
   "cell_type": "code",
   "execution_count": 32,
   "metadata": {},
   "outputs": [
    {
     "data": {
      "text/plain": [
       "0.8134328358208955"
      ]
     },
     "execution_count": 32,
     "metadata": {},
     "output_type": "execute_result"
    }
   ],
   "source": [
    "# посмотрим точность прогноза лучшей модели случайного леса\n",
    "accuracy_score(target_test, pred_random_forest_test)"
   ]
  },
  {
   "cell_type": "code",
   "execution_count": 33,
   "metadata": {},
   "outputs": [
    {
     "data": {
      "text/plain": [
       "0.6411483253588517"
      ]
     },
     "execution_count": 33,
     "metadata": {},
     "output_type": "execute_result"
    }
   ],
   "source": [
    "# посмотрим меру f1 лучшей модели случайного леса\n",
    "f1_score(target_test, pred_random_forest_test)"
   ]
  },
  {
   "cell_type": "code",
   "execution_count": 34,
   "metadata": {},
   "outputs": [
    {
     "data": {
      "text/plain": [
       "((1607, 4), (1607,))"
      ]
     },
     "execution_count": 34,
     "metadata": {},
     "output_type": "execute_result"
    }
   ],
   "source": [
    "features_train.shape, target_train.shape"
   ]
  },
  {
   "cell_type": "code",
   "execution_count": 35,
   "metadata": {},
   "outputs": [
    {
     "data": {
      "text/plain": [
       "((803, 4), (803,))"
      ]
     },
     "execution_count": 35,
     "metadata": {},
     "output_type": "execute_result"
    }
   ],
   "source": [
    "features_valid.shape, target_valid.shape"
   ]
  },
  {
   "cell_type": "code",
   "execution_count": 36,
   "metadata": {},
   "outputs": [
    {
     "data": {
      "text/plain": [
       "((2410, 4), (2410,))"
      ]
     },
     "execution_count": 36,
     "metadata": {},
     "output_type": "execute_result"
    }
   ],
   "source": [
    "# обучим модель на объединенной выборке train+valid\n",
    "# для этого объединим выборки\n",
    "features_train_valid = pd.concat((features_train, features_valid), axis=0)\n",
    "target_train_valid = pd.concat((target_train, target_valid), axis=0)\n",
    "features_train_valid.shape, target_train_valid.shape"
   ]
  },
  {
   "cell_type": "code",
   "execution_count": 37,
   "metadata": {},
   "outputs": [],
   "source": [
    "# создадим модель с лучшими параметрами\n",
    "model_random_forest = RandomForestClassifier(random_state=12345, max_depth = 9, n_estimators = 20)\n",
    "# обучим модель\n",
    "model_random_forest.fit(features_train_valid, target_train_valid)\n",
    "# подготовим прогноз\n",
    "pred_random_forest_test = \\\n",
    "model_random_forest.predict(features_test)\n",
    "# посчитаем точность\n",
    "result = accuracy_score(target_test, pred_random_forest_test)\n",
    "f1 = f1_score(target_test, pred_random_forest_test)"
   ]
  },
  {
   "cell_type": "code",
   "execution_count": 38,
   "metadata": {},
   "outputs": [
    {
     "name": "stdout",
     "output_type": "stream",
     "text": [
      "accuracy_score 0.8208955223880597\n",
      "f1 0.6538461538461539\n"
     ]
    }
   ],
   "source": [
    "print('accuracy_score', result)\n",
    "print('f1', f1)"
   ]
  },
  {
   "cell_type": "markdown",
   "metadata": {},
   "source": [
    "Наше предположение подтвердилось. На объединенной выборке train_valid получилось обучить модель, и подготовить более точный прогноз."
   ]
  },
  {
   "cell_type": "markdown",
   "metadata": {},
   "source": [
    "## Проверим модели на адекватность"
   ]
  },
  {
   "cell_type": "code",
   "execution_count": 39,
   "metadata": {},
   "outputs": [],
   "source": [
    "from sklearn.dummy  import  DummyClassifier\n",
    "dummy_clf = DummyClassifier(strategy=\"most_frequent\")"
   ]
  },
  {
   "cell_type": "code",
   "execution_count": 40,
   "metadata": {},
   "outputs": [
    {
     "data": {
      "text/plain": [
       "DummyClassifier(strategy='most_frequent')"
      ]
     },
     "execution_count": 40,
     "metadata": {},
     "output_type": "execute_result"
    }
   ],
   "source": [
    "dummy_clf.fit(features_train_valid, target_train_valid)"
   ]
  },
  {
   "cell_type": "code",
   "execution_count": 41,
   "metadata": {},
   "outputs": [
    {
     "data": {
      "text/plain": [
       "array([0, 0, 0, ..., 0, 0, 0], dtype=int64)"
      ]
     },
     "execution_count": 41,
     "metadata": {},
     "output_type": "execute_result"
    }
   ],
   "source": [
    "dummy_clf.predict(features_train_valid)"
   ]
  },
  {
   "cell_type": "code",
   "execution_count": 42,
   "metadata": {},
   "outputs": [
    {
     "data": {
      "text/plain": [
       "0.6933609958506224"
      ]
     },
     "execution_count": 42,
     "metadata": {},
     "output_type": "execute_result"
    }
   ],
   "source": [
    "dummy_clf.score(features_train_valid, target_train_valid)"
   ]
  },
  {
   "cell_type": "code",
   "execution_count": 43,
   "metadata": {},
   "outputs": [],
   "source": [
    "# задаем константную модель, которая будет предсказывать по most_frequent - самый частый класс\n",
    "dummy_clf_correct = DummyClassifier(strategy='most_frequent', random_state=1)  "
   ]
  },
  {
   "cell_type": "code",
   "execution_count": 44,
   "metadata": {},
   "outputs": [
    {
     "data": {
      "text/plain": [
       "DummyClassifier(random_state=1, strategy='most_frequent')"
      ]
     },
     "execution_count": 44,
     "metadata": {},
     "output_type": "execute_result"
    }
   ],
   "source": [
    "# тут модель смотрит на самый частый класс в target_train - типо \"обучение\"\n",
    "dummy_clf_correct.fit(features_train, target_train)"
   ]
  },
  {
   "cell_type": "code",
   "execution_count": 45,
   "metadata": {},
   "outputs": [
    {
     "data": {
      "text/plain": [
       "array([0, 0, 0, 0, 0, 0, 0, 0, 0, 0, 0, 0, 0, 0, 0, 0, 0, 0, 0, 0, 0, 0,\n",
       "       0, 0, 0, 0, 0, 0, 0, 0, 0, 0, 0, 0, 0, 0, 0, 0, 0, 0, 0, 0, 0, 0,\n",
       "       0, 0, 0, 0, 0, 0, 0, 0, 0, 0, 0, 0, 0, 0, 0, 0, 0, 0, 0, 0, 0, 0,\n",
       "       0, 0, 0, 0, 0, 0, 0, 0, 0, 0, 0, 0, 0, 0, 0, 0, 0, 0, 0, 0, 0, 0,\n",
       "       0, 0, 0, 0, 0, 0, 0, 0, 0, 0, 0, 0, 0, 0, 0, 0, 0, 0, 0, 0, 0, 0,\n",
       "       0, 0, 0, 0, 0, 0, 0, 0, 0, 0, 0, 0, 0, 0, 0, 0, 0, 0, 0, 0, 0, 0,\n",
       "       0, 0, 0, 0, 0, 0, 0, 0, 0, 0, 0, 0, 0, 0, 0, 0, 0, 0, 0, 0, 0, 0,\n",
       "       0, 0, 0, 0, 0, 0, 0, 0, 0, 0, 0, 0, 0, 0, 0, 0, 0, 0, 0, 0, 0, 0,\n",
       "       0, 0, 0, 0, 0, 0, 0, 0, 0, 0, 0, 0, 0, 0, 0, 0, 0, 0, 0, 0, 0, 0,\n",
       "       0, 0, 0, 0, 0, 0, 0, 0, 0, 0, 0, 0, 0, 0, 0, 0, 0, 0, 0, 0, 0, 0,\n",
       "       0, 0, 0, 0, 0, 0, 0, 0, 0, 0, 0, 0, 0, 0, 0, 0, 0, 0, 0, 0, 0, 0,\n",
       "       0, 0, 0, 0, 0, 0, 0, 0, 0, 0, 0, 0, 0, 0, 0, 0, 0, 0, 0, 0, 0, 0,\n",
       "       0, 0, 0, 0, 0, 0, 0, 0, 0, 0, 0, 0, 0, 0, 0, 0, 0, 0, 0, 0, 0, 0,\n",
       "       0, 0, 0, 0, 0, 0, 0, 0, 0, 0, 0, 0, 0, 0, 0, 0, 0, 0, 0, 0, 0, 0,\n",
       "       0, 0, 0, 0, 0, 0, 0, 0, 0, 0, 0, 0, 0, 0, 0, 0, 0, 0, 0, 0, 0, 0,\n",
       "       0, 0, 0, 0, 0, 0, 0, 0, 0, 0, 0, 0, 0, 0, 0, 0, 0, 0, 0, 0, 0, 0,\n",
       "       0, 0, 0, 0, 0, 0, 0, 0, 0, 0, 0, 0, 0, 0, 0, 0, 0, 0, 0, 0, 0, 0,\n",
       "       0, 0, 0, 0, 0, 0, 0, 0, 0, 0, 0, 0, 0, 0, 0, 0, 0, 0, 0, 0, 0, 0,\n",
       "       0, 0, 0, 0, 0, 0, 0, 0, 0, 0, 0, 0, 0, 0, 0, 0, 0, 0, 0, 0, 0, 0,\n",
       "       0, 0, 0, 0, 0, 0, 0, 0, 0, 0, 0, 0, 0, 0, 0, 0, 0, 0, 0, 0, 0, 0,\n",
       "       0, 0, 0, 0, 0, 0, 0, 0, 0, 0, 0, 0, 0, 0, 0, 0, 0, 0, 0, 0, 0, 0,\n",
       "       0, 0, 0, 0, 0, 0, 0, 0, 0, 0, 0, 0, 0, 0, 0, 0, 0, 0, 0, 0, 0, 0,\n",
       "       0, 0, 0, 0, 0, 0, 0, 0, 0, 0, 0, 0, 0, 0, 0, 0, 0, 0, 0, 0, 0, 0,\n",
       "       0, 0, 0, 0, 0, 0, 0, 0, 0, 0, 0, 0, 0, 0, 0, 0, 0, 0, 0, 0, 0, 0,\n",
       "       0, 0, 0, 0, 0, 0, 0, 0, 0, 0, 0, 0, 0, 0, 0, 0, 0, 0, 0, 0, 0, 0,\n",
       "       0, 0, 0, 0, 0, 0, 0, 0, 0, 0, 0, 0, 0, 0, 0, 0, 0, 0, 0, 0, 0, 0,\n",
       "       0, 0, 0, 0, 0, 0, 0, 0, 0, 0, 0, 0, 0, 0, 0, 0, 0, 0, 0, 0, 0, 0,\n",
       "       0, 0, 0, 0, 0, 0, 0, 0, 0, 0, 0, 0, 0, 0, 0, 0, 0, 0, 0, 0, 0, 0,\n",
       "       0, 0, 0, 0, 0, 0, 0, 0, 0, 0, 0, 0, 0, 0, 0, 0, 0, 0, 0, 0, 0, 0,\n",
       "       0, 0, 0, 0, 0, 0, 0, 0, 0, 0, 0, 0, 0, 0, 0, 0, 0, 0, 0, 0, 0, 0,\n",
       "       0, 0, 0, 0, 0, 0, 0, 0, 0, 0, 0, 0, 0, 0, 0, 0, 0, 0, 0, 0, 0, 0,\n",
       "       0, 0, 0, 0, 0, 0, 0, 0, 0, 0, 0, 0, 0, 0, 0, 0, 0, 0, 0, 0, 0, 0,\n",
       "       0, 0, 0, 0, 0, 0, 0, 0, 0, 0, 0, 0, 0, 0, 0, 0, 0, 0, 0, 0, 0, 0,\n",
       "       0, 0, 0, 0, 0, 0, 0, 0, 0, 0, 0, 0, 0, 0, 0, 0, 0, 0, 0, 0, 0, 0,\n",
       "       0, 0, 0, 0, 0, 0, 0, 0, 0, 0, 0, 0, 0, 0, 0, 0, 0, 0, 0, 0, 0, 0,\n",
       "       0, 0, 0, 0, 0, 0, 0, 0, 0, 0, 0, 0, 0, 0, 0, 0, 0, 0, 0, 0, 0, 0,\n",
       "       0, 0, 0, 0, 0, 0, 0, 0, 0, 0, 0], dtype=int64)"
      ]
     },
     "execution_count": 45,
     "metadata": {},
     "output_type": "execute_result"
    }
   ],
   "source": [
    "# проогнозирует везде самый частый класс в features_test \n",
    "dummy_clf_correct.predict(features_valid)"
   ]
  },
  {
   "cell_type": "code",
   "execution_count": 46,
   "metadata": {},
   "outputs": [
    {
     "data": {
      "text/plain": [
       "0.6940298507462687"
      ]
     },
     "execution_count": 46,
     "metadata": {},
     "output_type": "execute_result"
    }
   ],
   "source": [
    "# и считает score\n",
    "dummy_clf_correct.score(features_test, target_test)"
   ]
  },
  {
   "cell_type": "markdown",
   "metadata": {},
   "source": [
    "## Общий вывод"
   ]
  },
  {
   "cell_type": "markdown",
   "metadata": {},
   "source": [
    "По результатам данного проекта удалось построить прогнозную модель с точностью accuracy = 0.82"
   ]
  },
  {
   "cell_type": "markdown",
   "metadata": {},
   "source": [
    "Целевой признак был присвоен переменной target\n",
    "Данные были разбиты на три выборки train, valid, test. Разбивка проведена с учетом стратификации - случайного выбора объектов."
   ]
  },
  {
   "cell_type": "markdown",
   "metadata": {},
   "source": [
    "Всего в работе были применены и исследованы три варианта моделирования: решающее дерево, случайный лес и логистическая регрессия. Данные модели были выбраны как наиболее характерные для прогноза бинарной классификации при обучении с учителем."
   ]
  },
  {
   "cell_type": "markdown",
   "metadata": {},
   "source": [
    "Логистическая регрессия была рассчитана в единственном варианте и показала удовлетворительный результат точности accuracy = 0.73"
   ]
  },
  {
   "cell_type": "markdown",
   "metadata": {},
   "source": [
    "Для моделей на дереве решений были проанализированы пятнадцать вариантов глубины дерева от 1 до 15. Наилучший результат на валидационной выборке показала модель с глубиной дерева = 10."
   ]
  },
  {
   "cell_type": "markdown",
   "metadata": {},
   "source": [
    "На валидационных данных модель дерева решений с указанными параметрами показала точность accuracy = 0.788, а также параметр f1 = 0.589"
   ]
  },
  {
   "cell_type": "markdown",
   "metadata": {},
   "source": [
    "Для моделей случайного леса были проанализированы 75 вариантов. С глубиной деревьев от 1 до 15, и количеством девьев от 10 до 50 с шагом 10. Наилучший результат на валидационной выборке показала модель с 20-тью деревьями глубиной 9, accuracy = 0.80697,  а также параметр f1 = 0.590"
   ]
  },
  {
   "cell_type": "markdown",
   "metadata": {},
   "source": [
    "**На тестовых данных модель случайного леса с указанными параметрами показала точность accuracy = 0.8134, а также параметр f1 = 0.641. \n",
    "Таже удалось улучшить показатели путем повторного обучения модели на данных совместной выборки train+valid. Точность accuracy = 0.8208\n",
    "Это наилучший результат в данной работе.**"
   ]
  },
  {
   "cell_type": "markdown",
   "metadata": {},
   "source": [
    "Далее лучшие модели были проверены на адекватность с помощью метода DummyClassifier score = 0.693"
   ]
  },
  {
   "cell_type": "markdown",
   "metadata": {},
   "source": [
    "## Чек-лист готовности проекта"
   ]
  },
  {
   "cell_type": "markdown",
   "metadata": {},
   "source": [
    "Поставьте 'x' в выполненных пунктах. Далее нажмите Shift+Enter."
   ]
  },
  {
   "cell_type": "markdown",
   "metadata": {},
   "source": [
    "- [x] Jupyter Notebook открыт\n",
    "- [x] Весь код исполняется без ошибок\n",
    "- [x] Ячейки с кодом расположены в порядке исполнения\n",
    "- [x] Выполнено задание 1: данные загружены и изучены\n",
    "- [x] Выполнено задание 2: данные разбиты на три выборки\n",
    "- [x] Выполнено задание 3: проведено исследование моделей\n",
    "    - [x] Рассмотрено больше одной модели\n",
    "    - [x] Рассмотрено хотя бы 3 значения гипепараметров для какой-нибудь модели\n",
    "    - [x] Написаны выводы по результатам исследования\n",
    "- [x] Выполнено задание 3: Проведено тестирование\n",
    "- [x] Удалось достичь accuracy не меньше 0.75\n"
   ]
  }
 ],
 "metadata": {
  "ExecuteTimeLog": [
   {
    "duration": 1233,
    "start_time": "2022-08-31T12:35:46.994Z"
   },
   {
    "duration": 43,
    "start_time": "2022-08-31T12:35:48.229Z"
   },
   {
    "duration": 31,
    "start_time": "2022-08-31T12:35:48.275Z"
   },
   {
    "duration": 16,
    "start_time": "2022-08-31T12:35:48.307Z"
   },
   {
    "duration": 10,
    "start_time": "2022-08-31T12:35:48.325Z"
   },
   {
    "duration": 29,
    "start_time": "2022-08-31T12:35:48.336Z"
   },
   {
    "duration": 20,
    "start_time": "2022-08-31T12:35:48.367Z"
   },
   {
    "duration": 27,
    "start_time": "2022-08-31T12:35:48.389Z"
   },
   {
    "duration": 24,
    "start_time": "2022-08-31T12:35:48.417Z"
   },
   {
    "duration": 40,
    "start_time": "2022-08-31T12:35:48.443Z"
   },
   {
    "duration": 27,
    "start_time": "2022-08-31T12:35:48.484Z"
   },
   {
    "duration": 18,
    "start_time": "2022-08-31T12:35:48.512Z"
   },
   {
    "duration": 31,
    "start_time": "2022-08-31T12:35:48.532Z"
   },
   {
    "duration": 30,
    "start_time": "2022-08-31T12:35:48.565Z"
   },
   {
    "duration": 30,
    "start_time": "2022-08-31T12:35:48.597Z"
   },
   {
    "duration": 32,
    "start_time": "2022-08-31T12:35:48.628Z"
   },
   {
    "duration": 122,
    "start_time": "2022-08-31T12:35:48.661Z"
   },
   {
    "duration": 3,
    "start_time": "2022-08-31T12:35:48.785Z"
   },
   {
    "duration": 59,
    "start_time": "2022-08-31T12:35:48.789Z"
   },
   {
    "duration": 9,
    "start_time": "2022-08-31T12:35:48.850Z"
   },
   {
    "duration": 28,
    "start_time": "2022-08-31T12:35:48.860Z"
   },
   {
    "duration": 5894,
    "start_time": "2022-08-31T12:35:48.890Z"
   },
   {
    "duration": 3,
    "start_time": "2022-08-31T12:35:54.786Z"
   },
   {
    "duration": 40,
    "start_time": "2022-08-31T12:35:54.790Z"
   },
   {
    "duration": 7,
    "start_time": "2022-08-31T12:35:54.831Z"
   },
   {
    "duration": 21,
    "start_time": "2022-08-31T12:35:54.839Z"
   },
   {
    "duration": 11,
    "start_time": "2022-08-31T12:35:54.862Z"
   },
   {
    "duration": 10,
    "start_time": "2022-08-31T12:35:54.877Z"
   },
   {
    "duration": 17,
    "start_time": "2022-08-31T12:35:54.888Z"
   },
   {
    "duration": 8,
    "start_time": "2022-08-31T12:35:54.907Z"
   },
   {
    "duration": 7,
    "start_time": "2022-08-31T12:35:54.917Z"
   },
   {
    "duration": 5,
    "start_time": "2022-08-31T12:35:54.926Z"
   },
   {
    "duration": 10,
    "start_time": "2022-08-31T12:35:54.933Z"
   },
   {
    "duration": 7,
    "start_time": "2022-08-31T12:35:54.957Z"
   },
   {
    "duration": 5,
    "start_time": "2022-08-31T12:35:54.965Z"
   },
   {
    "duration": 45,
    "start_time": "2022-09-02T06:45:41.268Z"
   },
   {
    "duration": 970,
    "start_time": "2022-09-02T06:45:46.845Z"
   },
   {
    "duration": 42,
    "start_time": "2022-09-02T06:45:51.479Z"
   },
   {
    "duration": 113,
    "start_time": "2022-09-02T06:47:08.403Z"
   },
   {
    "duration": 17,
    "start_time": "2022-09-02T06:47:11.131Z"
   },
   {
    "duration": 3,
    "start_time": "2022-09-02T06:47:15.373Z"
   },
   {
    "duration": 10,
    "start_time": "2022-09-02T06:47:18.623Z"
   },
   {
    "duration": 4,
    "start_time": "2022-09-02T06:47:36.764Z"
   },
   {
    "duration": 3,
    "start_time": "2022-09-02T06:47:38.751Z"
   },
   {
    "duration": 7,
    "start_time": "2022-09-02T06:47:40.634Z"
   },
   {
    "duration": 6,
    "start_time": "2022-09-02T06:47:42.755Z"
   },
   {
    "duration": 4,
    "start_time": "2022-09-02T06:47:44.794Z"
   },
   {
    "duration": 2,
    "start_time": "2022-09-02T06:47:53.203Z"
   },
   {
    "duration": 10,
    "start_time": "2022-09-02T06:47:55.500Z"
   },
   {
    "duration": 5,
    "start_time": "2022-09-02T06:47:57.591Z"
   },
   {
    "duration": 6,
    "start_time": "2022-09-02T06:48:00.057Z"
   },
   {
    "duration": 6,
    "start_time": "2022-09-02T06:48:02.917Z"
   },
   {
    "duration": 117,
    "start_time": "2022-09-02T06:48:07.916Z"
   },
   {
    "duration": 119,
    "start_time": "2022-09-02T07:05:07.689Z"
   },
   {
    "duration": 5,
    "start_time": "2022-09-02T07:05:13.009Z"
   },
   {
    "duration": 115,
    "start_time": "2022-09-02T07:07:37.706Z"
   },
   {
    "duration": 4,
    "start_time": "2022-09-02T07:07:40.218Z"
   },
   {
    "duration": 58,
    "start_time": "2022-09-02T07:11:19.665Z"
   },
   {
    "duration": 61,
    "start_time": "2022-09-02T07:13:57.461Z"
   },
   {
    "duration": 334,
    "start_time": "2022-09-02T07:15:03.649Z"
   },
   {
    "duration": 128,
    "start_time": "2022-09-02T07:15:11.055Z"
   },
   {
    "duration": 113,
    "start_time": "2022-09-02T07:15:31.740Z"
   },
   {
    "duration": 117,
    "start_time": "2022-09-02T07:16:38.445Z"
   },
   {
    "duration": 124,
    "start_time": "2022-09-02T07:17:06.006Z"
   },
   {
    "duration": 133,
    "start_time": "2022-09-02T07:17:16.212Z"
   },
   {
    "duration": 116,
    "start_time": "2022-09-02T07:17:32.033Z"
   },
   {
    "duration": 170,
    "start_time": "2022-09-02T07:19:39.438Z"
   },
   {
    "duration": 187,
    "start_time": "2022-09-02T07:19:46.285Z"
   },
   {
    "duration": 126,
    "start_time": "2022-09-02T07:20:15.481Z"
   },
   {
    "duration": 125,
    "start_time": "2022-09-02T07:21:08.586Z"
   },
   {
    "duration": 120,
    "start_time": "2022-09-02T07:21:15.836Z"
   },
   {
    "duration": 118,
    "start_time": "2022-09-02T07:21:26.775Z"
   },
   {
    "duration": 121,
    "start_time": "2022-09-02T07:21:50.274Z"
   },
   {
    "duration": 123,
    "start_time": "2022-09-02T07:22:39.791Z"
   },
   {
    "duration": 125,
    "start_time": "2022-09-02T07:22:53.596Z"
   },
   {
    "duration": 128,
    "start_time": "2022-09-02T07:22:57.276Z"
   },
   {
    "duration": 126,
    "start_time": "2022-09-02T07:23:12.631Z"
   },
   {
    "duration": 118,
    "start_time": "2022-09-02T07:23:17.125Z"
   },
   {
    "duration": 123,
    "start_time": "2022-09-02T07:24:47.834Z"
   },
   {
    "duration": 212,
    "start_time": "2022-09-02T07:25:03.969Z"
   },
   {
    "duration": 123,
    "start_time": "2022-09-02T07:25:29.539Z"
   },
   {
    "duration": 136,
    "start_time": "2022-09-02T07:25:43.518Z"
   },
   {
    "duration": 137,
    "start_time": "2022-09-02T07:26:11.748Z"
   },
   {
    "duration": 9,
    "start_time": "2022-09-02T07:40:19.349Z"
   },
   {
    "duration": 2,
    "start_time": "2022-09-02T07:40:47.343Z"
   },
   {
    "duration": 6075,
    "start_time": "2022-09-02T07:40:50.405Z"
   },
   {
    "duration": 9,
    "start_time": "2022-09-02T07:47:20.503Z"
   },
   {
    "duration": 6330,
    "start_time": "2022-09-02T07:49:12.785Z"
   },
   {
    "duration": 6168,
    "start_time": "2022-09-02T07:49:58.201Z"
   },
   {
    "duration": 78,
    "start_time": "2022-09-02T07:51:46.877Z"
   },
   {
    "duration": 9,
    "start_time": "2022-09-02T07:51:53.631Z"
   },
   {
    "duration": 6389,
    "start_time": "2022-09-02T07:52:03.083Z"
   },
   {
    "duration": 8,
    "start_time": "2022-09-02T08:44:07.301Z"
   },
   {
    "duration": 6859,
    "start_time": "2022-09-02T08:44:53.595Z"
   },
   {
    "duration": 7267,
    "start_time": "2022-09-02T08:45:33.134Z"
   },
   {
    "duration": 919,
    "start_time": "2022-09-02T08:46:20.557Z"
   },
   {
    "duration": 1291,
    "start_time": "2022-09-02T08:46:29.559Z"
   },
   {
    "duration": 9,
    "start_time": "2022-09-02T08:46:52.087Z"
   },
   {
    "duration": 3,
    "start_time": "2022-09-02T08:47:47.933Z"
   },
   {
    "duration": 757,
    "start_time": "2022-09-02T08:53:28.471Z"
   },
   {
    "duration": 1277,
    "start_time": "2022-09-02T08:53:41.654Z"
   },
   {
    "duration": 1033,
    "start_time": "2022-09-02T08:53:56.641Z"
   },
   {
    "duration": 967,
    "start_time": "2022-09-02T08:54:35.536Z"
   },
   {
    "duration": 1325,
    "start_time": "2022-09-02T08:56:40.238Z"
   },
   {
    "duration": 1312,
    "start_time": "2022-09-02T08:56:41.987Z"
   },
   {
    "duration": 3,
    "start_time": "2022-09-02T08:56:51.232Z"
   },
   {
    "duration": 2,
    "start_time": "2022-09-02T08:57:29.144Z"
   },
   {
    "duration": 52,
    "start_time": "2022-09-02T08:59:51.038Z"
   },
   {
    "duration": 108,
    "start_time": "2022-09-02T08:59:59.888Z"
   },
   {
    "duration": 135,
    "start_time": "2022-09-02T09:00:07.239Z"
   },
   {
    "duration": 5799,
    "start_time": "2022-09-02T10:03:26.428Z"
   },
   {
    "duration": 7,
    "start_time": "2022-09-02T10:03:49.555Z"
   },
   {
    "duration": 7,
    "start_time": "2022-09-02T10:03:59.967Z"
   },
   {
    "duration": 7,
    "start_time": "2022-09-02T10:15:20.525Z"
   },
   {
    "duration": 5680,
    "start_time": "2022-09-02T10:15:40.644Z"
   },
   {
    "duration": 5644,
    "start_time": "2022-09-02T10:20:53.764Z"
   },
   {
    "duration": 128,
    "start_time": "2022-09-02T10:21:24.254Z"
   },
   {
    "duration": 151,
    "start_time": "2022-09-02T10:22:01.036Z"
   },
   {
    "duration": 142,
    "start_time": "2022-09-02T10:22:48.991Z"
   },
   {
    "duration": 54,
    "start_time": "2022-09-02T10:25:32.887Z"
   },
   {
    "duration": 573,
    "start_time": "2022-09-02T10:25:57.405Z"
   },
   {
    "duration": 4,
    "start_time": "2022-09-02T10:27:32.136Z"
   },
   {
    "duration": 13,
    "start_time": "2022-09-02T10:28:04.576Z"
   },
   {
    "duration": 10,
    "start_time": "2022-09-02T10:28:10.054Z"
   },
   {
    "duration": 5,
    "start_time": "2022-09-02T10:28:22.722Z"
   },
   {
    "duration": 4,
    "start_time": "2022-09-02T10:28:29.478Z"
   },
   {
    "duration": 585,
    "start_time": "2022-09-02T10:30:07.011Z"
   },
   {
    "duration": 3,
    "start_time": "2022-09-02T13:36:02.198Z"
   },
   {
    "duration": 3,
    "start_time": "2022-09-02T13:36:09.666Z"
   },
   {
    "duration": 634,
    "start_time": "2022-09-02T13:38:07.148Z"
   },
   {
    "duration": 3,
    "start_time": "2022-09-02T13:38:40.146Z"
   },
   {
    "duration": 637,
    "start_time": "2022-09-02T13:39:04.131Z"
   },
   {
    "duration": 173,
    "start_time": "2022-09-02T13:39:20.910Z"
   },
   {
    "duration": 146,
    "start_time": "2022-09-02T13:39:31.133Z"
   },
   {
    "duration": 489,
    "start_time": "2022-09-02T13:39:49.266Z"
   },
   {
    "duration": 747,
    "start_time": "2022-09-02T13:40:04.574Z"
   },
   {
    "duration": 13,
    "start_time": "2022-09-02T13:40:24.089Z"
   },
   {
    "duration": 516,
    "start_time": "2022-09-02T13:41:59.669Z"
   },
   {
    "duration": 630,
    "start_time": "2022-09-02T13:42:07.965Z"
   },
   {
    "duration": 663,
    "start_time": "2022-09-02T13:42:20.953Z"
   },
   {
    "duration": 485,
    "start_time": "2022-09-02T13:59:28.366Z"
   },
   {
    "duration": 537,
    "start_time": "2022-09-02T13:59:32.322Z"
   },
   {
    "duration": 591,
    "start_time": "2022-09-02T13:59:39.427Z"
   },
   {
    "duration": 3,
    "start_time": "2022-09-02T14:00:08.069Z"
   },
   {
    "duration": 496,
    "start_time": "2022-09-02T14:00:23.795Z"
   },
   {
    "duration": 416,
    "start_time": "2022-09-02T14:00:38.275Z"
   },
   {
    "duration": 472,
    "start_time": "2022-09-02T14:00:48.139Z"
   },
   {
    "duration": 3,
    "start_time": "2022-09-02T14:00:55.679Z"
   },
   {
    "duration": 66,
    "start_time": "2022-09-02T14:01:57.541Z"
   },
   {
    "duration": 652,
    "start_time": "2022-09-02T14:02:04.732Z"
   },
   {
    "duration": 486,
    "start_time": "2022-09-02T14:02:13.698Z"
   },
   {
    "duration": 526,
    "start_time": "2022-09-02T14:02:30.610Z"
   },
   {
    "duration": 497,
    "start_time": "2022-09-02T14:02:44.009Z"
   },
   {
    "duration": 458,
    "start_time": "2022-09-02T14:02:51.959Z"
   },
   {
    "duration": 6,
    "start_time": "2022-09-02T14:06:54.947Z"
   },
   {
    "duration": 4,
    "start_time": "2022-09-02T14:08:17.567Z"
   },
   {
    "duration": 4,
    "start_time": "2022-09-02T14:08:30.325Z"
   },
   {
    "duration": 4,
    "start_time": "2022-09-02T14:08:40.127Z"
   },
   {
    "duration": 4,
    "start_time": "2022-09-02T14:09:09.991Z"
   },
   {
    "duration": 5,
    "start_time": "2022-09-02T14:09:22.423Z"
   },
   {
    "duration": 40,
    "start_time": "2022-09-02T14:13:56.965Z"
   },
   {
    "duration": 10,
    "start_time": "2022-09-02T14:14:09.565Z"
   },
   {
    "duration": 3,
    "start_time": "2022-09-02T14:14:49.838Z"
   },
   {
    "duration": 11,
    "start_time": "2022-09-02T14:14:52.717Z"
   },
   {
    "duration": 54,
    "start_time": "2022-09-02T14:15:17.835Z"
   },
   {
    "duration": 9,
    "start_time": "2022-09-02T14:15:35.192Z"
   },
   {
    "duration": 10,
    "start_time": "2022-09-02T14:15:50.739Z"
   },
   {
    "duration": 2,
    "start_time": "2022-09-02T14:16:01.875Z"
   },
   {
    "duration": 2,
    "start_time": "2022-09-02T14:16:04.566Z"
   },
   {
    "duration": 105,
    "start_time": "2022-09-02T14:24:15.547Z"
   },
   {
    "duration": 9,
    "start_time": "2022-09-02T14:43:47.764Z"
   },
   {
    "duration": 4,
    "start_time": "2022-09-02T14:43:51.364Z"
   },
   {
    "duration": 4,
    "start_time": "2022-09-02T14:44:09.066Z"
   },
   {
    "duration": 4,
    "start_time": "2022-09-02T14:44:31.947Z"
   },
   {
    "duration": 5,
    "start_time": "2022-09-02T14:45:00.111Z"
   },
   {
    "duration": 9,
    "start_time": "2022-09-02T14:58:55.526Z"
   },
   {
    "duration": 11,
    "start_time": "2022-09-02T14:59:08.973Z"
   },
   {
    "duration": 5,
    "start_time": "2022-09-02T15:00:25.373Z"
   },
   {
    "duration": 4,
    "start_time": "2022-09-02T15:00:33.158Z"
   },
   {
    "duration": 4,
    "start_time": "2022-09-02T15:00:49.985Z"
   },
   {
    "duration": 4,
    "start_time": "2022-09-02T15:00:53.324Z"
   },
   {
    "duration": 12,
    "start_time": "2022-09-02T15:01:20.025Z"
   },
   {
    "duration": 4,
    "start_time": "2022-09-02T15:01:29.780Z"
   },
   {
    "duration": 5,
    "start_time": "2022-09-02T15:01:38.629Z"
   },
   {
    "duration": 10,
    "start_time": "2022-09-02T15:01:56.299Z"
   },
   {
    "duration": 85,
    "start_time": "2022-09-02T15:07:46.473Z"
   },
   {
    "duration": 3,
    "start_time": "2022-09-02T15:08:18.368Z"
   },
   {
    "duration": 9,
    "start_time": "2022-09-02T15:41:42.352Z"
   },
   {
    "duration": 4,
    "start_time": "2022-09-02T15:42:16.292Z"
   },
   {
    "duration": 8,
    "start_time": "2022-09-02T15:42:28.693Z"
   },
   {
    "duration": 10,
    "start_time": "2022-09-02T15:43:15.860Z"
   },
   {
    "duration": 18,
    "start_time": "2022-09-02T15:43:25.007Z"
   },
   {
    "duration": 3,
    "start_time": "2022-09-02T15:43:28.082Z"
   },
   {
    "duration": 7,
    "start_time": "2022-09-02T15:43:29.969Z"
   },
   {
    "duration": 5,
    "start_time": "2022-09-02T15:43:38.660Z"
   },
   {
    "duration": 9,
    "start_time": "2022-09-02T15:43:41.813Z"
   },
   {
    "duration": 2,
    "start_time": "2022-09-02T15:43:49.986Z"
   },
   {
    "duration": 5,
    "start_time": "2022-09-02T15:43:55.547Z"
   },
   {
    "duration": 5,
    "start_time": "2022-09-02T15:44:59.920Z"
   },
   {
    "duration": 5,
    "start_time": "2022-09-02T15:45:39.691Z"
   },
   {
    "duration": 2,
    "start_time": "2022-09-02T15:51:07.747Z"
   },
   {
    "duration": 65,
    "start_time": "2022-09-02T15:51:14.503Z"
   },
   {
    "duration": 50,
    "start_time": "2022-09-02T15:51:27.866Z"
   },
   {
    "duration": 4,
    "start_time": "2022-09-02T15:51:47.989Z"
   },
   {
    "duration": 2,
    "start_time": "2022-09-02T15:52:18.067Z"
   },
   {
    "duration": 175,
    "start_time": "2022-09-02T15:52:27.879Z"
   },
   {
    "duration": 188,
    "start_time": "2022-09-02T15:52:41.056Z"
   },
   {
    "duration": 6,
    "start_time": "2022-09-02T15:53:03.000Z"
   },
   {
    "duration": 5,
    "start_time": "2022-09-02T15:53:17.051Z"
   },
   {
    "duration": 6,
    "start_time": "2022-09-02T15:53:23.658Z"
   },
   {
    "duration": 6,
    "start_time": "2022-09-02T15:53:26.627Z"
   },
   {
    "duration": 2,
    "start_time": "2022-09-02T15:53:53.382Z"
   },
   {
    "duration": 4,
    "start_time": "2022-09-02T15:55:28.496Z"
   },
   {
    "duration": 5,
    "start_time": "2022-09-02T15:55:32.989Z"
   },
   {
    "duration": 5,
    "start_time": "2022-09-02T15:55:36.923Z"
   },
   {
    "duration": 5,
    "start_time": "2022-09-02T16:07:02.883Z"
   },
   {
    "duration": 4,
    "start_time": "2022-09-02T16:08:38.767Z"
   },
   {
    "duration": 5,
    "start_time": "2022-09-02T16:08:55.683Z"
   },
   {
    "duration": 1022,
    "start_time": "2022-09-02T16:09:22.217Z"
   },
   {
    "duration": 46,
    "start_time": "2022-09-02T16:09:23.241Z"
   },
   {
    "duration": 285,
    "start_time": "2022-09-02T16:09:23.289Z"
   },
   {
    "duration": 30,
    "start_time": "2022-09-02T16:09:23.576Z"
   },
   {
    "duration": 12,
    "start_time": "2022-09-02T16:09:23.608Z"
   },
   {
    "duration": 8,
    "start_time": "2022-09-02T16:09:23.622Z"
   },
   {
    "duration": 14,
    "start_time": "2022-09-02T16:09:23.632Z"
   },
   {
    "duration": 3,
    "start_time": "2022-09-02T16:09:23.648Z"
   },
   {
    "duration": 6,
    "start_time": "2022-09-02T16:09:23.653Z"
   },
   {
    "duration": 7,
    "start_time": "2022-09-02T16:09:23.661Z"
   },
   {
    "duration": 8,
    "start_time": "2022-09-02T16:09:23.669Z"
   },
   {
    "duration": 9,
    "start_time": "2022-09-02T16:09:23.678Z"
   },
   {
    "duration": 4,
    "start_time": "2022-09-02T16:09:23.689Z"
   },
   {
    "duration": 12,
    "start_time": "2022-09-02T16:09:23.694Z"
   },
   {
    "duration": 4,
    "start_time": "2022-09-02T16:09:23.708Z"
   },
   {
    "duration": 7,
    "start_time": "2022-09-02T16:09:23.713Z"
   },
   {
    "duration": 5,
    "start_time": "2022-09-02T16:09:23.722Z"
   },
   {
    "duration": 133,
    "start_time": "2022-09-02T16:09:23.728Z"
   },
   {
    "duration": 113,
    "start_time": "2022-09-02T16:09:23.863Z"
   },
   {
    "duration": 0,
    "start_time": "2022-09-02T16:09:23.978Z"
   },
   {
    "duration": 0,
    "start_time": "2022-09-02T16:09:23.986Z"
   },
   {
    "duration": 0,
    "start_time": "2022-09-02T16:09:23.987Z"
   },
   {
    "duration": 0,
    "start_time": "2022-09-02T16:09:23.988Z"
   },
   {
    "duration": 0,
    "start_time": "2022-09-02T16:09:23.989Z"
   },
   {
    "duration": 0,
    "start_time": "2022-09-02T16:09:23.990Z"
   },
   {
    "duration": 0,
    "start_time": "2022-09-02T16:09:23.991Z"
   },
   {
    "duration": 0,
    "start_time": "2022-09-02T16:09:23.992Z"
   },
   {
    "duration": 0,
    "start_time": "2022-09-02T16:09:23.993Z"
   },
   {
    "duration": 0,
    "start_time": "2022-09-02T16:09:23.994Z"
   },
   {
    "duration": 0,
    "start_time": "2022-09-02T16:09:23.995Z"
   },
   {
    "duration": 0,
    "start_time": "2022-09-02T16:09:23.996Z"
   },
   {
    "duration": 0,
    "start_time": "2022-09-02T16:09:23.997Z"
   },
   {
    "duration": 0,
    "start_time": "2022-09-02T16:09:23.998Z"
   },
   {
    "duration": 0,
    "start_time": "2022-09-02T16:09:23.999Z"
   },
   {
    "duration": 0,
    "start_time": "2022-09-02T16:09:23.999Z"
   },
   {
    "duration": 0,
    "start_time": "2022-09-02T16:09:24.000Z"
   },
   {
    "duration": 0,
    "start_time": "2022-09-02T16:09:24.002Z"
   },
   {
    "duration": 0,
    "start_time": "2022-09-02T16:09:24.002Z"
   },
   {
    "duration": 0,
    "start_time": "2022-09-02T16:09:24.004Z"
   },
   {
    "duration": 0,
    "start_time": "2022-09-02T16:09:24.005Z"
   },
   {
    "duration": 0,
    "start_time": "2022-09-02T16:09:24.006Z"
   },
   {
    "duration": 0,
    "start_time": "2022-09-02T16:09:24.008Z"
   },
   {
    "duration": 0,
    "start_time": "2022-09-02T16:09:24.009Z"
   },
   {
    "duration": 0,
    "start_time": "2022-09-02T16:09:24.011Z"
   },
   {
    "duration": 0,
    "start_time": "2022-09-02T16:09:24.012Z"
   },
   {
    "duration": 0,
    "start_time": "2022-09-02T16:09:24.013Z"
   },
   {
    "duration": 0,
    "start_time": "2022-09-02T16:09:24.015Z"
   },
   {
    "duration": 0,
    "start_time": "2022-09-02T16:09:24.015Z"
   },
   {
    "duration": 0,
    "start_time": "2022-09-02T16:09:24.017Z"
   },
   {
    "duration": 0,
    "start_time": "2022-09-02T16:09:24.018Z"
   },
   {
    "duration": 0,
    "start_time": "2022-09-02T16:09:24.019Z"
   },
   {
    "duration": 0,
    "start_time": "2022-09-02T16:09:24.020Z"
   },
   {
    "duration": 0,
    "start_time": "2022-09-02T16:09:24.021Z"
   },
   {
    "duration": 0,
    "start_time": "2022-09-02T16:09:24.022Z"
   },
   {
    "duration": 0,
    "start_time": "2022-09-02T16:09:24.023Z"
   },
   {
    "duration": 0,
    "start_time": "2022-09-02T16:09:24.024Z"
   },
   {
    "duration": 0,
    "start_time": "2022-09-02T16:09:24.025Z"
   },
   {
    "duration": 10,
    "start_time": "2022-09-02T16:11:46.204Z"
   },
   {
    "duration": 150,
    "start_time": "2022-09-02T16:12:38.172Z"
   },
   {
    "duration": 138,
    "start_time": "2022-09-02T16:12:54.612Z"
   },
   {
    "duration": 906,
    "start_time": "2022-09-02T16:12:58.672Z"
   },
   {
    "duration": 1040,
    "start_time": "2022-09-02T16:13:34.481Z"
   },
   {
    "duration": 44,
    "start_time": "2022-09-02T16:13:35.523Z"
   },
   {
    "duration": 289,
    "start_time": "2022-09-02T16:13:35.569Z"
   },
   {
    "duration": 30,
    "start_time": "2022-09-02T16:13:35.860Z"
   },
   {
    "duration": 13,
    "start_time": "2022-09-02T16:13:35.892Z"
   },
   {
    "duration": 9,
    "start_time": "2022-09-02T16:13:35.906Z"
   },
   {
    "duration": 13,
    "start_time": "2022-09-02T16:13:35.917Z"
   },
   {
    "duration": 4,
    "start_time": "2022-09-02T16:13:35.932Z"
   },
   {
    "duration": 6,
    "start_time": "2022-09-02T16:13:35.938Z"
   },
   {
    "duration": 10,
    "start_time": "2022-09-02T16:13:35.946Z"
   },
   {
    "duration": 8,
    "start_time": "2022-09-02T16:13:35.957Z"
   },
   {
    "duration": 20,
    "start_time": "2022-09-02T16:13:35.967Z"
   },
   {
    "duration": 6,
    "start_time": "2022-09-02T16:13:35.989Z"
   },
   {
    "duration": 26,
    "start_time": "2022-09-02T16:13:35.997Z"
   },
   {
    "duration": 8,
    "start_time": "2022-09-02T16:13:36.025Z"
   },
   {
    "duration": 11,
    "start_time": "2022-09-02T16:13:36.034Z"
   },
   {
    "duration": 15,
    "start_time": "2022-09-02T16:13:36.047Z"
   },
   {
    "duration": 117,
    "start_time": "2022-09-02T16:13:36.063Z"
   },
   {
    "duration": 206,
    "start_time": "2022-09-02T16:13:36.181Z"
   },
   {
    "duration": 1001,
    "start_time": "2022-09-02T16:13:36.389Z"
   },
   {
    "duration": 2,
    "start_time": "2022-09-02T16:13:37.392Z"
   },
   {
    "duration": 29,
    "start_time": "2022-09-02T16:13:37.396Z"
   },
   {
    "duration": 8,
    "start_time": "2022-09-02T16:13:37.426Z"
   },
   {
    "duration": 5,
    "start_time": "2022-09-02T16:13:37.435Z"
   },
   {
    "duration": 5707,
    "start_time": "2022-09-02T16:13:37.441Z"
   },
   {
    "duration": 3,
    "start_time": "2022-09-02T16:13:43.149Z"
   },
   {
    "duration": 8,
    "start_time": "2022-09-02T16:13:43.153Z"
   },
   {
    "duration": 9,
    "start_time": "2022-09-02T16:13:43.164Z"
   },
   {
    "duration": 12,
    "start_time": "2022-09-02T16:13:43.175Z"
   },
   {
    "duration": 6,
    "start_time": "2022-09-02T16:13:43.189Z"
   },
   {
    "duration": 466,
    "start_time": "2022-09-02T16:13:43.197Z"
   },
   {
    "duration": 3,
    "start_time": "2022-09-02T16:13:43.665Z"
   },
   {
    "duration": 6,
    "start_time": "2022-09-02T16:13:43.669Z"
   },
   {
    "duration": 2,
    "start_time": "2022-09-02T16:13:43.686Z"
   },
   {
    "duration": 16,
    "start_time": "2022-09-02T16:13:43.690Z"
   },
   {
    "duration": 40,
    "start_time": "2022-09-02T16:13:43.707Z"
   },
   {
    "duration": 6,
    "start_time": "2022-09-02T16:13:43.749Z"
   },
   {
    "duration": 7,
    "start_time": "2022-09-02T16:13:43.757Z"
   },
   {
    "duration": 11,
    "start_time": "2022-09-02T16:13:43.765Z"
   },
   {
    "duration": 12,
    "start_time": "2022-09-02T16:13:43.778Z"
   },
   {
    "duration": 9,
    "start_time": "2022-09-02T16:13:43.791Z"
   },
   {
    "duration": 4,
    "start_time": "2022-09-02T16:13:43.801Z"
   },
   {
    "duration": 14,
    "start_time": "2022-09-02T16:13:43.806Z"
   },
   {
    "duration": 7,
    "start_time": "2022-09-02T16:13:43.821Z"
   },
   {
    "duration": 18,
    "start_time": "2022-09-02T16:13:43.829Z"
   },
   {
    "duration": 11,
    "start_time": "2022-09-02T16:13:43.849Z"
   },
   {
    "duration": 157,
    "start_time": "2022-09-02T16:13:43.861Z"
   },
   {
    "duration": 3,
    "start_time": "2022-09-02T16:13:44.020Z"
   },
   {
    "duration": 8,
    "start_time": "2022-09-02T16:13:44.025Z"
   },
   {
    "duration": 7,
    "start_time": "2022-09-02T16:13:44.035Z"
   },
   {
    "duration": 6,
    "start_time": "2022-09-02T16:13:44.044Z"
   },
   {
    "duration": 9,
    "start_time": "2022-09-02T16:13:44.052Z"
   },
   {
    "duration": 25,
    "start_time": "2022-09-02T16:13:44.063Z"
   },
   {
    "duration": 20,
    "start_time": "2022-09-02T16:13:44.089Z"
   },
   {
    "duration": 6,
    "start_time": "2022-09-02T16:13:44.110Z"
   },
   {
    "duration": 8,
    "start_time": "2022-09-02T16:13:44.117Z"
   },
   {
    "duration": 1086,
    "start_time": "2022-09-05T08:34:47.631Z"
   },
   {
    "duration": 44,
    "start_time": "2022-09-05T08:34:48.720Z"
   },
   {
    "duration": 457,
    "start_time": "2022-09-05T08:34:48.766Z"
   },
   {
    "duration": 73,
    "start_time": "2022-09-05T08:34:49.225Z"
   },
   {
    "duration": 14,
    "start_time": "2022-09-05T08:34:49.300Z"
   },
   {
    "duration": 4,
    "start_time": "2022-09-05T08:34:49.315Z"
   },
   {
    "duration": 11,
    "start_time": "2022-09-05T08:34:49.321Z"
   },
   {
    "duration": 6,
    "start_time": "2022-09-05T08:34:49.333Z"
   },
   {
    "duration": 6,
    "start_time": "2022-09-05T08:34:49.341Z"
   },
   {
    "duration": 8,
    "start_time": "2022-09-05T08:34:49.350Z"
   },
   {
    "duration": 5,
    "start_time": "2022-09-05T08:34:49.359Z"
   },
   {
    "duration": 7,
    "start_time": "2022-09-05T08:34:49.365Z"
   },
   {
    "duration": 14,
    "start_time": "2022-09-05T08:34:49.373Z"
   },
   {
    "duration": 12,
    "start_time": "2022-09-05T08:34:49.388Z"
   },
   {
    "duration": 6,
    "start_time": "2022-09-05T08:34:49.402Z"
   },
   {
    "duration": 7,
    "start_time": "2022-09-05T08:34:49.410Z"
   },
   {
    "duration": 10,
    "start_time": "2022-09-05T08:34:49.419Z"
   },
   {
    "duration": 141,
    "start_time": "2022-09-05T08:34:49.430Z"
   },
   {
    "duration": 176,
    "start_time": "2022-09-05T08:34:49.573Z"
   },
   {
    "duration": 946,
    "start_time": "2022-09-05T08:34:49.751Z"
   },
   {
    "duration": 3,
    "start_time": "2022-09-05T08:34:50.698Z"
   },
   {
    "duration": 38,
    "start_time": "2022-09-05T08:34:50.703Z"
   },
   {
    "duration": 8,
    "start_time": "2022-09-05T08:34:50.743Z"
   },
   {
    "duration": 10,
    "start_time": "2022-09-05T08:34:50.754Z"
   },
   {
    "duration": 5233,
    "start_time": "2022-09-05T08:34:50.765Z"
   },
   {
    "duration": 572,
    "start_time": "2022-09-05T08:34:56.000Z"
   },
   {
    "duration": 2,
    "start_time": "2022-09-05T08:34:56.573Z"
   },
   {
    "duration": 35,
    "start_time": "2022-09-05T08:34:56.578Z"
   },
   {
    "duration": 5,
    "start_time": "2022-09-05T08:34:56.615Z"
   },
   {
    "duration": 14,
    "start_time": "2022-09-05T08:34:56.621Z"
   },
   {
    "duration": 8,
    "start_time": "2022-09-05T08:34:56.636Z"
   },
   {
    "duration": 11,
    "start_time": "2022-09-05T08:34:56.645Z"
   },
   {
    "duration": 5,
    "start_time": "2022-09-05T08:34:56.658Z"
   },
   {
    "duration": 12,
    "start_time": "2022-09-05T08:34:56.664Z"
   },
   {
    "duration": 11,
    "start_time": "2022-09-05T08:34:56.678Z"
   },
   {
    "duration": 15,
    "start_time": "2022-09-05T08:34:56.691Z"
   },
   {
    "duration": 87,
    "start_time": "2022-09-05T08:34:56.708Z"
   },
   {
    "duration": 4,
    "start_time": "2022-09-05T08:34:56.796Z"
   },
   {
    "duration": 11,
    "start_time": "2022-09-05T08:34:56.801Z"
   },
   {
    "duration": 9,
    "start_time": "2022-09-05T08:34:56.813Z"
   },
   {
    "duration": 14,
    "start_time": "2022-09-05T08:34:56.824Z"
   },
   {
    "duration": 11,
    "start_time": "2022-09-05T08:34:56.840Z"
   },
   {
    "duration": 3,
    "start_time": "2022-09-05T08:36:26.529Z"
   },
   {
    "duration": 4,
    "start_time": "2022-09-05T08:37:06.221Z"
   },
   {
    "duration": 5,
    "start_time": "2022-09-05T08:37:33.029Z"
   },
   {
    "duration": 6,
    "start_time": "2022-09-05T08:38:00.126Z"
   },
   {
    "duration": 4,
    "start_time": "2022-09-05T08:41:04.230Z"
   },
   {
    "duration": 108,
    "start_time": "2022-09-05T09:01:48.980Z"
   },
   {
    "duration": 933,
    "start_time": "2022-09-05T09:02:23.477Z"
   },
   {
    "duration": 717,
    "start_time": "2022-09-05T09:02:42.119Z"
   },
   {
    "duration": 127,
    "start_time": "2022-09-05T09:09:06.911Z"
   },
   {
    "duration": 133,
    "start_time": "2022-09-05T09:09:43.836Z"
   },
   {
    "duration": 138,
    "start_time": "2022-09-05T09:10:30.536Z"
   },
   {
    "duration": 137,
    "start_time": "2022-09-05T09:10:48.282Z"
   },
   {
    "duration": 147,
    "start_time": "2022-09-05T09:10:54.485Z"
   },
   {
    "duration": 198,
    "start_time": "2022-09-05T09:11:41.503Z"
   },
   {
    "duration": 130,
    "start_time": "2022-09-05T09:11:50.813Z"
   },
   {
    "duration": 118,
    "start_time": "2022-09-05T09:12:25.947Z"
   },
   {
    "duration": 107,
    "start_time": "2022-09-05T09:12:30.306Z"
   },
   {
    "duration": 128,
    "start_time": "2022-09-05T09:12:49.759Z"
   },
   {
    "duration": 129,
    "start_time": "2022-09-05T09:15:13.827Z"
   },
   {
    "duration": 125,
    "start_time": "2022-09-05T09:15:35.733Z"
   },
   {
    "duration": 122,
    "start_time": "2022-09-05T09:15:52.262Z"
   },
   {
    "duration": 130,
    "start_time": "2022-09-05T09:16:03.349Z"
   },
   {
    "duration": 125,
    "start_time": "2022-09-05T09:17:00.284Z"
   },
   {
    "duration": 143,
    "start_time": "2022-09-05T09:17:11.225Z"
   },
   {
    "duration": 208,
    "start_time": "2022-09-05T09:17:33.385Z"
   },
   {
    "duration": 118,
    "start_time": "2022-09-05T09:17:37.811Z"
   },
   {
    "duration": 422,
    "start_time": "2022-09-05T09:17:48.272Z"
   },
   {
    "duration": 114,
    "start_time": "2022-09-05T09:17:56.903Z"
   },
   {
    "duration": 330,
    "start_time": "2022-09-05T09:18:10.303Z"
   },
   {
    "duration": 148,
    "start_time": "2022-09-05T09:18:16.268Z"
   },
   {
    "duration": 200,
    "start_time": "2022-09-05T09:19:54.503Z"
   },
   {
    "duration": 123,
    "start_time": "2022-09-05T09:20:27.527Z"
   },
   {
    "duration": 116,
    "start_time": "2022-09-05T09:20:39.306Z"
   },
   {
    "duration": 117,
    "start_time": "2022-09-05T09:21:11.990Z"
   },
   {
    "duration": 130,
    "start_time": "2022-09-05T09:21:19.862Z"
   },
   {
    "duration": 127,
    "start_time": "2022-09-05T09:21:44.152Z"
   },
   {
    "duration": 130,
    "start_time": "2022-09-05T09:21:49.594Z"
   },
   {
    "duration": 109,
    "start_time": "2022-09-05T09:22:05.718Z"
   },
   {
    "duration": 103,
    "start_time": "2022-09-05T09:22:15.127Z"
   },
   {
    "duration": 123,
    "start_time": "2022-09-05T09:22:23.981Z"
   },
   {
    "duration": 106,
    "start_time": "2022-09-05T09:22:29.121Z"
   },
   {
    "duration": 99,
    "start_time": "2022-09-05T09:22:43.813Z"
   },
   {
    "duration": 106,
    "start_time": "2022-09-05T09:22:51.902Z"
   },
   {
    "duration": 93,
    "start_time": "2022-09-05T09:25:03.322Z"
   },
   {
    "duration": 97,
    "start_time": "2022-09-05T09:25:14.205Z"
   },
   {
    "duration": 10,
    "start_time": "2022-09-05T09:25:47.461Z"
   },
   {
    "duration": 218,
    "start_time": "2022-09-05T09:26:21.274Z"
   },
   {
    "duration": 96,
    "start_time": "2022-09-05T09:27:08.187Z"
   },
   {
    "duration": 96,
    "start_time": "2022-09-05T09:27:12.346Z"
   },
   {
    "duration": 96,
    "start_time": "2022-09-05T09:27:28.527Z"
   },
   {
    "duration": 97,
    "start_time": "2022-09-05T09:28:06.398Z"
   },
   {
    "duration": 94,
    "start_time": "2022-09-05T09:28:13.199Z"
   },
   {
    "duration": 96,
    "start_time": "2022-09-05T09:28:42.787Z"
   },
   {
    "duration": 97,
    "start_time": "2022-09-05T09:28:48.384Z"
   },
   {
    "duration": 120,
    "start_time": "2022-09-05T09:37:50.266Z"
   },
   {
    "duration": 243,
    "start_time": "2022-09-05T09:38:19.531Z"
   },
   {
    "duration": 239,
    "start_time": "2022-09-05T09:39:12.829Z"
   },
   {
    "duration": 247,
    "start_time": "2022-09-05T09:39:32.444Z"
   },
   {
    "duration": 139,
    "start_time": "2022-09-05T09:41:30.064Z"
   },
   {
    "duration": 126,
    "start_time": "2022-09-05T09:42:00.845Z"
   },
   {
    "duration": 233,
    "start_time": "2022-09-05T09:42:28.530Z"
   },
   {
    "duration": 112,
    "start_time": "2022-09-05T09:44:41.281Z"
   },
   {
    "duration": 211,
    "start_time": "2022-09-05T09:44:46.651Z"
   },
   {
    "duration": 99,
    "start_time": "2022-09-05T09:45:28.434Z"
   },
   {
    "duration": 114,
    "start_time": "2022-09-05T09:45:36.457Z"
   },
   {
    "duration": 99,
    "start_time": "2022-09-05T09:45:48.442Z"
   },
   {
    "duration": 97,
    "start_time": "2022-09-05T09:45:57.182Z"
   },
   {
    "duration": 104,
    "start_time": "2022-09-05T09:46:41.622Z"
   },
   {
    "duration": 117,
    "start_time": "2022-09-05T09:48:32.051Z"
   }
  ],
  "kernelspec": {
   "display_name": "Python 3",
   "language": "python",
   "name": "python3"
  },
  "language_info": {
   "codemirror_mode": {
    "name": "ipython",
    "version": 3
   },
   "file_extension": ".py",
   "mimetype": "text/x-python",
   "name": "python",
   "nbconvert_exporter": "python",
   "pygments_lexer": "ipython3",
   "version": "3.8.5"
  },
  "toc": {
   "base_numbering": 1,
   "nav_menu": {},
   "number_sections": true,
   "sideBar": true,
   "skip_h1_title": true,
   "title_cell": "Table of Contents",
   "title_sidebar": "Contents",
   "toc_cell": false,
   "toc_position": {},
   "toc_section_display": true,
   "toc_window_display": false
  }
 },
 "nbformat": 4,
 "nbformat_minor": 2
}
