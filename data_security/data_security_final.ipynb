{
 "cells": [
  {
   "cell_type": "markdown",
   "metadata": {
    "toc": true
   },
   "source": [
    "<h1>Содержание<span class=\"tocSkip\"></span></h1>\n",
    "<div class=\"toc\"><ul class=\"toc-item\"><li><span><a href=\"#Загрузка-данных\" data-toc-modified-id=\"Загрузка-данных-1\"><span class=\"toc-item-num\">1&nbsp;&nbsp;</span>Загрузка данных</a></span></li><li><span><a href=\"#Умножение-матриц\" data-toc-modified-id=\"Умножение-матриц-2\"><span class=\"toc-item-num\">2&nbsp;&nbsp;</span>Умножение матриц</a></span></li><li><span><a href=\"#Алгоритм-преобразования\" data-toc-modified-id=\"Алгоритм-преобразования-3\"><span class=\"toc-item-num\">3&nbsp;&nbsp;</span>Алгоритм преобразования</a></span></li><li><span><a href=\"#Проверка-алгоритма\" data-toc-modified-id=\"Проверка-алгоритма-4\"><span class=\"toc-item-num\">4&nbsp;&nbsp;</span>Проверка алгоритма</a></span></li><li><span><a href=\"#Декодирование-данных\" data-toc-modified-id=\"Декодирование-данных-5\"><span class=\"toc-item-num\">5&nbsp;&nbsp;</span>Декодирование данных</a></span></li><li><span><a href=\"#Вывод\" data-toc-modified-id=\"Вывод-6\"><span class=\"toc-item-num\">6&nbsp;&nbsp;</span>Вывод</a></span></li></ul></div>"
   ]
  },
  {
   "cell_type": "markdown",
   "metadata": {},
   "source": [
    "# Защита персональных данных клиентов"
   ]
  },
  {
   "cell_type": "markdown",
   "metadata": {},
   "source": [
    "В проекте необходимо защитить данные клиентов страховой компании. Планируется разработать такой метод преобразования данных, чтобы по ним было сложно восстановить персональную информацию. Требуется обосновать корректность его работы.\n",
    "\n",
    "Нужно защитить данные, чтобы при преобразовании качество моделей машинного обучения не ухудшилось. Подбирать наилучшую модель не требуется.\n",
    "\n",
    "Набор данных находится в файле insurance.csv. \n",
    "\n",
    "\t• Признаки: пол, возраст и зарплата застрахованного, количество членов его семьи.\n",
    "    • Целевой признак: количество страховых выплат клиенту за последние 5 лет."
   ]
  },
  {
   "cell_type": "markdown",
   "metadata": {},
   "source": [
    "## Загрузка данных"
   ]
  },
  {
   "cell_type": "code",
   "execution_count": 25,
   "metadata": {},
   "outputs": [],
   "source": [
    "# загрузим необходимые библиотеки\n",
    "import pandas as pd\n",
    "import os\n",
    "import numpy as np\n",
    "from matplotlib import pyplot as plt"
   ]
  },
  {
   "cell_type": "code",
   "execution_count": 2,
   "metadata": {},
   "outputs": [],
   "source": [
    "from sklearn.metrics import r2_score"
   ]
  },
  {
   "cell_type": "code",
   "execution_count": 3,
   "metadata": {},
   "outputs": [],
   "source": [
    "# загрузим данные\n",
    "path_1 = 'insurance.csv'\n",
    "path_2 = '/datasets/insurance.csv'\n",
    "\n",
    "if os.path.exists(path_1):\n",
    "    data = pd.read_csv(path_1)\n",
    "elif os.path.exists(path_2):\n",
    "    data = pd.read_csv(path_2)\n",
    "else:\n",
    "    print('Something is wrong')\n"
   ]
  },
  {
   "cell_type": "code",
   "execution_count": 4,
   "metadata": {},
   "outputs": [
    {
     "data": {
      "text/html": [
       "<div>\n",
       "<style scoped>\n",
       "    .dataframe tbody tr th:only-of-type {\n",
       "        vertical-align: middle;\n",
       "    }\n",
       "\n",
       "    .dataframe tbody tr th {\n",
       "        vertical-align: top;\n",
       "    }\n",
       "\n",
       "    .dataframe thead th {\n",
       "        text-align: right;\n",
       "    }\n",
       "</style>\n",
       "<table border=\"1\" class=\"dataframe\">\n",
       "  <thead>\n",
       "    <tr style=\"text-align: right;\">\n",
       "      <th></th>\n",
       "      <th>Пол</th>\n",
       "      <th>Возраст</th>\n",
       "      <th>Зарплата</th>\n",
       "      <th>Члены семьи</th>\n",
       "      <th>Страховые выплаты</th>\n",
       "    </tr>\n",
       "  </thead>\n",
       "  <tbody>\n",
       "    <tr>\n",
       "      <th>4995</th>\n",
       "      <td>0</td>\n",
       "      <td>28.0</td>\n",
       "      <td>35700.0</td>\n",
       "      <td>2</td>\n",
       "      <td>0</td>\n",
       "    </tr>\n",
       "    <tr>\n",
       "      <th>4996</th>\n",
       "      <td>0</td>\n",
       "      <td>34.0</td>\n",
       "      <td>52400.0</td>\n",
       "      <td>1</td>\n",
       "      <td>0</td>\n",
       "    </tr>\n",
       "    <tr>\n",
       "      <th>4997</th>\n",
       "      <td>0</td>\n",
       "      <td>20.0</td>\n",
       "      <td>33900.0</td>\n",
       "      <td>2</td>\n",
       "      <td>0</td>\n",
       "    </tr>\n",
       "    <tr>\n",
       "      <th>4998</th>\n",
       "      <td>1</td>\n",
       "      <td>22.0</td>\n",
       "      <td>32700.0</td>\n",
       "      <td>3</td>\n",
       "      <td>0</td>\n",
       "    </tr>\n",
       "    <tr>\n",
       "      <th>4999</th>\n",
       "      <td>1</td>\n",
       "      <td>28.0</td>\n",
       "      <td>40600.0</td>\n",
       "      <td>1</td>\n",
       "      <td>0</td>\n",
       "    </tr>\n",
       "  </tbody>\n",
       "</table>\n",
       "</div>"
      ],
      "text/plain": [
       "      Пол  Возраст  Зарплата  Члены семьи  Страховые выплаты\n",
       "4995    0     28.0   35700.0            2                  0\n",
       "4996    0     34.0   52400.0            1                  0\n",
       "4997    0     20.0   33900.0            2                  0\n",
       "4998    1     22.0   32700.0            3                  0\n",
       "4999    1     28.0   40600.0            1                  0"
      ]
     },
     "execution_count": 4,
     "metadata": {},
     "output_type": "execute_result"
    }
   ],
   "source": [
    "# изучим данные\n",
    "data.tail()"
   ]
  },
  {
   "cell_type": "code",
   "execution_count": 5,
   "metadata": {},
   "outputs": [
    {
     "name": "stdout",
     "output_type": "stream",
     "text": [
      "<class 'pandas.core.frame.DataFrame'>\n",
      "RangeIndex: 5000 entries, 0 to 4999\n",
      "Data columns (total 5 columns):\n",
      " #   Column             Non-Null Count  Dtype  \n",
      "---  ------             --------------  -----  \n",
      " 0   Пол                5000 non-null   int64  \n",
      " 1   Возраст            5000 non-null   float64\n",
      " 2   Зарплата           5000 non-null   float64\n",
      " 3   Члены семьи        5000 non-null   int64  \n",
      " 4   Страховые выплаты  5000 non-null   int64  \n",
      "dtypes: float64(2), int64(3)\n",
      "memory usage: 195.4 KB\n"
     ]
    }
   ],
   "source": [
    "data.info()"
   ]
  },
  {
   "cell_type": "markdown",
   "metadata": {},
   "source": [
    "Данные и необходимые библиотеки загружены. Размер датафрейма 5000 х 4. Пропусков не обнаружено."
   ]
  },
  {
   "cell_type": "code",
   "execution_count": 19,
   "metadata": {},
   "outputs": [
    {
     "data": {
      "text/html": [
       "<div>\n",
       "<style scoped>\n",
       "    .dataframe tbody tr th:only-of-type {\n",
       "        vertical-align: middle;\n",
       "    }\n",
       "\n",
       "    .dataframe tbody tr th {\n",
       "        vertical-align: top;\n",
       "    }\n",
       "\n",
       "    .dataframe thead th {\n",
       "        text-align: right;\n",
       "    }\n",
       "</style>\n",
       "<table border=\"1\" class=\"dataframe\">\n",
       "  <thead>\n",
       "    <tr style=\"text-align: right;\">\n",
       "      <th></th>\n",
       "      <th>Пол</th>\n",
       "      <th>Возраст</th>\n",
       "      <th>Зарплата</th>\n",
       "      <th>Члены семьи</th>\n",
       "      <th>Страховые выплаты</th>\n",
       "    </tr>\n",
       "  </thead>\n",
       "  <tbody>\n",
       "    <tr>\n",
       "      <th>count</th>\n",
       "      <td>5000.000000</td>\n",
       "      <td>5000.000000</td>\n",
       "      <td>5000.000000</td>\n",
       "      <td>5000.000000</td>\n",
       "      <td>5000.000000</td>\n",
       "    </tr>\n",
       "    <tr>\n",
       "      <th>mean</th>\n",
       "      <td>0.499000</td>\n",
       "      <td>30.952800</td>\n",
       "      <td>39916.360000</td>\n",
       "      <td>1.194200</td>\n",
       "      <td>0.148000</td>\n",
       "    </tr>\n",
       "    <tr>\n",
       "      <th>std</th>\n",
       "      <td>0.500049</td>\n",
       "      <td>8.440807</td>\n",
       "      <td>9900.083569</td>\n",
       "      <td>1.091387</td>\n",
       "      <td>0.463183</td>\n",
       "    </tr>\n",
       "    <tr>\n",
       "      <th>min</th>\n",
       "      <td>0.000000</td>\n",
       "      <td>18.000000</td>\n",
       "      <td>5300.000000</td>\n",
       "      <td>0.000000</td>\n",
       "      <td>0.000000</td>\n",
       "    </tr>\n",
       "    <tr>\n",
       "      <th>25%</th>\n",
       "      <td>0.000000</td>\n",
       "      <td>24.000000</td>\n",
       "      <td>33300.000000</td>\n",
       "      <td>0.000000</td>\n",
       "      <td>0.000000</td>\n",
       "    </tr>\n",
       "    <tr>\n",
       "      <th>50%</th>\n",
       "      <td>0.000000</td>\n",
       "      <td>30.000000</td>\n",
       "      <td>40200.000000</td>\n",
       "      <td>1.000000</td>\n",
       "      <td>0.000000</td>\n",
       "    </tr>\n",
       "    <tr>\n",
       "      <th>75%</th>\n",
       "      <td>1.000000</td>\n",
       "      <td>37.000000</td>\n",
       "      <td>46600.000000</td>\n",
       "      <td>2.000000</td>\n",
       "      <td>0.000000</td>\n",
       "    </tr>\n",
       "    <tr>\n",
       "      <th>max</th>\n",
       "      <td>1.000000</td>\n",
       "      <td>65.000000</td>\n",
       "      <td>79000.000000</td>\n",
       "      <td>6.000000</td>\n",
       "      <td>5.000000</td>\n",
       "    </tr>\n",
       "  </tbody>\n",
       "</table>\n",
       "</div>"
      ],
      "text/plain": [
       "               Пол      Возраст      Зарплата  Члены семьи  Страховые выплаты\n",
       "count  5000.000000  5000.000000   5000.000000  5000.000000        5000.000000\n",
       "mean      0.499000    30.952800  39916.360000     1.194200           0.148000\n",
       "std       0.500049     8.440807   9900.083569     1.091387           0.463183\n",
       "min       0.000000    18.000000   5300.000000     0.000000           0.000000\n",
       "25%       0.000000    24.000000  33300.000000     0.000000           0.000000\n",
       "50%       0.000000    30.000000  40200.000000     1.000000           0.000000\n",
       "75%       1.000000    37.000000  46600.000000     2.000000           0.000000\n",
       "max       1.000000    65.000000  79000.000000     6.000000           5.000000"
      ]
     },
     "execution_count": 19,
     "metadata": {},
     "output_type": "execute_result"
    }
   ],
   "source": [
    "data.describe()"
   ]
  },
  {
   "cell_type": "markdown",
   "metadata": {},
   "source": [
    "В таблице практически равномерно распределены данные между мужсинами и женщинами. Средний возраст застрахованного составляет 31 год, при этом медиана составляет 30 лет. Границы по возрасту от 18 до 65 лет. Средняя зарплата 40 тыс. руб.  "
   ]
  },
  {
   "cell_type": "code",
   "execution_count": 26,
   "metadata": {},
   "outputs": [
    {
     "data": {
      "image/png": "[encoded data removed]",
      "text/plain": [
       "<Figure size 432x288 with 1 Axes>"
      ]
     },
     "metadata": {
      "needs_background": "light"
     },
     "output_type": "display_data"
    }
   ],
   "source": [
    "# посмотрим зависимость между возрастом и страховыми выплатами\n",
    "data.plot(x='Возраст', y='Страховые выплаты', kind='scatter', alpha=0.3)\n",
    "plt.title('Корреляция между возрастом и страховыми выплатами')\n",
    "plt.show()"
   ]
  },
  {
   "cell_type": "code",
   "execution_count": 28,
   "metadata": {},
   "outputs": [
    {
     "name": "stdout",
     "output_type": "stream",
     "text": [
      "Коэффициент корреляции пирсона между возрастом и страховыми выплатами 0.65\n"
     ]
    }
   ],
   "source": [
    "print('Коэффициент корреляции пирсона между возрастом и страховыми выплатами', round(data['Возраст'].corr(data['Страховые выплаты']), 2))"
   ]
  },
  {
   "cell_type": "markdown",
   "metadata": {},
   "source": [
    "Возраст и количество страховых выплат клиенту за последние 5 лет имеют достаточно высокую корреляцию . Чем старше застрахованное лицо, тем более вероятно он потребует страховку чаще, следовательно, несёт в себе больше рисков для компании."
   ]
  },
  {
   "cell_type": "markdown",
   "metadata": {},
   "source": [
    "## Умножение матриц \n",
    "\n",
    "Необходимо проработать вопрос, если признаки умножают на обратимую матрицу, то изменится ли качество линейной регрессии?"
   ]
  },
  {
   "cell_type": "markdown",
   "metadata": {},
   "source": [
    "Заказчику требуется обосновать решение."
   ]
  },
  {
   "cell_type": "markdown",
   "metadata": {},
   "source": [
    "Предварительно видны следующие варианты:\n",
    "\n",
    "    a. Изменится. В этом случае необходимо привести примеры матриц.\n",
    "    \n",
    "    b. Не изменится. Потребуется указать, как связаны параметры линейной регрессии в исходной задаче и в преобразованной."
   ]
  },
  {
   "cell_type": "markdown",
   "metadata": {},
   "source": [
    "Обозначения:\n",
    "\n",
    "- $X$ — матрица признаков (нулевой столбец состоит из единиц)\n",
    "\n",
    "- $y$ — вектор целевого признака\n",
    "\n",
    "- $P$ — матрица, на которую умножаются признаки\n",
    "\n",
    "- $w$ — вектор весов линейной регрессии (нулевой элемент равен сдвигу)"
   ]
  },
  {
   "cell_type": "markdown",
   "metadata": {},
   "source": [
    "- $w$ — вектор весов линейной регрессии (нулевой элемент равен сдвигу)\n",
    "$$\n",
    "a = Xw\n",
    "$$"
   ]
  },
  {
   "cell_type": "markdown",
   "metadata": {},
   "source": [
    "Предсказания:\n",
    "\n",
    "$$\n",
    "a = Xw\n",
    "$$\n",
    "\n",
    "Задача обучения:\n",
    "\n",
    "$$\n",
    "w = \\arg\\min_w MSE(Xw, y)\n",
    "$$\n",
    "\n",
    "Формула обучения:\n",
    "\n",
    "$$\n",
    "w = (X^T X)^{-1} X^T y\n",
    "$$"
   ]
  },
  {
   "cell_type": "markdown",
   "metadata": {},
   "source": [
    "**Ответ:** Если признаки умножаются на обратимую матрицу качество линейной регрессии не изменится\n",
    "\n"
   ]
  },
  {
   "cell_type": "markdown",
   "metadata": {},
   "source": [
    "**Обоснование:** \n",
    "    \n",
    "$\n",
    "Z = XP\n",
    "$\n",
    "\n",
    "$X$ - матрица признаков в сокращенной записи (1й столбец из единиц)\n",
    "\n",
    "$P$ - обратимая (а значит квадратная) матрица на которую умножается матрица признаков\n",
    "\n",
    "$\n",
    "a = Xw\n",
    "$\n",
    "\n",
    "$\n",
    "w = (X^T X)^{-1} X^T y\n",
    "$\n",
    "\n",
    "$\n",
    "a1 = Zw1\n",
    "$\n",
    "\n",
    "$\n",
    "w1 = (Z^T Z)^{-1} Z^T y = ((XP)^T XP)^{-1} (XP)^T y = (P^TX^TXP)^{-1} (XP)^T y  \n",
    "= P^{-1}(X^TX)^{-1}(P^T)^{-1} (XP)^T y \n",
    "$\n",
    "\n",
    "Для обоснования нашего утверждения докажем равенство \n",
    "$\n",
    "a = a1\n",
    "$\n",
    "\n",
    "$\n",
    "Xw = Zw1\n",
    "$\n",
    "\n",
    "$\n",
    "X(X^T X)^{-1} X^T y = XP P^{-1}(X^TX)^{-1}(P^T)^{-1} (XP)^T y \n",
    "$\n",
    "\n",
    "$\n",
    "X X^T  = XP P^{-1}(P^T)^{-1} (XP)^T \n",
    "$\n",
    "\n",
    "\n",
    "$\n",
    "X^T  = P P^{-1}(P^T)^{-1} (XP)^T \n",
    "$\n",
    "\n",
    "$\n",
    "X^T  = (P^T)^{-1} (XP)^T \n",
    "$\n",
    "\n",
    "$\n",
    "X^T  = (P^T)^{-1}  P^T X^T \n",
    "$\n",
    "\n",
    "$\n",
    "X^T  =  X^T \n",
    "$\n",
    "\n",
    "Равенство верно, соответственно, наше утверждение доказано!\n",
    "Если признаки умножаются на обратимую матрицу качество линейной регрессии не изменится."
   ]
  },
  {
   "cell_type": "markdown",
   "metadata": {},
   "source": [
    "## Алгоритм преобразования"
   ]
  },
  {
   "cell_type": "markdown",
   "metadata": {},
   "source": [
    "В качестве алгоритма преобразования предлагается умножение матрицы признаков на обратимую квадратную матрицу размерами по числу полей матрицы признаков. Выше доказано, что предсказания а равны предсказаниям а1."
   ]
  },
  {
   "cell_type": "markdown",
   "metadata": {},
   "source": [
    "**Алгоритм**\n",
    "\n",
    "Запрограммируем этот алгоритм, применив матричные операции. Проверим, что качество линейной регрессии не отличается до и после преобразования. Применим метрику R2."
   ]
  },
  {
   "cell_type": "code",
   "execution_count": 6,
   "metadata": {},
   "outputs": [],
   "source": [
    "class LinearRegression:\n",
    "    \n",
    "    '''Класс линейной регрессии'''\n",
    "    def fit(self, X, y):\n",
    "        '''Метод обучения модели для матрицы признаков'''\n",
    "        # Формируем матрицу X с первым единичным полем\n",
    "        X = np.concatenate((np.ones((X.shape[0], 1)), X), axis=1)        \n",
    "        # вектов весов для матрицы признаков\n",
    "        self.w = np.linalg.inv(X.T @ X) @ X.T @ y\n",
    "        \n",
    "    def fit_encryption(self, X, y):\n",
    "        '''Метод обучения модели для матрицы зашифрованных данных'''\n",
    "        # Формируем матрицу X с первым единичным полем\n",
    "        X = np.concatenate((np.ones((X.shape[0], 1)), X), axis=1)\n",
    "        # Формируем рандомную квадратную матрицу 5 на 5\n",
    "        self.P = np.random.normal(0, 100, (5,5))\n",
    "        #  матрица зашифрованных данных\n",
    "        Z = X @ self.P\n",
    "        self.w = np.linalg.inv(Z.T @ Z) @ Z.T @ y\n",
    "\n",
    "\n",
    "    def predict(self, features):\n",
    "        '''Метод получения прогноза для матрицы признаков'''\n",
    "        X = np.concatenate((np.ones((features.shape[0], 1)), features), axis=1)\n",
    "        a = X @ self.w\n",
    "        return a\n",
    "    \n",
    "    def predict_encryption(self, features):\n",
    "        '''Метод получения прогноза для матрицы зашифрованных данных'''\n",
    "        X = np.concatenate((np.ones((features.shape[0], 1)), features), axis=1)        \n",
    "        Z = X @ self.P\n",
    "        a_1 = Z @ self.w\n",
    "        return a_1\n",
    "\n",
    "\n",
    "    \n",
    "        "
   ]
  },
  {
   "cell_type": "code",
   "execution_count": 7,
   "metadata": {},
   "outputs": [],
   "source": [
    "class LinearRegression_2:\n",
    "    \n",
    "    '''Класс линейной регрессии'''\n",
    "    def fit(self, X, y):\n",
    "        '''Метод обучения модели для матрицы признаков'''\n",
    "        # Формируем матрицу X с первым единичным полем\n",
    "        X = np.concatenate((np.ones((X.shape[0], 1)), X), axis=1)        \n",
    "        # вектов весов для матрицы признаков\n",
    "        self.w = np.linalg.inv(X.T @ X) @ X.T @ y\n",
    "        \n",
    "    def fit_encryption(self, X, y):\n",
    "        '''Метод обучения модели для матрицы зашифрованных данных'''\n",
    "\n",
    "        # Формируем рандомную квадратную матрицу 4 на 4\n",
    "        self.P = np.random.normal(0, 100, (4,4))\n",
    "        # проверка на обратимость Р\n",
    "        try:\n",
    "            p_inv = np.linalg.inv(self.P)\n",
    "            #  матрица зашифрованных данных\n",
    "            Z = X @ self.P\n",
    "            # добавляем 1 в пепрвое поле для соответствия условию краткой записи\n",
    "            Z = np.concatenate((np.ones((Z.shape[0], 1)), Z), axis=1)\n",
    "            self.w = np.linalg.inv(Z.T @ Z) @ Z.T @ y\n",
    "        except:\n",
    "            print('Матрица p необратима')\n",
    "\n",
    "    def predict(self, X):\n",
    "        '''Метод получения прогноза для матрицы признаков'''\n",
    "        X = np.concatenate((np.ones((X.shape[0], 1)), X), axis=1)\n",
    "        a = X @ self.w\n",
    "        return a\n",
    "    \n",
    "    def predict_encryption(self, X):\n",
    "        '''Метод получения прогноза для матрицы зашифрованных данных'''\n",
    "        # Зашифровываем данные        \n",
    "        self.Z = X @ self.P\n",
    "        # добавляем 1 в пепрвое поле для соответствия условию краткой записи\n",
    "        self.Z_ = np.concatenate((np.ones((self.Z.shape[0], 1)), self.Z), axis=1)\n",
    "        a_1 = self.Z_ @ self.w\n",
    "        return a_1\n",
    "      "
   ]
  },
  {
   "cell_type": "markdown",
   "metadata": {},
   "source": [
    "**Обоснование**\n",
    "В основе описанного алгоритма лежит доказанное выше утверждение\n",
    "\n",
    "что при Z = X @ P, прогнозы будут равны\n",
    "$\n",
    "a = a1 \n",
    "$"
   ]
  },
  {
   "cell_type": "markdown",
   "metadata": {},
   "source": [
    "## Проверка алгоритма"
   ]
  },
  {
   "cell_type": "code",
   "execution_count": 8,
   "metadata": {},
   "outputs": [],
   "source": [
    "# подготовим неободимые объекты\n",
    "features = data.drop('Страховые выплаты', axis = 1)\n",
    "target = data['Страховые выплаты']"
   ]
  },
  {
   "cell_type": "code",
   "execution_count": 9,
   "metadata": {},
   "outputs": [
    {
     "data": {
      "text/plain": [
       "array([ 0.51172715,  0.68431581,  0.09373365, ..., -0.25697046,\n",
       "       -0.19099161,  0.04904991])"
      ]
     },
     "execution_count": 9,
     "metadata": {},
     "output_type": "execute_result"
    }
   ],
   "source": [
    "# прогнозная модель для матрицы признаков\n",
    "model = LinearRegression()\n",
    "model.fit(features, target)\n",
    "predictions_X = model.predict(features)\n",
    "predictions_X"
   ]
  },
  {
   "cell_type": "code",
   "execution_count": 10,
   "metadata": {},
   "outputs": [
    {
     "data": {
      "text/plain": [
       "0.425"
      ]
     },
     "execution_count": 10,
     "metadata": {},
     "output_type": "execute_result"
    }
   ],
   "source": [
    "# Показатель r2 модели матрицы признаков\n",
    "round(r2_score(target, predictions_X), 3)"
   ]
  },
  {
   "cell_type": "code",
   "execution_count": 11,
   "metadata": {},
   "outputs": [
    {
     "data": {
      "text/plain": [
       "array([ 0.51019254,  0.69344337,  0.08860965, ..., -0.25440319,\n",
       "       -0.1969594 ,  0.04045638])"
      ]
     },
     "execution_count": 11,
     "metadata": {},
     "output_type": "execute_result"
    }
   ],
   "source": [
    "# прогнозная модель для зашифрованной матрицы\n",
    "model.fit_encryption(features, target)\n",
    "predictions_Z = model.predict_encryption(features)\n",
    "predictions_Z\n"
   ]
  },
  {
   "cell_type": "code",
   "execution_count": 12,
   "metadata": {},
   "outputs": [
    {
     "data": {
      "text/plain": [
       "0.425"
      ]
     },
     "execution_count": 12,
     "metadata": {},
     "output_type": "execute_result"
    }
   ],
   "source": [
    "# Показатель r2 модели матрицы зашифрованных данных\n",
    "round(r2_score(target, predictions_Z), 3)"
   ]
  },
  {
   "cell_type": "markdown",
   "metadata": {},
   "source": [
    "Проверка алгоритма по классу LinearRegression_2"
   ]
  },
  {
   "cell_type": "code",
   "execution_count": 13,
   "metadata": {},
   "outputs": [
    {
     "data": {
      "text/plain": [
       "array([ 0.51172715,  0.68431581,  0.09373365, ..., -0.25697046,\n",
       "       -0.19099161,  0.04904991])"
      ]
     },
     "execution_count": 13,
     "metadata": {},
     "output_type": "execute_result"
    }
   ],
   "source": [
    "# прогнозная модель для матрицы признаков\n",
    "model_2 = LinearRegression_2()\n",
    "model_2.fit(features, target)\n",
    "predictions_X = model_2.predict(features)\n",
    "predictions_X"
   ]
  },
  {
   "cell_type": "code",
   "execution_count": 14,
   "metadata": {},
   "outputs": [
    {
     "data": {
      "text/plain": [
       "0.425"
      ]
     },
     "execution_count": 14,
     "metadata": {},
     "output_type": "execute_result"
    }
   ],
   "source": [
    "# Показатель r2 модели матрицы признаков\n",
    "round(r2_score(target, predictions_X), 3)"
   ]
  },
  {
   "cell_type": "code",
   "execution_count": 15,
   "metadata": {},
   "outputs": [
    {
     "data": {
      "text/plain": [
       "array([ 0.51172716,  0.68431576,  0.09373363, ..., -0.25697049,\n",
       "       -0.19099158,  0.04904993])"
      ]
     },
     "execution_count": 15,
     "metadata": {},
     "output_type": "execute_result"
    }
   ],
   "source": [
    "# прогнозная модель для зашифрованной матрицы\n",
    "model_2.fit_encryption(features, target)\n",
    "predictions_Z = model_2.predict_encryption(features)\n",
    "predictions_Z"
   ]
  },
  {
   "cell_type": "code",
   "execution_count": 16,
   "metadata": {},
   "outputs": [
    {
     "data": {
      "text/plain": [
       "0.425"
      ]
     },
     "execution_count": 16,
     "metadata": {},
     "output_type": "execute_result"
    }
   ],
   "source": [
    "# Показатель r2 модели матрицы зашифрованных данных\n",
    "round(r2_score(target, predictions_Z), 3)"
   ]
  },
  {
   "cell_type": "markdown",
   "metadata": {},
   "source": []
  },
  {
   "cell_type": "markdown",
   "metadata": {},
   "source": [
    "Показатели r2 модели матрицы признаков и модели на зашифрованных данных совпали. Это подтверждает наше утвержение что умножение на матрицы признаков на случайную квадратную матрицу зашифровывает данные и не влияет на качество оценки модели машинного обучения."
   ]
  },
  {
   "cell_type": "markdown",
   "metadata": {},
   "source": [
    "## Декодирование данных"
   ]
  },
  {
   "cell_type": "code",
   "execution_count": 17,
   "metadata": {},
   "outputs": [
    {
     "data": {
      "text/html": [
       "<div>\n",
       "<style scoped>\n",
       "    .dataframe tbody tr th:only-of-type {\n",
       "        vertical-align: middle;\n",
       "    }\n",
       "\n",
       "    .dataframe tbody tr th {\n",
       "        vertical-align: top;\n",
       "    }\n",
       "\n",
       "    .dataframe thead th {\n",
       "        text-align: right;\n",
       "    }\n",
       "</style>\n",
       "<table border=\"1\" class=\"dataframe\">\n",
       "  <thead>\n",
       "    <tr style=\"text-align: right;\">\n",
       "      <th></th>\n",
       "      <th>0</th>\n",
       "      <th>1</th>\n",
       "      <th>2</th>\n",
       "      <th>3</th>\n",
       "    </tr>\n",
       "  </thead>\n",
       "  <tbody>\n",
       "    <tr>\n",
       "      <th>4995</th>\n",
       "      <td>5.456968e-12</td>\n",
       "      <td>28.0</td>\n",
       "      <td>35700.0</td>\n",
       "      <td>2.0</td>\n",
       "    </tr>\n",
       "    <tr>\n",
       "      <th>4996</th>\n",
       "      <td>1.091394e-11</td>\n",
       "      <td>34.0</td>\n",
       "      <td>52400.0</td>\n",
       "      <td>1.0</td>\n",
       "    </tr>\n",
       "    <tr>\n",
       "      <th>4997</th>\n",
       "      <td>7.275958e-12</td>\n",
       "      <td>20.0</td>\n",
       "      <td>33900.0</td>\n",
       "      <td>2.0</td>\n",
       "    </tr>\n",
       "    <tr>\n",
       "      <th>4998</th>\n",
       "      <td>1.000000e+00</td>\n",
       "      <td>22.0</td>\n",
       "      <td>32700.0</td>\n",
       "      <td>3.0</td>\n",
       "    </tr>\n",
       "    <tr>\n",
       "      <th>4999</th>\n",
       "      <td>1.000000e+00</td>\n",
       "      <td>28.0</td>\n",
       "      <td>40600.0</td>\n",
       "      <td>1.0</td>\n",
       "    </tr>\n",
       "  </tbody>\n",
       "</table>\n",
       "</div>"
      ],
      "text/plain": [
       "                 0     1        2    3\n",
       "4995  5.456968e-12  28.0  35700.0  2.0\n",
       "4996  1.091394e-11  34.0  52400.0  1.0\n",
       "4997  7.275958e-12  20.0  33900.0  2.0\n",
       "4998  1.000000e+00  22.0  32700.0  3.0\n",
       "4999  1.000000e+00  28.0  40600.0  1.0"
      ]
     },
     "execution_count": 17,
     "metadata": {},
     "output_type": "execute_result"
    }
   ],
   "source": [
    "# Расшифруем данные\n",
    "X_new = model_2.Z @ np.linalg.inv(model_2.P)\n",
    "X_new.tail()"
   ]
  },
  {
   "cell_type": "code",
   "execution_count": 18,
   "metadata": {},
   "outputs": [
    {
     "name": "stdout",
     "output_type": "stream",
     "text": [
      "Данные после расшифровки совпали с оригиналом\n"
     ]
    }
   ],
   "source": [
    "# Сверим расшифрованные данные с оригиналом\n",
    "count = 0\n",
    "for i in range(len(X_new)):\n",
    "    if (np.round(X_new.values[i], 0) == np.round(features.values[i],0)).all() == True:\n",
    "        pass\n",
    "    else:\n",
    "        count += 1\n",
    "        break\n",
    "if count > 0:\n",
    "    print('Данные после расшифровки не совпали с оригиналом')\n",
    "else:\n",
    "    print('Данные после расшифровки совпали с оригиналом')"
   ]
  },
  {
   "cell_type": "markdown",
   "metadata": {},
   "source": [
    "## Вывод"
   ]
  },
  {
   "attachments": {},
   "cell_type": "markdown",
   "metadata": {},
   "source": [
    "В данном проекте в качестве алгоритма шифрования предлагается умножение матрицы признаков на обратимую квадратную матрицу. Приведено теоретическое обоснование  данного алгоритма. В основе описанного алгоритма лежит доказанное выше утверждение\n",
    "что при Z = X @ P, прогнозы будут равны 𝑎=𝑎1\n",
    "\n",
    " Предложены два варианта его реализации. На практике подтверждено, что шифрование данных не повлияло на качество прогноза линейной регрессии. Для оценки применялась метрика качества R2. \n",
    "\n",
    "В предложенных вариантах алгоритма подробно расписан метод линейной регрессии с вычислением вектора коэффициентов, и получением прогноза на основе скалярного произведения матрицы признаков с данным вектором.\n",
    "\n",
    "Показатели r2 модели матрицы признаков и модели на зашифрованных данных совпали. Это подтверждает наше утверждение, что умножение на матрицы признаков на случайную квадратную матрицу зашифровывает данные, и не влияет на качество оценки модели машинного обучения.\n",
    "Также удалось успешно расшифровать матрицу признаков.  Данные после расшифровки совпали с оригиналом."
   ]
  }
 ],
 "metadata": {
  "ExecuteTimeLog": [
   {
    "duration": 369,
    "start_time": "2022-11-25T20:48:09.656Z"
   },
   {
    "duration": 661,
    "start_time": "2022-11-25T20:48:10.027Z"
   },
   {
    "duration": 148,
    "start_time": "2022-11-25T20:48:10.690Z"
   },
   {
    "duration": 19,
    "start_time": "2022-11-25T20:48:10.840Z"
   },
   {
    "duration": 15,
    "start_time": "2022-11-25T20:48:10.861Z"
   },
   {
    "duration": 6,
    "start_time": "2022-11-25T20:48:10.879Z"
   },
   {
    "duration": 12,
    "start_time": "2022-11-25T20:48:10.887Z"
   },
   {
    "duration": 15,
    "start_time": "2022-11-25T20:48:10.901Z"
   },
   {
    "duration": 96,
    "start_time": "2022-11-25T20:48:10.920Z"
   },
   {
    "duration": 101,
    "start_time": "2022-11-25T20:48:11.019Z"
   },
   {
    "duration": 99,
    "start_time": "2022-11-25T20:48:11.122Z"
   },
   {
    "duration": 7,
    "start_time": "2022-11-25T21:03:03.616Z"
   },
   {
    "duration": 7,
    "start_time": "2022-11-25T21:03:57.943Z"
   },
   {
    "duration": 6,
    "start_time": "2022-11-25T21:04:22.754Z"
   },
   {
    "duration": 7,
    "start_time": "2022-11-25T21:04:45.895Z"
   },
   {
    "duration": 5,
    "start_time": "2022-11-25T21:04:51.654Z"
   },
   {
    "duration": 214,
    "start_time": "2022-11-25T21:05:03.467Z"
   },
   {
    "duration": 6,
    "start_time": "2022-11-25T21:09:42.996Z"
   },
   {
    "duration": 15,
    "start_time": "2022-11-25T21:09:50.413Z"
   },
   {
    "duration": 6,
    "start_time": "2022-11-25T21:10:52.594Z"
   },
   {
    "duration": 9,
    "start_time": "2022-11-25T21:10:55.329Z"
   },
   {
    "duration": 7,
    "start_time": "2022-11-25T21:10:58.406Z"
   },
   {
    "duration": 5,
    "start_time": "2022-11-25T21:11:25.022Z"
   },
   {
    "duration": 8,
    "start_time": "2022-11-25T21:13:00.213Z"
   },
   {
    "duration": 5,
    "start_time": "2022-11-25T21:13:14.761Z"
   },
   {
    "duration": 6,
    "start_time": "2022-11-25T21:17:50.537Z"
   },
   {
    "duration": 5,
    "start_time": "2022-11-25T21:17:53.830Z"
   },
   {
    "duration": 7,
    "start_time": "2022-11-25T21:18:02.344Z"
   },
   {
    "duration": 6,
    "start_time": "2022-11-25T21:18:05.445Z"
   },
   {
    "duration": 4,
    "start_time": "2022-11-25T21:42:23.555Z"
   },
   {
    "duration": 14,
    "start_time": "2022-11-25T21:43:18.105Z"
   },
   {
    "duration": 10,
    "start_time": "2022-11-25T21:44:11.791Z"
   },
   {
    "duration": 19,
    "start_time": "2022-11-25T21:50:02.160Z"
   },
   {
    "duration": 13,
    "start_time": "2022-11-25T21:50:13.277Z"
   },
   {
    "duration": 10,
    "start_time": "2022-11-25T21:50:44.804Z"
   },
   {
    "duration": 9,
    "start_time": "2022-11-25T21:52:42.608Z"
   },
   {
    "duration": 5,
    "start_time": "2022-11-25T21:52:56.582Z"
   },
   {
    "duration": 4,
    "start_time": "2022-11-25T21:53:03.119Z"
   },
   {
    "duration": 6,
    "start_time": "2022-11-25T21:53:35.273Z"
   },
   {
    "duration": 9,
    "start_time": "2022-11-25T21:53:54.524Z"
   },
   {
    "duration": 9,
    "start_time": "2022-11-25T21:54:11.840Z"
   },
   {
    "duration": 4,
    "start_time": "2022-11-25T21:54:22.565Z"
   },
   {
    "duration": 9,
    "start_time": "2022-11-25T21:54:27.371Z"
   },
   {
    "duration": 12,
    "start_time": "2022-11-25T21:54:58.531Z"
   },
   {
    "duration": 148,
    "start_time": "2022-11-25T21:55:10.451Z"
   },
   {
    "duration": 6,
    "start_time": "2022-11-25T21:55:32.217Z"
   },
   {
    "duration": 3,
    "start_time": "2022-11-25T21:55:38.260Z"
   },
   {
    "duration": 5,
    "start_time": "2022-11-25T21:56:22.985Z"
   },
   {
    "duration": 6,
    "start_time": "2022-11-25T21:56:35.354Z"
   },
   {
    "duration": 3,
    "start_time": "2022-11-25T22:08:32.675Z"
   },
   {
    "duration": 4,
    "start_time": "2022-11-25T22:08:43.352Z"
   },
   {
    "duration": 5,
    "start_time": "2022-11-25T22:11:43.296Z"
   },
   {
    "duration": 4,
    "start_time": "2022-11-25T22:11:50.804Z"
   },
   {
    "duration": 4,
    "start_time": "2022-11-25T22:12:04.122Z"
   },
   {
    "duration": 5,
    "start_time": "2022-11-25T22:12:21.379Z"
   },
   {
    "duration": 5,
    "start_time": "2022-11-25T22:13:00.513Z"
   },
   {
    "duration": 5,
    "start_time": "2022-11-25T22:13:13.262Z"
   },
   {
    "duration": 5,
    "start_time": "2022-11-25T22:13:23.009Z"
   },
   {
    "duration": 11,
    "start_time": "2022-11-25T22:16:40.141Z"
   },
   {
    "duration": 13,
    "start_time": "2022-11-25T22:16:49.233Z"
   },
   {
    "duration": 5,
    "start_time": "2022-11-25T22:17:30.895Z"
   },
   {
    "duration": 5,
    "start_time": "2022-11-25T22:17:35.332Z"
   },
   {
    "duration": 9,
    "start_time": "2022-11-25T22:22:06.880Z"
   },
   {
    "duration": 12,
    "start_time": "2022-11-25T22:23:08.149Z"
   },
   {
    "duration": 8,
    "start_time": "2022-11-25T22:23:18.024Z"
   },
   {
    "duration": 10,
    "start_time": "2022-11-25T22:23:41.902Z"
   },
   {
    "duration": 4,
    "start_time": "2022-11-25T22:25:42.737Z"
   },
   {
    "duration": 4,
    "start_time": "2022-11-25T22:26:05.363Z"
   },
   {
    "duration": 5,
    "start_time": "2022-11-25T22:27:04.678Z"
   },
   {
    "duration": 5,
    "start_time": "2022-11-25T22:27:08.907Z"
   },
   {
    "duration": 5,
    "start_time": "2022-11-25T22:27:40.165Z"
   },
   {
    "duration": 5,
    "start_time": "2022-11-25T22:28:00.364Z"
   },
   {
    "duration": 10,
    "start_time": "2022-11-25T22:29:40.313Z"
   },
   {
    "duration": 26,
    "start_time": "2022-11-25T22:29:54.948Z"
   },
   {
    "duration": 28,
    "start_time": "2022-11-25T22:30:17.161Z"
   },
   {
    "duration": 6,
    "start_time": "2022-11-25T22:30:33.912Z"
   },
   {
    "duration": 5,
    "start_time": "2022-11-25T22:30:48.760Z"
   },
   {
    "duration": 5,
    "start_time": "2022-11-25T22:30:56.100Z"
   },
   {
    "duration": 28,
    "start_time": "2022-11-25T22:31:34.554Z"
   },
   {
    "duration": 5,
    "start_time": "2022-11-25T22:32:01.860Z"
   },
   {
    "duration": 5,
    "start_time": "2022-11-25T22:32:15.867Z"
   },
   {
    "duration": 5,
    "start_time": "2022-11-25T22:32:28.148Z"
   },
   {
    "duration": 5,
    "start_time": "2022-11-25T22:33:53.852Z"
   },
   {
    "duration": 4,
    "start_time": "2022-11-25T22:34:01.728Z"
   },
   {
    "duration": 4,
    "start_time": "2022-11-25T22:34:07.876Z"
   },
   {
    "duration": 1495,
    "start_time": "2022-11-25T22:35:57.078Z"
   },
   {
    "duration": 3,
    "start_time": "2022-11-25T22:36:42.473Z"
   },
   {
    "duration": 4,
    "start_time": "2022-11-25T22:36:51.636Z"
   },
   {
    "duration": 365,
    "start_time": "2022-11-25T22:36:55.898Z"
   },
   {
    "duration": 4,
    "start_time": "2022-11-25T22:37:40.925Z"
   },
   {
    "duration": 398,
    "start_time": "2022-11-25T22:37:51.767Z"
   },
   {
    "duration": 414,
    "start_time": "2022-11-25T22:38:33.428Z"
   },
   {
    "duration": 5,
    "start_time": "2022-11-25T22:39:28.361Z"
   },
   {
    "duration": 9,
    "start_time": "2022-11-25T22:39:37.015Z"
   },
   {
    "duration": 5,
    "start_time": "2022-11-25T22:44:24.439Z"
   },
   {
    "duration": 4,
    "start_time": "2022-11-25T22:44:27.480Z"
   },
   {
    "duration": 5,
    "start_time": "2022-11-25T22:44:39.522Z"
   },
   {
    "duration": 44,
    "start_time": "2022-11-25T22:45:45.978Z"
   },
   {
    "duration": 10,
    "start_time": "2022-11-25T22:45:51.181Z"
   },
   {
    "duration": 4,
    "start_time": "2022-11-25T22:46:00.691Z"
   },
   {
    "duration": 11,
    "start_time": "2022-11-25T22:46:15.768Z"
   },
   {
    "duration": 10,
    "start_time": "2022-11-25T22:46:39.194Z"
   },
   {
    "duration": 5,
    "start_time": "2022-11-25T22:46:56.459Z"
   },
   {
    "duration": 5,
    "start_time": "2022-11-25T22:47:11.640Z"
   },
   {
    "duration": 4794,
    "start_time": "2022-11-25T22:47:33.661Z"
   },
   {
    "duration": 3979,
    "start_time": "2022-11-25T22:48:07.890Z"
   },
   {
    "duration": 4,
    "start_time": "2022-11-25T22:48:49.057Z"
   },
   {
    "duration": 9,
    "start_time": "2022-11-25T22:49:01.400Z"
   },
   {
    "duration": 5,
    "start_time": "2022-11-25T22:49:25.668Z"
   },
   {
    "duration": 11,
    "start_time": "2022-11-25T22:50:58.012Z"
   },
   {
    "duration": 3,
    "start_time": "2022-11-25T22:51:14.775Z"
   },
   {
    "duration": 4,
    "start_time": "2022-11-25T22:51:20.445Z"
   },
   {
    "duration": 11,
    "start_time": "2022-11-25T22:51:24.737Z"
   },
   {
    "duration": 10,
    "start_time": "2022-11-25T22:51:29.833Z"
   },
   {
    "duration": 11,
    "start_time": "2022-11-25T22:54:40.050Z"
   },
   {
    "duration": 367,
    "start_time": "2022-11-25T22:55:04.932Z"
   },
   {
    "duration": 2,
    "start_time": "2022-11-25T22:55:33.002Z"
   },
   {
    "duration": 4,
    "start_time": "2022-11-25T22:55:58.814Z"
   },
   {
    "duration": 4,
    "start_time": "2022-11-25T22:56:14.280Z"
   },
   {
    "duration": 388,
    "start_time": "2022-11-25T22:58:58.992Z"
   },
   {
    "duration": 40,
    "start_time": "2022-11-25T23:00:34.641Z"
   },
   {
    "duration": 6,
    "start_time": "2022-11-25T23:00:46.119Z"
   },
   {
    "duration": 5,
    "start_time": "2022-11-25T23:01:08.252Z"
   },
   {
    "duration": 5,
    "start_time": "2022-11-25T23:01:25.626Z"
   },
   {
    "duration": 6,
    "start_time": "2022-11-25T23:01:43.796Z"
   },
   {
    "duration": 11,
    "start_time": "2022-11-25T23:01:47.969Z"
   },
   {
    "duration": 9,
    "start_time": "2022-11-25T23:02:05.419Z"
   },
   {
    "duration": 367,
    "start_time": "2022-11-25T23:04:57.774Z"
   },
   {
    "duration": 9,
    "start_time": "2022-11-25T23:07:32.723Z"
   },
   {
    "duration": 6,
    "start_time": "2022-11-25T23:07:43.203Z"
   },
   {
    "duration": 7,
    "start_time": "2022-11-25T23:07:55.819Z"
   },
   {
    "duration": 5,
    "start_time": "2022-11-25T23:07:58.924Z"
   },
   {
    "duration": 8,
    "start_time": "2022-11-25T23:08:02.105Z"
   },
   {
    "duration": 5,
    "start_time": "2022-11-25T23:08:12.862Z"
   },
   {
    "duration": 404,
    "start_time": "2022-11-26T09:18:15.789Z"
   },
   {
    "duration": 631,
    "start_time": "2022-11-26T09:18:16.195Z"
   },
   {
    "duration": 131,
    "start_time": "2022-11-26T09:18:16.828Z"
   },
   {
    "duration": 14,
    "start_time": "2022-11-26T09:18:16.962Z"
   },
   {
    "duration": 19,
    "start_time": "2022-11-26T09:18:16.977Z"
   },
   {
    "duration": 9,
    "start_time": "2022-11-26T09:18:16.997Z"
   },
   {
    "duration": 10,
    "start_time": "2022-11-26T09:18:17.007Z"
   },
   {
    "duration": 6,
    "start_time": "2022-11-26T09:18:17.019Z"
   },
   {
    "duration": 104,
    "start_time": "2022-11-26T09:18:17.026Z"
   },
   {
    "duration": 0,
    "start_time": "2022-11-26T09:18:17.132Z"
   },
   {
    "duration": 0,
    "start_time": "2022-11-26T09:18:17.133Z"
   },
   {
    "duration": 0,
    "start_time": "2022-11-26T09:18:17.134Z"
   },
   {
    "duration": 0,
    "start_time": "2022-11-26T09:18:17.135Z"
   },
   {
    "duration": 0,
    "start_time": "2022-11-26T09:18:17.136Z"
   },
   {
    "duration": 0,
    "start_time": "2022-11-26T09:18:17.137Z"
   },
   {
    "duration": 0,
    "start_time": "2022-11-26T09:18:17.138Z"
   },
   {
    "duration": 0,
    "start_time": "2022-11-26T09:18:17.139Z"
   },
   {
    "duration": 0,
    "start_time": "2022-11-26T09:18:17.140Z"
   },
   {
    "duration": 0,
    "start_time": "2022-11-26T09:18:17.141Z"
   },
   {
    "duration": 0,
    "start_time": "2022-11-26T09:18:17.142Z"
   },
   {
    "duration": 0,
    "start_time": "2022-11-26T09:18:17.143Z"
   },
   {
    "duration": 0,
    "start_time": "2022-11-26T09:18:17.144Z"
   },
   {
    "duration": 0,
    "start_time": "2022-11-26T09:18:17.145Z"
   },
   {
    "duration": 0,
    "start_time": "2022-11-26T09:18:17.146Z"
   },
   {
    "duration": 0,
    "start_time": "2022-11-26T09:18:17.147Z"
   },
   {
    "duration": 0,
    "start_time": "2022-11-26T09:18:17.149Z"
   },
   {
    "duration": 0,
    "start_time": "2022-11-26T09:18:17.150Z"
   },
   {
    "duration": 0,
    "start_time": "2022-11-26T09:18:17.151Z"
   },
   {
    "duration": 0,
    "start_time": "2022-11-26T09:18:17.152Z"
   },
   {
    "duration": 4,
    "start_time": "2022-11-26T09:19:10.169Z"
   },
   {
    "duration": 15,
    "start_time": "2022-11-26T09:19:12.828Z"
   },
   {
    "duration": 5,
    "start_time": "2022-11-26T09:19:16.930Z"
   },
   {
    "duration": 8,
    "start_time": "2022-11-26T09:19:20.610Z"
   },
   {
    "duration": 4,
    "start_time": "2022-11-26T09:19:24.663Z"
   },
   {
    "duration": 9,
    "start_time": "2022-11-26T09:19:28.964Z"
   },
   {
    "duration": 5,
    "start_time": "2022-11-26T09:19:33.131Z"
   },
   {
    "duration": 39,
    "start_time": "2022-11-26T09:19:37.345Z"
   },
   {
    "duration": 6,
    "start_time": "2022-11-26T09:20:09.819Z"
   },
   {
    "duration": 30,
    "start_time": "2022-11-26T09:20:19.251Z"
   },
   {
    "duration": 5,
    "start_time": "2022-11-26T09:20:23.090Z"
   },
   {
    "duration": 8,
    "start_time": "2022-11-26T09:20:26.619Z"
   },
   {
    "duration": 5,
    "start_time": "2022-11-26T09:20:33.162Z"
   },
   {
    "duration": 9,
    "start_time": "2022-11-26T09:22:49.569Z"
   },
   {
    "duration": 3,
    "start_time": "2022-11-26T09:23:48.450Z"
   },
   {
    "duration": 7,
    "start_time": "2022-11-26T09:24:12.762Z"
   },
   {
    "duration": 4,
    "start_time": "2022-11-26T09:24:33.419Z"
   },
   {
    "duration": 4,
    "start_time": "2022-11-26T09:25:06.389Z"
   },
   {
    "duration": 4,
    "start_time": "2022-11-26T09:25:37.816Z"
   },
   {
    "duration": 4,
    "start_time": "2022-11-26T09:33:54.217Z"
   },
   {
    "duration": 78,
    "start_time": "2022-11-26T09:34:07.641Z"
   },
   {
    "duration": 4,
    "start_time": "2022-11-26T09:34:40.921Z"
   },
   {
    "duration": 4,
    "start_time": "2022-11-26T09:35:08.628Z"
   },
   {
    "duration": 4,
    "start_time": "2022-11-26T09:35:20.958Z"
   },
   {
    "duration": 6,
    "start_time": "2022-11-26T09:40:28.609Z"
   },
   {
    "duration": 11,
    "start_time": "2022-11-26T09:40:52.059Z"
   },
   {
    "duration": 4,
    "start_time": "2022-11-26T09:40:55.569Z"
   },
   {
    "duration": 7,
    "start_time": "2022-11-26T09:40:59.289Z"
   },
   {
    "duration": 5,
    "start_time": "2022-11-26T09:41:03.438Z"
   },
   {
    "duration": 10,
    "start_time": "2022-11-26T09:42:13.656Z"
   },
   {
    "duration": 4,
    "start_time": "2022-11-26T09:43:02.208Z"
   },
   {
    "duration": 365,
    "start_time": "2022-11-26T09:43:16.828Z"
   },
   {
    "duration": 321,
    "start_time": "2022-11-26T09:44:14.778Z"
   },
   {
    "duration": 9,
    "start_time": "2022-11-26T09:45:00.558Z"
   },
   {
    "duration": 352,
    "start_time": "2022-11-26T09:49:04.148Z"
   },
   {
    "duration": 5,
    "start_time": "2022-11-26T10:06:53.718Z"
   },
   {
    "duration": 8,
    "start_time": "2022-11-26T10:07:04.429Z"
   },
   {
    "duration": 9,
    "start_time": "2022-11-26T10:07:12.458Z"
   },
   {
    "duration": 10,
    "start_time": "2022-11-26T10:07:15.549Z"
   },
   {
    "duration": 12,
    "start_time": "2022-11-26T10:07:19.469Z"
   },
   {
    "duration": 2,
    "start_time": "2022-11-26T10:12:35.227Z"
   },
   {
    "duration": 75,
    "start_time": "2022-11-26T10:23:58.179Z"
   },
   {
    "duration": 69,
    "start_time": "2022-11-26T10:25:36.490Z"
   },
   {
    "duration": 72,
    "start_time": "2022-11-26T10:26:08.650Z"
   },
   {
    "duration": 6,
    "start_time": "2022-11-26T10:26:29.920Z"
   },
   {
    "duration": 8,
    "start_time": "2022-11-26T10:27:08.229Z"
   },
   {
    "duration": 8,
    "start_time": "2022-11-26T10:27:11.819Z"
   },
   {
    "duration": 5,
    "start_time": "2022-11-26T10:27:15.248Z"
   },
   {
    "duration": 6,
    "start_time": "2022-11-26T10:27:18.998Z"
   }
  ],
  "kernelspec": {
   "display_name": "Python 3",
   "language": "python",
   "name": "python3"
  },
  "language_info": {
   "codemirror_mode": {
    "name": "ipython",
    "version": 3
   },
   "file_extension": ".py",
   "mimetype": "text/x-python",
   "name": "python",
   "nbconvert_exporter": "python",
   "pygments_lexer": "ipython3",
   "version": "3.8.3"
  },
  "toc": {
   "base_numbering": 1,
   "nav_menu": {},
   "number_sections": true,
   "sideBar": true,
   "skip_h1_title": true,
   "title_cell": "Содержание",
   "title_sidebar": "Contents",
   "toc_cell": true,
   "toc_position": {},
   "toc_section_display": true,
   "toc_window_display": true
  }
 },
 "nbformat": 4,
 "nbformat_minor": 2
}
